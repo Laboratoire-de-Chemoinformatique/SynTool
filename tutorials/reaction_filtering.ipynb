{
 "cells": [
  {
   "cell_type": "code",
   "execution_count": 1,
   "id": "69f03f58-fac5-44f4-827c-bf59a18da81b",
   "metadata": {},
   "outputs": [],
   "source": [
    "from Synto.chem.data.filtering import ReactionCheckConfig, filter_reactions"
   ]
  },
  {
   "cell_type": "code",
   "execution_count": 2,
   "id": "eb0012f7-bb26-43e9-a67b-b7f9d7705683",
   "metadata": {},
   "outputs": [],
   "source": [
    "from Synto.chem.data.filtering import NoReactionConfig, SmallMoleculesConfig\n",
    "from Synto.chem.data.filtering import DynamicBondsConfig, MultiCenterConfig\n",
    "from Synto.chem.data.filtering import WrongCHBreakingConfig, CCsp3BreakingConfig\n",
    "from Synto.chem.data.filtering import CCRingBreakingConfig"
   ]
  },
  {
   "cell_type": "code",
   "execution_count": 3,
   "id": "cb2da387-ef90-4025-b9a6-a239a787cab7",
   "metadata": {},
   "outputs": [],
   "source": [
    "uspto_path = \"/data/tagir/main/data/uspto/Reaction_Data_Cleaning/data/unpacked/uspto_arkadii_meta_2.rdf\""
   ]
  },
  {
   "cell_type": "code",
   "execution_count": 7,
   "id": "0cba2e46-7b07-43e5-b449-824b73b540db",
   "metadata": {},
   "outputs": [],
   "source": [
    "config = ReactionCheckConfig(\n",
    "    output_files_format=\"rdf\",\n",
    "    reaction_database_path=uspto_path,\n",
    "    result_directory_name=\"filtered_data_new/\",\n",
    "    num_cpus=6,\n",
    "    batch_size=100,\n",
    "    result_reactions_file_name='clean_reactions',\n",
    "    filtered_reactions_file_name='removed_reactions',\n",
    "    remove_small_molecules=False,\n",
    "    small_molecules_config=SmallMoleculesConfig(\n",
    "        limit=6\n",
    "    ),\n",
    "    dynamic_bonds_config=DynamicBondsConfig(\n",
    "        min_bonds_number=1,\n",
    "        max_bonds_number=6\n",
    "    ),\n",
    "    no_reaction_config=NoReactionConfig(),\n",
    "    multi_center_config=MultiCenterConfig(),\n",
    "    wrong_ch_breaking_config=WrongCHBreakingConfig(),\n",
    "    cc_sp3_breaking_config=CCsp3BreakingConfig(),\n",
    "    cc_ring_breaking_config=CCRingBreakingConfig()\n",
    ")"
   ]
  },
  {
   "cell_type": "code",
   "execution_count": 8,
   "id": "f221269a-2850-4825-b06a-3c94f138e4d9",
   "metadata": {},
   "outputs": [
    {
     "data": {
      "text/plain": [
       "ReactionCheckConfig(dynamic_bonds_config=DynamicBondsConfig(min_bonds_number=1, max_bonds_number=6), small_molecules_config=SmallMoleculesConfig(limit=6), strange_carbons_config=StrangeCarbonsConfig(), compete_products_config=CompeteProductsConfig(fingerprint_tanimoto_threshold=0.3, mcs_tanimoto_threshold=0.6), cgr_connected_components_config=CGRConnectedComponentsConfig(), rings_change_config=RingsChangeConfig(), no_reaction_config=NoReactionConfig(), multi_center_config=MultiCenterConfig(), wrong_ch_breaking_config=WrongCHBreakingConfig(), cc_sp3_breaking_config=CCsp3BreakingConfig(), cc_ring_breaking_config=CCRingBreakingConfig(), reaction_database_path='/data/tagir/main/data/uspto/Reaction_Data_Cleaning/data/unpacked/uspto_arkadii_meta_2.rdf', result_directory_name='filtered_data_new/', output_files_format='rdf', result_reactions_file_name='clean_reactions', filtered_reactions_file_name='removed_reactions', append_results=False, num_cpus=6, batch_size=100, min_popularity=3, rebalance_reaction=False, remove_reagents=True, reagents_max_size=7, remove_small_molecules=False, small_molecules_max_size=6)"
      ]
     },
     "execution_count": 8,
     "metadata": {},
     "output_type": "execute_result"
    }
   ],
   "source": [
    "config"
   ]
  },
  {
   "cell_type": "code",
   "execution_count": null,
   "id": "6d882bd4-1ca0-4a01-b64f-0c0d193c02d7",
   "metadata": {},
   "outputs": [],
   "source": [
    "filter_reactions(config)"
   ]
  }
 ],
 "metadata": {
  "kernelspec": {
   "display_name": "syntool_env",
   "language": "python",
   "name": "syntool_env"
  },
  "language_info": {
   "codemirror_mode": {
    "name": "ipython",
    "version": 3
   },
   "file_extension": ".py",
   "mimetype": "text/x-python",
   "name": "python",
   "nbconvert_exporter": "python",
   "pygments_lexer": "ipython3",
   "version": "3.11.6"
  }
 },
 "nbformat": 4,
 "nbformat_minor": 5
}
