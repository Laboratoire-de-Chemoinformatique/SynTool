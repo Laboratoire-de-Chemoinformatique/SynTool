{
 "cells": [
  {
   "cell_type": "markdown",
   "id": "15da330e-122c-4f2d-82bc-8a684a7bed90",
   "metadata": {},
   "source": [
    "# SynTool tutorial: from reaction data to retrosynthesis planning"
   ]
  },
  {
   "cell_type": "markdown",
   "id": "f185612b-e548-4110-9815-cedadf310f53",
   "metadata": {},
   "source": [
    "<font size=\"4\">This tutorial explains how to perform the retrosynthetic models training in SynTool</font>"
   ]
  },
  {
   "cell_type": "markdown",
   "id": "4f713051-9fd7-42f3-8f79-2e4c87c19641",
   "metadata": {},
   "source": [
    "**Introduction.** Welcome to the SynTool tutorial, a detailed guide on utilizing a sophisticated retrosynthesis planning tool that combines Monte Carlo Tree Search (MCTS) with neural networks. This tutorial is designed for synthetic chemists and chemoinformaticians looking to deepen their understanding and application of SynTool in their work.\n",
    "\n",
    "**About SynTool.** SynTool is aimed as a one-box solution for building retrosynthesis planners and includes the original modules for reaction data curation, reaction rules extraction, retrosynthetic models training, and retrosynthesis planning. SynTool is based on the open-source Python 3 packages for reaction chemoinformatics and deep learning frameworks.\n",
    "\n",
    "**Tutorial focus.** This tutorial will lead through the steps of extraction of reaction rules, training retrosynthetic models (ranking policy network), and retrosynthesis planning in SynTool."
   ]
  },
  {
   "cell_type": "markdown",
   "id": "f3a3a4e8-1590-4b51-86a5-f8cff7b08554",
   "metadata": {},
   "source": [
    "## 1. General imports and working directory"
   ]
  },
  {
   "cell_type": "code",
   "execution_count": 1,
   "id": "8f8e6d79-ef07-4dd1-8979-b514d4a5e78e",
   "metadata": {},
   "outputs": [],
   "source": [
    "import os\n",
    "import pickle\n",
    "from pathlib import Path"
   ]
  },
  {
   "cell_type": "code",
   "execution_count": 2,
   "id": "7d02388b-8df4-4d7c-ac4b-d22b93fda3d6",
   "metadata": {},
   "outputs": [],
   "source": [
    "root_folder = \"training_results\"  # replace this path where you want to keep all your results\n",
    "os.mkdir(root_folder)\n",
    "root_folder = Path(root_folder).resolve(strict=True)"
   ]
  },
  {
   "cell_type": "markdown",
   "id": "49c096e8-f13f-4d15-bbd8-d6a7553a944f",
   "metadata": {},
   "source": [
    "## 2. Download input data"
   ]
  },
  {
   "cell_type": "markdown",
   "id": "c3f604e1-ad73-4324-a60e-273e358b013f",
   "metadata": {},
   "source": [
    "The input data will be downloaded from the Google disk to the current location (./). The training data directory includes:\n",
    "\n",
    " - `uspto_standardized.smi` - the reaction dataset for reaction rules extraction and ranking policy network.\n",
    " - `building_blocks.smi` -  a set of building block molecules used in value neural network tuning (not considered in this tutorial) and in retrosynthesis planning.\n",
    " - `molecules_for_filtering_policy_training.smi` - a set of molecules for filtering policy network training (not considered in this tutorial)\n",
    " - `targets_for_value_network_training.smi` - a set of target molecules for planning simulations in value network tuning (not considered in this tutorial)."
   ]
  },
  {
   "cell_type": "code",
   "execution_count": 3,
   "id": "c5053330-261d-41e4-aeaa-901a20b4be02",
   "metadata": {},
   "outputs": [],
   "source": [
    "import os\n",
    "import shutil\n",
    "import gdown"
   ]
  },
  {
   "cell_type": "code",
   "execution_count": 4,
   "id": "8109b195-a0cb-4033-a223-ede260b9ed84",
   "metadata": {},
   "outputs": [
    {
     "name": "stderr",
     "output_type": "stream",
     "text": [
      "Downloading...\n",
      "From: https://drive.google.com/uc?id=1I2u4Zn-et-tlHmdLBAqclGiAiUuA1X5G\n",
      "To: /home1/dima/syntool/tutorials/syntool_training_data.zip\n",
      "100%|██████████████████████████████████████████████████| 128M/128M [00:02<00:00, 53.2MB/s]\n"
     ]
    }
   ],
   "source": [
    "remote_id = \"1I2u4Zn-et-tlHmdLBAqclGiAiUuA1X5G\"\n",
    "data_archive = os.path.join(\"syntool_training_data.zip\")\n",
    "gdown.download(output=data_archive, id=remote_id, quiet=False)\n",
    "\n",
    "shutil.unpack_archive(data_archive)\n",
    "os.remove(data_archive)\n",
    "if os.path.exists('__MACOSX'):\n",
    "    shutil.rmtree('__MACOSX')"
   ]
  },
  {
   "cell_type": "markdown",
   "id": "29abf54c-d4c9-4457-b55e-8c00e0919118",
   "metadata": {},
   "source": [
    "## 3. Reaction data filtration"
   ]
  },
  {
   "attachments": {},
   "cell_type": "markdown",
   "id": "e722673d-dd10-468e-9493-48dac1743ee1",
   "metadata": {},
   "source": [
    "In SynTool, reaction data filtration is a crucial step to ensure the quality and accuracy of the data used for retrosynthesis analysis. The USPTO dataset, a standardized but unfiltered collection of reaction records, serves as the primary data source. However, this dataset may contain records with no reaction center or atom-to-atom mapping errors. To address this, we apply several reaction filters:\n",
    "\n",
    "1. **No Reaction Filter**: Removes reactions with identical reactants and products.\n",
    "2. **Small Molecules Filter**: Excludes reactions where all reactants and products have ≤ specified number of heavy atoms.\n",
    "3. **Reaction Distance Filter**: Discards reactions with more than specified changed bonds.\n",
    "4. **Multi-Centre Reaction Filter**: Eliminates records with multiple reaction centers.\n",
    "5. **Csp3-C Breaking Filter**: Removes reactions where a bond between two sp3 carbons is broken, indicating potential mapping errors.\n",
    "6. **C-C Ring Breaking Filter**: Filters out reactions breaking a bond between two carbons in the same ring (sizes 5, 6, or 7), identified using the SSSR algorithm.\n",
    "7. **C-H Breaking Filter**: Removes reactions breaking a C-H bond to form a C-C bond, with exceptions for condensation reactions or those involving carbenes.\n",
    "\n",
    "First, we need to import the main config class called `ReactionCheckConfig`, which will encapsulate the list of reaction filters. Finally, we call the `filter_reactions` for filtering the input reaction data."
   ]
  },
  {
   "cell_type": "code",
   "execution_count": 5,
   "id": "2431d2d0-4f74-4e4f-aa89-d7dd5f810d3b",
   "metadata": {},
   "outputs": [],
   "source": [
    "from SynTool.chem.data.filtering import (ReactionFilterConfig, # the main config class    \n",
    "\n",
    "                                         # reaction filters:\n",
    "                                         CCRingBreakingConfig,\n",
    "                                         WrongCHBreakingConfig,\n",
    "                                         CCsp3BreakingConfig,\n",
    "                                         DynamicBondsConfig,\n",
    "                                         MultiCenterConfig,\n",
    "                                         NoReactionConfig,\n",
    "                                         SmallMoleculesConfig,\n",
    "                                         \n",
    "                                         filter_reactions_from_file # reaction filtration function\n",
    "                                         )"
   ]
  },
  {
   "cell_type": "markdown",
   "id": "c8e6717c-8886-46e0-ac00-be0cf211cca8",
   "metadata": {},
   "source": [
    "### Setting up the reaction filtration configuration\n",
    "\n",
    "The next step is to configure the reaction filtration process. We do this using the `ReactionCheckConfig` class in SynTool. This class allows for the specification of various parameters and settings for the filtration process.\n",
    "\n",
    "**Important**: if the reaction filter name is listed in the configuration file or in `ReactionCheckConfig`, it means that this filter will be activated. Also, some filters requires additional parameters (e.g. `small_molecules_config`)."
   ]
  },
  {
   "cell_type": "code",
   "execution_count": 6,
   "id": "6d5e4a23-e800-4f03-ba46-e3cb3737dc4d",
   "metadata": {},
   "outputs": [],
   "source": [
    "filtration_config = ReactionFilterConfig(\n",
    "    remove_small_molecules=False,  # flag to determine whether to remove small molecules\n",
    "    small_molecules_config=SmallMoleculesConfig(limit=6), # setting the heavy atoms limit for the small molecules filter\n",
    "    dynamic_bonds_config=DynamicBondsConfig(min_bonds_number=1,  # minimum number of dynamic bonds for a reaction\n",
    "                                            max_bonds_number=6), # maximum number of dynamic bonds for a reaction\n",
    "    no_reaction_config=NoReactionConfig(),  # configuration for the 'no reaction' filter.\n",
    "    multi_center_config=MultiCenterConfig(),  # configuration for the 'multi-center reaction' filter\n",
    "    wrong_ch_breaking_config=WrongCHBreakingConfig(),  # configuration for the 'C-H breaking' filter\n",
    "    cc_sp3_breaking_config=CCsp3BreakingConfig(),  # configuration for the 'Csp3-C breaking' filter\n",
    "    cc_ring_breaking_config=CCRingBreakingConfig())  # configuration for the 'C-C ring breaking' filter"
   ]
  },
  {
   "cell_type": "markdown",
   "id": "af490595-5444-4b4c-89df-6f26a21f6fa4",
   "metadata": {},
   "source": [
    "By setting up `filtration_config`, we are essentially telling SynTool what filters to apply and how to apply them. This step is crucial for ensuring that the data we use for further analysis is as accurate and reliable as possible. The reaction filters we apply here are based on the specific needs of our analysis and the characteristics of the USPTO dataset.\n",
    "\n",
    "Once this configuration is in place, we can proceed to apply these filters to our reaction data:"
   ]
  },
  {
   "cell_type": "code",
   "execution_count": 7,
   "id": "fb964f3a-5569-4b98-8979-f139a67ab3ef",
   "metadata": {},
   "outputs": [
    {
     "name": "stderr",
     "output_type": "stream",
     "text": [
      "Number of reactions processed: 1281718 [1:40:32]\n"
     ]
    },
    {
     "name": "stdout",
     "output_type": "stream",
     "text": [
      "Initial number of reactions: 1281718\n",
      "Removed number of reactions: 288432\n"
     ]
    }
   ],
   "source": [
    "reaction_data_path = Path(\"syntool_training_data/uspto_standardized.smi\").resolve(strict=True) # reaction data file\n",
    "\n",
    "filtered_data_path = root_folder.joinpath(\"uspto_filtered.smi\") # filtered reaction data file\n",
    "\n",
    "filter_reactions_from_file(config=filtration_config,\n",
    "                           input_reaction_data_path=reaction_data_path, # the path to the original reaction data file\n",
    "                           filtered_reaction_data_path=filtered_data_path, # the path to the filtered reaction data file\n",
    "                           num_cpus=4,\n",
    "                           batch_size=100)"
   ]
  },
  {
   "cell_type": "markdown",
   "id": "cbbc5add-1108-49d8-bbcf-d31fe9d57df2",
   "metadata": {},
   "source": [
    "## 4. Reaction rules extraction"
   ]
  },
  {
   "cell_type": "markdown",
   "id": "1cc434cb-d3af-4da6-a6d1-a649a6df2297",
   "metadata": {},
   "source": [
    "After filtering the reaction data, the next step in SynTool training pipeline is the extraction of reaction rules. The reaction rules define the transformations that can be applied to synthesize target molecules.\n",
    "\n",
    "### The extraction protocol\n",
    "The protocol for extracting reaction rules from reactions in SynTool utilizes the CGRtools Python library. This procedure involves the following steps:\n",
    "1. **Substructure Extraction**: For each reactant and product in a given reaction, substructures containing the atoms of the reaction center and their immediate environment are extracted.\n",
    "2. **Substructure Exchange**: The reactant and product substructures are then exchanged.\n",
    "3. **Reagents Handling**: If the reaction includes reagents, they are not incorporated into the retro-rule.\n",
    "4. **Label Preservation**: All labels related to the atoms of the reaction center, such as hybridization, the number of neighbors, and the ring sizes in which the atoms participate, are preserved. For atoms in the first environment, only the sizes of rings are preserved.\n",
    "\n",
    "The reaction rules formed by this protocol is applied to the product of the original reaction. If it successfully generates the reactants of the reaction, the reaction rule is considered valid.\n",
    "\n",
    "### Configuring reaction rule extraction\n",
    "The `ExtractRuleConfig` class in SynTool allows for the fine-tuning of how reaction rules are extracted. Key parameters of this class include:\n",
    "\n",
    "- **multicenter_rules**: Determines whether a single rule is extracted for all centers in multicenter reactions (`True`) or if separate rules are generated for each center (`False`). Default is `True`.\n",
    "- **as_query_container**: When set to `True`, the extracted rules are formatted as `QueryContainer` objects, similar to SMARTS for chemical pattern matching. Default is `True`.\n",
    "- **reverse_rule**: If `True`, the direction of the reaction is reversed during rule extraction, which is useful for retrosynthesis. Default is `True`.\n",
    "- **reactor_validation**: Activates the validation of each generated rule in a chemical reactor to confirm accurate generation of products from reactants when set to `True`. Default is `True`.\n",
    "- **include_func_groups**: If `True`, specific functional groups are included in the reaction rule in addition to the reaction center and its environment. Default is `False`.\n",
    "- **func_groups_list**: Specifies a list of functional groups to be included when `include_func_groups` is `True`.\n",
    "- **include_rings**: Includes ring structures in the reaction rules connected to the reaction center atoms if set to `True`. Default is `False`.\n",
    "- **keep_leaving_groups**: Keeps the leaving groups in the extracted reaction rule when set to `True`. Default is `False`.\n",
    "- **keep_incoming_groups**: Retains incoming groups in the extracted reaction rule if set to `True`. Default is `False`.\n",
    "- **keep_reagents**: Includes reagents in the extracted reaction rule when `True`. Default is `False`.\n",
    "- **environment_atom_count**: Sets the number of layers of atoms around the reaction center to be included in the rule. A value of `0` includes only the reaction center, `1` includes the first surrounding layer, and so on. Default is `1`.\n",
    "- **min_popularity**: Establishes the minimum number of times a rule must be applied to be included in further analysis. Default is `3`.\n",
    "- **keep_metadata**: Preserves associated metadata with the reaction in the extracted rule when set to `True`. Default is `False`.\n",
    "- **single_reactant_only**: Limits the extracted rules to those with only a single reactant molecule if `True`. Default is `True`.\n",
    "- **atom_info_retention**: Dictates the level of detail retained about atoms in the reaction center and their environment. Default settings retain information about neighbors, hybridization, implicit hydrogens, and ring sizes for both the reaction center and its environment. Default settings:\n",
    "    ```python\n",
    "    \n",
    "    {\n",
    "        \"reaction_center\": {\n",
    "            \"neighbors\": True,\n",
    "            \"hybridization\": True,\n",
    "            \"implicit_hydrogens\": False,\n",
    "            \"ring_sizes\": False,\n",
    "        },\n",
    "        \"environment\": {\n",
    "            \"neighbors\": False,\n",
    "            \"hybridization\": False,\n",
    "            \"implicit_hydrogens\": False,\n",
    "            \"ring_sizes\": False,\n",
    "        },\n",
    "    }\n",
    "    ```\n",
    "\n",
    "These settings are crucial for tailoring the reaction rule extraction process to the specific needs of the retrosynthesis analysis, ensuring that the rules are both accurate and relevant."
   ]
  },
  {
   "cell_type": "code",
   "execution_count": 8,
   "id": "420642b6-5a4a-4688-9b93-f8c068ac0a9f",
   "metadata": {},
   "outputs": [],
   "source": [
    "from SynTool.utils.config import RuleExtractionConfig\n",
    "from SynTool.chem.reaction_rules.extraction import extract_rules_from_reactions\n",
    "from SynTool.utils.loading import load_reaction_rules"
   ]
  },
  {
   "cell_type": "code",
   "execution_count": 9,
   "id": "0e1a6557-2532-48b8-8d41-3fe842665353",
   "metadata": {},
   "outputs": [],
   "source": [
    "extraction_config = RuleExtractionConfig(\n",
    "    keep_leaving_groups=True,\n",
    "    atom_info_retention = {\n",
    "        \"reaction_center\": {\n",
    "            \"neighbors\": True,  # retains information about neighboring atoms to the reaction center\n",
    "            \"hybridization\": True,  # preserves the hybridization state of atoms at the reaction center\n",
    "            \"implicit_hydrogens\": False,  # includes data on implicit hydrogen atoms attached to the reaction center\n",
    "            \"ring_sizes\": False,  # keeps information about the sizes of rings that reaction center atoms are part of\n",
    "        },\n",
    "        \"environment\": {\n",
    "            \"neighbors\": False,  # retains information about neighboring atoms to the atoms in the environment of the reaction center\n",
    "            \"hybridization\": False,  # preserves the hybridization state of atoms in the environment\n",
    "            \"implicit_hydrogens\": False,  # includes data on implicit hydrogen atoms attached to atoms in the environment\n",
    "            \"ring_sizes\": False,  # keeps information about the sizes of rings that environment atoms are part of\n",
    "        },\n",
    "    }\n",
    ")"
   ]
  },
  {
   "cell_type": "markdown",
   "id": "aa7ef87b-cc51-4d60-8e9d-4ce52da93e3f",
   "metadata": {},
   "source": [
    "This setup, for instance, retains leaving groups and specifies the level of detail for atom information retention around the reaction center. Each parameter in `ExtractRuleConfig` is designed to give users the flexibility to optimize rule extraction according to their requirements."
   ]
  },
  {
   "cell_type": "markdown",
   "id": "00b07164-9a81-4b64-a744-f814ec313de9",
   "metadata": {},
   "source": [
    "### Extracting reaction rules using `extract_rules_from_reactions`\n",
    "\n",
    "After configuring the rule extraction settings in SynTool, the next step is to apply these configurations to extract reaction rules from the reaction data. This is achieved using the `extract_rules_from_reactions` function."
   ]
  },
  {
   "cell_type": "code",
   "execution_count": 10,
   "id": "e42f25c1-f169-479f-9699-0d97815482ab",
   "metadata": {},
   "outputs": [
    {
     "name": "stderr",
     "output_type": "stream",
     "text": [
      "Number of reactions processed: 993286 [1:10:42]\n"
     ]
    },
    {
     "name": "stdout",
     "output_type": "stream",
     "text": [
      "Number of extracted reaction rules: 23911\n"
     ]
    }
   ],
   "source": [
    "reaction_rules_path = root_folder.joinpath(\"reaction_rules.pickle\") # extracted reaction rules file\n",
    "\n",
    "extract_rules_from_reactions(config=extraction_config, # the configuration settings for rule extraction\n",
    "                             reaction_data_path=filtered_data_path, # path to the the reaction data file\n",
    "                             reaction_rules_path=reaction_rules_path, # path to the pickle file where the extracted reaction rules will be stored\n",
    "                             num_cpus=4,\n",
    "                             batch_size=100)"
   ]
  },
  {
   "attachments": {},
   "cell_type": "markdown",
   "id": "24fae7bb-8f3a-49a8-8a22-4a1e0193fc06",
   "metadata": {},
   "source": [
    "The extracted reaction rules can be loaded and visually inspected (the reaction rules are sorted by popularity):"
   ]
  },
  {
   "cell_type": "code",
   "execution_count": 11,
   "id": "a2e67576-4812-4d93-8be7-b6f76add2a19",
   "metadata": {},
   "outputs": [],
   "source": [
    "with open(reaction_rules_path, 'rb') as f:\n",
    "    reaction_rules_list = [i[0] for i in pickle.load(f)]\n",
    "for rule in reaction_rules_list:\n",
    "    rule.clean2d()"
   ]
  },
  {
   "cell_type": "code",
   "execution_count": 12,
   "id": "4b6ad4a9-b392-4259-8d40-f8cfa0d1e1ab",
   "metadata": {},
   "outputs": [
    {
     "data": {
      "image/svg+xml": [
       "<svg width=\"7.56cm\" height=\"1.96cm\" viewBox=\"-0.62 -0.98 7.56 1.96\" xmlns=\"http://www.w3.org/2000/svg\" version=\"1.1\">\n",
       "  <defs>\n",
       "    <marker id=\"arrow\" markerWidth=\"10\" markerHeight=\"10\" refX=\"0\" refY=\"3\" orient=\"auto\">\n",
       "      <path d=\"M0,0 L0,6 L9,3\"/>\n",
       "    </marker>\n",
       "  </defs>\n",
       "  <line x1=\"1.82\" y1=\"0\" x2=\"3.82\" y2=\"0\" fill=\"none\" stroke=\"black\" stroke-width=\".04\" marker-end=\"url(#arrow)\"/>\n",
       "  <g>\n",
       "    <defs>\n",
       "      <mask id=\"mask-6439ab2a-887c-4129-be2e-82c76a0724bf\">\n",
       "        <rect x=\"-0.62\" y=\"-0.98\" width=\"7.56\" height=\"1.96\" fill=\"white\"/>\n",
       "        <g fill=\"black\">\n",
       "          <circle cx=\"0.82\" cy=\"0.00\" r=\"0.20\"/>\n",
       "        </g>\n",
       "        <g font-family=\"monospace\" stroke=\"black\">\n",
       "          <g font-family=\"sans-serif\" font-size=\"0.50\" stroke-width=\"0.05\">\n",
       "           <text x=\"0.82\" y=\"0.00\" dx=\"-0.20\" dy=\"0.20\">O</text>\n",
       "          </g>\n",
       "          <g font-family=\"monospace\" font-size=\"0.3\" stroke-width=\"0.03\">\n",
       "           <text x=\"0.00\" y=\"-0.00\" dx=\"0.07\" dy=\"0.15\">3</text>\n",
       "           <text x=\"0.00\" y=\"-0.00\" dx=\"0.07\" dy=\"0.33\">d</text>\n",
       "           <text x=\"0.82\" y=\"0.00\" dx=\"0.17\" dy=\"0.15\">1</text>\n",
       "           <text x=\"0.82\" y=\"0.00\" dx=\"0.17\" dy=\"0.33\">s</text>\n",
       "          </g>\n",
       "        </g>\n",
       "      </mask>\n",
       "    </defs>\n",
       "    <g fill=\"none\" stroke=\"black\" stroke-width=\"0.04\"  mask=\"url(#mask-6439ab2a-887c-4129-be2e-82c76a0724bf)\">\n",
       "      <line x1=\"-0.62\" y1=\"-0.98\" x2=\"6.94\" y2=\"-0.98\" stroke=\"none\"/>\n",
       "      <line x1=\"0.00\" y1=\"-0.00\" x2=\"0.82\" y2=\"0.00\"/>\n",
       "    </g>\n",
       "    <g font-family=\"monospace\">\n",
       "      <g fill=\"#FF0D0D\" font-family=\"sans-serif\">\n",
       "        <text x=\"0.82\" y=\"0.00\" dx=\"-0.20\" dy=\"0.20\" font-size=\"0.50\">O</text>\n",
       "      </g>\n",
       "      <g fill=\"#5D8AA8\" font-family=\"monospace\" font-size=\"0.30\">\n",
       "        <text x=\"0.00\" y=\"-0.00\" dx=\"0.075\" dy=\"0.15\" text-anchor=\"start\">3</text>\n",
       "        <text x=\"0.82\" y=\"0.00\" dx=\"0.175\" dy=\"0.15\" text-anchor=\"start\">1</text>\n",
       "        <text x=\"0.00\" y=\"-0.00\" dx=\"0.075\" dy=\"0.33\" text-anchor=\"start\">d</text>\n",
       "        <text x=\"0.82\" y=\"0.00\" dx=\"0.175\" dy=\"0.33\" text-anchor=\"start\">s</text>\n",
       "      </g>\n",
       "    </g>\n",
       "  </g>\n",
       "  <g>\n",
       "    <defs>\n",
       "      <mask id=\"mask-807e744b-69d8-407d-8ead-a4e48ebf5a06\">\n",
       "        <rect x=\"-0.62\" y=\"-0.98\" width=\"7.56\" height=\"1.96\" fill=\"white\"/>\n",
       "        <g fill=\"black\">\n",
       "          <circle cx=\"5.24\" cy=\"0.36\" r=\"0.20\"/>\n",
       "        </g>\n",
       "        <g font-family=\"monospace\" stroke=\"black\">\n",
       "          <g font-family=\"sans-serif\" font-size=\"0.50\" stroke-width=\"0.05\">\n",
       "           <text x=\"5.24\" y=\"0.36\" dx=\"-0.20\" dy=\"0.20\">O</text>\n",
       "          </g>\n",
       "          <g font-family=\"monospace\" font-size=\"0.3\" stroke-width=\"0.03\">\n",
       "           <text x=\"6.06\" y=\"0.36\" dx=\"0.07\" dy=\"0.15\">3</text>\n",
       "           <text x=\"6.06\" y=\"0.36\" dx=\"0.07\" dy=\"0.33\">d</text>\n",
       "           <text x=\"5.24\" y=\"0.36\" dx=\"0.17\" dy=\"0.15\">2</text>\n",
       "           <text x=\"5.24\" y=\"0.36\" dx=\"0.17\" dy=\"0.33\">s</text>\n",
       "           <text x=\"4.82\" y=\"-0.36\" dx=\"0.07\" dy=\"0.15\">1</text>\n",
       "           <text x=\"4.82\" y=\"-0.36\" dx=\"0.07\" dy=\"0.33\">s</text>\n",
       "          </g>\n",
       "        </g>\n",
       "      </mask>\n",
       "    </defs>\n",
       "    <g fill=\"none\" stroke=\"black\" stroke-width=\"0.04\"  mask=\"url(#mask-807e744b-69d8-407d-8ead-a4e48ebf5a06)\">\n",
       "      <line x1=\"6.06\" y1=\"0.36\" x2=\"5.24\" y2=\"0.36\"/>\n",
       "      <line x1=\"5.24\" y1=\"0.36\" x2=\"4.82\" y2=\"-0.36\"/>\n",
       "    </g>\n",
       "    <g font-family=\"monospace\">\n",
       "      <g fill=\"#FF0D0D\" font-family=\"sans-serif\">\n",
       "        <text x=\"5.24\" y=\"0.36\" dx=\"-0.20\" dy=\"0.20\" font-size=\"0.50\">O</text>\n",
       "      </g>\n",
       "      <g fill=\"#5D8AA8\" font-family=\"monospace\" font-size=\"0.30\">\n",
       "        <text x=\"6.06\" y=\"0.36\" dx=\"0.075\" dy=\"0.15\" text-anchor=\"start\">3</text>\n",
       "        <text x=\"5.24\" y=\"0.36\" dx=\"0.175\" dy=\"0.15\" text-anchor=\"start\">2</text>\n",
       "        <text x=\"4.82\" y=\"-0.36\" dx=\"0.075\" dy=\"0.15\" text-anchor=\"start\">1</text>\n",
       "        <text x=\"6.06\" y=\"0.36\" dx=\"0.075\" dy=\"0.33\" text-anchor=\"start\">d</text>\n",
       "        <text x=\"5.24\" y=\"0.36\" dx=\"0.175\" dy=\"0.33\" text-anchor=\"start\">s</text>\n",
       "        <text x=\"4.82\" y=\"-0.36\" dx=\"0.075\" dy=\"0.33\" text-anchor=\"start\">s</text>\n",
       "      </g>\n",
       "    </g>\n",
       "  </g>\n",
       "</svg>"
      ],
      "text/plain": [
       "<CGRtools.containers.reaction.ReactionContainer at 0x7f9243309840>"
      ]
     },
     "execution_count": 12,
     "metadata": {},
     "output_type": "execute_result"
    }
   ],
   "source": [
    "reaction_rules_list[0]"
   ]
  },
  {
   "cell_type": "code",
   "execution_count": 13,
   "id": "4c90bac1-1a49-4cf1-815d-f13c0280e710",
   "metadata": {},
   "outputs": [
    {
     "data": {
      "image/svg+xml": [
       "<svg width=\"8.47cm\" height=\"1.66cm\" viewBox=\"-0.62 -0.83 8.47 1.66\" xmlns=\"http://www.w3.org/2000/svg\" version=\"1.1\">\n",
       "  <defs>\n",
       "    <marker id=\"arrow\" markerWidth=\"10\" markerHeight=\"10\" refX=\"0\" refY=\"3\" orient=\"auto\">\n",
       "      <path d=\"M0,0 L0,6 L9,3\"/>\n",
       "    </marker>\n",
       "  </defs>\n",
       "  <line x1=\"1.82\" y1=\"0\" x2=\"3.82\" y2=\"0\" fill=\"none\" stroke=\"black\" stroke-width=\".04\" marker-end=\"url(#arrow)\"/>\n",
       "  <g>\n",
       "    <defs>\n",
       "      <mask id=\"mask-7dbafda4-656d-4af5-be90-3785998a0bc6\">\n",
       "        <rect x=\"-0.62\" y=\"-0.83\" width=\"8.47\" height=\"1.66\" fill=\"white\"/>\n",
       "        <g fill=\"black\">\n",
       "          <circle cx=\"0.00\" cy=\"-0.00\" r=\"0.20\"/>\n",
       "        </g>\n",
       "        <g font-family=\"monospace\" stroke=\"black\">\n",
       "          <g font-family=\"sans-serif\" font-size=\"0.50\" stroke-width=\"0.05\">\n",
       "           <text x=\"0.00\" y=\"-0.00\" dx=\"-0.20\" dy=\"0.20\">O</text>\n",
       "          </g>\n",
       "          <g font-family=\"monospace\" font-size=\"0.3\" stroke-width=\"0.03\">\n",
       "           <text x=\"0.82\" y=\"0.00\" dx=\"0.07\" dy=\"0.15\">3</text>\n",
       "           <text x=\"0.82\" y=\"0.00\" dx=\"0.07\" dy=\"0.33\">d</text>\n",
       "           <text x=\"0.00\" y=\"-0.00\" dx=\"0.17\" dy=\"0.15\">1</text>\n",
       "           <text x=\"0.00\" y=\"-0.00\" dx=\"0.17\" dy=\"0.33\">s</text>\n",
       "          </g>\n",
       "        </g>\n",
       "      </mask>\n",
       "    </defs>\n",
       "    <g fill=\"none\" stroke=\"black\" stroke-width=\"0.04\"  mask=\"url(#mask-7dbafda4-656d-4af5-be90-3785998a0bc6)\">\n",
       "      <line x1=\"-0.62\" y1=\"-0.83\" x2=\"7.84\" y2=\"-0.83\" stroke=\"none\"/>\n",
       "      <line x1=\"0.82\" y1=\"0.00\" x2=\"0.00\" y2=\"-0.00\"/>\n",
       "    </g>\n",
       "    <g font-family=\"monospace\">\n",
       "      <g fill=\"#FF0D0D\" font-family=\"sans-serif\">\n",
       "        <text x=\"0.00\" y=\"-0.00\" dx=\"-0.20\" dy=\"0.20\" font-size=\"0.50\">O</text>\n",
       "      </g>\n",
       "      <g fill=\"#5D8AA8\" font-family=\"monospace\" font-size=\"0.30\">\n",
       "        <text x=\"0.82\" y=\"0.00\" dx=\"0.075\" dy=\"0.15\" text-anchor=\"start\">3</text>\n",
       "        <text x=\"0.00\" y=\"-0.00\" dx=\"0.175\" dy=\"0.15\" text-anchor=\"start\">1</text>\n",
       "        <text x=\"0.82\" y=\"0.00\" dx=\"0.075\" dy=\"0.33\" text-anchor=\"start\">d</text>\n",
       "        <text x=\"0.00\" y=\"-0.00\" dx=\"0.175\" dy=\"0.33\" text-anchor=\"start\">s</text>\n",
       "      </g>\n",
       "    </g>\n",
       "  </g>\n",
       "  <g>\n",
       "    <defs>\n",
       "      <mask id=\"mask-2464061c-6a5a-4885-9472-1a27d6ed288a\">\n",
       "        <rect x=\"-0.62\" y=\"-0.83\" width=\"8.47\" height=\"1.66\" fill=\"white\"/>\n",
       "        <g fill=\"black\">\n",
       "          <circle cx=\"5.54\" cy=\"0.21\" r=\"0.20\"/>\n",
       "        </g>\n",
       "        <g font-family=\"monospace\" stroke=\"black\">\n",
       "          <g font-family=\"sans-serif\" font-size=\"0.50\" stroke-width=\"0.05\">\n",
       "           <text x=\"5.54\" y=\"0.21\" dx=\"-0.20\" dy=\"0.20\">O</text>\n",
       "          </g>\n",
       "          <g font-family=\"monospace\" font-size=\"0.3\" stroke-width=\"0.03\">\n",
       "           <text x=\"4.82\" y=\"-0.21\" dx=\"0.07\" dy=\"0.15\">3</text>\n",
       "           <text x=\"4.82\" y=\"-0.21\" dx=\"0.07\" dy=\"0.33\">d</text>\n",
       "           <text x=\"5.54\" y=\"0.21\" dx=\"0.17\" dy=\"0.15\">2</text>\n",
       "           <text x=\"5.54\" y=\"0.21\" dx=\"0.17\" dy=\"0.33\">s</text>\n",
       "           <text x=\"6.25\" y=\"-0.21\" dx=\"0.07\" dy=\"0.15\">2</text>\n",
       "           <text x=\"6.25\" y=\"-0.21\" dx=\"0.07\" dy=\"0.33\">s</text>\n",
       "           <text x=\"6.97\" y=\"0.21\" dx=\"0.07\" dy=\"0.15\">1</text>\n",
       "           <text x=\"6.97\" y=\"0.21\" dx=\"0.07\" dy=\"0.33\">s</text>\n",
       "          </g>\n",
       "        </g>\n",
       "      </mask>\n",
       "    </defs>\n",
       "    <g fill=\"none\" stroke=\"black\" stroke-width=\"0.04\"  mask=\"url(#mask-2464061c-6a5a-4885-9472-1a27d6ed288a)\">\n",
       "      <line x1=\"4.82\" y1=\"-0.21\" x2=\"5.54\" y2=\"0.21\"/>\n",
       "      <line x1=\"5.54\" y1=\"0.21\" x2=\"6.25\" y2=\"-0.21\"/>\n",
       "      <line x1=\"6.25\" y1=\"-0.21\" x2=\"6.97\" y2=\"0.21\"/>\n",
       "    </g>\n",
       "    <g font-family=\"monospace\">\n",
       "      <g fill=\"#FF0D0D\" font-family=\"sans-serif\">\n",
       "        <text x=\"5.54\" y=\"0.21\" dx=\"-0.20\" dy=\"0.20\" font-size=\"0.50\">O</text>\n",
       "      </g>\n",
       "      <g fill=\"#5D8AA8\" font-family=\"monospace\" font-size=\"0.30\">\n",
       "        <text x=\"4.82\" y=\"-0.21\" dx=\"0.075\" dy=\"0.15\" text-anchor=\"start\">3</text>\n",
       "        <text x=\"5.54\" y=\"0.21\" dx=\"0.175\" dy=\"0.15\" text-anchor=\"start\">2</text>\n",
       "        <text x=\"6.25\" y=\"-0.21\" dx=\"0.075\" dy=\"0.15\" text-anchor=\"start\">2</text>\n",
       "        <text x=\"6.97\" y=\"0.21\" dx=\"0.075\" dy=\"0.15\" text-anchor=\"start\">1</text>\n",
       "        <text x=\"4.82\" y=\"-0.21\" dx=\"0.075\" dy=\"0.33\" text-anchor=\"start\">d</text>\n",
       "        <text x=\"5.54\" y=\"0.21\" dx=\"0.175\" dy=\"0.33\" text-anchor=\"start\">s</text>\n",
       "        <text x=\"6.25\" y=\"-0.21\" dx=\"0.075\" dy=\"0.33\" text-anchor=\"start\">s</text>\n",
       "        <text x=\"6.97\" y=\"0.21\" dx=\"0.075\" dy=\"0.33\" text-anchor=\"start\">s</text>\n",
       "      </g>\n",
       "    </g>\n",
       "  </g>\n",
       "</svg>"
      ],
      "text/plain": [
       "<CGRtools.containers.reaction.ReactionContainer at 0x7f924330ba00>"
      ]
     },
     "execution_count": 13,
     "metadata": {},
     "output_type": "execute_result"
    }
   ],
   "source": [
    "reaction_rules_list[1]"
   ]
  },
  {
   "cell_type": "code",
   "execution_count": 14,
   "id": "a62c9f51-3253-4d9a-8cad-5d36d2e6db9c",
   "metadata": {},
   "outputs": [
    {
     "data": {
      "image/svg+xml": [
       "<svg width=\"11.10cm\" height=\"2.49cm\" viewBox=\"-0.62 -1.24 11.10 2.49\" xmlns=\"http://www.w3.org/2000/svg\" version=\"1.1\">\n",
       "  <defs>\n",
       "    <marker id=\"arrow\" markerWidth=\"10\" markerHeight=\"10\" refX=\"0\" refY=\"3\" orient=\"auto\">\n",
       "      <path d=\"M0,0 L0,6 L9,3\"/>\n",
       "    </marker>\n",
       "  </defs>\n",
       "  <line x1=\"3.14\" y1=\"0\" x2=\"5.14\" y2=\"0\" fill=\"none\" stroke=\"black\" stroke-width=\".04\" marker-end=\"url(#arrow)\"/>\n",
       "  <g fill=\"none\" stroke=\"black\" stroke-width=\".04\">\n",
       "    <line x1=\"7.52\" y1=\"0\" x2=\"7.82\" y2=\"0\"/>\n",
       "    <line x1=\"7.67\" y1=\"0.15\" x2=\"7.67\" y2=\"-0.15\"/>\n",
       "  </g>\n",
       "  <g>\n",
       "    <defs>\n",
       "      <mask id=\"mask-3289805a-c820-4a78-9501-f53f427afb38\">\n",
       "        <rect x=\"-0.62\" y=\"-1.24\" width=\"11.10\" height=\"2.49\" fill=\"white\"/>\n",
       "        <g fill=\"black\">\n",
       "          <circle cx=\"0.71\" cy=\"0.62\" r=\"0.20\"/>\n",
       "        </g>\n",
       "        <g font-family=\"monospace\" stroke=\"black\">\n",
       "          <g font-family=\"sans-serif\" font-size=\"0.50\" stroke-width=\"0.05\">\n",
       "           <text x=\"0.71\" y=\"0.62\" dx=\"-0.20\" dy=\"0.20\">O</text>\n",
       "          </g>\n",
       "          <g font-family=\"monospace\" font-size=\"0.3\" stroke-width=\"0.03\">\n",
       "           <text x=\"0.00\" y=\"0.21\" dx=\"0.07\" dy=\"0.15\">3</text>\n",
       "           <text x=\"0.00\" y=\"0.21\" dx=\"0.07\" dy=\"0.33\">a</text>\n",
       "           <text x=\"0.71\" y=\"0.62\" dx=\"0.17\" dy=\"0.15\">2</text>\n",
       "           <text x=\"0.71\" y=\"0.62\" dx=\"0.17\" dy=\"0.33\">s</text>\n",
       "           <text x=\"1.43\" y=\"0.21\" dx=\"0.07\" dy=\"0.15\">3</text>\n",
       "           <text x=\"1.43\" y=\"0.21\" dx=\"0.07\" dy=\"0.33\">a</text>\n",
       "           <text x=\"2.14\" y=\"0.62\" dx=\"0.07\" dy=\"0.15\">2</text>\n",
       "           <text x=\"2.14\" y=\"0.62\" dx=\"0.07\" dy=\"0.33\">a</text>\n",
       "           <text x=\"1.43\" y=\"-0.62\" dx=\"0.07\" dy=\"0.15\">3</text>\n",
       "           <text x=\"1.43\" y=\"-0.62\" dx=\"0.07\" dy=\"0.33\">a</text>\n",
       "          </g>\n",
       "        </g>\n",
       "      </mask>\n",
       "    </defs>\n",
       "    <g fill=\"none\" stroke=\"black\" stroke-width=\"0.04\"  mask=\"url(#mask-3289805a-c820-4a78-9501-f53f427afb38)\">\n",
       "      <line x1=\"0.00\" y1=\"0.21\" x2=\"0.71\" y2=\"0.62\"/>\n",
       "      <line x1=\"0.71\" y1=\"0.62\" x2=\"1.43\" y2=\"0.21\"/>\n",
       "      <line x1=\"1.46\" y1=\"0.15\" x2=\"2.17\" y2=\"0.57\"/>\n",
       "      <line x1=\"1.40\" y1=\"0.26\" x2=\"2.11\" y2=\"0.67\" stroke-dasharray=\"0.15 0.05\"/>\n",
       "      <line x1=\"1.37\" y1=\"0.21\" x2=\"1.37\" y2=\"-0.62\"/>\n",
       "      <line x1=\"1.49\" y1=\"0.21\" x2=\"1.49\" y2=\"-0.62\" stroke-dasharray=\"0.15 0.05\"/>\n",
       "    </g>\n",
       "    <g font-family=\"monospace\">\n",
       "      <g fill=\"#FF0D0D\" font-family=\"sans-serif\">\n",
       "        <text x=\"0.71\" y=\"0.62\" dx=\"-0.20\" dy=\"0.20\" font-size=\"0.50\">O</text>\n",
       "      </g>\n",
       "      <g fill=\"#5D8AA8\" font-family=\"monospace\" font-size=\"0.30\">\n",
       "        <text x=\"0.00\" y=\"0.21\" dx=\"0.075\" dy=\"0.15\" text-anchor=\"start\">3</text>\n",
       "        <text x=\"0.71\" y=\"0.62\" dx=\"0.175\" dy=\"0.15\" text-anchor=\"start\">2</text>\n",
       "        <text x=\"1.43\" y=\"0.21\" dx=\"0.075\" dy=\"0.15\" text-anchor=\"start\">3</text>\n",
       "        <text x=\"2.14\" y=\"0.62\" dx=\"0.075\" dy=\"0.15\" text-anchor=\"start\">2</text>\n",
       "        <text x=\"1.43\" y=\"-0.62\" dx=\"0.075\" dy=\"0.15\" text-anchor=\"start\">3</text>\n",
       "        <text x=\"0.00\" y=\"0.21\" dx=\"0.075\" dy=\"0.33\" text-anchor=\"start\">a</text>\n",
       "        <text x=\"0.71\" y=\"0.62\" dx=\"0.175\" dy=\"0.33\" text-anchor=\"start\">s</text>\n",
       "        <text x=\"1.43\" y=\"0.21\" dx=\"0.075\" dy=\"0.33\" text-anchor=\"start\">a</text>\n",
       "        <text x=\"2.14\" y=\"0.62\" dx=\"0.075\" dy=\"0.33\" text-anchor=\"start\">a</text>\n",
       "        <text x=\"1.43\" y=\"-0.62\" dx=\"0.075\" dy=\"0.33\" text-anchor=\"start\">a</text>\n",
       "      </g>\n",
       "    </g>\n",
       "  </g>\n",
       "  <g>\n",
       "    <defs>\n",
       "      <mask id=\"mask-8f9f5fec-7a64-4e5a-a9e0-314562ec4c64\">\n",
       "        <rect x=\"-0.62\" y=\"-1.24\" width=\"11.10\" height=\"2.49\" fill=\"white\"/>\n",
       "        <g fill=\"black\">\n",
       "          <circle cx=\"6.97\" cy=\"0.00\" r=\"0.20\"/>\n",
       "        </g>\n",
       "        <g font-family=\"monospace\" stroke=\"black\">\n",
       "          <g font-family=\"sans-serif\" font-size=\"0.50\" stroke-width=\"0.05\">\n",
       "           <text x=\"6.97\" y=\"0.00\" dx=\"-0.20\" dy=\"0.20\">O</text>\n",
       "          </g>\n",
       "          <g font-family=\"monospace\" font-size=\"0.3\" stroke-width=\"0.03\">\n",
       "           <text x=\"6.14\" y=\"-0.00\" dx=\"0.07\" dy=\"0.15\">3</text>\n",
       "           <text x=\"6.14\" y=\"-0.00\" dx=\"0.07\" dy=\"0.33\">a</text>\n",
       "           <text x=\"6.97\" y=\"0.00\" dx=\"0.17\" dy=\"0.15\">1</text>\n",
       "           <text x=\"6.97\" y=\"0.00\" dx=\"0.17\" dy=\"0.33\">s</text>\n",
       "          </g>\n",
       "        </g>\n",
       "      </mask>\n",
       "    </defs>\n",
       "    <g fill=\"none\" stroke=\"black\" stroke-width=\"0.04\"  mask=\"url(#mask-8f9f5fec-7a64-4e5a-a9e0-314562ec4c64)\">\n",
       "      <line x1=\"-0.62\" y1=\"-1.24\" x2=\"10.47\" y2=\"-1.24\" stroke=\"none\"/>\n",
       "      <line x1=\"6.14\" y1=\"-0.00\" x2=\"6.97\" y2=\"0.00\"/>\n",
       "    </g>\n",
       "    <g font-family=\"monospace\">\n",
       "      <g fill=\"#FF0D0D\" font-family=\"sans-serif\">\n",
       "        <text x=\"6.97\" y=\"0.00\" dx=\"-0.20\" dy=\"0.20\" font-size=\"0.50\">O</text>\n",
       "      </g>\n",
       "      <g fill=\"#5D8AA8\" font-family=\"monospace\" font-size=\"0.30\">\n",
       "        <text x=\"6.14\" y=\"-0.00\" dx=\"0.075\" dy=\"0.15\" text-anchor=\"start\">3</text>\n",
       "        <text x=\"6.97\" y=\"0.00\" dx=\"0.175\" dy=\"0.15\" text-anchor=\"start\">1</text>\n",
       "        <text x=\"6.14\" y=\"-0.00\" dx=\"0.075\" dy=\"0.33\" text-anchor=\"start\">a</text>\n",
       "        <text x=\"6.97\" y=\"0.00\" dx=\"0.175\" dy=\"0.33\" text-anchor=\"start\">s</text>\n",
       "      </g>\n",
       "    </g>\n",
       "  </g>\n",
       "  <g>\n",
       "    <defs>\n",
       "      <mask id=\"mask-014bcc96-39a1-466f-aac5-7d0a63449d6f\">\n",
       "        <rect x=\"-0.62\" y=\"-1.24\" width=\"11.10\" height=\"2.49\" fill=\"white\"/>\n",
       "        <g fill=\"black\">\n",
       "          <circle cx=\"9.60\" cy=\"-0.62\" r=\"0.20\"/>\n",
       "        </g>\n",
       "        <g font-family=\"monospace\" stroke=\"black\">\n",
       "          <g font-family=\"sans-serif\" font-size=\"0.50\" stroke-width=\"0.05\">\n",
       "           <text x=\"9.60\" y=\"-0.62\" dx=\"-0.20\" dy=\"0.20\">F</text>\n",
       "          </g>\n",
       "          <g font-family=\"monospace\" font-size=\"0.3\" stroke-width=\"0.03\">\n",
       "           <text x=\"8.88\" y=\"0.62\" dx=\"0.07\" dy=\"0.15\">3</text>\n",
       "           <text x=\"8.88\" y=\"0.62\" dx=\"0.07\" dy=\"0.33\">a</text>\n",
       "           <text x=\"8.88\" y=\"-0.21\" dx=\"0.07\" dy=\"0.15\">3</text>\n",
       "           <text x=\"8.88\" y=\"-0.21\" dx=\"0.07\" dy=\"0.33\">a</text>\n",
       "           <text x=\"8.17\" y=\"-0.62\" dx=\"0.07\" dy=\"0.15\">2</text>\n",
       "           <text x=\"8.17\" y=\"-0.62\" dx=\"0.07\" dy=\"0.33\">a</text>\n",
       "           <text x=\"9.60\" y=\"-0.62\" dx=\"0.17\" dy=\"0.15\">1</text>\n",
       "           <text x=\"9.60\" y=\"-0.62\" dx=\"0.17\" dy=\"0.33\">s</text>\n",
       "          </g>\n",
       "        </g>\n",
       "      </mask>\n",
       "    </defs>\n",
       "    <g fill=\"none\" stroke=\"black\" stroke-width=\"0.04\"  mask=\"url(#mask-014bcc96-39a1-466f-aac5-7d0a63449d6f)\">\n",
       "      <line x1=\"8.82\" y1=\"0.62\" x2=\"8.82\" y2=\"-0.21\"/>\n",
       "      <line x1=\"8.94\" y1=\"0.62\" x2=\"8.94\" y2=\"-0.21\" stroke-dasharray=\"0.15 0.05\"/>\n",
       "      <line x1=\"8.85\" y1=\"-0.15\" x2=\"8.14\" y2=\"-0.57\"/>\n",
       "      <line x1=\"8.91\" y1=\"-0.26\" x2=\"8.20\" y2=\"-0.67\" stroke-dasharray=\"0.15 0.05\"/>\n",
       "      <line x1=\"8.88\" y1=\"-0.21\" x2=\"9.60\" y2=\"-0.62\"/>\n",
       "    </g>\n",
       "    <g font-family=\"monospace\">\n",
       "      <g fill=\"#90E050\" font-family=\"sans-serif\">\n",
       "        <text x=\"9.60\" y=\"-0.62\" dx=\"-0.20\" dy=\"0.20\" font-size=\"0.50\">F</text>\n",
       "      </g>\n",
       "      <g fill=\"#5D8AA8\" font-family=\"monospace\" font-size=\"0.30\">\n",
       "        <text x=\"8.88\" y=\"0.62\" dx=\"0.075\" dy=\"0.15\" text-anchor=\"start\">3</text>\n",
       "        <text x=\"8.88\" y=\"-0.21\" dx=\"0.075\" dy=\"0.15\" text-anchor=\"start\">3</text>\n",
       "        <text x=\"8.17\" y=\"-0.62\" dx=\"0.075\" dy=\"0.15\" text-anchor=\"start\">2</text>\n",
       "        <text x=\"9.60\" y=\"-0.62\" dx=\"0.175\" dy=\"0.15\" text-anchor=\"start\">1</text>\n",
       "        <text x=\"8.88\" y=\"0.62\" dx=\"0.075\" dy=\"0.33\" text-anchor=\"start\">a</text>\n",
       "        <text x=\"8.88\" y=\"-0.21\" dx=\"0.075\" dy=\"0.33\" text-anchor=\"start\">a</text>\n",
       "        <text x=\"8.17\" y=\"-0.62\" dx=\"0.075\" dy=\"0.33\" text-anchor=\"start\">a</text>\n",
       "        <text x=\"9.60\" y=\"-0.62\" dx=\"0.175\" dy=\"0.33\" text-anchor=\"start\">s</text>\n",
       "      </g>\n",
       "    </g>\n",
       "  </g>\n",
       "</svg>"
      ],
      "text/plain": [
       "<CGRtools.containers.reaction.ReactionContainer at 0x7f9243308160>"
      ]
     },
     "execution_count": 14,
     "metadata": {},
     "output_type": "execute_result"
    }
   ],
   "source": [
    "reaction_rules_list[100]"
   ]
  },
  {
   "cell_type": "markdown",
   "id": "20e55911-23de-410e-b242-d0e95e36314e",
   "metadata": {},
   "source": [
    "## 5. Ranking policy training"
   ]
  },
  {
   "cell_type": "markdown",
   "id": "cc731c98-bfad-4689-a553-3678dfceddf9",
   "metadata": {},
   "source": [
    "After extracting the reaction rules, the next step in SynTool involves the training ranking policy network. \n",
    "\n",
    "The tree nodes in MCTS are expanded by an expansion function approximated by a policy graph neu-ral network. The policy network is composed of two parts: molecular representation and reaction rule prediction parts. In the representation part, the molecular graph is converted to a single vector by graph convolutional layers. The training set structure and the prediction part architecture depend on the type of policy network, particularly the ranking or filtering policy network.\n",
    "The training dataset for ranking policy network consists of pairs of reactions and corresponding reaction rules extracted from it. The products of the reaction are transformed to the CGR encoded as a molecular graph with the one-hot encoded label vector where the positive label corresponds to the reac-tion rule. The prediction part is terminated with the softmax function generating the “probability of suc-cessful application” of each reaction rule to a given input molecular graph, which can be used for the reaction rules “ranking”.\n",
    "All the reaction rules predicted by the ranking or policy neural network are sorted by predicted reaction rule probability and the first N (usually N = 50) of reaction rules are selected to be applied to the current precursor in the expansion step.\n",
    "\n",
    "Frst, we define the training configuration using the `PolicyNetworkConfig` class. This configuration includes various hyperparameters for the neural network:"
   ]
  },
  {
   "cell_type": "code",
   "execution_count": 15,
   "id": "a669dcd8-21e8-4c07-820c-78c1a46b0e06",
   "metadata": {},
   "outputs": [],
   "source": [
    "from SynTool.utils.config import PolicyNetworkConfig\n",
    "from SynTool.ml.training.supervised import create_policy_dataset, run_policy_training"
   ]
  },
  {
   "cell_type": "code",
   "execution_count": 16,
   "id": "ffdb63c6-7ef0-4b54-b769-45b0c3dac5ea",
   "metadata": {},
   "outputs": [],
   "source": [
    "training_config = PolicyNetworkConfig(policy_type='ranking', # the type of policy network\n",
    "                                      num_conv_layers=5,  # the number of graph convolutional layers in the network\n",
    "                                      vector_dim=256,  # the dimensionality of the final embedding vector\n",
    "                                      learning_rate=0.0008,  # the learning rate for the training process\n",
    "                                      dropout=0.4,  # the dropout rate\n",
    "                                      num_epoch=100,  # the number of epochs for training\n",
    "                                      batch_size=100)  # the size of training batch of input data"
   ]
  },
  {
   "cell_type": "markdown",
   "id": "f0c7e80f-0d1f-43f4-ba19-2f793a184913",
   "metadata": {},
   "source": [
    "#### Creating the training set\n",
    "\n",
    "Next, we create the policy dataset using the `create_policy_dataset` function. This involves specifying paths to the reaction rules and the reaction data:"
   ]
  },
  {
   "cell_type": "code",
   "execution_count": 17,
   "id": "73f0fbbe-14d2-4e89-a106-5c4fd1a46de6",
   "metadata": {},
   "outputs": [
    {
     "name": "stderr",
     "output_type": "stream",
     "text": [
      "Number of reactions processed: 993286 [2:43:58]\n"
     ]
    },
    {
     "name": "stdout",
     "output_type": "stream",
     "text": [
      "Training set size: 642432, validation set size: 160608\n"
     ]
    }
   ],
   "source": [
    "ranking_policy_network_folder = root_folder.joinpath(\"ranking_policy_network\")\n",
    "ranking_policy_dataset_path = os.path.join(ranking_policy_network_folder, 'ranking_policy_dataset.dt')\n",
    "\n",
    "datamodule = create_policy_dataset(dataset_type='ranking',\n",
    "                                   reaction_rules_path=reaction_rules_path,\n",
    "                                   molecules_or_reactions_path=filtered_data_path,\n",
    "                                   output_path=ranking_policy_dataset_path,\n",
    "                                   batch_size=training_config.batch_size,\n",
    "                                   num_cpus=4)"
   ]
  },
  {
   "cell_type": "markdown",
   "id": "a443ea52-884e-4586-a437-96f6fc473532",
   "metadata": {},
   "source": [
    "#### Run the policy network training\n",
    "\n",
    "Finally, we train the policy network using the `run_policy_training` function. This step involves feeding the dataset and the training configuration into the network:"
   ]
  },
  {
   "cell_type": "code",
   "execution_count": 18,
   "id": "a3203d41-1ac6-4bba-a6ce-420ec7444b2a",
   "metadata": {},
   "outputs": [
    {
     "name": "stdout",
     "output_type": "stream",
     "text": [
      "Weight decoupling enabled in AdaBelief\n",
      "Rectification enabled in AdaBelief\n"
     ]
    },
    {
     "data": {
      "application/json": {
       "ascii": false,
       "bar_format": null,
       "colour": null,
       "elapsed": 0.013844966888427734,
       "initial": 0,
       "n": 0,
       "ncols": 90,
       "nrows": 24,
       "postfix": null,
       "prefix": "Sanity Checking",
       "rate": null,
       "total": null,
       "unit": "it",
       "unit_divisor": 1000,
       "unit_scale": false
      },
      "application/vnd.jupyter.widget-view+json": {
       "model_id": "",
       "version_major": 2,
       "version_minor": 0
      },
      "text/plain": [
       "Sanity Checking: 0it [00:00, ?it/s]"
      ]
     },
     "metadata": {},
     "output_type": "display_data"
    },
    {
     "data": {
      "application/json": {
       "ascii": false,
       "bar_format": null,
       "colour": null,
       "elapsed": 0.005034685134887695,
       "initial": 0,
       "n": 0,
       "ncols": 90,
       "nrows": 24,
       "postfix": null,
       "prefix": "Training",
       "rate": null,
       "total": null,
       "unit": "it",
       "unit_divisor": 1000,
       "unit_scale": false
      },
      "application/vnd.jupyter.widget-view+json": {
       "model_id": "57199882e6384796ad6613d9b92631d6",
       "version_major": 2,
       "version_minor": 0
      },
      "text/plain": [
       "Training: 0it [00:00, ?it/s]"
      ]
     },
     "metadata": {},
     "output_type": "display_data"
    },
    {
     "data": {
      "application/json": {
       "ascii": false,
       "bar_format": null,
       "colour": null,
       "elapsed": 0.004833221435546875,
       "initial": 0,
       "n": 0,
       "ncols": 90,
       "nrows": 24,
       "postfix": null,
       "prefix": "Validation",
       "rate": null,
       "total": null,
       "unit": "it",
       "unit_divisor": 1000,
       "unit_scale": false
      },
      "application/vnd.jupyter.widget-view+json": {
       "model_id": "",
       "version_major": 2,
       "version_minor": 0
      },
      "text/plain": [
       "Validation: 0it [00:00, ?it/s]"
      ]
     },
     "metadata": {},
     "output_type": "display_data"
    },
    {
     "data": {
      "application/json": {
       "ascii": false,
       "bar_format": null,
       "colour": null,
       "elapsed": 0.004852771759033203,
       "initial": 0,
       "n": 0,
       "ncols": 90,
       "nrows": 24,
       "postfix": null,
       "prefix": "Validation",
       "rate": null,
       "total": null,
       "unit": "it",
       "unit_divisor": 1000,
       "unit_scale": false
      },
      "application/vnd.jupyter.widget-view+json": {
       "model_id": "",
       "version_major": 2,
       "version_minor": 0
      },
      "text/plain": [
       "Validation: 0it [00:00, ?it/s]"
      ]
     },
     "metadata": {},
     "output_type": "display_data"
    },
    {
     "data": {
      "application/json": {
       "ascii": false,
       "bar_format": null,
       "colour": null,
       "elapsed": 0.0047953128814697266,
       "initial": 0,
       "n": 0,
       "ncols": 90,
       "nrows": 24,
       "postfix": null,
       "prefix": "Validation",
       "rate": null,
       "total": null,
       "unit": "it",
       "unit_divisor": 1000,
       "unit_scale": false
      },
      "application/vnd.jupyter.widget-view+json": {
       "model_id": "",
       "version_major": 2,
       "version_minor": 0
      },
      "text/plain": [
       "Validation: 0it [00:00, ?it/s]"
      ]
     },
     "metadata": {},
     "output_type": "display_data"
    },
    {
     "data": {
      "application/json": {
       "ascii": false,
       "bar_format": null,
       "colour": null,
       "elapsed": 0.004799365997314453,
       "initial": 0,
       "n": 0,
       "ncols": 90,
       "nrows": 24,
       "postfix": null,
       "prefix": "Validation",
       "rate": null,
       "total": null,
       "unit": "it",
       "unit_divisor": 1000,
       "unit_scale": false
      },
      "application/vnd.jupyter.widget-view+json": {
       "model_id": "",
       "version_major": 2,
       "version_minor": 0
      },
      "text/plain": [
       "Validation: 0it [00:00, ?it/s]"
      ]
     },
     "metadata": {},
     "output_type": "display_data"
    },
    {
     "data": {
      "application/json": {
       "ascii": false,
       "bar_format": null,
       "colour": null,
       "elapsed": 0.004796743392944336,
       "initial": 0,
       "n": 0,
       "ncols": 90,
       "nrows": 24,
       "postfix": null,
       "prefix": "Validation",
       "rate": null,
       "total": null,
       "unit": "it",
       "unit_divisor": 1000,
       "unit_scale": false
      },
      "application/vnd.jupyter.widget-view+json": {
       "model_id": "",
       "version_major": 2,
       "version_minor": 0
      },
      "text/plain": [
       "Validation: 0it [00:00, ?it/s]"
      ]
     },
     "metadata": {},
     "output_type": "display_data"
    },
    {
     "data": {
      "application/json": {
       "ascii": false,
       "bar_format": null,
       "colour": null,
       "elapsed": 0.004849910736083984,
       "initial": 0,
       "n": 0,
       "ncols": 90,
       "nrows": 24,
       "postfix": null,
       "prefix": "Validation",
       "rate": null,
       "total": null,
       "unit": "it",
       "unit_divisor": 1000,
       "unit_scale": false
      },
      "application/vnd.jupyter.widget-view+json": {
       "model_id": "",
       "version_major": 2,
       "version_minor": 0
      },
      "text/plain": [
       "Validation: 0it [00:00, ?it/s]"
      ]
     },
     "metadata": {},
     "output_type": "display_data"
    },
    {
     "data": {
      "application/json": {
       "ascii": false,
       "bar_format": null,
       "colour": null,
       "elapsed": 0.004812955856323242,
       "initial": 0,
       "n": 0,
       "ncols": 90,
       "nrows": 24,
       "postfix": null,
       "prefix": "Validation",
       "rate": null,
       "total": null,
       "unit": "it",
       "unit_divisor": 1000,
       "unit_scale": false
      },
      "application/vnd.jupyter.widget-view+json": {
       "model_id": "",
       "version_major": 2,
       "version_minor": 0
      },
      "text/plain": [
       "Validation: 0it [00:00, ?it/s]"
      ]
     },
     "metadata": {},
     "output_type": "display_data"
    },
    {
     "data": {
      "application/json": {
       "ascii": false,
       "bar_format": null,
       "colour": null,
       "elapsed": 0.004816770553588867,
       "initial": 0,
       "n": 0,
       "ncols": 90,
       "nrows": 24,
       "postfix": null,
       "prefix": "Validation",
       "rate": null,
       "total": null,
       "unit": "it",
       "unit_divisor": 1000,
       "unit_scale": false
      },
      "application/vnd.jupyter.widget-view+json": {
       "model_id": "",
       "version_major": 2,
       "version_minor": 0
      },
      "text/plain": [
       "Validation: 0it [00:00, ?it/s]"
      ]
     },
     "metadata": {},
     "output_type": "display_data"
    },
    {
     "data": {
      "application/json": {
       "ascii": false,
       "bar_format": null,
       "colour": null,
       "elapsed": 0.004858255386352539,
       "initial": 0,
       "n": 0,
       "ncols": 90,
       "nrows": 24,
       "postfix": null,
       "prefix": "Validation",
       "rate": null,
       "total": null,
       "unit": "it",
       "unit_divisor": 1000,
       "unit_scale": false
      },
      "application/vnd.jupyter.widget-view+json": {
       "model_id": "",
       "version_major": 2,
       "version_minor": 0
      },
      "text/plain": [
       "Validation: 0it [00:00, ?it/s]"
      ]
     },
     "metadata": {},
     "output_type": "display_data"
    },
    {
     "data": {
      "application/json": {
       "ascii": false,
       "bar_format": null,
       "colour": null,
       "elapsed": 0.005148887634277344,
       "initial": 0,
       "n": 0,
       "ncols": 90,
       "nrows": 24,
       "postfix": null,
       "prefix": "Validation",
       "rate": null,
       "total": null,
       "unit": "it",
       "unit_divisor": 1000,
       "unit_scale": false
      },
      "application/vnd.jupyter.widget-view+json": {
       "model_id": "",
       "version_major": 2,
       "version_minor": 0
      },
      "text/plain": [
       "Validation: 0it [00:00, ?it/s]"
      ]
     },
     "metadata": {},
     "output_type": "display_data"
    },
    {
     "data": {
      "application/json": {
       "ascii": false,
       "bar_format": null,
       "colour": null,
       "elapsed": 0.004818439483642578,
       "initial": 0,
       "n": 0,
       "ncols": 90,
       "nrows": 24,
       "postfix": null,
       "prefix": "Validation",
       "rate": null,
       "total": null,
       "unit": "it",
       "unit_divisor": 1000,
       "unit_scale": false
      },
      "application/vnd.jupyter.widget-view+json": {
       "model_id": "",
       "version_major": 2,
       "version_minor": 0
      },
      "text/plain": [
       "Validation: 0it [00:00, ?it/s]"
      ]
     },
     "metadata": {},
     "output_type": "display_data"
    },
    {
     "data": {
      "application/json": {
       "ascii": false,
       "bar_format": null,
       "colour": null,
       "elapsed": 0.00480961799621582,
       "initial": 0,
       "n": 0,
       "ncols": 90,
       "nrows": 24,
       "postfix": null,
       "prefix": "Validation",
       "rate": null,
       "total": null,
       "unit": "it",
       "unit_divisor": 1000,
       "unit_scale": false
      },
      "application/vnd.jupyter.widget-view+json": {
       "model_id": "",
       "version_major": 2,
       "version_minor": 0
      },
      "text/plain": [
       "Validation: 0it [00:00, ?it/s]"
      ]
     },
     "metadata": {},
     "output_type": "display_data"
    },
    {
     "data": {
      "application/json": {
       "ascii": false,
       "bar_format": null,
       "colour": null,
       "elapsed": 0.00513768196105957,
       "initial": 0,
       "n": 0,
       "ncols": 90,
       "nrows": 24,
       "postfix": null,
       "prefix": "Validation",
       "rate": null,
       "total": null,
       "unit": "it",
       "unit_divisor": 1000,
       "unit_scale": false
      },
      "application/vnd.jupyter.widget-view+json": {
       "model_id": "",
       "version_major": 2,
       "version_minor": 0
      },
      "text/plain": [
       "Validation: 0it [00:00, ?it/s]"
      ]
     },
     "metadata": {},
     "output_type": "display_data"
    },
    {
     "data": {
      "application/json": {
       "ascii": false,
       "bar_format": null,
       "colour": null,
       "elapsed": 0.004785776138305664,
       "initial": 0,
       "n": 0,
       "ncols": 90,
       "nrows": 24,
       "postfix": null,
       "prefix": "Validation",
       "rate": null,
       "total": null,
       "unit": "it",
       "unit_divisor": 1000,
       "unit_scale": false
      },
      "application/vnd.jupyter.widget-view+json": {
       "model_id": "",
       "version_major": 2,
       "version_minor": 0
      },
      "text/plain": [
       "Validation: 0it [00:00, ?it/s]"
      ]
     },
     "metadata": {},
     "output_type": "display_data"
    },
    {
     "data": {
      "application/json": {
       "ascii": false,
       "bar_format": null,
       "colour": null,
       "elapsed": 0.0049517154693603516,
       "initial": 0,
       "n": 0,
       "ncols": 90,
       "nrows": 24,
       "postfix": null,
       "prefix": "Validation",
       "rate": null,
       "total": null,
       "unit": "it",
       "unit_divisor": 1000,
       "unit_scale": false
      },
      "application/vnd.jupyter.widget-view+json": {
       "model_id": "",
       "version_major": 2,
       "version_minor": 0
      },
      "text/plain": [
       "Validation: 0it [00:00, ?it/s]"
      ]
     },
     "metadata": {},
     "output_type": "display_data"
    },
    {
     "data": {
      "application/json": {
       "ascii": false,
       "bar_format": null,
       "colour": null,
       "elapsed": 0.0047605037689208984,
       "initial": 0,
       "n": 0,
       "ncols": 90,
       "nrows": 24,
       "postfix": null,
       "prefix": "Validation",
       "rate": null,
       "total": null,
       "unit": "it",
       "unit_divisor": 1000,
       "unit_scale": false
      },
      "application/vnd.jupyter.widget-view+json": {
       "model_id": "",
       "version_major": 2,
       "version_minor": 0
      },
      "text/plain": [
       "Validation: 0it [00:00, ?it/s]"
      ]
     },
     "metadata": {},
     "output_type": "display_data"
    },
    {
     "data": {
      "application/json": {
       "ascii": false,
       "bar_format": null,
       "colour": null,
       "elapsed": 0.004883289337158203,
       "initial": 0,
       "n": 0,
       "ncols": 90,
       "nrows": 24,
       "postfix": null,
       "prefix": "Validation",
       "rate": null,
       "total": null,
       "unit": "it",
       "unit_divisor": 1000,
       "unit_scale": false
      },
      "application/vnd.jupyter.widget-view+json": {
       "model_id": "",
       "version_major": 2,
       "version_minor": 0
      },
      "text/plain": [
       "Validation: 0it [00:00, ?it/s]"
      ]
     },
     "metadata": {},
     "output_type": "display_data"
    },
    {
     "data": {
      "application/json": {
       "ascii": false,
       "bar_format": null,
       "colour": null,
       "elapsed": 0.004818439483642578,
       "initial": 0,
       "n": 0,
       "ncols": 90,
       "nrows": 24,
       "postfix": null,
       "prefix": "Validation",
       "rate": null,
       "total": null,
       "unit": "it",
       "unit_divisor": 1000,
       "unit_scale": false
      },
      "application/vnd.jupyter.widget-view+json": {
       "model_id": "",
       "version_major": 2,
       "version_minor": 0
      },
      "text/plain": [
       "Validation: 0it [00:00, ?it/s]"
      ]
     },
     "metadata": {},
     "output_type": "display_data"
    },
    {
     "data": {
      "application/json": {
       "ascii": false,
       "bar_format": null,
       "colour": null,
       "elapsed": 0.004724740982055664,
       "initial": 0,
       "n": 0,
       "ncols": 90,
       "nrows": 24,
       "postfix": null,
       "prefix": "Validation",
       "rate": null,
       "total": null,
       "unit": "it",
       "unit_divisor": 1000,
       "unit_scale": false
      },
      "application/vnd.jupyter.widget-view+json": {
       "model_id": "",
       "version_major": 2,
       "version_minor": 0
      },
      "text/plain": [
       "Validation: 0it [00:00, ?it/s]"
      ]
     },
     "metadata": {},
     "output_type": "display_data"
    },
    {
     "data": {
      "application/json": {
       "ascii": false,
       "bar_format": null,
       "colour": null,
       "elapsed": 0.004750967025756836,
       "initial": 0,
       "n": 0,
       "ncols": 90,
       "nrows": 24,
       "postfix": null,
       "prefix": "Validation",
       "rate": null,
       "total": null,
       "unit": "it",
       "unit_divisor": 1000,
       "unit_scale": false
      },
      "application/vnd.jupyter.widget-view+json": {
       "model_id": "",
       "version_major": 2,
       "version_minor": 0
      },
      "text/plain": [
       "Validation: 0it [00:00, ?it/s]"
      ]
     },
     "metadata": {},
     "output_type": "display_data"
    },
    {
     "data": {
      "application/json": {
       "ascii": false,
       "bar_format": null,
       "colour": null,
       "elapsed": 0.004987955093383789,
       "initial": 0,
       "n": 0,
       "ncols": 90,
       "nrows": 24,
       "postfix": null,
       "prefix": "Validation",
       "rate": null,
       "total": null,
       "unit": "it",
       "unit_divisor": 1000,
       "unit_scale": false
      },
      "application/vnd.jupyter.widget-view+json": {
       "model_id": "",
       "version_major": 2,
       "version_minor": 0
      },
      "text/plain": [
       "Validation: 0it [00:00, ?it/s]"
      ]
     },
     "metadata": {},
     "output_type": "display_data"
    },
    {
     "data": {
      "application/json": {
       "ascii": false,
       "bar_format": null,
       "colour": null,
       "elapsed": 0.004809856414794922,
       "initial": 0,
       "n": 0,
       "ncols": 90,
       "nrows": 24,
       "postfix": null,
       "prefix": "Validation",
       "rate": null,
       "total": null,
       "unit": "it",
       "unit_divisor": 1000,
       "unit_scale": false
      },
      "application/vnd.jupyter.widget-view+json": {
       "model_id": "",
       "version_major": 2,
       "version_minor": 0
      },
      "text/plain": [
       "Validation: 0it [00:00, ?it/s]"
      ]
     },
     "metadata": {},
     "output_type": "display_data"
    },
    {
     "data": {
      "application/json": {
       "ascii": false,
       "bar_format": null,
       "colour": null,
       "elapsed": 0.004790782928466797,
       "initial": 0,
       "n": 0,
       "ncols": 90,
       "nrows": 24,
       "postfix": null,
       "prefix": "Validation",
       "rate": null,
       "total": null,
       "unit": "it",
       "unit_divisor": 1000,
       "unit_scale": false
      },
      "application/vnd.jupyter.widget-view+json": {
       "model_id": "",
       "version_major": 2,
       "version_minor": 0
      },
      "text/plain": [
       "Validation: 0it [00:00, ?it/s]"
      ]
     },
     "metadata": {},
     "output_type": "display_data"
    },
    {
     "data": {
      "application/json": {
       "ascii": false,
       "bar_format": null,
       "colour": null,
       "elapsed": 0.004832267761230469,
       "initial": 0,
       "n": 0,
       "ncols": 90,
       "nrows": 24,
       "postfix": null,
       "prefix": "Validation",
       "rate": null,
       "total": null,
       "unit": "it",
       "unit_divisor": 1000,
       "unit_scale": false
      },
      "application/vnd.jupyter.widget-view+json": {
       "model_id": "",
       "version_major": 2,
       "version_minor": 0
      },
      "text/plain": [
       "Validation: 0it [00:00, ?it/s]"
      ]
     },
     "metadata": {},
     "output_type": "display_data"
    },
    {
     "data": {
      "application/json": {
       "ascii": false,
       "bar_format": null,
       "colour": null,
       "elapsed": 0.0047550201416015625,
       "initial": 0,
       "n": 0,
       "ncols": 90,
       "nrows": 24,
       "postfix": null,
       "prefix": "Validation",
       "rate": null,
       "total": null,
       "unit": "it",
       "unit_divisor": 1000,
       "unit_scale": false
      },
      "application/vnd.jupyter.widget-view+json": {
       "model_id": "",
       "version_major": 2,
       "version_minor": 0
      },
      "text/plain": [
       "Validation: 0it [00:00, ?it/s]"
      ]
     },
     "metadata": {},
     "output_type": "display_data"
    },
    {
     "name": "stdout",
     "output_type": "stream",
     "text": [
      "Epoch 00025: reducing learning rate of group 0 to 6.4000e-04.\n"
     ]
    },
    {
     "data": {
      "application/json": {
       "ascii": false,
       "bar_format": null,
       "colour": null,
       "elapsed": 0.0047800540924072266,
       "initial": 0,
       "n": 0,
       "ncols": 90,
       "nrows": 24,
       "postfix": null,
       "prefix": "Validation",
       "rate": null,
       "total": null,
       "unit": "it",
       "unit_divisor": 1000,
       "unit_scale": false
      },
      "application/vnd.jupyter.widget-view+json": {
       "model_id": "",
       "version_major": 2,
       "version_minor": 0
      },
      "text/plain": [
       "Validation: 0it [00:00, ?it/s]"
      ]
     },
     "metadata": {},
     "output_type": "display_data"
    },
    {
     "data": {
      "application/json": {
       "ascii": false,
       "bar_format": null,
       "colour": null,
       "elapsed": 0.004821300506591797,
       "initial": 0,
       "n": 0,
       "ncols": 90,
       "nrows": 24,
       "postfix": null,
       "prefix": "Validation",
       "rate": null,
       "total": null,
       "unit": "it",
       "unit_divisor": 1000,
       "unit_scale": false
      },
      "application/vnd.jupyter.widget-view+json": {
       "model_id": "",
       "version_major": 2,
       "version_minor": 0
      },
      "text/plain": [
       "Validation: 0it [00:00, ?it/s]"
      ]
     },
     "metadata": {},
     "output_type": "display_data"
    },
    {
     "data": {
      "application/json": {
       "ascii": false,
       "bar_format": null,
       "colour": null,
       "elapsed": 0.004777669906616211,
       "initial": 0,
       "n": 0,
       "ncols": 90,
       "nrows": 24,
       "postfix": null,
       "prefix": "Validation",
       "rate": null,
       "total": null,
       "unit": "it",
       "unit_divisor": 1000,
       "unit_scale": false
      },
      "application/vnd.jupyter.widget-view+json": {
       "model_id": "",
       "version_major": 2,
       "version_minor": 0
      },
      "text/plain": [
       "Validation: 0it [00:00, ?it/s]"
      ]
     },
     "metadata": {},
     "output_type": "display_data"
    },
    {
     "data": {
      "application/json": {
       "ascii": false,
       "bar_format": null,
       "colour": null,
       "elapsed": 0.0047817230224609375,
       "initial": 0,
       "n": 0,
       "ncols": 90,
       "nrows": 24,
       "postfix": null,
       "prefix": "Validation",
       "rate": null,
       "total": null,
       "unit": "it",
       "unit_divisor": 1000,
       "unit_scale": false
      },
      "application/vnd.jupyter.widget-view+json": {
       "model_id": "",
       "version_major": 2,
       "version_minor": 0
      },
      "text/plain": [
       "Validation: 0it [00:00, ?it/s]"
      ]
     },
     "metadata": {},
     "output_type": "display_data"
    },
    {
     "data": {
      "application/json": {
       "ascii": false,
       "bar_format": null,
       "colour": null,
       "elapsed": 0.004804372787475586,
       "initial": 0,
       "n": 0,
       "ncols": 90,
       "nrows": 24,
       "postfix": null,
       "prefix": "Validation",
       "rate": null,
       "total": null,
       "unit": "it",
       "unit_divisor": 1000,
       "unit_scale": false
      },
      "application/vnd.jupyter.widget-view+json": {
       "model_id": "",
       "version_major": 2,
       "version_minor": 0
      },
      "text/plain": [
       "Validation: 0it [00:00, ?it/s]"
      ]
     },
     "metadata": {},
     "output_type": "display_data"
    },
    {
     "data": {
      "application/json": {
       "ascii": false,
       "bar_format": null,
       "colour": null,
       "elapsed": 0.0048062801361083984,
       "initial": 0,
       "n": 0,
       "ncols": 90,
       "nrows": 24,
       "postfix": null,
       "prefix": "Validation",
       "rate": null,
       "total": null,
       "unit": "it",
       "unit_divisor": 1000,
       "unit_scale": false
      },
      "application/vnd.jupyter.widget-view+json": {
       "model_id": "",
       "version_major": 2,
       "version_minor": 0
      },
      "text/plain": [
       "Validation: 0it [00:00, ?it/s]"
      ]
     },
     "metadata": {},
     "output_type": "display_data"
    },
    {
     "name": "stdout",
     "output_type": "stream",
     "text": [
      "Epoch 00031: reducing learning rate of group 0 to 5.1200e-04.\n"
     ]
    },
    {
     "data": {
      "application/json": {
       "ascii": false,
       "bar_format": null,
       "colour": null,
       "elapsed": 0.00475001335144043,
       "initial": 0,
       "n": 0,
       "ncols": 90,
       "nrows": 24,
       "postfix": null,
       "prefix": "Validation",
       "rate": null,
       "total": null,
       "unit": "it",
       "unit_divisor": 1000,
       "unit_scale": false
      },
      "application/vnd.jupyter.widget-view+json": {
       "model_id": "",
       "version_major": 2,
       "version_minor": 0
      },
      "text/plain": [
       "Validation: 0it [00:00, ?it/s]"
      ]
     },
     "metadata": {},
     "output_type": "display_data"
    },
    {
     "data": {
      "application/json": {
       "ascii": false,
       "bar_format": null,
       "colour": null,
       "elapsed": 0.004957914352416992,
       "initial": 0,
       "n": 0,
       "ncols": 90,
       "nrows": 24,
       "postfix": null,
       "prefix": "Validation",
       "rate": null,
       "total": null,
       "unit": "it",
       "unit_divisor": 1000,
       "unit_scale": false
      },
      "application/vnd.jupyter.widget-view+json": {
       "model_id": "",
       "version_major": 2,
       "version_minor": 0
      },
      "text/plain": [
       "Validation: 0it [00:00, ?it/s]"
      ]
     },
     "metadata": {},
     "output_type": "display_data"
    },
    {
     "data": {
      "application/json": {
       "ascii": false,
       "bar_format": null,
       "colour": null,
       "elapsed": 0.00477290153503418,
       "initial": 0,
       "n": 0,
       "ncols": 90,
       "nrows": 24,
       "postfix": null,
       "prefix": "Validation",
       "rate": null,
       "total": null,
       "unit": "it",
       "unit_divisor": 1000,
       "unit_scale": false
      },
      "application/vnd.jupyter.widget-view+json": {
       "model_id": "",
       "version_major": 2,
       "version_minor": 0
      },
      "text/plain": [
       "Validation: 0it [00:00, ?it/s]"
      ]
     },
     "metadata": {},
     "output_type": "display_data"
    },
    {
     "data": {
      "application/json": {
       "ascii": false,
       "bar_format": null,
       "colour": null,
       "elapsed": 0.004769086837768555,
       "initial": 0,
       "n": 0,
       "ncols": 90,
       "nrows": 24,
       "postfix": null,
       "prefix": "Validation",
       "rate": null,
       "total": null,
       "unit": "it",
       "unit_divisor": 1000,
       "unit_scale": false
      },
      "application/vnd.jupyter.widget-view+json": {
       "model_id": "",
       "version_major": 2,
       "version_minor": 0
      },
      "text/plain": [
       "Validation: 0it [00:00, ?it/s]"
      ]
     },
     "metadata": {},
     "output_type": "display_data"
    },
    {
     "data": {
      "application/json": {
       "ascii": false,
       "bar_format": null,
       "colour": null,
       "elapsed": 0.0048367977142333984,
       "initial": 0,
       "n": 0,
       "ncols": 90,
       "nrows": 24,
       "postfix": null,
       "prefix": "Validation",
       "rate": null,
       "total": null,
       "unit": "it",
       "unit_divisor": 1000,
       "unit_scale": false
      },
      "application/vnd.jupyter.widget-view+json": {
       "model_id": "",
       "version_major": 2,
       "version_minor": 0
      },
      "text/plain": [
       "Validation: 0it [00:00, ?it/s]"
      ]
     },
     "metadata": {},
     "output_type": "display_data"
    },
    {
     "name": "stdout",
     "output_type": "stream",
     "text": [
      "Epoch 00036: reducing learning rate of group 0 to 4.0960e-04.\n"
     ]
    },
    {
     "data": {
      "application/json": {
       "ascii": false,
       "bar_format": null,
       "colour": null,
       "elapsed": 0.004753589630126953,
       "initial": 0,
       "n": 0,
       "ncols": 90,
       "nrows": 24,
       "postfix": null,
       "prefix": "Validation",
       "rate": null,
       "total": null,
       "unit": "it",
       "unit_divisor": 1000,
       "unit_scale": false
      },
      "application/vnd.jupyter.widget-view+json": {
       "model_id": "",
       "version_major": 2,
       "version_minor": 0
      },
      "text/plain": [
       "Validation: 0it [00:00, ?it/s]"
      ]
     },
     "metadata": {},
     "output_type": "display_data"
    },
    {
     "data": {
      "application/json": {
       "ascii": false,
       "bar_format": null,
       "colour": null,
       "elapsed": 0.004795074462890625,
       "initial": 0,
       "n": 0,
       "ncols": 90,
       "nrows": 24,
       "postfix": null,
       "prefix": "Validation",
       "rate": null,
       "total": null,
       "unit": "it",
       "unit_divisor": 1000,
       "unit_scale": false
      },
      "application/vnd.jupyter.widget-view+json": {
       "model_id": "",
       "version_major": 2,
       "version_minor": 0
      },
      "text/plain": [
       "Validation: 0it [00:00, ?it/s]"
      ]
     },
     "metadata": {},
     "output_type": "display_data"
    },
    {
     "data": {
      "application/json": {
       "ascii": false,
       "bar_format": null,
       "colour": null,
       "elapsed": 0.004918813705444336,
       "initial": 0,
       "n": 0,
       "ncols": 90,
       "nrows": 24,
       "postfix": null,
       "prefix": "Validation",
       "rate": null,
       "total": null,
       "unit": "it",
       "unit_divisor": 1000,
       "unit_scale": false
      },
      "application/vnd.jupyter.widget-view+json": {
       "model_id": "",
       "version_major": 2,
       "version_minor": 0
      },
      "text/plain": [
       "Validation: 0it [00:00, ?it/s]"
      ]
     },
     "metadata": {},
     "output_type": "display_data"
    },
    {
     "data": {
      "application/json": {
       "ascii": false,
       "bar_format": null,
       "colour": null,
       "elapsed": 0.0057621002197265625,
       "initial": 0,
       "n": 0,
       "ncols": 90,
       "nrows": 24,
       "postfix": null,
       "prefix": "Validation",
       "rate": null,
       "total": null,
       "unit": "it",
       "unit_divisor": 1000,
       "unit_scale": false
      },
      "application/vnd.jupyter.widget-view+json": {
       "model_id": "",
       "version_major": 2,
       "version_minor": 0
      },
      "text/plain": [
       "Validation: 0it [00:00, ?it/s]"
      ]
     },
     "metadata": {},
     "output_type": "display_data"
    },
    {
     "data": {
      "application/json": {
       "ascii": false,
       "bar_format": null,
       "colour": null,
       "elapsed": 0.004776716232299805,
       "initial": 0,
       "n": 0,
       "ncols": 90,
       "nrows": 24,
       "postfix": null,
       "prefix": "Validation",
       "rate": null,
       "total": null,
       "unit": "it",
       "unit_divisor": 1000,
       "unit_scale": false
      },
      "application/vnd.jupyter.widget-view+json": {
       "model_id": "",
       "version_major": 2,
       "version_minor": 0
      },
      "text/plain": [
       "Validation: 0it [00:00, ?it/s]"
      ]
     },
     "metadata": {},
     "output_type": "display_data"
    },
    {
     "data": {
      "application/json": {
       "ascii": false,
       "bar_format": null,
       "colour": null,
       "elapsed": 0.004826784133911133,
       "initial": 0,
       "n": 0,
       "ncols": 90,
       "nrows": 24,
       "postfix": null,
       "prefix": "Validation",
       "rate": null,
       "total": null,
       "unit": "it",
       "unit_divisor": 1000,
       "unit_scale": false
      },
      "application/vnd.jupyter.widget-view+json": {
       "model_id": "",
       "version_major": 2,
       "version_minor": 0
      },
      "text/plain": [
       "Validation: 0it [00:00, ?it/s]"
      ]
     },
     "metadata": {},
     "output_type": "display_data"
    },
    {
     "name": "stdout",
     "output_type": "stream",
     "text": [
      "Epoch 00042: reducing learning rate of group 0 to 3.2768e-04.\n"
     ]
    },
    {
     "data": {
      "application/json": {
       "ascii": false,
       "bar_format": null,
       "colour": null,
       "elapsed": 0.004758596420288086,
       "initial": 0,
       "n": 0,
       "ncols": 90,
       "nrows": 24,
       "postfix": null,
       "prefix": "Validation",
       "rate": null,
       "total": null,
       "unit": "it",
       "unit_divisor": 1000,
       "unit_scale": false
      },
      "application/vnd.jupyter.widget-view+json": {
       "model_id": "",
       "version_major": 2,
       "version_minor": 0
      },
      "text/plain": [
       "Validation: 0it [00:00, ?it/s]"
      ]
     },
     "metadata": {},
     "output_type": "display_data"
    },
    {
     "data": {
      "application/json": {
       "ascii": false,
       "bar_format": null,
       "colour": null,
       "elapsed": 0.004941463470458984,
       "initial": 0,
       "n": 0,
       "ncols": 90,
       "nrows": 24,
       "postfix": null,
       "prefix": "Validation",
       "rate": null,
       "total": null,
       "unit": "it",
       "unit_divisor": 1000,
       "unit_scale": false
      },
      "application/vnd.jupyter.widget-view+json": {
       "model_id": "d40b3b90208b44678cb9739fef88fc92",
       "version_major": 2,
       "version_minor": 0
      },
      "text/plain": [
       "Validation: 0it [00:00, ?it/s]"
      ]
     },
     "metadata": {},
     "output_type": "display_data"
    },
    {
     "data": {
      "application/json": {
       "ascii": false,
       "bar_format": null,
       "colour": null,
       "elapsed": 0.004766941070556641,
       "initial": 0,
       "n": 0,
       "ncols": 90,
       "nrows": 24,
       "postfix": null,
       "prefix": "Validation",
       "rate": null,
       "total": null,
       "unit": "it",
       "unit_divisor": 1000,
       "unit_scale": false
      },
      "application/vnd.jupyter.widget-view+json": {
       "model_id": "f978dac4c34d475d8417c36120f5aa63",
       "version_major": 2,
       "version_minor": 0
      },
      "text/plain": [
       "Validation: 0it [00:00, ?it/s]"
      ]
     },
     "metadata": {},
     "output_type": "display_data"
    },
    {
     "data": {
      "application/json": {
       "ascii": false,
       "bar_format": null,
       "colour": null,
       "elapsed": 0.004792213439941406,
       "initial": 0,
       "n": 0,
       "ncols": 90,
       "nrows": 24,
       "postfix": null,
       "prefix": "Validation",
       "rate": null,
       "total": null,
       "unit": "it",
       "unit_divisor": 1000,
       "unit_scale": false
      },
      "application/vnd.jupyter.widget-view+json": {
       "model_id": "7707712281814f7c8e25400132da7f18",
       "version_major": 2,
       "version_minor": 0
      },
      "text/plain": [
       "Validation: 0it [00:00, ?it/s]"
      ]
     },
     "metadata": {},
     "output_type": "display_data"
    },
    {
     "data": {
      "application/json": {
       "ascii": false,
       "bar_format": null,
       "colour": null,
       "elapsed": 0.00495147705078125,
       "initial": 0,
       "n": 0,
       "ncols": 90,
       "nrows": 24,
       "postfix": null,
       "prefix": "Validation",
       "rate": null,
       "total": null,
       "unit": "it",
       "unit_divisor": 1000,
       "unit_scale": false
      },
      "application/vnd.jupyter.widget-view+json": {
       "model_id": "76d2af5859b44eb6bdbf61cf41ceced7",
       "version_major": 2,
       "version_minor": 0
      },
      "text/plain": [
       "Validation: 0it [00:00, ?it/s]"
      ]
     },
     "metadata": {},
     "output_type": "display_data"
    },
    {
     "data": {
      "application/json": {
       "ascii": false,
       "bar_format": null,
       "colour": null,
       "elapsed": 0.0049326419830322266,
       "initial": 0,
       "n": 0,
       "ncols": 90,
       "nrows": 24,
       "postfix": null,
       "prefix": "Validation",
       "rate": null,
       "total": null,
       "unit": "it",
       "unit_divisor": 1000,
       "unit_scale": false
      },
      "application/vnd.jupyter.widget-view+json": {
       "model_id": "c9dd7aec3ba944e3984d3a0bd08ae749",
       "version_major": 2,
       "version_minor": 0
      },
      "text/plain": [
       "Validation: 0it [00:00, ?it/s]"
      ]
     },
     "metadata": {},
     "output_type": "display_data"
    },
    {
     "name": "stdout",
     "output_type": "stream",
     "text": [
      "Epoch 00048: reducing learning rate of group 0 to 2.6214e-04.\n"
     ]
    },
    {
     "data": {
      "application/json": {
       "ascii": false,
       "bar_format": null,
       "colour": null,
       "elapsed": 0.00485539436340332,
       "initial": 0,
       "n": 0,
       "ncols": 90,
       "nrows": 24,
       "postfix": null,
       "prefix": "Validation",
       "rate": null,
       "total": null,
       "unit": "it",
       "unit_divisor": 1000,
       "unit_scale": false
      },
      "application/vnd.jupyter.widget-view+json": {
       "model_id": "922d9e2592a748a3ad094dcc4d988f92",
       "version_major": 2,
       "version_minor": 0
      },
      "text/plain": [
       "Validation: 0it [00:00, ?it/s]"
      ]
     },
     "metadata": {},
     "output_type": "display_data"
    },
    {
     "data": {
      "application/json": {
       "ascii": false,
       "bar_format": null,
       "colour": null,
       "elapsed": 0.004855155944824219,
       "initial": 0,
       "n": 0,
       "ncols": 90,
       "nrows": 24,
       "postfix": null,
       "prefix": "Validation",
       "rate": null,
       "total": null,
       "unit": "it",
       "unit_divisor": 1000,
       "unit_scale": false
      },
      "application/vnd.jupyter.widget-view+json": {
       "model_id": "adc3ee0d822f4ffe96b5824671443aeb",
       "version_major": 2,
       "version_minor": 0
      },
      "text/plain": [
       "Validation: 0it [00:00, ?it/s]"
      ]
     },
     "metadata": {},
     "output_type": "display_data"
    },
    {
     "data": {
      "application/json": {
       "ascii": false,
       "bar_format": null,
       "colour": null,
       "elapsed": 0.004755496978759766,
       "initial": 0,
       "n": 0,
       "ncols": 90,
       "nrows": 24,
       "postfix": null,
       "prefix": "Validation",
       "rate": null,
       "total": null,
       "unit": "it",
       "unit_divisor": 1000,
       "unit_scale": false
      },
      "application/vnd.jupyter.widget-view+json": {
       "model_id": "5e73121ce362415e97579f4313275b14",
       "version_major": 2,
       "version_minor": 0
      },
      "text/plain": [
       "Validation: 0it [00:00, ?it/s]"
      ]
     },
     "metadata": {},
     "output_type": "display_data"
    },
    {
     "data": {
      "application/json": {
       "ascii": false,
       "bar_format": null,
       "colour": null,
       "elapsed": 0.0047893524169921875,
       "initial": 0,
       "n": 0,
       "ncols": 90,
       "nrows": 24,
       "postfix": null,
       "prefix": "Validation",
       "rate": null,
       "total": null,
       "unit": "it",
       "unit_divisor": 1000,
       "unit_scale": false
      },
      "application/vnd.jupyter.widget-view+json": {
       "model_id": "efc830d0d9f140ed8aa5b0edf205c08e",
       "version_major": 2,
       "version_minor": 0
      },
      "text/plain": [
       "Validation: 0it [00:00, ?it/s]"
      ]
     },
     "metadata": {},
     "output_type": "display_data"
    },
    {
     "data": {
      "application/json": {
       "ascii": false,
       "bar_format": null,
       "colour": null,
       "elapsed": 0.004767656326293945,
       "initial": 0,
       "n": 0,
       "ncols": 90,
       "nrows": 24,
       "postfix": null,
       "prefix": "Validation",
       "rate": null,
       "total": null,
       "unit": "it",
       "unit_divisor": 1000,
       "unit_scale": false
      },
      "application/vnd.jupyter.widget-view+json": {
       "model_id": "162134b731e148b290011c4d37a1e2df",
       "version_major": 2,
       "version_minor": 0
      },
      "text/plain": [
       "Validation: 0it [00:00, ?it/s]"
      ]
     },
     "metadata": {},
     "output_type": "display_data"
    },
    {
     "data": {
      "application/json": {
       "ascii": false,
       "bar_format": null,
       "colour": null,
       "elapsed": 0.0047528743743896484,
       "initial": 0,
       "n": 0,
       "ncols": 90,
       "nrows": 24,
       "postfix": null,
       "prefix": "Validation",
       "rate": null,
       "total": null,
       "unit": "it",
       "unit_divisor": 1000,
       "unit_scale": false
      },
      "application/vnd.jupyter.widget-view+json": {
       "model_id": "239df529c7d9412c9a96c332714c8437",
       "version_major": 2,
       "version_minor": 0
      },
      "text/plain": [
       "Validation: 0it [00:00, ?it/s]"
      ]
     },
     "metadata": {},
     "output_type": "display_data"
    },
    {
     "data": {
      "application/json": {
       "ascii": false,
       "bar_format": null,
       "colour": null,
       "elapsed": 0.004730939865112305,
       "initial": 0,
       "n": 0,
       "ncols": 90,
       "nrows": 24,
       "postfix": null,
       "prefix": "Validation",
       "rate": null,
       "total": null,
       "unit": "it",
       "unit_divisor": 1000,
       "unit_scale": false
      },
      "application/vnd.jupyter.widget-view+json": {
       "model_id": "1d4be6b1f8874660993159fee9607d55",
       "version_major": 2,
       "version_minor": 0
      },
      "text/plain": [
       "Validation: 0it [00:00, ?it/s]"
      ]
     },
     "metadata": {},
     "output_type": "display_data"
    },
    {
     "name": "stdout",
     "output_type": "stream",
     "text": [
      "Epoch 00055: reducing learning rate of group 0 to 2.0972e-04.\n"
     ]
    },
    {
     "data": {
      "application/json": {
       "ascii": false,
       "bar_format": null,
       "colour": null,
       "elapsed": 0.00496673583984375,
       "initial": 0,
       "n": 0,
       "ncols": 90,
       "nrows": 24,
       "postfix": null,
       "prefix": "Validation",
       "rate": null,
       "total": null,
       "unit": "it",
       "unit_divisor": 1000,
       "unit_scale": false
      },
      "application/vnd.jupyter.widget-view+json": {
       "model_id": "ec80e2c220e94323b4f6dec6bcfae73d",
       "version_major": 2,
       "version_minor": 0
      },
      "text/plain": [
       "Validation: 0it [00:00, ?it/s]"
      ]
     },
     "metadata": {},
     "output_type": "display_data"
    },
    {
     "data": {
      "application/json": {
       "ascii": false,
       "bar_format": null,
       "colour": null,
       "elapsed": 0.0047969818115234375,
       "initial": 0,
       "n": 0,
       "ncols": 90,
       "nrows": 24,
       "postfix": null,
       "prefix": "Validation",
       "rate": null,
       "total": null,
       "unit": "it",
       "unit_divisor": 1000,
       "unit_scale": false
      },
      "application/vnd.jupyter.widget-view+json": {
       "model_id": "e17a0c199b4d44dcabc03a51c7f702cc",
       "version_major": 2,
       "version_minor": 0
      },
      "text/plain": [
       "Validation: 0it [00:00, ?it/s]"
      ]
     },
     "metadata": {},
     "output_type": "display_data"
    },
    {
     "data": {
      "application/json": {
       "ascii": false,
       "bar_format": null,
       "colour": null,
       "elapsed": 0.005060434341430664,
       "initial": 0,
       "n": 0,
       "ncols": 90,
       "nrows": 24,
       "postfix": null,
       "prefix": "Validation",
       "rate": null,
       "total": null,
       "unit": "it",
       "unit_divisor": 1000,
       "unit_scale": false
      },
      "application/vnd.jupyter.widget-view+json": {
       "model_id": "5a45c8f13d8e4c0ab10eaecbe06719ee",
       "version_major": 2,
       "version_minor": 0
      },
      "text/plain": [
       "Validation: 0it [00:00, ?it/s]"
      ]
     },
     "metadata": {},
     "output_type": "display_data"
    },
    {
     "data": {
      "application/json": {
       "ascii": false,
       "bar_format": null,
       "colour": null,
       "elapsed": 0.00475621223449707,
       "initial": 0,
       "n": 0,
       "ncols": 90,
       "nrows": 24,
       "postfix": null,
       "prefix": "Validation",
       "rate": null,
       "total": null,
       "unit": "it",
       "unit_divisor": 1000,
       "unit_scale": false
      },
      "application/vnd.jupyter.widget-view+json": {
       "model_id": "5d654b7495874057a51af178f2ea1632",
       "version_major": 2,
       "version_minor": 0
      },
      "text/plain": [
       "Validation: 0it [00:00, ?it/s]"
      ]
     },
     "metadata": {},
     "output_type": "display_data"
    },
    {
     "data": {
      "application/json": {
       "ascii": false,
       "bar_format": null,
       "colour": null,
       "elapsed": 0.004796743392944336,
       "initial": 0,
       "n": 0,
       "ncols": 90,
       "nrows": 24,
       "postfix": null,
       "prefix": "Validation",
       "rate": null,
       "total": null,
       "unit": "it",
       "unit_divisor": 1000,
       "unit_scale": false
      },
      "application/vnd.jupyter.widget-view+json": {
       "model_id": "3f2b96560c7a4dd8958251bff917cb64",
       "version_major": 2,
       "version_minor": 0
      },
      "text/plain": [
       "Validation: 0it [00:00, ?it/s]"
      ]
     },
     "metadata": {},
     "output_type": "display_data"
    },
    {
     "name": "stdout",
     "output_type": "stream",
     "text": [
      "Epoch 00060: reducing learning rate of group 0 to 1.6777e-04.\n"
     ]
    },
    {
     "data": {
      "application/json": {
       "ascii": false,
       "bar_format": null,
       "colour": null,
       "elapsed": 0.005049705505371094,
       "initial": 0,
       "n": 0,
       "ncols": 90,
       "nrows": 24,
       "postfix": null,
       "prefix": "Validation",
       "rate": null,
       "total": null,
       "unit": "it",
       "unit_divisor": 1000,
       "unit_scale": false
      },
      "application/vnd.jupyter.widget-view+json": {
       "model_id": "c5fb7de7a5d448c19d353f242f97bd1f",
       "version_major": 2,
       "version_minor": 0
      },
      "text/plain": [
       "Validation: 0it [00:00, ?it/s]"
      ]
     },
     "metadata": {},
     "output_type": "display_data"
    },
    {
     "data": {
      "application/json": {
       "ascii": false,
       "bar_format": null,
       "colour": null,
       "elapsed": 0.004745960235595703,
       "initial": 0,
       "n": 0,
       "ncols": 90,
       "nrows": 24,
       "postfix": null,
       "prefix": "Validation",
       "rate": null,
       "total": null,
       "unit": "it",
       "unit_divisor": 1000,
       "unit_scale": false
      },
      "application/vnd.jupyter.widget-view+json": {
       "model_id": "512a95174d8d42b3a0fb2d27027c15dd",
       "version_major": 2,
       "version_minor": 0
      },
      "text/plain": [
       "Validation: 0it [00:00, ?it/s]"
      ]
     },
     "metadata": {},
     "output_type": "display_data"
    },
    {
     "data": {
      "application/json": {
       "ascii": false,
       "bar_format": null,
       "colour": null,
       "elapsed": 0.004774808883666992,
       "initial": 0,
       "n": 0,
       "ncols": 90,
       "nrows": 24,
       "postfix": null,
       "prefix": "Validation",
       "rate": null,
       "total": null,
       "unit": "it",
       "unit_divisor": 1000,
       "unit_scale": false
      },
      "application/vnd.jupyter.widget-view+json": {
       "model_id": "24520cfc8aa34a6d8e4708df1c2408f0",
       "version_major": 2,
       "version_minor": 0
      },
      "text/plain": [
       "Validation: 0it [00:00, ?it/s]"
      ]
     },
     "metadata": {},
     "output_type": "display_data"
    },
    {
     "data": {
      "application/json": {
       "ascii": false,
       "bar_format": null,
       "colour": null,
       "elapsed": 0.004870176315307617,
       "initial": 0,
       "n": 0,
       "ncols": 90,
       "nrows": 24,
       "postfix": null,
       "prefix": "Validation",
       "rate": null,
       "total": null,
       "unit": "it",
       "unit_divisor": 1000,
       "unit_scale": false
      },
      "application/vnd.jupyter.widget-view+json": {
       "model_id": "129dc0a8906d4370965d96130ebe3a12",
       "version_major": 2,
       "version_minor": 0
      },
      "text/plain": [
       "Validation: 0it [00:00, ?it/s]"
      ]
     },
     "metadata": {},
     "output_type": "display_data"
    },
    {
     "data": {
      "application/json": {
       "ascii": false,
       "bar_format": null,
       "colour": null,
       "elapsed": 0.004803657531738281,
       "initial": 0,
       "n": 0,
       "ncols": 90,
       "nrows": 24,
       "postfix": null,
       "prefix": "Validation",
       "rate": null,
       "total": null,
       "unit": "it",
       "unit_divisor": 1000,
       "unit_scale": false
      },
      "application/vnd.jupyter.widget-view+json": {
       "model_id": "1017995cc9a945fc990b33195a104693",
       "version_major": 2,
       "version_minor": 0
      },
      "text/plain": [
       "Validation: 0it [00:00, ?it/s]"
      ]
     },
     "metadata": {},
     "output_type": "display_data"
    },
    {
     "data": {
      "application/json": {
       "ascii": false,
       "bar_format": null,
       "colour": null,
       "elapsed": 0.004790782928466797,
       "initial": 0,
       "n": 0,
       "ncols": 90,
       "nrows": 24,
       "postfix": null,
       "prefix": "Validation",
       "rate": null,
       "total": null,
       "unit": "it",
       "unit_divisor": 1000,
       "unit_scale": false
      },
      "application/vnd.jupyter.widget-view+json": {
       "model_id": "b1bdb6b21a2f4796a86f78b38ddd1fdf",
       "version_major": 2,
       "version_minor": 0
      },
      "text/plain": [
       "Validation: 0it [00:00, ?it/s]"
      ]
     },
     "metadata": {},
     "output_type": "display_data"
    },
    {
     "name": "stdout",
     "output_type": "stream",
     "text": [
      "Epoch 00066: reducing learning rate of group 0 to 1.3422e-04.\n"
     ]
    },
    {
     "data": {
      "application/json": {
       "ascii": false,
       "bar_format": null,
       "colour": null,
       "elapsed": 0.004869222640991211,
       "initial": 0,
       "n": 0,
       "ncols": 90,
       "nrows": 24,
       "postfix": null,
       "prefix": "Validation",
       "rate": null,
       "total": null,
       "unit": "it",
       "unit_divisor": 1000,
       "unit_scale": false
      },
      "application/vnd.jupyter.widget-view+json": {
       "model_id": "46a48a754f994b939cd67f1af0070617",
       "version_major": 2,
       "version_minor": 0
      },
      "text/plain": [
       "Validation: 0it [00:00, ?it/s]"
      ]
     },
     "metadata": {},
     "output_type": "display_data"
    },
    {
     "data": {
      "application/json": {
       "ascii": false,
       "bar_format": null,
       "colour": null,
       "elapsed": 0.0048291683197021484,
       "initial": 0,
       "n": 0,
       "ncols": 90,
       "nrows": 24,
       "postfix": null,
       "prefix": "Validation",
       "rate": null,
       "total": null,
       "unit": "it",
       "unit_divisor": 1000,
       "unit_scale": false
      },
      "application/vnd.jupyter.widget-view+json": {
       "model_id": "8b5755156faa46c1830e0c3c3ede3613",
       "version_major": 2,
       "version_minor": 0
      },
      "text/plain": [
       "Validation: 0it [00:00, ?it/s]"
      ]
     },
     "metadata": {},
     "output_type": "display_data"
    },
    {
     "data": {
      "application/json": {
       "ascii": false,
       "bar_format": null,
       "colour": null,
       "elapsed": 0.004880189895629883,
       "initial": 0,
       "n": 0,
       "ncols": 90,
       "nrows": 24,
       "postfix": null,
       "prefix": "Validation",
       "rate": null,
       "total": null,
       "unit": "it",
       "unit_divisor": 1000,
       "unit_scale": false
      },
      "application/vnd.jupyter.widget-view+json": {
       "model_id": "dc25d9d1e7134019aa8c7226c2b38f97",
       "version_major": 2,
       "version_minor": 0
      },
      "text/plain": [
       "Validation: 0it [00:00, ?it/s]"
      ]
     },
     "metadata": {},
     "output_type": "display_data"
    },
    {
     "data": {
      "application/json": {
       "ascii": false,
       "bar_format": null,
       "colour": null,
       "elapsed": 0.004709959030151367,
       "initial": 0,
       "n": 0,
       "ncols": 90,
       "nrows": 24,
       "postfix": null,
       "prefix": "Validation",
       "rate": null,
       "total": null,
       "unit": "it",
       "unit_divisor": 1000,
       "unit_scale": false
      },
      "application/vnd.jupyter.widget-view+json": {
       "model_id": "7cd3997b2bfb4d7a878f8f89f7f53704",
       "version_major": 2,
       "version_minor": 0
      },
      "text/plain": [
       "Validation: 0it [00:00, ?it/s]"
      ]
     },
     "metadata": {},
     "output_type": "display_data"
    },
    {
     "data": {
      "application/json": {
       "ascii": false,
       "bar_format": null,
       "colour": null,
       "elapsed": 0.0047359466552734375,
       "initial": 0,
       "n": 0,
       "ncols": 90,
       "nrows": 24,
       "postfix": null,
       "prefix": "Validation",
       "rate": null,
       "total": null,
       "unit": "it",
       "unit_divisor": 1000,
       "unit_scale": false
      },
      "application/vnd.jupyter.widget-view+json": {
       "model_id": "9df42ac268714bd8aea0a780f2e1def1",
       "version_major": 2,
       "version_minor": 0
      },
      "text/plain": [
       "Validation: 0it [00:00, ?it/s]"
      ]
     },
     "metadata": {},
     "output_type": "display_data"
    },
    {
     "data": {
      "application/json": {
       "ascii": false,
       "bar_format": null,
       "colour": null,
       "elapsed": 0.004740715026855469,
       "initial": 0,
       "n": 0,
       "ncols": 90,
       "nrows": 24,
       "postfix": null,
       "prefix": "Validation",
       "rate": null,
       "total": null,
       "unit": "it",
       "unit_divisor": 1000,
       "unit_scale": false
      },
      "application/vnd.jupyter.widget-view+json": {
       "model_id": "9a83f233024544ffbaa14f7ee4a35754",
       "version_major": 2,
       "version_minor": 0
      },
      "text/plain": [
       "Validation: 0it [00:00, ?it/s]"
      ]
     },
     "metadata": {},
     "output_type": "display_data"
    },
    {
     "data": {
      "application/json": {
       "ascii": false,
       "bar_format": null,
       "colour": null,
       "elapsed": 0.004815101623535156,
       "initial": 0,
       "n": 0,
       "ncols": 90,
       "nrows": 24,
       "postfix": null,
       "prefix": "Validation",
       "rate": null,
       "total": null,
       "unit": "it",
       "unit_divisor": 1000,
       "unit_scale": false
      },
      "application/vnd.jupyter.widget-view+json": {
       "model_id": "4f6881a09dad4ce388e20dce8664214e",
       "version_major": 2,
       "version_minor": 0
      },
      "text/plain": [
       "Validation: 0it [00:00, ?it/s]"
      ]
     },
     "metadata": {},
     "output_type": "display_data"
    },
    {
     "name": "stdout",
     "output_type": "stream",
     "text": [
      "Epoch 00073: reducing learning rate of group 0 to 1.0737e-04.\n"
     ]
    },
    {
     "data": {
      "application/json": {
       "ascii": false,
       "bar_format": null,
       "colour": null,
       "elapsed": 0.004821300506591797,
       "initial": 0,
       "n": 0,
       "ncols": 90,
       "nrows": 24,
       "postfix": null,
       "prefix": "Validation",
       "rate": null,
       "total": null,
       "unit": "it",
       "unit_divisor": 1000,
       "unit_scale": false
      },
      "application/vnd.jupyter.widget-view+json": {
       "model_id": "551ef41ec1504d09aec05fe5ac6fd73f",
       "version_major": 2,
       "version_minor": 0
      },
      "text/plain": [
       "Validation: 0it [00:00, ?it/s]"
      ]
     },
     "metadata": {},
     "output_type": "display_data"
    },
    {
     "data": {
      "application/json": {
       "ascii": false,
       "bar_format": null,
       "colour": null,
       "elapsed": 0.0048236846923828125,
       "initial": 0,
       "n": 0,
       "ncols": 90,
       "nrows": 24,
       "postfix": null,
       "prefix": "Validation",
       "rate": null,
       "total": null,
       "unit": "it",
       "unit_divisor": 1000,
       "unit_scale": false
      },
      "application/vnd.jupyter.widget-view+json": {
       "model_id": "a2e5f99f3acd4342a484f0daf8413d15",
       "version_major": 2,
       "version_minor": 0
      },
      "text/plain": [
       "Validation: 0it [00:00, ?it/s]"
      ]
     },
     "metadata": {},
     "output_type": "display_data"
    },
    {
     "data": {
      "application/json": {
       "ascii": false,
       "bar_format": null,
       "colour": null,
       "elapsed": 0.0047454833984375,
       "initial": 0,
       "n": 0,
       "ncols": 90,
       "nrows": 24,
       "postfix": null,
       "prefix": "Validation",
       "rate": null,
       "total": null,
       "unit": "it",
       "unit_divisor": 1000,
       "unit_scale": false
      },
      "application/vnd.jupyter.widget-view+json": {
       "model_id": "d0fa9c908d8f4ad784b16f1bc00ecb80",
       "version_major": 2,
       "version_minor": 0
      },
      "text/plain": [
       "Validation: 0it [00:00, ?it/s]"
      ]
     },
     "metadata": {},
     "output_type": "display_data"
    },
    {
     "data": {
      "application/json": {
       "ascii": false,
       "bar_format": null,
       "colour": null,
       "elapsed": 0.005491971969604492,
       "initial": 0,
       "n": 0,
       "ncols": 90,
       "nrows": 24,
       "postfix": null,
       "prefix": "Validation",
       "rate": null,
       "total": null,
       "unit": "it",
       "unit_divisor": 1000,
       "unit_scale": false
      },
      "application/vnd.jupyter.widget-view+json": {
       "model_id": "0582c1c7afef48bca05ec06aefdacb75",
       "version_major": 2,
       "version_minor": 0
      },
      "text/plain": [
       "Validation: 0it [00:00, ?it/s]"
      ]
     },
     "metadata": {},
     "output_type": "display_data"
    },
    {
     "data": {
      "application/json": {
       "ascii": false,
       "bar_format": null,
       "colour": null,
       "elapsed": 0.004718780517578125,
       "initial": 0,
       "n": 0,
       "ncols": 90,
       "nrows": 24,
       "postfix": null,
       "prefix": "Validation",
       "rate": null,
       "total": null,
       "unit": "it",
       "unit_divisor": 1000,
       "unit_scale": false
      },
      "application/vnd.jupyter.widget-view+json": {
       "model_id": "bee7978950504082bc92204e63349f20",
       "version_major": 2,
       "version_minor": 0
      },
      "text/plain": [
       "Validation: 0it [00:00, ?it/s]"
      ]
     },
     "metadata": {},
     "output_type": "display_data"
    },
    {
     "data": {
      "application/json": {
       "ascii": false,
       "bar_format": null,
       "colour": null,
       "elapsed": 0.004969120025634766,
       "initial": 0,
       "n": 0,
       "ncols": 90,
       "nrows": 24,
       "postfix": null,
       "prefix": "Validation",
       "rate": null,
       "total": null,
       "unit": "it",
       "unit_divisor": 1000,
       "unit_scale": false
      },
      "application/vnd.jupyter.widget-view+json": {
       "model_id": "50b099fdae9b48af93b284bae1b2e64a",
       "version_major": 2,
       "version_minor": 0
      },
      "text/plain": [
       "Validation: 0it [00:00, ?it/s]"
      ]
     },
     "metadata": {},
     "output_type": "display_data"
    },
    {
     "data": {
      "application/json": {
       "ascii": false,
       "bar_format": null,
       "colour": null,
       "elapsed": 0.004739522933959961,
       "initial": 0,
       "n": 0,
       "ncols": 90,
       "nrows": 24,
       "postfix": null,
       "prefix": "Validation",
       "rate": null,
       "total": null,
       "unit": "it",
       "unit_divisor": 1000,
       "unit_scale": false
      },
      "application/vnd.jupyter.widget-view+json": {
       "model_id": "8e665a5583e24b1a9d8f501deb80a9e7",
       "version_major": 2,
       "version_minor": 0
      },
      "text/plain": [
       "Validation: 0it [00:00, ?it/s]"
      ]
     },
     "metadata": {},
     "output_type": "display_data"
    },
    {
     "data": {
      "application/json": {
       "ascii": false,
       "bar_format": null,
       "colour": null,
       "elapsed": 0.004797697067260742,
       "initial": 0,
       "n": 0,
       "ncols": 90,
       "nrows": 24,
       "postfix": null,
       "prefix": "Validation",
       "rate": null,
       "total": null,
       "unit": "it",
       "unit_divisor": 1000,
       "unit_scale": false
      },
      "application/vnd.jupyter.widget-view+json": {
       "model_id": "80b11575e8fc4e588196e02f78ee3953",
       "version_major": 2,
       "version_minor": 0
      },
      "text/plain": [
       "Validation: 0it [00:00, ?it/s]"
      ]
     },
     "metadata": {},
     "output_type": "display_data"
    },
    {
     "data": {
      "application/json": {
       "ascii": false,
       "bar_format": null,
       "colour": null,
       "elapsed": 0.004729509353637695,
       "initial": 0,
       "n": 0,
       "ncols": 90,
       "nrows": 24,
       "postfix": null,
       "prefix": "Validation",
       "rate": null,
       "total": null,
       "unit": "it",
       "unit_divisor": 1000,
       "unit_scale": false
      },
      "application/vnd.jupyter.widget-view+json": {
       "model_id": "da8aa3919b87491b90bbcaf2f330a5dc",
       "version_major": 2,
       "version_minor": 0
      },
      "text/plain": [
       "Validation: 0it [00:00, ?it/s]"
      ]
     },
     "metadata": {},
     "output_type": "display_data"
    },
    {
     "data": {
      "application/json": {
       "ascii": false,
       "bar_format": null,
       "colour": null,
       "elapsed": 0.0048100948333740234,
       "initial": 0,
       "n": 0,
       "ncols": 90,
       "nrows": 24,
       "postfix": null,
       "prefix": "Validation",
       "rate": null,
       "total": null,
       "unit": "it",
       "unit_divisor": 1000,
       "unit_scale": false
      },
      "application/vnd.jupyter.widget-view+json": {
       "model_id": "289883d887fe477581afae0c0a41ee21",
       "version_major": 2,
       "version_minor": 0
      },
      "text/plain": [
       "Validation: 0it [00:00, ?it/s]"
      ]
     },
     "metadata": {},
     "output_type": "display_data"
    },
    {
     "data": {
      "application/json": {
       "ascii": false,
       "bar_format": null,
       "colour": null,
       "elapsed": 0.004947662353515625,
       "initial": 0,
       "n": 0,
       "ncols": 90,
       "nrows": 24,
       "postfix": null,
       "prefix": "Validation",
       "rate": null,
       "total": null,
       "unit": "it",
       "unit_divisor": 1000,
       "unit_scale": false
      },
      "application/vnd.jupyter.widget-view+json": {
       "model_id": "fbbfd570d9ae4da0b2f42266a766dd81",
       "version_major": 2,
       "version_minor": 0
      },
      "text/plain": [
       "Validation: 0it [00:00, ?it/s]"
      ]
     },
     "metadata": {},
     "output_type": "display_data"
    },
    {
     "name": "stdout",
     "output_type": "stream",
     "text": [
      "Epoch 00084: reducing learning rate of group 0 to 8.5899e-05.\n"
     ]
    },
    {
     "data": {
      "application/json": {
       "ascii": false,
       "bar_format": null,
       "colour": null,
       "elapsed": 0.004883527755737305,
       "initial": 0,
       "n": 0,
       "ncols": 90,
       "nrows": 24,
       "postfix": null,
       "prefix": "Validation",
       "rate": null,
       "total": null,
       "unit": "it",
       "unit_divisor": 1000,
       "unit_scale": false
      },
      "application/vnd.jupyter.widget-view+json": {
       "model_id": "c869e5b0d52549d181baeb846594bbf2",
       "version_major": 2,
       "version_minor": 0
      },
      "text/plain": [
       "Validation: 0it [00:00, ?it/s]"
      ]
     },
     "metadata": {},
     "output_type": "display_data"
    },
    {
     "data": {
      "application/json": {
       "ascii": false,
       "bar_format": null,
       "colour": null,
       "elapsed": 0.004736423492431641,
       "initial": 0,
       "n": 0,
       "ncols": 90,
       "nrows": 24,
       "postfix": null,
       "prefix": "Validation",
       "rate": null,
       "total": null,
       "unit": "it",
       "unit_divisor": 1000,
       "unit_scale": false
      },
      "application/vnd.jupyter.widget-view+json": {
       "model_id": "ab5a62a192b54a668fe09bb77b6e4de7",
       "version_major": 2,
       "version_minor": 0
      },
      "text/plain": [
       "Validation: 0it [00:00, ?it/s]"
      ]
     },
     "metadata": {},
     "output_type": "display_data"
    },
    {
     "data": {
      "application/json": {
       "ascii": false,
       "bar_format": null,
       "colour": null,
       "elapsed": 0.00474095344543457,
       "initial": 0,
       "n": 0,
       "ncols": 90,
       "nrows": 24,
       "postfix": null,
       "prefix": "Validation",
       "rate": null,
       "total": null,
       "unit": "it",
       "unit_divisor": 1000,
       "unit_scale": false
      },
      "application/vnd.jupyter.widget-view+json": {
       "model_id": "70c05c95afbd4b43bb629209a439c253",
       "version_major": 2,
       "version_minor": 0
      },
      "text/plain": [
       "Validation: 0it [00:00, ?it/s]"
      ]
     },
     "metadata": {},
     "output_type": "display_data"
    },
    {
     "data": {
      "application/json": {
       "ascii": false,
       "bar_format": null,
       "colour": null,
       "elapsed": 0.004737138748168945,
       "initial": 0,
       "n": 0,
       "ncols": 90,
       "nrows": 24,
       "postfix": null,
       "prefix": "Validation",
       "rate": null,
       "total": null,
       "unit": "it",
       "unit_divisor": 1000,
       "unit_scale": false
      },
      "application/vnd.jupyter.widget-view+json": {
       "model_id": "80c7cec788e54b64bf0e93f28b2f0664",
       "version_major": 2,
       "version_minor": 0
      },
      "text/plain": [
       "Validation: 0it [00:00, ?it/s]"
      ]
     },
     "metadata": {},
     "output_type": "display_data"
    },
    {
     "data": {
      "application/json": {
       "ascii": false,
       "bar_format": null,
       "colour": null,
       "elapsed": 0.005066871643066406,
       "initial": 0,
       "n": 0,
       "ncols": 90,
       "nrows": 24,
       "postfix": null,
       "prefix": "Validation",
       "rate": null,
       "total": null,
       "unit": "it",
       "unit_divisor": 1000,
       "unit_scale": false
      },
      "application/vnd.jupyter.widget-view+json": {
       "model_id": "73ff74eeef1d4674aa4e85b92eb19d68",
       "version_major": 2,
       "version_minor": 0
      },
      "text/plain": [
       "Validation: 0it [00:00, ?it/s]"
      ]
     },
     "metadata": {},
     "output_type": "display_data"
    },
    {
     "data": {
      "application/json": {
       "ascii": false,
       "bar_format": null,
       "colour": null,
       "elapsed": 0.004807710647583008,
       "initial": 0,
       "n": 0,
       "ncols": 90,
       "nrows": 24,
       "postfix": null,
       "prefix": "Validation",
       "rate": null,
       "total": null,
       "unit": "it",
       "unit_divisor": 1000,
       "unit_scale": false
      },
      "application/vnd.jupyter.widget-view+json": {
       "model_id": "10f59da78f874a8099e2e430a68477a9",
       "version_major": 2,
       "version_minor": 0
      },
      "text/plain": [
       "Validation: 0it [00:00, ?it/s]"
      ]
     },
     "metadata": {},
     "output_type": "display_data"
    },
    {
     "name": "stdout",
     "output_type": "stream",
     "text": [
      "Epoch 00090: reducing learning rate of group 0 to 6.8719e-05.\n"
     ]
    },
    {
     "data": {
      "application/json": {
       "ascii": false,
       "bar_format": null,
       "colour": null,
       "elapsed": 0.004709720611572266,
       "initial": 0,
       "n": 0,
       "ncols": 90,
       "nrows": 24,
       "postfix": null,
       "prefix": "Validation",
       "rate": null,
       "total": null,
       "unit": "it",
       "unit_divisor": 1000,
       "unit_scale": false
      },
      "application/vnd.jupyter.widget-view+json": {
       "model_id": "4490bc29859d4a3ebd7ceb680b73b81b",
       "version_major": 2,
       "version_minor": 0
      },
      "text/plain": [
       "Validation: 0it [00:00, ?it/s]"
      ]
     },
     "metadata": {},
     "output_type": "display_data"
    },
    {
     "data": {
      "application/json": {
       "ascii": false,
       "bar_format": null,
       "colour": null,
       "elapsed": 0.004732370376586914,
       "initial": 0,
       "n": 0,
       "ncols": 90,
       "nrows": 24,
       "postfix": null,
       "prefix": "Validation",
       "rate": null,
       "total": null,
       "unit": "it",
       "unit_divisor": 1000,
       "unit_scale": false
      },
      "application/vnd.jupyter.widget-view+json": {
       "model_id": "83e98311c5f3469681686d9de05ad7ba",
       "version_major": 2,
       "version_minor": 0
      },
      "text/plain": [
       "Validation: 0it [00:00, ?it/s]"
      ]
     },
     "metadata": {},
     "output_type": "display_data"
    },
    {
     "data": {
      "application/json": {
       "ascii": false,
       "bar_format": null,
       "colour": null,
       "elapsed": 0.004854679107666016,
       "initial": 0,
       "n": 0,
       "ncols": 90,
       "nrows": 24,
       "postfix": null,
       "prefix": "Validation",
       "rate": null,
       "total": null,
       "unit": "it",
       "unit_divisor": 1000,
       "unit_scale": false
      },
      "application/vnd.jupyter.widget-view+json": {
       "model_id": "5d89aea588cd4f63be9332928e058db9",
       "version_major": 2,
       "version_minor": 0
      },
      "text/plain": [
       "Validation: 0it [00:00, ?it/s]"
      ]
     },
     "metadata": {},
     "output_type": "display_data"
    },
    {
     "data": {
      "application/json": {
       "ascii": false,
       "bar_format": null,
       "colour": null,
       "elapsed": 0.004836320877075195,
       "initial": 0,
       "n": 0,
       "ncols": 90,
       "nrows": 24,
       "postfix": null,
       "prefix": "Validation",
       "rate": null,
       "total": null,
       "unit": "it",
       "unit_divisor": 1000,
       "unit_scale": false
      },
      "application/vnd.jupyter.widget-view+json": {
       "model_id": "34843b94c00f4aa3ac791fddab317e38",
       "version_major": 2,
       "version_minor": 0
      },
      "text/plain": [
       "Validation: 0it [00:00, ?it/s]"
      ]
     },
     "metadata": {},
     "output_type": "display_data"
    },
    {
     "data": {
      "application/json": {
       "ascii": false,
       "bar_format": null,
       "colour": null,
       "elapsed": 0.004699230194091797,
       "initial": 0,
       "n": 0,
       "ncols": 90,
       "nrows": 24,
       "postfix": null,
       "prefix": "Validation",
       "rate": null,
       "total": null,
       "unit": "it",
       "unit_divisor": 1000,
       "unit_scale": false
      },
      "application/vnd.jupyter.widget-view+json": {
       "model_id": "3a60648bb0cb40aaa7678198cf906560",
       "version_major": 2,
       "version_minor": 0
      },
      "text/plain": [
       "Validation: 0it [00:00, ?it/s]"
      ]
     },
     "metadata": {},
     "output_type": "display_data"
    },
    {
     "data": {
      "application/json": {
       "ascii": false,
       "bar_format": null,
       "colour": null,
       "elapsed": 0.004934072494506836,
       "initial": 0,
       "n": 0,
       "ncols": 90,
       "nrows": 24,
       "postfix": null,
       "prefix": "Validation",
       "rate": null,
       "total": null,
       "unit": "it",
       "unit_divisor": 1000,
       "unit_scale": false
      },
      "application/vnd.jupyter.widget-view+json": {
       "model_id": "6982a1a85c4a4fafa608846b8681e70b",
       "version_major": 2,
       "version_minor": 0
      },
      "text/plain": [
       "Validation: 0it [00:00, ?it/s]"
      ]
     },
     "metadata": {},
     "output_type": "display_data"
    },
    {
     "data": {
      "application/json": {
       "ascii": false,
       "bar_format": null,
       "colour": null,
       "elapsed": 0.0047454833984375,
       "initial": 0,
       "n": 0,
       "ncols": 90,
       "nrows": 24,
       "postfix": null,
       "prefix": "Validation",
       "rate": null,
       "total": null,
       "unit": "it",
       "unit_divisor": 1000,
       "unit_scale": false
      },
      "application/vnd.jupyter.widget-view+json": {
       "model_id": "23e1404614c04f559a0144cbff33d34e",
       "version_major": 2,
       "version_minor": 0
      },
      "text/plain": [
       "Validation: 0it [00:00, ?it/s]"
      ]
     },
     "metadata": {},
     "output_type": "display_data"
    },
    {
     "data": {
      "application/json": {
       "ascii": false,
       "bar_format": null,
       "colour": null,
       "elapsed": 0.00479435920715332,
       "initial": 0,
       "n": 0,
       "ncols": 90,
       "nrows": 24,
       "postfix": null,
       "prefix": "Validation",
       "rate": null,
       "total": null,
       "unit": "it",
       "unit_divisor": 1000,
       "unit_scale": false
      },
      "application/vnd.jupyter.widget-view+json": {
       "model_id": "ffefe7dd61f14f2d922a193db781c1f3",
       "version_major": 2,
       "version_minor": 0
      },
      "text/plain": [
       "Validation: 0it [00:00, ?it/s]"
      ]
     },
     "metadata": {},
     "output_type": "display_data"
    },
    {
     "data": {
      "application/json": {
       "ascii": false,
       "bar_format": null,
       "colour": null,
       "elapsed": 0.00473332405090332,
       "initial": 0,
       "n": 0,
       "ncols": 90,
       "nrows": 24,
       "postfix": null,
       "prefix": "Validation",
       "rate": null,
       "total": null,
       "unit": "it",
       "unit_divisor": 1000,
       "unit_scale": false
      },
      "application/vnd.jupyter.widget-view+json": {
       "model_id": "62a410dbcc774cb294cfe6d3dcf3e310",
       "version_major": 2,
       "version_minor": 0
      },
      "text/plain": [
       "Validation: 0it [00:00, ?it/s]"
      ]
     },
     "metadata": {},
     "output_type": "display_data"
    },
    {
     "data": {
      "application/json": {
       "ascii": false,
       "bar_format": null,
       "colour": null,
       "elapsed": 0.004734039306640625,
       "initial": 0,
       "n": 0,
       "ncols": 90,
       "nrows": 24,
       "postfix": null,
       "prefix": "Validation",
       "rate": null,
       "total": null,
       "unit": "it",
       "unit_divisor": 1000,
       "unit_scale": false
      },
      "application/vnd.jupyter.widget-view+json": {
       "model_id": "ab83d9bb65ea42879f12f72b7d520b41",
       "version_major": 2,
       "version_minor": 0
      },
      "text/plain": [
       "Validation: 0it [00:00, ?it/s]"
      ]
     },
     "metadata": {},
     "output_type": "display_data"
    },
    {
     "name": "stdout",
     "output_type": "stream",
     "text": [
      "Policy network balanced accuracy: 0.775\n"
     ]
    }
   ],
   "source": [
    "run_policy_training(datamodule, # the prepared data module for training\n",
    "                    config=training_config, # the training configuration\n",
    "                    results_path=ranking_policy_network_folder) # path to save the training results"
   ]
  },
  {
   "cell_type": "markdown",
   "id": "2f7a35be-8fec-4542-be66-a539170b4e55",
   "metadata": {},
   "source": [
    "## 6. Tree search with the ranking policy network and rollout evaluation"
   ]
  },
  {
   "attachments": {},
   "cell_type": "markdown",
   "id": "41ac5f25-8ff4-4d72-a8f2-f44e81aed7fd",
   "metadata": {},
   "source": [
    "This section explained how to perform retrosynthesis planning with extracted reaction rules, trained ranking policy network, and MCTS algorithm with rollout node evaluation.\n",
    "\n",
    "### Configuring the tree search\n",
    "The tree search is configured using the `TreeConfig` class. Key parameters include:\n",
    "\n",
    "- **max_iterations**: Defines the total number of iterations the algorithm will perform, essentially setting a limit on how many times the tree search loop can run. Default is 100 iterations.\n",
    "- **max_tree_size**: Sets the upper limit on the total number of nodes that can exist in the search tree, controlling the size and complexity of the tree. Default value is 10,000 nodes.\n",
    "- **max_time**: Specifies a time limit for the algorithm's execution, measured in seconds. This prevents the search from running indefinitely. The default time limit is 600 seconds (10 minutes).\n",
    "- **max_depth**: Determines the maximum depth of the tree, effectively controlling how far the search can go from the root node. The default maximum depth is 6 levels.\n",
    "- **ucb_type**: Chooses the type of Upper Confidence Bound (UCB) algorithm used in the search. Options include \"puct\" (predictive UCB), \"uct\" (standard UCB), and \"value\". The default is \"uct\".\n",
    "- **c_ucb**: This is the exploration-exploitation balance coefficient in UCB, which influences how much the algorithm favors exploration of new paths versus exploitation of known paths. The default coefficient is 0.1.\n",
    "- **backprop_type**: Selects the backpropagation method used during the search. Options are \"muzero\" (model-based approach) and \"cumulative\" (cumulative reward approach). The default is \"muzero\".\n",
    "- **search_strategy**: Determines the strategy for navigating the tree. Options are \"expansion_first\" (prioritizing the expansion of new nodes) and \"evaluation_first\" (prioritizing the evaluation of existing nodes). The default strategy is \"expansion_first\".\n",
    "- **exclude_small**: A boolean setting that, when true, excludes small molecules from the search, typically to focus on more complex molecules. The default is set to True.\n",
    "- **evaluation_agg**: This setting determines how the evaluation scores are aggregated. Options are \"max\" (using the maximum score) and \"average\" (using the average score). The default method is \"max\".\n",
    "- **evaluation_mode**: Defines the method used for node evaluation. Options include \"random\" (random evaluations), \"rollout\" (using rollout simulations), and \"gcn\" (graph convolutional networks). The default is \"gcn\".\n",
    "- **init_node_value**: Sets the initial value for newly created nodes in the tree. This can impact how nodes are prioritized during the search. The default initial value is 0.0.\n",
    "- **epsilon**: This parameter is used in the epsilon-greedy strategy during node selection, representing the probability of choosing a random action for exploration. A higher value leads to more exploration. The default value is 0.0.\n",
    "- **min_mol_size**: Defines the minimum size of a molecule (in terms of the number of heavy atoms) to be considered in the search. Molecules smaller than this threshold are typically considered as readily available building blocks. The default is set to 6 heavy atoms.\n",
    "- **silent**: When set to True, this option suppresses the progress output of the tree search, keeping the output clean and focused. The default setting is False."
   ]
  },
  {
   "cell_type": "code",
   "execution_count": 19,
   "id": "5d8c97cd-0e70-47a8-9fc1-7f0dc8351c5f",
   "metadata": {},
   "outputs": [],
   "source": [
    "from CGRtools import smiles\n",
    "\n",
    "from IPython.display import SVG, display\n",
    "\n",
    "from SynTool.interfaces.visualisation import get_route_svg\n",
    "from SynTool.mcts.tree import Tree\n",
    "from SynTool.mcts.expansion import PolicyNetworkFunction\n",
    "from SynTool.utils.config import TreeConfig\n",
    "from SynTool.utils.loading import load_reaction_rules, load_building_blocks"
   ]
  },
  {
   "cell_type": "code",
   "execution_count": 20,
   "id": "17f18c3b-1889-4e7f-bbbf-fc8b51f5f469",
   "metadata": {},
   "outputs": [],
   "source": [
    "tree_config = TreeConfig(search_strategy=\"expansion_first\",\n",
    "                         evaluation_type=\"rollout\",\n",
    "                         min_mol_size=0,\n",
    "                         init_node_value=0.5,\n",
    "                         ucb_type=\"uct\",\n",
    "                         c_ucb=0.1,\n",
    "                         max_iterations=100,\n",
    "                         max_depth=9)"
   ]
  },
  {
   "cell_type": "markdown",
   "id": "9c6aab08-22ee-4bd8-88b3-310896dc66c5",
   "metadata": {},
   "source": [
    "### Choose the target molecule"
   ]
  },
  {
   "cell_type": "code",
   "execution_count": 21,
   "id": "070630a3-489d-48c1-933a-0b05881881c6",
   "metadata": {},
   "outputs": [
    {
     "data": {
      "image/svg+xml": [
       "<svg width=\"7.22cm\" height=\"5.04cm\" viewBox=\"-5.02 -0.85 7.22 5.04\" xmlns=\"http://www.w3.org/2000/svg\" version=\"1.1\">\n",
       "  <g>\n",
       "    <defs>\n",
       "      <mask id=\"mask-9c203257-c333-45c6-b688-fffe021a0513\">\n",
       "        <rect x=\"-5.02\" y=\"-0.85\" width=\"7.22\" height=\"5.04\" fill=\"white\"/>\n",
       "        <g fill=\"black\">\n",
       "          <ellipse cx=\"-0.95\" cy=\"1.43\" rx=\"0.3\" ry=\"0.2\"/>\n",
       "          <circle cx=\"-1.54\" cy=\"1.02\" r=\"0.20\"/>\n",
       "          <circle cx=\"-4.40\" cy=\"0.19\" r=\"0.20\"/>\n",
       "          <circle cx=\"-4.40\" cy=\"1.02\" r=\"0.20\"/>\n",
       "          <circle cx=\"-3.68\" cy=\"2.25\" r=\"0.20\"/>\n",
       "        </g>\n",
       "        <g font-family=\"monospace\" stroke=\"black\">\n",
       "          <g font-family=\"sans-serif\" font-size=\"0.50\" stroke-width=\"0.05\">\n",
       "            <text x=\"-0.82\" y=\"1.43\" dx=\"-0.35\" dy=\"0.20\">Si</text>\n",
       "            <text x=\"-1.54\" y=\"1.02\" dx=\"-0.20\" dy=\"0.20\">O</text>\n",
       "            <text x=\"-4.40\" y=\"0.19\" dx=\"-0.20\" dy=\"0.20\">N</text>\n",
       "            <text x=\"-4.40\" y=\"1.02\" dx=\"-0.20\" dy=\"0.20\">NH</text>\n",
       "            <text x=\"-3.68\" y=\"2.25\" dx=\"-0.20\" dy=\"0.20\">O</text>\n",
       "          </g>\n",
       "        </g>\n",
       "      </mask>\n",
       "    </defs>\n",
       "    <g fill=\"none\" stroke=\"black\" stroke-width=\"0.04\"  mask=\"url(#mask-9c203257-c333-45c6-b688-fffe021a0513)\">\n",
       "      <line x1=\"0.00\" y1=\"-0.00\" x2=\"-0.41\" y2=\"0.71\"/>\n",
       "      <line x1=\"-0.41\" y1=\"0.71\" x2=\"0.40\" y2=\"0.86\"/>\n",
       "      <line x1=\"-0.41\" y1=\"0.71\" x2=\"-1.13\" y2=\"0.30\"/>\n",
       "      <line x1=\"-0.41\" y1=\"0.71\" x2=\"-0.82\" y2=\"1.43\"/>\n",
       "      <line x1=\"-0.82\" y1=\"1.43\" x2=\"-1.54\" y2=\"1.02\"/>\n",
       "      <line x1=\"-0.82\" y1=\"1.43\" x2=\"-0.11\" y2=\"1.84\"/>\n",
       "      <line x1=\"-0.82\" y1=\"1.43\" x2=\"-1.24\" y2=\"2.14\"/>\n",
       "      <line x1=\"-1.54\" y1=\"1.02\" x2=\"-2.25\" y2=\"1.43\"/>\n",
       "      <line x1=\"-2.25\" y1=\"1.43\" x2=\"-2.97\" y2=\"1.02\"/>\n",
       "      <line x1=\"-3.03\" y1=\"1.02\" x2=\"-3.03\" y2=\"0.19\"/>\n",
       "      <line x1=\"-2.91\" y1=\"1.02\" x2=\"-2.91\" y2=\"0.19\"/>\n",
       "      <line x1=\"-2.97\" y1=\"1.02\" x2=\"-3.68\" y2=\"1.43\"/>\n",
       "      <line x1=\"-2.97\" y1=\"0.19\" x2=\"-3.68\" y2=\"-0.22\"/>\n",
       "      <line x1=\"-3.65\" y1=\"-0.17\" x2=\"-4.37\" y2=\"0.24\"/>\n",
       "      <line x1=\"-3.71\" y1=\"-0.27\" x2=\"-4.43\" y2=\"0.14\"/>\n",
       "      <line x1=\"-4.40\" y1=\"0.19\" x2=\"-4.40\" y2=\"1.02\"/>\n",
       "      <line x1=\"-4.40\" y1=\"1.02\" x2=\"-3.68\" y2=\"1.43\"/>\n",
       "      <line x1=\"-3.62\" y1=\"1.43\" x2=\"-3.62\" y2=\"2.25\"/>\n",
       "      <line x1=\"-3.74\" y1=\"1.43\" x2=\"-3.74\" y2=\"2.25\"/>\n",
       "      <line x1=\"-0.11\" y1=\"1.84\" x2=\"-0.11\" y2=\"2.67\"/>\n",
       "      <line x1=\"-0.11\" y1=\"1.84\" x2=\"0.60\" y2=\"1.43\"/>\n",
       "      <line x1=\"-0.11\" y1=\"2.67\" x2=\"0.60\" y2=\"3.08\"/>\n",
       "      <line x1=\"0.60\" y1=\"3.08\" x2=\"1.32\" y2=\"2.67\"/>\n",
       "      <line x1=\"1.32\" y1=\"2.67\" x2=\"1.32\" y2=\"1.84\"/>\n",
       "      <line x1=\"1.32\" y1=\"1.84\" x2=\"0.60\" y2=\"1.43\"/>\n",
       "      <line x1=\"-1.24\" y1=\"2.14\" x2=\"-0.82\" y2=\"2.86\"/>\n",
       "      <line x1=\"-1.24\" y1=\"2.14\" x2=\"-2.06\" y2=\"2.14\"/>\n",
       "      <line x1=\"-0.82\" y1=\"2.86\" x2=\"-1.24\" y2=\"3.57\"/>\n",
       "      <line x1=\"-1.24\" y1=\"3.57\" x2=\"-2.06\" y2=\"3.57\"/>\n",
       "      <line x1=\"-2.06\" y1=\"3.57\" x2=\"-2.47\" y2=\"2.86\"/>\n",
       "      <line x1=\"-2.47\" y1=\"2.86\" x2=\"-2.06\" y2=\"2.14\"/>\n",
       "      <line x1=\"-1.32\" y1=\"2.28\" x2=\"-0.99\" y2=\"2.86\" stroke-dasharray=\"0.15 0.05\"/>\n",
       "      <line x1=\"-0.99\" y1=\"2.86\" x2=\"-1.32\" y2=\"3.43\" stroke-dasharray=\"0.15 0.05\"/>\n",
       "      <line x1=\"-1.32\" y1=\"3.43\" x2=\"-1.98\" y2=\"3.43\" stroke-dasharray=\"0.15 0.05\"/>\n",
       "      <line x1=\"-1.98\" y1=\"3.43\" x2=\"-2.31\" y2=\"2.86\" stroke-dasharray=\"0.15 0.05\"/>\n",
       "      <line x1=\"-2.31\" y1=\"2.86\" x2=\"-1.98\" y2=\"2.28\" stroke-dasharray=\"0.15 0.05\"/>\n",
       "      <line x1=\"-1.98\" y1=\"2.28\" x2=\"-1.32\" y2=\"2.28\" stroke-dasharray=\"0.15 0.05\"/>\n",
       "      <line x1=\"0.03\" y1=\"1.92\" x2=\"0.03\" y2=\"2.59\" stroke-dasharray=\"0.15 0.05\"/>\n",
       "      <line x1=\"0.03\" y1=\"2.59\" x2=\"0.60\" y2=\"2.92\" stroke-dasharray=\"0.15 0.05\"/>\n",
       "      <line x1=\"0.60\" y1=\"2.92\" x2=\"1.18\" y2=\"2.59\" stroke-dasharray=\"0.15 0.05\"/>\n",
       "      <line x1=\"1.18\" y1=\"2.59\" x2=\"1.18\" y2=\"1.92\" stroke-dasharray=\"0.15 0.05\"/>\n",
       "      <line x1=\"1.18\" y1=\"1.92\" x2=\"0.60\" y2=\"1.59\" stroke-dasharray=\"0.15 0.05\"/>\n",
       "      <line x1=\"0.60\" y1=\"1.59\" x2=\"0.03\" y2=\"1.92\" stroke-dasharray=\"0.15 0.05\"/>\n",
       "    </g>\n",
       "    <g font-family=\"monospace\">\n",
       "      <g fill=\"#F0C8A0\" font-family=\"sans-serif\">\n",
       "        <text x=\"-0.82\" y=\"1.43\" dx=\"-0.35\" dy=\"0.20\" font-size=\"0.50\">Si</text>\n",
       "      </g>\n",
       "      <g fill=\"#FF0D0D\" font-family=\"sans-serif\">\n",
       "        <text x=\"-1.54\" y=\"1.02\" dx=\"-0.20\" dy=\"0.20\" font-size=\"0.50\">O</text>\n",
       "      </g>\n",
       "      <g fill=\"#3050F8\" font-family=\"sans-serif\">\n",
       "        <text x=\"-4.40\" y=\"0.19\" dx=\"-0.20\" dy=\"0.20\" font-size=\"0.50\">N</text>\n",
       "      </g>\n",
       "      <g fill=\"#3050F8\" font-family=\"sans-serif\">\n",
       "        <text x=\"-4.40\" y=\"1.02\" dx=\"-0.20\" dy=\"0.20\" font-size=\"0.50\">NH</text>\n",
       "      </g>\n",
       "      <g fill=\"#FF0D0D\" font-family=\"sans-serif\">\n",
       "        <text x=\"-3.68\" y=\"2.25\" dx=\"-0.20\" dy=\"0.20\" font-size=\"0.50\">O</text>\n",
       "      </g>\n",
       "    </g>\n",
       "  </g>\n",
       "</svg>"
      ],
      "text/plain": [
       "<CGRtools.containers.molecule.MoleculeContainer at 0x7f972889ac00>"
      ]
     },
     "execution_count": 21,
     "metadata": {},
     "output_type": "execute_result"
    }
   ],
   "source": [
    "example_molecule = 'CC(C)(C)[Si](OCc1ccn[nH]c1=O)(c1ccccc1)c1ccccc1'\n",
    "\n",
    "target = smiles(example_molecule)\n",
    "target.canonicalize()\n",
    "target.clean2d()\n",
    "target"
   ]
  },
  {
   "cell_type": "markdown",
   "id": "35fe4682-4ba3-4bbe-9aa1-87f71c41fd44",
   "metadata": {},
   "source": [
    "### Initializing the tree and running search\n",
    "\n",
    "The `Tree` class is initialized with the target molecule, the path to reaction rules, building blocks, the tree configuration, and the policy function. The policy function, obtained from the trained ranking policy, guides the selection of retrosynthetic transformations."
   ]
  },
  {
   "cell_type": "code",
   "execution_count": 22,
   "id": "343ed059-a57b-470d-b33c-8bc8207b68dd",
   "metadata": {},
   "outputs": [
    {
     "name": "stdout",
     "output_type": "stream",
     "text": [
      "Number of loaded building blocks: 186023\n"
     ]
    }
   ],
   "source": [
    "# initialize the policy function\n",
    "ranking_policy_network = os.path.join(ranking_policy_network_folder, 'policy_network.ckpt')\n",
    "policy_config = PolicyNetworkConfig(weights_path=ranking_policy_network)\n",
    "policy_function = PolicyNetworkFunction(policy_config=policy_config)\n",
    "\n",
    "reaction_rules = load_reaction_rules(reaction_rules_path)\n",
    "building_blocks = load_building_blocks(os.path.join('syntool_training_data', 'building_blocks.smi'))"
   ]
  },
  {
   "cell_type": "code",
   "execution_count": 23,
   "id": "d5359d1a-06a0-4797-88f1-edafbbfe3b07",
   "metadata": {},
   "outputs": [],
   "source": [
    "tree = Tree(target=target,\n",
    "            config=tree_config,\n",
    "            reaction_rules=reaction_rules,\n",
    "            building_blocks=building_blocks,\n",
    "            expansion_function=policy_function,\n",
    "            evaluation_function=None)"
   ]
  },
  {
   "cell_type": "code",
   "execution_count": 24,
   "id": "f770fe0c-645c-49c6-9589-00f08fd6d515",
   "metadata": {},
   "outputs": [
    {
     "data": {
      "application/json": {
       "ascii": false,
       "bar_format": null,
       "colour": null,
       "elapsed": 0.004549741744995117,
       "initial": 0,
       "n": 0,
       "ncols": null,
       "nrows": 24,
       "postfix": null,
       "prefix": "",
       "rate": null,
       "total": 100,
       "unit": "it",
       "unit_divisor": 1000,
       "unit_scale": false
      },
      "application/vnd.jupyter.widget-view+json": {
       "model_id": "7900a3d1eff34b4d9d58c5a281a1350f",
       "version_major": 2,
       "version_minor": 0
      },
      "text/plain": [
       "  0%|          | 0/100 [00:00<?, ?it/s]"
      ]
     },
     "metadata": {},
     "output_type": "display_data"
    },
    {
     "data": {
      "text/plain": [
       "Tree for: c1ccccc1[Si](c2ccccc2)(OCC=3C(=O)NN=CC=3)C(C)(C)C\n",
       "Number of nodes: 315\n",
       "Number of visited nodes: 49\n",
       "Number of found routes: 33\n",
       "Number of iterations: 100\n",
       "Time: 5.4 seconds"
      ]
     },
     "execution_count": 24,
     "metadata": {},
     "output_type": "execute_result"
    }
   ],
   "source": [
    "tree_solved = False\n",
    "for solved, node_id in tree:\n",
    "    if solved:\n",
    "        tree_solved = True\n",
    "tree"
   ]
  },
  {
   "cell_type": "markdown",
   "id": "ebe6eef0-791f-456f-8d9d-5e7d7f80f910",
   "metadata": {},
   "source": [
    "### Retrosynthesis routes visualisation"
   ]
  },
  {
   "cell_type": "markdown",
   "id": "10842cce-74a2-44f4-89c1-676f9fbcd806",
   "metadata": {},
   "source": [
    "After the tree search is complete, we can visualize the found retrosynthesis paths. The visualization uses the `get_route_svg` function from SynTool visualization interface."
   ]
  },
  {
   "cell_type": "code",
   "execution_count": 25,
   "id": "b53f2832-a5ec-43ee-86d3-6fa3952fc784",
   "metadata": {},
   "outputs": [
    {
     "ename": "AttributeError",
     "evalue": "'Tree' object has no attribute 'path_score'",
     "output_type": "error",
     "traceback": [
      "\u001B[0;31m---------------------------------------------------------------------------\u001B[0m",
      "\u001B[0;31mAttributeError\u001B[0m                            Traceback (most recent call last)",
      "Cell \u001B[0;32mIn[25], line 2\u001B[0m\n\u001B[1;32m      1\u001B[0m \u001B[38;5;28;01mfor\u001B[39;00m n, node_id \u001B[38;5;129;01min\u001B[39;00m \u001B[38;5;28menumerate\u001B[39m(tree\u001B[38;5;241m.\u001B[39mwinning_nodes):\n\u001B[0;32m----> 2\u001B[0m     \u001B[38;5;28mprint\u001B[39m(\u001B[38;5;124mf\u001B[39m\u001B[38;5;124m'\u001B[39m\u001B[38;5;124m-------- Path starts from node #\u001B[39m\u001B[38;5;132;01m{\u001B[39;00mnode_id\u001B[38;5;132;01m}\u001B[39;00m\u001B[38;5;124m with total path score \u001B[39m\u001B[38;5;132;01m{\u001B[39;00m\u001B[43mtree\u001B[49m\u001B[38;5;241;43m.\u001B[39;49m\u001B[43mpath_score\u001B[49m(node_id)\u001B[38;5;132;01m}\u001B[39;00m\u001B[38;5;124m --------\u001B[39m\u001B[38;5;124m'\u001B[39m)\n\u001B[1;32m      3\u001B[0m     display(SVG(get_route_svg(tree, node_id)))\n\u001B[1;32m      4\u001B[0m     \u001B[38;5;28;01mif\u001B[39;00m n \u001B[38;5;241m==\u001B[39m \u001B[38;5;241m3\u001B[39m:\n",
      "\u001B[0;31mAttributeError\u001B[0m: 'Tree' object has no attribute 'path_score'"
     ]
    }
   ],
   "source": [
    "for n, node_id in enumerate(tree.winning_nodes):\n",
    "    print(f'-------- Path starts from node #{node_id} with total path score {tree.path_score(node_id)} --------')\n",
    "    display(SVG(get_route_svg(tree, node_id)))\n",
    "    if n == 3:\n",
    "        break"
   ]
  }
 ],
 "metadata": {
  "kernelspec": {
   "display_name": "gsl",
   "language": "python",
   "name": "gsl"
  },
  "language_info": {
   "codemirror_mode": {
    "name": "ipython",
    "version": 3
   },
   "file_extension": ".py",
   "mimetype": "text/x-python",
   "name": "python",
   "nbconvert_exporter": "python",
   "pygments_lexer": "ipython3",
   "version": "3.10.13"
  }
 },
 "nbformat": 4,
 "nbformat_minor": 5
}
