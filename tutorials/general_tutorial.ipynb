{
 "cells": [
  {
   "cell_type": "markdown",
   "id": "15da330e-122c-4f2d-82bc-8a684a7bed90",
   "metadata": {},
   "source": [
    "# Tutorial on SynTool from data to planning"
   ]
  },
  {
   "cell_type": "markdown",
   "id": "d45d8148-e926-4faa-a018-abe1fac451c2",
   "metadata": {},
   "source": [
    "## Introduction to the SynTool Tutorial\n",
    "\n",
    "Welcome to the SynTool tutorial, a detailed guide on utilizing a sophisticated retrosynthesis planning tool that combines Monte Carlo Tree Search (MCTS) with neural networks. This tutorial is designed for synthetic chemists and chemoinformaticians looking to deepen their understanding and application of SynTool in their work.\n",
    "\n",
    "## Understanding SynTool\n",
    "SynTool is a tool developed to enhance the efficiency of retrosynthetic analysis in chemical synthesis. It provides insights into possible synthetic pathways for target molecules, leveraging the power of MCTS and neural networks to streamline this process.\n",
    "\n",
    "## Tutorial's Focus\n",
    "This tutorial is specifically designed to provide a rapid overview of SynTool's basic functionalities, focusing on a simple yet common setup in retrosynthesis tools. We will delve into the implementation of a ranking policy network and the rollout evaluation function, akin to those used in popular tools such as 3N-MCTS and AiZynthFinder.\n",
    "\n",
    "## Tutorial Structure\n",
    "1. **Handling Reaction Data**: Techniques for processing reaction data effectively for retrosynthesis.\n",
    "2. **Deriving Reaction Rules**: Strategies for extracting valuable rules from reaction data.\n",
    "3. **Neural Network Training for Reaction Ranking**: Steps to train neural networks to identify feasible synthetic pathways.\n",
    "4. **Practical Use of MCTS in Retrosynthesis**: Insights into how MCTS aids in decision-making in retrosynthetic analysis.\n",
    "\n",
    "## Prerequisites\n",
    "- **Knowledge Base**: A good understanding of synthetic chemistry and basic principles of machine learning is expected.\n",
    "- **Technical Requirements**: Familiarity with Python and its relevant libraries, which will be covered in the tutorial."
   ]
  },
  {
   "cell_type": "markdown",
   "id": "f3a3a4e8-1590-4b51-86a5-f8cff7b08554",
   "metadata": {},
   "source": [
    "## 0. General imports"
   ]
  },
  {
   "cell_type": "code",
   "execution_count": null,
   "id": "8f8e6d79-ef07-4dd1-8979-b514d4a5e78e",
   "metadata": {},
   "outputs": [],
   "source": [
    "import os\n",
    "from pathlib import Path  # needed for paths validations in this tutorial"
   ]
  },
  {
   "cell_type": "code",
   "execution_count": null,
   "id": "c292f9d5-602a-4647-8340-332bf8a541b1",
   "metadata": {},
   "outputs": [],
   "source": [
    "root_folder = \".\"  # replace this path where you want to keep all your results\n",
    "root_folder = Path(root_folder).resolve(strict=True)"
   ]
  },
  {
   "cell_type": "markdown",
   "id": "29abf54c-d4c9-4457-b55e-8c00e0919118",
   "metadata": {},
   "source": [
    "## 1. Reaction data filtration"
   ]
  },
  {
   "cell_type": "markdown",
   "id": "e722673d-dd10-468e-9493-48dac1743ee1",
   "metadata": {},
   "source": [
    "In SynTool, reaction data filtration is a crucial step to ensure the quality and accuracy of the data used for retrosynthesis analysis. The USPTO dataset, a standardized but unfiltered collection of reaction records, serves as the primary data source. However, this dataset may contain records with no reaction center or atom-to-atom mapping errors. To address this, we apply several filters:\n",
    "\n",
    "1. **No Reaction Filter**: Removes reactions with identical reactants and products.\n",
    "2. **Small Molecules Filter**: Excludes reactions where all reactants and products have ≤ specified number of heavy atoms.\n",
    "3. **Reaction Distance Filter**: Discards reactions with more than specified changed bonds.\n",
    "4. **Multi-Centre Reaction Filter**: Eliminates records with multiple reaction centers.\n",
    "5. **Csp3-C Breaking Filter**: Removes reactions where a bond between two sp3 carbons is broken, indicating potential mapping errors.\n",
    "6. **C-C Ring Breaking Filter**: Filters out reactions breaking a bond between two carbons in the same ring (sizes 5, 6, or 7), identified using the SSSR algorithm.\n",
    "7. **C-H Breaking Filter**: Removes reactions breaking a C-H bond to form a C-C bond, with exceptions for condensation reactions or those involving carbenes.\n",
    "\n",
    "The `ReactionCheckConfig` class in Syntool manages the configuration settings for these filters. It includes paths, file formats, checker-specific parameters, and a range of options to tailor the filtration process to specific requirements. This step is vital to ensure that the data fed into the retrosynthesis model is reliable and accurate.\n"
   ]
  },
  {
   "cell_type": "markdown",
   "id": "8e9c3d25-0103-496f-9cd6-de05891474f8",
   "metadata": {},
   "source": [
    "First of all we have to import main config class called `ReactionCheckConfig`, function for filtering `filter_reactions` and configuration classes of filters that we want to apply to the input reaction data"
   ]
  },
  {
   "cell_type": "code",
   "execution_count": null,
   "id": "3cc6cbf3-db8b-4a68-8e84-4e56350d1b66",
   "metadata": {},
   "outputs": [],
   "source": [
    "# folder for reaction data filtration\n",
    "filtered_data_path = root_folder.joinpath(\"uspto_filtered.smi\")"
   ]
  },
  {
   "cell_type": "code",
   "execution_count": null,
   "id": "2431d2d0-4f74-4e4f-aa89-d7dd5f810d3b",
   "metadata": {},
   "outputs": [],
   "source": [
    "from SynTool.chem.data.filtering import (\n",
    "    filter_reactions,\n",
    "    ReactionCheckConfig,\n",
    "    CCRingBreakingConfig,\n",
    "    WrongCHBreakingConfig,\n",
    "    CCsp3BreakingConfig,\n",
    "    DynamicBondsConfig,\n",
    "    MultiCenterConfig,\n",
    "    NoReactionConfig,\n",
    "    SmallMoleculesConfig,\n",
    ")"
   ]
  },
  {
   "cell_type": "code",
   "execution_count": null,
   "id": "33dad270-73b0-4605-a256-357a4d4c9154",
   "metadata": {},
   "outputs": [],
   "source": [
    "# you have to download standardized USPTO yourself or to put your path to the reaction database\n",
    "reaction_data_path = Path(\"uspto_standardized.smi\").resolve(strict=True)"
   ]
  },
  {
   "cell_type": "markdown",
   "id": "c8e6717c-8886-46e0-ac00-be0cf211cca8",
   "metadata": {},
   "source": [
    "### Setting Up the Filtration Configuration\n",
    "\n",
    "Once we've established the importance of filtering our reaction data, the next step is to configure the filtration process. We do this using the `ReactionCheckConfig` class in SynTool. This class allows us to specify various parameters and settings for our filtration process. Let's break down what each line in our configuration setup does:"
   ]
  },
  {
   "cell_type": "code",
   "execution_count": null,
   "id": "6d5e4a23-e800-4f03-ba46-e3cb3737dc4d",
   "metadata": {},
   "outputs": [],
   "source": [
    "filtration_config = ReactionCheckConfig(\n",
    "    remove_small_molecules=False,  # Flag to determine whether to remove small molecules.\n",
    "    small_molecules_config=SmallMoleculesConfig(\n",
    "        limit=6  # Setting the heavy atoms limit for the small molecules filter.\n",
    "    ),\n",
    "    dynamic_bonds_config=DynamicBondsConfig(\n",
    "        min_bonds_number=1,  # Minimum number of dynamic bonds for a reaction to be considered.\n",
    "        max_bonds_number=6  # Maximum number of dynamic bonds.\n",
    "    ),\n",
    "    no_reaction_config=NoReactionConfig(),  # Configuration for the 'no reaction' filter.\n",
    "    multi_center_config=MultiCenterConfig(),  # Configuration for the 'multi-center reaction' filter.\n",
    "    wrong_ch_breaking_config=WrongCHBreakingConfig(),  # Configuration for the 'C-H breaking' filter.\n",
    "    cc_sp3_breaking_config=CCsp3BreakingConfig(),  # Configuration for the 'Csp3-C breaking' filter.\n",
    "    cc_ring_breaking_config=CCRingBreakingConfig()  # Configuration for the 'C-C ring breaking' filter.\n",
    ")\n",
    "filtration_config"
   ]
  },
  {
   "cell_type": "markdown",
   "id": "af490595-5444-4b4c-89df-6f26a21f6fa4",
   "metadata": {},
   "source": [
    "By setting up `filtration_config`, we are essentially telling SynTool what filters to apply and how to apply them. This step is crucial for ensuring that the data we use for further analysis is as accurate and reliable as possible. The filters we apply here are based on the specific needs of our analysis and the characteristics of the USPTO dataset.\n",
    "\n",
    "Once this configuration is in place, we can proceed to apply these filters to our reaction data:"
   ]
  },
  {
   "cell_type": "code",
   "execution_count": null,
   "id": "fb964f3a-5569-4b98-8979-f139a67ab3ef",
   "metadata": {},
   "outputs": [],
   "source": [
    "filter_reactions(config=filtration_config,\n",
    "                 reaction_database_path=reaction_data_path, # The path to our reaction database file.\n",
    "                 result_reactions_file_name=filtered_data_path, # The file where the results will be stored.\n",
    "                 append_results=True,\n",
    "                 num_cpus=4,\n",
    "                 batch_size=100)"
   ]
  },
  {
   "cell_type": "markdown",
   "id": "cbbc5add-1108-49d8-bbcf-d31fe9d57df2",
   "metadata": {},
   "source": [
    "## 2. Reaction rules extraction"
   ]
  },
  {
   "cell_type": "code",
   "execution_count": null,
   "id": "677fd408-150b-4a9f-a295-796fd26b772c",
   "metadata": {},
   "outputs": [],
   "source": [
    "# folder for reaction data filtration\n",
    "reaction_rules_path = root_folder.joinpath(\"reaction_rules.pickle\")"
   ]
  },
  {
   "cell_type": "code",
   "execution_count": null,
   "id": "5ca2b31d-0f4e-41a6-b888-c802927fbfc4",
   "metadata": {},
   "outputs": [],
   "source": [
    "from SynTool.utils.config import RuleExtractionConfig\n",
    "from SynTool.chem.reaction_rules.extraction import extract_rules_from_reactions"
   ]
  },
  {
   "cell_type": "markdown",
   "id": "1cc434cb-d3af-4da6-a6d1-a649a6df2297",
   "metadata": {},
   "source": [
    "After filtering the reaction data, the next crucial step in SynTool is the extraction of reaction rules. This process is vital for retrosynthetic analysis, as it defines the patterns and transformations that can be applied to synthesize target molecules.\n",
    "\n",
    "#### The Extraction Protocol\n",
    "The protocol for extracting reaction rules from reactions in SynTool utilizes the CGRtools Python library. This procedure involves the following steps:\n",
    "1. **Substructure Extraction**: For each reactant and product in a given reaction, substructures containing the atoms of the reaction center and their immediate environment are extracted.\n",
    "2. **Substructure Exchange**: The reactant and product substructures are then exchanged.\n",
    "3. **Reagents Handling**: If the reaction includes reagents, they are not incorporated into the retro-rule.\n",
    "4. **Label Preservation**: All labels related to the atoms of the reaction center, such as hybridization, the number of neighbors, and the ring sizes in which the atoms participate, are preserved. For atoms in the first environment, only the sizes of rings are preserved.\n",
    "\n",
    "A retrosynthetic transformation (reaction rules) formed by this protocol is applied to the product of the original reaction. If it successfully generates the reactants of the reaction, the rule is considered valid.\n",
    "\n",
    "#### Configuring Rule Extraction\n",
    "The `ExtractRuleConfig` class in SynTool allows for the fine-tuning of how reaction rules are extracted. Key parameters of this class include:\n",
    "\n",
    "- **multicenter_rules**: Determines whether a single rule is extracted for all centers in multicenter reactions (`True`) or if separate rules are generated for each center (`False`). Default is `True`.\n",
    "- **as_query_container**: When set to `True`, the extracted rules are formatted as `QueryContainer` objects, similar to SMARTS for chemical pattern matching. Default is `True`.\n",
    "- **reverse_rule**: If `True`, the direction of the reaction is reversed during rule extraction, which is useful for retrosynthesis. Default is `True`.\n",
    "- **reactor_validation**: Activates the validation of each generated rule in a chemical reactor to confirm accurate generation of products from reactants when set to `True`. Default is `True`.\n",
    "- **include_func_groups**: If `True`, specific functional groups are included in the reaction rule in addition to the reaction center and its environment. Default is `False`.\n",
    "- **func_groups_list**: Specifies a list of functional groups to be included when `include_func_groups` is `True`.\n",
    "- **include_rings**: Includes ring structures in the reaction rules connected to the reaction center atoms if set to `True`. Default is `False`.\n",
    "- **keep_leaving_groups**: Keeps the leaving groups in the extracted reaction rule when set to `True`. Default is `False`.\n",
    "- **keep_incoming_groups**: Retains incoming groups in the extracted reaction rule if set to `True`. Default is `False`.\n",
    "- **keep_reagents**: Includes reagents in the extracted reaction rule when `True`. Default is `False`.\n",
    "- **environment_atom_count**: Sets the number of layers of atoms around the reaction center to be included in the rule. A value of `0` includes only the reaction center, `1` includes the first surrounding layer, and so on. Default is `1`.\n",
    "- **min_popularity**: Establishes the minimum number of times a rule must be applied to be included in further analysis. Default is `3`.\n",
    "- **keep_metadata**: Preserves associated metadata with the reaction in the extracted rule when set to `True`. Default is `False`.\n",
    "- **single_reactant_only**: Limits the extracted rules to those with only a single reactant molecule if `True`. Default is `True`.\n",
    "- **atom_info_retention**: Dictates the level of detail retained about atoms in the reaction center and their environment. Default settings retain information about neighbors, hybridization, implicit hydrogens, and ring sizes for both the reaction center and its environment. Default settings:\n",
    "    ```python\n",
    "    \n",
    "    {\n",
    "        \"reaction_center\": {\n",
    "            \"neighbors\": True,\n",
    "            \"hybridization\": True,\n",
    "            \"implicit_hydrogens\": True,\n",
    "            \"ring_sizes\": True,\n",
    "        },\n",
    "        \"environment\": {\n",
    "            \"neighbors\": True,\n",
    "            \"hybridization\": True,\n",
    "            \"implicit_hydrogens\": True,\n",
    "            \"ring_sizes\": True,\n",
    "        },\n",
    "    }\n",
    "    ```\n",
    "\n",
    "These settings are crucial for tailoring the rule extraction process to the specific needs of the retrosynthesis analysis, ensuring that the rules are both accurate and relevant."
   ]
  },
  {
   "cell_type": "markdown",
   "id": "1e750f5d-e0b1-4f9b-b054-9658e4e4350e",
   "metadata": {},
   "source": [
    "#### Example Configuration\n",
    "Here's an example of setting up the `ExtractRuleConfig` for a specific use case:"
   ]
  },
  {
   "cell_type": "code",
   "execution_count": null,
   "id": "0e1a6557-2532-48b8-8d41-3fe842665353",
   "metadata": {},
   "outputs": [],
   "source": [
    "extraction_config = RuleExtractionConfig(\n",
    "    keep_leaving_groups=True,\n",
    "    atom_info_retention = {\n",
    "        \"reaction_center\": {\n",
    "            \"neighbors\": True,  # Retains information about neighboring atoms to the reaction center.\n",
    "            \"hybridization\": True,  # Preserves the hybridization state of atoms at the reaction center.\n",
    "            \"implicit_hydrogens\": False,  # Includes data on implicit hydrogen atoms attached to the reaction center.\n",
    "            \"ring_sizes\": False,  # Keeps information about the sizes of rings that reaction center atoms are part of.\n",
    "        },\n",
    "        \"environment\": {\n",
    "            \"neighbors\": True,  # Retains information about neighboring atoms to the atoms in the environment of the reaction center.\n",
    "            \"hybridization\": False,  # Preserves the hybridization state of atoms in the environment.\n",
    "            \"implicit_hydrogens\": False,  # Includes data on implicit hydrogen atoms attached to atoms in the environment.\n",
    "            \"ring_sizes\": False,  # Keeps information about the sizes of rings that environment atoms are part of.\n",
    "        },\n",
    "    }\n",
    ")\n",
    "extraction_config"
   ]
  },
  {
   "cell_type": "markdown",
   "id": "aa7ef87b-cc51-4d60-8e9d-4ce52da93e3f",
   "metadata": {},
   "source": [
    "This setup, for instance, retains leaving groups and specifies the level of detail for atom information retention around the reaction center. Each parameter in `ExtractRuleConfig` is designed to give users the flexibility to optimize rule extraction according to their requirements."
   ]
  },
  {
   "cell_type": "markdown",
   "id": "00b07164-9a81-4b64-a744-f814ec313de9",
   "metadata": {},
   "source": [
    "### Extracting Reaction Rules Using `extract_rules_from_reactions`\n",
    "\n",
    "After configuring the rule extraction settings in SynTool, the next step is to apply these configurations to extract reaction rules from our dataset. This is achieved using the `extract_rules_from_reactions` function. Here's a breakdown of the function call in the tutorial:"
   ]
  },
  {
   "cell_type": "code",
   "execution_count": null,
   "id": "e42f25c1-f169-479f-9699-0d97815482ab",
   "metadata": {},
   "outputs": [],
   "source": [
    "extract_rules_from_reactions(config=extraction_config, # The configuration settings for rule extraction.\n",
    "                             reaction_file=reaction_data_path, # Path to the file containing the reaction data.\n",
    "                             rules_file_name=reaction_rules_path, # Name of the file to store the extracted rules.\n",
    "                             num_cpus=4,\n",
    "                             batch_size=100)"
   ]
  },
  {
   "cell_type": "markdown",
   "id": "1c8b260c-27c9-439d-8ae6-5a6c4b4f2c62",
   "metadata": {},
   "source": [
    "#### Understanding the Parameters\n",
    "\n",
    "1. **config**: Passes the `extraction_config` object, which contains all the rule extraction settings we defined earlier. This configures how the rules are extracted from the reaction data.\n",
    "\n",
    "2. **reaction_file**: Specifies the location of the reaction database file. The reactions in this file will be used to extract the rules.\n",
    "\n",
    "3. **results_root**: Determines the directory where the results, i.e., the extracted rules, will be saved. In this case, they'll be stored in a folder named \"rules/\".\n",
    "\n",
    "4. **rules_file_name**: Sets the name of the file where the extracted rules will be written. Here, it's named \"reaction_rules\".\n",
    "\n",
    "5. **num_cpus**: Indicates the number of CPU cores to use for processing. Setting this to 4 allows for parallel processing, making the extraction process faster and more efficient.\n",
    "\n",
    "6. **batch_size**: Defines the number of reactions to be processed in each batch. A batch size of 100 is chosen to strike a balance between processing speed and memory usage.\n",
    "\n",
    "#### The Extraction Process\n",
    "\n",
    "The `extract_rules_from_reactions` function initiates a process that goes through each reaction in the provided database, applying the configured rules to extract relevant information. The function utilizes a Ray environment for distributed computing, allowing it to handle reactions in batches and parallelize the rule extraction process. This approach not only enhances efficiency but also scales well with large datasets.\n",
    "\n",
    "Once the rules are extracted, they are written to RDF files. Additionally, the function sorts the rules based on their popularity and saves this sorted list, providing a valuable resource for retrosynthesis analysis."
   ]
  },
  {
   "cell_type": "markdown",
   "id": "20e55911-23de-410e-b242-d0e95e36314e",
   "metadata": {},
   "source": [
    "## 3. Ranking policy training"
   ]
  },
  {
   "cell_type": "code",
   "execution_count": null,
   "id": "f47e25c6-e27b-4388-8112-ee89497646b7",
   "metadata": {},
   "outputs": [],
   "source": [
    "# folder for storing policy network training results\n",
    "policy_network_root = root_folder.joinpath(\"ranking_policy\")\n",
    "policy_dataset_file = os.path.join(policy_network_root, 'policy_dataset.dt')"
   ]
  },
  {
   "cell_type": "code",
   "execution_count": null,
   "id": "8ee72454-9579-46cc-858c-d84fcad4471f",
   "metadata": {},
   "outputs": [],
   "source": [
    "# verifying that all data exist:\n",
    "molecules_or_reactions_path = reaction_data_path"
   ]
  },
  {
   "cell_type": "code",
   "execution_count": null,
   "id": "58321d6c-9a13-44b7-bd74-4985c041228f",
   "metadata": {},
   "outputs": [],
   "source": [
    "from SynTool.utils.config import PolicyNetworkConfig\n",
    "from SynTool.ml.training.supervised import create_policy_dataset, run_policy_training"
   ]
  },
  {
   "cell_type": "markdown",
   "id": "824d313f-d5ee-461b-82c8-e6a8225c18c9",
   "metadata": {},
   "source": [
    "### Ranking Policy Training in SynTool\n",
    "\n",
    "After extracting the reaction rules, the next crucial step in SynTool involves training a ranking policy. This policy is a neural network designed to rank retrosynthetic transformations (or retro-rules) based on their suitability for a given reaction. Let's explore this process and the corresponding code in the tutorial.\n",
    "\n",
    "#### Overview of the Ranking Policy\n",
    "\n",
    "The ranking policy typically employs a supervised neural network trained on molecular representations like Morgan fingerprints or molecular graphs. The network is trained to perform multi-class classification where, for a given reaction:\n",
    "- The retro-rule extracted from that reaction is assigned as the positive class.\n",
    "- All other retro-rules extracted from the reaction database are assigned as negative classes.\n",
    "\n",
    "This approach biases the network to prioritize transformations that are likely to produce reactions similar to real ones, even without specific reaction conditions. However, it's important to note that reaction databases reflect historical data, and some useful rules might be underrepresented.\n",
    "\n",
    "#### Setting Up the Training Configuration\n",
    "\n",
    "First, we define the training configuration using the `PolicyNetworkConfig` class. This configuration includes various hyperparameters for the neural network:"
   ]
  },
  {
   "cell_type": "code",
   "execution_count": null,
   "id": "ffdb63c6-7ef0-4b54-b769-45b0c3dac5ea",
   "metadata": {},
   "outputs": [],
   "source": [
    "training_config = PolicyNetworkConfig(\n",
    "    batch_size=500,  # The size of each batch of data.\n",
    "    dropout=0.4,  # Dropout rate for regularization.\n",
    "    learning_rate=0.0008,  # Learning rate for the training process.\n",
    "    num_conv_layers=5,  # Number of convolutional layers in the network.\n",
    "    num_epoch=100,  # Number of epochs for training.\n",
    "    vector_dim=256,  # Dimensionality of the feature vectors.\n",
    "    policy_type='ranking',  # The mode of operation, set to 'ranking'.\n",
    ")"
   ]
  },
  {
   "cell_type": "markdown",
   "id": "f0c7e80f-0d1f-43f4-ba19-2f793a184913",
   "metadata": {},
   "source": [
    "#### Creating the Policy Dataset\n",
    "\n",
    "Next, we create the policy dataset using the `create_policy_dataset` function. This involves specifying paths to the reaction rules and the reaction data:"
   ]
  },
  {
   "cell_type": "code",
   "execution_count": null,
   "id": "73f0fbbe-14d2-4e89-a106-5c4fd1a46de6",
   "metadata": {},
   "outputs": [],
   "source": [
    "datamodule = create_policy_dataset(reaction_rules_path=reaction_rules_path,\n",
    "                                   molecules_or_reactions_path=molecules_or_reactions_path,\n",
    "                                   output_path=policy_dataset_file,\n",
    "                                   dataset_type='ranking',\n",
    "                                   batch_size=training_config.batch_size,\n",
    "                                   num_cpus=4)"
   ]
  },
  {
   "cell_type": "markdown",
   "id": "a443ea52-884e-4586-a437-96f6fc473532",
   "metadata": {},
   "source": [
    "#### Running the Policy Training\n",
    "\n",
    "Finally, we train the policy network using the `run_policy_training` function. This step involves feeding the dataset and the training configuration into the network:"
   ]
  },
  {
   "cell_type": "code",
   "execution_count": null,
   "id": "a3203d41-1ac6-4bba-a6ce-420ec7444b2a",
   "metadata": {},
   "outputs": [],
   "source": [
    "run_policy_training(datamodule, # The prepared data module for training.\n",
    "                    config=training_config, # The training configuration.\n",
    "                    results_path=policy_network_root # Path to save the training results.\n",
    "                   ) "
   ]
  },
  {
   "cell_type": "markdown",
   "id": "2f7a35be-8fec-4542-be66-a539170b4e55",
   "metadata": {},
   "source": [
    "## 4. Tree search with the ranking policy"
   ]
  },
  {
   "cell_type": "markdown",
   "id": "41ac5f25-8ff4-4d72-a8f2-f44e81aed7fd",
   "metadata": {},
   "source": [
    "The fourth and critical part of the SynTool tutorial is the implementation of the tree search algorithm using the trained ranking policy. This section explains how the `Tree` class is initialized and used for Monte Carlo Tree Search (MCTS) in retrosynthesis, employing the ranking policy to guide the search."
   ]
  },
  {
   "cell_type": "code",
   "execution_count": null,
   "id": "5d8c97cd-0e70-47a8-9fc1-7f0dc8351c5f",
   "metadata": {},
   "outputs": [],
   "source": [
    "from CGRtools import smiles\n",
    "from IPython.display import SVG, display\n",
    "\n",
    "from SynTool.utils.config import TreeConfig, PolicyNetworkConfig\n",
    "from SynTool.mcts.tree import Tree\n",
    "from SynTool.mcts.expansion import PolicyFunction\n",
    "from SynTool.interfaces.visualisation import get_route_svg"
   ]
  },
  {
   "cell_type": "code",
   "execution_count": null,
   "id": "8084bdd5-17a4-4fce-bb23-0235217558a5",
   "metadata": {
    "scrolled": true
   },
   "outputs": [],
   "source": [
    "ranking_policy_weights = os.path.join(policy_network_root, 'policy_network.ckpt')\n",
    "building_blocks_path = 'building_blocks.smi'"
   ]
  },
  {
   "cell_type": "code",
   "execution_count": null,
   "id": "b5bbcdf4-b935-48f5-a95b-87e60f64d38c",
   "metadata": {},
   "outputs": [],
   "source": [
    "policy_config = PolicyNetworkConfig(weights_path=ranking_policy_weights)\n",
    "policy_function = PolicyFunction(policy_config=policy_config)"
   ]
  },
  {
   "cell_type": "markdown",
   "id": "9d588707-6f2e-4886-9982-17411e248f05",
   "metadata": {},
   "source": [
    "#### Configuring the Tree Search\n",
    "\n",
    "The tree search is configured using the `TreeConfig` class. Key parameters include:\n",
    "\n",
    "- **max_iterations**: Defines the total number of iterations the algorithm will perform, essentially setting a limit on how many times the tree search loop can run. Default is 100 iterations.\n",
    "- **max_tree_size**: Sets the upper limit on the total number of nodes that can exist in the search tree, controlling the size and complexity of the tree. Default value is 10,000 nodes.\n",
    "- **max_time**: Specifies a time limit for the algorithm's execution, measured in seconds. This prevents the search from running indefinitely. The default time limit is 600 seconds (10 minutes).\n",
    "- **max_depth**: Determines the maximum depth of the tree, effectively controlling how far the search can go from the root node. The default maximum depth is 6 levels.\n",
    "- **ucb_type**: Chooses the type of Upper Confidence Bound (UCB) algorithm used in the search. Options include \"puct\" (predictive UCB), \"uct\" (standard UCB), and \"value\". The default is \"uct\".\n",
    "- **c_ucb**: This is the exploration-exploitation balance coefficient in UCB, which influences how much the algorithm favors exploration of new paths versus exploitation of known paths. The default coefficient is 0.1.\n",
    "- **backprop_type**: Selects the backpropagation method used during the search. Options are \"muzero\" (model-based approach) and \"cumulative\" (cumulative reward approach). The default is \"muzero\".\n",
    "- **search_strategy**: Determines the strategy for navigating the tree. Options are \"expansion_first\" (prioritizing the expansion of new nodes) and \"evaluation_first\" (prioritizing the evaluation of existing nodes). The default strategy is \"expansion_first\".\n",
    "- **exclude_small**: A boolean setting that, when true, excludes small molecules from the search, typically to focus on more complex molecules. The default is set to True.\n",
    "- **evaluation_agg**: This setting determines how the evaluation scores are aggregated. Options are \"max\" (using the maximum score) and \"average\" (using the average score). The default method is \"max\".\n",
    "- **evaluation_mode**: Defines the method used for node evaluation. Options include \"random\" (random evaluations), \"rollout\" (using rollout simulations), and \"gcn\" (graph convolutional networks). The default is \"gcn\".\n",
    "- **init_node_value**: Sets the initial value for newly created nodes in the tree. This can impact how nodes are prioritized during the search. The default initial value is 0.0.\n",
    "- **epsilon**: This parameter is used in the epsilon-greedy strategy during node selection, representing the probability of choosing a random action for exploration. A higher value leads to more exploration. The default value is 0.0.\n",
    "- **min_mol_size**: Defines the minimum size of a molecule (in terms of the number of heavy atoms) to be considered in the search. Molecules smaller than this threshold are typically considered as readily available building blocks. The default is set to 6 heavy atoms.\n",
    "- **silent**: When set to True, this option suppresses the progress output of the tree search, keeping the output clean and focused. The default setting is False."
   ]
  },
  {
   "cell_type": "code",
   "execution_count": null,
   "id": "17f18c3b-1889-4e7f-bbbf-fc8b51f5f469",
   "metadata": {},
   "outputs": [],
   "source": [
    "tree_config = TreeConfig(search_strategy=\"expansion_first\",\n",
    "                         evaluation_type=\"rollout\",\n",
    "                         min_mol_size=0,\n",
    "                         init_node_value=0.5,\n",
    "                         ucb_type=\"uct\",\n",
    "                         c_ucb=0.1,\n",
    "                         max_iterations=100,\n",
    "                         max_depth=9)"
   ]
  },
  {
   "cell_type": "code",
   "execution_count": null,
   "id": "070630a3-489d-48c1-933a-0b05881881c6",
   "metadata": {},
   "outputs": [],
   "source": [
    "example_molecule = 'Cc1cc(C)c(C2=Nn3c(C)nnc3SC2C)cc1C'\n",
    "\n",
    "target = smiles(example_molecule)\n",
    "target.canonicalize()\n",
    "target.clean2d()\n",
    "target"
   ]
  },
  {
   "cell_type": "markdown",
   "id": "35fe4682-4ba3-4bbe-9aa1-87f71c41fd44",
   "metadata": {},
   "source": [
    "#### Initializing the Tree\n",
    "\n",
    "The `Tree` class is initialized with the target molecule, the path to reaction rules, building blocks, the tree configuration, and the policy function. The policy function, obtained from the trained ranking policy, guides the selection of retrosynthetic transformations."
   ]
  },
  {
   "cell_type": "code",
   "execution_count": null,
   "id": "d5359d1a-06a0-4797-88f1-edafbbfe3b07",
   "metadata": {},
   "outputs": [],
   "source": [
    "tree = Tree(target=target,\n",
    "            tree_config=tree_config,\n",
    "            reaction_rules_path=reaction_rules_path,\n",
    "            building_blocks_path=building_blocks_path,\n",
    "            policy_function=policy_function,\n",
    "            value_function=None)"
   ]
  },
  {
   "cell_type": "markdown",
   "id": "3374e6af-b86e-4e16-9f1f-b390dd6dc1f2",
   "metadata": {},
   "source": [
    "#### Running the Tree Search\n",
    "\n",
    "The tree search is executed by iterating over the `Tree` object. Each iteration of the tree explores new nodes and expands the search space, guided by the ranking policy and the MCTS algorithm."
   ]
  },
  {
   "cell_type": "code",
   "execution_count": null,
   "id": "f770fe0c-645c-49c6-9589-00f08fd6d515",
   "metadata": {},
   "outputs": [],
   "source": [
    "tree_solved = False\n",
    "for solved, node_id in tree:\n",
    "    if solved:\n",
    "        tree_solved = True"
   ]
  },
  {
   "cell_type": "code",
   "execution_count": null,
   "id": "d7e9bd33-63f7-4488-917e-887734f937cb",
   "metadata": {},
   "outputs": [],
   "source": [
    "tree"
   ]
  },
  {
   "cell_type": "markdown",
   "id": "10842cce-74a2-44f4-89c1-676f9fbcd806",
   "metadata": {},
   "source": [
    "#### Retrosynthesis path visualisation\n",
    "\n",
    "After the tree search is complete, we can visualize the found retrosynthesis paths. The visualization uses the `path_graph` function from SynTool visualization interface."
   ]
  },
  {
   "cell_type": "code",
   "execution_count": null,
   "id": "b53f2832-a5ec-43ee-86d3-6fa3952fc784",
   "metadata": {},
   "outputs": [],
   "source": [
    "for n, node_id in enumerate(tree.winning_nodes):\n",
    "    print(f'-------- Path starts from node #{node_id} with total path score {tree.path_score(node_id)} --------')\n",
    "    display(SVG(path_graph(tree, node_id)))\n",
    "    if n == 3:\n",
    "        break"
   ]
  }
 ],
 "metadata": {
  "kernelspec": {
   "display_name": "gsl",
   "language": "python",
   "name": "gsl"
  },
  "language_info": {
   "codemirror_mode": {
    "name": "ipython",
    "version": 3
   },
   "file_extension": ".py",
   "mimetype": "text/x-python",
   "name": "python",
   "nbconvert_exporter": "python",
   "pygments_lexer": "ipython3",
   "version": "3.10.13"
  }
 },
 "nbformat": 4,
 "nbformat_minor": 5
}
