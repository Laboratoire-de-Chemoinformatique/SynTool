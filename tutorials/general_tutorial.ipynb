{
 "cells": [
  {
   "cell_type": "markdown",
   "id": "15da330e-122c-4f2d-82bc-8a684a7bed90",
   "metadata": {},
   "source": [
    "# SynTool tutorial: from reaction data to retrosynthesis planning"
   ]
  },
  {
   "cell_type": "markdown",
   "id": "f185612b-e548-4110-9815-cedadf310f53",
   "metadata": {},
   "source": [
    "<font size=\"4\">This tutorial explains how to perform the retrosynthetic models training in SynTool</font>"
   ]
  },
  {
   "cell_type": "markdown",
   "id": "4f713051-9fd7-42f3-8f79-2e4c87c19641",
   "metadata": {},
   "source": [
    "**Introduction.** Welcome to the SynTool tutorial, a detailed guide on utilizing a sophisticated retrosynthesis planning tool that combines Monte Carlo Tree Search (MCTS) with neural networks. This tutorial is designed for synthetic chemists and chemoinformaticians looking to deepen their understanding and application of SynTool in their work.\n",
    "\n",
    "**About SynTool.** SynTool is aimed as a one-box solution for building retrosynthesis planners and includes the original modules for reaction data curation, reaction rules extraction, retrosynthetic models training, and retrosynthesis planning. SynTool is based on the open-source Python 3 packages for reaction chemoinformatics and deep learning frameworks.\n",
    "\n",
    "**Tutorial focus.** This tutorial will lead through the steps of extraction of reaction rules, training retrosynthetic models (ranking policy network), and retrosynthesis planning in SynTool."
   ]
  },
  {
   "cell_type": "markdown",
   "id": "f3a3a4e8-1590-4b51-86a5-f8cff7b08554",
   "metadata": {},
   "source": [
    "## 1. General imports and working directory"
   ]
  },
  {
   "cell_type": "code",
   "execution_count": 1,
   "id": "8f8e6d79-ef07-4dd1-8979-b514d4a5e78e",
   "metadata": {},
   "outputs": [],
   "source": [
    "import os\n",
    "import pickle\n",
    "from pathlib import Path"
   ]
  },
  {
   "cell_type": "code",
   "execution_count": 2,
   "id": "7d02388b-8df4-4d7c-ac4b-d22b93fda3d6",
   "metadata": {},
   "outputs": [],
   "source": [
    "root_folder = (\n",
    "    \"training_results\"  # replace this path where you want to keep all your results\n",
    ")\n",
    "os.mkdir(root_folder)\n",
    "root_folder = Path(root_folder).resolve(strict=True)"
   ]
  },
  {
   "cell_type": "markdown",
   "id": "49c096e8-f13f-4d15-bbd8-d6a7553a944f",
   "metadata": {},
   "source": [
    "## 2. Download input data"
   ]
  },
  {
   "cell_type": "markdown",
   "id": "c3f604e1-ad73-4324-a60e-273e358b013f",
   "metadata": {},
   "source": [
    "The input data will be downloaded from the Google disk to the current location (./). The training data directory includes:\n",
    "\n",
    " - `uspto_standardized.smi` - the reaction dataset for reaction rules extraction and ranking policy network.\n",
    " - `building_blocks.smi` -  a set of building block molecules used in value neural network tuning (not considered in this tutorial) and in retrosynthesis planning.\n",
    " - `molecules_for_filtering_policy_training.smi` - a set of molecules for filtering policy network training (not considered in this tutorial)\n",
    " - `targets_for_value_network_training.smi` - a set of target molecules for planning simulations in value network tuning (not considered in this tutorial)."
   ]
  },
  {
   "cell_type": "code",
   "execution_count": 3,
   "id": "c5053330-261d-41e4-aeaa-901a20b4be02",
   "metadata": {},
   "outputs": [],
   "source": [
    "import os\n",
    "import shutil\n",
    "import gdown"
   ]
  },
  {
   "cell_type": "code",
   "execution_count": 4,
   "id": "8109b195-a0cb-4033-a223-ede260b9ed84",
   "metadata": {},
   "outputs": [
    {
     "name": "stderr",
     "output_type": "stream",
     "text": [
      "Downloading...\n",
      "From (original): https://drive.google.com/uc?id=1I2u4Zn-et-tlHmdLBAqclGiAiUuA1X5G\n",
      "From (redirected): https://drive.google.com/uc?id=1I2u4Zn-et-tlHmdLBAqclGiAiUuA1X5G&confirm=t&uuid=48db7f6c-a425-4229-918b-b705bf714d88\n",
      "To: /home1/dima/syntool/tutorials/syntool_training_data.zip\n",
      "100%|██████████████████████████████████████████████████| 128M/128M [00:01<00:00, 65.1MB/s]\n"
     ]
    }
   ],
   "source": [
    "remote_id = \"1I2u4Zn-et-tlHmdLBAqclGiAiUuA1X5G\"\n",
    "data_archive = os.path.join(\"syntool_training_data.zip\")\n",
    "gdown.download(output=data_archive, id=remote_id, quiet=False)\n",
    "\n",
    "shutil.unpack_archive(data_archive)\n",
    "os.remove(data_archive)\n",
    "if os.path.exists(\"__MACOSX\"):\n",
    "    shutil.rmtree(\"__MACOSX\")"
   ]
  },
  {
   "cell_type": "markdown",
   "id": "29abf54c-d4c9-4457-b55e-8c00e0919118",
   "metadata": {},
   "source": [
    "## 3. Reaction data filtration"
   ]
  },
  {
   "attachments": {},
   "cell_type": "markdown",
   "id": "e722673d-dd10-468e-9493-48dac1743ee1",
   "metadata": {},
   "source": [
    "In SynTool, reaction data filtration is a crucial step to ensure the quality and accuracy of the data used for retrosynthesis analysis. The USPTO dataset, a standardized but unfiltered collection of reaction records, serves as the primary data source. However, this dataset may contain records with no reaction center or atom-to-atom mapping errors. To address this, we apply several reaction filters:\n",
    "\n",
    "1. **No Reaction Filter**: Removes reactions with identical reactants and products.\n",
    "2. **Small Molecules Filter**: Excludes reactions where all reactants and products have ≤ specified number of heavy atoms.\n",
    "3. **Reaction Distance Filter**: Discards reactions with more than specified changed bonds.\n",
    "4. **Multi-Centre Reaction Filter**: Eliminates records with multiple reaction centers.\n",
    "5. **Csp3-C Breaking Filter**: Removes reactions where a bond between two sp3 carbons is broken, indicating potential mapping errors.\n",
    "6. **C-C Ring Breaking Filter**: Filters out reactions breaking a bond between two carbons in the same ring (sizes 5, 6, or 7), identified using the SSSR algorithm.\n",
    "7. **C-H Breaking Filter**: Removes reactions breaking a C-H bond to form a C-C bond, with exceptions for condensation reactions or those involving carbenes.\n",
    "\n",
    "First, we need to import the main config class called `ReactionCheckConfig`, which will encapsulate the list of reaction filters. Finally, we call the `filter_reactions` for filtering the input reaction data."
   ]
  },
  {
   "cell_type": "code",
   "execution_count": 5,
   "id": "2431d2d0-4f74-4e4f-aa89-d7dd5f810d3b",
   "metadata": {},
   "outputs": [],
   "source": [
    "from SynTool.chem.data.filtering import (\n",
    "    ReactionFilterConfig,  # the main config class\n",
    "    filter_reactions_from_file,  # reaction filtration function\n",
    "\n",
    "    # reaction filters:\n",
    "    CCRingBreakingConfig,\n",
    "    WrongCHBreakingConfig,\n",
    "    CCsp3BreakingConfig,\n",
    "    DynamicBondsConfig,\n",
    "    MultiCenterConfig,\n",
    "    NoReactionConfig,\n",
    "    SmallMoleculesConfig,\n",
    ")"
   ]
  },
  {
   "cell_type": "markdown",
   "id": "c8e6717c-8886-46e0-ac00-be0cf211cca8",
   "metadata": {},
   "source": [
    "### Setting up the reaction filtration configuration\n",
    "\n",
    "The next step is to configure the reaction filtration process. We do this using the `ReactionCheckConfig` class in SynTool. This class allows for the specification of various parameters and settings for the filtration process.\n",
    "\n",
    "**Important**: if the reaction filter name is listed in the configuration file or in `ReactionCheckConfig`, it means that this filter will be activated. Also, some filters requires additional parameters (e.g. `small_molecules_config`)."
   ]
  },
  {
   "cell_type": "code",
   "execution_count": 6,
   "id": "6d5e4a23-e800-4f03-ba46-e3cb3737dc4d",
   "metadata": {},
   "outputs": [],
   "source": [
    "filtration_config = ReactionFilterConfig(\n",
    "    dynamic_bonds_config=DynamicBondsConfig(\n",
    "        min_bonds_number=1,  # minimum number of dynamic bonds for a reaction\n",
    "        max_bonds_number=6,\n",
    "    ),  # maximum number of dynamic bonds for a reaction\n",
    "    no_reaction_config=NoReactionConfig(),  # configuration for the 'no reaction' filter.\n",
    "    multi_center_config=MultiCenterConfig(),  # configuration for the 'multi-center reaction' filter\n",
    "    wrong_ch_breaking_config=WrongCHBreakingConfig(),  # configuration for the 'C-H breaking' filter\n",
    "    cc_sp3_breaking_config=CCsp3BreakingConfig(),  # configuration for the 'Csp3-C breaking' filter\n",
    "    cc_ring_breaking_config=CCRingBreakingConfig(),\n",
    ")  # configuration for the 'C-C ring breaking' filter"
   ]
  },
  {
   "cell_type": "markdown",
   "id": "af490595-5444-4b4c-89df-6f26a21f6fa4",
   "metadata": {},
   "source": [
    "By setting up `filtration_config`, we are essentially telling SynTool what filters to apply and how to apply them. This step is crucial for ensuring that the data we use for further analysis is as accurate and reliable as possible. The reaction filters we apply here are based on the specific needs of our analysis and the characteristics of the USPTO dataset.\n",
    "\n",
    "Once this configuration is in place, we can proceed to apply these filters to our reaction data:"
   ]
  },
  {
   "cell_type": "code",
   "execution_count": 7,
   "id": "fb964f3a-5569-4b98-8979-f139a67ab3ef",
   "metadata": {},
   "outputs": [
    {
     "name": "stderr",
     "output_type": "stream",
     "text": [
      "Number of reactions processed: 1281718 [1:51:45]\n"
     ]
    },
    {
     "name": "stdout",
     "output_type": "stream",
     "text": [
      "Initial number of reactions: 1281718\n",
      "Removed number of reactions: 287201\n"
     ]
    }
   ],
   "source": [
    "reaction_data_path = Path(\"syntool_training_data/uspto_standardized.smi\").resolve(\n",
    "    strict=True\n",
    ")  # reaction data file\n",
    "\n",
    "filtered_data_path = root_folder.joinpath(\n",
    "    \"uspto_filtered.smi\"\n",
    ")  # filtered reaction data file\n",
    "\n",
    "filter_reactions_from_file(\n",
    "    config=filtration_config,\n",
    "    input_reaction_data_path=reaction_data_path,  # the path to the original reaction data file\n",
    "    filtered_reaction_data_path=filtered_data_path,  # the path to the filtered reaction data file\n",
    "    num_cpus=4,\n",
    "    batch_size=100,\n",
    ")"
   ]
  },
  {
   "cell_type": "markdown",
   "id": "cbbc5add-1108-49d8-bbcf-d31fe9d57df2",
   "metadata": {},
   "source": [
    "## 4. Reaction rules extraction"
   ]
  },
  {
   "cell_type": "markdown",
   "id": "1cc434cb-d3af-4da6-a6d1-a649a6df2297",
   "metadata": {},
   "source": [
    "After filtering the reaction data, the next step in SynTool training pipeline is the extraction of reaction rules. The reaction rules define the transformations that can be applied to synthesize target molecules.\n",
    "\n",
    "### The extraction protocol\n",
    "The protocol for extracting reaction rules from reactions in SynTool utilizes the CGRtools Python library. This procedure involves the following steps:\n",
    "1. **Substructure Extraction**: For each reactant and product in a given reaction, substructures containing the atoms of the reaction center and their immediate environment are extracted.\n",
    "2. **Substructure Exchange**: The reactant and product substructures are then exchanged.\n",
    "3. **Reagents Handling**: If the reaction includes reagents, they are not incorporated into the retro-rule.\n",
    "4. **Label Preservation**: All labels related to the atoms of the reaction center, such as hybridization, the number of neighbors, and the ring sizes in which the atoms participate, are preserved. For atoms in the first environment, only the sizes of rings are preserved.\n",
    "\n",
    "The reaction rules formed by this protocol is applied to the product of the original reaction. If it successfully generates the reactants of the reaction, the reaction rule is considered valid.\n",
    "\n",
    "### Configuring reaction rule extraction\n",
    "The `ExtractRuleConfig` class in SynTool allows for the fine-tuning of how reaction rules are extracted. Key parameters of this class include:\n",
    "\n",
    "- **multicenter_rules**: Determines whether a single rule is extracted for all centers in multicenter reactions (`True`) or if separate rules are generated for each center (`False`). Default is `True`.\n",
    "- **as_query_container**: When set to `True`, the extracted rules are formatted as `QueryContainer` objects, similar to SMARTS for chemical pattern matching. Default is `True`.\n",
    "- **reverse_rule**: If `True`, the direction of the reaction is reversed during rule extraction, which is useful for retrosynthesis. Default is `True`.\n",
    "- **reactor_validation**: Activates the validation of each generated rule in a chemical reactor to confirm accurate generation of products from reactants when set to `True`. Default is `True`.\n",
    "- **include_func_groups**: If `True`, specific functional groups are included in the reaction rule in addition to the reaction center and its environment. Default is `False`.\n",
    "- **func_groups_list**: Specifies a list of functional groups to be included when `include_func_groups` is `True`.\n",
    "- **include_rings**: Includes ring structures in the reaction rules connected to the reaction center atoms if set to `True`. Default is `False`.\n",
    "- **keep_leaving_groups**: Keeps the leaving groups in the extracted reaction rule when set to `True`. Default is `False`.\n",
    "- **keep_incoming_groups**: Retains incoming groups in the extracted reaction rule if set to `True`. Default is `False`.\n",
    "- **keep_reagents**: Includes reagents in the extracted reaction rule when `True`. Default is `False`.\n",
    "- **environment_atom_count**: Sets the number of layers of atoms around the reaction center to be included in the rule. A value of `0` includes only the reaction center, `1` includes the first surrounding layer, and so on. Default is `1`.\n",
    "- **min_popularity**: Establishes the minimum number of times a rule must be applied to be included in further analysis. Default is `3`.\n",
    "- **keep_metadata**: Preserves associated metadata with the reaction in the extracted rule when set to `True`. Default is `False`.\n",
    "- **single_reactant_only**: Limits the extracted rules to those with only a single reactant molecule if `True`. Default is `True`.\n",
    "- **atom_info_retention**: Dictates the level of detail retained about atoms in the reaction center and their environment. Default settings retain information about neighbors, hybridization, implicit hydrogens, and ring sizes for both the reaction center and its environment. Default settings:\n",
    "    ```python\n",
    "    \n",
    "    {\n",
    "        \"reaction_center\": {\n",
    "            \"neighbors\": True,\n",
    "            \"hybridization\": True,\n",
    "            \"implicit_hydrogens\": False,\n",
    "            \"ring_sizes\": False,\n",
    "        },\n",
    "        \"environment\": {\n",
    "            \"neighbors\": False,\n",
    "            \"hybridization\": False,\n",
    "            \"implicit_hydrogens\": False,\n",
    "            \"ring_sizes\": False,\n",
    "        },\n",
    "    }\n",
    "    ```\n",
    "\n",
    "These settings are crucial for tailoring the reaction rule extraction process to the specific needs of the retrosynthesis analysis, ensuring that the rules are both accurate and relevant."
   ]
  },
  {
   "cell_type": "code",
   "execution_count": 8,
   "id": "420642b6-5a4a-4688-9b93-f8c068ac0a9f",
   "metadata": {},
   "outputs": [],
   "source": [
    "from SynTool.utils.config import RuleExtractionConfig\n",
    "from SynTool.chem.reaction_rules.extraction import extract_rules_from_reactions\n",
    "from SynTool.utils.loading import load_reaction_rules"
   ]
  },
  {
   "cell_type": "code",
   "execution_count": 9,
   "id": "0e1a6557-2532-48b8-8d41-3fe842665353",
   "metadata": {},
   "outputs": [],
   "source": [
    "extraction_config = RuleExtractionConfig(\n",
    "    keep_leaving_groups=True,\n",
    "    atom_info_retention={\n",
    "        \"reaction_center\": {\n",
    "            \"neighbors\": True,  # retains information about neighboring atoms to the reaction center\n",
    "            \"hybridization\": True,  # preserves the hybridization state of atoms at the reaction center\n",
    "            \"implicit_hydrogens\": False,  # includes data on implicit hydrogen atoms attached to the reaction center\n",
    "            \"ring_sizes\": False,  # keeps information about the sizes of rings that reaction center atoms are part of\n",
    "        },\n",
    "        \"environment\": {\n",
    "            \"neighbors\": False,  # retains information about neighboring atoms to the atoms in the environment of the reaction center\n",
    "            \"hybridization\": False,  # preserves the hybridization state of atoms in the environment\n",
    "            \"implicit_hydrogens\": False,  # includes data on implicit hydrogen atoms attached to atoms in the environment\n",
    "            \"ring_sizes\": False,  # keeps information about the sizes of rings that environment atoms are part of\n",
    "        },\n",
    "    },\n",
    ")"
   ]
  },
  {
   "cell_type": "markdown",
   "id": "aa7ef87b-cc51-4d60-8e9d-4ce52da93e3f",
   "metadata": {},
   "source": [
    "This setup, for instance, retains leaving groups and specifies the level of detail for atom information retention around the reaction center. Each parameter in `ExtractRuleConfig` is designed to give users the flexibility to optimize rule extraction according to their requirements."
   ]
  },
  {
   "cell_type": "markdown",
   "id": "00b07164-9a81-4b64-a744-f814ec313de9",
   "metadata": {},
   "source": [
    "### Extracting reaction rules using `extract_rules_from_reactions`\n",
    "\n",
    "After configuring the rule extraction settings in SynTool, the next step is to apply these configurations to extract reaction rules from the reaction data. This is achieved using the `extract_rules_from_reactions` function."
   ]
  },
  {
   "cell_type": "code",
   "execution_count": 10,
   "id": "e42f25c1-f169-479f-9699-0d97815482ab",
   "metadata": {},
   "outputs": [
    {
     "name": "stderr",
     "output_type": "stream",
     "text": [
      "Number of reactions processed: 994517 [1:10:03]\n"
     ]
    },
    {
     "name": "stdout",
     "output_type": "stream",
     "text": [
      "Number of extracted reaction rules: 23957\n"
     ]
    }
   ],
   "source": [
    "reaction_rules_path = root_folder.joinpath(\n",
    "    \"reaction_rules.pickle\"\n",
    ")  # extracted reaction rules file\n",
    "\n",
    "extract_rules_from_reactions(\n",
    "    config=extraction_config,  # the configuration settings for rule extraction\n",
    "    reaction_data_path=filtered_data_path,  # path to the the reaction data file\n",
    "    reaction_rules_path=reaction_rules_path,  # path to the pickle file where the extracted reaction rules will be stored\n",
    "    num_cpus=4,\n",
    "    batch_size=100,\n",
    ")"
   ]
  },
  {
   "attachments": {},
   "cell_type": "markdown",
   "id": "24fae7bb-8f3a-49a8-8a22-4a1e0193fc06",
   "metadata": {},
   "source": [
    "The extracted reaction rules can be loaded and visually inspected (the reaction rules are sorted by popularity):"
   ]
  },
  {
   "cell_type": "code",
   "execution_count": 11,
   "id": "a2e67576-4812-4d93-8be7-b6f76add2a19",
   "metadata": {},
   "outputs": [],
   "source": [
    "with open(reaction_rules_path, \"rb\") as f:\n",
    "    reaction_rules_list = [i[0] for i in pickle.load(f)]\n",
    "for rule in reaction_rules_list:\n",
    "    rule.clean2d()"
   ]
  },
  {
   "cell_type": "code",
   "execution_count": 12,
   "id": "4b6ad4a9-b392-4259-8d40-f8cfa0d1e1ab",
   "metadata": {},
   "outputs": [
    {
     "data": {
      "image/svg+xml": [
       "<svg width=\"7.75cm\" height=\"1.66cm\" viewBox=\"-0.62 -0.83 7.75 1.66\" xmlns=\"http://www.w3.org/2000/svg\" version=\"1.1\">\n",
       "  <defs>\n",
       "    <marker id=\"arrow\" markerWidth=\"10\" markerHeight=\"10\" refX=\"0\" refY=\"3\" orient=\"auto\">\n",
       "      <path d=\"M0,0 L0,6 L9,3\"/>\n",
       "    </marker>\n",
       "  </defs>\n",
       "  <line x1=\"1.82\" y1=\"0\" x2=\"3.82\" y2=\"0\" fill=\"none\" stroke=\"black\" stroke-width=\".04\" marker-end=\"url(#arrow)\"/>\n",
       "  <g>\n",
       "    <defs>\n",
       "      <mask id=\"mask-303adf18-7f9b-450b-9290-b7b623dbb38f\">\n",
       "        <rect x=\"-0.62\" y=\"-0.83\" width=\"7.75\" height=\"1.66\" fill=\"white\"/>\n",
       "        <g fill=\"black\">\n",
       "          <circle cx=\"0.82\" cy=\"0.00\" r=\"0.20\"/>\n",
       "        </g>\n",
       "        <g font-family=\"monospace\" stroke=\"black\">\n",
       "          <g font-family=\"sans-serif\" font-size=\"0.50\" stroke-width=\"0.05\">\n",
       "           <text x=\"0.82\" y=\"0.00\" dx=\"-0.20\" dy=\"0.20\">O</text>\n",
       "          </g>\n",
       "          <g font-family=\"monospace\" font-size=\"0.3\" stroke-width=\"0.03\">\n",
       "           <text x=\"0.00\" y=\"-0.00\" dx=\"0.07\" dy=\"0.15\">3</text>\n",
       "           <text x=\"0.00\" y=\"-0.00\" dx=\"0.07\" dy=\"0.33\">d</text>\n",
       "           <text x=\"0.82\" y=\"0.00\" dx=\"0.17\" dy=\"0.15\">1</text>\n",
       "           <text x=\"0.82\" y=\"0.00\" dx=\"0.17\" dy=\"0.33\">s</text>\n",
       "          </g>\n",
       "        </g>\n",
       "      </mask>\n",
       "    </defs>\n",
       "    <g fill=\"none\" stroke=\"black\" stroke-width=\"0.04\"  mask=\"url(#mask-303adf18-7f9b-450b-9290-b7b623dbb38f)\">\n",
       "      <line x1=\"-0.62\" y1=\"-0.83\" x2=\"7.13\" y2=\"-0.83\" stroke=\"none\"/>\n",
       "      <line x1=\"0.00\" y1=\"-0.00\" x2=\"0.82\" y2=\"0.00\"/>\n",
       "    </g>\n",
       "    <g font-family=\"monospace\">\n",
       "      <g fill=\"#FF0D0D\" font-family=\"sans-serif\">\n",
       "        <text x=\"0.82\" y=\"0.00\" dx=\"-0.20\" dy=\"0.20\" font-size=\"0.50\">O</text>\n",
       "      </g>\n",
       "      <g fill=\"#5D8AA8\" font-family=\"monospace\" font-size=\"0.30\">\n",
       "        <text x=\"0.00\" y=\"-0.00\" dx=\"0.075\" dy=\"0.15\" text-anchor=\"start\">3</text>\n",
       "        <text x=\"0.82\" y=\"0.00\" dx=\"0.175\" dy=\"0.15\" text-anchor=\"start\">1</text>\n",
       "        <text x=\"0.00\" y=\"-0.00\" dx=\"0.075\" dy=\"0.33\" text-anchor=\"start\">d</text>\n",
       "        <text x=\"0.82\" y=\"0.00\" dx=\"0.175\" dy=\"0.33\" text-anchor=\"start\">s</text>\n",
       "      </g>\n",
       "    </g>\n",
       "  </g>\n",
       "  <g>\n",
       "    <defs>\n",
       "      <mask id=\"mask-93a44ad1-b296-4e79-bcfa-74f4e8f5f4ea\">\n",
       "        <rect x=\"-0.62\" y=\"-0.83\" width=\"7.75\" height=\"1.66\" fill=\"white\"/>\n",
       "        <g fill=\"black\">\n",
       "          <circle cx=\"5.54\" cy=\"-0.21\" r=\"0.20\"/>\n",
       "        </g>\n",
       "        <g font-family=\"monospace\" stroke=\"black\">\n",
       "          <g font-family=\"sans-serif\" font-size=\"0.50\" stroke-width=\"0.05\">\n",
       "           <text x=\"5.54\" y=\"-0.21\" dx=\"-0.20\" dy=\"0.20\">O</text>\n",
       "          </g>\n",
       "          <g font-family=\"monospace\" font-size=\"0.3\" stroke-width=\"0.03\">\n",
       "           <text x=\"6.25\" y=\"0.21\" dx=\"0.07\" dy=\"0.15\">3</text>\n",
       "           <text x=\"6.25\" y=\"0.21\" dx=\"0.07\" dy=\"0.33\">d</text>\n",
       "           <text x=\"5.54\" y=\"-0.21\" dx=\"0.17\" dy=\"0.15\">2</text>\n",
       "           <text x=\"5.54\" y=\"-0.21\" dx=\"0.17\" dy=\"0.33\">s</text>\n",
       "           <text x=\"4.82\" y=\"0.21\" dx=\"0.07\" dy=\"0.15\">1</text>\n",
       "           <text x=\"4.82\" y=\"0.21\" dx=\"0.07\" dy=\"0.33\">s</text>\n",
       "          </g>\n",
       "        </g>\n",
       "      </mask>\n",
       "    </defs>\n",
       "    <g fill=\"none\" stroke=\"black\" stroke-width=\"0.04\"  mask=\"url(#mask-93a44ad1-b296-4e79-bcfa-74f4e8f5f4ea)\">\n",
       "      <line x1=\"6.25\" y1=\"0.21\" x2=\"5.54\" y2=\"-0.21\"/>\n",
       "      <line x1=\"5.54\" y1=\"-0.21\" x2=\"4.82\" y2=\"0.21\"/>\n",
       "    </g>\n",
       "    <g font-family=\"monospace\">\n",
       "      <g fill=\"#FF0D0D\" font-family=\"sans-serif\">\n",
       "        <text x=\"5.54\" y=\"-0.21\" dx=\"-0.20\" dy=\"0.20\" font-size=\"0.50\">O</text>\n",
       "      </g>\n",
       "      <g fill=\"#5D8AA8\" font-family=\"monospace\" font-size=\"0.30\">\n",
       "        <text x=\"6.25\" y=\"0.21\" dx=\"0.075\" dy=\"0.15\" text-anchor=\"start\">3</text>\n",
       "        <text x=\"5.54\" y=\"-0.21\" dx=\"0.175\" dy=\"0.15\" text-anchor=\"start\">2</text>\n",
       "        <text x=\"4.82\" y=\"0.21\" dx=\"0.075\" dy=\"0.15\" text-anchor=\"start\">1</text>\n",
       "        <text x=\"6.25\" y=\"0.21\" dx=\"0.075\" dy=\"0.33\" text-anchor=\"start\">d</text>\n",
       "        <text x=\"5.54\" y=\"-0.21\" dx=\"0.175\" dy=\"0.33\" text-anchor=\"start\">s</text>\n",
       "        <text x=\"4.82\" y=\"0.21\" dx=\"0.075\" dy=\"0.33\" text-anchor=\"start\">s</text>\n",
       "      </g>\n",
       "    </g>\n",
       "  </g>\n",
       "</svg>"
      ],
      "text/plain": [
       "<CGRtools.containers.reaction.ReactionContainer at 0x7fa2a9c2a560>"
      ]
     },
     "execution_count": 12,
     "metadata": {},
     "output_type": "execute_result"
    }
   ],
   "source": [
    "reaction_rules_list[0]"
   ]
  },
  {
   "cell_type": "code",
   "execution_count": 13,
   "id": "4c90bac1-1a49-4cf1-815d-f13c0280e710",
   "metadata": {},
   "outputs": [
    {
     "data": {
      "image/svg+xml": [
       "<svg width=\"8.47cm\" height=\"1.66cm\" viewBox=\"-0.62 -0.83 8.47 1.66\" xmlns=\"http://www.w3.org/2000/svg\" version=\"1.1\">\n",
       "  <defs>\n",
       "    <marker id=\"arrow\" markerWidth=\"10\" markerHeight=\"10\" refX=\"0\" refY=\"3\" orient=\"auto\">\n",
       "      <path d=\"M0,0 L0,6 L9,3\"/>\n",
       "    </marker>\n",
       "  </defs>\n",
       "  <line x1=\"1.82\" y1=\"0\" x2=\"3.82\" y2=\"0\" fill=\"none\" stroke=\"black\" stroke-width=\".04\" marker-end=\"url(#arrow)\"/>\n",
       "  <g>\n",
       "    <defs>\n",
       "      <mask id=\"mask-5c7b2fb4-f9a6-4351-b71b-1642b84d2649\">\n",
       "        <rect x=\"-0.62\" y=\"-0.83\" width=\"8.47\" height=\"1.66\" fill=\"white\"/>\n",
       "        <g fill=\"black\">\n",
       "          <circle cx=\"0.00\" cy=\"-0.00\" r=\"0.20\"/>\n",
       "        </g>\n",
       "        <g font-family=\"monospace\" stroke=\"black\">\n",
       "          <g font-family=\"sans-serif\" font-size=\"0.50\" stroke-width=\"0.05\">\n",
       "           <text x=\"0.00\" y=\"-0.00\" dx=\"-0.20\" dy=\"0.20\">O</text>\n",
       "          </g>\n",
       "          <g font-family=\"monospace\" font-size=\"0.3\" stroke-width=\"0.03\">\n",
       "           <text x=\"0.82\" y=\"0.00\" dx=\"0.07\" dy=\"0.15\">3</text>\n",
       "           <text x=\"0.82\" y=\"0.00\" dx=\"0.07\" dy=\"0.33\">d</text>\n",
       "           <text x=\"0.00\" y=\"-0.00\" dx=\"0.17\" dy=\"0.15\">1</text>\n",
       "           <text x=\"0.00\" y=\"-0.00\" dx=\"0.17\" dy=\"0.33\">s</text>\n",
       "          </g>\n",
       "        </g>\n",
       "      </mask>\n",
       "    </defs>\n",
       "    <g fill=\"none\" stroke=\"black\" stroke-width=\"0.04\"  mask=\"url(#mask-5c7b2fb4-f9a6-4351-b71b-1642b84d2649)\">\n",
       "      <line x1=\"-0.62\" y1=\"-0.83\" x2=\"7.84\" y2=\"-0.83\" stroke=\"none\"/>\n",
       "      <line x1=\"0.82\" y1=\"0.00\" x2=\"0.00\" y2=\"-0.00\"/>\n",
       "    </g>\n",
       "    <g font-family=\"monospace\">\n",
       "      <g fill=\"#FF0D0D\" font-family=\"sans-serif\">\n",
       "        <text x=\"0.00\" y=\"-0.00\" dx=\"-0.20\" dy=\"0.20\" font-size=\"0.50\">O</text>\n",
       "      </g>\n",
       "      <g fill=\"#5D8AA8\" font-family=\"monospace\" font-size=\"0.30\">\n",
       "        <text x=\"0.82\" y=\"0.00\" dx=\"0.075\" dy=\"0.15\" text-anchor=\"start\">3</text>\n",
       "        <text x=\"0.00\" y=\"-0.00\" dx=\"0.175\" dy=\"0.15\" text-anchor=\"start\">1</text>\n",
       "        <text x=\"0.82\" y=\"0.00\" dx=\"0.075\" dy=\"0.33\" text-anchor=\"start\">d</text>\n",
       "        <text x=\"0.00\" y=\"-0.00\" dx=\"0.175\" dy=\"0.33\" text-anchor=\"start\">s</text>\n",
       "      </g>\n",
       "    </g>\n",
       "  </g>\n",
       "  <g>\n",
       "    <defs>\n",
       "      <mask id=\"mask-018169e6-3bd2-46f7-b459-3284826c99a1\">\n",
       "        <rect x=\"-0.62\" y=\"-0.83\" width=\"8.47\" height=\"1.66\" fill=\"white\"/>\n",
       "        <g fill=\"black\">\n",
       "          <circle cx=\"5.54\" cy=\"0.21\" r=\"0.20\"/>\n",
       "        </g>\n",
       "        <g font-family=\"monospace\" stroke=\"black\">\n",
       "          <g font-family=\"sans-serif\" font-size=\"0.50\" stroke-width=\"0.05\">\n",
       "           <text x=\"5.54\" y=\"0.21\" dx=\"-0.20\" dy=\"0.20\">O</text>\n",
       "          </g>\n",
       "          <g font-family=\"monospace\" font-size=\"0.3\" stroke-width=\"0.03\">\n",
       "           <text x=\"4.82\" y=\"-0.21\" dx=\"0.07\" dy=\"0.15\">3</text>\n",
       "           <text x=\"4.82\" y=\"-0.21\" dx=\"0.07\" dy=\"0.33\">d</text>\n",
       "           <text x=\"5.54\" y=\"0.21\" dx=\"0.17\" dy=\"0.15\">2</text>\n",
       "           <text x=\"5.54\" y=\"0.21\" dx=\"0.17\" dy=\"0.33\">s</text>\n",
       "           <text x=\"6.25\" y=\"-0.21\" dx=\"0.07\" dy=\"0.15\">2</text>\n",
       "           <text x=\"6.25\" y=\"-0.21\" dx=\"0.07\" dy=\"0.33\">s</text>\n",
       "           <text x=\"6.97\" y=\"0.21\" dx=\"0.07\" dy=\"0.15\">1</text>\n",
       "           <text x=\"6.97\" y=\"0.21\" dx=\"0.07\" dy=\"0.33\">s</text>\n",
       "          </g>\n",
       "        </g>\n",
       "      </mask>\n",
       "    </defs>\n",
       "    <g fill=\"none\" stroke=\"black\" stroke-width=\"0.04\"  mask=\"url(#mask-018169e6-3bd2-46f7-b459-3284826c99a1)\">\n",
       "      <line x1=\"4.82\" y1=\"-0.21\" x2=\"5.54\" y2=\"0.21\"/>\n",
       "      <line x1=\"5.54\" y1=\"0.21\" x2=\"6.25\" y2=\"-0.21\"/>\n",
       "      <line x1=\"6.25\" y1=\"-0.21\" x2=\"6.97\" y2=\"0.21\"/>\n",
       "    </g>\n",
       "    <g font-family=\"monospace\">\n",
       "      <g fill=\"#FF0D0D\" font-family=\"sans-serif\">\n",
       "        <text x=\"5.54\" y=\"0.21\" dx=\"-0.20\" dy=\"0.20\" font-size=\"0.50\">O</text>\n",
       "      </g>\n",
       "      <g fill=\"#5D8AA8\" font-family=\"monospace\" font-size=\"0.30\">\n",
       "        <text x=\"4.82\" y=\"-0.21\" dx=\"0.075\" dy=\"0.15\" text-anchor=\"start\">3</text>\n",
       "        <text x=\"5.54\" y=\"0.21\" dx=\"0.175\" dy=\"0.15\" text-anchor=\"start\">2</text>\n",
       "        <text x=\"6.25\" y=\"-0.21\" dx=\"0.075\" dy=\"0.15\" text-anchor=\"start\">2</text>\n",
       "        <text x=\"6.97\" y=\"0.21\" dx=\"0.075\" dy=\"0.15\" text-anchor=\"start\">1</text>\n",
       "        <text x=\"4.82\" y=\"-0.21\" dx=\"0.075\" dy=\"0.33\" text-anchor=\"start\">d</text>\n",
       "        <text x=\"5.54\" y=\"0.21\" dx=\"0.175\" dy=\"0.33\" text-anchor=\"start\">s</text>\n",
       "        <text x=\"6.25\" y=\"-0.21\" dx=\"0.075\" dy=\"0.33\" text-anchor=\"start\">s</text>\n",
       "        <text x=\"6.97\" y=\"0.21\" dx=\"0.075\" dy=\"0.33\" text-anchor=\"start\">s</text>\n",
       "      </g>\n",
       "    </g>\n",
       "  </g>\n",
       "</svg>"
      ],
      "text/plain": [
       "<CGRtools.containers.reaction.ReactionContainer at 0x7fa2a9c28ee0>"
      ]
     },
     "execution_count": 13,
     "metadata": {},
     "output_type": "execute_result"
    }
   ],
   "source": [
    "reaction_rules_list[1]"
   ]
  },
  {
   "cell_type": "code",
   "execution_count": 14,
   "id": "a62c9f51-3253-4d9a-8cad-5d36d2e6db9c",
   "metadata": {},
   "outputs": [
    {
     "data": {
      "image/svg+xml": [
       "<svg width=\"11.10cm\" height=\"2.49cm\" viewBox=\"-0.62 -1.24 11.10 2.49\" xmlns=\"http://www.w3.org/2000/svg\" version=\"1.1\">\n",
       "  <defs>\n",
       "    <marker id=\"arrow\" markerWidth=\"10\" markerHeight=\"10\" refX=\"0\" refY=\"3\" orient=\"auto\">\n",
       "      <path d=\"M0,0 L0,6 L9,3\"/>\n",
       "    </marker>\n",
       "  </defs>\n",
       "  <line x1=\"3.14\" y1=\"0\" x2=\"5.14\" y2=\"0\" fill=\"none\" stroke=\"black\" stroke-width=\".04\" marker-end=\"url(#arrow)\"/>\n",
       "  <g fill=\"none\" stroke=\"black\" stroke-width=\".04\">\n",
       "    <line x1=\"7.52\" y1=\"0\" x2=\"7.82\" y2=\"0\"/>\n",
       "    <line x1=\"7.67\" y1=\"0.15\" x2=\"7.67\" y2=\"-0.15\"/>\n",
       "  </g>\n",
       "  <g>\n",
       "    <defs>\n",
       "      <mask id=\"mask-898af258-b909-4129-9187-33c17595772b\">\n",
       "        <rect x=\"-0.62\" y=\"-1.24\" width=\"11.10\" height=\"2.49\" fill=\"white\"/>\n",
       "        <g fill=\"black\">\n",
       "          <circle cx=\"1.43\" cy=\"-0.62\" r=\"0.20\"/>\n",
       "        </g>\n",
       "        <g font-family=\"monospace\" stroke=\"black\">\n",
       "          <g font-family=\"sans-serif\" font-size=\"0.50\" stroke-width=\"0.05\">\n",
       "           <text x=\"1.43\" y=\"-0.62\" dx=\"-0.20\" dy=\"0.20\">O</text>\n",
       "          </g>\n",
       "          <g font-family=\"monospace\" font-size=\"0.3\" stroke-width=\"0.03\">\n",
       "           <text x=\"2.14\" y=\"-0.21\" dx=\"0.07\" dy=\"0.15\">3</text>\n",
       "           <text x=\"2.14\" y=\"-0.21\" dx=\"0.07\" dy=\"0.33\">a</text>\n",
       "           <text x=\"1.43\" y=\"-0.62\" dx=\"0.17\" dy=\"0.15\">2</text>\n",
       "           <text x=\"1.43\" y=\"-0.62\" dx=\"0.17\" dy=\"0.33\">s</text>\n",
       "           <text x=\"0.71\" y=\"-0.21\" dx=\"0.07\" dy=\"0.15\">3</text>\n",
       "           <text x=\"0.71\" y=\"-0.21\" dx=\"0.07\" dy=\"0.33\">a</text>\n",
       "           <text x=\"0.71\" y=\"0.62\" dx=\"0.07\" dy=\"0.15\">2</text>\n",
       "           <text x=\"0.71\" y=\"0.62\" dx=\"0.07\" dy=\"0.33\">a</text>\n",
       "           <text x=\"0.00\" y=\"-0.62\" dx=\"0.07\" dy=\"0.15\">3</text>\n",
       "           <text x=\"0.00\" y=\"-0.62\" dx=\"0.07\" dy=\"0.33\">a</text>\n",
       "          </g>\n",
       "        </g>\n",
       "      </mask>\n",
       "    </defs>\n",
       "    <g fill=\"none\" stroke=\"black\" stroke-width=\"0.04\"  mask=\"url(#mask-898af258-b909-4129-9187-33c17595772b)\">\n",
       "      <line x1=\"2.14\" y1=\"-0.21\" x2=\"1.43\" y2=\"-0.62\"/>\n",
       "      <line x1=\"1.43\" y1=\"-0.62\" x2=\"0.71\" y2=\"-0.21\"/>\n",
       "      <line x1=\"0.77\" y1=\"-0.21\" x2=\"0.77\" y2=\"0.62\"/>\n",
       "      <line x1=\"0.65\" y1=\"-0.21\" x2=\"0.65\" y2=\"0.62\" stroke-dasharray=\"0.15 0.05\"/>\n",
       "      <line x1=\"0.68\" y1=\"-0.15\" x2=\"-0.03\" y2=\"-0.57\"/>\n",
       "      <line x1=\"0.74\" y1=\"-0.26\" x2=\"0.03\" y2=\"-0.67\" stroke-dasharray=\"0.15 0.05\"/>\n",
       "    </g>\n",
       "    <g font-family=\"monospace\">\n",
       "      <g fill=\"#FF0D0D\" font-family=\"sans-serif\">\n",
       "        <text x=\"1.43\" y=\"-0.62\" dx=\"-0.20\" dy=\"0.20\" font-size=\"0.50\">O</text>\n",
       "      </g>\n",
       "      <g fill=\"#5D8AA8\" font-family=\"monospace\" font-size=\"0.30\">\n",
       "        <text x=\"2.14\" y=\"-0.21\" dx=\"0.075\" dy=\"0.15\" text-anchor=\"start\">3</text>\n",
       "        <text x=\"1.43\" y=\"-0.62\" dx=\"0.175\" dy=\"0.15\" text-anchor=\"start\">2</text>\n",
       "        <text x=\"0.71\" y=\"-0.21\" dx=\"0.075\" dy=\"0.15\" text-anchor=\"start\">3</text>\n",
       "        <text x=\"0.71\" y=\"0.62\" dx=\"0.075\" dy=\"0.15\" text-anchor=\"start\">2</text>\n",
       "        <text x=\"0.00\" y=\"-0.62\" dx=\"0.075\" dy=\"0.15\" text-anchor=\"start\">3</text>\n",
       "        <text x=\"2.14\" y=\"-0.21\" dx=\"0.075\" dy=\"0.33\" text-anchor=\"start\">a</text>\n",
       "        <text x=\"1.43\" y=\"-0.62\" dx=\"0.175\" dy=\"0.33\" text-anchor=\"start\">s</text>\n",
       "        <text x=\"0.71\" y=\"-0.21\" dx=\"0.075\" dy=\"0.33\" text-anchor=\"start\">a</text>\n",
       "        <text x=\"0.71\" y=\"0.62\" dx=\"0.075\" dy=\"0.33\" text-anchor=\"start\">a</text>\n",
       "        <text x=\"0.00\" y=\"-0.62\" dx=\"0.075\" dy=\"0.33\" text-anchor=\"start\">a</text>\n",
       "      </g>\n",
       "    </g>\n",
       "  </g>\n",
       "  <g>\n",
       "    <defs>\n",
       "      <mask id=\"mask-fc0a4950-f7e1-4346-87a4-d181b7c05398\">\n",
       "        <rect x=\"-0.62\" y=\"-1.24\" width=\"11.10\" height=\"2.49\" fill=\"white\"/>\n",
       "        <g fill=\"black\">\n",
       "          <circle cx=\"6.14\" cy=\"-0.00\" r=\"0.20\"/>\n",
       "        </g>\n",
       "        <g font-family=\"monospace\" stroke=\"black\">\n",
       "          <g font-family=\"sans-serif\" font-size=\"0.50\" stroke-width=\"0.05\">\n",
       "           <text x=\"6.14\" y=\"-0.00\" dx=\"-0.20\" dy=\"0.20\">O</text>\n",
       "          </g>\n",
       "          <g font-family=\"monospace\" font-size=\"0.3\" stroke-width=\"0.03\">\n",
       "           <text x=\"6.97\" y=\"0.00\" dx=\"0.07\" dy=\"0.15\">3</text>\n",
       "           <text x=\"6.97\" y=\"0.00\" dx=\"0.07\" dy=\"0.33\">a</text>\n",
       "           <text x=\"6.14\" y=\"-0.00\" dx=\"0.17\" dy=\"0.15\">1</text>\n",
       "           <text x=\"6.14\" y=\"-0.00\" dx=\"0.17\" dy=\"0.33\">s</text>\n",
       "          </g>\n",
       "        </g>\n",
       "      </mask>\n",
       "    </defs>\n",
       "    <g fill=\"none\" stroke=\"black\" stroke-width=\"0.04\"  mask=\"url(#mask-fc0a4950-f7e1-4346-87a4-d181b7c05398)\">\n",
       "      <line x1=\"-0.62\" y1=\"-1.24\" x2=\"10.47\" y2=\"-1.24\" stroke=\"none\"/>\n",
       "      <line x1=\"6.97\" y1=\"0.00\" x2=\"6.14\" y2=\"-0.00\"/>\n",
       "    </g>\n",
       "    <g font-family=\"monospace\">\n",
       "      <g fill=\"#FF0D0D\" font-family=\"sans-serif\">\n",
       "        <text x=\"6.14\" y=\"-0.00\" dx=\"-0.20\" dy=\"0.20\" font-size=\"0.50\">O</text>\n",
       "      </g>\n",
       "      <g fill=\"#5D8AA8\" font-family=\"monospace\" font-size=\"0.30\">\n",
       "        <text x=\"6.97\" y=\"0.00\" dx=\"0.075\" dy=\"0.15\" text-anchor=\"start\">3</text>\n",
       "        <text x=\"6.14\" y=\"-0.00\" dx=\"0.175\" dy=\"0.15\" text-anchor=\"start\">1</text>\n",
       "        <text x=\"6.97\" y=\"0.00\" dx=\"0.075\" dy=\"0.33\" text-anchor=\"start\">a</text>\n",
       "        <text x=\"6.14\" y=\"-0.00\" dx=\"0.175\" dy=\"0.33\" text-anchor=\"start\">s</text>\n",
       "      </g>\n",
       "    </g>\n",
       "  </g>\n",
       "  <g>\n",
       "    <defs>\n",
       "      <mask id=\"mask-cce6552e-dec0-4c27-b7f2-8a8f4d555ee4\">\n",
       "        <rect x=\"-0.62\" y=\"-1.24\" width=\"11.10\" height=\"2.49\" fill=\"white\"/>\n",
       "        <g fill=\"black\">\n",
       "          <circle cx=\"8.17\" cy=\"-0.26\" r=\"0.20\"/>\n",
       "        </g>\n",
       "        <g font-family=\"monospace\" stroke=\"black\">\n",
       "          <g font-family=\"sans-serif\" font-size=\"0.50\" stroke-width=\"0.05\">\n",
       "           <text x=\"8.17\" y=\"-0.26\" dx=\"-0.20\" dy=\"0.20\">F</text>\n",
       "          </g>\n",
       "          <g font-family=\"monospace\" font-size=\"0.3\" stroke-width=\"0.03\">\n",
       "           <text x=\"9.30\" y=\"-0.56\" dx=\"0.07\" dy=\"0.15\">3</text>\n",
       "           <text x=\"9.30\" y=\"-0.56\" dx=\"0.07\" dy=\"0.33\">a</text>\n",
       "           <text x=\"8.88\" y=\"0.15\" dx=\"0.07\" dy=\"0.15\">3</text>\n",
       "           <text x=\"8.88\" y=\"0.15\" dx=\"0.07\" dy=\"0.33\">a</text>\n",
       "           <text x=\"9.60\" y=\"0.56\" dx=\"0.07\" dy=\"0.15\">2</text>\n",
       "           <text x=\"9.60\" y=\"0.56\" dx=\"0.07\" dy=\"0.33\">a</text>\n",
       "           <text x=\"8.17\" y=\"-0.26\" dx=\"0.17\" dy=\"0.15\">1</text>\n",
       "           <text x=\"8.17\" y=\"-0.26\" dx=\"0.17\" dy=\"0.33\">s</text>\n",
       "          </g>\n",
       "        </g>\n",
       "      </mask>\n",
       "    </defs>\n",
       "    <g fill=\"none\" stroke=\"black\" stroke-width=\"0.04\"  mask=\"url(#mask-cce6552e-dec0-4c27-b7f2-8a8f4d555ee4)\">\n",
       "      <line x1=\"9.35\" y1=\"-0.53\" x2=\"8.93\" y2=\"0.18\"/>\n",
       "      <line x1=\"9.24\" y1=\"-0.59\" x2=\"8.83\" y2=\"0.12\" stroke-dasharray=\"0.15 0.05\"/>\n",
       "      <line x1=\"8.91\" y1=\"0.10\" x2=\"9.63\" y2=\"0.51\"/>\n",
       "      <line x1=\"8.85\" y1=\"0.20\" x2=\"9.57\" y2=\"0.62\" stroke-dasharray=\"0.15 0.05\"/>\n",
       "      <line x1=\"8.88\" y1=\"0.15\" x2=\"8.17\" y2=\"-0.26\"/>\n",
       "    </g>\n",
       "    <g font-family=\"monospace\">\n",
       "      <g fill=\"#90E050\" font-family=\"sans-serif\">\n",
       "        <text x=\"8.17\" y=\"-0.26\" dx=\"-0.20\" dy=\"0.20\" font-size=\"0.50\">F</text>\n",
       "      </g>\n",
       "      <g fill=\"#5D8AA8\" font-family=\"monospace\" font-size=\"0.30\">\n",
       "        <text x=\"9.30\" y=\"-0.56\" dx=\"0.075\" dy=\"0.15\" text-anchor=\"start\">3</text>\n",
       "        <text x=\"8.88\" y=\"0.15\" dx=\"0.075\" dy=\"0.15\" text-anchor=\"start\">3</text>\n",
       "        <text x=\"9.60\" y=\"0.56\" dx=\"0.075\" dy=\"0.15\" text-anchor=\"start\">2</text>\n",
       "        <text x=\"8.17\" y=\"-0.26\" dx=\"0.175\" dy=\"0.15\" text-anchor=\"start\">1</text>\n",
       "        <text x=\"9.30\" y=\"-0.56\" dx=\"0.075\" dy=\"0.33\" text-anchor=\"start\">a</text>\n",
       "        <text x=\"8.88\" y=\"0.15\" dx=\"0.075\" dy=\"0.33\" text-anchor=\"start\">a</text>\n",
       "        <text x=\"9.60\" y=\"0.56\" dx=\"0.075\" dy=\"0.33\" text-anchor=\"start\">a</text>\n",
       "        <text x=\"8.17\" y=\"-0.26\" dx=\"0.175\" dy=\"0.33\" text-anchor=\"start\">s</text>\n",
       "      </g>\n",
       "    </g>\n",
       "  </g>\n",
       "</svg>"
      ],
      "text/plain": [
       "<CGRtools.containers.reaction.ReactionContainer at 0x7fa2a9c29d80>"
      ]
     },
     "execution_count": 14,
     "metadata": {},
     "output_type": "execute_result"
    }
   ],
   "source": [
    "reaction_rules_list[100]"
   ]
  },
  {
   "cell_type": "markdown",
   "id": "20e55911-23de-410e-b242-d0e95e36314e",
   "metadata": {},
   "source": [
    "## 5. Ranking policy training"
   ]
  },
  {
   "cell_type": "markdown",
   "id": "cc731c98-bfad-4689-a553-3678dfceddf9",
   "metadata": {},
   "source": [
    "After extracting the reaction rules, the next step in SynTool involves the training ranking policy network. \n",
    "\n",
    "The tree nodes in MCTS are expanded by an expansion function approximated by a policy graph neu-ral network. The policy network is composed of two parts: molecular representation and reaction rule prediction parts. In the representation part, the molecular graph is converted to a single vector by graph convolutional layers. The training set structure and the prediction part architecture depend on the type of policy network, particularly the ranking or filtering policy network.\n",
    "The training dataset for ranking policy network consists of pairs of reactions and corresponding reaction rules extracted from it. The products of the reaction are transformed to the CGR encoded as a molecular graph with the one-hot encoded label vector where the positive label corresponds to the reac-tion rule. The prediction part is terminated with the softmax function generating the “probability of suc-cessful application” of each reaction rule to a given input molecular graph, which can be used for the reaction rules “ranking”.\n",
    "All the reaction rules predicted by the ranking or policy neural network are sorted by predicted reaction rule probability and the first N (usually N = 50) of reaction rules are selected to be applied to the current precursor in the expansion step.\n",
    "\n",
    "Frst, we define the training configuration using the `PolicyNetworkConfig` class. This configuration includes various hyperparameters for the neural network:"
   ]
  },
  {
   "cell_type": "code",
   "execution_count": 15,
   "id": "a669dcd8-21e8-4c07-820c-78c1a46b0e06",
   "metadata": {},
   "outputs": [],
   "source": [
    "from SynTool.utils.config import PolicyNetworkConfig\n",
    "from SynTool.ml.training.supervised import create_policy_dataset, run_policy_training"
   ]
  },
  {
   "cell_type": "code",
   "execution_count": 16,
   "id": "ffdb63c6-7ef0-4b54-b769-45b0c3dac5ea",
   "metadata": {},
   "outputs": [],
   "source": [
    "training_config = PolicyNetworkConfig(\n",
    "    policy_type=\"ranking\",  # the type of policy network\n",
    "    num_conv_layers=5,  # the number of graph convolutional layers in the network\n",
    "    vector_dim=512,  # the dimensionality of the final embedding vector\n",
    "    learning_rate=0.0008,  # the learning rate for the training process\n",
    "    dropout=0.4,  # the dropout rate\n",
    "    num_epoch=100,  # the number of epochs for training\n",
    "    batch_size=1000,\n",
    ")  # the size of training batch of input data"
   ]
  },
  {
   "cell_type": "markdown",
   "id": "f0c7e80f-0d1f-43f4-ba19-2f793a184913",
   "metadata": {},
   "source": [
    "#### Creating the training set\n",
    "\n",
    "Next, we create the policy dataset using the `create_policy_dataset` function. This involves specifying paths to the reaction rules and the reaction data:"
   ]
  },
  {
   "cell_type": "code",
   "execution_count": 17,
   "id": "73f0fbbe-14d2-4e89-a106-5c4fd1a46de6",
   "metadata": {},
   "outputs": [
    {
     "name": "stderr",
     "output_type": "stream",
     "text": [
      "Number of reactions processed: 994517 [2:52:33]\n"
     ]
    },
    {
     "name": "stdout",
     "output_type": "stream",
     "text": [
      "Training set size: 642750, validation set size: 160688\n"
     ]
    }
   ],
   "source": [
    "ranking_policy_network_folder = root_folder.joinpath(\"ranking_policy_network\")\n",
    "ranking_policy_dataset_path = os.path.join(\n",
    "    ranking_policy_network_folder, \"ranking_policy_dataset.dt\"\n",
    ")\n",
    "\n",
    "datamodule = create_policy_dataset(\n",
    "    dataset_type=\"ranking\",\n",
    "    reaction_rules_path=reaction_rules_path,\n",
    "    molecules_or_reactions_path=filtered_data_path,\n",
    "    output_path=ranking_policy_dataset_path,\n",
    "    batch_size=training_config.batch_size,\n",
    "    num_cpus=4,\n",
    ")"
   ]
  },
  {
   "cell_type": "markdown",
   "id": "a443ea52-884e-4586-a437-96f6fc473532",
   "metadata": {},
   "source": [
    "#### Run the policy network training\n",
    "\n",
    "Finally, we train the policy network using the `run_policy_training` function. This step involves feeding the dataset and the training configuration into the network:"
   ]
  },
  {
   "cell_type": "code",
   "execution_count": 18,
   "id": "a3203d41-1ac6-4bba-a6ce-420ec7444b2a",
   "metadata": {},
   "outputs": [
    {
     "name": "stdout",
     "output_type": "stream",
     "text": [
      "Weight decoupling enabled in AdaBelief\n",
      "Rectification enabled in AdaBelief\n"
     ]
    },
    {
     "data": {
      "application/vnd.jupyter.widget-view+json": {
       "model_id": "",
       "version_major": 2,
       "version_minor": 0
      },
      "text/plain": [
       "Sanity Checking: 0it [00:00, ?it/s]"
      ]
     },
     "metadata": {},
     "output_type": "display_data"
    },
    {
     "data": {
      "application/vnd.jupyter.widget-view+json": {
       "model_id": "0cbf852ad494494b93b45cca78f1fddd",
       "version_major": 2,
       "version_minor": 0
      },
      "text/plain": [
       "Training: 0it [00:00, ?it/s]"
      ]
     },
     "metadata": {},
     "output_type": "display_data"
    },
    {
     "data": {
      "application/vnd.jupyter.widget-view+json": {
       "model_id": "",
       "version_major": 2,
       "version_minor": 0
      },
      "text/plain": [
       "Validation: 0it [00:00, ?it/s]"
      ]
     },
     "metadata": {},
     "output_type": "display_data"
    },
    {
     "data": {
      "application/vnd.jupyter.widget-view+json": {
       "model_id": "",
       "version_major": 2,
       "version_minor": 0
      },
      "text/plain": [
       "Validation: 0it [00:00, ?it/s]"
      ]
     },
     "metadata": {},
     "output_type": "display_data"
    },
    {
     "data": {
      "application/vnd.jupyter.widget-view+json": {
       "model_id": "",
       "version_major": 2,
       "version_minor": 0
      },
      "text/plain": [
       "Validation: 0it [00:00, ?it/s]"
      ]
     },
     "metadata": {},
     "output_type": "display_data"
    },
    {
     "data": {
      "application/vnd.jupyter.widget-view+json": {
       "model_id": "",
       "version_major": 2,
       "version_minor": 0
      },
      "text/plain": [
       "Validation: 0it [00:00, ?it/s]"
      ]
     },
     "metadata": {},
     "output_type": "display_data"
    },
    {
     "data": {
      "application/vnd.jupyter.widget-view+json": {
       "model_id": "",
       "version_major": 2,
       "version_minor": 0
      },
      "text/plain": [
       "Validation: 0it [00:00, ?it/s]"
      ]
     },
     "metadata": {},
     "output_type": "display_data"
    },
    {
     "data": {
      "application/vnd.jupyter.widget-view+json": {
       "model_id": "",
       "version_major": 2,
       "version_minor": 0
      },
      "text/plain": [
       "Validation: 0it [00:00, ?it/s]"
      ]
     },
     "metadata": {},
     "output_type": "display_data"
    },
    {
     "data": {
      "application/vnd.jupyter.widget-view+json": {
       "model_id": "",
       "version_major": 2,
       "version_minor": 0
      },
      "text/plain": [
       "Validation: 0it [00:00, ?it/s]"
      ]
     },
     "metadata": {},
     "output_type": "display_data"
    },
    {
     "data": {
      "application/vnd.jupyter.widget-view+json": {
       "model_id": "",
       "version_major": 2,
       "version_minor": 0
      },
      "text/plain": [
       "Validation: 0it [00:00, ?it/s]"
      ]
     },
     "metadata": {},
     "output_type": "display_data"
    },
    {
     "data": {
      "application/vnd.jupyter.widget-view+json": {
       "model_id": "",
       "version_major": 2,
       "version_minor": 0
      },
      "text/plain": [
       "Validation: 0it [00:00, ?it/s]"
      ]
     },
     "metadata": {},
     "output_type": "display_data"
    },
    {
     "data": {
      "application/vnd.jupyter.widget-view+json": {
       "model_id": "",
       "version_major": 2,
       "version_minor": 0
      },
      "text/plain": [
       "Validation: 0it [00:00, ?it/s]"
      ]
     },
     "metadata": {},
     "output_type": "display_data"
    },
    {
     "data": {
      "application/vnd.jupyter.widget-view+json": {
       "model_id": "",
       "version_major": 2,
       "version_minor": 0
      },
      "text/plain": [
       "Validation: 0it [00:00, ?it/s]"
      ]
     },
     "metadata": {},
     "output_type": "display_data"
    },
    {
     "data": {
      "application/vnd.jupyter.widget-view+json": {
       "model_id": "",
       "version_major": 2,
       "version_minor": 0
      },
      "text/plain": [
       "Validation: 0it [00:00, ?it/s]"
      ]
     },
     "metadata": {},
     "output_type": "display_data"
    },
    {
     "data": {
      "application/vnd.jupyter.widget-view+json": {
       "model_id": "",
       "version_major": 2,
       "version_minor": 0
      },
      "text/plain": [
       "Validation: 0it [00:00, ?it/s]"
      ]
     },
     "metadata": {},
     "output_type": "display_data"
    },
    {
     "data": {
      "application/vnd.jupyter.widget-view+json": {
       "model_id": "",
       "version_major": 2,
       "version_minor": 0
      },
      "text/plain": [
       "Validation: 0it [00:00, ?it/s]"
      ]
     },
     "metadata": {},
     "output_type": "display_data"
    },
    {
     "data": {
      "application/vnd.jupyter.widget-view+json": {
       "model_id": "",
       "version_major": 2,
       "version_minor": 0
      },
      "text/plain": [
       "Validation: 0it [00:00, ?it/s]"
      ]
     },
     "metadata": {},
     "output_type": "display_data"
    },
    {
     "data": {
      "application/vnd.jupyter.widget-view+json": {
       "model_id": "",
       "version_major": 2,
       "version_minor": 0
      },
      "text/plain": [
       "Validation: 0it [00:00, ?it/s]"
      ]
     },
     "metadata": {},
     "output_type": "display_data"
    },
    {
     "data": {
      "application/vnd.jupyter.widget-view+json": {
       "model_id": "",
       "version_major": 2,
       "version_minor": 0
      },
      "text/plain": [
       "Validation: 0it [00:00, ?it/s]"
      ]
     },
     "metadata": {},
     "output_type": "display_data"
    },
    {
     "data": {
      "application/vnd.jupyter.widget-view+json": {
       "model_id": "",
       "version_major": 2,
       "version_minor": 0
      },
      "text/plain": [
       "Validation: 0it [00:00, ?it/s]"
      ]
     },
     "metadata": {},
     "output_type": "display_data"
    },
    {
     "data": {
      "application/vnd.jupyter.widget-view+json": {
       "model_id": "",
       "version_major": 2,
       "version_minor": 0
      },
      "text/plain": [
       "Validation: 0it [00:00, ?it/s]"
      ]
     },
     "metadata": {},
     "output_type": "display_data"
    },
    {
     "data": {
      "application/vnd.jupyter.widget-view+json": {
       "model_id": "",
       "version_major": 2,
       "version_minor": 0
      },
      "text/plain": [
       "Validation: 0it [00:00, ?it/s]"
      ]
     },
     "metadata": {},
     "output_type": "display_data"
    },
    {
     "data": {
      "application/vnd.jupyter.widget-view+json": {
       "model_id": "",
       "version_major": 2,
       "version_minor": 0
      },
      "text/plain": [
       "Validation: 0it [00:00, ?it/s]"
      ]
     },
     "metadata": {},
     "output_type": "display_data"
    },
    {
     "data": {
      "application/vnd.jupyter.widget-view+json": {
       "model_id": "",
       "version_major": 2,
       "version_minor": 0
      },
      "text/plain": [
       "Validation: 0it [00:00, ?it/s]"
      ]
     },
     "metadata": {},
     "output_type": "display_data"
    },
    {
     "data": {
      "application/vnd.jupyter.widget-view+json": {
       "model_id": "",
       "version_major": 2,
       "version_minor": 0
      },
      "text/plain": [
       "Validation: 0it [00:00, ?it/s]"
      ]
     },
     "metadata": {},
     "output_type": "display_data"
    },
    {
     "data": {
      "application/vnd.jupyter.widget-view+json": {
       "model_id": "",
       "version_major": 2,
       "version_minor": 0
      },
      "text/plain": [
       "Validation: 0it [00:00, ?it/s]"
      ]
     },
     "metadata": {},
     "output_type": "display_data"
    },
    {
     "data": {
      "application/vnd.jupyter.widget-view+json": {
       "model_id": "",
       "version_major": 2,
       "version_minor": 0
      },
      "text/plain": [
       "Validation: 0it [00:00, ?it/s]"
      ]
     },
     "metadata": {},
     "output_type": "display_data"
    },
    {
     "data": {
      "application/vnd.jupyter.widget-view+json": {
       "model_id": "",
       "version_major": 2,
       "version_minor": 0
      },
      "text/plain": [
       "Validation: 0it [00:00, ?it/s]"
      ]
     },
     "metadata": {},
     "output_type": "display_data"
    },
    {
     "data": {
      "application/vnd.jupyter.widget-view+json": {
       "model_id": "",
       "version_major": 2,
       "version_minor": 0
      },
      "text/plain": [
       "Validation: 0it [00:00, ?it/s]"
      ]
     },
     "metadata": {},
     "output_type": "display_data"
    },
    {
     "data": {
      "application/vnd.jupyter.widget-view+json": {
       "model_id": "",
       "version_major": 2,
       "version_minor": 0
      },
      "text/plain": [
       "Validation: 0it [00:00, ?it/s]"
      ]
     },
     "metadata": {},
     "output_type": "display_data"
    },
    {
     "name": "stdout",
     "output_type": "stream",
     "text": [
      "Epoch 00028: reducing learning rate of group 0 to 6.4000e-04.\n"
     ]
    },
    {
     "data": {
      "application/vnd.jupyter.widget-view+json": {
       "model_id": "",
       "version_major": 2,
       "version_minor": 0
      },
      "text/plain": [
       "Validation: 0it [00:00, ?it/s]"
      ]
     },
     "metadata": {},
     "output_type": "display_data"
    },
    {
     "data": {
      "application/vnd.jupyter.widget-view+json": {
       "model_id": "",
       "version_major": 2,
       "version_minor": 0
      },
      "text/plain": [
       "Validation: 0it [00:00, ?it/s]"
      ]
     },
     "metadata": {},
     "output_type": "display_data"
    },
    {
     "data": {
      "application/vnd.jupyter.widget-view+json": {
       "model_id": "",
       "version_major": 2,
       "version_minor": 0
      },
      "text/plain": [
       "Validation: 0it [00:00, ?it/s]"
      ]
     },
     "metadata": {},
     "output_type": "display_data"
    },
    {
     "data": {
      "application/vnd.jupyter.widget-view+json": {
       "model_id": "",
       "version_major": 2,
       "version_minor": 0
      },
      "text/plain": [
       "Validation: 0it [00:00, ?it/s]"
      ]
     },
     "metadata": {},
     "output_type": "display_data"
    },
    {
     "data": {
      "application/vnd.jupyter.widget-view+json": {
       "model_id": "",
       "version_major": 2,
       "version_minor": 0
      },
      "text/plain": [
       "Validation: 0it [00:00, ?it/s]"
      ]
     },
     "metadata": {},
     "output_type": "display_data"
    },
    {
     "name": "stdout",
     "output_type": "stream",
     "text": [
      "Epoch 00033: reducing learning rate of group 0 to 5.1200e-04.\n"
     ]
    },
    {
     "data": {
      "application/vnd.jupyter.widget-view+json": {
       "model_id": "",
       "version_major": 2,
       "version_minor": 0
      },
      "text/plain": [
       "Validation: 0it [00:00, ?it/s]"
      ]
     },
     "metadata": {},
     "output_type": "display_data"
    },
    {
     "data": {
      "application/vnd.jupyter.widget-view+json": {
       "model_id": "",
       "version_major": 2,
       "version_minor": 0
      },
      "text/plain": [
       "Validation: 0it [00:00, ?it/s]"
      ]
     },
     "metadata": {},
     "output_type": "display_data"
    },
    {
     "data": {
      "application/vnd.jupyter.widget-view+json": {
       "model_id": "",
       "version_major": 2,
       "version_minor": 0
      },
      "text/plain": [
       "Validation: 0it [00:00, ?it/s]"
      ]
     },
     "metadata": {},
     "output_type": "display_data"
    },
    {
     "data": {
      "application/vnd.jupyter.widget-view+json": {
       "model_id": "",
       "version_major": 2,
       "version_minor": 0
      },
      "text/plain": [
       "Validation: 0it [00:00, ?it/s]"
      ]
     },
     "metadata": {},
     "output_type": "display_data"
    },
    {
     "data": {
      "application/vnd.jupyter.widget-view+json": {
       "model_id": "",
       "version_major": 2,
       "version_minor": 0
      },
      "text/plain": [
       "Validation: 0it [00:00, ?it/s]"
      ]
     },
     "metadata": {},
     "output_type": "display_data"
    },
    {
     "name": "stdout",
     "output_type": "stream",
     "text": [
      "Epoch 00038: reducing learning rate of group 0 to 4.0960e-04.\n"
     ]
    },
    {
     "data": {
      "application/vnd.jupyter.widget-view+json": {
       "model_id": "",
       "version_major": 2,
       "version_minor": 0
      },
      "text/plain": [
       "Validation: 0it [00:00, ?it/s]"
      ]
     },
     "metadata": {},
     "output_type": "display_data"
    },
    {
     "data": {
      "application/vnd.jupyter.widget-view+json": {
       "model_id": "",
       "version_major": 2,
       "version_minor": 0
      },
      "text/plain": [
       "Validation: 0it [00:00, ?it/s]"
      ]
     },
     "metadata": {},
     "output_type": "display_data"
    },
    {
     "data": {
      "application/vnd.jupyter.widget-view+json": {
       "model_id": "",
       "version_major": 2,
       "version_minor": 0
      },
      "text/plain": [
       "Validation: 0it [00:00, ?it/s]"
      ]
     },
     "metadata": {},
     "output_type": "display_data"
    },
    {
     "data": {
      "application/vnd.jupyter.widget-view+json": {
       "model_id": "",
       "version_major": 2,
       "version_minor": 0
      },
      "text/plain": [
       "Validation: 0it [00:00, ?it/s]"
      ]
     },
     "metadata": {},
     "output_type": "display_data"
    },
    {
     "name": "stdout",
     "output_type": "stream",
     "text": [
      "Epoch 00042: reducing learning rate of group 0 to 3.2768e-04.\n"
     ]
    },
    {
     "data": {
      "application/vnd.jupyter.widget-view+json": {
       "model_id": "",
       "version_major": 2,
       "version_minor": 0
      },
      "text/plain": [
       "Validation: 0it [00:00, ?it/s]"
      ]
     },
     "metadata": {},
     "output_type": "display_data"
    },
    {
     "data": {
      "application/vnd.jupyter.widget-view+json": {
       "model_id": "cef435b7e67f43b98270612a5455ce5f",
       "version_major": 2,
       "version_minor": 0
      },
      "text/plain": [
       "Validation: 0it [00:00, ?it/s]"
      ]
     },
     "metadata": {},
     "output_type": "display_data"
    },
    {
     "data": {
      "application/vnd.jupyter.widget-view+json": {
       "model_id": "bfd5c10d50c64a6181e8c49b137539e2",
       "version_major": 2,
       "version_minor": 0
      },
      "text/plain": [
       "Validation: 0it [00:00, ?it/s]"
      ]
     },
     "metadata": {},
     "output_type": "display_data"
    },
    {
     "data": {
      "application/vnd.jupyter.widget-view+json": {
       "model_id": "180e4458ae9849d3a1a644be05509ed6",
       "version_major": 2,
       "version_minor": 0
      },
      "text/plain": [
       "Validation: 0it [00:00, ?it/s]"
      ]
     },
     "metadata": {},
     "output_type": "display_data"
    },
    {
     "name": "stdout",
     "output_type": "stream",
     "text": [
      "Epoch 00046: reducing learning rate of group 0 to 2.6214e-04.\n"
     ]
    },
    {
     "data": {
      "application/vnd.jupyter.widget-view+json": {
       "model_id": "4109ae39db6b450a8bbf98a691f48027",
       "version_major": 2,
       "version_minor": 0
      },
      "text/plain": [
       "Validation: 0it [00:00, ?it/s]"
      ]
     },
     "metadata": {},
     "output_type": "display_data"
    },
    {
     "data": {
      "application/vnd.jupyter.widget-view+json": {
       "model_id": "c0f1591090394888ac04e245f9dfb700",
       "version_major": 2,
       "version_minor": 0
      },
      "text/plain": [
       "Validation: 0it [00:00, ?it/s]"
      ]
     },
     "metadata": {},
     "output_type": "display_data"
    },
    {
     "data": {
      "application/vnd.jupyter.widget-view+json": {
       "model_id": "6d82a5e142ea4833a1cb250f26350040",
       "version_major": 2,
       "version_minor": 0
      },
      "text/plain": [
       "Validation: 0it [00:00, ?it/s]"
      ]
     },
     "metadata": {},
     "output_type": "display_data"
    },
    {
     "data": {
      "application/vnd.jupyter.widget-view+json": {
       "model_id": "53dd08f0d61c4d50be239434447dca55",
       "version_major": 2,
       "version_minor": 0
      },
      "text/plain": [
       "Validation: 0it [00:00, ?it/s]"
      ]
     },
     "metadata": {},
     "output_type": "display_data"
    },
    {
     "name": "stdout",
     "output_type": "stream",
     "text": [
      "Epoch 00050: reducing learning rate of group 0 to 2.0972e-04.\n"
     ]
    },
    {
     "data": {
      "application/vnd.jupyter.widget-view+json": {
       "model_id": "b759e30115164dfca8a77a68060db149",
       "version_major": 2,
       "version_minor": 0
      },
      "text/plain": [
       "Validation: 0it [00:00, ?it/s]"
      ]
     },
     "metadata": {},
     "output_type": "display_data"
    },
    {
     "data": {
      "application/vnd.jupyter.widget-view+json": {
       "model_id": "4fc1a106ccc14ac1beb5bc308c27a4f3",
       "version_major": 2,
       "version_minor": 0
      },
      "text/plain": [
       "Validation: 0it [00:00, ?it/s]"
      ]
     },
     "metadata": {},
     "output_type": "display_data"
    },
    {
     "data": {
      "application/vnd.jupyter.widget-view+json": {
       "model_id": "a26b9be19ef847b8946548a5bb69eb24",
       "version_major": 2,
       "version_minor": 0
      },
      "text/plain": [
       "Validation: 0it [00:00, ?it/s]"
      ]
     },
     "metadata": {},
     "output_type": "display_data"
    },
    {
     "data": {
      "application/vnd.jupyter.widget-view+json": {
       "model_id": "2940b19ef78645d681b561ec5d62d198",
       "version_major": 2,
       "version_minor": 0
      },
      "text/plain": [
       "Validation: 0it [00:00, ?it/s]"
      ]
     },
     "metadata": {},
     "output_type": "display_data"
    },
    {
     "name": "stdout",
     "output_type": "stream",
     "text": [
      "Epoch 00054: reducing learning rate of group 0 to 1.6777e-04.\n"
     ]
    },
    {
     "data": {
      "application/vnd.jupyter.widget-view+json": {
       "model_id": "89bba4c564974406828b19e319ea5190",
       "version_major": 2,
       "version_minor": 0
      },
      "text/plain": [
       "Validation: 0it [00:00, ?it/s]"
      ]
     },
     "metadata": {},
     "output_type": "display_data"
    },
    {
     "data": {
      "application/vnd.jupyter.widget-view+json": {
       "model_id": "529cc4d99c244c42b8d195e863d0e0e5",
       "version_major": 2,
       "version_minor": 0
      },
      "text/plain": [
       "Validation: 0it [00:00, ?it/s]"
      ]
     },
     "metadata": {},
     "output_type": "display_data"
    },
    {
     "data": {
      "application/vnd.jupyter.widget-view+json": {
       "model_id": "ca499a9bf6be420d929c9bec341b9823",
       "version_major": 2,
       "version_minor": 0
      },
      "text/plain": [
       "Validation: 0it [00:00, ?it/s]"
      ]
     },
     "metadata": {},
     "output_type": "display_data"
    },
    {
     "data": {
      "application/vnd.jupyter.widget-view+json": {
       "model_id": "1cfd8351adfc45ab88fdf94b93fe7dac",
       "version_major": 2,
       "version_minor": 0
      },
      "text/plain": [
       "Validation: 0it [00:00, ?it/s]"
      ]
     },
     "metadata": {},
     "output_type": "display_data"
    },
    {
     "name": "stdout",
     "output_type": "stream",
     "text": [
      "Epoch 00058: reducing learning rate of group 0 to 1.3422e-04.\n"
     ]
    },
    {
     "data": {
      "application/vnd.jupyter.widget-view+json": {
       "model_id": "1cb2975d852c49ad8583059b04f8cb40",
       "version_major": 2,
       "version_minor": 0
      },
      "text/plain": [
       "Validation: 0it [00:00, ?it/s]"
      ]
     },
     "metadata": {},
     "output_type": "display_data"
    },
    {
     "data": {
      "application/vnd.jupyter.widget-view+json": {
       "model_id": "ca18a458b3e049e5bce961651313e170",
       "version_major": 2,
       "version_minor": 0
      },
      "text/plain": [
       "Validation: 0it [00:00, ?it/s]"
      ]
     },
     "metadata": {},
     "output_type": "display_data"
    },
    {
     "data": {
      "application/vnd.jupyter.widget-view+json": {
       "model_id": "45bfca1d9cfe41768804e149632deaf1",
       "version_major": 2,
       "version_minor": 0
      },
      "text/plain": [
       "Validation: 0it [00:00, ?it/s]"
      ]
     },
     "metadata": {},
     "output_type": "display_data"
    },
    {
     "data": {
      "application/vnd.jupyter.widget-view+json": {
       "model_id": "96ee42ffdd9d49bf8851121dd8541a1f",
       "version_major": 2,
       "version_minor": 0
      },
      "text/plain": [
       "Validation: 0it [00:00, ?it/s]"
      ]
     },
     "metadata": {},
     "output_type": "display_data"
    },
    {
     "name": "stdout",
     "output_type": "stream",
     "text": [
      "Epoch 00062: reducing learning rate of group 0 to 1.0737e-04.\n"
     ]
    },
    {
     "data": {
      "application/vnd.jupyter.widget-view+json": {
       "model_id": "cd638bc17cec44dd8c5e9bf8bbc4d357",
       "version_major": 2,
       "version_minor": 0
      },
      "text/plain": [
       "Validation: 0it [00:00, ?it/s]"
      ]
     },
     "metadata": {},
     "output_type": "display_data"
    },
    {
     "data": {
      "application/vnd.jupyter.widget-view+json": {
       "model_id": "f0d8cb725fa049f3977e55bb99953cf5",
       "version_major": 2,
       "version_minor": 0
      },
      "text/plain": [
       "Validation: 0it [00:00, ?it/s]"
      ]
     },
     "metadata": {},
     "output_type": "display_data"
    },
    {
     "data": {
      "application/vnd.jupyter.widget-view+json": {
       "model_id": "9dea31106835476a98d25dc37ef160c5",
       "version_major": 2,
       "version_minor": 0
      },
      "text/plain": [
       "Validation: 0it [00:00, ?it/s]"
      ]
     },
     "metadata": {},
     "output_type": "display_data"
    },
    {
     "data": {
      "application/vnd.jupyter.widget-view+json": {
       "model_id": "4469a849d7a94419bcf645eea32bd28b",
       "version_major": 2,
       "version_minor": 0
      },
      "text/plain": [
       "Validation: 0it [00:00, ?it/s]"
      ]
     },
     "metadata": {},
     "output_type": "display_data"
    },
    {
     "name": "stdout",
     "output_type": "stream",
     "text": [
      "Epoch 00066: reducing learning rate of group 0 to 8.5899e-05.\n"
     ]
    },
    {
     "data": {
      "application/vnd.jupyter.widget-view+json": {
       "model_id": "3f60f94af9264a178ff0a3d1c876e4ab",
       "version_major": 2,
       "version_minor": 0
      },
      "text/plain": [
       "Validation: 0it [00:00, ?it/s]"
      ]
     },
     "metadata": {},
     "output_type": "display_data"
    },
    {
     "data": {
      "application/vnd.jupyter.widget-view+json": {
       "model_id": "a805ccc5313f4d429f198b1ee0768f60",
       "version_major": 2,
       "version_minor": 0
      },
      "text/plain": [
       "Validation: 0it [00:00, ?it/s]"
      ]
     },
     "metadata": {},
     "output_type": "display_data"
    },
    {
     "data": {
      "application/vnd.jupyter.widget-view+json": {
       "model_id": "c473776609b04abf9620922ae3098ef9",
       "version_major": 2,
       "version_minor": 0
      },
      "text/plain": [
       "Validation: 0it [00:00, ?it/s]"
      ]
     },
     "metadata": {},
     "output_type": "display_data"
    },
    {
     "data": {
      "application/vnd.jupyter.widget-view+json": {
       "model_id": "6d27227ed43042fd9c135711d0cbd9e7",
       "version_major": 2,
       "version_minor": 0
      },
      "text/plain": [
       "Validation: 0it [00:00, ?it/s]"
      ]
     },
     "metadata": {},
     "output_type": "display_data"
    },
    {
     "name": "stdout",
     "output_type": "stream",
     "text": [
      "Epoch 00070: reducing learning rate of group 0 to 6.8719e-05.\n"
     ]
    },
    {
     "data": {
      "application/vnd.jupyter.widget-view+json": {
       "model_id": "7de833beeb7b4b9f92407bd10aa4c47e",
       "version_major": 2,
       "version_minor": 0
      },
      "text/plain": [
       "Validation: 0it [00:00, ?it/s]"
      ]
     },
     "metadata": {},
     "output_type": "display_data"
    },
    {
     "data": {
      "application/vnd.jupyter.widget-view+json": {
       "model_id": "b0a349672126487a8df4e26f6af50813",
       "version_major": 2,
       "version_minor": 0
      },
      "text/plain": [
       "Validation: 0it [00:00, ?it/s]"
      ]
     },
     "metadata": {},
     "output_type": "display_data"
    },
    {
     "data": {
      "application/vnd.jupyter.widget-view+json": {
       "model_id": "df156a9e2e9045938b9677b82401c766",
       "version_major": 2,
       "version_minor": 0
      },
      "text/plain": [
       "Validation: 0it [00:00, ?it/s]"
      ]
     },
     "metadata": {},
     "output_type": "display_data"
    },
    {
     "data": {
      "application/vnd.jupyter.widget-view+json": {
       "model_id": "09b45185c867489c941bd5b025f03fa5",
       "version_major": 2,
       "version_minor": 0
      },
      "text/plain": [
       "Validation: 0it [00:00, ?it/s]"
      ]
     },
     "metadata": {},
     "output_type": "display_data"
    },
    {
     "name": "stdout",
     "output_type": "stream",
     "text": [
      "Epoch 00074: reducing learning rate of group 0 to 5.4976e-05.\n"
     ]
    },
    {
     "data": {
      "application/vnd.jupyter.widget-view+json": {
       "model_id": "f019fc6b4f5748f8bb52eae9622980b0",
       "version_major": 2,
       "version_minor": 0
      },
      "text/plain": [
       "Validation: 0it [00:00, ?it/s]"
      ]
     },
     "metadata": {},
     "output_type": "display_data"
    },
    {
     "data": {
      "application/vnd.jupyter.widget-view+json": {
       "model_id": "694bbc3339a0457ab032662e7fb05777",
       "version_major": 2,
       "version_minor": 0
      },
      "text/plain": [
       "Validation: 0it [00:00, ?it/s]"
      ]
     },
     "metadata": {},
     "output_type": "display_data"
    },
    {
     "data": {
      "application/vnd.jupyter.widget-view+json": {
       "model_id": "ebb644afdedb4f93b977d4b8404d245f",
       "version_major": 2,
       "version_minor": 0
      },
      "text/plain": [
       "Validation: 0it [00:00, ?it/s]"
      ]
     },
     "metadata": {},
     "output_type": "display_data"
    },
    {
     "data": {
      "application/vnd.jupyter.widget-view+json": {
       "model_id": "f46e581403504c21a0043865bcc7aaac",
       "version_major": 2,
       "version_minor": 0
      },
      "text/plain": [
       "Validation: 0it [00:00, ?it/s]"
      ]
     },
     "metadata": {},
     "output_type": "display_data"
    },
    {
     "name": "stdout",
     "output_type": "stream",
     "text": [
      "Epoch 00078: reducing learning rate of group 0 to 5.0000e-05.\n"
     ]
    },
    {
     "data": {
      "application/vnd.jupyter.widget-view+json": {
       "model_id": "308d502d2720486191597f7f71e0b0a7",
       "version_major": 2,
       "version_minor": 0
      },
      "text/plain": [
       "Validation: 0it [00:00, ?it/s]"
      ]
     },
     "metadata": {},
     "output_type": "display_data"
    },
    {
     "data": {
      "application/vnd.jupyter.widget-view+json": {
       "model_id": "fdc2a9bcf4b942409e475760cda9870c",
       "version_major": 2,
       "version_minor": 0
      },
      "text/plain": [
       "Validation: 0it [00:00, ?it/s]"
      ]
     },
     "metadata": {},
     "output_type": "display_data"
    },
    {
     "data": {
      "application/vnd.jupyter.widget-view+json": {
       "model_id": "569231fd6086463b8cf4087e8005eae5",
       "version_major": 2,
       "version_minor": 0
      },
      "text/plain": [
       "Validation: 0it [00:00, ?it/s]"
      ]
     },
     "metadata": {},
     "output_type": "display_data"
    },
    {
     "data": {
      "application/vnd.jupyter.widget-view+json": {
       "model_id": "f4ec56d9bdca4d799250ee51faac7801",
       "version_major": 2,
       "version_minor": 0
      },
      "text/plain": [
       "Validation: 0it [00:00, ?it/s]"
      ]
     },
     "metadata": {},
     "output_type": "display_data"
    },
    {
     "data": {
      "application/vnd.jupyter.widget-view+json": {
       "model_id": "67aacffe2207428eab6d590d2ad88568",
       "version_major": 2,
       "version_minor": 0
      },
      "text/plain": [
       "Validation: 0it [00:00, ?it/s]"
      ]
     },
     "metadata": {},
     "output_type": "display_data"
    },
    {
     "data": {
      "application/vnd.jupyter.widget-view+json": {
       "model_id": "99f170182a384156bdff772bf222b84c",
       "version_major": 2,
       "version_minor": 0
      },
      "text/plain": [
       "Validation: 0it [00:00, ?it/s]"
      ]
     },
     "metadata": {},
     "output_type": "display_data"
    },
    {
     "data": {
      "application/vnd.jupyter.widget-view+json": {
       "model_id": "0c8e07e32a7941d1a303c72ac8d9035c",
       "version_major": 2,
       "version_minor": 0
      },
      "text/plain": [
       "Validation: 0it [00:00, ?it/s]"
      ]
     },
     "metadata": {},
     "output_type": "display_data"
    },
    {
     "data": {
      "application/vnd.jupyter.widget-view+json": {
       "model_id": "ae8f84df787549f98943cd086eedaeda",
       "version_major": 2,
       "version_minor": 0
      },
      "text/plain": [
       "Validation: 0it [00:00, ?it/s]"
      ]
     },
     "metadata": {},
     "output_type": "display_data"
    },
    {
     "data": {
      "application/vnd.jupyter.widget-view+json": {
       "model_id": "9af8828d04734b289683fa0e8e232253",
       "version_major": 2,
       "version_minor": 0
      },
      "text/plain": [
       "Validation: 0it [00:00, ?it/s]"
      ]
     },
     "metadata": {},
     "output_type": "display_data"
    },
    {
     "data": {
      "application/vnd.jupyter.widget-view+json": {
       "model_id": "a120f40c4dcd4971b29bf7f5d9352f6a",
       "version_major": 2,
       "version_minor": 0
      },
      "text/plain": [
       "Validation: 0it [00:00, ?it/s]"
      ]
     },
     "metadata": {},
     "output_type": "display_data"
    },
    {
     "data": {
      "application/vnd.jupyter.widget-view+json": {
       "model_id": "a9bf638dcbc8477ab0ff442e57968ce5",
       "version_major": 2,
       "version_minor": 0
      },
      "text/plain": [
       "Validation: 0it [00:00, ?it/s]"
      ]
     },
     "metadata": {},
     "output_type": "display_data"
    },
    {
     "data": {
      "application/vnd.jupyter.widget-view+json": {
       "model_id": "bc749a5a723c47afb4ab60f23b7481cf",
       "version_major": 2,
       "version_minor": 0
      },
      "text/plain": [
       "Validation: 0it [00:00, ?it/s]"
      ]
     },
     "metadata": {},
     "output_type": "display_data"
    },
    {
     "data": {
      "application/vnd.jupyter.widget-view+json": {
       "model_id": "2673c771bc67417fa951cc96114f8ef5",
       "version_major": 2,
       "version_minor": 0
      },
      "text/plain": [
       "Validation: 0it [00:00, ?it/s]"
      ]
     },
     "metadata": {},
     "output_type": "display_data"
    },
    {
     "data": {
      "application/vnd.jupyter.widget-view+json": {
       "model_id": "33f3874d67c24781be843ba3924561a9",
       "version_major": 2,
       "version_minor": 0
      },
      "text/plain": [
       "Validation: 0it [00:00, ?it/s]"
      ]
     },
     "metadata": {},
     "output_type": "display_data"
    },
    {
     "data": {
      "application/vnd.jupyter.widget-view+json": {
       "model_id": "0118136310e3497187a3c816c9de3121",
       "version_major": 2,
       "version_minor": 0
      },
      "text/plain": [
       "Validation: 0it [00:00, ?it/s]"
      ]
     },
     "metadata": {},
     "output_type": "display_data"
    },
    {
     "data": {
      "application/vnd.jupyter.widget-view+json": {
       "model_id": "d1bbd45fd2dc4dd29b14fb3a465460d4",
       "version_major": 2,
       "version_minor": 0
      },
      "text/plain": [
       "Validation: 0it [00:00, ?it/s]"
      ]
     },
     "metadata": {},
     "output_type": "display_data"
    },
    {
     "data": {
      "application/vnd.jupyter.widget-view+json": {
       "model_id": "ac34fc741321475ba490e057b175c47e",
       "version_major": 2,
       "version_minor": 0
      },
      "text/plain": [
       "Validation: 0it [00:00, ?it/s]"
      ]
     },
     "metadata": {},
     "output_type": "display_data"
    },
    {
     "data": {
      "application/vnd.jupyter.widget-view+json": {
       "model_id": "f58323edded74255b8cc3343065fc5db",
       "version_major": 2,
       "version_minor": 0
      },
      "text/plain": [
       "Validation: 0it [00:00, ?it/s]"
      ]
     },
     "metadata": {},
     "output_type": "display_data"
    },
    {
     "data": {
      "application/vnd.jupyter.widget-view+json": {
       "model_id": "5107b88ff25d4f5b800ee9320c9e6f69",
       "version_major": 2,
       "version_minor": 0
      },
      "text/plain": [
       "Validation: 0it [00:00, ?it/s]"
      ]
     },
     "metadata": {},
     "output_type": "display_data"
    },
    {
     "data": {
      "application/vnd.jupyter.widget-view+json": {
       "model_id": "4246e421caa7434d97a7f686ecb450f4",
       "version_major": 2,
       "version_minor": 0
      },
      "text/plain": [
       "Validation: 0it [00:00, ?it/s]"
      ]
     },
     "metadata": {},
     "output_type": "display_data"
    },
    {
     "data": {
      "application/vnd.jupyter.widget-view+json": {
       "model_id": "82e026cac2eb488facdf61cdd6dd2ff7",
       "version_major": 2,
       "version_minor": 0
      },
      "text/plain": [
       "Validation: 0it [00:00, ?it/s]"
      ]
     },
     "metadata": {},
     "output_type": "display_data"
    },
    {
     "data": {
      "application/vnd.jupyter.widget-view+json": {
       "model_id": "edc226ee42514f74858e9316a9728498",
       "version_major": 2,
       "version_minor": 0
      },
      "text/plain": [
       "Validation: 0it [00:00, ?it/s]"
      ]
     },
     "metadata": {},
     "output_type": "display_data"
    },
    {
     "name": "stdout",
     "output_type": "stream",
     "text": [
      "Policy network balanced accuracy: 0.853\n"
     ]
    }
   ],
   "source": [
    "run_policy_training(\n",
    "    datamodule,  # the prepared data module for training\n",
    "    config=training_config,  # the training configuration\n",
    "    results_path=ranking_policy_network_folder,\n",
    ")  # path to save the training results"
   ]
  },
  {
   "cell_type": "markdown",
   "id": "2f7a35be-8fec-4542-be66-a539170b4e55",
   "metadata": {},
   "source": [
    "## 6. Tree search with the ranking policy network and rollout evaluation"
   ]
  },
  {
   "attachments": {},
   "cell_type": "markdown",
   "id": "41ac5f25-8ff4-4d72-a8f2-f44e81aed7fd",
   "metadata": {},
   "source": [
    "This section explained how to perform retrosynthesis planning with extracted reaction rules, trained ranking policy network, and MCTS algorithm with rollout node evaluation.\n",
    "\n",
    "### Configuring the tree search\n",
    "The tree search is configured using the `TreeConfig` class. Key parameters include:\n",
    "\n",
    "- **max_iterations**: Defines the total number of iterations the algorithm will perform, essentially setting a limit on how many times the tree search loop can run. Default is 100 iterations.\n",
    "- **max_tree_size**: Sets the upper limit on the total number of nodes that can exist in the search tree, controlling the size and complexity of the tree. Default value is 10,000 nodes.\n",
    "- **max_time**: Specifies a time limit for the algorithm's execution, measured in seconds. This prevents the search from running indefinitely. The default time limit is 600 seconds (10 minutes).\n",
    "- **max_depth**: Determines the maximum depth of the tree, effectively controlling how far the search can go from the root node. The default maximum depth is 6 levels.\n",
    "- **ucb_type**: Chooses the type of Upper Confidence Bound (UCB) algorithm used in the search. Options include \"puct\" (predictive UCB), \"uct\" (standard UCB), and \"value\". The default is \"uct\".\n",
    "- **c_ucb**: This is the exploration-exploitation balance coefficient in UCB, which influences how much the algorithm favors exploration of new paths versus exploitation of known paths. The default coefficient is 0.1.\n",
    "- **backprop_type**: Selects the backpropagation method used during the search. Options are \"muzero\" (model-based approach) and \"cumulative\" (cumulative reward approach). The default is \"muzero\".\n",
    "- **search_strategy**: Determines the strategy for navigating the tree. Options are \"expansion_first\" (prioritizing the expansion of new nodes) and \"evaluation_first\" (prioritizing the evaluation of existing nodes). The default strategy is \"expansion_first\".\n",
    "- **exclude_small**: A boolean setting that, when true, excludes small molecules from the search, typically to focus on more complex molecules. The default is set to True.\n",
    "- **evaluation_agg**: This setting determines how the evaluation scores are aggregated. Options are \"max\" (using the maximum score) and \"average\" (using the average score). The default method is \"max\".\n",
    "- **evaluation_type**: Defines the method used for node evaluation. Options include \"random\" (random evaluations), \"rollout\" (using rollout simulations), and \"gcn\" (graph convolutional networks). The default is \"gcn\".\n",
    "- **init_node_value**: Sets the initial value for newly created nodes in the tree. This can impact how nodes are prioritized during the search. The default initial value is 0.0.\n",
    "- **epsilon**: This parameter is used in the epsilon-greedy strategy during node selection, representing the probability of choosing a random action for exploration. A higher value leads to more exploration. The default value is 0.0.\n",
    "- **min_mol_size**: Defines the minimum size of a molecule (in terms of the number of heavy atoms) to be considered in the search. Molecules smaller than this threshold are typically considered as readily available building blocks. The default is set to 6 heavy atoms.\n",
    "- **silent**: When set to True, this option suppresses the progress output of the tree search, keeping the output clean and focused. The default setting is False."
   ]
  },
  {
   "cell_type": "code",
   "execution_count": 19,
   "id": "5d8c97cd-0e70-47a8-9fc1-7f0dc8351c5f",
   "metadata": {},
   "outputs": [],
   "source": [
    "from CGRtools import smiles\n",
    "\n",
    "from IPython.display import SVG, display\n",
    "\n",
    "from SynTool.interfaces.visualisation import get_route_svg\n",
    "from SynTool.mcts.tree import Tree\n",
    "from SynTool.mcts.expansion import PolicyNetworkFunction\n",
    "from SynTool.utils.config import TreeConfig\n",
    "from SynTool.utils.loading import load_reaction_rules, load_building_blocks"
   ]
  },
  {
   "cell_type": "code",
   "execution_count": 20,
   "id": "17f18c3b-1889-4e7f-bbbf-fc8b51f5f469",
   "metadata": {},
   "outputs": [],
   "source": [
    "tree_config = TreeConfig(\n",
    "    search_strategy=\"expansion_first\",\n",
    "    evaluation_type=\"rollout\",\n",
    "    min_mol_size=0,\n",
    "    init_node_value=0.5,\n",
    "    ucb_type=\"uct\",\n",
    "    c_ucb=0.1,\n",
    "    max_iterations=100,\n",
    "    max_depth=9,\n",
    ")"
   ]
  },
  {
   "cell_type": "markdown",
   "id": "9c6aab08-22ee-4bd8-88b3-310896dc66c5",
   "metadata": {},
   "source": [
    "### Choose the target molecule"
   ]
  },
  {
   "cell_type": "code",
   "execution_count": 21,
   "id": "070630a3-489d-48c1-933a-0b05881881c6",
   "metadata": {},
   "outputs": [
    {
     "data": {
      "image/svg+xml": [
       "<svg width=\"7.69cm\" height=\"5.37cm\" viewBox=\"-6.40 -3.10 7.69 5.37\" xmlns=\"http://www.w3.org/2000/svg\" version=\"1.1\">\n",
       "  <g>\n",
       "    <defs>\n",
       "      <mask id=\"mask-98f8fe8a-a8a7-4961-8104-0ca8220b0169\">\n",
       "        <rect x=\"-6.40\" y=\"-3.10\" width=\"7.69\" height=\"5.37\" fill=\"white\"/>\n",
       "        <g fill=\"black\">\n",
       "          <ellipse cx=\"-3.42\" cy=\"-0.00\" rx=\"0.3\" ry=\"0.2\"/>\n",
       "          <circle cx=\"-2.47\" cy=\"-0.00\" r=\"0.20\"/>\n",
       "          <circle cx=\"0.41\" cy=\"0.71\" r=\"0.20\"/>\n",
       "          <circle cx=\"0.00\" cy=\"-0.00\" r=\"0.20\"/>\n",
       "          <circle cx=\"-1.24\" cy=\"-0.71\" r=\"0.20\"/>\n",
       "        </g>\n",
       "        <g font-family=\"monospace\" stroke=\"black\">\n",
       "          <g font-family=\"sans-serif\" font-size=\"0.50\" stroke-width=\"0.05\">\n",
       "            <text x=\"-3.30\" y=\"-0.00\" dx=\"-0.35\" dy=\"0.20\">Si</text>\n",
       "            <text x=\"-2.47\" y=\"-0.00\" dx=\"-0.20\" dy=\"0.20\">O</text>\n",
       "            <text x=\"0.41\" y=\"0.71\" dx=\"-0.20\" dy=\"0.20\">N</text>\n",
       "            <text x=\"0.00\" y=\"-0.00\" dx=\"-0.20\" dy=\"0.20\">NH</text>\n",
       "            <text x=\"-1.24\" y=\"-0.71\" dx=\"-0.20\" dy=\"0.20\">O</text>\n",
       "          </g>\n",
       "        </g>\n",
       "      </mask>\n",
       "    </defs>\n",
       "    <g fill=\"none\" stroke=\"black\" stroke-width=\"0.04\"  mask=\"url(#mask-98f8fe8a-a8a7-4961-8104-0ca8220b0169)\">\n",
       "      <line x1=\"-4.08\" y1=\"1.11\" x2=\"-3.30\" y2=\"0.82\"/>\n",
       "      <line x1=\"-3.30\" y1=\"0.82\" x2=\"-3.30\" y2=\"1.65\"/>\n",
       "      <line x1=\"-3.30\" y1=\"0.82\" x2=\"-2.52\" y2=\"1.11\"/>\n",
       "      <line x1=\"-3.30\" y1=\"0.82\" x2=\"-3.30\" y2=\"-0.00\"/>\n",
       "      <line x1=\"-3.30\" y1=\"-0.00\" x2=\"-2.47\" y2=\"-0.00\"/>\n",
       "      <line x1=\"-3.30\" y1=\"-0.00\" x2=\"-3.30\" y2=\"-0.83\"/>\n",
       "      <line x1=\"-3.30\" y1=\"-0.00\" x2=\"-4.12\" y2=\"-0.00\"/>\n",
       "      <line x1=\"-2.47\" y1=\"-0.00\" x2=\"-2.06\" y2=\"0.71\"/>\n",
       "      <line x1=\"-2.06\" y1=\"0.71\" x2=\"-1.24\" y2=\"0.71\"/>\n",
       "      <line x1=\"-1.19\" y1=\"0.68\" x2=\"-0.77\" y2=\"1.40\"/>\n",
       "      <line x1=\"-1.29\" y1=\"0.74\" x2=\"-0.88\" y2=\"1.46\"/>\n",
       "      <line x1=\"-1.24\" y1=\"0.71\" x2=\"-0.82\" y2=\"-0.00\"/>\n",
       "      <line x1=\"-0.83\" y1=\"1.43\" x2=\"-0.00\" y2=\"1.43\"/>\n",
       "      <line x1=\"-0.05\" y1=\"1.40\" x2=\"0.36\" y2=\"0.68\"/>\n",
       "      <line x1=\"0.05\" y1=\"1.46\" x2=\"0.46\" y2=\"0.74\"/>\n",
       "      <line x1=\"0.41\" y1=\"0.71\" x2=\"0.00\" y2=\"-0.00\"/>\n",
       "      <line x1=\"0.00\" y1=\"-0.00\" x2=\"-0.82\" y2=\"-0.00\"/>\n",
       "      <line x1=\"-0.88\" y1=\"0.03\" x2=\"-1.29\" y2=\"-0.68\"/>\n",
       "      <line x1=\"-0.77\" y1=\"-0.03\" x2=\"-1.19\" y2=\"-0.74\"/>\n",
       "      <line x1=\"-3.30\" y1=\"-0.83\" x2=\"-4.01\" y2=\"-1.24\"/>\n",
       "      <line x1=\"-3.30\" y1=\"-0.83\" x2=\"-2.59\" y2=\"-1.24\"/>\n",
       "      <line x1=\"-4.01\" y1=\"-1.24\" x2=\"-4.01\" y2=\"-2.06\"/>\n",
       "      <line x1=\"-4.01\" y1=\"-2.06\" x2=\"-3.30\" y2=\"-2.48\"/>\n",
       "      <line x1=\"-3.30\" y1=\"-2.48\" x2=\"-2.59\" y2=\"-2.06\"/>\n",
       "      <line x1=\"-2.59\" y1=\"-2.06\" x2=\"-2.59\" y2=\"-1.24\"/>\n",
       "      <line x1=\"-4.12\" y1=\"-0.00\" x2=\"-4.54\" y2=\"-0.71\"/>\n",
       "      <line x1=\"-4.12\" y1=\"-0.00\" x2=\"-4.54\" y2=\"0.71\"/>\n",
       "      <line x1=\"-4.54\" y1=\"-0.71\" x2=\"-5.36\" y2=\"-0.71\"/>\n",
       "      <line x1=\"-5.36\" y1=\"-0.71\" x2=\"-5.77\" y2=\"-0.00\"/>\n",
       "      <line x1=\"-5.77\" y1=\"-0.00\" x2=\"-5.36\" y2=\"0.71\"/>\n",
       "      <line x1=\"-5.36\" y1=\"0.71\" x2=\"-4.54\" y2=\"0.71\"/>\n",
       "      <line x1=\"-4.29\" y1=\"-0.00\" x2=\"-4.62\" y2=\"-0.57\" stroke-dasharray=\"0.15 0.05\"/>\n",
       "      <line x1=\"-4.62\" y1=\"-0.57\" x2=\"-5.28\" y2=\"-0.57\" stroke-dasharray=\"0.15 0.05\"/>\n",
       "      <line x1=\"-5.28\" y1=\"-0.57\" x2=\"-5.61\" y2=\"-0.00\" stroke-dasharray=\"0.15 0.05\"/>\n",
       "      <line x1=\"-5.61\" y1=\"-0.00\" x2=\"-5.28\" y2=\"0.57\" stroke-dasharray=\"0.15 0.05\"/>\n",
       "      <line x1=\"-5.28\" y1=\"0.57\" x2=\"-4.62\" y2=\"0.57\" stroke-dasharray=\"0.15 0.05\"/>\n",
       "      <line x1=\"-4.62\" y1=\"0.57\" x2=\"-4.29\" y2=\"-0.00\" stroke-dasharray=\"0.15 0.05\"/>\n",
       "      <line x1=\"-3.30\" y1=\"-0.99\" x2=\"-3.87\" y2=\"-1.32\" stroke-dasharray=\"0.15 0.05\"/>\n",
       "      <line x1=\"-3.87\" y1=\"-1.32\" x2=\"-3.87\" y2=\"-1.98\" stroke-dasharray=\"0.15 0.05\"/>\n",
       "      <line x1=\"-3.87\" y1=\"-1.98\" x2=\"-3.30\" y2=\"-2.31\" stroke-dasharray=\"0.15 0.05\"/>\n",
       "      <line x1=\"-3.30\" y1=\"-2.31\" x2=\"-2.73\" y2=\"-1.98\" stroke-dasharray=\"0.15 0.05\"/>\n",
       "      <line x1=\"-2.73\" y1=\"-1.98\" x2=\"-2.73\" y2=\"-1.32\" stroke-dasharray=\"0.15 0.05\"/>\n",
       "      <line x1=\"-2.73\" y1=\"-1.32\" x2=\"-3.30\" y2=\"-0.99\" stroke-dasharray=\"0.15 0.05\"/>\n",
       "    </g>\n",
       "    <g font-family=\"monospace\">\n",
       "      <g fill=\"#F0C8A0\" font-family=\"sans-serif\">\n",
       "        <text x=\"-3.30\" y=\"-0.00\" dx=\"-0.35\" dy=\"0.20\" font-size=\"0.50\">Si</text>\n",
       "      </g>\n",
       "      <g fill=\"#FF0D0D\" font-family=\"sans-serif\">\n",
       "        <text x=\"-2.47\" y=\"-0.00\" dx=\"-0.20\" dy=\"0.20\" font-size=\"0.50\">O</text>\n",
       "      </g>\n",
       "      <g fill=\"#3050F8\" font-family=\"sans-serif\">\n",
       "        <text x=\"0.41\" y=\"0.71\" dx=\"-0.20\" dy=\"0.20\" font-size=\"0.50\">N</text>\n",
       "      </g>\n",
       "      <g fill=\"#3050F8\" font-family=\"sans-serif\">\n",
       "        <text x=\"0.00\" y=\"-0.00\" dx=\"-0.20\" dy=\"0.20\" font-size=\"0.50\">NH</text>\n",
       "      </g>\n",
       "      <g fill=\"#FF0D0D\" font-family=\"sans-serif\">\n",
       "        <text x=\"-1.24\" y=\"-0.71\" dx=\"-0.20\" dy=\"0.20\" font-size=\"0.50\">O</text>\n",
       "      </g>\n",
       "    </g>\n",
       "  </g>\n",
       "</svg>"
      ],
      "text/plain": [
       "<CGRtools.containers.molecule.MoleculeContainer at 0x7fa573d14860>"
      ]
     },
     "execution_count": 21,
     "metadata": {},
     "output_type": "execute_result"
    }
   ],
   "source": [
    "example_molecule = \"CC(C)(C)[Si](OCc1ccn[nH]c1=O)(c1ccccc1)c1ccccc1\"\n",
    "\n",
    "target = smiles(example_molecule)\n",
    "target.canonicalize()\n",
    "target.clean2d()\n",
    "target"
   ]
  },
  {
   "cell_type": "markdown",
   "id": "35fe4682-4ba3-4bbe-9aa1-87f71c41fd44",
   "metadata": {},
   "source": [
    "### Initializing the tree and running search\n",
    "\n",
    "The `Tree` class is initialized with the target molecule, the path to reaction rules, building blocks, the tree configuration, and the policy function. The policy function, obtained from the trained ranking policy, guides the selection of retrosynthetic transformations."
   ]
  },
  {
   "cell_type": "code",
   "execution_count": 22,
   "id": "343ed059-a57b-470d-b33c-8bc8207b68dd",
   "metadata": {},
   "outputs": [],
   "source": [
    "# initialize the policy function\n",
    "ranking_policy_network = os.path.join(\n",
    "    ranking_policy_network_folder, \"policy_network.ckpt\"\n",
    ")\n",
    "policy_config = PolicyNetworkConfig(weights_path=ranking_policy_network)\n",
    "policy_function = PolicyNetworkFunction(policy_config=policy_config)\n",
    "\n",
    "reaction_rules = load_reaction_rules(reaction_rules_path)\n",
    "building_blocks = load_building_blocks(\n",
    "    os.path.join(\"syntool_training_data\", \"building_blocks.smi\")\n",
    ")"
   ]
  },
  {
   "cell_type": "code",
   "execution_count": 23,
   "id": "d5359d1a-06a0-4797-88f1-edafbbfe3b07",
   "metadata": {},
   "outputs": [],
   "source": [
    "tree = Tree(\n",
    "    target=target,\n",
    "    config=tree_config,\n",
    "    reaction_rules=reaction_rules,\n",
    "    building_blocks=building_blocks,\n",
    "    expansion_function=policy_function,\n",
    "    evaluation_function=None,\n",
    ")"
   ]
  },
  {
   "cell_type": "code",
   "execution_count": 24,
   "id": "f770fe0c-645c-49c6-9589-00f08fd6d515",
   "metadata": {},
   "outputs": [
    {
     "data": {
      "application/vnd.jupyter.widget-view+json": {
       "model_id": "0b59e3ddf640407da60bd17ce3e4ab9d",
       "version_major": 2,
       "version_minor": 0
      },
      "text/plain": [
       "  0%|          | 0/100 [00:00<?, ?it/s]"
      ]
     },
     "metadata": {},
     "output_type": "display_data"
    },
    {
     "data": {
      "text/plain": [
       "Tree for: c1ccccc1[Si](c2ccccc2)(OCC=3C(=O)NN=CC=3)C(C)(C)C\n",
       "Number of nodes: 79\n",
       "Number of visited nodes: 16\n",
       "Number of found routes: 12\n",
       "Number of iterations: 100\n",
       "Time: 1.6 seconds"
      ]
     },
     "execution_count": 24,
     "metadata": {},
     "output_type": "execute_result"
    }
   ],
   "source": [
    "tree_solved = False\n",
    "for solved, node_id in tree:\n",
    "    if solved:\n",
    "        tree_solved = True\n",
    "tree"
   ]
  },
  {
   "cell_type": "markdown",
   "id": "ebe6eef0-791f-456f-8d9d-5e7d7f80f910",
   "metadata": {},
   "source": [
    "### Retrosynthesis routes visualisation"
   ]
  },
  {
   "cell_type": "markdown",
   "id": "10842cce-74a2-44f4-89c1-676f9fbcd806",
   "metadata": {},
   "source": [
    "After the tree search is complete, we can visualize the found retrosynthesis paths. The visualization uses the `get_route_svg` function from SynTool visualization interface."
   ]
  },
  {
   "cell_type": "code",
   "execution_count": 25,
   "id": "b53f2832-a5ec-43ee-86d3-6fa3952fc784",
   "metadata": {},
   "outputs": [
    {
     "name": "stdout",
     "output_type": "stream",
     "text": [
      "-------- Path starts from node #4 with total path score -0.16666666666666666 --------\n"
     ]
    },
    {
     "data": {
      "image/svg+xml": [
       "<svg xmlns=\"http://www.w3.org/2000/svg\" width=\"15.17cm\" height=\"5.62cm\" viewBox=\"-0.62 -4.68 25.28 9.37\" version=\"1.1\">\n",
       "  <defs>\n",
       "    <marker id=\"arrow\" markerWidth=\"10\" markerHeight=\"10\" refX=\"0\" refY=\"3\" orient=\"auto\">\n",
       "      <path d=\"M0,0 L0,6 L9,3\"/>\n",
       "    </marker>\n",
       "  </defs>\n",
       "  <polyline points=\"13.09 -2.57, 14.43 -2.57, 14.43 0.00, 16.09 0.00\" fill=\"none\" stroke=\"black\" stroke-width=\".04\" marker-end=\"url(#arrow)\"/>  <circle cx=\"14.42674648539687\" cy=\"-2.571706437183243\" r=\"0.1\"/>\n",
       "  <polyline points=\"11.03 2.74, 14.43 2.74, 14.43 0.00, 16.09 0.00\" fill=\"none\" stroke=\"black\" stroke-width=\".04\" marker-end=\"url(#arrow)\"/>  <circle cx=\"14.42674648539687\" cy=\"2.7375\" r=\"0.1\"/>\n",
       "  <polyline points=\"1.82 -2.32, 4.48 -2.32, 4.48 2.74, 6.14 2.74\" fill=\"none\" stroke=\"black\" stroke-width=\".04\" marker-end=\"url(#arrow)\"/>  <circle cx=\"4.476746485396871\" cy=\"-2.324999999999979\" r=\"0.1\"/>\n",
       "  <polyline points=\"3.14 1.50, 4.48 1.50, 4.48 2.74, 6.14 2.74\" fill=\"none\" stroke=\"black\" stroke-width=\".04\" marker-end=\"url(#arrow)\"/>  <circle cx=\"4.476746485396871\" cy=\"1.5000001851314033\" r=\"0.1\"/>\n",
       "  <g>\n",
       "<rect x=\"-0.6\" y=\"0.22500018513142422\" rx=\"0.25499999999999584\" ry=\"0.25499999999999584\" width=\"3.643413152063537\" height=\"2.5499999999999585\" stroke=\"black\" stroke-width=\".0025\" fill=\"#9BFAB3\" fill-opacity=\"0.30\"/>\n",
       "    <defs>\n",
       "      <mask id=\"mask-4baf954d-3ea7-4648-8907-c91e4ece5294\">\n",
       "        <rect x=\"-0.62\" y=\"-4.68\" width=\"25.28\" height=\"9.37\" fill=\"white\"/>\n",
       "        <g fill=\"black\">\n",
       "          <circle cx=\"1.43\" cy=\"2.33\" r=\"0.20\"/>\n",
       "          <circle cx=\"0.71\" cy=\"1.91\" r=\"0.20\"/>\n",
       "          <circle cx=\"0.00\" cy=\"0.68\" r=\"0.20\"/>\n",
       "        </g>\n",
       "        <g font-family=\"monospace\" stroke=\"black\">\n",
       "          <g font-family=\"sans-serif\" font-size=\"0.50\" stroke-width=\"0.05\">\n",
       "            <text x=\"1.43\" y=\"2.33\" dx=\"-0.20\" dy=\"0.20\">N</text>\n",
       "            <text x=\"0.71\" y=\"1.91\" dx=\"-0.20\" dy=\"0.20\">NH</text>\n",
       "            <text x=\"0.00\" y=\"0.68\" dx=\"-0.20\" dy=\"0.20\">O</text>\n",
       "          </g>\n",
       "        </g>\n",
       "      </mask>\n",
       "    </defs>\n",
       "    <g fill=\"none\" stroke=\"black\" stroke-width=\"0.04\" mask=\"url(#mask-4baf954d-3ea7-4648-8907-c91e4ece5294)\">\n",
       "      <line x1=\"0.71\" y1=\"1.09\" x2=\"1.43\" y2=\"0.68\"/>\n",
       "      <line x1=\"0.71\" y1=\"1.09\" x2=\"0.71\" y2=\"1.91\"/>\n",
       "      <line x1=\"0.68\" y1=\"1.14\" x2=\"-0.03\" y2=\"0.73\"/>\n",
       "      <line x1=\"0.74\" y1=\"1.04\" x2=\"0.03\" y2=\"0.62\"/>\n",
       "      <line x1=\"1.46\" y1=\"0.62\" x2=\"2.17\" y2=\"1.04\"/>\n",
       "      <line x1=\"1.40\" y1=\"0.73\" x2=\"2.11\" y2=\"1.14\"/>\n",
       "      <line x1=\"2.14\" y1=\"1.09\" x2=\"2.14\" y2=\"1.91\"/>\n",
       "      <line x1=\"2.17\" y1=\"1.96\" x2=\"1.46\" y2=\"2.38\"/>\n",
       "      <line x1=\"2.11\" y1=\"1.86\" x2=\"1.40\" y2=\"2.27\"/>\n",
       "      <line x1=\"1.43\" y1=\"2.33\" x2=\"0.71\" y2=\"1.91\"/>\n",
       "    </g>\n",
       "    <g font-family=\"monospace\">\n",
       "      <g fill=\"#3050F8\" font-family=\"sans-serif\">\n",
       "        <text x=\"1.43\" y=\"2.33\" dx=\"-0.20\" dy=\"0.20\" font-size=\"0.50\">N</text>\n",
       "      </g>\n",
       "      <g fill=\"#3050F8\" font-family=\"sans-serif\">\n",
       "        <text x=\"0.71\" y=\"1.91\" dx=\"-0.20\" dy=\"0.20\" font-size=\"0.50\">NH</text>\n",
       "      </g>\n",
       "      <g fill=\"#FF0D0D\" font-family=\"sans-serif\">\n",
       "        <text x=\"0.00\" y=\"0.68\" dx=\"-0.20\" dy=\"0.20\" font-size=\"0.50\">O</text>\n",
       "      </g>\n",
       "    </g>\n",
       "  </g>\n",
       "  <g>\n",
       "<rect x=\"-0.6\" y=\"-2.7750001851313826\" rx=\"0.09000003702628073\" ry=\"0.09000003702628073\" width=\"2.324999999999917\" height=\"0.9000003702628072\" stroke=\"black\" stroke-width=\".0025\" fill=\"#9BFAB3\" fill-opacity=\"0.30\"/>\n",
       "    <defs>\n",
       "      <mask id=\"mask-8740c614-c589-45a8-a613-cebd06fd7ca7\">\n",
       "        <rect x=\"-0.62\" y=\"-4.68\" width=\"25.28\" height=\"9.37\" fill=\"white\"/>\n",
       "        <g fill=\"black\">\n",
       "          <circle cx=\"0.82\" cy=\"-2.32\" r=\"0.20\"/>\n",
       "        </g>\n",
       "        <g font-family=\"monospace\" stroke=\"black\">\n",
       "          <g font-family=\"sans-serif\" font-size=\"0.50\" stroke-width=\"0.05\">\n",
       "            <text x=\"0.82\" y=\"-2.32\" dx=\"-0.20\" dy=\"0.20\">O</text>\n",
       "          </g>\n",
       "        </g>\n",
       "      </mask>\n",
       "    </defs>\n",
       "    <g fill=\"none\" stroke=\"black\" stroke-width=\"0.04\" mask=\"url(#mask-8740c614-c589-45a8-a613-cebd06fd7ca7)\">\n",
       "      <line x1=\"0.82\" y1=\"-2.26\" x2=\"-0.00\" y2=\"-2.27\"/>\n",
       "      <line x1=\"0.83\" y1=\"-2.38\" x2=\"0.00\" y2=\"-2.39\"/>\n",
       "    </g>\n",
       "    <g font-family=\"monospace\">\n",
       "      <g fill=\"#FF0D0D\" font-family=\"sans-serif\">\n",
       "        <text x=\"0.82\" y=\"-2.32\" dx=\"-0.20\" dy=\"0.20\" font-size=\"0.50\">O</text>\n",
       "      </g>\n",
       "    </g>\n",
       "  </g>\n",
       "  <g>\n",
       "<rect x=\"6.543413152063538\" y=\"1.215793562816757\" rx=\"0.3043412874366486\" ry=\"0.3043412874366486\" width=\"4.387499999999999\" height=\"3.043412874366486\" stroke=\"black\" stroke-width=\".0025\" fill=\"#F0AB90\" fill-opacity=\"0.30\"/>\n",
       "    <defs>\n",
       "      <mask id=\"mask-e307eda8-5bd0-48ac-9738-9047cd5bbe02\">\n",
       "        <rect x=\"-0.62\" y=\"-4.68\" width=\"25.28\" height=\"9.37\" fill=\"white\"/>\n",
       "        <g fill=\"black\">\n",
       "          <circle cx=\"10.03\" cy=\"3.81\" r=\"0.20\"/>\n",
       "          <circle cx=\"7.14\" cy=\"3.09\" r=\"0.20\"/>\n",
       "          <circle cx=\"7.56\" cy=\"2.38\" r=\"0.20\"/>\n",
       "          <circle cx=\"8.79\" cy=\"1.67\" r=\"0.20\"/>\n",
       "        </g>\n",
       "        <g font-family=\"monospace\" stroke=\"black\">\n",
       "          <g font-family=\"sans-serif\" font-size=\"0.50\" stroke-width=\"0.05\">\n",
       "            <text x=\"10.03\" y=\"3.81\" dx=\"-0.20\" dy=\"0.20\">OH</text>\n",
       "            <text x=\"7.14\" y=\"3.09\" dx=\"-0.20\" dy=\"0.20\">N</text>\n",
       "            <text x=\"7.56\" y=\"2.38\" dx=\"-0.20\" dy=\"0.20\">NH</text>\n",
       "            <text x=\"8.79\" y=\"1.67\" dx=\"-0.20\" dy=\"0.20\">O</text>\n",
       "          </g>\n",
       "        </g>\n",
       "      </mask>\n",
       "    </defs>\n",
       "    <g fill=\"none\" stroke=\"black\" stroke-width=\"0.04\" mask=\"url(#mask-e307eda8-5bd0-48ac-9738-9047cd5bbe02)\">\n",
       "      <line x1=\"9.62\" y1=\"3.09\" x2=\"10.03\" y2=\"3.81\"/>\n",
       "      <line x1=\"9.62\" y1=\"3.09\" x2=\"8.79\" y2=\"3.09\"/>\n",
       "      <line x1=\"8.85\" y1=\"3.12\" x2=\"8.43\" y2=\"3.84\"/>\n",
       "      <line x1=\"8.74\" y1=\"3.06\" x2=\"8.33\" y2=\"3.78\"/>\n",
       "      <line x1=\"8.79\" y1=\"3.09\" x2=\"8.38\" y2=\"2.38\"/>\n",
       "      <line x1=\"8.38\" y1=\"3.81\" x2=\"7.56\" y2=\"3.81\"/>\n",
       "      <line x1=\"7.50\" y1=\"3.84\" x2=\"7.09\" y2=\"3.12\"/>\n",
       "      <line x1=\"7.61\" y1=\"3.78\" x2=\"7.20\" y2=\"3.06\"/>\n",
       "      <line x1=\"7.14\" y1=\"3.09\" x2=\"7.56\" y2=\"2.38\"/>\n",
       "      <line x1=\"7.56\" y1=\"2.38\" x2=\"8.38\" y2=\"2.38\"/>\n",
       "      <line x1=\"8.33\" y1=\"2.35\" x2=\"8.74\" y2=\"1.64\"/>\n",
       "      <line x1=\"8.43\" y1=\"2.41\" x2=\"8.85\" y2=\"1.70\"/>\n",
       "    </g>\n",
       "    <g font-family=\"monospace\">\n",
       "      <g fill=\"#FF0D0D\" font-family=\"sans-serif\">\n",
       "        <text x=\"10.03\" y=\"3.81\" dx=\"-0.20\" dy=\"0.20\" font-size=\"0.50\">OH</text>\n",
       "      </g>\n",
       "      <g fill=\"#3050F8\" font-family=\"sans-serif\">\n",
       "        <text x=\"7.14\" y=\"3.09\" dx=\"-0.20\" dy=\"0.20\" font-size=\"0.50\">N</text>\n",
       "      </g>\n",
       "      <g fill=\"#3050F8\" font-family=\"sans-serif\">\n",
       "        <text x=\"7.56\" y=\"2.38\" dx=\"-0.20\" dy=\"0.20\" font-size=\"0.50\">NH</text>\n",
       "      </g>\n",
       "      <g fill=\"#FF0D0D\" font-family=\"sans-serif\">\n",
       "        <text x=\"8.79\" y=\"1.67\" dx=\"-0.20\" dy=\"0.20\" font-size=\"0.50\">O</text>\n",
       "      </g>\n",
       "    </g>\n",
       "  </g>\n",
       "  <g>\n",
       "<rect x=\"6.543413152063537\" y=\"-4.259206437183243\" rx=\"0.3375\" ry=\"0.3375\" width=\"6.45\" height=\"3.375\" stroke=\"black\" stroke-width=\".0025\" fill=\"#9BFAB3\" fill-opacity=\"0.30\"/>\n",
       "    <defs>\n",
       "      <mask id=\"mask-6e30a38e-c7dc-4fce-a536-cf182291d216\">\n",
       "        <rect x=\"-0.62\" y=\"-4.68\" width=\"25.28\" height=\"9.37\" fill=\"white\"/>\n",
       "        <g fill=\"black\">\n",
       "          <ellipse cx=\"9.49\" cy=\"-2.98\" rx=\"0.3\" ry=\"0.2\"/>\n",
       "          <ellipse cx=\"9.49\" cy=\"-3.81\" rx=\"0.3\" ry=\"0.2\"/>\n",
       "        </g>\n",
       "        <g font-family=\"monospace\" stroke=\"black\">\n",
       "          <g font-family=\"sans-serif\" font-size=\"0.50\" stroke-width=\"0.05\">\n",
       "            <text x=\"9.62\" y=\"-2.98\" dx=\"-0.35\" dy=\"0.20\">Si</text>\n",
       "            <text x=\"9.62\" y=\"-3.81\" dx=\"-0.35\" dy=\"0.20\">Cl</text>\n",
       "          </g>\n",
       "        </g>\n",
       "      </mask>\n",
       "    </defs>\n",
       "    <g fill=\"none\" stroke=\"black\" stroke-width=\"0.04\" mask=\"url(#mask-6e30a38e-c7dc-4fce-a536-cf182291d216)\">\n",
       "      <line x1=\"10.44\" y1=\"-2.98\" x2=\"9.62\" y2=\"-2.98\"/>\n",
       "      <line x1=\"10.44\" y1=\"-2.98\" x2=\"10.86\" y2=\"-2.27\"/>\n",
       "      <line x1=\"10.44\" y1=\"-2.98\" x2=\"10.86\" y2=\"-3.70\"/>\n",
       "      <line x1=\"9.62\" y1=\"-2.98\" x2=\"8.79\" y2=\"-2.98\"/>\n",
       "      <line x1=\"9.62\" y1=\"-2.98\" x2=\"9.62\" y2=\"-3.81\"/>\n",
       "      <line x1=\"9.62\" y1=\"-2.98\" x2=\"9.62\" y2=\"-2.16\"/>\n",
       "      <line x1=\"8.79\" y1=\"-2.98\" x2=\"8.38\" y2=\"-2.27\"/>\n",
       "      <line x1=\"8.79\" y1=\"-2.98\" x2=\"8.38\" y2=\"-3.70\"/>\n",
       "      <line x1=\"9.62\" y1=\"-2.16\" x2=\"9.62\" y2=\"-1.33\"/>\n",
       "      <line x1=\"9.62\" y1=\"-2.16\" x2=\"8.84\" y2=\"-1.88\"/>\n",
       "      <line x1=\"9.62\" y1=\"-2.16\" x2=\"10.39\" y2=\"-1.88\"/>\n",
       "      <line x1=\"8.38\" y1=\"-2.27\" x2=\"7.56\" y2=\"-2.27\"/>\n",
       "      <line x1=\"7.56\" y1=\"-2.27\" x2=\"7.14\" y2=\"-2.98\"/>\n",
       "      <line x1=\"7.14\" y1=\"-2.98\" x2=\"7.56\" y2=\"-3.70\"/>\n",
       "      <line x1=\"7.56\" y1=\"-3.70\" x2=\"8.38\" y2=\"-3.70\"/>\n",
       "      <line x1=\"10.86\" y1=\"-2.27\" x2=\"11.68\" y2=\"-2.27\"/>\n",
       "      <line x1=\"11.68\" y1=\"-2.27\" x2=\"12.09\" y2=\"-2.98\"/>\n",
       "      <line x1=\"12.09\" y1=\"-2.98\" x2=\"11.68\" y2=\"-3.70\"/>\n",
       "      <line x1=\"11.68\" y1=\"-3.70\" x2=\"10.86\" y2=\"-3.70\"/>\n",
       "      <line x1=\"10.61\" y1=\"-2.98\" x2=\"10.94\" y2=\"-2.41\" stroke-dasharray=\"0.15 0.05\"/>\n",
       "      <line x1=\"10.94\" y1=\"-2.41\" x2=\"11.60\" y2=\"-2.41\" stroke-dasharray=\"0.15 0.05\"/>\n",
       "      <line x1=\"11.60\" y1=\"-2.41\" x2=\"11.93\" y2=\"-2.98\" stroke-dasharray=\"0.15 0.05\"/>\n",
       "      <line x1=\"11.93\" y1=\"-2.98\" x2=\"11.60\" y2=\"-3.56\" stroke-dasharray=\"0.15 0.05\"/>\n",
       "      <line x1=\"11.60\" y1=\"-3.56\" x2=\"10.94\" y2=\"-3.56\" stroke-dasharray=\"0.15 0.05\"/>\n",
       "      <line x1=\"10.94\" y1=\"-3.56\" x2=\"10.61\" y2=\"-2.98\" stroke-dasharray=\"0.15 0.05\"/>\n",
       "      <line x1=\"8.63\" y1=\"-2.98\" x2=\"8.30\" y2=\"-2.41\" stroke-dasharray=\"0.15 0.05\"/>\n",
       "      <line x1=\"8.30\" y1=\"-2.41\" x2=\"7.64\" y2=\"-2.41\" stroke-dasharray=\"0.15 0.05\"/>\n",
       "      <line x1=\"7.64\" y1=\"-2.41\" x2=\"7.31\" y2=\"-2.98\" stroke-dasharray=\"0.15 0.05\"/>\n",
       "      <line x1=\"7.31\" y1=\"-2.98\" x2=\"7.64\" y2=\"-3.56\" stroke-dasharray=\"0.15 0.05\"/>\n",
       "      <line x1=\"7.64\" y1=\"-3.56\" x2=\"8.30\" y2=\"-3.56\" stroke-dasharray=\"0.15 0.05\"/>\n",
       "      <line x1=\"8.30\" y1=\"-3.56\" x2=\"8.63\" y2=\"-2.98\" stroke-dasharray=\"0.15 0.05\"/>\n",
       "    </g>\n",
       "    <g font-family=\"monospace\">\n",
       "      <g fill=\"#F0C8A0\" font-family=\"sans-serif\">\n",
       "        <text x=\"9.62\" y=\"-2.98\" dx=\"-0.35\" dy=\"0.20\" font-size=\"0.50\">Si</text>\n",
       "      </g>\n",
       "      <g fill=\"#1FF01F\" font-family=\"sans-serif\">\n",
       "        <text x=\"9.62\" y=\"-3.81\" dx=\"-0.35\" dy=\"0.20\" font-size=\"0.50\">Cl</text>\n",
       "      </g>\n",
       "    </g>\n",
       "  </g>\n",
       "  <g>\n",
       "<rect x=\"16.493413152063535\" y=\"-2.5124999999999997\" rx=\"0.5025\" ry=\"0.5025\" width=\"7.687498250399852\" height=\"5.0249999999999995\" stroke=\"black\" stroke-width=\".0025\" fill=\"#98EEFF\" fill-opacity=\"0.30\"/>\n",
       "    <defs>\n",
       "      <mask id=\"mask-daa7fbbc-1a13-4c63-a10e-caca961049e7\">\n",
       "        <rect x=\"-0.62\" y=\"-4.68\" width=\"25.28\" height=\"9.37\" fill=\"white\"/>\n",
       "        <g fill=\"black\">\n",
       "          <ellipse cx=\"19.44\" cy=\"-0.41\" rx=\"0.3\" ry=\"0.2\"/>\n",
       "          <circle cx=\"20.39\" cy=\"-0.41\" r=\"0.20\"/>\n",
       "          <circle cx=\"23.28\" cy=\"-1.13\" r=\"0.20\"/>\n",
       "          <circle cx=\"22.87\" cy=\"-0.41\" r=\"0.20\"/>\n",
       "          <circle cx=\"21.63\" cy=\"0.30\" r=\"0.20\"/>\n",
       "        </g>\n",
       "        <g font-family=\"monospace\" stroke=\"black\">\n",
       "          <g font-family=\"sans-serif\" font-size=\"0.50\" stroke-width=\"0.05\">\n",
       "            <text x=\"19.57\" y=\"-0.41\" dx=\"-0.35\" dy=\"0.20\">Si</text>\n",
       "            <text x=\"20.39\" y=\"-0.41\" dx=\"-0.20\" dy=\"0.20\">O</text>\n",
       "            <text x=\"23.28\" y=\"-1.13\" dx=\"-0.20\" dy=\"0.20\">N</text>\n",
       "            <text x=\"22.87\" y=\"-0.41\" dx=\"-0.20\" dy=\"0.20\">NH</text>\n",
       "            <text x=\"21.63\" y=\"0.30\" dx=\"-0.20\" dy=\"0.20\">O</text>\n",
       "          </g>\n",
       "        </g>\n",
       "      </mask>\n",
       "    </defs>\n",
       "    <g fill=\"none\" stroke=\"black\" stroke-width=\"0.04\" mask=\"url(#mask-daa7fbbc-1a13-4c63-a10e-caca961049e7)\">\n",
       "      <line x1=\"19.57\" y1=\"-2.06\" x2=\"19.57\" y2=\"-1.24\"/>\n",
       "      <line x1=\"19.57\" y1=\"-1.24\" x2=\"18.79\" y2=\"-1.52\"/>\n",
       "      <line x1=\"19.57\" y1=\"-1.24\" x2=\"20.34\" y2=\"-1.52\"/>\n",
       "      <line x1=\"19.57\" y1=\"-1.24\" x2=\"19.57\" y2=\"-0.41\"/>\n",
       "      <line x1=\"19.57\" y1=\"-0.41\" x2=\"20.39\" y2=\"-0.41\"/>\n",
       "      <line x1=\"19.57\" y1=\"-0.41\" x2=\"19.57\" y2=\"0.41\"/>\n",
       "      <line x1=\"19.57\" y1=\"-0.41\" x2=\"18.74\" y2=\"-0.41\"/>\n",
       "      <line x1=\"20.39\" y1=\"-0.41\" x2=\"20.81\" y2=\"-1.13\"/>\n",
       "      <line x1=\"20.81\" y1=\"-1.13\" x2=\"21.63\" y2=\"-1.13\"/>\n",
       "      <line x1=\"21.58\" y1=\"-1.16\" x2=\"21.99\" y2=\"-1.87\"/>\n",
       "      <line x1=\"21.68\" y1=\"-1.10\" x2=\"22.10\" y2=\"-1.81\"/>\n",
       "      <line x1=\"21.63\" y1=\"-1.13\" x2=\"22.04\" y2=\"-0.41\"/>\n",
       "      <line x1=\"22.04\" y1=\"-1.84\" x2=\"22.87\" y2=\"-1.84\"/>\n",
       "      <line x1=\"22.92\" y1=\"-1.87\" x2=\"23.33\" y2=\"-1.16\"/>\n",
       "      <line x1=\"22.82\" y1=\"-1.81\" x2=\"23.23\" y2=\"-1.10\"/>\n",
       "      <line x1=\"23.28\" y1=\"-1.13\" x2=\"22.87\" y2=\"-0.41\"/>\n",
       "      <line x1=\"22.87\" y1=\"-0.41\" x2=\"22.04\" y2=\"-0.41\"/>\n",
       "      <line x1=\"22.10\" y1=\"-0.38\" x2=\"21.68\" y2=\"0.33\"/>\n",
       "      <line x1=\"21.99\" y1=\"-0.44\" x2=\"21.58\" y2=\"0.27\"/>\n",
       "      <line x1=\"19.57\" y1=\"0.41\" x2=\"18.85\" y2=\"0.83\"/>\n",
       "      <line x1=\"19.57\" y1=\"0.41\" x2=\"20.28\" y2=\"0.82\"/>\n",
       "      <line x1=\"18.85\" y1=\"0.83\" x2=\"18.85\" y2=\"1.65\"/>\n",
       "      <line x1=\"18.85\" y1=\"1.65\" x2=\"19.57\" y2=\"2.06\"/>\n",
       "      <line x1=\"19.57\" y1=\"2.06\" x2=\"20.28\" y2=\"1.65\"/>\n",
       "      <line x1=\"20.28\" y1=\"1.65\" x2=\"20.28\" y2=\"0.82\"/>\n",
       "      <line x1=\"18.74\" y1=\"-0.41\" x2=\"18.33\" y2=\"0.30\"/>\n",
       "      <line x1=\"18.74\" y1=\"-0.41\" x2=\"18.33\" y2=\"-1.13\"/>\n",
       "      <line x1=\"18.33\" y1=\"0.30\" x2=\"17.51\" y2=\"0.30\"/>\n",
       "      <line x1=\"17.51\" y1=\"0.30\" x2=\"17.09\" y2=\"-0.41\"/>\n",
       "      <line x1=\"17.09\" y1=\"-0.41\" x2=\"17.51\" y2=\"-1.13\"/>\n",
       "      <line x1=\"17.51\" y1=\"-1.13\" x2=\"18.33\" y2=\"-1.13\"/>\n",
       "      <line x1=\"18.58\" y1=\"-0.41\" x2=\"18.25\" y2=\"0.16\" stroke-dasharray=\"0.15 0.05\"/>\n",
       "      <line x1=\"18.25\" y1=\"0.16\" x2=\"17.59\" y2=\"0.16\" stroke-dasharray=\"0.15 0.05\"/>\n",
       "      <line x1=\"17.59\" y1=\"0.16\" x2=\"17.26\" y2=\"-0.41\" stroke-dasharray=\"0.15 0.05\"/>\n",
       "      <line x1=\"17.26\" y1=\"-0.41\" x2=\"17.59\" y2=\"-0.99\" stroke-dasharray=\"0.15 0.05\"/>\n",
       "      <line x1=\"17.59\" y1=\"-0.99\" x2=\"18.25\" y2=\"-0.99\" stroke-dasharray=\"0.15 0.05\"/>\n",
       "      <line x1=\"18.25\" y1=\"-0.99\" x2=\"18.58\" y2=\"-0.41\" stroke-dasharray=\"0.15 0.05\"/>\n",
       "      <line x1=\"19.57\" y1=\"0.57\" x2=\"18.99\" y2=\"0.91\" stroke-dasharray=\"0.15 0.05\"/>\n",
       "      <line x1=\"18.99\" y1=\"0.91\" x2=\"18.99\" y2=\"1.57\" stroke-dasharray=\"0.15 0.05\"/>\n",
       "      <line x1=\"18.99\" y1=\"1.57\" x2=\"19.57\" y2=\"1.90\" stroke-dasharray=\"0.15 0.05\"/>\n",
       "      <line x1=\"19.57\" y1=\"1.90\" x2=\"20.14\" y2=\"1.57\" stroke-dasharray=\"0.15 0.05\"/>\n",
       "      <line x1=\"20.14\" y1=\"1.57\" x2=\"20.14\" y2=\"0.91\" stroke-dasharray=\"0.15 0.05\"/>\n",
       "      <line x1=\"20.14\" y1=\"0.91\" x2=\"19.57\" y2=\"0.57\" stroke-dasharray=\"0.15 0.05\"/>\n",
       "    </g>\n",
       "    <g font-family=\"monospace\">\n",
       "      <g fill=\"#F0C8A0\" font-family=\"sans-serif\">\n",
       "        <text x=\"19.57\" y=\"-0.41\" dx=\"-0.35\" dy=\"0.20\" font-size=\"0.50\">Si</text>\n",
       "      </g>\n",
       "      <g fill=\"#FF0D0D\" font-family=\"sans-serif\">\n",
       "        <text x=\"20.39\" y=\"-0.41\" dx=\"-0.20\" dy=\"0.20\" font-size=\"0.50\">O</text>\n",
       "      </g>\n",
       "      <g fill=\"#3050F8\" font-family=\"sans-serif\">\n",
       "        <text x=\"23.28\" y=\"-1.13\" dx=\"-0.20\" dy=\"0.20\" font-size=\"0.50\">N</text>\n",
       "      </g>\n",
       "      <g fill=\"#3050F8\" font-family=\"sans-serif\">\n",
       "        <text x=\"22.87\" y=\"-0.41\" dx=\"-0.20\" dy=\"0.20\" font-size=\"0.50\">NH</text>\n",
       "      </g>\n",
       "      <g fill=\"#FF0D0D\" font-family=\"sans-serif\">\n",
       "        <text x=\"21.63\" y=\"0.30\" dx=\"-0.20\" dy=\"0.20\" font-size=\"0.50\">O</text>\n",
       "      </g>\n",
       "    </g>\n",
       "  </g>\n",
       "</svg>"
      ],
      "text/plain": [
       "<IPython.core.display.SVG object>"
      ]
     },
     "metadata": {},
     "output_type": "display_data"
    },
    {
     "name": "stdout",
     "output_type": "stream",
     "text": [
      "-------- Path starts from node #14 with total path score -0.16666666666666666 --------\n"
     ]
    },
    {
     "data": {
      "image/svg+xml": [
       "<svg xmlns=\"http://www.w3.org/2000/svg\" width=\"15.37cm\" height=\"5.62cm\" viewBox=\"-0.62 -4.68 25.61 9.37\" version=\"1.1\">\n",
       "  <defs>\n",
       "    <marker id=\"arrow\" markerWidth=\"10\" markerHeight=\"10\" refX=\"0\" refY=\"3\" orient=\"auto\">\n",
       "      <path d=\"M0,0 L0,6 L9,3\"/>\n",
       "    </marker>\n",
       "  </defs>\n",
       "  <polyline points=\"13.42 -2.57, 14.76 -2.57, 14.76 0.00, 16.42 0.00\" fill=\"none\" stroke=\"black\" stroke-width=\".04\" marker-end=\"url(#arrow)\"/>  <circle cx=\"14.758333333331837\" cy=\"-2.57170671488024\" r=\"0.1\"/>\n",
       "  <polyline points=\"11.36 2.74, 14.76 2.74, 14.76 0.00, 16.42 0.00\" fill=\"none\" stroke=\"black\" stroke-width=\".04\" marker-end=\"url(#arrow)\"/>  <circle cx=\"14.758333333331837\" cy=\"2.7374999999998755\" r=\"0.1\"/>\n",
       "  <polyline points=\"2.65 -2.57, 4.81 -2.57, 4.81 2.74, 6.47 2.74\" fill=\"none\" stroke=\"black\" stroke-width=\".04\" marker-end=\"url(#arrow)\"/>  <circle cx=\"4.808333333332336\" cy=\"-2.571706252051408\" r=\"0.1\"/>\n",
       "  <polyline points=\"3.47 1.50, 4.81 1.50, 4.81 2.74, 6.47 2.74\" fill=\"none\" stroke=\"black\" stroke-width=\".04\" marker-end=\"url(#arrow)\"/>  <circle cx=\"4.808333333332336\" cy=\"1.500000370262807\" r=\"0.1\"/>\n",
       "  <g>\n",
       "<rect x=\"-0.6\" y=\"-0.021705881788600945\" rx=\"0.30434125041028165\" ry=\"0.30434125041028165\" width=\"3.974999999999003\" height=\"3.0434125041028164\" stroke=\"black\" stroke-width=\".0025\" fill=\"#9BFAB3\" fill-opacity=\"0.30\"/>\n",
       "    <defs>\n",
       "      <mask id=\"mask-6a077827-6168-411b-bdfa-3102a9201693\">\n",
       "        <rect x=\"-0.62\" y=\"-4.68\" width=\"25.61\" height=\"9.37\" fill=\"white\"/>\n",
       "        <g fill=\"black\">\n",
       "          <circle cx=\"0.00\" cy=\"1.86\" r=\"0.20\"/>\n",
       "          <circle cx=\"0.41\" cy=\"1.14\" r=\"0.20\"/>\n",
       "          <circle cx=\"1.65\" cy=\"0.43\" r=\"0.20\"/>\n",
       "        </g>\n",
       "        <g font-family=\"monospace\" stroke=\"black\">\n",
       "          <g font-family=\"sans-serif\" font-size=\"0.50\" stroke-width=\"0.05\">\n",
       "            <text x=\"0.00\" y=\"1.86\" dx=\"-0.20\" dy=\"0.20\">N</text>\n",
       "            <text x=\"0.41\" y=\"1.14\" dx=\"-0.20\" dy=\"0.20\">NH</text>\n",
       "            <text x=\"1.65\" y=\"0.43\" dx=\"-0.20\" dy=\"0.20\">O</text>\n",
       "          </g>\n",
       "        </g>\n",
       "      </mask>\n",
       "    </defs>\n",
       "    <g fill=\"none\" stroke=\"black\" stroke-width=\"0.04\" mask=\"url(#mask-6a077827-6168-411b-bdfa-3102a9201693)\">\n",
       "      <line x1=\"1.65\" y1=\"1.86\" x2=\"2.47\" y2=\"1.86\"/>\n",
       "      <line x1=\"1.70\" y1=\"1.89\" x2=\"1.29\" y2=\"2.60\"/>\n",
       "      <line x1=\"1.60\" y1=\"1.83\" x2=\"1.19\" y2=\"2.54\"/>\n",
       "      <line x1=\"1.65\" y1=\"1.86\" x2=\"1.24\" y2=\"1.14\"/>\n",
       "      <line x1=\"1.24\" y1=\"2.57\" x2=\"0.41\" y2=\"2.57\"/>\n",
       "      <line x1=\"0.36\" y1=\"2.60\" x2=\"-0.05\" y2=\"1.89\"/>\n",
       "      <line x1=\"0.46\" y1=\"2.54\" x2=\"0.05\" y2=\"1.83\"/>\n",
       "      <line x1=\"0.00\" y1=\"1.86\" x2=\"0.41\" y2=\"1.14\"/>\n",
       "      <line x1=\"0.41\" y1=\"1.14\" x2=\"1.24\" y2=\"1.14\"/>\n",
       "      <line x1=\"1.19\" y1=\"1.11\" x2=\"1.60\" y2=\"0.40\"/>\n",
       "      <line x1=\"1.29\" y1=\"1.17\" x2=\"1.70\" y2=\"0.46\"/>\n",
       "    </g>\n",
       "    <g font-family=\"monospace\">\n",
       "      <g fill=\"#3050F8\" font-family=\"sans-serif\">\n",
       "        <text x=\"0.00\" y=\"1.86\" dx=\"-0.20\" dy=\"0.20\" font-size=\"0.50\">N</text>\n",
       "      </g>\n",
       "      <g fill=\"#3050F8\" font-family=\"sans-serif\">\n",
       "        <text x=\"0.41\" y=\"1.14\" dx=\"-0.20\" dy=\"0.20\" font-size=\"0.50\">NH</text>\n",
       "      </g>\n",
       "      <g fill=\"#FF0D0D\" font-family=\"sans-serif\">\n",
       "        <text x=\"1.65\" y=\"0.43\" dx=\"-0.20\" dy=\"0.20\" font-size=\"0.50\">O</text>\n",
       "      </g>\n",
       "    </g>\n",
       "  </g>\n",
       "  <g>\n",
       "<rect x=\"-0.6\" y=\"-3.0217066223142153\" rx=\"0.09000007405256145\" ry=\"0.09000007405256145\" width=\"3.149999999999834\" height=\"0.9000007405256145\" stroke=\"black\" stroke-width=\".0025\" fill=\"#9BFAB3\" fill-opacity=\"0.30\"/>\n",
       "    <defs>\n",
       "      <mask id=\"mask-85f22bee-df71-4d63-b2d4-1cf9c00fd90f\">\n",
       "        <rect x=\"-0.62\" y=\"-4.68\" width=\"25.61\" height=\"9.37\" fill=\"white\"/>\n",
       "        <g fill=\"black\">\n",
       "          <circle cx=\"1.65\" cy=\"-2.57\" r=\"0.20\"/>\n",
       "          <ellipse cx=\"0.75\" cy=\"-2.57\" rx=\"0.35\" ry=\"0.2\"/>\n",
       "          <circle cx=\"0.00\" cy=\"-2.57\" r=\"0.20\"/>\n",
       "        </g>\n",
       "        <g font-family=\"monospace\" stroke=\"black\">\n",
       "          <g font-family=\"sans-serif\" font-size=\"0.50\" stroke-width=\"0.05\">\n",
       "            <text x=\"1.65\" y=\"-2.57\" dx=\"-0.20\" dy=\"0.20\">O</text>\n",
       "            <text x=\"0.82\" y=\"-2.57\" dx=\"-0.35\" dy=\"0.20\">Se</text>\n",
       "            <text x=\"0.00\" y=\"-2.57\" dx=\"-0.20\" dy=\"0.20\">O</text>\n",
       "          </g>\n",
       "        </g>\n",
       "      </mask>\n",
       "    </defs>\n",
       "    <g fill=\"none\" stroke=\"black\" stroke-width=\"0.04\" mask=\"url(#mask-85f22bee-df71-4d63-b2d4-1cf9c00fd90f)\">\n",
       "      <line x1=\"1.65\" y1=\"-2.51\" x2=\"0.82\" y2=\"-2.51\"/>\n",
       "      <line x1=\"1.65\" y1=\"-2.63\" x2=\"0.83\" y2=\"-2.63\"/>\n",
       "      <line x1=\"0.82\" y1=\"-2.51\" x2=\"-0.00\" y2=\"-2.51\"/>\n",
       "      <line x1=\"0.83\" y1=\"-2.63\" x2=\"0.00\" y2=\"-2.63\"/>\n",
       "    </g>\n",
       "    <g font-family=\"monospace\">\n",
       "      <g fill=\"#FF0D0D\" font-family=\"sans-serif\">\n",
       "        <text x=\"1.65\" y=\"-2.57\" dx=\"-0.20\" dy=\"0.20\" font-size=\"0.50\">O</text>\n",
       "      </g>\n",
       "      <g fill=\"#FFA100\" font-family=\"sans-serif\">\n",
       "        <text x=\"0.82\" y=\"-2.57\" dx=\"-0.35\" dy=\"0.20\" font-size=\"0.50\">Se</text>\n",
       "      </g>\n",
       "      <g fill=\"#FF0D0D\" font-family=\"sans-serif\">\n",
       "        <text x=\"0.00\" y=\"-2.57\" dx=\"-0.20\" dy=\"0.20\" font-size=\"0.50\">O</text>\n",
       "      </g>\n",
       "    </g>\n",
       "  </g>\n",
       "  <g>\n",
       "<rect x=\"6.8749999999990035\" y=\"1.2157932851196354\" rx=\"0.3043413429760481\" ry=\"0.3043413429760481\" width=\"4.387499679342712\" height=\"3.0434134297604807\" stroke=\"black\" stroke-width=\".0025\" fill=\"#F0AB90\" fill-opacity=\"0.30\"/>\n",
       "    <defs>\n",
       "      <mask id=\"mask-3d01795a-56fd-4a8c-bcad-3f0276a8dcc7\">\n",
       "        <rect x=\"-0.62\" y=\"-4.68\" width=\"25.61\" height=\"9.37\" fill=\"white\"/>\n",
       "        <g fill=\"black\">\n",
       "          <circle cx=\"7.47\" cy=\"1.67\" r=\"0.20\"/>\n",
       "          <circle cx=\"10.36\" cy=\"2.38\" r=\"0.20\"/>\n",
       "          <circle cx=\"9.95\" cy=\"3.09\" r=\"0.20\"/>\n",
       "          <circle cx=\"8.71\" cy=\"3.81\" r=\"0.20\"/>\n",
       "        </g>\n",
       "        <g font-family=\"monospace\" stroke=\"black\">\n",
       "          <g font-family=\"sans-serif\" font-size=\"0.50\" stroke-width=\"0.05\">\n",
       "            <text x=\"7.47\" y=\"1.67\" dx=\"-0.20\" dy=\"0.20\">OH</text>\n",
       "            <text x=\"10.36\" y=\"2.38\" dx=\"-0.20\" dy=\"0.20\">N</text>\n",
       "            <text x=\"9.95\" y=\"3.09\" dx=\"-0.20\" dy=\"0.20\">NH</text>\n",
       "            <text x=\"8.71\" y=\"3.81\" dx=\"-0.20\" dy=\"0.20\">O</text>\n",
       "          </g>\n",
       "        </g>\n",
       "      </mask>\n",
       "    </defs>\n",
       "    <g fill=\"none\" stroke=\"black\" stroke-width=\"0.04\" mask=\"url(#mask-3d01795a-56fd-4a8c-bcad-3f0276a8dcc7)\">\n",
       "      <line x1=\"7.89\" y1=\"2.38\" x2=\"7.47\" y2=\"1.67\"/>\n",
       "      <line x1=\"7.89\" y1=\"2.38\" x2=\"8.71\" y2=\"2.38\"/>\n",
       "      <line x1=\"8.66\" y1=\"2.35\" x2=\"9.07\" y2=\"1.64\"/>\n",
       "      <line x1=\"8.76\" y1=\"2.41\" x2=\"9.18\" y2=\"1.70\"/>\n",
       "      <line x1=\"8.71\" y1=\"2.38\" x2=\"9.12\" y2=\"3.09\"/>\n",
       "      <line x1=\"9.12\" y1=\"1.67\" x2=\"9.95\" y2=\"1.67\"/>\n",
       "      <line x1=\"10.00\" y1=\"1.64\" x2=\"10.41\" y2=\"2.35\"/>\n",
       "      <line x1=\"9.90\" y1=\"1.70\" x2=\"10.31\" y2=\"2.41\"/>\n",
       "      <line x1=\"10.36\" y1=\"2.38\" x2=\"9.95\" y2=\"3.09\"/>\n",
       "      <line x1=\"9.95\" y1=\"3.09\" x2=\"9.12\" y2=\"3.09\"/>\n",
       "      <line x1=\"9.18\" y1=\"3.12\" x2=\"8.76\" y2=\"3.84\"/>\n",
       "      <line x1=\"9.07\" y1=\"3.06\" x2=\"8.66\" y2=\"3.78\"/>\n",
       "    </g>\n",
       "    <g font-family=\"monospace\">\n",
       "      <g fill=\"#FF0D0D\" font-family=\"sans-serif\">\n",
       "        <text x=\"7.47\" y=\"1.67\" dx=\"-0.20\" dy=\"0.20\" font-size=\"0.50\">OH</text>\n",
       "      </g>\n",
       "      <g fill=\"#3050F8\" font-family=\"sans-serif\">\n",
       "        <text x=\"10.36\" y=\"2.38\" dx=\"-0.20\" dy=\"0.20\" font-size=\"0.50\">N</text>\n",
       "      </g>\n",
       "      <g fill=\"#3050F8\" font-family=\"sans-serif\">\n",
       "        <text x=\"9.95\" y=\"3.09\" dx=\"-0.20\" dy=\"0.20\" font-size=\"0.50\">NH</text>\n",
       "      </g>\n",
       "      <g fill=\"#FF0D0D\" font-family=\"sans-serif\">\n",
       "        <text x=\"8.71\" y=\"3.81\" dx=\"-0.20\" dy=\"0.20\" font-size=\"0.50\">O</text>\n",
       "      </g>\n",
       "    </g>\n",
       "  </g>\n",
       "  <g>\n",
       "<rect x=\"6.8749999999990035\" y=\"-4.259206714880115\" rx=\"0.33749999999997504\" ry=\"0.33749999999997504\" width=\"6.4499999999995\" height=\"3.3749999999997504\" stroke=\"black\" stroke-width=\".0025\" fill=\"#9BFAB3\" fill-opacity=\"0.30\"/>\n",
       "    <defs>\n",
       "      <mask id=\"mask-71c12070-b938-4ae1-8b81-b6944114c7cc\">\n",
       "        <rect x=\"-0.62\" y=\"-4.68\" width=\"25.61\" height=\"9.37\" fill=\"white\"/>\n",
       "        <g fill=\"black\">\n",
       "          <ellipse cx=\"9.82\" cy=\"-2.16\" rx=\"0.3\" ry=\"0.2\"/>\n",
       "          <ellipse cx=\"9.82\" cy=\"-1.33\" rx=\"0.3\" ry=\"0.2\"/>\n",
       "        </g>\n",
       "        <g font-family=\"monospace\" stroke=\"black\">\n",
       "          <g font-family=\"sans-serif\" font-size=\"0.50\" stroke-width=\"0.05\">\n",
       "            <text x=\"9.95\" y=\"-2.16\" dx=\"-0.35\" dy=\"0.20\">Si</text>\n",
       "            <text x=\"9.95\" y=\"-1.33\" dx=\"-0.35\" dy=\"0.20\">Cl</text>\n",
       "          </g>\n",
       "        </g>\n",
       "      </mask>\n",
       "    </defs>\n",
       "    <g fill=\"none\" stroke=\"black\" stroke-width=\"0.04\" mask=\"url(#mask-71c12070-b938-4ae1-8b81-b6944114c7cc)\">\n",
       "      <line x1=\"9.12\" y1=\"-2.16\" x2=\"9.95\" y2=\"-2.16\"/>\n",
       "      <line x1=\"9.12\" y1=\"-2.16\" x2=\"8.71\" y2=\"-2.87\"/>\n",
       "      <line x1=\"9.12\" y1=\"-2.16\" x2=\"8.71\" y2=\"-1.44\"/>\n",
       "      <line x1=\"9.95\" y1=\"-2.16\" x2=\"10.77\" y2=\"-2.16\"/>\n",
       "      <line x1=\"9.95\" y1=\"-2.16\" x2=\"9.95\" y2=\"-1.33\"/>\n",
       "      <line x1=\"9.95\" y1=\"-2.16\" x2=\"9.95\" y2=\"-2.98\"/>\n",
       "      <line x1=\"10.77\" y1=\"-2.16\" x2=\"11.19\" y2=\"-2.87\"/>\n",
       "      <line x1=\"10.77\" y1=\"-2.16\" x2=\"11.19\" y2=\"-1.44\"/>\n",
       "      <line x1=\"9.95\" y1=\"-2.98\" x2=\"9.17\" y2=\"-3.27\"/>\n",
       "      <line x1=\"9.95\" y1=\"-2.98\" x2=\"9.95\" y2=\"-3.81\"/>\n",
       "      <line x1=\"9.95\" y1=\"-2.98\" x2=\"10.73\" y2=\"-3.27\"/>\n",
       "      <line x1=\"11.19\" y1=\"-2.87\" x2=\"12.01\" y2=\"-2.87\"/>\n",
       "      <line x1=\"12.01\" y1=\"-2.87\" x2=\"12.42\" y2=\"-2.16\"/>\n",
       "      <line x1=\"12.42\" y1=\"-2.16\" x2=\"12.01\" y2=\"-1.44\"/>\n",
       "      <line x1=\"12.01\" y1=\"-1.44\" x2=\"11.19\" y2=\"-1.44\"/>\n",
       "      <line x1=\"8.71\" y1=\"-2.87\" x2=\"7.89\" y2=\"-2.87\"/>\n",
       "      <line x1=\"7.89\" y1=\"-2.87\" x2=\"7.47\" y2=\"-2.16\"/>\n",
       "      <line x1=\"7.47\" y1=\"-2.16\" x2=\"7.89\" y2=\"-1.44\"/>\n",
       "      <line x1=\"7.89\" y1=\"-1.44\" x2=\"8.71\" y2=\"-1.44\"/>\n",
       "      <line x1=\"8.96\" y1=\"-2.16\" x2=\"8.63\" y2=\"-2.73\" stroke-dasharray=\"0.15 0.05\"/>\n",
       "      <line x1=\"8.63\" y1=\"-2.73\" x2=\"7.97\" y2=\"-2.73\" stroke-dasharray=\"0.15 0.05\"/>\n",
       "      <line x1=\"7.97\" y1=\"-2.73\" x2=\"7.64\" y2=\"-2.16\" stroke-dasharray=\"0.15 0.05\"/>\n",
       "      <line x1=\"7.64\" y1=\"-2.16\" x2=\"7.97\" y2=\"-1.58\" stroke-dasharray=\"0.15 0.05\"/>\n",
       "      <line x1=\"7.97\" y1=\"-1.58\" x2=\"8.63\" y2=\"-1.58\" stroke-dasharray=\"0.15 0.05\"/>\n",
       "      <line x1=\"8.63\" y1=\"-1.58\" x2=\"8.96\" y2=\"-2.16\" stroke-dasharray=\"0.15 0.05\"/>\n",
       "      <line x1=\"10.94\" y1=\"-2.16\" x2=\"11.27\" y2=\"-2.73\" stroke-dasharray=\"0.15 0.05\"/>\n",
       "      <line x1=\"11.27\" y1=\"-2.73\" x2=\"11.93\" y2=\"-2.73\" stroke-dasharray=\"0.15 0.05\"/>\n",
       "      <line x1=\"11.93\" y1=\"-2.73\" x2=\"12.26\" y2=\"-2.16\" stroke-dasharray=\"0.15 0.05\"/>\n",
       "      <line x1=\"12.26\" y1=\"-2.16\" x2=\"11.93\" y2=\"-1.58\" stroke-dasharray=\"0.15 0.05\"/>\n",
       "      <line x1=\"11.93\" y1=\"-1.58\" x2=\"11.27\" y2=\"-1.58\" stroke-dasharray=\"0.15 0.05\"/>\n",
       "      <line x1=\"11.27\" y1=\"-1.58\" x2=\"10.94\" y2=\"-2.16\" stroke-dasharray=\"0.15 0.05\"/>\n",
       "    </g>\n",
       "    <g font-family=\"monospace\">\n",
       "      <g fill=\"#F0C8A0\" font-family=\"sans-serif\">\n",
       "        <text x=\"9.95\" y=\"-2.16\" dx=\"-0.35\" dy=\"0.20\" font-size=\"0.50\">Si</text>\n",
       "      </g>\n",
       "      <g fill=\"#1FF01F\" font-family=\"sans-serif\">\n",
       "        <text x=\"9.95\" y=\"-1.33\" dx=\"-0.35\" dy=\"0.20\" font-size=\"0.50\">Cl</text>\n",
       "      </g>\n",
       "    </g>\n",
       "  </g>\n",
       "  <g>\n",
       "<rect x=\"16.824999999998504\" y=\"-2.5125\" rx=\"0.5025000000000001\" ry=\"0.5025000000000001\" width=\"7.6875\" height=\"5.025\" stroke=\"black\" stroke-width=\".0025\" fill=\"#98EEFF\" fill-opacity=\"0.30\"/>\n",
       "    <defs>\n",
       "      <mask id=\"mask-bdeecafc-6bf2-4bbf-b8eb-e4de52f0a06c\">\n",
       "        <rect x=\"-0.62\" y=\"-4.68\" width=\"25.61\" height=\"9.37\" fill=\"white\"/>\n",
       "        <g fill=\"black\">\n",
       "          <ellipse cx=\"19.77\" cy=\"0.41\" rx=\"0.3\" ry=\"0.2\"/>\n",
       "          <circle cx=\"20.72\" cy=\"0.41\" r=\"0.20\"/>\n",
       "          <circle cx=\"23.61\" cy=\"1.13\" r=\"0.20\"/>\n",
       "          <circle cx=\"23.20\" cy=\"0.41\" r=\"0.20\"/>\n",
       "          <circle cx=\"21.96\" cy=\"-0.30\" r=\"0.20\"/>\n",
       "        </g>\n",
       "        <g font-family=\"monospace\" stroke=\"black\">\n",
       "          <g font-family=\"sans-serif\" font-size=\"0.50\" stroke-width=\"0.05\">\n",
       "            <text x=\"19.90\" y=\"0.41\" dx=\"-0.35\" dy=\"0.20\">Si</text>\n",
       "            <text x=\"20.72\" y=\"0.41\" dx=\"-0.20\" dy=\"0.20\">O</text>\n",
       "            <text x=\"23.61\" y=\"1.13\" dx=\"-0.20\" dy=\"0.20\">N</text>\n",
       "            <text x=\"23.20\" y=\"0.41\" dx=\"-0.20\" dy=\"0.20\">NH</text>\n",
       "            <text x=\"21.96\" y=\"-0.30\" dx=\"-0.20\" dy=\"0.20\">O</text>\n",
       "          </g>\n",
       "        </g>\n",
       "      </mask>\n",
       "    </defs>\n",
       "    <g fill=\"none\" stroke=\"black\" stroke-width=\"0.04\" mask=\"url(#mask-bdeecafc-6bf2-4bbf-b8eb-e4de52f0a06c)\">\n",
       "      <line x1=\"19.90\" y1=\"2.06\" x2=\"19.90\" y2=\"1.24\"/>\n",
       "      <line x1=\"19.90\" y1=\"1.24\" x2=\"19.12\" y2=\"1.52\"/>\n",
       "      <line x1=\"19.90\" y1=\"1.24\" x2=\"20.68\" y2=\"1.52\"/>\n",
       "      <line x1=\"19.90\" y1=\"1.24\" x2=\"19.90\" y2=\"0.41\"/>\n",
       "      <line x1=\"19.90\" y1=\"0.41\" x2=\"20.72\" y2=\"0.41\"/>\n",
       "      <line x1=\"19.90\" y1=\"0.41\" x2=\"19.90\" y2=\"-0.41\"/>\n",
       "      <line x1=\"19.90\" y1=\"0.41\" x2=\"19.07\" y2=\"0.41\"/>\n",
       "      <line x1=\"20.72\" y1=\"0.41\" x2=\"21.14\" y2=\"1.13\"/>\n",
       "      <line x1=\"21.14\" y1=\"1.13\" x2=\"21.96\" y2=\"1.13\"/>\n",
       "      <line x1=\"22.01\" y1=\"1.10\" x2=\"22.43\" y2=\"1.81\"/>\n",
       "      <line x1=\"21.91\" y1=\"1.16\" x2=\"22.32\" y2=\"1.87\"/>\n",
       "      <line x1=\"21.96\" y1=\"1.13\" x2=\"22.37\" y2=\"0.41\"/>\n",
       "      <line x1=\"22.37\" y1=\"1.84\" x2=\"23.20\" y2=\"1.84\"/>\n",
       "      <line x1=\"23.15\" y1=\"1.81\" x2=\"23.56\" y2=\"1.10\"/>\n",
       "      <line x1=\"23.25\" y1=\"1.87\" x2=\"23.66\" y2=\"1.16\"/>\n",
       "      <line x1=\"23.61\" y1=\"1.13\" x2=\"23.20\" y2=\"0.41\"/>\n",
       "      <line x1=\"23.20\" y1=\"0.41\" x2=\"22.37\" y2=\"0.41\"/>\n",
       "      <line x1=\"22.32\" y1=\"0.44\" x2=\"21.91\" y2=\"-0.27\"/>\n",
       "      <line x1=\"22.43\" y1=\"0.38\" x2=\"22.01\" y2=\"-0.33\"/>\n",
       "      <line x1=\"19.90\" y1=\"-0.41\" x2=\"19.19\" y2=\"-0.82\"/>\n",
       "      <line x1=\"19.90\" y1=\"-0.41\" x2=\"20.61\" y2=\"-0.83\"/>\n",
       "      <line x1=\"19.19\" y1=\"-0.82\" x2=\"19.19\" y2=\"-1.65\"/>\n",
       "      <line x1=\"19.19\" y1=\"-1.65\" x2=\"19.90\" y2=\"-2.06\"/>\n",
       "      <line x1=\"19.90\" y1=\"-2.06\" x2=\"20.61\" y2=\"-1.65\"/>\n",
       "      <line x1=\"20.61\" y1=\"-1.65\" x2=\"20.61\" y2=\"-0.83\"/>\n",
       "      <line x1=\"19.07\" y1=\"0.41\" x2=\"18.66\" y2=\"-0.30\"/>\n",
       "      <line x1=\"19.07\" y1=\"0.41\" x2=\"18.66\" y2=\"1.13\"/>\n",
       "      <line x1=\"18.66\" y1=\"-0.30\" x2=\"17.84\" y2=\"-0.30\"/>\n",
       "      <line x1=\"17.84\" y1=\"-0.30\" x2=\"17.42\" y2=\"0.41\"/>\n",
       "      <line x1=\"17.42\" y1=\"0.41\" x2=\"17.84\" y2=\"1.13\"/>\n",
       "      <line x1=\"17.84\" y1=\"1.13\" x2=\"18.66\" y2=\"1.13\"/>\n",
       "      <line x1=\"18.91\" y1=\"0.41\" x2=\"18.58\" y2=\"-0.16\" stroke-dasharray=\"0.15 0.05\"/>\n",
       "      <line x1=\"18.58\" y1=\"-0.16\" x2=\"17.92\" y2=\"-0.16\" stroke-dasharray=\"0.15 0.05\"/>\n",
       "      <line x1=\"17.92\" y1=\"-0.16\" x2=\"17.59\" y2=\"0.41\" stroke-dasharray=\"0.15 0.05\"/>\n",
       "      <line x1=\"17.59\" y1=\"0.41\" x2=\"17.92\" y2=\"0.99\" stroke-dasharray=\"0.15 0.05\"/>\n",
       "      <line x1=\"17.92\" y1=\"0.99\" x2=\"18.58\" y2=\"0.99\" stroke-dasharray=\"0.15 0.05\"/>\n",
       "      <line x1=\"18.58\" y1=\"0.99\" x2=\"18.91\" y2=\"0.41\" stroke-dasharray=\"0.15 0.05\"/>\n",
       "      <line x1=\"19.90\" y1=\"-0.57\" x2=\"19.33\" y2=\"-0.91\" stroke-dasharray=\"0.15 0.05\"/>\n",
       "      <line x1=\"19.33\" y1=\"-0.91\" x2=\"19.33\" y2=\"-1.57\" stroke-dasharray=\"0.15 0.05\"/>\n",
       "      <line x1=\"19.33\" y1=\"-1.57\" x2=\"19.90\" y2=\"-1.90\" stroke-dasharray=\"0.15 0.05\"/>\n",
       "      <line x1=\"19.90\" y1=\"-1.90\" x2=\"20.47\" y2=\"-1.57\" stroke-dasharray=\"0.15 0.05\"/>\n",
       "      <line x1=\"20.47\" y1=\"-1.57\" x2=\"20.47\" y2=\"-0.91\" stroke-dasharray=\"0.15 0.05\"/>\n",
       "      <line x1=\"20.47\" y1=\"-0.91\" x2=\"19.90\" y2=\"-0.57\" stroke-dasharray=\"0.15 0.05\"/>\n",
       "    </g>\n",
       "    <g font-family=\"monospace\">\n",
       "      <g fill=\"#F0C8A0\" font-family=\"sans-serif\">\n",
       "        <text x=\"19.90\" y=\"0.41\" dx=\"-0.35\" dy=\"0.20\" font-size=\"0.50\">Si</text>\n",
       "      </g>\n",
       "      <g fill=\"#FF0D0D\" font-family=\"sans-serif\">\n",
       "        <text x=\"20.72\" y=\"0.41\" dx=\"-0.20\" dy=\"0.20\" font-size=\"0.50\">O</text>\n",
       "      </g>\n",
       "      <g fill=\"#3050F8\" font-family=\"sans-serif\">\n",
       "        <text x=\"23.61\" y=\"1.13\" dx=\"-0.20\" dy=\"0.20\" font-size=\"0.50\">N</text>\n",
       "      </g>\n",
       "      <g fill=\"#3050F8\" font-family=\"sans-serif\">\n",
       "        <text x=\"23.20\" y=\"0.41\" dx=\"-0.20\" dy=\"0.20\" font-size=\"0.50\">NH</text>\n",
       "      </g>\n",
       "      <g fill=\"#FF0D0D\" font-family=\"sans-serif\">\n",
       "        <text x=\"21.96\" y=\"-0.30\" dx=\"-0.20\" dy=\"0.20\" font-size=\"0.50\">O</text>\n",
       "      </g>\n",
       "    </g>\n",
       "  </g>\n",
       "</svg>"
      ],
      "text/plain": [
       "<IPython.core.display.SVG object>"
      ]
     },
     "metadata": {},
     "output_type": "display_data"
    },
    {
     "name": "stdout",
     "output_type": "stream",
     "text": [
      "-------- Path starts from node #20 with total path score -0.15625 --------\n"
     ]
    },
    {
     "data": {
      "image/svg+xml": [
       "<svg xmlns=\"http://www.w3.org/2000/svg\" width=\"19.65cm\" height=\"6.31cm\" viewBox=\"-0.62 -5.26 32.75 10.52\" version=\"1.1\">\n",
       "  <defs>\n",
       "    <marker id=\"arrow\" markerWidth=\"10\" markerHeight=\"10\" refX=\"0\" refY=\"3\" orient=\"auto\">\n",
       "      <path d=\"M0,0 L0,6 L9,3\"/>\n",
       "    </marker>\n",
       "  </defs>\n",
       "  <polyline points=\"21.03 -2.74, 22.37 -2.74, 22.37 0.00, 24.03 0.00\" fill=\"none\" stroke=\"black\" stroke-width=\".04\" marker-end=\"url(#arrow)\"/>  <circle cx=\"22.365543472450415\" cy=\"-2.7374999999992204\" r=\"0.1\"/>\n",
       "  <polyline points=\"19.60 3.15, 22.37 3.15, 22.37 0.00, 24.03 0.00\" fill=\"none\" stroke=\"black\" stroke-width=\".04\" marker-end=\"url(#arrow)\"/>  <circle cx=\"22.365543472450415\" cy=\"3.1499996793429625\" r=\"0.1\"/>\n",
       "  <polyline points=\"11.75 0.00, 13.08 0.00, 13.08 3.15, 14.75 3.15\" fill=\"none\" stroke=\"black\" stroke-width=\".04\" marker-end=\"url(#arrow)\"/>  <circle cx=\"13.078717168323344\" cy=\"0.0\" r=\"0.1\"/>\n",
       "  <polyline points=\"2.43 -2.53, 5.19 -2.53, 5.19 0.00, 6.86 0.00\" fill=\"none\" stroke=\"black\" stroke-width=\".04\" marker-end=\"url(#arrow)\"/>  <circle cx=\"5.191218276609755\" cy=\"-2.531249759507018\" r=\"0.1\"/>\n",
       "  <polyline points=\"3.86 2.21, 5.19 2.21, 5.19 0.00, 6.86 0.00\" fill=\"none\" stroke=\"black\" stroke-width=\".04\" marker-end=\"url(#arrow)\"/>  <circle cx=\"5.191218276609755\" cy=\"2.2144709581221615\" r=\"0.1\"/>\n",
       "  <g>\n",
       "<rect x=\"-0.6\" y=\"0.733221198615144\" rx=\"0.2962499519014036\" ry=\"0.2962499519014036\" width=\"4.357884943276422\" height=\"2.9624995190140355\" stroke=\"black\" stroke-width=\".0025\" fill=\"#9BFAB3\" fill-opacity=\"0.30\"/>\n",
       "    <defs>\n",
       "      <mask id=\"mask-719c25fd-c6ac-4389-be5b-681e9737a289\">\n",
       "        <rect x=\"-0.62\" y=\"-5.26\" width=\"32.75\" height=\"10.52\" fill=\"white\"/>\n",
       "        <g fill=\"black\">\n",
       "          <circle cx=\"2.86\" cy=\"2.83\" r=\"0.20\"/>\n",
       "          <circle cx=\"2.14\" cy=\"3.25\" r=\"0.20\"/>\n",
       "          <circle cx=\"0.71\" cy=\"3.25\" r=\"0.20\"/>\n",
       "          <circle cx=\"0.00\" cy=\"1.18\" r=\"0.20\"/>\n",
       "        </g>\n",
       "        <g font-family=\"monospace\" stroke=\"black\">\n",
       "          <g font-family=\"sans-serif\" font-size=\"0.50\" stroke-width=\"0.05\">\n",
       "            <text x=\"2.86\" y=\"2.83\" dx=\"-0.20\" dy=\"0.20\">N</text>\n",
       "            <text x=\"2.14\" y=\"3.25\" dx=\"-0.20\" dy=\"0.20\">NH</text>\n",
       "            <text x=\"0.71\" y=\"3.25\" dx=\"-0.20\" dy=\"0.20\">O</text>\n",
       "            <text x=\"0.00\" y=\"1.18\" dx=\"-0.20\" dy=\"0.20\">N</text>\n",
       "          </g>\n",
       "        </g>\n",
       "      </mask>\n",
       "    </defs>\n",
       "    <g fill=\"none\" stroke=\"black\" stroke-width=\"0.04\" mask=\"url(#mask-719c25fd-c6ac-4389-be5b-681e9737a289)\">\n",
       "      <line x1=\"1.43\" y1=\"2.01\" x2=\"0.71\" y2=\"1.60\"/>\n",
       "      <line x1=\"1.40\" y1=\"1.96\" x2=\"2.11\" y2=\"1.54\"/>\n",
       "      <line x1=\"1.46\" y1=\"2.06\" x2=\"2.17\" y2=\"1.65\"/>\n",
       "      <line x1=\"1.43\" y1=\"2.01\" x2=\"1.43\" y2=\"2.83\"/>\n",
       "      <line x1=\"0.65\" y1=\"1.71\" x2=\"-0.06\" y2=\"1.30\"/>\n",
       "      <line x1=\"0.71\" y1=\"1.60\" x2=\"0.00\" y2=\"1.18\"/>\n",
       "      <line x1=\"0.78\" y1=\"1.48\" x2=\"0.06\" y2=\"1.07\"/>\n",
       "      <line x1=\"2.14\" y1=\"1.60\" x2=\"2.86\" y2=\"2.01\"/>\n",
       "      <line x1=\"2.92\" y1=\"2.01\" x2=\"2.92\" y2=\"2.83\"/>\n",
       "      <line x1=\"2.80\" y1=\"2.01\" x2=\"2.80\" y2=\"2.83\"/>\n",
       "      <line x1=\"2.86\" y1=\"2.83\" x2=\"2.14\" y2=\"3.25\"/>\n",
       "      <line x1=\"2.14\" y1=\"3.25\" x2=\"1.43\" y2=\"2.83\"/>\n",
       "      <line x1=\"1.46\" y1=\"2.89\" x2=\"0.74\" y2=\"3.30\"/>\n",
       "      <line x1=\"1.40\" y1=\"2.78\" x2=\"0.68\" y2=\"3.19\"/>\n",
       "    </g>\n",
       "    <g font-family=\"monospace\">\n",
       "      <g fill=\"#3050F8\" font-family=\"sans-serif\">\n",
       "        <text x=\"2.86\" y=\"2.83\" dx=\"-0.20\" dy=\"0.20\" font-size=\"0.50\">N</text>\n",
       "      </g>\n",
       "      <g fill=\"#3050F8\" font-family=\"sans-serif\">\n",
       "        <text x=\"2.14\" y=\"3.25\" dx=\"-0.20\" dy=\"0.20\" font-size=\"0.50\">NH</text>\n",
       "      </g>\n",
       "      <g fill=\"#FF0D0D\" font-family=\"sans-serif\">\n",
       "        <text x=\"0.71\" y=\"3.25\" dx=\"-0.20\" dy=\"0.20\" font-size=\"0.50\">O</text>\n",
       "      </g>\n",
       "      <g fill=\"#3050F8\" font-family=\"sans-serif\">\n",
       "        <text x=\"0.00\" y=\"1.18\" dx=\"-0.20\" dy=\"0.20\" font-size=\"0.50\">N</text>\n",
       "      </g>\n",
       "    </g>\n",
       "  </g>\n",
       "  <g>\n",
       "<rect x=\"-0.6\" y=\"-3.69572071762918\" rx=\"0.23289419162443237\" ry=\"0.23289419162443237\" width=\"2.9289419162443235\" height=\"2.3289419162443235\" stroke=\"black\" stroke-width=\".0025\" fill=\"#9BFAB3\" fill-opacity=\"0.30\"/>\n",
       "    <defs>\n",
       "      <mask id=\"mask-91ec35c2-643a-4357-9ecc-564cb1fc67c5\">\n",
       "        <rect x=\"-0.62\" y=\"-5.26\" width=\"32.75\" height=\"10.52\" fill=\"white\"/>\n",
       "        <g fill=\"black\">\n",
       "          <circle cx=\"1.43\" cy=\"-2.12\" r=\"0.20\"/>\n",
       "          <circle cx=\"1.13\" cy=\"-3.25\" r=\"0.20\"/>\n",
       "          <circle cx=\"0.00\" cy=\"-2.94\" r=\"0.20\"/>\n",
       "          <circle cx=\"0.71\" cy=\"-2.53\" r=\"0.20\"/>\n",
       "          <circle cx=\"0.30\" cy=\"-1.82\" r=\"0.20\"/>\n",
       "        </g>\n",
       "        <g font-family=\"monospace\" stroke=\"black\">\n",
       "          <g font-family=\"sans-serif\" font-size=\"0.50\" stroke-width=\"0.05\">\n",
       "            <text x=\"1.43\" y=\"-2.12\" dx=\"-0.20\" dy=\"0.20\">OH</text>\n",
       "            <text x=\"1.13\" y=\"-3.25\" dx=\"-0.20\" dy=\"0.20\">O</text>\n",
       "            <text x=\"0.00\" y=\"-2.94\" dx=\"-0.20\" dy=\"0.20\">OH</text>\n",
       "            <text x=\"0.71\" y=\"-2.53\" dx=\"-0.20\" dy=\"0.20\">S</text>\n",
       "            <text x=\"0.30\" y=\"-1.82\" dx=\"-0.20\" dy=\"0.20\">O</text>\n",
       "          </g>\n",
       "        </g>\n",
       "      </mask>\n",
       "    </defs>\n",
       "    <g fill=\"none\" stroke=\"black\" stroke-width=\"0.04\" mask=\"url(#mask-91ec35c2-643a-4357-9ecc-564cb1fc67c5)\">\n",
       "      <line x1=\"0.00\" y1=\"-2.94\" x2=\"0.71\" y2=\"-2.53\"/>\n",
       "      <line x1=\"0.71\" y1=\"-2.53\" x2=\"1.43\" y2=\"-2.12\"/>\n",
       "      <line x1=\"0.66\" y1=\"-2.56\" x2=\"1.08\" y2=\"-3.28\"/>\n",
       "      <line x1=\"0.77\" y1=\"-2.50\" x2=\"1.18\" y2=\"-3.22\"/>\n",
       "      <line x1=\"0.77\" y1=\"-2.50\" x2=\"0.35\" y2=\"-1.79\"/>\n",
       "      <line x1=\"0.66\" y1=\"-2.56\" x2=\"0.25\" y2=\"-1.85\"/>\n",
       "    </g>\n",
       "    <g font-family=\"monospace\">\n",
       "      <g fill=\"#FF0D0D\" font-family=\"sans-serif\">\n",
       "        <text x=\"1.43\" y=\"-2.12\" dx=\"-0.20\" dy=\"0.20\" font-size=\"0.50\">OH</text>\n",
       "      </g>\n",
       "      <g fill=\"#FF0D0D\" font-family=\"sans-serif\">\n",
       "        <text x=\"1.13\" y=\"-3.25\" dx=\"-0.20\" dy=\"0.20\" font-size=\"0.50\">O</text>\n",
       "      </g>\n",
       "      <g fill=\"#FF0D0D\" font-family=\"sans-serif\">\n",
       "        <text x=\"0.00\" y=\"-2.94\" dx=\"-0.20\" dy=\"0.20\" font-size=\"0.50\">OH</text>\n",
       "      </g>\n",
       "      <g fill=\"#C6C600\" font-family=\"sans-serif\">\n",
       "        <text x=\"0.71\" y=\"-2.53\" dx=\"-0.20\" dy=\"0.20\" font-size=\"0.50\">S</text>\n",
       "      </g>\n",
       "      <g fill=\"#FF0D0D\" font-family=\"sans-serif\">\n",
       "        <text x=\"0.30\" y=\"-1.82\" dx=\"-0.20\" dy=\"0.20\" font-size=\"0.50\">O</text>\n",
       "      </g>\n",
       "    </g>\n",
       "  </g>\n",
       "  <g>\n",
       "<rect x=\"7.257884943276422\" y=\"-1.5217069925770212\" rx=\"0.30434139851540426\" ry=\"0.30434139851540426\" width=\"4.387498891713588\" height=\"3.0434139851540425\" stroke=\"black\" stroke-width=\".0025\" fill=\"#F0AB90\" fill-opacity=\"0.30\"/>\n",
       "    <defs>\n",
       "      <mask id=\"mask-cb329852-7147-410c-adaa-ba6f2a4dcdfa\">\n",
       "        <rect x=\"-0.62\" y=\"-5.26\" width=\"32.75\" height=\"10.52\" fill=\"white\"/>\n",
       "        <g fill=\"black\">\n",
       "          <circle cx=\"10.75\" cy=\"0.36\" r=\"0.20\"/>\n",
       "          <circle cx=\"7.86\" cy=\"-0.36\" r=\"0.20\"/>\n",
       "          <circle cx=\"8.27\" cy=\"0.36\" r=\"0.20\"/>\n",
       "          <circle cx=\"9.51\" cy=\"1.07\" r=\"0.20\"/>\n",
       "          <circle cx=\"10.75\" cy=\"-1.07\" r=\"0.20\"/>\n",
       "        </g>\n",
       "        <g font-family=\"monospace\" stroke=\"black\">\n",
       "          <g font-family=\"sans-serif\" font-size=\"0.50\" stroke-width=\"0.05\">\n",
       "            <text x=\"10.75\" y=\"0.36\" dx=\"-0.20\" dy=\"0.20\">OH</text>\n",
       "            <text x=\"7.86\" y=\"-0.36\" dx=\"-0.20\" dy=\"0.20\">N</text>\n",
       "            <text x=\"8.27\" y=\"0.36\" dx=\"-0.20\" dy=\"0.20\">NH</text>\n",
       "            <text x=\"9.51\" y=\"1.07\" dx=\"-0.20\" dy=\"0.20\">O</text>\n",
       "            <text x=\"10.75\" y=\"-1.07\" dx=\"-0.20\" dy=\"0.20\">O</text>\n",
       "          </g>\n",
       "        </g>\n",
       "      </mask>\n",
       "    </defs>\n",
       "    <g fill=\"none\" stroke=\"black\" stroke-width=\"0.04\" mask=\"url(#mask-cb329852-7147-410c-adaa-ba6f2a4dcdfa)\">\n",
       "      <line x1=\"9.51\" y1=\"-0.36\" x2=\"10.33\" y2=\"-0.36\"/>\n",
       "      <line x1=\"9.46\" y1=\"-0.33\" x2=\"9.04\" y2=\"-1.04\"/>\n",
       "      <line x1=\"9.56\" y1=\"-0.39\" x2=\"9.15\" y2=\"-1.10\"/>\n",
       "      <line x1=\"9.51\" y1=\"-0.36\" x2=\"9.10\" y2=\"0.36\"/>\n",
       "      <line x1=\"10.28\" y1=\"-0.39\" x2=\"10.69\" y2=\"-1.10\"/>\n",
       "      <line x1=\"10.38\" y1=\"-0.33\" x2=\"10.80\" y2=\"-1.04\"/>\n",
       "      <line x1=\"10.33\" y1=\"-0.36\" x2=\"10.75\" y2=\"0.36\"/>\n",
       "      <line x1=\"9.10\" y1=\"-1.07\" x2=\"8.27\" y2=\"-1.07\"/>\n",
       "      <line x1=\"8.32\" y1=\"-1.04\" x2=\"7.91\" y2=\"-0.33\"/>\n",
       "      <line x1=\"8.22\" y1=\"-1.10\" x2=\"7.81\" y2=\"-0.39\"/>\n",
       "      <line x1=\"7.86\" y1=\"-0.36\" x2=\"8.27\" y2=\"0.36\"/>\n",
       "      <line x1=\"8.27\" y1=\"0.36\" x2=\"9.10\" y2=\"0.36\"/>\n",
       "      <line x1=\"9.15\" y1=\"0.33\" x2=\"9.56\" y2=\"1.04\"/>\n",
       "      <line x1=\"9.04\" y1=\"0.39\" x2=\"9.46\" y2=\"1.10\"/>\n",
       "    </g>\n",
       "    <g font-family=\"monospace\">\n",
       "      <g fill=\"#FF0D0D\" font-family=\"sans-serif\">\n",
       "        <text x=\"10.75\" y=\"0.36\" dx=\"-0.20\" dy=\"0.20\" font-size=\"0.50\">OH</text>\n",
       "      </g>\n",
       "      <g fill=\"#3050F8\" font-family=\"sans-serif\">\n",
       "        <text x=\"7.86\" y=\"-0.36\" dx=\"-0.20\" dy=\"0.20\" font-size=\"0.50\">N</text>\n",
       "      </g>\n",
       "      <g fill=\"#3050F8\" font-family=\"sans-serif\">\n",
       "        <text x=\"8.27\" y=\"0.36\" dx=\"-0.20\" dy=\"0.20\" font-size=\"0.50\">NH</text>\n",
       "      </g>\n",
       "      <g fill=\"#FF0D0D\" font-family=\"sans-serif\">\n",
       "        <text x=\"9.51\" y=\"1.07\" dx=\"-0.20\" dy=\"0.20\" font-size=\"0.50\">O</text>\n",
       "      </g>\n",
       "      <g fill=\"#FF0D0D\" font-family=\"sans-serif\">\n",
       "        <text x=\"10.75\" y=\"-1.07\" dx=\"-0.20\" dy=\"0.20\" font-size=\"0.50\">O</text>\n",
       "      </g>\n",
       "    </g>\n",
       "  </g>\n",
       "  <g>\n",
       "<rect x=\"15.145383834990012\" y=\"1.4624996793437413\" rx=\"0.33749999999984426\" ry=\"0.33749999999984426\" width=\"4.357884758143863\" height=\"3.374999999998442\" stroke=\"black\" stroke-width=\".0025\" fill=\"#F0AB90\" fill-opacity=\"0.30\"/>\n",
       "    <defs>\n",
       "      <mask id=\"mask-83d2f865-0115-4613-8d00-685b2ab6417f\">\n",
       "        <rect x=\"-0.62\" y=\"-5.26\" width=\"32.75\" height=\"10.52\" fill=\"white\"/>\n",
       "        <g fill=\"black\">\n",
       "          <circle cx=\"15.75\" cy=\"3.15\" r=\"0.20\"/>\n",
       "          <circle cx=\"18.60\" cy=\"3.97\" r=\"0.20\"/>\n",
       "          <circle cx=\"18.60\" cy=\"3.15\" r=\"0.20\"/>\n",
       "          <circle cx=\"17.89\" cy=\"1.91\" r=\"0.20\"/>\n",
       "        </g>\n",
       "        <g font-family=\"monospace\" stroke=\"black\">\n",
       "          <g font-family=\"sans-serif\" font-size=\"0.50\" stroke-width=\"0.05\">\n",
       "            <text x=\"15.75\" y=\"3.15\" dx=\"-0.20\" dy=\"0.20\">OH</text>\n",
       "            <text x=\"18.60\" y=\"3.97\" dx=\"-0.20\" dy=\"0.20\">N</text>\n",
       "            <text x=\"18.60\" y=\"3.15\" dx=\"-0.20\" dy=\"0.20\">NH</text>\n",
       "            <text x=\"17.89\" y=\"1.91\" dx=\"-0.20\" dy=\"0.20\">O</text>\n",
       "          </g>\n",
       "        </g>\n",
       "      </mask>\n",
       "    </defs>\n",
       "    <g fill=\"none\" stroke=\"black\" stroke-width=\"0.04\" mask=\"url(#mask-83d2f865-0115-4613-8d00-685b2ab6417f)\">\n",
       "      <line x1=\"16.46\" y1=\"2.74\" x2=\"15.75\" y2=\"3.15\"/>\n",
       "      <line x1=\"16.46\" y1=\"2.74\" x2=\"17.17\" y2=\"3.15\"/>\n",
       "      <line x1=\"17.23\" y1=\"3.15\" x2=\"17.23\" y2=\"3.98\"/>\n",
       "      <line x1=\"17.11\" y1=\"3.15\" x2=\"17.11\" y2=\"3.98\"/>\n",
       "      <line x1=\"17.17\" y1=\"3.15\" x2=\"17.89\" y2=\"2.74\"/>\n",
       "      <line x1=\"17.17\" y1=\"3.98\" x2=\"17.89\" y2=\"4.39\"/>\n",
       "      <line x1=\"17.86\" y1=\"4.34\" x2=\"18.57\" y2=\"3.92\"/>\n",
       "      <line x1=\"17.92\" y1=\"4.44\" x2=\"18.63\" y2=\"4.03\"/>\n",
       "      <line x1=\"18.60\" y1=\"3.97\" x2=\"18.60\" y2=\"3.15\"/>\n",
       "      <line x1=\"18.60\" y1=\"3.15\" x2=\"17.89\" y2=\"2.74\"/>\n",
       "      <line x1=\"17.83\" y1=\"2.74\" x2=\"17.83\" y2=\"1.91\"/>\n",
       "      <line x1=\"17.95\" y1=\"2.74\" x2=\"17.95\" y2=\"1.91\"/>\n",
       "    </g>\n",
       "    <g font-family=\"monospace\">\n",
       "      <g fill=\"#FF0D0D\" font-family=\"sans-serif\">\n",
       "        <text x=\"15.75\" y=\"3.15\" dx=\"-0.20\" dy=\"0.20\" font-size=\"0.50\">OH</text>\n",
       "      </g>\n",
       "      <g fill=\"#3050F8\" font-family=\"sans-serif\">\n",
       "        <text x=\"18.60\" y=\"3.97\" dx=\"-0.20\" dy=\"0.20\" font-size=\"0.50\">N</text>\n",
       "      </g>\n",
       "      <g fill=\"#3050F8\" font-family=\"sans-serif\">\n",
       "        <text x=\"18.60\" y=\"3.15\" dx=\"-0.20\" dy=\"0.20\" font-size=\"0.50\">NH</text>\n",
       "      </g>\n",
       "      <g fill=\"#FF0D0D\" font-family=\"sans-serif\">\n",
       "        <text x=\"17.89\" y=\"1.91\" dx=\"-0.20\" dy=\"0.20\" font-size=\"0.50\">O</text>\n",
       "      </g>\n",
       "    </g>\n",
       "  </g>\n",
       "  <g>\n",
       "<rect x=\"15.14538383499001\" y=\"-4.837499679342183\" rx=\"0.41999993586859247\" ry=\"0.41999993586859247\" width=\"5.7868263041270716\" height=\"4.1999993586859246\" stroke=\"black\" stroke-width=\".0025\" fill=\"#9BFAB3\" fill-opacity=\"0.30\"/>\n",
       "    <defs>\n",
       "      <mask id=\"mask-20680cde-4742-41da-831f-5ecc3d099e88\">\n",
       "        <rect x=\"-0.62\" y=\"-5.26\" width=\"32.75\" height=\"10.52\" fill=\"white\"/>\n",
       "        <g fill=\"black\">\n",
       "          <ellipse cx=\"17.76\" cy=\"-2.74\" rx=\"0.3\" ry=\"0.2\"/>\n",
       "          <ellipse cx=\"17.35\" cy=\"-2.02\" rx=\"0.3\" ry=\"0.2\"/>\n",
       "        </g>\n",
       "        <g font-family=\"monospace\" stroke=\"black\">\n",
       "          <g font-family=\"sans-serif\" font-size=\"0.50\" stroke-width=\"0.05\">\n",
       "            <text x=\"17.89\" y=\"-2.74\" dx=\"-0.35\" dy=\"0.20\">Si</text>\n",
       "            <text x=\"17.48\" y=\"-2.02\" dx=\"-0.35\" dy=\"0.20\">Cl</text>\n",
       "          </g>\n",
       "        </g>\n",
       "      </mask>\n",
       "    </defs>\n",
       "    <g fill=\"none\" stroke=\"black\" stroke-width=\"0.04\" mask=\"url(#mask-20680cde-4742-41da-831f-5ecc3d099e88)\">\n",
       "      <line x1=\"17.17\" y1=\"-3.15\" x2=\"17.89\" y2=\"-2.74\"/>\n",
       "      <line x1=\"17.17\" y1=\"-3.15\" x2=\"16.46\" y2=\"-2.74\"/>\n",
       "      <line x1=\"17.17\" y1=\"-3.15\" x2=\"17.17\" y2=\"-3.97\"/>\n",
       "      <line x1=\"17.89\" y1=\"-2.74\" x2=\"18.60\" y2=\"-2.33\"/>\n",
       "      <line x1=\"17.89\" y1=\"-2.74\" x2=\"17.48\" y2=\"-2.02\"/>\n",
       "      <line x1=\"17.89\" y1=\"-2.74\" x2=\"18.30\" y2=\"-3.45\"/>\n",
       "      <line x1=\"18.60\" y1=\"-2.33\" x2=\"19.32\" y2=\"-2.74\"/>\n",
       "      <line x1=\"18.60\" y1=\"-2.33\" x2=\"18.60\" y2=\"-1.50\"/>\n",
       "      <line x1=\"18.30\" y1=\"-3.45\" x2=\"17.77\" y2=\"-4.08\"/>\n",
       "      <line x1=\"18.30\" y1=\"-3.45\" x2=\"19.11\" y2=\"-3.31\"/>\n",
       "      <line x1=\"18.30\" y1=\"-3.45\" x2=\"18.71\" y2=\"-4.17\"/>\n",
       "      <line x1=\"19.32\" y1=\"-2.74\" x2=\"20.03\" y2=\"-2.33\"/>\n",
       "      <line x1=\"20.03\" y1=\"-2.33\" x2=\"20.03\" y2=\"-1.50\"/>\n",
       "      <line x1=\"20.03\" y1=\"-1.50\" x2=\"19.32\" y2=\"-1.09\"/>\n",
       "      <line x1=\"19.32\" y1=\"-1.09\" x2=\"18.60\" y2=\"-1.50\"/>\n",
       "      <line x1=\"16.46\" y1=\"-2.74\" x2=\"15.75\" y2=\"-3.15\"/>\n",
       "      <line x1=\"15.75\" y1=\"-3.15\" x2=\"15.75\" y2=\"-3.97\"/>\n",
       "      <line x1=\"15.75\" y1=\"-3.97\" x2=\"16.46\" y2=\"-4.39\"/>\n",
       "      <line x1=\"16.46\" y1=\"-4.39\" x2=\"17.17\" y2=\"-3.97\"/>\n",
       "      <line x1=\"17.03\" y1=\"-3.23\" x2=\"16.46\" y2=\"-2.90\" stroke-dasharray=\"0.15 0.05\"/>\n",
       "      <line x1=\"16.46\" y1=\"-2.90\" x2=\"15.89\" y2=\"-3.23\" stroke-dasharray=\"0.15 0.05\"/>\n",
       "      <line x1=\"15.89\" y1=\"-3.23\" x2=\"15.89\" y2=\"-3.89\" stroke-dasharray=\"0.15 0.05\"/>\n",
       "      <line x1=\"15.89\" y1=\"-3.89\" x2=\"16.46\" y2=\"-4.23\" stroke-dasharray=\"0.15 0.05\"/>\n",
       "      <line x1=\"16.46\" y1=\"-4.23\" x2=\"17.03\" y2=\"-3.89\" stroke-dasharray=\"0.15 0.05\"/>\n",
       "      <line x1=\"17.03\" y1=\"-3.89\" x2=\"17.03\" y2=\"-3.23\" stroke-dasharray=\"0.15 0.05\"/>\n",
       "      <line x1=\"18.74\" y1=\"-2.24\" x2=\"19.32\" y2=\"-2.58\" stroke-dasharray=\"0.15 0.05\"/>\n",
       "      <line x1=\"19.32\" y1=\"-2.58\" x2=\"19.89\" y2=\"-2.24\" stroke-dasharray=\"0.15 0.05\"/>\n",
       "      <line x1=\"19.89\" y1=\"-2.24\" x2=\"19.89\" y2=\"-1.58\" stroke-dasharray=\"0.15 0.05\"/>\n",
       "      <line x1=\"19.89\" y1=\"-1.58\" x2=\"19.32\" y2=\"-1.25\" stroke-dasharray=\"0.15 0.05\"/>\n",
       "      <line x1=\"19.32\" y1=\"-1.25\" x2=\"18.74\" y2=\"-1.58\" stroke-dasharray=\"0.15 0.05\"/>\n",
       "      <line x1=\"18.74\" y1=\"-1.58\" x2=\"18.74\" y2=\"-2.24\" stroke-dasharray=\"0.15 0.05\"/>\n",
       "    </g>\n",
       "    <g font-family=\"monospace\">\n",
       "      <g fill=\"#F0C8A0\" font-family=\"sans-serif\">\n",
       "        <text x=\"17.89\" y=\"-2.74\" dx=\"-0.35\" dy=\"0.20\" font-size=\"0.50\">Si</text>\n",
       "      </g>\n",
       "      <g fill=\"#1FF01F\" font-family=\"sans-serif\">\n",
       "        <text x=\"17.48\" y=\"-2.02\" dx=\"-0.35\" dy=\"0.20\" font-size=\"0.50\">Cl</text>\n",
       "      </g>\n",
       "    </g>\n",
       "  </g>\n",
       "  <g>\n",
       "<rect x=\"24.432210139117082\" y=\"-2.3467063297823194\" rx=\"0.4693412659564639\" ry=\"0.4693412659564639\" width=\"7.2157694318092425\" height=\"4.693412659564639\" stroke=\"black\" stroke-width=\".0025\" fill=\"#98EEFF\" fill-opacity=\"0.30\"/>\n",
       "    <defs>\n",
       "      <mask id=\"mask-c7588746-cf2a-47db-b9e0-e3fd5363504c\">\n",
       "        <rect x=\"-0.62\" y=\"-5.26\" width=\"32.75\" height=\"10.52\" fill=\"white\"/>\n",
       "        <g fill=\"black\">\n",
       "          <ellipse cx=\"28.48\" cy=\"0.25\" rx=\"0.3\" ry=\"0.2\"/>\n",
       "          <circle cx=\"27.89\" cy=\"-0.17\" r=\"0.20\"/>\n",
       "          <circle cx=\"25.03\" cy=\"-0.99\" r=\"0.20\"/>\n",
       "          <circle cx=\"25.75\" cy=\"-1.40\" r=\"0.20\"/>\n",
       "          <circle cx=\"27.18\" cy=\"-1.40\" r=\"0.20\"/>\n",
       "        </g>\n",
       "        <g font-family=\"monospace\" stroke=\"black\">\n",
       "          <g font-family=\"sans-serif\" font-size=\"0.50\" stroke-width=\"0.05\">\n",
       "            <text x=\"28.60\" y=\"0.25\" dx=\"-0.35\" dy=\"0.20\">Si</text>\n",
       "            <text x=\"27.89\" y=\"-0.17\" dx=\"-0.20\" dy=\"0.20\">O</text>\n",
       "            <text x=\"25.03\" y=\"-0.99\" dx=\"-0.20\" dy=\"0.20\">N</text>\n",
       "            <text x=\"25.75\" y=\"-1.40\" dx=\"-0.20\" dy=\"0.20\">NH</text>\n",
       "            <text x=\"27.18\" y=\"-1.40\" dx=\"-0.20\" dy=\"0.20\">O</text>\n",
       "          </g>\n",
       "        </g>\n",
       "      </mask>\n",
       "    </defs>\n",
       "    <g fill=\"none\" stroke=\"black\" stroke-width=\"0.04\" mask=\"url(#mask-c7588746-cf2a-47db-b9e0-e3fd5363504c)\">\n",
       "      <line x1=\"28.72\" y1=\"1.59\" x2=\"28.19\" y2=\"0.96\"/>\n",
       "      <line x1=\"28.19\" y1=\"0.96\" x2=\"27.78\" y2=\"1.68\"/>\n",
       "      <line x1=\"28.19\" y1=\"0.96\" x2=\"27.38\" y2=\"0.82\"/>\n",
       "      <line x1=\"28.19\" y1=\"0.96\" x2=\"28.60\" y2=\"0.25\"/>\n",
       "      <line x1=\"28.60\" y1=\"0.25\" x2=\"27.89\" y2=\"-0.17\"/>\n",
       "      <line x1=\"28.60\" y1=\"0.25\" x2=\"29.32\" y2=\"0.66\"/>\n",
       "      <line x1=\"28.60\" y1=\"0.25\" x2=\"29.02\" y2=\"-0.47\"/>\n",
       "      <line x1=\"27.89\" y1=\"-0.17\" x2=\"27.18\" y2=\"0.25\"/>\n",
       "      <line x1=\"27.18\" y1=\"0.25\" x2=\"26.46\" y2=\"-0.17\"/>\n",
       "      <line x1=\"26.49\" y1=\"-0.11\" x2=\"25.78\" y2=\"0.30\"/>\n",
       "      <line x1=\"26.43\" y1=\"-0.22\" x2=\"25.72\" y2=\"0.19\"/>\n",
       "      <line x1=\"26.46\" y1=\"-0.17\" x2=\"26.46\" y2=\"-0.99\"/>\n",
       "      <line x1=\"25.75\" y1=\"0.25\" x2=\"25.03\" y2=\"-0.17\"/>\n",
       "      <line x1=\"24.97\" y1=\"-0.17\" x2=\"24.97\" y2=\"-0.99\"/>\n",
       "      <line x1=\"25.09\" y1=\"-0.17\" x2=\"25.09\" y2=\"-0.99\"/>\n",
       "      <line x1=\"25.03\" y1=\"-0.99\" x2=\"25.75\" y2=\"-1.40\"/>\n",
       "      <line x1=\"25.75\" y1=\"-1.40\" x2=\"26.46\" y2=\"-0.99\"/>\n",
       "      <line x1=\"26.43\" y1=\"-1.04\" x2=\"27.15\" y2=\"-1.46\"/>\n",
       "      <line x1=\"26.49\" y1=\"-0.94\" x2=\"27.21\" y2=\"-1.35\"/>\n",
       "      <line x1=\"29.32\" y1=\"0.66\" x2=\"30.03\" y2=\"0.25\"/>\n",
       "      <line x1=\"29.32\" y1=\"0.66\" x2=\"29.32\" y2=\"1.48\"/>\n",
       "      <line x1=\"30.03\" y1=\"0.25\" x2=\"30.75\" y2=\"0.66\"/>\n",
       "      <line x1=\"30.75\" y1=\"0.66\" x2=\"30.75\" y2=\"1.48\"/>\n",
       "      <line x1=\"30.75\" y1=\"1.48\" x2=\"30.03\" y2=\"1.90\"/>\n",
       "      <line x1=\"30.03\" y1=\"1.90\" x2=\"29.32\" y2=\"1.48\"/>\n",
       "      <line x1=\"29.02\" y1=\"-0.47\" x2=\"29.84\" y2=\"-0.47\"/>\n",
       "      <line x1=\"29.02\" y1=\"-0.47\" x2=\"28.60\" y2=\"-1.18\"/>\n",
       "      <line x1=\"29.84\" y1=\"-0.47\" x2=\"30.25\" y2=\"-1.18\"/>\n",
       "      <line x1=\"30.25\" y1=\"-1.18\" x2=\"29.84\" y2=\"-1.90\"/>\n",
       "      <line x1=\"29.84\" y1=\"-1.90\" x2=\"29.02\" y2=\"-1.90\"/>\n",
       "      <line x1=\"29.02\" y1=\"-1.90\" x2=\"28.60\" y2=\"-1.18\"/>\n",
       "      <line x1=\"29.10\" y1=\"-0.61\" x2=\"29.76\" y2=\"-0.61\" stroke-dasharray=\"0.15 0.05\"/>\n",
       "      <line x1=\"29.76\" y1=\"-0.61\" x2=\"30.09\" y2=\"-1.18\" stroke-dasharray=\"0.15 0.05\"/>\n",
       "      <line x1=\"30.09\" y1=\"-1.18\" x2=\"29.76\" y2=\"-1.76\" stroke-dasharray=\"0.15 0.05\"/>\n",
       "      <line x1=\"29.76\" y1=\"-1.76\" x2=\"29.10\" y2=\"-1.76\" stroke-dasharray=\"0.15 0.05\"/>\n",
       "      <line x1=\"29.10\" y1=\"-1.76\" x2=\"28.77\" y2=\"-1.18\" stroke-dasharray=\"0.15 0.05\"/>\n",
       "      <line x1=\"28.77\" y1=\"-1.18\" x2=\"29.10\" y2=\"-0.61\" stroke-dasharray=\"0.15 0.05\"/>\n",
       "      <line x1=\"29.46\" y1=\"0.74\" x2=\"30.03\" y2=\"0.41\" stroke-dasharray=\"0.15 0.05\"/>\n",
       "      <line x1=\"30.03\" y1=\"0.41\" x2=\"30.61\" y2=\"0.74\" stroke-dasharray=\"0.15 0.05\"/>\n",
       "      <line x1=\"30.61\" y1=\"0.74\" x2=\"30.61\" y2=\"1.40\" stroke-dasharray=\"0.15 0.05\"/>\n",
       "      <line x1=\"30.61\" y1=\"1.40\" x2=\"30.03\" y2=\"1.74\" stroke-dasharray=\"0.15 0.05\"/>\n",
       "      <line x1=\"30.03\" y1=\"1.74\" x2=\"29.46\" y2=\"1.40\" stroke-dasharray=\"0.15 0.05\"/>\n",
       "      <line x1=\"29.46\" y1=\"1.40\" x2=\"29.46\" y2=\"0.74\" stroke-dasharray=\"0.15 0.05\"/>\n",
       "    </g>\n",
       "    <g font-family=\"monospace\">\n",
       "      <g fill=\"#F0C8A0\" font-family=\"sans-serif\">\n",
       "        <text x=\"28.60\" y=\"0.25\" dx=\"-0.35\" dy=\"0.20\" font-size=\"0.50\">Si</text>\n",
       "      </g>\n",
       "      <g fill=\"#FF0D0D\" font-family=\"sans-serif\">\n",
       "        <text x=\"27.89\" y=\"-0.17\" dx=\"-0.20\" dy=\"0.20\" font-size=\"0.50\">O</text>\n",
       "      </g>\n",
       "      <g fill=\"#3050F8\" font-family=\"sans-serif\">\n",
       "        <text x=\"25.03\" y=\"-0.99\" dx=\"-0.20\" dy=\"0.20\" font-size=\"0.50\">N</text>\n",
       "      </g>\n",
       "      <g fill=\"#3050F8\" font-family=\"sans-serif\">\n",
       "        <text x=\"25.75\" y=\"-1.40\" dx=\"-0.20\" dy=\"0.20\" font-size=\"0.50\">NH</text>\n",
       "      </g>\n",
       "      <g fill=\"#FF0D0D\" font-family=\"sans-serif\">\n",
       "        <text x=\"27.18\" y=\"-1.40\" dx=\"-0.20\" dy=\"0.20\" font-size=\"0.50\">O</text>\n",
       "      </g>\n",
       "    </g>\n",
       "  </g>\n",
       "</svg>"
      ],
      "text/plain": [
       "<IPython.core.display.SVG object>"
      ]
     },
     "metadata": {},
     "output_type": "display_data"
    },
    {
     "name": "stdout",
     "output_type": "stream",
     "text": [
      "-------- Path starts from node #24 with total path score -0.15625 --------\n"
     ]
    },
    {
     "data": {
      "image/svg+xml": [
       "<svg xmlns=\"http://www.w3.org/2000/svg\" width=\"19.77cm\" height=\"5.33cm\" viewBox=\"-0.62 -4.44 32.95 8.88\" version=\"1.1\">\n",
       "  <defs>\n",
       "    <marker id=\"arrow\" markerWidth=\"10\" markerHeight=\"10\" refX=\"0\" refY=\"3\" orient=\"auto\">\n",
       "      <path d=\"M0,0 L0,6 L9,3\"/>\n",
       "    </marker>\n",
       "  </defs>\n",
       "  <polyline points=\"21.73 -2.33, 23.06 -2.33, 23.06 0.00, 24.73 0.00\" fill=\"none\" stroke=\"black\" stroke-width=\".04\" marker-end=\"url(#arrow)\"/>  <circle cx=\"23.058334615955534\" cy=\"-2.3250004809853078\" r=\"0.1\"/>\n",
       "  <polyline points=\"19.63 2.74, 23.06 2.74, 23.06 0.00, 24.73 0.00\" fill=\"none\" stroke=\"black\" stroke-width=\".04\" marker-end=\"url(#arrow)\"/>  <circle cx=\"23.058334615955534\" cy=\"2.7374999999998755\" r=\"0.1\"/>\n",
       "  <polyline points=\"11.78 0.00, 13.11 0.00, 13.11 2.74, 14.78 2.74\" fill=\"none\" stroke=\"black\" stroke-width=\".04\" marker-end=\"url(#arrow)\"/>  <circle cx=\"13.108334615956034\" cy=\"0.0\" r=\"0.1\"/>\n",
       "  <polyline points=\"2.24 -2.57, 5.63 -2.57, 5.63 0.00, 7.30 0.00\" fill=\"none\" stroke=\"black\" stroke-width=\".04\" marker-end=\"url(#arrow)\"/>  <circle cx=\"5.633333333333334\" cy=\"-2.571706437183243\" r=\"0.1\"/>\n",
       "  <polyline points=\"4.30 2.21, 5.63 2.21, 5.63 0.00, 7.30 0.00\" fill=\"none\" stroke=\"black\" stroke-width=\".04\" marker-end=\"url(#arrow)\"/>  <circle cx=\"5.633333333333334\" cy=\"2.214470958122162\" r=\"0.1\"/>\n",
       "  <g>\n",
       "<rect x=\"-0.6\" y=\"0.6927645209389188\" rx=\"0.3043412874366487\" ry=\"0.3043412874366487\" width=\"4.8\" height=\"3.0434128743664868\" stroke=\"black\" stroke-width=\".0025\" fill=\"#9BFAB3\" fill-opacity=\"0.30\"/>\n",
       "    <defs>\n",
       "      <mask id=\"mask-38adb56f-a8fb-422d-9e7a-c85aa34b162a\">\n",
       "        <rect x=\"-0.62\" y=\"-4.44\" width=\"32.95\" height=\"8.88\" fill=\"white\"/>\n",
       "        <g fill=\"black\">\n",
       "          <circle cx=\"3.30\" cy=\"2.57\" r=\"0.20\"/>\n",
       "          <circle cx=\"2.89\" cy=\"1.86\" r=\"0.20\"/>\n",
       "          <circle cx=\"1.65\" cy=\"1.14\" r=\"0.20\"/>\n",
       "          <circle cx=\"0.00\" cy=\"2.57\" r=\"0.20\"/>\n",
       "        </g>\n",
       "        <g font-family=\"monospace\" stroke=\"black\">\n",
       "          <g font-family=\"sans-serif\" font-size=\"0.50\" stroke-width=\"0.05\">\n",
       "            <text x=\"3.30\" y=\"2.57\" dx=\"-0.20\" dy=\"0.20\">N</text>\n",
       "            <text x=\"2.89\" y=\"1.86\" dx=\"-0.20\" dy=\"0.20\">NH</text>\n",
       "            <text x=\"1.65\" y=\"1.14\" dx=\"-0.20\" dy=\"0.20\">O</text>\n",
       "            <text x=\"0.00\" y=\"2.57\" dx=\"-0.20\" dy=\"0.20\">N</text>\n",
       "          </g>\n",
       "        </g>\n",
       "      </mask>\n",
       "    </defs>\n",
       "    <g fill=\"none\" stroke=\"black\" stroke-width=\"0.04\" mask=\"url(#mask-38adb56f-a8fb-422d-9e7a-c85aa34b162a)\">\n",
       "      <line x1=\"1.65\" y1=\"2.57\" x2=\"0.83\" y2=\"2.57\"/>\n",
       "      <line x1=\"1.70\" y1=\"2.54\" x2=\"2.11\" y2=\"3.26\"/>\n",
       "      <line x1=\"1.60\" y1=\"2.60\" x2=\"2.01\" y2=\"3.32\"/>\n",
       "      <line x1=\"1.65\" y1=\"2.57\" x2=\"2.06\" y2=\"1.86\"/>\n",
       "      <line x1=\"0.83\" y1=\"2.70\" x2=\"0.00\" y2=\"2.70\"/>\n",
       "      <line x1=\"0.83\" y1=\"2.57\" x2=\"0.00\" y2=\"2.57\"/>\n",
       "      <line x1=\"0.82\" y1=\"2.44\" x2=\"-0.00\" y2=\"2.44\"/>\n",
       "      <line x1=\"2.06\" y1=\"3.29\" x2=\"2.89\" y2=\"3.29\"/>\n",
       "      <line x1=\"2.84\" y1=\"3.26\" x2=\"3.25\" y2=\"2.54\"/>\n",
       "      <line x1=\"2.94\" y1=\"3.32\" x2=\"3.35\" y2=\"2.60\"/>\n",
       "      <line x1=\"3.30\" y1=\"2.57\" x2=\"2.89\" y2=\"1.86\"/>\n",
       "      <line x1=\"2.89\" y1=\"1.86\" x2=\"2.06\" y2=\"1.86\"/>\n",
       "      <line x1=\"2.01\" y1=\"1.89\" x2=\"1.60\" y2=\"1.17\"/>\n",
       "      <line x1=\"2.11\" y1=\"1.83\" x2=\"1.70\" y2=\"1.11\"/>\n",
       "    </g>\n",
       "    <g font-family=\"monospace\">\n",
       "      <g fill=\"#3050F8\" font-family=\"sans-serif\">\n",
       "        <text x=\"3.30\" y=\"2.57\" dx=\"-0.20\" dy=\"0.20\" font-size=\"0.50\">N</text>\n",
       "      </g>\n",
       "      <g fill=\"#3050F8\" font-family=\"sans-serif\">\n",
       "        <text x=\"2.89\" y=\"1.86\" dx=\"-0.20\" dy=\"0.20\" font-size=\"0.50\">NH</text>\n",
       "      </g>\n",
       "      <g fill=\"#FF0D0D\" font-family=\"sans-serif\">\n",
       "        <text x=\"1.65\" y=\"1.14\" dx=\"-0.20\" dy=\"0.20\" font-size=\"0.50\">O</text>\n",
       "      </g>\n",
       "      <g fill=\"#3050F8\" font-family=\"sans-serif\">\n",
       "        <text x=\"0.00\" y=\"2.57\" dx=\"-0.20\" dy=\"0.20\" font-size=\"0.50\">N</text>\n",
       "      </g>\n",
       "    </g>\n",
       "  </g>\n",
       "  <g>\n",
       "<rect x=\"-0.6\" y=\"-3.736177395305405\" rx=\"0.23289419162443237\" ry=\"0.23289419162443237\" width=\"2.7375000000000003\" height=\"2.3289419162443235\" stroke=\"black\" stroke-width=\".0025\" fill=\"#9BFAB3\" fill-opacity=\"0.30\"/>\n",
       "    <defs>\n",
       "      <mask id=\"mask-eea34039-ceaa-4e36-aad9-253bd3b0abcc\">\n",
       "        <rect x=\"-0.62\" y=\"-4.44\" width=\"32.95\" height=\"8.88\" fill=\"white\"/>\n",
       "        <g fill=\"black\">\n",
       "          <circle cx=\"1.24\" cy=\"-3.29\" r=\"0.20\"/>\n",
       "          <circle cx=\"1.24\" cy=\"-1.86\" r=\"0.20\"/>\n",
       "        </g>\n",
       "        <g font-family=\"monospace\" stroke=\"black\">\n",
       "          <g font-family=\"sans-serif\" font-size=\"0.50\" stroke-width=\"0.05\">\n",
       "            <text x=\"1.24\" y=\"-3.29\" dx=\"-0.20\" dy=\"0.20\">OH</text>\n",
       "            <text x=\"1.24\" y=\"-1.86\" dx=\"-0.20\" dy=\"0.20\">O</text>\n",
       "          </g>\n",
       "        </g>\n",
       "      </mask>\n",
       "    </defs>\n",
       "    <g fill=\"none\" stroke=\"black\" stroke-width=\"0.04\" mask=\"url(#mask-eea34039-ceaa-4e36-aad9-253bd3b0abcc)\">\n",
       "      <line x1=\"1.19\" y1=\"-1.83\" x2=\"0.77\" y2=\"-2.54\"/>\n",
       "      <line x1=\"1.29\" y1=\"-1.89\" x2=\"0.88\" y2=\"-2.60\"/>\n",
       "      <line x1=\"0.82\" y1=\"-2.57\" x2=\"1.24\" y2=\"-3.29\"/>\n",
       "      <line x1=\"0.82\" y1=\"-2.57\" x2=\"0.00\" y2=\"-2.57\"/>\n",
       "    </g>\n",
       "    <g font-family=\"monospace\">\n",
       "      <g fill=\"#FF0D0D\" font-family=\"sans-serif\">\n",
       "        <text x=\"1.24\" y=\"-3.29\" dx=\"-0.20\" dy=\"0.20\" font-size=\"0.50\">OH</text>\n",
       "      </g>\n",
       "      <g fill=\"#FF0D0D\" font-family=\"sans-serif\">\n",
       "        <text x=\"1.24\" y=\"-1.86\" dx=\"-0.20\" dy=\"0.20\" font-size=\"0.50\">O</text>\n",
       "      </g>\n",
       "    </g>\n",
       "  </g>\n",
       "  <g>\n",
       "<rect x=\"7.700000000000001\" y=\"-1.8789414111777603\" rx=\"0.37578828223555205\" ry=\"0.37578828223555205\" width=\"3.9750012826226993\" height=\"3.7578828223555205\" stroke=\"black\" stroke-width=\".0025\" fill=\"#F0AB90\" fill-opacity=\"0.30\"/>\n",
       "    <defs>\n",
       "      <mask id=\"mask-a97816de-123c-4d72-88b3-dafe2115d798\">\n",
       "        <rect x=\"-0.62\" y=\"-4.44\" width=\"32.95\" height=\"8.88\" fill=\"white\"/>\n",
       "        <g fill=\"black\">\n",
       "          <circle cx=\"10.78\" cy=\"-0.71\" r=\"0.20\"/>\n",
       "          <circle cx=\"8.71\" cy=\"1.43\" r=\"0.20\"/>\n",
       "          <circle cx=\"9.54\" cy=\"1.43\" r=\"0.20\"/>\n",
       "          <circle cx=\"10.77\" cy=\"0.71\" r=\"0.20\"/>\n",
       "          <circle cx=\"9.54\" cy=\"-1.43\" r=\"0.20\"/>\n",
       "        </g>\n",
       "        <g font-family=\"monospace\" stroke=\"black\">\n",
       "          <g font-family=\"sans-serif\" font-size=\"0.50\" stroke-width=\"0.05\">\n",
       "            <text x=\"10.78\" y=\"-0.71\" dx=\"-0.20\" dy=\"0.20\">OH</text>\n",
       "            <text x=\"8.71\" y=\"1.43\" dx=\"-0.20\" dy=\"0.20\">N</text>\n",
       "            <text x=\"9.54\" y=\"1.43\" dx=\"-0.20\" dy=\"0.20\">NH</text>\n",
       "            <text x=\"10.77\" y=\"0.71\" dx=\"-0.20\" dy=\"0.20\">O</text>\n",
       "            <text x=\"9.54\" y=\"-1.43\" dx=\"-0.20\" dy=\"0.20\">O</text>\n",
       "          </g>\n",
       "        </g>\n",
       "      </mask>\n",
       "    </defs>\n",
       "    <g fill=\"none\" stroke=\"black\" stroke-width=\"0.04\" mask=\"url(#mask-a97816de-123c-4d72-88b3-dafe2115d798)\">\n",
       "      <line x1=\"9.54\" y1=\"-0.00\" x2=\"9.95\" y2=\"-0.71\"/>\n",
       "      <line x1=\"9.54\" y1=\"0.06\" x2=\"8.71\" y2=\"0.06\"/>\n",
       "      <line x1=\"9.54\" y1=\"-0.06\" x2=\"8.71\" y2=\"-0.06\"/>\n",
       "      <line x1=\"9.54\" y1=\"-0.00\" x2=\"9.95\" y2=\"0.71\"/>\n",
       "      <line x1=\"9.90\" y1=\"-0.68\" x2=\"9.49\" y2=\"-1.40\"/>\n",
       "      <line x1=\"10.00\" y1=\"-0.74\" x2=\"9.59\" y2=\"-1.46\"/>\n",
       "      <line x1=\"9.95\" y1=\"-0.71\" x2=\"10.78\" y2=\"-0.71\"/>\n",
       "      <line x1=\"8.71\" y1=\"-0.00\" x2=\"8.30\" y2=\"0.71\"/>\n",
       "      <line x1=\"8.35\" y1=\"0.68\" x2=\"8.76\" y2=\"1.40\"/>\n",
       "      <line x1=\"8.25\" y1=\"0.74\" x2=\"8.66\" y2=\"1.46\"/>\n",
       "      <line x1=\"8.71\" y1=\"1.43\" x2=\"9.54\" y2=\"1.43\"/>\n",
       "      <line x1=\"9.54\" y1=\"1.43\" x2=\"9.95\" y2=\"0.71\"/>\n",
       "      <line x1=\"9.95\" y1=\"0.65\" x2=\"10.78\" y2=\"0.65\"/>\n",
       "      <line x1=\"9.95\" y1=\"0.77\" x2=\"10.77\" y2=\"0.77\"/>\n",
       "    </g>\n",
       "    <g font-family=\"monospace\">\n",
       "      <g fill=\"#FF0D0D\" font-family=\"sans-serif\">\n",
       "        <text x=\"10.78\" y=\"-0.71\" dx=\"-0.20\" dy=\"0.20\" font-size=\"0.50\">OH</text>\n",
       "      </g>\n",
       "      <g fill=\"#3050F8\" font-family=\"sans-serif\">\n",
       "        <text x=\"8.71\" y=\"1.43\" dx=\"-0.20\" dy=\"0.20\" font-size=\"0.50\">N</text>\n",
       "      </g>\n",
       "      <g fill=\"#3050F8\" font-family=\"sans-serif\">\n",
       "        <text x=\"9.54\" y=\"1.43\" dx=\"-0.20\" dy=\"0.20\" font-size=\"0.50\">NH</text>\n",
       "      </g>\n",
       "      <g fill=\"#FF0D0D\" font-family=\"sans-serif\">\n",
       "        <text x=\"10.77\" y=\"0.71\" dx=\"-0.20\" dy=\"0.20\" font-size=\"0.50\">O</text>\n",
       "      </g>\n",
       "      <g fill=\"#FF0D0D\" font-family=\"sans-serif\">\n",
       "        <text x=\"9.54\" y=\"-1.43\" dx=\"-0.20\" dy=\"0.20\" font-size=\"0.50\">O</text>\n",
       "      </g>\n",
       "    </g>\n",
       "  </g>\n",
       "  <g>\n",
       "<rect x=\"15.175001282622702\" y=\"1.4624995190145673\" rx=\"0.2550000961970616\" ry=\"0.2550000961970616\" width=\"4.357884387882208\" height=\"2.550000961970616\" stroke=\"black\" stroke-width=\".0025\" fill=\"#F0AB90\" fill-opacity=\"0.30\"/>\n",
       "    <defs>\n",
       "      <mask id=\"mask-b15d6f08-2e0f-4878-8bcb-f3f2471d56bb\">\n",
       "        <rect x=\"-0.62\" y=\"-4.44\" width=\"32.95\" height=\"8.88\" fill=\"white\"/>\n",
       "        <g fill=\"black\">\n",
       "          <circle cx=\"15.78\" cy=\"2.33\" r=\"0.20\"/>\n",
       "          <circle cx=\"18.63\" cy=\"3.15\" r=\"0.20\"/>\n",
       "          <circle cx=\"17.92\" cy=\"3.56\" r=\"0.20\"/>\n",
       "          <circle cx=\"16.49\" cy=\"3.56\" r=\"0.20\"/>\n",
       "        </g>\n",
       "        <g font-family=\"monospace\" stroke=\"black\">\n",
       "          <g font-family=\"sans-serif\" font-size=\"0.50\" stroke-width=\"0.05\">\n",
       "            <text x=\"15.78\" y=\"2.33\" dx=\"-0.20\" dy=\"0.20\">OH</text>\n",
       "            <text x=\"18.63\" y=\"3.15\" dx=\"-0.20\" dy=\"0.20\">N</text>\n",
       "            <text x=\"17.92\" y=\"3.56\" dx=\"-0.20\" dy=\"0.20\">NH</text>\n",
       "            <text x=\"16.49\" y=\"3.56\" dx=\"-0.20\" dy=\"0.20\">O</text>\n",
       "          </g>\n",
       "        </g>\n",
       "      </mask>\n",
       "    </defs>\n",
       "    <g fill=\"none\" stroke=\"black\" stroke-width=\"0.04\" mask=\"url(#mask-b15d6f08-2e0f-4878-8bcb-f3f2471d56bb)\">\n",
       "      <line x1=\"16.49\" y1=\"1.91\" x2=\"15.78\" y2=\"2.33\"/>\n",
       "      <line x1=\"16.49\" y1=\"1.91\" x2=\"17.20\" y2=\"2.32\"/>\n",
       "      <line x1=\"17.17\" y1=\"2.27\" x2=\"17.89\" y2=\"1.86\"/>\n",
       "      <line x1=\"17.23\" y1=\"2.38\" x2=\"17.95\" y2=\"1.96\"/>\n",
       "      <line x1=\"17.20\" y1=\"2.32\" x2=\"17.20\" y2=\"3.15\"/>\n",
       "      <line x1=\"17.92\" y1=\"1.91\" x2=\"18.63\" y2=\"2.32\"/>\n",
       "      <line x1=\"18.69\" y1=\"2.32\" x2=\"18.69\" y2=\"3.15\"/>\n",
       "      <line x1=\"18.57\" y1=\"2.32\" x2=\"18.57\" y2=\"3.15\"/>\n",
       "      <line x1=\"18.63\" y1=\"3.15\" x2=\"17.92\" y2=\"3.56\"/>\n",
       "      <line x1=\"17.92\" y1=\"3.56\" x2=\"17.20\" y2=\"3.15\"/>\n",
       "      <line x1=\"17.23\" y1=\"3.20\" x2=\"16.52\" y2=\"3.61\"/>\n",
       "      <line x1=\"17.17\" y1=\"3.10\" x2=\"16.46\" y2=\"3.51\"/>\n",
       "    </g>\n",
       "    <g font-family=\"monospace\">\n",
       "      <g fill=\"#FF0D0D\" font-family=\"sans-serif\">\n",
       "        <text x=\"15.78\" y=\"2.33\" dx=\"-0.20\" dy=\"0.20\" font-size=\"0.50\">OH</text>\n",
       "      </g>\n",
       "      <g fill=\"#3050F8\" font-family=\"sans-serif\">\n",
       "        <text x=\"18.63\" y=\"3.15\" dx=\"-0.20\" dy=\"0.20\" font-size=\"0.50\">N</text>\n",
       "      </g>\n",
       "      <g fill=\"#3050F8\" font-family=\"sans-serif\">\n",
       "        <text x=\"17.92\" y=\"3.56\" dx=\"-0.20\" dy=\"0.20\" font-size=\"0.50\">NH</text>\n",
       "      </g>\n",
       "      <g fill=\"#FF0D0D\" font-family=\"sans-serif\">\n",
       "        <text x=\"16.49\" y=\"3.56\" dx=\"-0.20\" dy=\"0.20\" font-size=\"0.50\">O</text>\n",
       "      </g>\n",
       "    </g>\n",
       "  </g>\n",
       "  <g>\n",
       "<rect x=\"15.1750012826227\" y=\"-4.0125004809851825\" rx=\"0.33749999999997504\" ry=\"0.33749999999997504\" width=\"6.4499999999995\" height=\"3.3749999999997504\" stroke=\"black\" stroke-width=\".0025\" fill=\"#9BFAB3\" fill-opacity=\"0.30\"/>\n",
       "    <defs>\n",
       "      <mask id=\"mask-d16dd1f8-9858-413e-93ce-e9becfd3c1ff\">\n",
       "        <rect x=\"-0.62\" y=\"-4.44\" width=\"32.95\" height=\"8.88\" fill=\"white\"/>\n",
       "        <g fill=\"black\">\n",
       "          <ellipse cx=\"18.13\" cy=\"-2.74\" rx=\"0.3\" ry=\"0.2\"/>\n",
       "          <ellipse cx=\"18.13\" cy=\"-3.56\" rx=\"0.3\" ry=\"0.2\"/>\n",
       "        </g>\n",
       "        <g font-family=\"monospace\" stroke=\"black\">\n",
       "          <g font-family=\"sans-serif\" font-size=\"0.50\" stroke-width=\"0.05\">\n",
       "            <text x=\"18.25\" y=\"-2.74\" dx=\"-0.35\" dy=\"0.20\">Si</text>\n",
       "            <text x=\"18.25\" y=\"-3.56\" dx=\"-0.35\" dy=\"0.20\">Cl</text>\n",
       "          </g>\n",
       "        </g>\n",
       "      </mask>\n",
       "    </defs>\n",
       "    <g fill=\"none\" stroke=\"black\" stroke-width=\"0.04\" mask=\"url(#mask-d16dd1f8-9858-413e-93ce-e9becfd3c1ff)\">\n",
       "      <line x1=\"19.08\" y1=\"-2.74\" x2=\"18.25\" y2=\"-2.74\"/>\n",
       "      <line x1=\"19.08\" y1=\"-2.74\" x2=\"19.49\" y2=\"-2.02\"/>\n",
       "      <line x1=\"19.08\" y1=\"-2.74\" x2=\"19.49\" y2=\"-3.45\"/>\n",
       "      <line x1=\"18.25\" y1=\"-2.74\" x2=\"17.43\" y2=\"-2.74\"/>\n",
       "      <line x1=\"18.25\" y1=\"-2.74\" x2=\"18.25\" y2=\"-3.56\"/>\n",
       "      <line x1=\"18.25\" y1=\"-2.74\" x2=\"18.25\" y2=\"-1.91\"/>\n",
       "      <line x1=\"17.43\" y1=\"-2.74\" x2=\"17.01\" y2=\"-2.02\"/>\n",
       "      <line x1=\"17.43\" y1=\"-2.74\" x2=\"17.01\" y2=\"-3.45\"/>\n",
       "      <line x1=\"18.25\" y1=\"-1.91\" x2=\"17.47\" y2=\"-1.63\"/>\n",
       "      <line x1=\"18.25\" y1=\"-1.91\" x2=\"18.25\" y2=\"-1.09\"/>\n",
       "      <line x1=\"18.25\" y1=\"-1.91\" x2=\"19.03\" y2=\"-1.63\"/>\n",
       "      <line x1=\"17.01\" y1=\"-2.02\" x2=\"16.19\" y2=\"-2.02\"/>\n",
       "      <line x1=\"16.19\" y1=\"-2.02\" x2=\"15.78\" y2=\"-2.74\"/>\n",
       "      <line x1=\"15.78\" y1=\"-2.74\" x2=\"16.19\" y2=\"-3.45\"/>\n",
       "      <line x1=\"16.19\" y1=\"-3.45\" x2=\"17.01\" y2=\"-3.45\"/>\n",
       "      <line x1=\"19.49\" y1=\"-2.02\" x2=\"20.31\" y2=\"-2.02\"/>\n",
       "      <line x1=\"20.31\" y1=\"-2.02\" x2=\"20.73\" y2=\"-2.74\"/>\n",
       "      <line x1=\"20.73\" y1=\"-2.74\" x2=\"20.31\" y2=\"-3.45\"/>\n",
       "      <line x1=\"20.31\" y1=\"-3.45\" x2=\"19.49\" y2=\"-3.45\"/>\n",
       "      <line x1=\"19.24\" y1=\"-2.74\" x2=\"19.57\" y2=\"-2.16\" stroke-dasharray=\"0.15 0.05\"/>\n",
       "      <line x1=\"19.57\" y1=\"-2.16\" x2=\"20.23\" y2=\"-2.16\" stroke-dasharray=\"0.15 0.05\"/>\n",
       "      <line x1=\"20.23\" y1=\"-2.16\" x2=\"20.56\" y2=\"-2.74\" stroke-dasharray=\"0.15 0.05\"/>\n",
       "      <line x1=\"20.56\" y1=\"-2.74\" x2=\"20.23\" y2=\"-3.31\" stroke-dasharray=\"0.15 0.05\"/>\n",
       "      <line x1=\"20.23\" y1=\"-3.31\" x2=\"19.57\" y2=\"-3.31\" stroke-dasharray=\"0.15 0.05\"/>\n",
       "      <line x1=\"19.57\" y1=\"-3.31\" x2=\"19.24\" y2=\"-2.74\" stroke-dasharray=\"0.15 0.05\"/>\n",
       "      <line x1=\"17.26\" y1=\"-2.74\" x2=\"16.93\" y2=\"-2.16\" stroke-dasharray=\"0.15 0.05\"/>\n",
       "      <line x1=\"16.93\" y1=\"-2.16\" x2=\"16.27\" y2=\"-2.16\" stroke-dasharray=\"0.15 0.05\"/>\n",
       "      <line x1=\"16.27\" y1=\"-2.16\" x2=\"15.94\" y2=\"-2.74\" stroke-dasharray=\"0.15 0.05\"/>\n",
       "      <line x1=\"15.94\" y1=\"-2.74\" x2=\"16.27\" y2=\"-3.31\" stroke-dasharray=\"0.15 0.05\"/>\n",
       "      <line x1=\"16.27\" y1=\"-3.31\" x2=\"16.93\" y2=\"-3.31\" stroke-dasharray=\"0.15 0.05\"/>\n",
       "      <line x1=\"16.93\" y1=\"-3.31\" x2=\"17.26\" y2=\"-2.74\" stroke-dasharray=\"0.15 0.05\"/>\n",
       "    </g>\n",
       "    <g font-family=\"monospace\">\n",
       "      <g fill=\"#F0C8A0\" font-family=\"sans-serif\">\n",
       "        <text x=\"18.25\" y=\"-2.74\" dx=\"-0.35\" dy=\"0.20\" font-size=\"0.50\">Si</text>\n",
       "      </g>\n",
       "      <g fill=\"#1FF01F\" font-family=\"sans-serif\">\n",
       "        <text x=\"18.25\" y=\"-3.56\" dx=\"-0.35\" dy=\"0.20\" font-size=\"0.50\">Cl</text>\n",
       "      </g>\n",
       "    </g>\n",
       "  </g>\n",
       "  <g>\n",
       "<rect x=\"25.1250012826222\" y=\"-2.593413707457316\" rx=\"0.5186827414914632\" ry=\"0.5186827414914632\" width=\"6.722354661729948\" height=\"5.186827414914632\" stroke=\"black\" stroke-width=\".0025\" fill=\"#98EEFF\" fill-opacity=\"0.30\"/>\n",
       "    <defs>\n",
       "      <mask id=\"mask-5ad79f97-bdbb-49c8-b277-e63a07d7a1be\">\n",
       "        <rect x=\"-0.62\" y=\"-4.44\" width=\"32.95\" height=\"8.88\" fill=\"white\"/>\n",
       "        <g fill=\"black\">\n",
       "          <ellipse cx=\"27.25\" cy=\"-0.00\" rx=\"0.3\" ry=\"0.2\"/>\n",
       "          <circle cx=\"28.09\" cy=\"0.41\" r=\"0.20\"/>\n",
       "          <circle cx=\"30.95\" cy=\"1.24\" r=\"0.20\"/>\n",
       "          <circle cx=\"30.23\" cy=\"1.65\" r=\"0.20\"/>\n",
       "          <circle cx=\"28.80\" cy=\"1.65\" r=\"0.20\"/>\n",
       "        </g>\n",
       "        <g font-family=\"monospace\" stroke=\"black\">\n",
       "          <g font-family=\"sans-serif\" font-size=\"0.50\" stroke-width=\"0.05\">\n",
       "            <text x=\"27.38\" y=\"-0.00\" dx=\"-0.35\" dy=\"0.20\">Si</text>\n",
       "            <text x=\"28.09\" y=\"0.41\" dx=\"-0.20\" dy=\"0.20\">O</text>\n",
       "            <text x=\"30.95\" y=\"1.24\" dx=\"-0.20\" dy=\"0.20\">N</text>\n",
       "            <text x=\"30.23\" y=\"1.65\" dx=\"-0.20\" dy=\"0.20\">NH</text>\n",
       "            <text x=\"28.80\" y=\"1.65\" dx=\"-0.20\" dy=\"0.20\">O</text>\n",
       "          </g>\n",
       "        </g>\n",
       "      </mask>\n",
       "    </defs>\n",
       "    <g fill=\"none\" stroke=\"black\" stroke-width=\"0.04\" mask=\"url(#mask-5ad79f97-bdbb-49c8-b277-e63a07d7a1be)\">\n",
       "      <line x1=\"26.80\" y1=\"-1.22\" x2=\"26.66\" y2=\"-0.41\"/>\n",
       "      <line x1=\"26.66\" y1=\"-0.41\" x2=\"26.03\" y2=\"0.12\"/>\n",
       "      <line x1=\"26.66\" y1=\"-0.41\" x2=\"25.95\" y2=\"-0.82\"/>\n",
       "      <line x1=\"26.66\" y1=\"-0.41\" x2=\"27.38\" y2=\"-0.00\"/>\n",
       "      <line x1=\"27.38\" y1=\"-0.00\" x2=\"28.09\" y2=\"0.41\"/>\n",
       "      <line x1=\"27.38\" y1=\"-0.00\" x2=\"27.79\" y2=\"-0.71\"/>\n",
       "      <line x1=\"27.38\" y1=\"-0.00\" x2=\"26.96\" y2=\"0.71\"/>\n",
       "      <line x1=\"28.09\" y1=\"0.41\" x2=\"28.80\" y2=\"-0.00\"/>\n",
       "      <line x1=\"28.80\" y1=\"-0.00\" x2=\"29.52\" y2=\"0.41\"/>\n",
       "      <line x1=\"29.49\" y1=\"0.36\" x2=\"30.20\" y2=\"-0.05\"/>\n",
       "      <line x1=\"29.55\" y1=\"0.46\" x2=\"30.26\" y2=\"0.05\"/>\n",
       "      <line x1=\"29.52\" y1=\"0.41\" x2=\"29.52\" y2=\"1.24\"/>\n",
       "      <line x1=\"30.23\" y1=\"-0.00\" x2=\"30.95\" y2=\"0.41\"/>\n",
       "      <line x1=\"31.01\" y1=\"0.41\" x2=\"31.01\" y2=\"1.24\"/>\n",
       "      <line x1=\"30.89\" y1=\"0.41\" x2=\"30.89\" y2=\"1.24\"/>\n",
       "      <line x1=\"30.95\" y1=\"1.24\" x2=\"30.23\" y2=\"1.65\"/>\n",
       "      <line x1=\"30.23\" y1=\"1.65\" x2=\"29.52\" y2=\"1.24\"/>\n",
       "      <line x1=\"29.55\" y1=\"1.29\" x2=\"28.83\" y2=\"1.70\"/>\n",
       "      <line x1=\"29.49\" y1=\"1.19\" x2=\"28.77\" y2=\"1.60\"/>\n",
       "      <line x1=\"27.79\" y1=\"-0.71\" x2=\"27.37\" y2=\"-1.43\"/>\n",
       "      <line x1=\"27.79\" y1=\"-0.71\" x2=\"28.61\" y2=\"-0.71\"/>\n",
       "      <line x1=\"27.37\" y1=\"-1.43\" x2=\"27.79\" y2=\"-2.14\"/>\n",
       "      <line x1=\"27.79\" y1=\"-2.14\" x2=\"28.61\" y2=\"-2.14\"/>\n",
       "      <line x1=\"28.61\" y1=\"-2.14\" x2=\"29.02\" y2=\"-1.43\"/>\n",
       "      <line x1=\"29.02\" y1=\"-1.43\" x2=\"28.61\" y2=\"-0.71\"/>\n",
       "      <line x1=\"26.96\" y1=\"0.71\" x2=\"27.38\" y2=\"1.43\"/>\n",
       "      <line x1=\"26.96\" y1=\"0.71\" x2=\"26.14\" y2=\"0.71\"/>\n",
       "      <line x1=\"27.38\" y1=\"1.43\" x2=\"26.96\" y2=\"2.14\"/>\n",
       "      <line x1=\"26.96\" y1=\"2.14\" x2=\"26.14\" y2=\"2.14\"/>\n",
       "      <line x1=\"26.14\" y1=\"2.14\" x2=\"25.73\" y2=\"1.43\"/>\n",
       "      <line x1=\"25.73\" y1=\"1.43\" x2=\"26.14\" y2=\"0.71\"/>\n",
       "      <line x1=\"26.88\" y1=\"0.85\" x2=\"27.21\" y2=\"1.43\" stroke-dasharray=\"0.15 0.05\"/>\n",
       "      <line x1=\"27.21\" y1=\"1.43\" x2=\"26.88\" y2=\"2.00\" stroke-dasharray=\"0.15 0.05\"/>\n",
       "      <line x1=\"26.88\" y1=\"2.00\" x2=\"26.22\" y2=\"2.00\" stroke-dasharray=\"0.15 0.05\"/>\n",
       "      <line x1=\"26.22\" y1=\"2.00\" x2=\"25.89\" y2=\"1.43\" stroke-dasharray=\"0.15 0.05\"/>\n",
       "      <line x1=\"25.89\" y1=\"1.43\" x2=\"26.22\" y2=\"0.85\" stroke-dasharray=\"0.15 0.05\"/>\n",
       "      <line x1=\"26.22\" y1=\"0.85\" x2=\"26.88\" y2=\"0.85\" stroke-dasharray=\"0.15 0.05\"/>\n",
       "      <line x1=\"27.87\" y1=\"-0.85\" x2=\"27.54\" y2=\"-1.43\" stroke-dasharray=\"0.15 0.05\"/>\n",
       "      <line x1=\"27.54\" y1=\"-1.43\" x2=\"27.87\" y2=\"-2.00\" stroke-dasharray=\"0.15 0.05\"/>\n",
       "      <line x1=\"27.87\" y1=\"-2.00\" x2=\"28.53\" y2=\"-2.00\" stroke-dasharray=\"0.15 0.05\"/>\n",
       "      <line x1=\"28.53\" y1=\"-2.00\" x2=\"28.86\" y2=\"-1.43\" stroke-dasharray=\"0.15 0.05\"/>\n",
       "      <line x1=\"28.86\" y1=\"-1.43\" x2=\"28.53\" y2=\"-0.85\" stroke-dasharray=\"0.15 0.05\"/>\n",
       "      <line x1=\"28.53\" y1=\"-0.85\" x2=\"27.87\" y2=\"-0.85\" stroke-dasharray=\"0.15 0.05\"/>\n",
       "    </g>\n",
       "    <g font-family=\"monospace\">\n",
       "      <g fill=\"#F0C8A0\" font-family=\"sans-serif\">\n",
       "        <text x=\"27.38\" y=\"-0.00\" dx=\"-0.35\" dy=\"0.20\" font-size=\"0.50\">Si</text>\n",
       "      </g>\n",
       "      <g fill=\"#FF0D0D\" font-family=\"sans-serif\">\n",
       "        <text x=\"28.09\" y=\"0.41\" dx=\"-0.20\" dy=\"0.20\" font-size=\"0.50\">O</text>\n",
       "      </g>\n",
       "      <g fill=\"#3050F8\" font-family=\"sans-serif\">\n",
       "        <text x=\"30.95\" y=\"1.24\" dx=\"-0.20\" dy=\"0.20\" font-size=\"0.50\">N</text>\n",
       "      </g>\n",
       "      <g fill=\"#3050F8\" font-family=\"sans-serif\">\n",
       "        <text x=\"30.23\" y=\"1.65\" dx=\"-0.20\" dy=\"0.20\" font-size=\"0.50\">NH</text>\n",
       "      </g>\n",
       "      <g fill=\"#FF0D0D\" font-family=\"sans-serif\">\n",
       "        <text x=\"28.80\" y=\"1.65\" dx=\"-0.20\" dy=\"0.20\" font-size=\"0.50\">O</text>\n",
       "      </g>\n",
       "    </g>\n",
       "  </g>\n",
       "</svg>"
      ],
      "text/plain": [
       "<IPython.core.display.SVG object>"
      ]
     },
     "metadata": {},
     "output_type": "display_data"
    }
   ],
   "source": [
    "for n, node_id in enumerate(tree.winning_nodes):\n",
    "    print(\n",
    "        f\"-------- Path starts from node #{node_id} with total route score {tree.route_score(node_id)} --------\"\n",
    "    )\n",
    "    display(SVG(get_route_svg(tree, node_id)))\n",
    "    if n == 3:\n",
    "        break"
   ]
  }
 ],
 "metadata": {
  "kernelspec": {
   "display_name": "syntool",
   "language": "python",
   "name": "syntool"
  },
  "language_info": {
   "codemirror_mode": {
    "name": "ipython",
    "version": 3
   },
   "file_extension": ".py",
   "mimetype": "text/x-python",
   "name": "python",
   "nbconvert_exporter": "python",
   "pygments_lexer": "ipython3",
   "version": "3.10.14"
  }
 },
 "nbformat": 4,
 "nbformat_minor": 5
}
