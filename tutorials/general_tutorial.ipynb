{
 "cells": [
  {
   "cell_type": "markdown",
   "id": "15da330e-122c-4f2d-82bc-8a684a7bed90",
   "metadata": {},
   "source": [
    "# Tutorial on Syntool from data to planning"
   ]
  },
  {
   "cell_type": "markdown",
   "id": "d45d8148-e926-4faa-a018-abe1fac451c2",
   "metadata": {},
   "source": [
    "## Introduction to the Syntool Tutorial\n",
    "\n",
    "Welcome to the Syntool tutorial, a detailed guide on utilizing a sophisticated retrosynthesis planning tool that combines Monte Carlo Tree Search (MCTS) with neural networks. This tutorial is designed for synthetic chemists and chemoinformaticians looking to deepen their understanding and application of Syntool in their work.\n",
    "\n",
    "## Understanding Syntool\n",
    "Syntool is a tool developed to enhance the efficiency of retrosynthetic analysis in chemical synthesis. It provides insights into possible synthetic pathways for target molecules, leveraging the power of MCTS and neural networks to streamline this process.\n",
    "\n",
    "## Tutorial's Focus\n",
    "This tutorial is specifically designed to provide a rapid overview of Syntool's basic functionalities, focusing on a simple yet common setup in retrosynthesis tools. We will delve into the implementation of a ranking policy network and the rollout evaluation function, akin to those used in popular tools such as 3N-MCTS and AiZynthFinder.\n",
    "\n",
    "## Tutorial Structure\n",
    "1. **Handling Reaction Data**: Techniques for processing reaction data effectively for retrosynthesis.\n",
    "2. **Deriving Reaction Rules**: Strategies for extracting valuable rules from reaction data.\n",
    "3. **Neural Network Training for Reaction Ranking**: Steps to train neural networks to identify feasible synthetic pathways.\n",
    "4. **Practical Use of MCTS in Retrosynthesis**: Insights into how MCTS aids in decision-making in retrosynthetic analysis.\n",
    "\n",
    "## Prerequisites\n",
    "- **Knowledge Base**: A good understanding of synthetic chemistry and basic principles of machine learning is expected.\n",
    "- **Technical Requirements**: Familiarity with Python and its relevant libraries, which will be covered in the tutorial."
   ]
  },
  {
   "cell_type": "markdown",
   "id": "f3a3a4e8-1590-4b51-86a5-f8cff7b08554",
   "metadata": {},
   "source": [
    "## 0. General imports"
   ]
  },
  {
   "cell_type": "code",
   "execution_count": 1,
   "id": "8f8e6d79-ef07-4dd1-8979-b514d4a5e78e",
   "metadata": {},
   "outputs": [],
   "source": [
    "from pathlib import Path  # needed for paths validations in this tutorial"
   ]
  },
  {
   "cell_type": "code",
   "execution_count": 2,
   "id": "c292f9d5-602a-4647-8340-332bf8a541b1",
   "metadata": {},
   "outputs": [],
   "source": [
    "root_folder = \".\"  # replace this path where you want to keep all your results\n",
    "root_folder = Path(root_folder).resolve(strict=True)"
   ]
  },
  {
   "cell_type": "markdown",
   "id": "29abf54c-d4c9-4457-b55e-8c00e0919118",
   "metadata": {},
   "source": [
    "## 1. Reaction data filtration"
   ]
  },
  {
   "cell_type": "markdown",
   "id": "e722673d-dd10-468e-9493-48dac1743ee1",
   "metadata": {},
   "source": [
    "In Syntool, reaction data filtration is a crucial step to ensure the quality and accuracy of the data used for retrosynthesis analysis. The USPTO dataset, a standardized but unfiltered collection of reaction records, serves as the primary data source. However, this dataset may contain records with no reaction center or atom-to-atom mapping errors. To address this, we apply several filters:\n",
    "\n",
    "1. **No Reaction Filter**: Removes reactions with identical reactants and products.\n",
    "2. **Small Molecules Filter**: Excludes reactions where all reactants and products have ≤ specified number of heavy atoms.\n",
    "3. **Reaction Distance Filter**: Discards reactions with more than specified changed bonds.\n",
    "4. **Multi-Centre Reaction Filter**: Eliminates records with multiple reaction centers.\n",
    "5. **Csp3-C Breaking Filter**: Removes reactions where a bond between two sp3 carbons is broken, indicating potential mapping errors.\n",
    "6. **C-C Ring Breaking Filter**: Filters out reactions breaking a bond between two carbons in the same ring (sizes 5, 6, or 7), identified using the SSSR algorithm.\n",
    "7. **C-H Breaking Filter**: Removes reactions breaking a C-H bond to form a C-C bond, with exceptions for condensation reactions or those involving carbenes.\n",
    "\n",
    "The `ReactionCheckConfig` class in Syntool manages the configuration settings for these filters. It includes paths, file formats, checker-specific parameters, and a range of options to tailor the filtration process to specific requirements. This step is vital to ensure that the data fed into the retrosynthesis model is reliable and accurate.\n"
   ]
  },
  {
   "cell_type": "markdown",
   "id": "8e9c3d25-0103-496f-9cd6-de05891474f8",
   "metadata": {},
   "source": [
    "First of all we have to import main config class called `ReactionCheckConfig`, function for filtering `filter_reactions` and configuration classes of filters that we want to apply to the input reaction data"
   ]
  },
  {
   "cell_type": "code",
   "execution_count": 3,
   "id": "3cc6cbf3-db8b-4a68-8e84-4e56350d1b66",
   "metadata": {},
   "outputs": [],
   "source": [
    "# folder for reaction data filtration\n",
    "filtered_data_path = root_folder.joinpath(\"filtered_data\")\n",
    "filtered_data_path.mkdir(exist_ok=True)"
   ]
  },
  {
   "cell_type": "code",
   "execution_count": 4,
   "id": "2431d2d0-4f74-4e4f-aa89-d7dd5f810d3b",
   "metadata": {},
   "outputs": [],
   "source": [
    "from Syntool.chem.data.filtering import (\n",
    "    filter_reactions,\n",
    "    ReactionCheckConfig,\n",
    "    CCRingBreakingConfig,\n",
    "    WrongCHBreakingConfig,\n",
    "    CCsp3BreakingConfig,\n",
    "    DynamicBondsConfig,\n",
    "    MultiCenterConfig,\n",
    "    NoReactionConfig,\n",
    "    SmallMoleculesConfig,\n",
    ")"
   ]
  },
  {
   "cell_type": "code",
   "execution_count": 5,
   "id": "33dad270-73b0-4605-a256-357a4d4c9154",
   "metadata": {},
   "outputs": [],
   "source": [
    "# you have to download standardized USPTO yourself or to put your path to the reaction database\n",
    "uspto_path = Path(\"uspto_cleaned.rdf\").resolve(strict=True)"
   ]
  },
  {
   "cell_type": "markdown",
   "id": "c8e6717c-8886-46e0-ac00-be0cf211cca8",
   "metadata": {},
   "source": [
    "### Setting Up the Filtration Configuration\n",
    "\n",
    "Once we've established the importance of filtering our reaction data, the next step is to configure the filtration process. We do this using the `ReactionCheckConfig` class in Syntool. This class allows us to specify various parameters and settings for our filtration process. Let's break down what each line in our configuration setup does:"
   ]
  },
  {
   "cell_type": "code",
   "execution_count": 6,
   "id": "6d5e4a23-e800-4f03-ba46-e3cb3737dc4d",
   "metadata": {},
   "outputs": [
    {
     "data": {
      "text/plain": [
       "ReactionCheckConfig(dynamic_bonds_config=DynamicBondsConfig(min_bonds_number=1, max_bonds_number=6), small_molecules_config=SmallMoleculesConfig(limit=6), strange_carbons_config=None, compete_products_config=None, cgr_connected_components_config=None, rings_change_config=None, no_reaction_config=NoReactionConfig(), multi_center_config=MultiCenterConfig(), wrong_ch_breaking_config=WrongCHBreakingConfig(), cc_sp3_breaking_config=CCsp3BreakingConfig(), cc_ring_breaking_config=CCRingBreakingConfig(), rebalance_reaction=False, remove_reagents=True, reagents_max_size=7, remove_small_molecules=False, small_molecules_max_size=6)"
      ]
     },
     "execution_count": 6,
     "metadata": {},
     "output_type": "execute_result"
    }
   ],
   "source": [
    "filtration_config = ReactionCheckConfig(\n",
    "    remove_small_molecules=False,  # Flag to determine whether to remove small molecules.\n",
    "    small_molecules_config=SmallMoleculesConfig(\n",
    "        limit=6  # Setting the heavy atoms limit for the small molecules filter.\n",
    "    ),\n",
    "    dynamic_bonds_config=DynamicBondsConfig(\n",
    "        min_bonds_number=1,  # Minimum number of dynamic bonds for a reaction to be considered.\n",
    "        max_bonds_number=6  # Maximum number of dynamic bonds.\n",
    "    ),\n",
    "    no_reaction_config=NoReactionConfig(),  # Configuration for the 'no reaction' filter.\n",
    "    multi_center_config=MultiCenterConfig(),  # Configuration for the 'multi-center reaction' filter.\n",
    "    wrong_ch_breaking_config=WrongCHBreakingConfig(),  # Configuration for the 'C-H breaking' filter.\n",
    "    cc_sp3_breaking_config=CCsp3BreakingConfig(),  # Configuration for the 'Csp3-C breaking' filter.\n",
    "    cc_ring_breaking_config=CCRingBreakingConfig()  # Configuration for the 'C-C ring breaking' filter.\n",
    ")\n",
    "filtration_config"
   ]
  },
  {
   "cell_type": "markdown",
   "id": "af490595-5444-4b4c-89df-6f26a21f6fa4",
   "metadata": {},
   "source": [
    "By setting up `filtration_config`, we are essentially telling Syntool what filters to apply and how to apply them. This step is crucial for ensuring that the data we use for further analysis is as accurate and reliable as possible. The filters we apply here are based on the specific needs of our analysis and the characteristics of the USPTO dataset.\n",
    "\n",
    "Once this configuration is in place, we can proceed to apply these filters to our reaction data:"
   ]
  },
  {
   "cell_type": "code",
   "execution_count": 7,
   "id": "507f6afd-9809-4f56-8621-6a624357f4aa",
   "metadata": {},
   "outputs": [
    {
     "name": "stderr",
     "output_type": "stream",
     "text": [
      "2024-01-08 21:58:15,312\tINFO worker.py:1673 -- Started a local Ray instance.\n"
     ]
    },
    {
     "data": {
      "application/json": {
       "ascii": false,
       "bar_format": null,
       "colour": null,
       "elapsed": 0.014995813369750977,
       "initial": 0,
       "n": 0,
       "ncols": null,
       "nrows": 24,
       "postfix": null,
       "prefix": "",
       "rate": null,
       "total": 989947,
       "unit": "it",
       "unit_divisor": 1000,
       "unit_scale": false
      },
      "application/vnd.jupyter.widget-view+json": {
       "model_id": "87b19e32f2a34157bb20721c139a2548",
       "version_major": 2,
       "version_minor": 0
      },
      "text/plain": [
       "  0%|          | 0/989947 [00:00<?, ?it/s]"
      ]
     },
     "metadata": {},
     "output_type": "display_data"
    }
   ],
   "source": [
    "filter_reactions(\n",
    "    config=filtration_config,\n",
    "    reaction_database_path=uspto_path,  # The path to our reaction database file.\n",
    "    result_directory_path=filtered_data_path,  # Directory where the results will be stored.\n",
    "    result_reactions_file_name='clean_reactions',  # File name for reactions that pass the filters.\n",
    "    filtered_reactions_file_name='removed_reactions',  # File name for reactions that are filtered out.\n",
    "    output_files_format=\"rdf\",  # The format of the output files.\n",
    "    num_cpus=6,  # Number of CPUs to use for processing.\n",
    "    batch_size=100,  # The number of reactions processed in each batch.\n",
    ")"
   ]
  },
  {
   "cell_type": "markdown",
   "id": "cbbc5add-1108-49d8-bbcf-d31fe9d57df2",
   "metadata": {},
   "source": [
    "## 2. Reaction rules extraction"
   ]
  },
  {
   "cell_type": "code",
   "execution_count": 8,
   "id": "677fd408-150b-4a9f-a295-796fd26b772c",
   "metadata": {},
   "outputs": [],
   "source": [
    "# folder for reaction data filtration\n",
    "reaction_rules_path = root_folder.joinpath(\"reaction_rules\")\n",
    "reaction_rules_path.mkdir(exist_ok=True)"
   ]
  },
  {
   "cell_type": "code",
   "execution_count": 9,
   "id": "838f6bfa-9c1a-4b56-9c74-3cadd94cbaca",
   "metadata": {},
   "outputs": [],
   "source": [
    "# verifying that the cleaned reaction data exists:\n",
    "reaction_file = root_folder.joinpath(\"filtered_data/clean_reactions.rdf\")\n",
    "reaction_file = reaction_file.resolve(strict=True)"
   ]
  },
  {
   "cell_type": "code",
   "execution_count": 10,
   "id": "5ca2b31d-0f4e-41a6-b888-c802927fbfc4",
   "metadata": {},
   "outputs": [],
   "source": [
    "from Syntool.chem.reaction_rules.extraction import ExtractRuleConfig, extract_rules_from_reactions"
   ]
  },
  {
   "cell_type": "markdown",
   "id": "1cc434cb-d3af-4da6-a6d1-a649a6df2297",
   "metadata": {},
   "source": [
    "After filtering the reaction data, the next crucial step in Syntool is the extraction of reaction rules. This process is vital for retrosynthetic analysis, as it defines the patterns and transformations that can be applied to synthesize target molecules.\n",
    "\n",
    "#### The Extraction Protocol\n",
    "The protocol for extracting reaction rules from reactions in Synto utilizes the CGRtools Python library. This procedure involves the following steps:\n",
    "1. **Substructure Extraction**: For each reactant and product in a given reaction, substructures containing the atoms of the reaction center and their immediate environment are extracted.\n",
    "2. **Substructure Exchange**: The reactant and product substructures are then exchanged.\n",
    "3. **Reagents Handling**: If the reaction includes reagents, they are not incorporated into the retro-rule.\n",
    "4. **Label Preservation**: All labels related to the atoms of the reaction center, such as hybridization, the number of neighbors, and the ring sizes in which the atoms participate, are preserved. For atoms in the first environment, only the sizes of rings are preserved.\n",
    "\n",
    "A retrosynthetic transformation (reaction rules) formed by this protocol is applied to the product of the original reaction. If it successfully generates the reactants of the reaction, the rule is considered valid.\n",
    "\n",
    "#### Configuring Rule Extraction\n",
    "The `ExtractRuleConfig` class in Syntool allows for the fine-tuning of how reaction rules are extracted. Key parameters of this class include:\n",
    "\n",
    "- **multicenter_rules**: Determines whether a single rule is extracted for all centers in multicenter reactions (`True`) or if separate rules are generated for each center (`False`). Default is `True`.\n",
    "- **as_query_container**: When set to `True`, the extracted rules are formatted as `QueryContainer` objects, similar to SMARTS for chemical pattern matching. Default is `True`.\n",
    "- **reverse_rule**: If `True`, the direction of the reaction is reversed during rule extraction, which is useful for retrosynthesis. Default is `True`.\n",
    "- **reactor_validation**: Activates the validation of each generated rule in a chemical reactor to confirm accurate generation of products from reactants when set to `True`. Default is `True`.\n",
    "- **include_func_groups**: If `True`, specific functional groups are included in the reaction rule in addition to the reaction center and its environment. Default is `False`.\n",
    "- **func_groups_list**: Specifies a list of functional groups to be included when `include_func_groups` is `True`.\n",
    "- **include_rings**: Includes ring structures in the reaction rules connected to the reaction center atoms if set to `True`. Default is `False`.\n",
    "- **keep_leaving_groups**: Keeps the leaving groups in the extracted reaction rule when set to `True`. Default is `False`.\n",
    "- **keep_incoming_groups**: Retains incoming groups in the extracted reaction rule if set to `True`. Default is `False`.\n",
    "- **keep_reagents**: Includes reagents in the extracted reaction rule when `True`. Default is `False`.\n",
    "- **environment_atom_count**: Sets the number of layers of atoms around the reaction center to be included in the rule. A value of `0` includes only the reaction center, `1` includes the first surrounding layer, and so on. Default is `1`.\n",
    "- **min_popularity**: Establishes the minimum number of times a rule must be applied to be included in further analysis. Default is `3`.\n",
    "- **keep_metadata**: Preserves associated metadata with the reaction in the extracted rule when set to `True`. Default is `False`.\n",
    "- **single_reactant_only**: Limits the extracted rules to those with only a single reactant molecule if `True`. Default is `True`.\n",
    "- **atom_info_retention**: Dictates the level of detail retained about atoms in the reaction center and their environment. Default settings retain information about neighbors, hybridization, implicit hydrogens, and ring sizes for both the reaction center and its environment. Default settings:\n",
    "    ```python\n",
    "    \n",
    "    {\n",
    "        \"reaction_center\": {\n",
    "            \"neighbors\": True,\n",
    "            \"hybridization\": True,\n",
    "            \"implicit_hydrogens\": True,\n",
    "            \"ring_sizes\": True,\n",
    "        },\n",
    "        \"environment\": {\n",
    "            \"neighbors\": True,\n",
    "            \"hybridization\": True,\n",
    "            \"implicit_hydrogens\": True,\n",
    "            \"ring_sizes\": True,\n",
    "        },\n",
    "    }\n",
    "    ```\n",
    "\n",
    "These settings are crucial for tailoring the rule extraction process to the specific needs of the retrosynthesis analysis, ensuring that the rules are both accurate and relevant."
   ]
  },
  {
   "cell_type": "markdown",
   "id": "1e750f5d-e0b1-4f9b-b054-9658e4e4350e",
   "metadata": {},
   "source": [
    "#### Example Configuration\n",
    "Here's an example of setting up the `ExtractRuleConfig` for a specific use case:"
   ]
  },
  {
   "cell_type": "code",
   "execution_count": 11,
   "id": "0e1a6557-2532-48b8-8d41-3fe842665353",
   "metadata": {},
   "outputs": [
    {
     "data": {
      "text/plain": [
       "ExtractRuleConfig(multicenter_rules=True, as_query_container=True, reverse_rule=True, reactor_validation=True, include_func_groups=False, func_groups_list=[], include_rings=False, keep_leaving_groups=True, keep_incoming_groups=False, keep_reagents=False, environment_atom_count=1, min_popularity=3, keep_metadata=False, single_reactant_only=True, atom_info_retention={'reaction_center': {'neighbors': True, 'hybridization': True, 'implicit_hydrogens': False, 'ring_sizes': False}, 'environment': {'neighbors': True, 'hybridization': False, 'implicit_hydrogens': False, 'ring_sizes': False}})"
      ]
     },
     "execution_count": 11,
     "metadata": {},
     "output_type": "execute_result"
    }
   ],
   "source": [
    "extraction_config = ExtractRuleConfig(\n",
    "    keep_leaving_groups=True,\n",
    "    atom_info_retention = {\n",
    "        \"reaction_center\": {\n",
    "            \"neighbors\": True,  # Retains information about neighboring atoms to the reaction center.\n",
    "            \"hybridization\": True,  # Preserves the hybridization state of atoms at the reaction center.\n",
    "            \"implicit_hydrogens\": False,  # Includes data on implicit hydrogen atoms attached to the reaction center.\n",
    "            \"ring_sizes\": False,  # Keeps information about the sizes of rings that reaction center atoms are part of.\n",
    "        },\n",
    "        \"environment\": {\n",
    "            \"neighbors\": True,  # Retains information about neighboring atoms to the atoms in the environment of the reaction center.\n",
    "            \"hybridization\": False,  # Preserves the hybridization state of atoms in the environment.\n",
    "            \"implicit_hydrogens\": False,  # Includes data on implicit hydrogen atoms attached to atoms in the environment.\n",
    "            \"ring_sizes\": False,  # Keeps information about the sizes of rings that environment atoms are part of.\n",
    "        },\n",
    "    }\n",
    ")\n",
    "extraction_config"
   ]
  },
  {
   "cell_type": "markdown",
   "id": "aa7ef87b-cc51-4d60-8e9d-4ce52da93e3f",
   "metadata": {},
   "source": [
    "This setup, for instance, retains leaving groups and specifies the level of detail for atom information retention around the reaction center. Each parameter in `ExtractRuleConfig` is designed to give users the flexibility to optimize rule extraction according to their requirements."
   ]
  },
  {
   "cell_type": "markdown",
   "id": "00b07164-9a81-4b64-a744-f814ec313de9",
   "metadata": {},
   "source": [
    "### Extracting Reaction Rules Using `extract_rules_from_reactions`\n",
    "\n",
    "After configuring the rule extraction settings in Synto, the next step is to apply these configurations to extract reaction rules from our dataset. This is achieved using the `extract_rules_from_reactions` function. Here's a breakdown of the function call in the tutorial:"
   ]
  },
  {
   "cell_type": "code",
   "execution_count": 12,
   "id": "e42f25c1-f169-479f-9699-0d97815482ab",
   "metadata": {},
   "outputs": [
    {
     "data": {
      "application/json": {
       "ascii": false,
       "bar_format": null,
       "colour": null,
       "elapsed": 0.00571441650390625,
       "initial": 0,
       "n": 0,
       "ncols": null,
       "nrows": 24,
       "postfix": null,
       "prefix": "",
       "rate": null,
       "total": 41530,
       "unit": "it",
       "unit_divisor": 1000,
       "unit_scale": false
      },
      "application/vnd.jupyter.widget-view+json": {
       "model_id": "fbf4bdc226fb4a7da0eabbfc0877b095",
       "version_major": 2,
       "version_minor": 0
      },
      "text/plain": [
       "  0%|          | 0/41530 [00:00<?, ?it/s]"
      ]
     },
     "metadata": {},
     "output_type": "display_data"
    }
   ],
   "source": [
    "extract_rules_from_reactions(\n",
    "    config=extraction_config,  # The configuration settings for rule extraction.\n",
    "    reaction_file=reaction_file,  # Path to the file containing the reaction database.\n",
    "    results_root=reaction_rules_path,  # Directory where the extracted rule results will be stored.\n",
    "    rules_file_name=\"uspto_rules\",  # Name of the file to store the extracted rules.\n",
    "    num_cpus=6,  # Number of CPU cores to use for processing (set to 6 for parallel processing).\n",
    "    batch_size=100,  # Number of reactions to process in each batch (larger batch size for efficiency).\n",
    ")"
   ]
  },
  {
   "cell_type": "markdown",
   "id": "1c8b260c-27c9-439d-8ae6-5a6c4b4f2c62",
   "metadata": {},
   "source": [
    "#### Understanding the Parameters\n",
    "\n",
    "1. **config**: Passes the `extraction_config` object, which contains all the rule extraction settings we defined earlier. This configures how the rules are extracted from the reaction data.\n",
    "\n",
    "2. **reaction_file**: Specifies the location of the reaction database file. The reactions in this file will be used to extract the rules.\n",
    "\n",
    "3. **results_root**: Determines the directory where the results, i.e., the extracted rules, will be saved. In this case, they'll be stored in a folder named \"rules/\".\n",
    "\n",
    "4. **rules_file_name**: Sets the name of the file where the extracted rules will be written. Here, it's named \"reaction_rules\".\n",
    "\n",
    "5. **num_cpus**: Indicates the number of CPU cores to use for processing. Setting this to 6 allows for parallel processing, making the extraction process faster and more efficient.\n",
    "\n",
    "6. **batch_size**: Defines the number of reactions to be processed in each batch. A batch size of 100 is chosen to strike a balance between processing speed and memory usage.\n",
    "\n",
    "#### The Extraction Process\n",
    "\n",
    "The `extract_rules_from_reactions` function initiates a process that goes through each reaction in the provided database, applying the configured rules to extract relevant information. The function utilizes a Ray environment for distributed computing, allowing it to handle reactions in batches and parallelize the rule extraction process. This approach not only enhances efficiency but also scales well with large datasets.\n",
    "\n",
    "Once the rules are extracted, they are written to RDF files. Additionally, the function sorts the rules based on their popularity and saves this sorted list, providing a valuable resource for retrosynthesis analysis."
   ]
  },
  {
   "cell_type": "markdown",
   "id": "20e55911-23de-410e-b242-d0e95e36314e",
   "metadata": {},
   "source": [
    "## 3. Ranking policy training"
   ]
  },
  {
   "cell_type": "code",
   "execution_count": 13,
   "id": "f47e25c6-e27b-4388-8112-ee89497646b7",
   "metadata": {},
   "outputs": [],
   "source": [
    "# folder for storing policy network training results\n",
    "policy_network_root = root_folder.joinpath(\"ranking_policy\")\n",
    "policy_network_root.mkdir(exist_ok=True)"
   ]
  },
  {
   "cell_type": "code",
   "execution_count": 14,
   "id": "5d8d1311-70e9-48ed-9cdc-a47b8a69b73c",
   "metadata": {},
   "outputs": [],
   "source": [
    "# folder for storing policy network training results\n",
    "datamodule_tmp_path = policy_network_root.joinpath(\"tmp\")\n",
    "datamodule_tmp_path.mkdir(exist_ok=True)"
   ]
  },
  {
   "cell_type": "code",
   "execution_count": 15,
   "id": "8ee72454-9579-46cc-858c-d84fcad4471f",
   "metadata": {},
   "outputs": [],
   "source": [
    "# verifying that all data exist:\n",
    "reaction_rules_path = root_folder.joinpath(\"reaction_rules/uspto_rules_filtered.pickle\").resolve(strict=True)\n",
    "molecules_or_reactions_path = root_folder.joinpath(\"filtered_data/clean_reactions.rdf\").resolve(strict=True)"
   ]
  },
  {
   "cell_type": "code",
   "execution_count": 16,
   "id": "58321d6c-9a13-44b7-bd74-4985c041228f",
   "metadata": {},
   "outputs": [],
   "source": [
    "from Syntool.utils.config import PolicyNetworkConfig\n",
    "from Syntool.ml.training.supervised import create_policy_dataset, run_policy_training"
   ]
  },
  {
   "cell_type": "markdown",
   "id": "824d313f-d5ee-461b-82c8-e6a8225c18c9",
   "metadata": {},
   "source": [
    "### Ranking Policy Training in Syntool\n",
    "\n",
    "After extracting the reaction rules, the next crucial step in Syntool involves training a ranking policy. This policy is a neural network designed to rank retrosynthetic transformations (or retro-rules) based on their suitability for a given reaction. Let's explore this process and the corresponding code in the tutorial.\n",
    "\n",
    "#### Overview of the Ranking Policy\n",
    "\n",
    "The ranking policy typically employs a supervised neural network trained on molecular representations like Morgan fingerprints or molecular graphs. The network is trained to perform multi-class classification where, for a given reaction:\n",
    "- The retro-rule extracted from that reaction is assigned as the positive class.\n",
    "- All other retro-rules extracted from the reaction database are assigned as negative classes.\n",
    "\n",
    "This approach biases the network to prioritize transformations that are likely to produce reactions similar to real ones, even without specific reaction conditions. However, it's important to note that reaction databases reflect historical data, and some useful rules might be underrepresented.\n",
    "\n",
    "#### Setting Up the Training Configuration\n",
    "\n",
    "First, we define the training configuration using the `PolicyNetworkConfig` class. This configuration includes various hyperparameters for the neural network:"
   ]
  },
  {
   "cell_type": "code",
   "execution_count": 17,
   "id": "ffdb63c6-7ef0-4b54-b769-45b0c3dac5ea",
   "metadata": {},
   "outputs": [],
   "source": [
    "training_config = PolicyNetworkConfig(\n",
    "    batch_size=500,  # The size of each batch of data.\n",
    "    dropout=0.4,  # Dropout rate for regularization.\n",
    "    learning_rate=0.0008,  # Learning rate for the training process.\n",
    "    num_conv_layers=5,  # Number of convolutional layers in the network.\n",
    "    num_epoch=100,  # Number of epochs for training.\n",
    "    vector_dim=256,  # Dimensionality of the feature vectors.\n",
    "    policy_type='ranking',  # The mode of operation, set to 'ranking'.\n",
    ")"
   ]
  },
  {
   "cell_type": "markdown",
   "id": "f0c7e80f-0d1f-43f4-ba19-2f793a184913",
   "metadata": {},
   "source": [
    "#### Creating the Policy Dataset\n",
    "\n",
    "Next, we create the policy dataset using the `create_policy_dataset` function. This involves specifying paths to the reaction rules and the reaction data:"
   ]
  },
  {
   "cell_type": "code",
   "execution_count": 18,
   "id": "dd97d645-6914-49ea-b444-6128646b6907",
   "metadata": {},
   "outputs": [
    {
     "name": "stdout",
     "output_type": "stream",
     "text": [
      "Training set size: 22648, validation set size: 5662\n"
     ]
    }
   ],
   "source": [
    "datamodule = create_policy_dataset(\n",
    "    reaction_rules_path = reaction_rules_path,\n",
    "    molecules_or_reactions_path = molecules_or_reactions_path,\n",
    "    output_path = datamodule_tmp_path.joinpath(\"uspto.pt\"),\n",
    "    dataset_type = training_config.policy_type,\n",
    "    batch_size = training_config.batch_size,\n",
    ")"
   ]
  },
  {
   "cell_type": "markdown",
   "id": "a443ea52-884e-4586-a437-96f6fc473532",
   "metadata": {},
   "source": [
    "#### Running the Policy Training\n",
    "\n",
    "Finally, we train the policy network using the `run_policy_training` function. This step involves feeding the dataset and the training configuration into the network:"
   ]
  },
  {
   "cell_type": "code",
   "execution_count": 19,
   "id": "326cb7c0-36e3-4fbe-b739-e4d913b3194f",
   "metadata": {},
   "outputs": [
    {
     "name": "stderr",
     "output_type": "stream",
     "text": [
      "GPU available: True (cuda), used: True\n",
      "TPU available: False, using: 0 TPU cores\n",
      "IPU available: False, using: 0 IPUs\n",
      "HPU available: False, using: 0 HPUs\n",
      "LOCAL_RANK: 0 - CUDA_VISIBLE_DEVICES: [0]\n",
      "\n",
      "  | Name        | Type           | Params\n",
      "-----------------------------------------------\n",
      "0 | embedder    | GraphEmbedding | 332 K \n",
      "1 | y_predictor | Linear         | 687 K \n",
      "-----------------------------------------------\n",
      "1.0 M     Trainable params\n",
      "0         Non-trainable params\n",
      "1.0 M     Total params\n",
      "4.079     Total estimated model params size (MB)\n"
     ]
    },
    {
     "name": "stdout",
     "output_type": "stream",
     "text": [
      "Weight decoupling enabled in AdaBelief\n",
      "Rectification enabled in AdaBelief\n"
     ]
    },
    {
     "data": {
      "application/json": {
       "ascii": false,
       "bar_format": null,
       "colour": null,
       "elapsed": 0.00676417350769043,
       "initial": 0,
       "n": 0,
       "ncols": 90,
       "nrows": 24,
       "postfix": null,
       "prefix": "Sanity Checking",
       "rate": null,
       "total": null,
       "unit": "it",
       "unit_divisor": 1000,
       "unit_scale": false
      },
      "application/vnd.jupyter.widget-view+json": {
       "model_id": "",
       "version_major": 2,
       "version_minor": 0
      },
      "text/plain": [
       "Sanity Checking: 0it [00:00, ?it/s]"
      ]
     },
     "metadata": {},
     "output_type": "display_data"
    },
    {
     "data": {
      "application/json": {
       "ascii": false,
       "bar_format": null,
       "colour": null,
       "elapsed": 0.0055959224700927734,
       "initial": 0,
       "n": 0,
       "ncols": 90,
       "nrows": 24,
       "postfix": null,
       "prefix": "Training",
       "rate": null,
       "total": null,
       "unit": "it",
       "unit_divisor": 1000,
       "unit_scale": false
      },
      "application/vnd.jupyter.widget-view+json": {
       "model_id": "c90bf472f5c4464699c33497cdf772ed",
       "version_major": 2,
       "version_minor": 0
      },
      "text/plain": [
       "Training: 0it [00:00, ?it/s]"
      ]
     },
     "metadata": {},
     "output_type": "display_data"
    },
    {
     "data": {
      "application/json": {
       "ascii": false,
       "bar_format": null,
       "colour": null,
       "elapsed": 0.006003379821777344,
       "initial": 0,
       "n": 0,
       "ncols": 90,
       "nrows": 24,
       "postfix": null,
       "prefix": "Validation",
       "rate": null,
       "total": null,
       "unit": "it",
       "unit_divisor": 1000,
       "unit_scale": false
      },
      "application/vnd.jupyter.widget-view+json": {
       "model_id": "",
       "version_major": 2,
       "version_minor": 0
      },
      "text/plain": [
       "Validation: 0it [00:00, ?it/s]"
      ]
     },
     "metadata": {},
     "output_type": "display_data"
    },
    {
     "data": {
      "application/json": {
       "ascii": false,
       "bar_format": null,
       "colour": null,
       "elapsed": 0.005360126495361328,
       "initial": 0,
       "n": 0,
       "ncols": 90,
       "nrows": 24,
       "postfix": null,
       "prefix": "Validation",
       "rate": null,
       "total": null,
       "unit": "it",
       "unit_divisor": 1000,
       "unit_scale": false
      },
      "application/vnd.jupyter.widget-view+json": {
       "model_id": "",
       "version_major": 2,
       "version_minor": 0
      },
      "text/plain": [
       "Validation: 0it [00:00, ?it/s]"
      ]
     },
     "metadata": {},
     "output_type": "display_data"
    },
    {
     "data": {
      "application/json": {
       "ascii": false,
       "bar_format": null,
       "colour": null,
       "elapsed": 0.005419492721557617,
       "initial": 0,
       "n": 0,
       "ncols": 90,
       "nrows": 24,
       "postfix": null,
       "prefix": "Validation",
       "rate": null,
       "total": null,
       "unit": "it",
       "unit_divisor": 1000,
       "unit_scale": false
      },
      "application/vnd.jupyter.widget-view+json": {
       "model_id": "",
       "version_major": 2,
       "version_minor": 0
      },
      "text/plain": [
       "Validation: 0it [00:00, ?it/s]"
      ]
     },
     "metadata": {},
     "output_type": "display_data"
    },
    {
     "data": {
      "application/json": {
       "ascii": false,
       "bar_format": null,
       "colour": null,
       "elapsed": 0.005781888961791992,
       "initial": 0,
       "n": 0,
       "ncols": 90,
       "nrows": 24,
       "postfix": null,
       "prefix": "Validation",
       "rate": null,
       "total": null,
       "unit": "it",
       "unit_divisor": 1000,
       "unit_scale": false
      },
      "application/vnd.jupyter.widget-view+json": {
       "model_id": "",
       "version_major": 2,
       "version_minor": 0
      },
      "text/plain": [
       "Validation: 0it [00:00, ?it/s]"
      ]
     },
     "metadata": {},
     "output_type": "display_data"
    },
    {
     "data": {
      "application/json": {
       "ascii": false,
       "bar_format": null,
       "colour": null,
       "elapsed": 0.005057096481323242,
       "initial": 0,
       "n": 0,
       "ncols": 90,
       "nrows": 24,
       "postfix": null,
       "prefix": "Validation",
       "rate": null,
       "total": null,
       "unit": "it",
       "unit_divisor": 1000,
       "unit_scale": false
      },
      "application/vnd.jupyter.widget-view+json": {
       "model_id": "",
       "version_major": 2,
       "version_minor": 0
      },
      "text/plain": [
       "Validation: 0it [00:00, ?it/s]"
      ]
     },
     "metadata": {},
     "output_type": "display_data"
    },
    {
     "data": {
      "application/json": {
       "ascii": false,
       "bar_format": null,
       "colour": null,
       "elapsed": 0.005439281463623047,
       "initial": 0,
       "n": 0,
       "ncols": 90,
       "nrows": 24,
       "postfix": null,
       "prefix": "Validation",
       "rate": null,
       "total": null,
       "unit": "it",
       "unit_divisor": 1000,
       "unit_scale": false
      },
      "application/vnd.jupyter.widget-view+json": {
       "model_id": "",
       "version_major": 2,
       "version_minor": 0
      },
      "text/plain": [
       "Validation: 0it [00:00, ?it/s]"
      ]
     },
     "metadata": {},
     "output_type": "display_data"
    },
    {
     "data": {
      "application/json": {
       "ascii": false,
       "bar_format": null,
       "colour": null,
       "elapsed": 0.0054836273193359375,
       "initial": 0,
       "n": 0,
       "ncols": 90,
       "nrows": 24,
       "postfix": null,
       "prefix": "Validation",
       "rate": null,
       "total": null,
       "unit": "it",
       "unit_divisor": 1000,
       "unit_scale": false
      },
      "application/vnd.jupyter.widget-view+json": {
       "model_id": "",
       "version_major": 2,
       "version_minor": 0
      },
      "text/plain": [
       "Validation: 0it [00:00, ?it/s]"
      ]
     },
     "metadata": {},
     "output_type": "display_data"
    },
    {
     "data": {
      "application/json": {
       "ascii": false,
       "bar_format": null,
       "colour": null,
       "elapsed": 0.0049762725830078125,
       "initial": 0,
       "n": 0,
       "ncols": 90,
       "nrows": 24,
       "postfix": null,
       "prefix": "Validation",
       "rate": null,
       "total": null,
       "unit": "it",
       "unit_divisor": 1000,
       "unit_scale": false
      },
      "application/vnd.jupyter.widget-view+json": {
       "model_id": "",
       "version_major": 2,
       "version_minor": 0
      },
      "text/plain": [
       "Validation: 0it [00:00, ?it/s]"
      ]
     },
     "metadata": {},
     "output_type": "display_data"
    },
    {
     "data": {
      "application/json": {
       "ascii": false,
       "bar_format": null,
       "colour": null,
       "elapsed": 0.004992961883544922,
       "initial": 0,
       "n": 0,
       "ncols": 90,
       "nrows": 24,
       "postfix": null,
       "prefix": "Validation",
       "rate": null,
       "total": null,
       "unit": "it",
       "unit_divisor": 1000,
       "unit_scale": false
      },
      "application/vnd.jupyter.widget-view+json": {
       "model_id": "",
       "version_major": 2,
       "version_minor": 0
      },
      "text/plain": [
       "Validation: 0it [00:00, ?it/s]"
      ]
     },
     "metadata": {},
     "output_type": "display_data"
    },
    {
     "data": {
      "application/json": {
       "ascii": false,
       "bar_format": null,
       "colour": null,
       "elapsed": 0.004976034164428711,
       "initial": 0,
       "n": 0,
       "ncols": 90,
       "nrows": 24,
       "postfix": null,
       "prefix": "Validation",
       "rate": null,
       "total": null,
       "unit": "it",
       "unit_divisor": 1000,
       "unit_scale": false
      },
      "application/vnd.jupyter.widget-view+json": {
       "model_id": "",
       "version_major": 2,
       "version_minor": 0
      },
      "text/plain": [
       "Validation: 0it [00:00, ?it/s]"
      ]
     },
     "metadata": {},
     "output_type": "display_data"
    },
    {
     "data": {
      "application/json": {
       "ascii": false,
       "bar_format": null,
       "colour": null,
       "elapsed": 0.005003213882446289,
       "initial": 0,
       "n": 0,
       "ncols": 90,
       "nrows": 24,
       "postfix": null,
       "prefix": "Validation",
       "rate": null,
       "total": null,
       "unit": "it",
       "unit_divisor": 1000,
       "unit_scale": false
      },
      "application/vnd.jupyter.widget-view+json": {
       "model_id": "",
       "version_major": 2,
       "version_minor": 0
      },
      "text/plain": [
       "Validation: 0it [00:00, ?it/s]"
      ]
     },
     "metadata": {},
     "output_type": "display_data"
    },
    {
     "data": {
      "application/json": {
       "ascii": false,
       "bar_format": null,
       "colour": null,
       "elapsed": 0.004972696304321289,
       "initial": 0,
       "n": 0,
       "ncols": 90,
       "nrows": 24,
       "postfix": null,
       "prefix": "Validation",
       "rate": null,
       "total": null,
       "unit": "it",
       "unit_divisor": 1000,
       "unit_scale": false
      },
      "application/vnd.jupyter.widget-view+json": {
       "model_id": "",
       "version_major": 2,
       "version_minor": 0
      },
      "text/plain": [
       "Validation: 0it [00:00, ?it/s]"
      ]
     },
     "metadata": {},
     "output_type": "display_data"
    },
    {
     "data": {
      "application/json": {
       "ascii": false,
       "bar_format": null,
       "colour": null,
       "elapsed": 0.00513005256652832,
       "initial": 0,
       "n": 0,
       "ncols": 90,
       "nrows": 24,
       "postfix": null,
       "prefix": "Validation",
       "rate": null,
       "total": null,
       "unit": "it",
       "unit_divisor": 1000,
       "unit_scale": false
      },
      "application/vnd.jupyter.widget-view+json": {
       "model_id": "",
       "version_major": 2,
       "version_minor": 0
      },
      "text/plain": [
       "Validation: 0it [00:00, ?it/s]"
      ]
     },
     "metadata": {},
     "output_type": "display_data"
    },
    {
     "data": {
      "application/json": {
       "ascii": false,
       "bar_format": null,
       "colour": null,
       "elapsed": 0.005060434341430664,
       "initial": 0,
       "n": 0,
       "ncols": 90,
       "nrows": 24,
       "postfix": null,
       "prefix": "Validation",
       "rate": null,
       "total": null,
       "unit": "it",
       "unit_divisor": 1000,
       "unit_scale": false
      },
      "application/vnd.jupyter.widget-view+json": {
       "model_id": "",
       "version_major": 2,
       "version_minor": 0
      },
      "text/plain": [
       "Validation: 0it [00:00, ?it/s]"
      ]
     },
     "metadata": {},
     "output_type": "display_data"
    },
    {
     "data": {
      "application/json": {
       "ascii": false,
       "bar_format": null,
       "colour": null,
       "elapsed": 0.005010843276977539,
       "initial": 0,
       "n": 0,
       "ncols": 90,
       "nrows": 24,
       "postfix": null,
       "prefix": "Validation",
       "rate": null,
       "total": null,
       "unit": "it",
       "unit_divisor": 1000,
       "unit_scale": false
      },
      "application/vnd.jupyter.widget-view+json": {
       "model_id": "",
       "version_major": 2,
       "version_minor": 0
      },
      "text/plain": [
       "Validation: 0it [00:00, ?it/s]"
      ]
     },
     "metadata": {},
     "output_type": "display_data"
    },
    {
     "data": {
      "application/json": {
       "ascii": false,
       "bar_format": null,
       "colour": null,
       "elapsed": 0.004867076873779297,
       "initial": 0,
       "n": 0,
       "ncols": 90,
       "nrows": 24,
       "postfix": null,
       "prefix": "Validation",
       "rate": null,
       "total": null,
       "unit": "it",
       "unit_divisor": 1000,
       "unit_scale": false
      },
      "application/vnd.jupyter.widget-view+json": {
       "model_id": "",
       "version_major": 2,
       "version_minor": 0
      },
      "text/plain": [
       "Validation: 0it [00:00, ?it/s]"
      ]
     },
     "metadata": {},
     "output_type": "display_data"
    },
    {
     "data": {
      "application/json": {
       "ascii": false,
       "bar_format": null,
       "colour": null,
       "elapsed": 0.0048944950103759766,
       "initial": 0,
       "n": 0,
       "ncols": 90,
       "nrows": 24,
       "postfix": null,
       "prefix": "Validation",
       "rate": null,
       "total": null,
       "unit": "it",
       "unit_divisor": 1000,
       "unit_scale": false
      },
      "application/vnd.jupyter.widget-view+json": {
       "model_id": "",
       "version_major": 2,
       "version_minor": 0
      },
      "text/plain": [
       "Validation: 0it [00:00, ?it/s]"
      ]
     },
     "metadata": {},
     "output_type": "display_data"
    },
    {
     "data": {
      "application/json": {
       "ascii": false,
       "bar_format": null,
       "colour": null,
       "elapsed": 0.004958391189575195,
       "initial": 0,
       "n": 0,
       "ncols": 90,
       "nrows": 24,
       "postfix": null,
       "prefix": "Validation",
       "rate": null,
       "total": null,
       "unit": "it",
       "unit_divisor": 1000,
       "unit_scale": false
      },
      "application/vnd.jupyter.widget-view+json": {
       "model_id": "",
       "version_major": 2,
       "version_minor": 0
      },
      "text/plain": [
       "Validation: 0it [00:00, ?it/s]"
      ]
     },
     "metadata": {},
     "output_type": "display_data"
    },
    {
     "data": {
      "application/json": {
       "ascii": false,
       "bar_format": null,
       "colour": null,
       "elapsed": 0.005017518997192383,
       "initial": 0,
       "n": 0,
       "ncols": 90,
       "nrows": 24,
       "postfix": null,
       "prefix": "Validation",
       "rate": null,
       "total": null,
       "unit": "it",
       "unit_divisor": 1000,
       "unit_scale": false
      },
      "application/vnd.jupyter.widget-view+json": {
       "model_id": "",
       "version_major": 2,
       "version_minor": 0
      },
      "text/plain": [
       "Validation: 0it [00:00, ?it/s]"
      ]
     },
     "metadata": {},
     "output_type": "display_data"
    },
    {
     "data": {
      "application/json": {
       "ascii": false,
       "bar_format": null,
       "colour": null,
       "elapsed": 0.006618976593017578,
       "initial": 0,
       "n": 0,
       "ncols": 90,
       "nrows": 24,
       "postfix": null,
       "prefix": "Validation",
       "rate": null,
       "total": null,
       "unit": "it",
       "unit_divisor": 1000,
       "unit_scale": false
      },
      "application/vnd.jupyter.widget-view+json": {
       "model_id": "",
       "version_major": 2,
       "version_minor": 0
      },
      "text/plain": [
       "Validation: 0it [00:00, ?it/s]"
      ]
     },
     "metadata": {},
     "output_type": "display_data"
    },
    {
     "data": {
      "application/json": {
       "ascii": false,
       "bar_format": null,
       "colour": null,
       "elapsed": 0.0049457550048828125,
       "initial": 0,
       "n": 0,
       "ncols": 90,
       "nrows": 24,
       "postfix": null,
       "prefix": "Validation",
       "rate": null,
       "total": null,
       "unit": "it",
       "unit_divisor": 1000,
       "unit_scale": false
      },
      "application/vnd.jupyter.widget-view+json": {
       "model_id": "",
       "version_major": 2,
       "version_minor": 0
      },
      "text/plain": [
       "Validation: 0it [00:00, ?it/s]"
      ]
     },
     "metadata": {},
     "output_type": "display_data"
    },
    {
     "data": {
      "application/json": {
       "ascii": false,
       "bar_format": null,
       "colour": null,
       "elapsed": 0.00497126579284668,
       "initial": 0,
       "n": 0,
       "ncols": 90,
       "nrows": 24,
       "postfix": null,
       "prefix": "Validation",
       "rate": null,
       "total": null,
       "unit": "it",
       "unit_divisor": 1000,
       "unit_scale": false
      },
      "application/vnd.jupyter.widget-view+json": {
       "model_id": "",
       "version_major": 2,
       "version_minor": 0
      },
      "text/plain": [
       "Validation: 0it [00:00, ?it/s]"
      ]
     },
     "metadata": {},
     "output_type": "display_data"
    },
    {
     "data": {
      "application/json": {
       "ascii": false,
       "bar_format": null,
       "colour": null,
       "elapsed": 0.0050601959228515625,
       "initial": 0,
       "n": 0,
       "ncols": 90,
       "nrows": 24,
       "postfix": null,
       "prefix": "Validation",
       "rate": null,
       "total": null,
       "unit": "it",
       "unit_divisor": 1000,
       "unit_scale": false
      },
      "application/vnd.jupyter.widget-view+json": {
       "model_id": "",
       "version_major": 2,
       "version_minor": 0
      },
      "text/plain": [
       "Validation: 0it [00:00, ?it/s]"
      ]
     },
     "metadata": {},
     "output_type": "display_data"
    },
    {
     "data": {
      "application/json": {
       "ascii": false,
       "bar_format": null,
       "colour": null,
       "elapsed": 0.004979133605957031,
       "initial": 0,
       "n": 0,
       "ncols": 90,
       "nrows": 24,
       "postfix": null,
       "prefix": "Validation",
       "rate": null,
       "total": null,
       "unit": "it",
       "unit_divisor": 1000,
       "unit_scale": false
      },
      "application/vnd.jupyter.widget-view+json": {
       "model_id": "",
       "version_major": 2,
       "version_minor": 0
      },
      "text/plain": [
       "Validation: 0it [00:00, ?it/s]"
      ]
     },
     "metadata": {},
     "output_type": "display_data"
    },
    {
     "data": {
      "application/json": {
       "ascii": false,
       "bar_format": null,
       "colour": null,
       "elapsed": 0.00496673583984375,
       "initial": 0,
       "n": 0,
       "ncols": 90,
       "nrows": 24,
       "postfix": null,
       "prefix": "Validation",
       "rate": null,
       "total": null,
       "unit": "it",
       "unit_divisor": 1000,
       "unit_scale": false
      },
      "application/vnd.jupyter.widget-view+json": {
       "model_id": "",
       "version_major": 2,
       "version_minor": 0
      },
      "text/plain": [
       "Validation: 0it [00:00, ?it/s]"
      ]
     },
     "metadata": {},
     "output_type": "display_data"
    },
    {
     "data": {
      "application/json": {
       "ascii": false,
       "bar_format": null,
       "colour": null,
       "elapsed": 0.005057573318481445,
       "initial": 0,
       "n": 0,
       "ncols": 90,
       "nrows": 24,
       "postfix": null,
       "prefix": "Validation",
       "rate": null,
       "total": null,
       "unit": "it",
       "unit_divisor": 1000,
       "unit_scale": false
      },
      "application/vnd.jupyter.widget-view+json": {
       "model_id": "",
       "version_major": 2,
       "version_minor": 0
      },
      "text/plain": [
       "Validation: 0it [00:00, ?it/s]"
      ]
     },
     "metadata": {},
     "output_type": "display_data"
    },
    {
     "data": {
      "application/json": {
       "ascii": false,
       "bar_format": null,
       "colour": null,
       "elapsed": 0.004908561706542969,
       "initial": 0,
       "n": 0,
       "ncols": 90,
       "nrows": 24,
       "postfix": null,
       "prefix": "Validation",
       "rate": null,
       "total": null,
       "unit": "it",
       "unit_divisor": 1000,
       "unit_scale": false
      },
      "application/vnd.jupyter.widget-view+json": {
       "model_id": "",
       "version_major": 2,
       "version_minor": 0
      },
      "text/plain": [
       "Validation: 0it [00:00, ?it/s]"
      ]
     },
     "metadata": {},
     "output_type": "display_data"
    },
    {
     "data": {
      "application/json": {
       "ascii": false,
       "bar_format": null,
       "colour": null,
       "elapsed": 0.004980325698852539,
       "initial": 0,
       "n": 0,
       "ncols": 90,
       "nrows": 24,
       "postfix": null,
       "prefix": "Validation",
       "rate": null,
       "total": null,
       "unit": "it",
       "unit_divisor": 1000,
       "unit_scale": false
      },
      "application/vnd.jupyter.widget-view+json": {
       "model_id": "",
       "version_major": 2,
       "version_minor": 0
      },
      "text/plain": [
       "Validation: 0it [00:00, ?it/s]"
      ]
     },
     "metadata": {},
     "output_type": "display_data"
    },
    {
     "data": {
      "application/json": {
       "ascii": false,
       "bar_format": null,
       "colour": null,
       "elapsed": 0.004942655563354492,
       "initial": 0,
       "n": 0,
       "ncols": 90,
       "nrows": 24,
       "postfix": null,
       "prefix": "Validation",
       "rate": null,
       "total": null,
       "unit": "it",
       "unit_divisor": 1000,
       "unit_scale": false
      },
      "application/vnd.jupyter.widget-view+json": {
       "model_id": "",
       "version_major": 2,
       "version_minor": 0
      },
      "text/plain": [
       "Validation: 0it [00:00, ?it/s]"
      ]
     },
     "metadata": {},
     "output_type": "display_data"
    },
    {
     "data": {
      "application/json": {
       "ascii": false,
       "bar_format": null,
       "colour": null,
       "elapsed": 0.004921436309814453,
       "initial": 0,
       "n": 0,
       "ncols": 90,
       "nrows": 24,
       "postfix": null,
       "prefix": "Validation",
       "rate": null,
       "total": null,
       "unit": "it",
       "unit_divisor": 1000,
       "unit_scale": false
      },
      "application/vnd.jupyter.widget-view+json": {
       "model_id": "",
       "version_major": 2,
       "version_minor": 0
      },
      "text/plain": [
       "Validation: 0it [00:00, ?it/s]"
      ]
     },
     "metadata": {},
     "output_type": "display_data"
    },
    {
     "data": {
      "application/json": {
       "ascii": false,
       "bar_format": null,
       "colour": null,
       "elapsed": 0.0049512386322021484,
       "initial": 0,
       "n": 0,
       "ncols": 90,
       "nrows": 24,
       "postfix": null,
       "prefix": "Validation",
       "rate": null,
       "total": null,
       "unit": "it",
       "unit_divisor": 1000,
       "unit_scale": false
      },
      "application/vnd.jupyter.widget-view+json": {
       "model_id": "",
       "version_major": 2,
       "version_minor": 0
      },
      "text/plain": [
       "Validation: 0it [00:00, ?it/s]"
      ]
     },
     "metadata": {},
     "output_type": "display_data"
    },
    {
     "data": {
      "application/json": {
       "ascii": false,
       "bar_format": null,
       "colour": null,
       "elapsed": 0.005097150802612305,
       "initial": 0,
       "n": 0,
       "ncols": 90,
       "nrows": 24,
       "postfix": null,
       "prefix": "Validation",
       "rate": null,
       "total": null,
       "unit": "it",
       "unit_divisor": 1000,
       "unit_scale": false
      },
      "application/vnd.jupyter.widget-view+json": {
       "model_id": "",
       "version_major": 2,
       "version_minor": 0
      },
      "text/plain": [
       "Validation: 0it [00:00, ?it/s]"
      ]
     },
     "metadata": {},
     "output_type": "display_data"
    },
    {
     "data": {
      "application/json": {
       "ascii": false,
       "bar_format": null,
       "colour": null,
       "elapsed": 0.00495457649230957,
       "initial": 0,
       "n": 0,
       "ncols": 90,
       "nrows": 24,
       "postfix": null,
       "prefix": "Validation",
       "rate": null,
       "total": null,
       "unit": "it",
       "unit_divisor": 1000,
       "unit_scale": false
      },
      "application/vnd.jupyter.widget-view+json": {
       "model_id": "",
       "version_major": 2,
       "version_minor": 0
      },
      "text/plain": [
       "Validation: 0it [00:00, ?it/s]"
      ]
     },
     "metadata": {},
     "output_type": "display_data"
    },
    {
     "data": {
      "application/json": {
       "ascii": false,
       "bar_format": null,
       "colour": null,
       "elapsed": 0.005009174346923828,
       "initial": 0,
       "n": 0,
       "ncols": 90,
       "nrows": 24,
       "postfix": null,
       "prefix": "Validation",
       "rate": null,
       "total": null,
       "unit": "it",
       "unit_divisor": 1000,
       "unit_scale": false
      },
      "application/vnd.jupyter.widget-view+json": {
       "model_id": "",
       "version_major": 2,
       "version_minor": 0
      },
      "text/plain": [
       "Validation: 0it [00:00, ?it/s]"
      ]
     },
     "metadata": {},
     "output_type": "display_data"
    },
    {
     "data": {
      "application/json": {
       "ascii": false,
       "bar_format": null,
       "colour": null,
       "elapsed": 0.005038738250732422,
       "initial": 0,
       "n": 0,
       "ncols": 90,
       "nrows": 24,
       "postfix": null,
       "prefix": "Validation",
       "rate": null,
       "total": null,
       "unit": "it",
       "unit_divisor": 1000,
       "unit_scale": false
      },
      "application/vnd.jupyter.widget-view+json": {
       "model_id": "",
       "version_major": 2,
       "version_minor": 0
      },
      "text/plain": [
       "Validation: 0it [00:00, ?it/s]"
      ]
     },
     "metadata": {},
     "output_type": "display_data"
    },
    {
     "data": {
      "application/json": {
       "ascii": false,
       "bar_format": null,
       "colour": null,
       "elapsed": 0.004942417144775391,
       "initial": 0,
       "n": 0,
       "ncols": 90,
       "nrows": 24,
       "postfix": null,
       "prefix": "Validation",
       "rate": null,
       "total": null,
       "unit": "it",
       "unit_divisor": 1000,
       "unit_scale": false
      },
      "application/vnd.jupyter.widget-view+json": {
       "model_id": "",
       "version_major": 2,
       "version_minor": 0
      },
      "text/plain": [
       "Validation: 0it [00:00, ?it/s]"
      ]
     },
     "metadata": {},
     "output_type": "display_data"
    },
    {
     "data": {
      "application/json": {
       "ascii": false,
       "bar_format": null,
       "colour": null,
       "elapsed": 0.0050432682037353516,
       "initial": 0,
       "n": 0,
       "ncols": 90,
       "nrows": 24,
       "postfix": null,
       "prefix": "Validation",
       "rate": null,
       "total": null,
       "unit": "it",
       "unit_divisor": 1000,
       "unit_scale": false
      },
      "application/vnd.jupyter.widget-view+json": {
       "model_id": "",
       "version_major": 2,
       "version_minor": 0
      },
      "text/plain": [
       "Validation: 0it [00:00, ?it/s]"
      ]
     },
     "metadata": {},
     "output_type": "display_data"
    },
    {
     "data": {
      "application/json": {
       "ascii": false,
       "bar_format": null,
       "colour": null,
       "elapsed": 0.004936695098876953,
       "initial": 0,
       "n": 0,
       "ncols": 90,
       "nrows": 24,
       "postfix": null,
       "prefix": "Validation",
       "rate": null,
       "total": null,
       "unit": "it",
       "unit_divisor": 1000,
       "unit_scale": false
      },
      "application/vnd.jupyter.widget-view+json": {
       "model_id": "",
       "version_major": 2,
       "version_minor": 0
      },
      "text/plain": [
       "Validation: 0it [00:00, ?it/s]"
      ]
     },
     "metadata": {},
     "output_type": "display_data"
    },
    {
     "data": {
      "application/json": {
       "ascii": false,
       "bar_format": null,
       "colour": null,
       "elapsed": 0.005051136016845703,
       "initial": 0,
       "n": 0,
       "ncols": 90,
       "nrows": 24,
       "postfix": null,
       "prefix": "Validation",
       "rate": null,
       "total": null,
       "unit": "it",
       "unit_divisor": 1000,
       "unit_scale": false
      },
      "application/vnd.jupyter.widget-view+json": {
       "model_id": "",
       "version_major": 2,
       "version_minor": 0
      },
      "text/plain": [
       "Validation: 0it [00:00, ?it/s]"
      ]
     },
     "metadata": {},
     "output_type": "display_data"
    },
    {
     "data": {
      "application/json": {
       "ascii": false,
       "bar_format": null,
       "colour": null,
       "elapsed": 0.004879951477050781,
       "initial": 0,
       "n": 0,
       "ncols": 90,
       "nrows": 24,
       "postfix": null,
       "prefix": "Validation",
       "rate": null,
       "total": null,
       "unit": "it",
       "unit_divisor": 1000,
       "unit_scale": false
      },
      "application/vnd.jupyter.widget-view+json": {
       "model_id": "",
       "version_major": 2,
       "version_minor": 0
      },
      "text/plain": [
       "Validation: 0it [00:00, ?it/s]"
      ]
     },
     "metadata": {},
     "output_type": "display_data"
    },
    {
     "data": {
      "application/json": {
       "ascii": false,
       "bar_format": null,
       "colour": null,
       "elapsed": 0.00494074821472168,
       "initial": 0,
       "n": 0,
       "ncols": 90,
       "nrows": 24,
       "postfix": null,
       "prefix": "Validation",
       "rate": null,
       "total": null,
       "unit": "it",
       "unit_divisor": 1000,
       "unit_scale": false
      },
      "application/vnd.jupyter.widget-view+json": {
       "model_id": "",
       "version_major": 2,
       "version_minor": 0
      },
      "text/plain": [
       "Validation: 0it [00:00, ?it/s]"
      ]
     },
     "metadata": {},
     "output_type": "display_data"
    },
    {
     "data": {
      "application/json": {
       "ascii": false,
       "bar_format": null,
       "colour": null,
       "elapsed": 0.00500941276550293,
       "initial": 0,
       "n": 0,
       "ncols": 90,
       "nrows": 24,
       "postfix": null,
       "prefix": "Validation",
       "rate": null,
       "total": null,
       "unit": "it",
       "unit_divisor": 1000,
       "unit_scale": false
      },
      "application/vnd.jupyter.widget-view+json": {
       "model_id": "",
       "version_major": 2,
       "version_minor": 0
      },
      "text/plain": [
       "Validation: 0it [00:00, ?it/s]"
      ]
     },
     "metadata": {},
     "output_type": "display_data"
    },
    {
     "data": {
      "application/json": {
       "ascii": false,
       "bar_format": null,
       "colour": null,
       "elapsed": 0.005213022232055664,
       "initial": 0,
       "n": 0,
       "ncols": 90,
       "nrows": 24,
       "postfix": null,
       "prefix": "Validation",
       "rate": null,
       "total": null,
       "unit": "it",
       "unit_divisor": 1000,
       "unit_scale": false
      },
      "application/vnd.jupyter.widget-view+json": {
       "model_id": "",
       "version_major": 2,
       "version_minor": 0
      },
      "text/plain": [
       "Validation: 0it [00:00, ?it/s]"
      ]
     },
     "metadata": {},
     "output_type": "display_data"
    },
    {
     "data": {
      "application/json": {
       "ascii": false,
       "bar_format": null,
       "colour": null,
       "elapsed": 0.005070924758911133,
       "initial": 0,
       "n": 0,
       "ncols": 90,
       "nrows": 24,
       "postfix": null,
       "prefix": "Validation",
       "rate": null,
       "total": null,
       "unit": "it",
       "unit_divisor": 1000,
       "unit_scale": false
      },
      "application/vnd.jupyter.widget-view+json": {
       "model_id": "",
       "version_major": 2,
       "version_minor": 0
      },
      "text/plain": [
       "Validation: 0it [00:00, ?it/s]"
      ]
     },
     "metadata": {},
     "output_type": "display_data"
    },
    {
     "data": {
      "application/json": {
       "ascii": false,
       "bar_format": null,
       "colour": null,
       "elapsed": 0.004957437515258789,
       "initial": 0,
       "n": 0,
       "ncols": 90,
       "nrows": 24,
       "postfix": null,
       "prefix": "Validation",
       "rate": null,
       "total": null,
       "unit": "it",
       "unit_divisor": 1000,
       "unit_scale": false
      },
      "application/vnd.jupyter.widget-view+json": {
       "model_id": "",
       "version_major": 2,
       "version_minor": 0
      },
      "text/plain": [
       "Validation: 0it [00:00, ?it/s]"
      ]
     },
     "metadata": {},
     "output_type": "display_data"
    },
    {
     "data": {
      "application/json": {
       "ascii": false,
       "bar_format": null,
       "colour": null,
       "elapsed": 0.004965782165527344,
       "initial": 0,
       "n": 0,
       "ncols": 90,
       "nrows": 24,
       "postfix": null,
       "prefix": "Validation",
       "rate": null,
       "total": null,
       "unit": "it",
       "unit_divisor": 1000,
       "unit_scale": false
      },
      "application/vnd.jupyter.widget-view+json": {
       "model_id": "",
       "version_major": 2,
       "version_minor": 0
      },
      "text/plain": [
       "Validation: 0it [00:00, ?it/s]"
      ]
     },
     "metadata": {},
     "output_type": "display_data"
    },
    {
     "data": {
      "application/json": {
       "ascii": false,
       "bar_format": null,
       "colour": null,
       "elapsed": 0.0049550533294677734,
       "initial": 0,
       "n": 0,
       "ncols": 90,
       "nrows": 24,
       "postfix": null,
       "prefix": "Validation",
       "rate": null,
       "total": null,
       "unit": "it",
       "unit_divisor": 1000,
       "unit_scale": false
      },
      "application/vnd.jupyter.widget-view+json": {
       "model_id": "6993d4c3450b48ea91f5599dacbf1eca",
       "version_major": 2,
       "version_minor": 0
      },
      "text/plain": [
       "Validation: 0it [00:00, ?it/s]"
      ]
     },
     "metadata": {},
     "output_type": "display_data"
    },
    {
     "data": {
      "application/json": {
       "ascii": false,
       "bar_format": null,
       "colour": null,
       "elapsed": 0.0049588680267333984,
       "initial": 0,
       "n": 0,
       "ncols": 90,
       "nrows": 24,
       "postfix": null,
       "prefix": "Validation",
       "rate": null,
       "total": null,
       "unit": "it",
       "unit_divisor": 1000,
       "unit_scale": false
      },
      "application/vnd.jupyter.widget-view+json": {
       "model_id": "bf437e79945d4086a512475a3bfe8818",
       "version_major": 2,
       "version_minor": 0
      },
      "text/plain": [
       "Validation: 0it [00:00, ?it/s]"
      ]
     },
     "metadata": {},
     "output_type": "display_data"
    },
    {
     "data": {
      "application/json": {
       "ascii": false,
       "bar_format": null,
       "colour": null,
       "elapsed": 0.004964113235473633,
       "initial": 0,
       "n": 0,
       "ncols": 90,
       "nrows": 24,
       "postfix": null,
       "prefix": "Validation",
       "rate": null,
       "total": null,
       "unit": "it",
       "unit_divisor": 1000,
       "unit_scale": false
      },
      "application/vnd.jupyter.widget-view+json": {
       "model_id": "cfe087b5b9254cfb8ef63d50341bb694",
       "version_major": 2,
       "version_minor": 0
      },
      "text/plain": [
       "Validation: 0it [00:00, ?it/s]"
      ]
     },
     "metadata": {},
     "output_type": "display_data"
    },
    {
     "data": {
      "application/json": {
       "ascii": false,
       "bar_format": null,
       "colour": null,
       "elapsed": 0.0048863887786865234,
       "initial": 0,
       "n": 0,
       "ncols": 90,
       "nrows": 24,
       "postfix": null,
       "prefix": "Validation",
       "rate": null,
       "total": null,
       "unit": "it",
       "unit_divisor": 1000,
       "unit_scale": false
      },
      "application/vnd.jupyter.widget-view+json": {
       "model_id": "145d733d7bf041069aede17db66a6638",
       "version_major": 2,
       "version_minor": 0
      },
      "text/plain": [
       "Validation: 0it [00:00, ?it/s]"
      ]
     },
     "metadata": {},
     "output_type": "display_data"
    },
    {
     "data": {
      "application/json": {
       "ascii": false,
       "bar_format": null,
       "colour": null,
       "elapsed": 0.004914760589599609,
       "initial": 0,
       "n": 0,
       "ncols": 90,
       "nrows": 24,
       "postfix": null,
       "prefix": "Validation",
       "rate": null,
       "total": null,
       "unit": "it",
       "unit_divisor": 1000,
       "unit_scale": false
      },
      "application/vnd.jupyter.widget-view+json": {
       "model_id": "4386c68e27c54d149839b62daea49257",
       "version_major": 2,
       "version_minor": 0
      },
      "text/plain": [
       "Validation: 0it [00:00, ?it/s]"
      ]
     },
     "metadata": {},
     "output_type": "display_data"
    },
    {
     "data": {
      "application/json": {
       "ascii": false,
       "bar_format": null,
       "colour": null,
       "elapsed": 0.004914760589599609,
       "initial": 0,
       "n": 0,
       "ncols": 90,
       "nrows": 24,
       "postfix": null,
       "prefix": "Validation",
       "rate": null,
       "total": null,
       "unit": "it",
       "unit_divisor": 1000,
       "unit_scale": false
      },
      "application/vnd.jupyter.widget-view+json": {
       "model_id": "3855ce459c3a43c9b0d9e2eebd9228f2",
       "version_major": 2,
       "version_minor": 0
      },
      "text/plain": [
       "Validation: 0it [00:00, ?it/s]"
      ]
     },
     "metadata": {},
     "output_type": "display_data"
    },
    {
     "data": {
      "application/json": {
       "ascii": false,
       "bar_format": null,
       "colour": null,
       "elapsed": 0.00494837760925293,
       "initial": 0,
       "n": 0,
       "ncols": 90,
       "nrows": 24,
       "postfix": null,
       "prefix": "Validation",
       "rate": null,
       "total": null,
       "unit": "it",
       "unit_divisor": 1000,
       "unit_scale": false
      },
      "application/vnd.jupyter.widget-view+json": {
       "model_id": "38cae4d11a334cc6a88615eeed34a3b1",
       "version_major": 2,
       "version_minor": 0
      },
      "text/plain": [
       "Validation: 0it [00:00, ?it/s]"
      ]
     },
     "metadata": {},
     "output_type": "display_data"
    },
    {
     "data": {
      "application/json": {
       "ascii": false,
       "bar_format": null,
       "colour": null,
       "elapsed": 0.004834413528442383,
       "initial": 0,
       "n": 0,
       "ncols": 90,
       "nrows": 24,
       "postfix": null,
       "prefix": "Validation",
       "rate": null,
       "total": null,
       "unit": "it",
       "unit_divisor": 1000,
       "unit_scale": false
      },
      "application/vnd.jupyter.widget-view+json": {
       "model_id": "09f70f36041d43cbbaa0a77871ddc4bc",
       "version_major": 2,
       "version_minor": 0
      },
      "text/plain": [
       "Validation: 0it [00:00, ?it/s]"
      ]
     },
     "metadata": {},
     "output_type": "display_data"
    },
    {
     "data": {
      "application/json": {
       "ascii": false,
       "bar_format": null,
       "colour": null,
       "elapsed": 0.004951000213623047,
       "initial": 0,
       "n": 0,
       "ncols": 90,
       "nrows": 24,
       "postfix": null,
       "prefix": "Validation",
       "rate": null,
       "total": null,
       "unit": "it",
       "unit_divisor": 1000,
       "unit_scale": false
      },
      "application/vnd.jupyter.widget-view+json": {
       "model_id": "e814b6ae403d4d8b80cbe0e3f7e72aa2",
       "version_major": 2,
       "version_minor": 0
      },
      "text/plain": [
       "Validation: 0it [00:00, ?it/s]"
      ]
     },
     "metadata": {},
     "output_type": "display_data"
    },
    {
     "data": {
      "application/json": {
       "ascii": false,
       "bar_format": null,
       "colour": null,
       "elapsed": 0.004927396774291992,
       "initial": 0,
       "n": 0,
       "ncols": 90,
       "nrows": 24,
       "postfix": null,
       "prefix": "Validation",
       "rate": null,
       "total": null,
       "unit": "it",
       "unit_divisor": 1000,
       "unit_scale": false
      },
      "application/vnd.jupyter.widget-view+json": {
       "model_id": "b125ec97d6084ad88d21e1412b364678",
       "version_major": 2,
       "version_minor": 0
      },
      "text/plain": [
       "Validation: 0it [00:00, ?it/s]"
      ]
     },
     "metadata": {},
     "output_type": "display_data"
    },
    {
     "data": {
      "application/json": {
       "ascii": false,
       "bar_format": null,
       "colour": null,
       "elapsed": 0.00509333610534668,
       "initial": 0,
       "n": 0,
       "ncols": 90,
       "nrows": 24,
       "postfix": null,
       "prefix": "Validation",
       "rate": null,
       "total": null,
       "unit": "it",
       "unit_divisor": 1000,
       "unit_scale": false
      },
      "application/vnd.jupyter.widget-view+json": {
       "model_id": "112f3e31c3054b05ac01f1319de90030",
       "version_major": 2,
       "version_minor": 0
      },
      "text/plain": [
       "Validation: 0it [00:00, ?it/s]"
      ]
     },
     "metadata": {},
     "output_type": "display_data"
    },
    {
     "data": {
      "application/json": {
       "ascii": false,
       "bar_format": null,
       "colour": null,
       "elapsed": 0.005048990249633789,
       "initial": 0,
       "n": 0,
       "ncols": 90,
       "nrows": 24,
       "postfix": null,
       "prefix": "Validation",
       "rate": null,
       "total": null,
       "unit": "it",
       "unit_divisor": 1000,
       "unit_scale": false
      },
      "application/vnd.jupyter.widget-view+json": {
       "model_id": "2f2761fafc514a13ab77326152d0d2a7",
       "version_major": 2,
       "version_minor": 0
      },
      "text/plain": [
       "Validation: 0it [00:00, ?it/s]"
      ]
     },
     "metadata": {},
     "output_type": "display_data"
    },
    {
     "data": {
      "application/json": {
       "ascii": false,
       "bar_format": null,
       "colour": null,
       "elapsed": 0.004858732223510742,
       "initial": 0,
       "n": 0,
       "ncols": 90,
       "nrows": 24,
       "postfix": null,
       "prefix": "Validation",
       "rate": null,
       "total": null,
       "unit": "it",
       "unit_divisor": 1000,
       "unit_scale": false
      },
      "application/vnd.jupyter.widget-view+json": {
       "model_id": "41e9233e0d7449f180ae4805c53ed215",
       "version_major": 2,
       "version_minor": 0
      },
      "text/plain": [
       "Validation: 0it [00:00, ?it/s]"
      ]
     },
     "metadata": {},
     "output_type": "display_data"
    },
    {
     "data": {
      "application/json": {
       "ascii": false,
       "bar_format": null,
       "colour": null,
       "elapsed": 0.004896640777587891,
       "initial": 0,
       "n": 0,
       "ncols": 90,
       "nrows": 24,
       "postfix": null,
       "prefix": "Validation",
       "rate": null,
       "total": null,
       "unit": "it",
       "unit_divisor": 1000,
       "unit_scale": false
      },
      "application/vnd.jupyter.widget-view+json": {
       "model_id": "99dd656f82b24891b7c39cec9d4a8965",
       "version_major": 2,
       "version_minor": 0
      },
      "text/plain": [
       "Validation: 0it [00:00, ?it/s]"
      ]
     },
     "metadata": {},
     "output_type": "display_data"
    },
    {
     "data": {
      "application/json": {
       "ascii": false,
       "bar_format": null,
       "colour": null,
       "elapsed": 0.005049228668212891,
       "initial": 0,
       "n": 0,
       "ncols": 90,
       "nrows": 24,
       "postfix": null,
       "prefix": "Validation",
       "rate": null,
       "total": null,
       "unit": "it",
       "unit_divisor": 1000,
       "unit_scale": false
      },
      "application/vnd.jupyter.widget-view+json": {
       "model_id": "50a3c069957246258d359c413ea786bb",
       "version_major": 2,
       "version_minor": 0
      },
      "text/plain": [
       "Validation: 0it [00:00, ?it/s]"
      ]
     },
     "metadata": {},
     "output_type": "display_data"
    },
    {
     "data": {
      "application/json": {
       "ascii": false,
       "bar_format": null,
       "colour": null,
       "elapsed": 0.005011081695556641,
       "initial": 0,
       "n": 0,
       "ncols": 90,
       "nrows": 24,
       "postfix": null,
       "prefix": "Validation",
       "rate": null,
       "total": null,
       "unit": "it",
       "unit_divisor": 1000,
       "unit_scale": false
      },
      "application/vnd.jupyter.widget-view+json": {
       "model_id": "dd1073b56aaa4fd39257bdf19b70a0a1",
       "version_major": 2,
       "version_minor": 0
      },
      "text/plain": [
       "Validation: 0it [00:00, ?it/s]"
      ]
     },
     "metadata": {},
     "output_type": "display_data"
    },
    {
     "data": {
      "application/json": {
       "ascii": false,
       "bar_format": null,
       "colour": null,
       "elapsed": 0.00488734245300293,
       "initial": 0,
       "n": 0,
       "ncols": 90,
       "nrows": 24,
       "postfix": null,
       "prefix": "Validation",
       "rate": null,
       "total": null,
       "unit": "it",
       "unit_divisor": 1000,
       "unit_scale": false
      },
      "application/vnd.jupyter.widget-view+json": {
       "model_id": "bde01841c52f4bc68b37bf0e68da7473",
       "version_major": 2,
       "version_minor": 0
      },
      "text/plain": [
       "Validation: 0it [00:00, ?it/s]"
      ]
     },
     "metadata": {},
     "output_type": "display_data"
    },
    {
     "name": "stdout",
     "output_type": "stream",
     "text": [
      "Epoch 00063: reducing learning rate of group 0 to 6.4000e-04.\n"
     ]
    },
    {
     "data": {
      "application/json": {
       "ascii": false,
       "bar_format": null,
       "colour": null,
       "elapsed": 0.004950284957885742,
       "initial": 0,
       "n": 0,
       "ncols": 90,
       "nrows": 24,
       "postfix": null,
       "prefix": "Validation",
       "rate": null,
       "total": null,
       "unit": "it",
       "unit_divisor": 1000,
       "unit_scale": false
      },
      "application/vnd.jupyter.widget-view+json": {
       "model_id": "aab4c157d07f48d680a6b97005de6672",
       "version_major": 2,
       "version_minor": 0
      },
      "text/plain": [
       "Validation: 0it [00:00, ?it/s]"
      ]
     },
     "metadata": {},
     "output_type": "display_data"
    },
    {
     "data": {
      "application/json": {
       "ascii": false,
       "bar_format": null,
       "colour": null,
       "elapsed": 0.004996538162231445,
       "initial": 0,
       "n": 0,
       "ncols": 90,
       "nrows": 24,
       "postfix": null,
       "prefix": "Validation",
       "rate": null,
       "total": null,
       "unit": "it",
       "unit_divisor": 1000,
       "unit_scale": false
      },
      "application/vnd.jupyter.widget-view+json": {
       "model_id": "7672f3974f1748fbb19b6803e53542f2",
       "version_major": 2,
       "version_minor": 0
      },
      "text/plain": [
       "Validation: 0it [00:00, ?it/s]"
      ]
     },
     "metadata": {},
     "output_type": "display_data"
    },
    {
     "data": {
      "application/json": {
       "ascii": false,
       "bar_format": null,
       "colour": null,
       "elapsed": 0.004884958267211914,
       "initial": 0,
       "n": 0,
       "ncols": 90,
       "nrows": 24,
       "postfix": null,
       "prefix": "Validation",
       "rate": null,
       "total": null,
       "unit": "it",
       "unit_divisor": 1000,
       "unit_scale": false
      },
      "application/vnd.jupyter.widget-view+json": {
       "model_id": "08cfb1d6172e4ff8967795bdbbd6a2ef",
       "version_major": 2,
       "version_minor": 0
      },
      "text/plain": [
       "Validation: 0it [00:00, ?it/s]"
      ]
     },
     "metadata": {},
     "output_type": "display_data"
    },
    {
     "data": {
      "application/json": {
       "ascii": false,
       "bar_format": null,
       "colour": null,
       "elapsed": 0.0049896240234375,
       "initial": 0,
       "n": 0,
       "ncols": 90,
       "nrows": 24,
       "postfix": null,
       "prefix": "Validation",
       "rate": null,
       "total": null,
       "unit": "it",
       "unit_divisor": 1000,
       "unit_scale": false
      },
      "application/vnd.jupyter.widget-view+json": {
       "model_id": "596a0ccd4390463dbc369fd236c46efd",
       "version_major": 2,
       "version_minor": 0
      },
      "text/plain": [
       "Validation: 0it [00:00, ?it/s]"
      ]
     },
     "metadata": {},
     "output_type": "display_data"
    },
    {
     "data": {
      "application/json": {
       "ascii": false,
       "bar_format": null,
       "colour": null,
       "elapsed": 0.005093574523925781,
       "initial": 0,
       "n": 0,
       "ncols": 90,
       "nrows": 24,
       "postfix": null,
       "prefix": "Validation",
       "rate": null,
       "total": null,
       "unit": "it",
       "unit_divisor": 1000,
       "unit_scale": false
      },
      "application/vnd.jupyter.widget-view+json": {
       "model_id": "c36cbc16dc57491280bb3211d44384cf",
       "version_major": 2,
       "version_minor": 0
      },
      "text/plain": [
       "Validation: 0it [00:00, ?it/s]"
      ]
     },
     "metadata": {},
     "output_type": "display_data"
    },
    {
     "name": "stdout",
     "output_type": "stream",
     "text": [
      "Epoch 00068: reducing learning rate of group 0 to 5.1200e-04.\n"
     ]
    },
    {
     "data": {
      "application/json": {
       "ascii": false,
       "bar_format": null,
       "colour": null,
       "elapsed": 0.004934549331665039,
       "initial": 0,
       "n": 0,
       "ncols": 90,
       "nrows": 24,
       "postfix": null,
       "prefix": "Validation",
       "rate": null,
       "total": null,
       "unit": "it",
       "unit_divisor": 1000,
       "unit_scale": false
      },
      "application/vnd.jupyter.widget-view+json": {
       "model_id": "f7c6c73e87c749749eb7c3ef07e7ac38",
       "version_major": 2,
       "version_minor": 0
      },
      "text/plain": [
       "Validation: 0it [00:00, ?it/s]"
      ]
     },
     "metadata": {},
     "output_type": "display_data"
    },
    {
     "data": {
      "application/json": {
       "ascii": false,
       "bar_format": null,
       "colour": null,
       "elapsed": 0.004976034164428711,
       "initial": 0,
       "n": 0,
       "ncols": 90,
       "nrows": 24,
       "postfix": null,
       "prefix": "Validation",
       "rate": null,
       "total": null,
       "unit": "it",
       "unit_divisor": 1000,
       "unit_scale": false
      },
      "application/vnd.jupyter.widget-view+json": {
       "model_id": "0f9c350d14c74f80ae17b4dd1df67dc6",
       "version_major": 2,
       "version_minor": 0
      },
      "text/plain": [
       "Validation: 0it [00:00, ?it/s]"
      ]
     },
     "metadata": {},
     "output_type": "display_data"
    },
    {
     "data": {
      "application/json": {
       "ascii": false,
       "bar_format": null,
       "colour": null,
       "elapsed": 0.004976034164428711,
       "initial": 0,
       "n": 0,
       "ncols": 90,
       "nrows": 24,
       "postfix": null,
       "prefix": "Validation",
       "rate": null,
       "total": null,
       "unit": "it",
       "unit_divisor": 1000,
       "unit_scale": false
      },
      "application/vnd.jupyter.widget-view+json": {
       "model_id": "e81e12d7ecef4a6cb1caa8cd9ddf65e1",
       "version_major": 2,
       "version_minor": 0
      },
      "text/plain": [
       "Validation: 0it [00:00, ?it/s]"
      ]
     },
     "metadata": {},
     "output_type": "display_data"
    },
    {
     "data": {
      "application/json": {
       "ascii": false,
       "bar_format": null,
       "colour": null,
       "elapsed": 0.005036830902099609,
       "initial": 0,
       "n": 0,
       "ncols": 90,
       "nrows": 24,
       "postfix": null,
       "prefix": "Validation",
       "rate": null,
       "total": null,
       "unit": "it",
       "unit_divisor": 1000,
       "unit_scale": false
      },
      "application/vnd.jupyter.widget-view+json": {
       "model_id": "3421f91d9d424ba6b134eb6649bd1613",
       "version_major": 2,
       "version_minor": 0
      },
      "text/plain": [
       "Validation: 0it [00:00, ?it/s]"
      ]
     },
     "metadata": {},
     "output_type": "display_data"
    },
    {
     "data": {
      "application/json": {
       "ascii": false,
       "bar_format": null,
       "colour": null,
       "elapsed": 0.005036592483520508,
       "initial": 0,
       "n": 0,
       "ncols": 90,
       "nrows": 24,
       "postfix": null,
       "prefix": "Validation",
       "rate": null,
       "total": null,
       "unit": "it",
       "unit_divisor": 1000,
       "unit_scale": false
      },
      "application/vnd.jupyter.widget-view+json": {
       "model_id": "f6dbbd6ab82f48bb932652f524285ace",
       "version_major": 2,
       "version_minor": 0
      },
      "text/plain": [
       "Validation: 0it [00:00, ?it/s]"
      ]
     },
     "metadata": {},
     "output_type": "display_data"
    },
    {
     "data": {
      "application/json": {
       "ascii": false,
       "bar_format": null,
       "colour": null,
       "elapsed": 0.0051174163818359375,
       "initial": 0,
       "n": 0,
       "ncols": 90,
       "nrows": 24,
       "postfix": null,
       "prefix": "Validation",
       "rate": null,
       "total": null,
       "unit": "it",
       "unit_divisor": 1000,
       "unit_scale": false
      },
      "application/vnd.jupyter.widget-view+json": {
       "model_id": "24a8fdacbb284fc18a11ef6bbe631dd5",
       "version_major": 2,
       "version_minor": 0
      },
      "text/plain": [
       "Validation: 0it [00:00, ?it/s]"
      ]
     },
     "metadata": {},
     "output_type": "display_data"
    },
    {
     "data": {
      "application/json": {
       "ascii": false,
       "bar_format": null,
       "colour": null,
       "elapsed": 0.0051403045654296875,
       "initial": 0,
       "n": 0,
       "ncols": 90,
       "nrows": 24,
       "postfix": null,
       "prefix": "Validation",
       "rate": null,
       "total": null,
       "unit": "it",
       "unit_divisor": 1000,
       "unit_scale": false
      },
      "application/vnd.jupyter.widget-view+json": {
       "model_id": "08faa1647ae949a5b212d347acbaae1b",
       "version_major": 2,
       "version_minor": 0
      },
      "text/plain": [
       "Validation: 0it [00:00, ?it/s]"
      ]
     },
     "metadata": {},
     "output_type": "display_data"
    },
    {
     "data": {
      "application/json": {
       "ascii": false,
       "bar_format": null,
       "colour": null,
       "elapsed": 0.0049474239349365234,
       "initial": 0,
       "n": 0,
       "ncols": 90,
       "nrows": 24,
       "postfix": null,
       "prefix": "Validation",
       "rate": null,
       "total": null,
       "unit": "it",
       "unit_divisor": 1000,
       "unit_scale": false
      },
      "application/vnd.jupyter.widget-view+json": {
       "model_id": "e209ef499bac472dad0a8f9abea51aad",
       "version_major": 2,
       "version_minor": 0
      },
      "text/plain": [
       "Validation: 0it [00:00, ?it/s]"
      ]
     },
     "metadata": {},
     "output_type": "display_data"
    },
    {
     "name": "stdout",
     "output_type": "stream",
     "text": [
      "Epoch 00076: reducing learning rate of group 0 to 4.0960e-04.\n"
     ]
    },
    {
     "data": {
      "application/json": {
       "ascii": false,
       "bar_format": null,
       "colour": null,
       "elapsed": 0.004980564117431641,
       "initial": 0,
       "n": 0,
       "ncols": 90,
       "nrows": 24,
       "postfix": null,
       "prefix": "Validation",
       "rate": null,
       "total": null,
       "unit": "it",
       "unit_divisor": 1000,
       "unit_scale": false
      },
      "application/vnd.jupyter.widget-view+json": {
       "model_id": "bf02478e0a05472d9ba943d9fcb7c98d",
       "version_major": 2,
       "version_minor": 0
      },
      "text/plain": [
       "Validation: 0it [00:00, ?it/s]"
      ]
     },
     "metadata": {},
     "output_type": "display_data"
    },
    {
     "data": {
      "application/json": {
       "ascii": false,
       "bar_format": null,
       "colour": null,
       "elapsed": 0.004906177520751953,
       "initial": 0,
       "n": 0,
       "ncols": 90,
       "nrows": 24,
       "postfix": null,
       "prefix": "Validation",
       "rate": null,
       "total": null,
       "unit": "it",
       "unit_divisor": 1000,
       "unit_scale": false
      },
      "application/vnd.jupyter.widget-view+json": {
       "model_id": "8d94c1756787420ab042e7a6297f425d",
       "version_major": 2,
       "version_minor": 0
      },
      "text/plain": [
       "Validation: 0it [00:00, ?it/s]"
      ]
     },
     "metadata": {},
     "output_type": "display_data"
    },
    {
     "data": {
      "application/json": {
       "ascii": false,
       "bar_format": null,
       "colour": null,
       "elapsed": 0.004940032958984375,
       "initial": 0,
       "n": 0,
       "ncols": 90,
       "nrows": 24,
       "postfix": null,
       "prefix": "Validation",
       "rate": null,
       "total": null,
       "unit": "it",
       "unit_divisor": 1000,
       "unit_scale": false
      },
      "application/vnd.jupyter.widget-view+json": {
       "model_id": "a22c6f7ea9344aa7b5575d330c917466",
       "version_major": 2,
       "version_minor": 0
      },
      "text/plain": [
       "Validation: 0it [00:00, ?it/s]"
      ]
     },
     "metadata": {},
     "output_type": "display_data"
    },
    {
     "data": {
      "application/json": {
       "ascii": false,
       "bar_format": null,
       "colour": null,
       "elapsed": 0.00500035285949707,
       "initial": 0,
       "n": 0,
       "ncols": 90,
       "nrows": 24,
       "postfix": null,
       "prefix": "Validation",
       "rate": null,
       "total": null,
       "unit": "it",
       "unit_divisor": 1000,
       "unit_scale": false
      },
      "application/vnd.jupyter.widget-view+json": {
       "model_id": "fc8fe60664db4168aca80f30c908dac4",
       "version_major": 2,
       "version_minor": 0
      },
      "text/plain": [
       "Validation: 0it [00:00, ?it/s]"
      ]
     },
     "metadata": {},
     "output_type": "display_data"
    },
    {
     "name": "stdout",
     "output_type": "stream",
     "text": [
      "Epoch 00080: reducing learning rate of group 0 to 3.2768e-04.\n"
     ]
    },
    {
     "data": {
      "application/json": {
       "ascii": false,
       "bar_format": null,
       "colour": null,
       "elapsed": 0.004944562911987305,
       "initial": 0,
       "n": 0,
       "ncols": 90,
       "nrows": 24,
       "postfix": null,
       "prefix": "Validation",
       "rate": null,
       "total": null,
       "unit": "it",
       "unit_divisor": 1000,
       "unit_scale": false
      },
      "application/vnd.jupyter.widget-view+json": {
       "model_id": "8eb9b4cea5bf4cf4a82926bc189ec525",
       "version_major": 2,
       "version_minor": 0
      },
      "text/plain": [
       "Validation: 0it [00:00, ?it/s]"
      ]
     },
     "metadata": {},
     "output_type": "display_data"
    },
    {
     "data": {
      "application/json": {
       "ascii": false,
       "bar_format": null,
       "colour": null,
       "elapsed": 0.00500941276550293,
       "initial": 0,
       "n": 0,
       "ncols": 90,
       "nrows": 24,
       "postfix": null,
       "prefix": "Validation",
       "rate": null,
       "total": null,
       "unit": "it",
       "unit_divisor": 1000,
       "unit_scale": false
      },
      "application/vnd.jupyter.widget-view+json": {
       "model_id": "6050963869664e1685d68652cee8357b",
       "version_major": 2,
       "version_minor": 0
      },
      "text/plain": [
       "Validation: 0it [00:00, ?it/s]"
      ]
     },
     "metadata": {},
     "output_type": "display_data"
    },
    {
     "data": {
      "application/json": {
       "ascii": false,
       "bar_format": null,
       "colour": null,
       "elapsed": 0.0049152374267578125,
       "initial": 0,
       "n": 0,
       "ncols": 90,
       "nrows": 24,
       "postfix": null,
       "prefix": "Validation",
       "rate": null,
       "total": null,
       "unit": "it",
       "unit_divisor": 1000,
       "unit_scale": false
      },
      "application/vnd.jupyter.widget-view+json": {
       "model_id": "519c8897c7f74d98b4e7c82b014c4c45",
       "version_major": 2,
       "version_minor": 0
      },
      "text/plain": [
       "Validation: 0it [00:00, ?it/s]"
      ]
     },
     "metadata": {},
     "output_type": "display_data"
    },
    {
     "data": {
      "application/json": {
       "ascii": false,
       "bar_format": null,
       "colour": null,
       "elapsed": 0.0049211978912353516,
       "initial": 0,
       "n": 0,
       "ncols": 90,
       "nrows": 24,
       "postfix": null,
       "prefix": "Validation",
       "rate": null,
       "total": null,
       "unit": "it",
       "unit_divisor": 1000,
       "unit_scale": false
      },
      "application/vnd.jupyter.widget-view+json": {
       "model_id": "1fd9342f505140a6bf77a8ef24143835",
       "version_major": 2,
       "version_minor": 0
      },
      "text/plain": [
       "Validation: 0it [00:00, ?it/s]"
      ]
     },
     "metadata": {},
     "output_type": "display_data"
    },
    {
     "name": "stdout",
     "output_type": "stream",
     "text": [
      "Epoch 00084: reducing learning rate of group 0 to 2.6214e-04.\n"
     ]
    },
    {
     "data": {
      "application/json": {
       "ascii": false,
       "bar_format": null,
       "colour": null,
       "elapsed": 0.004912376403808594,
       "initial": 0,
       "n": 0,
       "ncols": 90,
       "nrows": 24,
       "postfix": null,
       "prefix": "Validation",
       "rate": null,
       "total": null,
       "unit": "it",
       "unit_divisor": 1000,
       "unit_scale": false
      },
      "application/vnd.jupyter.widget-view+json": {
       "model_id": "bf9b19983e824cd5b896e28c7d72a5fa",
       "version_major": 2,
       "version_minor": 0
      },
      "text/plain": [
       "Validation: 0it [00:00, ?it/s]"
      ]
     },
     "metadata": {},
     "output_type": "display_data"
    },
    {
     "data": {
      "application/json": {
       "ascii": false,
       "bar_format": null,
       "colour": null,
       "elapsed": 0.0049784183502197266,
       "initial": 0,
       "n": 0,
       "ncols": 90,
       "nrows": 24,
       "postfix": null,
       "prefix": "Validation",
       "rate": null,
       "total": null,
       "unit": "it",
       "unit_divisor": 1000,
       "unit_scale": false
      },
      "application/vnd.jupyter.widget-view+json": {
       "model_id": "062b701bd7574b05b22d7ddd9ecc2533",
       "version_major": 2,
       "version_minor": 0
      },
      "text/plain": [
       "Validation: 0it [00:00, ?it/s]"
      ]
     },
     "metadata": {},
     "output_type": "display_data"
    },
    {
     "data": {
      "application/json": {
       "ascii": false,
       "bar_format": null,
       "colour": null,
       "elapsed": 0.005052328109741211,
       "initial": 0,
       "n": 0,
       "ncols": 90,
       "nrows": 24,
       "postfix": null,
       "prefix": "Validation",
       "rate": null,
       "total": null,
       "unit": "it",
       "unit_divisor": 1000,
       "unit_scale": false
      },
      "application/vnd.jupyter.widget-view+json": {
       "model_id": "4646f20e10c441849445c31d3c34b6cd",
       "version_major": 2,
       "version_minor": 0
      },
      "text/plain": [
       "Validation: 0it [00:00, ?it/s]"
      ]
     },
     "metadata": {},
     "output_type": "display_data"
    },
    {
     "data": {
      "application/json": {
       "ascii": false,
       "bar_format": null,
       "colour": null,
       "elapsed": 0.0049343109130859375,
       "initial": 0,
       "n": 0,
       "ncols": 90,
       "nrows": 24,
       "postfix": null,
       "prefix": "Validation",
       "rate": null,
       "total": null,
       "unit": "it",
       "unit_divisor": 1000,
       "unit_scale": false
      },
      "application/vnd.jupyter.widget-view+json": {
       "model_id": "6000a3cc38bf430e99fdf4ea8f25e752",
       "version_major": 2,
       "version_minor": 0
      },
      "text/plain": [
       "Validation: 0it [00:00, ?it/s]"
      ]
     },
     "metadata": {},
     "output_type": "display_data"
    },
    {
     "name": "stdout",
     "output_type": "stream",
     "text": [
      "Epoch 00088: reducing learning rate of group 0 to 2.0972e-04.\n"
     ]
    },
    {
     "data": {
      "application/json": {
       "ascii": false,
       "bar_format": null,
       "colour": null,
       "elapsed": 0.004913330078125,
       "initial": 0,
       "n": 0,
       "ncols": 90,
       "nrows": 24,
       "postfix": null,
       "prefix": "Validation",
       "rate": null,
       "total": null,
       "unit": "it",
       "unit_divisor": 1000,
       "unit_scale": false
      },
      "application/vnd.jupyter.widget-view+json": {
       "model_id": "a81c76380dee468bbf7765ccefb9dbf9",
       "version_major": 2,
       "version_minor": 0
      },
      "text/plain": [
       "Validation: 0it [00:00, ?it/s]"
      ]
     },
     "metadata": {},
     "output_type": "display_data"
    },
    {
     "data": {
      "application/json": {
       "ascii": false,
       "bar_format": null,
       "colour": null,
       "elapsed": 0.004909038543701172,
       "initial": 0,
       "n": 0,
       "ncols": 90,
       "nrows": 24,
       "postfix": null,
       "prefix": "Validation",
       "rate": null,
       "total": null,
       "unit": "it",
       "unit_divisor": 1000,
       "unit_scale": false
      },
      "application/vnd.jupyter.widget-view+json": {
       "model_id": "db14b7fb6d4540cb97bf946b583f0cde",
       "version_major": 2,
       "version_minor": 0
      },
      "text/plain": [
       "Validation: 0it [00:00, ?it/s]"
      ]
     },
     "metadata": {},
     "output_type": "display_data"
    },
    {
     "data": {
      "application/json": {
       "ascii": false,
       "bar_format": null,
       "colour": null,
       "elapsed": 0.004860639572143555,
       "initial": 0,
       "n": 0,
       "ncols": 90,
       "nrows": 24,
       "postfix": null,
       "prefix": "Validation",
       "rate": null,
       "total": null,
       "unit": "it",
       "unit_divisor": 1000,
       "unit_scale": false
      },
      "application/vnd.jupyter.widget-view+json": {
       "model_id": "02694d7dc52641cb876b67671aad8241",
       "version_major": 2,
       "version_minor": 0
      },
      "text/plain": [
       "Validation: 0it [00:00, ?it/s]"
      ]
     },
     "metadata": {},
     "output_type": "display_data"
    },
    {
     "data": {
      "application/json": {
       "ascii": false,
       "bar_format": null,
       "colour": null,
       "elapsed": 0.005056142807006836,
       "initial": 0,
       "n": 0,
       "ncols": 90,
       "nrows": 24,
       "postfix": null,
       "prefix": "Validation",
       "rate": null,
       "total": null,
       "unit": "it",
       "unit_divisor": 1000,
       "unit_scale": false
      },
      "application/vnd.jupyter.widget-view+json": {
       "model_id": "ec246583112646b89ce8a561e9d90d79",
       "version_major": 2,
       "version_minor": 0
      },
      "text/plain": [
       "Validation: 0it [00:00, ?it/s]"
      ]
     },
     "metadata": {},
     "output_type": "display_data"
    },
    {
     "name": "stdout",
     "output_type": "stream",
     "text": [
      "Epoch 00092: reducing learning rate of group 0 to 1.6777e-04.\n"
     ]
    },
    {
     "data": {
      "application/json": {
       "ascii": false,
       "bar_format": null,
       "colour": null,
       "elapsed": 0.004989147186279297,
       "initial": 0,
       "n": 0,
       "ncols": 90,
       "nrows": 24,
       "postfix": null,
       "prefix": "Validation",
       "rate": null,
       "total": null,
       "unit": "it",
       "unit_divisor": 1000,
       "unit_scale": false
      },
      "application/vnd.jupyter.widget-view+json": {
       "model_id": "9def338c97d14e649143bc1b0557aee9",
       "version_major": 2,
       "version_minor": 0
      },
      "text/plain": [
       "Validation: 0it [00:00, ?it/s]"
      ]
     },
     "metadata": {},
     "output_type": "display_data"
    },
    {
     "data": {
      "application/json": {
       "ascii": false,
       "bar_format": null,
       "colour": null,
       "elapsed": 0.004883766174316406,
       "initial": 0,
       "n": 0,
       "ncols": 90,
       "nrows": 24,
       "postfix": null,
       "prefix": "Validation",
       "rate": null,
       "total": null,
       "unit": "it",
       "unit_divisor": 1000,
       "unit_scale": false
      },
      "application/vnd.jupyter.widget-view+json": {
       "model_id": "c8720c38e4064cdbb78e09b092624a5a",
       "version_major": 2,
       "version_minor": 0
      },
      "text/plain": [
       "Validation: 0it [00:00, ?it/s]"
      ]
     },
     "metadata": {},
     "output_type": "display_data"
    },
    {
     "data": {
      "application/json": {
       "ascii": false,
       "bar_format": null,
       "colour": null,
       "elapsed": 0.005019426345825195,
       "initial": 0,
       "n": 0,
       "ncols": 90,
       "nrows": 24,
       "postfix": null,
       "prefix": "Validation",
       "rate": null,
       "total": null,
       "unit": "it",
       "unit_divisor": 1000,
       "unit_scale": false
      },
      "application/vnd.jupyter.widget-view+json": {
       "model_id": "b2026cda9bb14a1ba59562c8d790cf0f",
       "version_major": 2,
       "version_minor": 0
      },
      "text/plain": [
       "Validation: 0it [00:00, ?it/s]"
      ]
     },
     "metadata": {},
     "output_type": "display_data"
    },
    {
     "data": {
      "application/json": {
       "ascii": false,
       "bar_format": null,
       "colour": null,
       "elapsed": 0.00488591194152832,
       "initial": 0,
       "n": 0,
       "ncols": 90,
       "nrows": 24,
       "postfix": null,
       "prefix": "Validation",
       "rate": null,
       "total": null,
       "unit": "it",
       "unit_divisor": 1000,
       "unit_scale": false
      },
      "application/vnd.jupyter.widget-view+json": {
       "model_id": "93d389b722cc46838d17f44494c2bd8b",
       "version_major": 2,
       "version_minor": 0
      },
      "text/plain": [
       "Validation: 0it [00:00, ?it/s]"
      ]
     },
     "metadata": {},
     "output_type": "display_data"
    },
    {
     "name": "stdout",
     "output_type": "stream",
     "text": [
      "Epoch 00096: reducing learning rate of group 0 to 1.3422e-04.\n"
     ]
    },
    {
     "data": {
      "application/json": {
       "ascii": false,
       "bar_format": null,
       "colour": null,
       "elapsed": 0.0048596858978271484,
       "initial": 0,
       "n": 0,
       "ncols": 90,
       "nrows": 24,
       "postfix": null,
       "prefix": "Validation",
       "rate": null,
       "total": null,
       "unit": "it",
       "unit_divisor": 1000,
       "unit_scale": false
      },
      "application/vnd.jupyter.widget-view+json": {
       "model_id": "d1d2a2c1b97d4f82afda0710c4a7e21a",
       "version_major": 2,
       "version_minor": 0
      },
      "text/plain": [
       "Validation: 0it [00:00, ?it/s]"
      ]
     },
     "metadata": {},
     "output_type": "display_data"
    },
    {
     "data": {
      "application/json": {
       "ascii": false,
       "bar_format": null,
       "colour": null,
       "elapsed": 0.00499725341796875,
       "initial": 0,
       "n": 0,
       "ncols": 90,
       "nrows": 24,
       "postfix": null,
       "prefix": "Validation",
       "rate": null,
       "total": null,
       "unit": "it",
       "unit_divisor": 1000,
       "unit_scale": false
      },
      "application/vnd.jupyter.widget-view+json": {
       "model_id": "442a510f840d44e88ba693e5eadbe1a4",
       "version_major": 2,
       "version_minor": 0
      },
      "text/plain": [
       "Validation: 0it [00:00, ?it/s]"
      ]
     },
     "metadata": {},
     "output_type": "display_data"
    },
    {
     "data": {
      "application/json": {
       "ascii": false,
       "bar_format": null,
       "colour": null,
       "elapsed": 0.004860877990722656,
       "initial": 0,
       "n": 0,
       "ncols": 90,
       "nrows": 24,
       "postfix": null,
       "prefix": "Validation",
       "rate": null,
       "total": null,
       "unit": "it",
       "unit_divisor": 1000,
       "unit_scale": false
      },
      "application/vnd.jupyter.widget-view+json": {
       "model_id": "0297566cbc604eb2901b496cfc06a1cc",
       "version_major": 2,
       "version_minor": 0
      },
      "text/plain": [
       "Validation: 0it [00:00, ?it/s]"
      ]
     },
     "metadata": {},
     "output_type": "display_data"
    },
    {
     "data": {
      "application/json": {
       "ascii": false,
       "bar_format": null,
       "colour": null,
       "elapsed": 0.0049092769622802734,
       "initial": 0,
       "n": 0,
       "ncols": 90,
       "nrows": 24,
       "postfix": null,
       "prefix": "Validation",
       "rate": null,
       "total": null,
       "unit": "it",
       "unit_divisor": 1000,
       "unit_scale": false
      },
      "application/vnd.jupyter.widget-view+json": {
       "model_id": "78b36f8a386846cb805c7bee536b8b02",
       "version_major": 2,
       "version_minor": 0
      },
      "text/plain": [
       "Validation: 0it [00:00, ?it/s]"
      ]
     },
     "metadata": {},
     "output_type": "display_data"
    },
    {
     "name": "stderr",
     "output_type": "stream",
     "text": [
      "`Trainer.fit` stopped: `max_epochs=100` reached.\n"
     ]
    },
    {
     "name": "stdout",
     "output_type": "stream",
     "text": [
      "Epoch 00100: reducing learning rate of group 0 to 1.0737e-04.\n",
      "Policy network balanced accuracy: 0.876\n"
     ]
    }
   ],
   "source": [
    "run_policy_training(\n",
    "    datamodule=datamodule,  # The prepared data module for training.\n",
    "    config=training_config,  # The training configuration.\n",
    "    results_path=policy_network_root,  # Path to save the training results.\n",
    "    accelerator=\"gpu\",\n",
    "    devices=[0],\n",
    "    silent=False  # Whether to run the training in silent mode.\n",
    ")"
   ]
  },
  {
   "cell_type": "markdown",
   "id": "2f7a35be-8fec-4542-be66-a539170b4e55",
   "metadata": {},
   "source": [
    "## 4. Tree search with the ranking policy"
   ]
  },
  {
   "cell_type": "markdown",
   "id": "41ac5f25-8ff4-4d72-a8f2-f44e81aed7fd",
   "metadata": {},
   "source": [
    "The fourth and critical part of the Synto tutorial is the implementation of the tree search algorithm using the trained ranking policy. This section explains how the `Tree` class is initialized and used for Monte Carlo Tree Search (MCTS) in retrosynthesis, employing the ranking policy to guide the search."
   ]
  },
  {
   "cell_type": "code",
   "execution_count": 20,
   "id": "5d8c97cd-0e70-47a8-9fc1-7f0dc8351c5f",
   "metadata": {},
   "outputs": [],
   "source": [
    "from CGRtools import smiles\n",
    "from IPython.display import SVG, display\n",
    "\n",
    "from Syntool.utils.config import TreeConfig, PolicyNetworkConfig\n",
    "from Syntool.mcts.tree import Tree\n",
    "from Syntool.mcts.expansion import PolicyFunction\n",
    "from Syntool.interfaces.visualisation import path_graph"
   ]
  },
  {
   "cell_type": "code",
   "execution_count": 21,
   "id": "8084bdd5-17a4-4fce-bb23-0235217558a5",
   "metadata": {
    "scrolled": true
   },
   "outputs": [],
   "source": [
    "ranking_policy_weights = root_folder.joinpath('ranking_policy/weights/policy_network.ckpt').resolve(strict=True)\n",
    "reaction_rules = root_folder.joinpath('reaction_rules/uspto_rules_filtered.pickle').resolve(strict=True)\n",
    "building_blocks = root_folder.joinpath('building_blocks.smi').resolve(strict=True)"
   ]
  },
  {
   "cell_type": "code",
   "execution_count": 22,
   "id": "b5bbcdf4-b935-48f5-a95b-87e60f64d38c",
   "metadata": {},
   "outputs": [],
   "source": [
    "policy_config = PolicyNetworkConfig(weights_path=ranking_policy_weights)\n",
    "policy_function = PolicyFunction(policy_config=policy_config)"
   ]
  },
  {
   "cell_type": "markdown",
   "id": "9d588707-6f2e-4886-9982-17411e248f05",
   "metadata": {},
   "source": [
    "#### Configuring the Tree Search\n",
    "\n",
    "The tree search is configured using the `TreeConfig` class. Key parameters include:\n",
    "\n",
    "- **max_iterations**: Defines the total number of iterations the algorithm will perform, essentially setting a limit on how many times the tree search loop can run. Default is 100 iterations.\n",
    "- **max_tree_size**: Sets the upper limit on the total number of nodes that can exist in the search tree, controlling the size and complexity of the tree. Default value is 10,000 nodes.\n",
    "- **max_time**: Specifies a time limit for the algorithm's execution, measured in seconds. This prevents the search from running indefinitely. The default time limit is 600 seconds (10 minutes).\n",
    "- **max_depth**: Determines the maximum depth of the tree, effectively controlling how far the search can go from the root node. The default maximum depth is 6 levels.\n",
    "- **ucb_type**: Chooses the type of Upper Confidence Bound (UCB) algorithm used in the search. Options include \"puct\" (predictive UCB), \"uct\" (standard UCB), and \"value\". The default is \"uct\".\n",
    "- **c_ucb**: This is the exploration-exploitation balance coefficient in UCB, which influences how much the algorithm favors exploration of new paths versus exploitation of known paths. The default coefficient is 0.1.\n",
    "- **backprop_type**: Selects the backpropagation method used during the search. Options are \"muzero\" (model-based approach) and \"cumulative\" (cumulative reward approach). The default is \"muzero\".\n",
    "- **search_strategy**: Determines the strategy for navigating the tree. Options are \"expansion_first\" (prioritizing the expansion of new nodes) and \"evaluation_first\" (prioritizing the evaluation of existing nodes). The default strategy is \"expansion_first\".\n",
    "- **exclude_small**: A boolean setting that, when true, excludes small molecules from the search, typically to focus on more complex molecules. The default is set to True.\n",
    "- **evaluation_agg**: This setting determines how the evaluation scores are aggregated. Options are \"max\" (using the maximum score) and \"average\" (using the average score). The default method is \"max\".\n",
    "- **evaluation_mode**: Defines the method used for node evaluation. Options include \"random\" (random evaluations), \"rollout\" (using rollout simulations), and \"gcn\" (graph convolutional networks). The default is \"gcn\".\n",
    "- **init_node_value**: Sets the initial value for newly created nodes in the tree. This can impact how nodes are prioritized during the search. The default initial value is 0.0.\n",
    "- **epsilon**: This parameter is used in the epsilon-greedy strategy during node selection, representing the probability of choosing a random action for exploration. A higher value leads to more exploration. The default value is 0.0.\n",
    "- **min_mol_size**: Defines the minimum size of a molecule (in terms of the number of heavy atoms) to be considered in the search. Molecules smaller than this threshold are typically considered as readily available building blocks. The default is set to 6 heavy atoms.\n",
    "- **silent**: When set to True, this option suppresses the progress output of the tree search, keeping the output clean and focused. The default setting is False."
   ]
  },
  {
   "cell_type": "code",
   "execution_count": 23,
   "id": "17f18c3b-1889-4e7f-bbbf-fc8b51f5f469",
   "metadata": {},
   "outputs": [],
   "source": [
    "tree_config = TreeConfig(\n",
    "    search_strategy=\"expansion_first\",\n",
    "    evaluation_mode=\"rollout\",\n",
    "    min_mol_size=0,\n",
    "    init_node_value=0.5,\n",
    "    ucb_type=\"uct\",\n",
    "    c_ucb=0.1,\n",
    "    max_iterations=100,\n",
    "    max_depth=9\n",
    ")"
   ]
  },
  {
   "cell_type": "code",
   "execution_count": 24,
   "id": "2cbe5368-76a6-4214-8637-0a55f2c76930",
   "metadata": {},
   "outputs": [],
   "source": [
    "example_molecule = 'Cc1cc(C)c(C2=Nn3c(C)nnc3SC2C)cc1C'"
   ]
  },
  {
   "cell_type": "code",
   "execution_count": 25,
   "id": "070630a3-489d-48c1-933a-0b05881881c6",
   "metadata": {},
   "outputs": [
    {
     "data": {
      "image/svg+xml": [
       "<svg width=\"7.34cm\" height=\"4.81cm\" viewBox=\"-3.93 -0.63 7.34 4.81\" xmlns=\"http://www.w3.org/2000/svg\" version=\"1.1\">\n",
       "  <g>\n",
       "    <defs>\n",
       "      <mask id=\"mask-0cd8c3a6-ec43-4e05-acfd-4196b9bf14f5\">\n",
       "        <rect x=\"-3.93\" y=\"-0.63\" width=\"7.34\" height=\"4.81\" fill=\"white\"/>\n",
       "        <g fill=\"black\">\n",
       "          <circle cx=\"0.41\" cy=\"2.14\" r=\"0.20\"/>\n",
       "          <circle cx=\"1.24\" cy=\"2.14\" r=\"0.20\"/>\n",
       "          <circle cx=\"2.54\" cy=\"2.42\" r=\"0.20\"/>\n",
       "          <circle cx=\"2.46\" cy=\"1.60\" r=\"0.20\"/>\n",
       "          <circle cx=\"1.24\" cy=\"0.71\" r=\"0.20\"/>\n",
       "        </g>\n",
       "        <g font-family=\"monospace\" stroke=\"black\">\n",
       "          <g font-family=\"sans-serif\" font-size=\"0.50\" stroke-width=\"0.05\">\n",
       "            <text x=\"0.41\" y=\"2.14\" dx=\"-0.20\" dy=\"0.20\">N</text>\n",
       "            <text x=\"1.24\" y=\"2.14\" dx=\"-0.20\" dy=\"0.20\">N</text>\n",
       "            <text x=\"2.54\" y=\"2.42\" dx=\"-0.20\" dy=\"0.20\">N</text>\n",
       "            <text x=\"2.46\" y=\"1.60\" dx=\"-0.20\" dy=\"0.20\">N</text>\n",
       "            <text x=\"1.24\" y=\"0.71\" dx=\"-0.20\" dy=\"0.20\">S</text>\n",
       "          </g>\n",
       "        </g>\n",
       "      </mask>\n",
       "    </defs>\n",
       "    <g fill=\"none\" stroke=\"black\" stroke-width=\"0.04\"  mask=\"url(#mask-0cd8c3a6-ec43-4e05-acfd-4196b9bf14f5)\">\n",
       "      <line x1=\"-3.30\" y1=\"1.43\" x2=\"-2.48\" y2=\"1.43\"/>\n",
       "      <line x1=\"-2.48\" y1=\"1.43\" x2=\"-2.06\" y2=\"0.71\"/>\n",
       "      <line x1=\"-2.48\" y1=\"1.43\" x2=\"-2.06\" y2=\"2.14\"/>\n",
       "      <line x1=\"-2.06\" y1=\"0.71\" x2=\"-1.24\" y2=\"0.71\"/>\n",
       "      <line x1=\"-1.24\" y1=\"0.71\" x2=\"-0.82\" y2=\"-0.00\"/>\n",
       "      <line x1=\"-1.24\" y1=\"0.71\" x2=\"-0.83\" y2=\"1.43\"/>\n",
       "      <line x1=\"-0.83\" y1=\"1.43\" x2=\"-0.00\" y2=\"1.43\"/>\n",
       "      <line x1=\"-0.83\" y1=\"1.43\" x2=\"-1.24\" y2=\"2.14\"/>\n",
       "      <line x1=\"0.05\" y1=\"1.40\" x2=\"0.46\" y2=\"2.11\"/>\n",
       "      <line x1=\"-0.05\" y1=\"1.46\" x2=\"0.36\" y2=\"2.17\"/>\n",
       "      <line x1=\"-0.00\" y1=\"1.43\" x2=\"0.41\" y2=\"0.71\"/>\n",
       "      <line x1=\"0.41\" y1=\"2.14\" x2=\"1.24\" y2=\"2.14\"/>\n",
       "      <line x1=\"1.24\" y1=\"2.14\" x2=\"1.79\" y2=\"2.76\"/>\n",
       "      <line x1=\"1.24\" y1=\"2.14\" x2=\"1.65\" y2=\"1.43\"/>\n",
       "      <line x1=\"1.79\" y1=\"2.76\" x2=\"1.62\" y2=\"3.56\"/>\n",
       "      <line x1=\"1.79\" y1=\"2.76\" x2=\"2.54\" y2=\"2.42\"/>\n",
       "      <line x1=\"2.54\" y1=\"2.42\" x2=\"2.46\" y2=\"1.60\"/>\n",
       "      <line x1=\"2.46\" y1=\"1.60\" x2=\"1.65\" y2=\"1.43\"/>\n",
       "      <line x1=\"1.65\" y1=\"1.43\" x2=\"1.24\" y2=\"0.71\"/>\n",
       "      <line x1=\"1.24\" y1=\"0.71\" x2=\"0.41\" y2=\"0.71\"/>\n",
       "      <line x1=\"0.41\" y1=\"0.71\" x2=\"0.00\" y2=\"-0.00\"/>\n",
       "      <line x1=\"-1.24\" y1=\"2.14\" x2=\"-2.06\" y2=\"2.14\"/>\n",
       "      <line x1=\"-2.06\" y1=\"2.14\" x2=\"-2.48\" y2=\"2.86\"/>\n",
       "      <line x1=\"1.41\" y1=\"2.13\" x2=\"1.83\" y2=\"2.59\" stroke-dasharray=\"0.15 0.05\"/>\n",
       "      <line x1=\"1.83\" y1=\"2.59\" x2=\"2.39\" y2=\"2.33\" stroke-dasharray=\"0.15 0.05\"/>\n",
       "      <line x1=\"2.39\" y1=\"2.33\" x2=\"2.33\" y2=\"1.72\" stroke-dasharray=\"0.15 0.05\"/>\n",
       "      <line x1=\"2.33\" y1=\"1.72\" x2=\"1.72\" y2=\"1.59\" stroke-dasharray=\"0.15 0.05\"/>\n",
       "      <line x1=\"1.72\" y1=\"1.59\" x2=\"1.41\" y2=\"2.13\" stroke-dasharray=\"0.15 0.05\"/>\n",
       "      <line x1=\"-2.31\" y1=\"1.43\" x2=\"-1.98\" y2=\"0.85\" stroke-dasharray=\"0.15 0.05\"/>\n",
       "      <line x1=\"-1.98\" y1=\"0.85\" x2=\"-1.32\" y2=\"0.85\" stroke-dasharray=\"0.15 0.05\"/>\n",
       "      <line x1=\"-1.32\" y1=\"0.85\" x2=\"-0.99\" y2=\"1.43\" stroke-dasharray=\"0.15 0.05\"/>\n",
       "      <line x1=\"-0.99\" y1=\"1.43\" x2=\"-1.32\" y2=\"2.00\" stroke-dasharray=\"0.15 0.05\"/>\n",
       "      <line x1=\"-1.32\" y1=\"2.00\" x2=\"-1.98\" y2=\"2.00\" stroke-dasharray=\"0.15 0.05\"/>\n",
       "      <line x1=\"-1.98\" y1=\"2.00\" x2=\"-2.31\" y2=\"1.43\" stroke-dasharray=\"0.15 0.05\"/>\n",
       "    </g>\n",
       "    <g font-family=\"monospace\">\n",
       "      <g fill=\"#3050F8\" font-family=\"sans-serif\">\n",
       "        <text x=\"0.41\" y=\"2.14\" dx=\"-0.20\" dy=\"0.20\" font-size=\"0.50\">N</text>\n",
       "      </g>\n",
       "      <g fill=\"#3050F8\" font-family=\"sans-serif\">\n",
       "        <text x=\"1.24\" y=\"2.14\" dx=\"-0.20\" dy=\"0.20\" font-size=\"0.50\">N</text>\n",
       "      </g>\n",
       "      <g fill=\"#3050F8\" font-family=\"sans-serif\">\n",
       "        <text x=\"2.54\" y=\"2.42\" dx=\"-0.20\" dy=\"0.20\" font-size=\"0.50\">N</text>\n",
       "      </g>\n",
       "      <g fill=\"#3050F8\" font-family=\"sans-serif\">\n",
       "        <text x=\"2.46\" y=\"1.60\" dx=\"-0.20\" dy=\"0.20\" font-size=\"0.50\">N</text>\n",
       "      </g>\n",
       "      <g fill=\"#C6C600\" font-family=\"sans-serif\">\n",
       "        <text x=\"1.24\" y=\"0.71\" dx=\"-0.20\" dy=\"0.20\" font-size=\"0.50\">S</text>\n",
       "      </g>\n",
       "    </g>\n",
       "  </g>\n",
       "</svg>"
      ],
      "text/plain": [
       "<CGRtools.containers.molecule.MoleculeContainer at 0x7fd56e18a340>"
      ]
     },
     "execution_count": 25,
     "metadata": {},
     "output_type": "execute_result"
    }
   ],
   "source": [
    "target = smiles(example_molecule)\n",
    "target.canonicalize()\n",
    "target.clean2d()\n",
    "target"
   ]
  },
  {
   "cell_type": "markdown",
   "id": "35fe4682-4ba3-4bbe-9aa1-87f71c41fd44",
   "metadata": {},
   "source": [
    "#### Initializing the Tree\n",
    "\n",
    "The `Tree` class is initialized with the target molecule, the path to reaction rules, building blocks, the tree configuration, and the policy function. The policy function, obtained from the trained ranking policy, guides the selection of retrosynthetic transformations."
   ]
  },
  {
   "cell_type": "code",
   "execution_count": 26,
   "id": "d5359d1a-06a0-4797-88f1-edafbbfe3b07",
   "metadata": {},
   "outputs": [],
   "source": [
    "tree = Tree(\n",
    "    target=target, \n",
    "    reaction_rules_path=reaction_rules,\n",
    "    building_blocks_path=str(building_blocks),\n",
    "    tree_config=tree_config,\n",
    "    policy_function=policy_function,\n",
    ")"
   ]
  },
  {
   "cell_type": "markdown",
   "id": "3374e6af-b86e-4e16-9f1f-b390dd6dc1f2",
   "metadata": {},
   "source": [
    "#### Running the Tree Search\n",
    "\n",
    "The tree search is executed by iterating over the `Tree` object. Each iteration of the tree explores new nodes and expands the search space, guided by the ranking policy and the MCTS algorithm."
   ]
  },
  {
   "cell_type": "code",
   "execution_count": 27,
   "id": "f770fe0c-645c-49c6-9589-00f08fd6d515",
   "metadata": {},
   "outputs": [
    {
     "data": {
      "application/json": {
       "ascii": false,
       "bar_format": null,
       "colour": null,
       "elapsed": 0.0043222904205322266,
       "initial": 0,
       "n": 0,
       "ncols": null,
       "nrows": 24,
       "postfix": null,
       "prefix": "",
       "rate": null,
       "total": 100,
       "unit": "it",
       "unit_divisor": 1000,
       "unit_scale": false
      },
      "application/vnd.jupyter.widget-view+json": {
       "model_id": "c0e9fb21d4254889a990464887fbed8b",
       "version_major": 2,
       "version_minor": 0
      },
      "text/plain": [
       "  0%|          | 0/100 [00:00<?, ?it/s]"
      ]
     },
     "metadata": {},
     "output_type": "display_data"
    }
   ],
   "source": [
    "tree_solved = False\n",
    "for solved, node_id in tree:\n",
    "    if solved:\n",
    "        tree_solved = True"
   ]
  },
  {
   "cell_type": "code",
   "execution_count": 28,
   "id": "d7e9bd33-63f7-4488-917e-887734f937cb",
   "metadata": {},
   "outputs": [
    {
     "data": {
      "text/plain": [
       "Tree for: C1(C(c2c(C)cc(c(C)c2)C)=Nn3c(nnc3C)S1)C\n",
       "Number of nodes: 1\n",
       "Number of visited nodes: 1\n",
       "Found paths: 0\n",
       "Time: 0.1 seconds"
      ]
     },
     "execution_count": 28,
     "metadata": {},
     "output_type": "execute_result"
    }
   ],
   "source": [
    "tree"
   ]
  },
  {
   "cell_type": "markdown",
   "id": "10842cce-74a2-44f4-89c1-676f9fbcd806",
   "metadata": {},
   "source": [
    "#### Retrosynthesis path visualisation\n",
    "\n",
    "After the tree search is complete, we can visualize the found retrosynthesis paths. The visualization uses the `path_graph` function from Synto's visualization interface."
   ]
  },
  {
   "cell_type": "code",
   "execution_count": 29,
   "id": "b53f2832-a5ec-43ee-86d3-6fa3952fc784",
   "metadata": {},
   "outputs": [],
   "source": [
    "for n, node_id in enumerate(tree.winning_nodes):\n",
    "    print(f'-------- Path starts from node #{node_id} with total path score {tree.path_score(node_id)} --------')\n",
    "    display(SVG(path_graph(tree, node_id)))\n",
    "    if n == 3:\n",
    "        break"
   ]
  },
  {
   "cell_type": "code",
   "execution_count": null,
   "id": "39fdaa1b-7373-442c-946b-62702fd36f62",
   "metadata": {},
   "outputs": [],
   "source": []
  }
 ],
 "metadata": {
  "kernelspec": {
   "display_name": "gsl",
   "language": "python",
   "name": "gsl"
  },
  "language_info": {
   "codemirror_mode": {
    "name": "ipython",
    "version": 3
   },
   "file_extension": ".py",
   "mimetype": "text/x-python",
   "name": "python",
   "nbconvert_exporter": "python",
   "pygments_lexer": "ipython3",
   "version": "3.10.13"
  }
 },
 "nbformat": 4,
 "nbformat_minor": 5
}
