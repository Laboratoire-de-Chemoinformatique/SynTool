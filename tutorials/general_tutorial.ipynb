{
 "cells": [
  {
   "cell_type": "markdown",
   "id": "15da330e-122c-4f2d-82bc-8a684a7bed90",
   "metadata": {},
   "source": [
    "# SynTool tutorial: from reaction data to retrosynthesis planning"
   ]
  },
  {
   "cell_type": "markdown",
   "id": "f185612b-e548-4110-9815-cedadf310f53",
   "metadata": {},
   "source": [
    "<font size=\"4\">This tutorial explains how to perform the retrosynthetic models training in SynTool</font>"
   ]
  },
  {
   "cell_type": "markdown",
   "id": "4f713051-9fd7-42f3-8f79-2e4c87c19641",
   "metadata": {},
   "source": [
    "**Introduction.** Welcome to the SynTool tutorial, a detailed guide on utilizing a sophisticated retrosynthesis planning tool that combines Monte Carlo Tree Search (MCTS) with neural networks. This tutorial is designed for synthetic chemists and chemoinformaticians looking to deepen their understanding and application of SynTool in their work.\n",
    "\n",
    "**About SynTool.** SynTool is aimed as a one-box solution for building retrosynthesis planners and includes the original modules for reaction data curation, reaction rules extraction, retrosynthetic models training, and retrosynthesis planning. SynTool is based on the open-source Python 3 packages for reaction chemoinformatics and deep learning frameworks.\n",
    "\n",
    "**Tutorial focus.** This tutorial will lead through the steps of extraction of reaction rules, training retrosynthetic models (ranking policy network), and retrosynthesis planning in SynTool."
   ]
  },
  {
   "cell_type": "markdown",
   "id": "f3a3a4e8-1590-4b51-86a5-f8cff7b08554",
   "metadata": {},
   "source": [
    "## 1. General imports and working directory"
   ]
  },
  {
   "cell_type": "code",
   "execution_count": 1,
   "id": "8f8e6d79-ef07-4dd1-8979-b514d4a5e78e",
   "metadata": {},
   "outputs": [],
   "source": [
    "import os\n",
    "import pickle\n",
    "from pathlib import Path"
   ]
  },
  {
   "cell_type": "code",
   "execution_count": 2,
   "id": "7d02388b-8df4-4d7c-ac4b-d22b93fda3d6",
   "metadata": {},
   "outputs": [],
   "source": [
    "root_folder = \"training_results\"  # replace this path where you want to keep all your results\n",
    "os.mkdir(root_folder)\n",
    "root_folder = Path(root_folder).resolve(strict=True)"
   ]
  },
  {
   "cell_type": "markdown",
   "id": "49c096e8-f13f-4d15-bbd8-d6a7553a944f",
   "metadata": {},
   "source": [
    "## 2. Download input data"
   ]
  },
  {
   "cell_type": "markdown",
   "id": "c3f604e1-ad73-4324-a60e-273e358b013f",
   "metadata": {},
   "source": [
    "The input data will be downloaded from the Google disk to the current location (./). The training data directory includes:\n",
    "\n",
    " - `uspto_standardized.smi` - the reaction dataset for reaction rules extraction and ranking policy network.\n",
    " - `building_blocks.smi` -  a set of building block molecules used in value neural network tuning (not considered in this tutorial) and in retrosynthesis planning.\n",
    " - `molecules_for_filtering_policy_training.smi` - a set of molecules for filtering policy network training (not considered in this tutorial)\n",
    " - `targets_for_value_network_training.smi` - a set of target molecules for planning simulations in value network tuning (not considered in this tutorial)."
   ]
  },
  {
   "cell_type": "code",
   "execution_count": 3,
   "id": "c5053330-261d-41e4-aeaa-901a20b4be02",
   "metadata": {},
   "outputs": [],
   "source": [
    "import os\n",
    "import shutil\n",
    "import gdown"
   ]
  },
  {
   "cell_type": "code",
   "execution_count": 4,
   "id": "8109b195-a0cb-4033-a223-ede260b9ed84",
   "metadata": {},
   "outputs": [
    {
     "name": "stderr",
     "output_type": "stream",
     "text": [
      "Downloading...\n",
      "From: https://drive.google.com/uc?id=1I2u4Zn-et-tlHmdLBAqclGiAiUuA1X5G\n",
      "To: /home1/dima/syntool/tutorials/syntool_training_data.zip\n",
      "100%|███████████████████████████████████████████████████| 128M/128M [00:01<00:00, 81.5MB/s]\n"
     ]
    }
   ],
   "source": [
    "remote_id = \"1I2u4Zn-et-tlHmdLBAqclGiAiUuA1X5G\"\n",
    "data_archive = os.path.join(\"syntool_training_data.zip\")\n",
    "gdown.download(output=data_archive, id=remote_id, quiet=False)\n",
    "\n",
    "shutil.unpack_archive(data_archive)\n",
    "os.remove(data_archive)\n",
    "if os.path.exists('__MACOSX'):\n",
    "    shutil.rmtree('__MACOSX')"
   ]
  },
  {
   "cell_type": "markdown",
   "id": "29abf54c-d4c9-4457-b55e-8c00e0919118",
   "metadata": {},
   "source": [
    "## 3. Reaction data filtration"
   ]
  },
  {
   "attachments": {},
   "cell_type": "markdown",
   "id": "e722673d-dd10-468e-9493-48dac1743ee1",
   "metadata": {},
   "source": [
    "In SynTool, reaction data filtration is a crucial step to ensure the quality and accuracy of the data used for retrosynthesis analysis. The USPTO dataset, a standardized but unfiltered collection of reaction records, serves as the primary data source. However, this dataset may contain records with no reaction center or atom-to-atom mapping errors. To address this, we apply several reaction filters:\n",
    "\n",
    "1. **No Reaction Filter**: Removes reactions with identical reactants and products.\n",
    "2. **Small Molecules Filter**: Excludes reactions where all reactants and products have ≤ specified number of heavy atoms.\n",
    "3. **Reaction Distance Filter**: Discards reactions with more than specified changed bonds.\n",
    "4. **Multi-Centre Reaction Filter**: Eliminates records with multiple reaction centers.\n",
    "5. **Csp3-C Breaking Filter**: Removes reactions where a bond between two sp3 carbons is broken, indicating potential mapping errors.\n",
    "6. **C-C Ring Breaking Filter**: Filters out reactions breaking a bond between two carbons in the same ring (sizes 5, 6, or 7), identified using the SSSR algorithm.\n",
    "7. **C-H Breaking Filter**: Removes reactions breaking a C-H bond to form a C-C bond, with exceptions for condensation reactions or those involving carbenes.\n",
    "\n",
    "First, we need to import the main config class called `ReactionCheckConfig`, which will encapsulate the list of reaction filters. Finally, we call the `filter_reactions` for filtering the input reaction data."
   ]
  },
  {
   "cell_type": "code",
   "execution_count": 5,
   "id": "2431d2d0-4f74-4e4f-aa89-d7dd5f810d3b",
   "metadata": {},
   "outputs": [],
   "source": [
    "from SynTool.chem.data.filtering import (ReactionCheckConfig, # the main config class    \n",
    "\n",
    "                                         # reaction filters:\n",
    "                                         CCRingBreakingConfig,\n",
    "                                         WrongCHBreakingConfig,\n",
    "                                         CCsp3BreakingConfig,\n",
    "                                         DynamicBondsConfig,\n",
    "                                         MultiCenterConfig,\n",
    "                                         NoReactionConfig,\n",
    "                                         SmallMoleculesConfig,\n",
    "                                         \n",
    "                                         filter_reactions # reaction filtration function\n",
    "                                         )"
   ]
  },
  {
   "cell_type": "markdown",
   "id": "c8e6717c-8886-46e0-ac00-be0cf211cca8",
   "metadata": {},
   "source": [
    "### Setting up the reaction filtration configuration\n",
    "\n",
    "The next step is to configure the reaction filtration process. We do this using the `ReactionCheckConfig` class in SynTool. This class allows for the specification of various parameters and settings for the filtration process.\n",
    "\n",
    "**Important**: if the reaction filter name is listed in the configuration file or in `ReactionCheckConfig`, it means that this filter will be activated. Also, some filters requires additional parameters (e.g. `small_molecules_config`)."
   ]
  },
  {
   "cell_type": "code",
   "execution_count": 6,
   "id": "6d5e4a23-e800-4f03-ba46-e3cb3737dc4d",
   "metadata": {},
   "outputs": [],
   "source": [
    "filtration_config = ReactionCheckConfig(\n",
    "    remove_small_molecules=False,  # flag to determine whether to remove small molecules\n",
    "    small_molecules_config=SmallMoleculesConfig(limit=6), # setting the heavy atoms limit for the small molecules filter\n",
    "    dynamic_bonds_config=DynamicBondsConfig(min_bonds_number=1,  # minimum number of dynamic bonds for a reaction\n",
    "                                            max_bonds_number=6), # maximum number of dynamic bonds for a reaction\n",
    "    no_reaction_config=NoReactionConfig(),  # configuration for the 'no reaction' filter.\n",
    "    multi_center_config=MultiCenterConfig(),  # configuration for the 'multi-center reaction' filter\n",
    "    wrong_ch_breaking_config=WrongCHBreakingConfig(),  # configuration for the 'C-H breaking' filter\n",
    "    cc_sp3_breaking_config=CCsp3BreakingConfig(),  # configuration for the 'Csp3-C breaking' filter\n",
    "    cc_ring_breaking_config=CCRingBreakingConfig())  # configuration for the 'C-C ring breaking' filter"
   ]
  },
  {
   "cell_type": "markdown",
   "id": "af490595-5444-4b4c-89df-6f26a21f6fa4",
   "metadata": {},
   "source": [
    "By setting up `filtration_config`, we are essentially telling SynTool what filters to apply and how to apply them. This step is crucial for ensuring that the data we use for further analysis is as accurate and reliable as possible. The reaction filters we apply here are based on the specific needs of our analysis and the characteristics of the USPTO dataset.\n",
    "\n",
    "Once this configuration is in place, we can proceed to apply these filters to our reaction data:"
   ]
  },
  {
   "cell_type": "code",
   "execution_count": 7,
   "id": "fb964f3a-5569-4b98-8979-f139a67ab3ef",
   "metadata": {},
   "outputs": [
    {
     "data": {
      "application/json": {
       "ascii": false,
       "bar_format": "{desc}{n} [{elapsed}]",
       "colour": null,
       "elapsed": 0.010783672332763672,
       "initial": 0,
       "n": 0,
       "ncols": null,
       "nrows": 24,
       "postfix": null,
       "prefix": "Number of reactions processed: ",
       "rate": null,
       "total": null,
       "unit": "it",
       "unit_divisor": 1000,
       "unit_scale": false
      },
      "application/vnd.jupyter.widget-view+json": {
       "model_id": "2070de7f1b6a44188ab1f8a8adfeac42",
       "version_major": 2,
       "version_minor": 0
      },
      "text/plain": [
       "Number of reactions processed: 0 [00:00]"
      ]
     },
     "metadata": {},
     "output_type": "display_data"
    },
    {
     "name": "stdout",
     "output_type": "stream",
     "text": [
      "Initial number of reactions: 1281718\n",
      "Removed number of reactions: 287494\n"
     ]
    }
   ],
   "source": [
    "reaction_data_path = Path(\"syntool_training_data/uspto_standardized.smi\").resolve(strict=True) # reaction data file\n",
    "filtered_data_path = root_folder.joinpath(\"uspto_filtered.smi\") # filtered reaction data file\n",
    "\n",
    "filter_reactions(config=filtration_config,\n",
    "                 input_reaction_data_path=reaction_data_path, # the path to the original reaction data file\n",
    "                 filtered_reaction_data_path=filtered_data_path, # the path to the filtered reaction data file\n",
    "                 num_cpus=4,\n",
    "                 batch_size=100)"
   ]
  },
  {
   "cell_type": "markdown",
   "id": "cbbc5add-1108-49d8-bbcf-d31fe9d57df2",
   "metadata": {},
   "source": [
    "## 4. Reaction rules extraction"
   ]
  },
  {
   "cell_type": "markdown",
   "id": "1cc434cb-d3af-4da6-a6d1-a649a6df2297",
   "metadata": {},
   "source": [
    "After filtering the reaction data, the next step in SynTool training pipeline is the extraction of reaction rules. The reaction rules define the transformations that can be applied to synthesize target molecules.\n",
    "\n",
    "### The extraction protocol\n",
    "The protocol for extracting reaction rules from reactions in SynTool utilizes the CGRtools Python library. This procedure involves the following steps:\n",
    "1. **Substructure Extraction**: For each reactant and product in a given reaction, substructures containing the atoms of the reaction center and their immediate environment are extracted.\n",
    "2. **Substructure Exchange**: The reactant and product substructures are then exchanged.\n",
    "3. **Reagents Handling**: If the reaction includes reagents, they are not incorporated into the retro-rule.\n",
    "4. **Label Preservation**: All labels related to the atoms of the reaction center, such as hybridization, the number of neighbors, and the ring sizes in which the atoms participate, are preserved. For atoms in the first environment, only the sizes of rings are preserved.\n",
    "\n",
    "The reaction rules formed by this protocol is applied to the product of the original reaction. If it successfully generates the reactants of the reaction, the reaction rule is considered valid.\n",
    "\n",
    "### Configuring reaction rule extraction\n",
    "The `ExtractRuleConfig` class in SynTool allows for the fine-tuning of how reaction rules are extracted. Key parameters of this class include:\n",
    "\n",
    "- **multicenter_rules**: Determines whether a single rule is extracted for all centers in multicenter reactions (`True`) or if separate rules are generated for each center (`False`). Default is `True`.\n",
    "- **as_query_container**: When set to `True`, the extracted rules are formatted as `QueryContainer` objects, similar to SMARTS for chemical pattern matching. Default is `True`.\n",
    "- **reverse_rule**: If `True`, the direction of the reaction is reversed during rule extraction, which is useful for retrosynthesis. Default is `True`.\n",
    "- **reactor_validation**: Activates the validation of each generated rule in a chemical reactor to confirm accurate generation of products from reactants when set to `True`. Default is `True`.\n",
    "- **include_func_groups**: If `True`, specific functional groups are included in the reaction rule in addition to the reaction center and its environment. Default is `False`.\n",
    "- **func_groups_list**: Specifies a list of functional groups to be included when `include_func_groups` is `True`.\n",
    "- **include_rings**: Includes ring structures in the reaction rules connected to the reaction center atoms if set to `True`. Default is `False`.\n",
    "- **keep_leaving_groups**: Keeps the leaving groups in the extracted reaction rule when set to `True`. Default is `False`.\n",
    "- **keep_incoming_groups**: Retains incoming groups in the extracted reaction rule if set to `True`. Default is `False`.\n",
    "- **keep_reagents**: Includes reagents in the extracted reaction rule when `True`. Default is `False`.\n",
    "- **environment_atom_count**: Sets the number of layers of atoms around the reaction center to be included in the rule. A value of `0` includes only the reaction center, `1` includes the first surrounding layer, and so on. Default is `1`.\n",
    "- **min_popularity**: Establishes the minimum number of times a rule must be applied to be included in further analysis. Default is `3`.\n",
    "- **keep_metadata**: Preserves associated metadata with the reaction in the extracted rule when set to `True`. Default is `False`.\n",
    "- **single_reactant_only**: Limits the extracted rules to those with only a single reactant molecule if `True`. Default is `True`.\n",
    "- **atom_info_retention**: Dictates the level of detail retained about atoms in the reaction center and their environment. Default settings retain information about neighbors, hybridization, implicit hydrogens, and ring sizes for both the reaction center and its environment. Default settings:\n",
    "    ```python\n",
    "    \n",
    "    {\n",
    "        \"reaction_center\": {\n",
    "            \"neighbors\": True,\n",
    "            \"hybridization\": True,\n",
    "            \"implicit_hydrogens\": False,\n",
    "            \"ring_sizes\": False,\n",
    "        },\n",
    "        \"environment\": {\n",
    "            \"neighbors\": False,\n",
    "            \"hybridization\": False,\n",
    "            \"implicit_hydrogens\": False,\n",
    "            \"ring_sizes\": False,\n",
    "        },\n",
    "    }\n",
    "    ```\n",
    "\n",
    "These settings are crucial for tailoring the reaction rule extraction process to the specific needs of the retrosynthesis analysis, ensuring that the rules are both accurate and relevant."
   ]
  },
  {
   "cell_type": "code",
   "execution_count": 8,
   "id": "420642b6-5a4a-4688-9b93-f8c068ac0a9f",
   "metadata": {},
   "outputs": [],
   "source": [
    "from SynTool.utils.config import RuleExtractionConfig\n",
    "from SynTool.chem.reaction_rules.extraction import extract_rules_from_reactions\n",
    "from SynTool.utils.loading import load_reaction_rules"
   ]
  },
  {
   "cell_type": "code",
   "execution_count": 9,
   "id": "0e1a6557-2532-48b8-8d41-3fe842665353",
   "metadata": {},
   "outputs": [],
   "source": [
    "extraction_config = RuleExtractionConfig(\n",
    "    keep_leaving_groups=True,\n",
    "    atom_info_retention = {\n",
    "        \"reaction_center\": {\n",
    "            \"neighbors\": True,  # retains information about neighboring atoms to the reaction center\n",
    "            \"hybridization\": True,  # preserves the hybridization state of atoms at the reaction center\n",
    "            \"implicit_hydrogens\": False,  # includes data on implicit hydrogen atoms attached to the reaction center\n",
    "            \"ring_sizes\": False,  # keeps information about the sizes of rings that reaction center atoms are part of\n",
    "        },\n",
    "        \"environment\": {\n",
    "            \"neighbors\": False,  # retains information about neighboring atoms to the atoms in the environment of the reaction center\n",
    "            \"hybridization\": False,  # preserves the hybridization state of atoms in the environment\n",
    "            \"implicit_hydrogens\": False,  # includes data on implicit hydrogen atoms attached to atoms in the environment\n",
    "            \"ring_sizes\": False,  # keeps information about the sizes of rings that environment atoms are part of\n",
    "        },\n",
    "    }\n",
    ")"
   ]
  },
  {
   "cell_type": "markdown",
   "id": "aa7ef87b-cc51-4d60-8e9d-4ce52da93e3f",
   "metadata": {},
   "source": [
    "This setup, for instance, retains leaving groups and specifies the level of detail for atom information retention around the reaction center. Each parameter in `ExtractRuleConfig` is designed to give users the flexibility to optimize rule extraction according to their requirements."
   ]
  },
  {
   "cell_type": "markdown",
   "id": "00b07164-9a81-4b64-a744-f814ec313de9",
   "metadata": {},
   "source": [
    "### Extracting reaction rules ssing `extract_rules_from_reactions`\n",
    "\n",
    "After configuring the rule extraction settings in SynTool, the next step is to apply these configurations to extract reaction rules from the reaction data. This is achieved using the `extract_rules_from_reactions` function."
   ]
  },
  {
   "cell_type": "code",
   "execution_count": 10,
   "id": "e42f25c1-f169-479f-9699-0d97815482ab",
   "metadata": {},
   "outputs": [
    {
     "data": {
      "application/json": {
       "ascii": false,
       "bar_format": "{desc}{n} [{elapsed}]",
       "colour": null,
       "elapsed": 0.015621423721313477,
       "initial": 0,
       "n": 0,
       "ncols": null,
       "nrows": 24,
       "postfix": null,
       "prefix": "Number of reactions processed: ",
       "rate": null,
       "total": null,
       "unit": "it",
       "unit_divisor": 1000,
       "unit_scale": false
      },
      "application/vnd.jupyter.widget-view+json": {
       "model_id": "2f7e8e1e8d1f4629ba1e7b36fcb67d2f",
       "version_major": 2,
       "version_minor": 0
      },
      "text/plain": [
       "Number of reactions processed: 0 [00:00]"
      ]
     },
     "metadata": {},
     "output_type": "display_data"
    },
    {
     "name": "stdout",
     "output_type": "stream",
     "text": [
      "Number of extracted reaction rules: 24095\n"
     ]
    }
   ],
   "source": [
    "reaction_rules_path = root_folder.joinpath(\"reaction_rules.pickle\") # extracted reaction rules file\n",
    "\n",
    "extract_rules_from_reactions(config=extraction_config, # the configuration settings for rule extraction\n",
    "                             reaction_file=filtered_data_path, # path to the the reaction data file\n",
    "                             rules_file_name=reaction_rules_path, # path to the pickle file where the extracted reaction rules will be stored\n",
    "                             num_cpus=4,\n",
    "                             batch_size=100)"
   ]
  },
  {
   "attachments": {},
   "cell_type": "markdown",
   "id": "24fae7bb-8f3a-49a8-8a22-4a1e0193fc06",
   "metadata": {},
   "source": [
    "The extracted reaction rules can be loaded and visually inspected (the reaction rules are sorted by popularity):"
   ]
  },
  {
   "cell_type": "code",
   "execution_count": 11,
   "id": "a2e67576-4812-4d93-8be7-b6f76add2a19",
   "metadata": {},
   "outputs": [],
   "source": [
    "with open(reaction_rules_path, 'rb') as f:\n",
    "    reaction_rules_list = [i[0] for i in pickle.load(f)]\n",
    "for rule in reaction_rules_list:\n",
    "    rule.clean2d()"
   ]
  },
  {
   "cell_type": "code",
   "execution_count": 12,
   "id": "4b6ad4a9-b392-4259-8d40-f8cfa0d1e1ab",
   "metadata": {},
   "outputs": [
    {
     "data": {
      "image/svg+xml": [
       "<svg width=\"7.56cm\" height=\"1.96cm\" viewBox=\"-0.62 -0.98 7.56 1.96\" xmlns=\"http://www.w3.org/2000/svg\" version=\"1.1\">\n",
       "  <defs>\n",
       "    <marker id=\"arrow\" markerWidth=\"10\" markerHeight=\"10\" refX=\"0\" refY=\"3\" orient=\"auto\">\n",
       "      <path d=\"M0,0 L0,6 L9,3\"/>\n",
       "    </marker>\n",
       "  </defs>\n",
       "  <line x1=\"1.82\" y1=\"0\" x2=\"3.82\" y2=\"0\" fill=\"none\" stroke=\"black\" stroke-width=\".04\" marker-end=\"url(#arrow)\"/>\n",
       "  <g>\n",
       "    <defs>\n",
       "      <mask id=\"mask-d680abc3-82f9-4a30-aec7-75160333c3a7\">\n",
       "        <rect x=\"-0.62\" y=\"-0.98\" width=\"7.56\" height=\"1.96\" fill=\"white\"/>\n",
       "        <g fill=\"black\">\n",
       "          <circle cx=\"0.82\" cy=\"0.00\" r=\"0.20\"/>\n",
       "        </g>\n",
       "        <g font-family=\"monospace\" stroke=\"black\">\n",
       "          <g font-family=\"sans-serif\" font-size=\"0.50\" stroke-width=\"0.05\">\n",
       "           <text x=\"0.82\" y=\"0.00\" dx=\"-0.20\" dy=\"0.20\">O</text>\n",
       "          </g>\n",
       "          <g font-family=\"monospace\" font-size=\"0.3\" stroke-width=\"0.03\">\n",
       "           <text x=\"0.00\" y=\"-0.00\" dx=\"0.07\" dy=\"0.15\">3</text>\n",
       "           <text x=\"0.00\" y=\"-0.00\" dx=\"0.07\" dy=\"0.33\">d</text>\n",
       "           <text x=\"0.82\" y=\"0.00\" dx=\"0.17\" dy=\"0.15\">1</text>\n",
       "           <text x=\"0.82\" y=\"0.00\" dx=\"0.17\" dy=\"0.33\">s</text>\n",
       "          </g>\n",
       "        </g>\n",
       "      </mask>\n",
       "    </defs>\n",
       "    <g fill=\"none\" stroke=\"black\" stroke-width=\"0.04\"  mask=\"url(#mask-d680abc3-82f9-4a30-aec7-75160333c3a7)\">\n",
       "      <line x1=\"-0.62\" y1=\"-0.98\" x2=\"6.94\" y2=\"-0.98\" stroke=\"none\"/>\n",
       "      <line x1=\"0.00\" y1=\"-0.00\" x2=\"0.82\" y2=\"0.00\"/>\n",
       "    </g>\n",
       "    <g font-family=\"monospace\">\n",
       "      <g fill=\"#FF0D0D\" font-family=\"sans-serif\">\n",
       "        <text x=\"0.82\" y=\"0.00\" dx=\"-0.20\" dy=\"0.20\" font-size=\"0.50\">O</text>\n",
       "      </g>\n",
       "      <g fill=\"#5D8AA8\" font-family=\"monospace\" font-size=\"0.30\">\n",
       "        <text x=\"0.00\" y=\"-0.00\" dx=\"0.075\" dy=\"0.15\" text-anchor=\"start\">3</text>\n",
       "        <text x=\"0.82\" y=\"0.00\" dx=\"0.175\" dy=\"0.15\" text-anchor=\"start\">1</text>\n",
       "        <text x=\"0.00\" y=\"-0.00\" dx=\"0.075\" dy=\"0.33\" text-anchor=\"start\">d</text>\n",
       "        <text x=\"0.82\" y=\"0.00\" dx=\"0.175\" dy=\"0.33\" text-anchor=\"start\">s</text>\n",
       "      </g>\n",
       "    </g>\n",
       "  </g>\n",
       "  <g>\n",
       "    <defs>\n",
       "      <mask id=\"mask-2e2323e4-785d-4dbf-b678-1ea9492348cc\">\n",
       "        <rect x=\"-0.62\" y=\"-0.98\" width=\"7.56\" height=\"1.96\" fill=\"white\"/>\n",
       "        <g fill=\"black\">\n",
       "          <circle cx=\"5.24\" cy=\"0.36\" r=\"0.20\"/>\n",
       "        </g>\n",
       "        <g font-family=\"monospace\" stroke=\"black\">\n",
       "          <g font-family=\"sans-serif\" font-size=\"0.50\" stroke-width=\"0.05\">\n",
       "           <text x=\"5.24\" y=\"0.36\" dx=\"-0.20\" dy=\"0.20\">O</text>\n",
       "          </g>\n",
       "          <g font-family=\"monospace\" font-size=\"0.3\" stroke-width=\"0.03\">\n",
       "           <text x=\"6.06\" y=\"0.36\" dx=\"0.07\" dy=\"0.15\">3</text>\n",
       "           <text x=\"6.06\" y=\"0.36\" dx=\"0.07\" dy=\"0.33\">d</text>\n",
       "           <text x=\"5.24\" y=\"0.36\" dx=\"0.17\" dy=\"0.15\">2</text>\n",
       "           <text x=\"5.24\" y=\"0.36\" dx=\"0.17\" dy=\"0.33\">s</text>\n",
       "           <text x=\"4.82\" y=\"-0.36\" dx=\"0.07\" dy=\"0.15\">1</text>\n",
       "           <text x=\"4.82\" y=\"-0.36\" dx=\"0.07\" dy=\"0.33\">s</text>\n",
       "          </g>\n",
       "        </g>\n",
       "      </mask>\n",
       "    </defs>\n",
       "    <g fill=\"none\" stroke=\"black\" stroke-width=\"0.04\"  mask=\"url(#mask-2e2323e4-785d-4dbf-b678-1ea9492348cc)\">\n",
       "      <line x1=\"6.06\" y1=\"0.36\" x2=\"5.24\" y2=\"0.36\"/>\n",
       "      <line x1=\"5.24\" y1=\"0.36\" x2=\"4.82\" y2=\"-0.36\"/>\n",
       "    </g>\n",
       "    <g font-family=\"monospace\">\n",
       "      <g fill=\"#FF0D0D\" font-family=\"sans-serif\">\n",
       "        <text x=\"5.24\" y=\"0.36\" dx=\"-0.20\" dy=\"0.20\" font-size=\"0.50\">O</text>\n",
       "      </g>\n",
       "      <g fill=\"#5D8AA8\" font-family=\"monospace\" font-size=\"0.30\">\n",
       "        <text x=\"6.06\" y=\"0.36\" dx=\"0.075\" dy=\"0.15\" text-anchor=\"start\">3</text>\n",
       "        <text x=\"5.24\" y=\"0.36\" dx=\"0.175\" dy=\"0.15\" text-anchor=\"start\">2</text>\n",
       "        <text x=\"4.82\" y=\"-0.36\" dx=\"0.075\" dy=\"0.15\" text-anchor=\"start\">1</text>\n",
       "        <text x=\"6.06\" y=\"0.36\" dx=\"0.075\" dy=\"0.33\" text-anchor=\"start\">d</text>\n",
       "        <text x=\"5.24\" y=\"0.36\" dx=\"0.175\" dy=\"0.33\" text-anchor=\"start\">s</text>\n",
       "        <text x=\"4.82\" y=\"-0.36\" dx=\"0.075\" dy=\"0.33\" text-anchor=\"start\">s</text>\n",
       "      </g>\n",
       "    </g>\n",
       "  </g>\n",
       "</svg>"
      ],
      "text/plain": [
       "<CGRtools.containers.reaction.ReactionContainer at 0x7f969ef2dba0>"
      ]
     },
     "execution_count": 12,
     "metadata": {},
     "output_type": "execute_result"
    }
   ],
   "source": [
    "reaction_rules_list[0]"
   ]
  },
  {
   "cell_type": "code",
   "execution_count": 13,
   "id": "4c90bac1-1a49-4cf1-815d-f13c0280e710",
   "metadata": {},
   "outputs": [
    {
     "data": {
      "image/svg+xml": [
       "<svg width=\"8.47cm\" height=\"1.66cm\" viewBox=\"-0.62 -0.83 8.47 1.66\" xmlns=\"http://www.w3.org/2000/svg\" version=\"1.1\">\n",
       "  <defs>\n",
       "    <marker id=\"arrow\" markerWidth=\"10\" markerHeight=\"10\" refX=\"0\" refY=\"3\" orient=\"auto\">\n",
       "      <path d=\"M0,0 L0,6 L9,3\"/>\n",
       "    </marker>\n",
       "  </defs>\n",
       "  <line x1=\"1.82\" y1=\"0\" x2=\"3.82\" y2=\"0\" fill=\"none\" stroke=\"black\" stroke-width=\".04\" marker-end=\"url(#arrow)\"/>\n",
       "  <g>\n",
       "    <defs>\n",
       "      <mask id=\"mask-df2a8272-386a-4ec9-932c-e936924974e7\">\n",
       "        <rect x=\"-0.62\" y=\"-0.83\" width=\"8.47\" height=\"1.66\" fill=\"white\"/>\n",
       "        <g fill=\"black\">\n",
       "          <circle cx=\"0.82\" cy=\"0.00\" r=\"0.20\"/>\n",
       "        </g>\n",
       "        <g font-family=\"monospace\" stroke=\"black\">\n",
       "          <g font-family=\"sans-serif\" font-size=\"0.50\" stroke-width=\"0.05\">\n",
       "           <text x=\"0.82\" y=\"0.00\" dx=\"-0.20\" dy=\"0.20\">O</text>\n",
       "          </g>\n",
       "          <g font-family=\"monospace\" font-size=\"0.3\" stroke-width=\"0.03\">\n",
       "           <text x=\"0.00\" y=\"-0.00\" dx=\"0.07\" dy=\"0.15\">3</text>\n",
       "           <text x=\"0.00\" y=\"-0.00\" dx=\"0.07\" dy=\"0.33\">d</text>\n",
       "           <text x=\"0.82\" y=\"0.00\" dx=\"0.17\" dy=\"0.15\">1</text>\n",
       "           <text x=\"0.82\" y=\"0.00\" dx=\"0.17\" dy=\"0.33\">s</text>\n",
       "          </g>\n",
       "        </g>\n",
       "      </mask>\n",
       "    </defs>\n",
       "    <g fill=\"none\" stroke=\"black\" stroke-width=\"0.04\"  mask=\"url(#mask-df2a8272-386a-4ec9-932c-e936924974e7)\">\n",
       "      <line x1=\"-0.62\" y1=\"-0.83\" x2=\"7.84\" y2=\"-0.83\" stroke=\"none\"/>\n",
       "      <line x1=\"0.00\" y1=\"-0.00\" x2=\"0.82\" y2=\"0.00\"/>\n",
       "    </g>\n",
       "    <g font-family=\"monospace\">\n",
       "      <g fill=\"#FF0D0D\" font-family=\"sans-serif\">\n",
       "        <text x=\"0.82\" y=\"0.00\" dx=\"-0.20\" dy=\"0.20\" font-size=\"0.50\">O</text>\n",
       "      </g>\n",
       "      <g fill=\"#5D8AA8\" font-family=\"monospace\" font-size=\"0.30\">\n",
       "        <text x=\"0.00\" y=\"-0.00\" dx=\"0.075\" dy=\"0.15\" text-anchor=\"start\">3</text>\n",
       "        <text x=\"0.82\" y=\"0.00\" dx=\"0.175\" dy=\"0.15\" text-anchor=\"start\">1</text>\n",
       "        <text x=\"0.00\" y=\"-0.00\" dx=\"0.075\" dy=\"0.33\" text-anchor=\"start\">d</text>\n",
       "        <text x=\"0.82\" y=\"0.00\" dx=\"0.175\" dy=\"0.33\" text-anchor=\"start\">s</text>\n",
       "      </g>\n",
       "    </g>\n",
       "  </g>\n",
       "  <g>\n",
       "    <defs>\n",
       "      <mask id=\"mask-03d09adf-4a2e-48b1-8473-a5c65700bcc4\">\n",
       "        <rect x=\"-0.62\" y=\"-0.83\" width=\"8.47\" height=\"1.66\" fill=\"white\"/>\n",
       "        <g fill=\"black\">\n",
       "          <circle cx=\"5.54\" cy=\"0.21\" r=\"0.20\"/>\n",
       "        </g>\n",
       "        <g font-family=\"monospace\" stroke=\"black\">\n",
       "          <g font-family=\"sans-serif\" font-size=\"0.50\" stroke-width=\"0.05\">\n",
       "           <text x=\"5.54\" y=\"0.21\" dx=\"-0.20\" dy=\"0.20\">O</text>\n",
       "          </g>\n",
       "          <g font-family=\"monospace\" font-size=\"0.3\" stroke-width=\"0.03\">\n",
       "           <text x=\"4.82\" y=\"-0.21\" dx=\"0.07\" dy=\"0.15\">3</text>\n",
       "           <text x=\"4.82\" y=\"-0.21\" dx=\"0.07\" dy=\"0.33\">d</text>\n",
       "           <text x=\"5.54\" y=\"0.21\" dx=\"0.17\" dy=\"0.15\">2</text>\n",
       "           <text x=\"5.54\" y=\"0.21\" dx=\"0.17\" dy=\"0.33\">s</text>\n",
       "           <text x=\"6.25\" y=\"-0.21\" dx=\"0.07\" dy=\"0.15\">2</text>\n",
       "           <text x=\"6.25\" y=\"-0.21\" dx=\"0.07\" dy=\"0.33\">s</text>\n",
       "           <text x=\"6.97\" y=\"0.21\" dx=\"0.07\" dy=\"0.15\">1</text>\n",
       "           <text x=\"6.97\" y=\"0.21\" dx=\"0.07\" dy=\"0.33\">s</text>\n",
       "          </g>\n",
       "        </g>\n",
       "      </mask>\n",
       "    </defs>\n",
       "    <g fill=\"none\" stroke=\"black\" stroke-width=\"0.04\"  mask=\"url(#mask-03d09adf-4a2e-48b1-8473-a5c65700bcc4)\">\n",
       "      <line x1=\"4.82\" y1=\"-0.21\" x2=\"5.54\" y2=\"0.21\"/>\n",
       "      <line x1=\"5.54\" y1=\"0.21\" x2=\"6.25\" y2=\"-0.21\"/>\n",
       "      <line x1=\"6.25\" y1=\"-0.21\" x2=\"6.97\" y2=\"0.21\"/>\n",
       "    </g>\n",
       "    <g font-family=\"monospace\">\n",
       "      <g fill=\"#FF0D0D\" font-family=\"sans-serif\">\n",
       "        <text x=\"5.54\" y=\"0.21\" dx=\"-0.20\" dy=\"0.20\" font-size=\"0.50\">O</text>\n",
       "      </g>\n",
       "      <g fill=\"#5D8AA8\" font-family=\"monospace\" font-size=\"0.30\">\n",
       "        <text x=\"4.82\" y=\"-0.21\" dx=\"0.075\" dy=\"0.15\" text-anchor=\"start\">3</text>\n",
       "        <text x=\"5.54\" y=\"0.21\" dx=\"0.175\" dy=\"0.15\" text-anchor=\"start\">2</text>\n",
       "        <text x=\"6.25\" y=\"-0.21\" dx=\"0.075\" dy=\"0.15\" text-anchor=\"start\">2</text>\n",
       "        <text x=\"6.97\" y=\"0.21\" dx=\"0.075\" dy=\"0.15\" text-anchor=\"start\">1</text>\n",
       "        <text x=\"4.82\" y=\"-0.21\" dx=\"0.075\" dy=\"0.33\" text-anchor=\"start\">d</text>\n",
       "        <text x=\"5.54\" y=\"0.21\" dx=\"0.175\" dy=\"0.33\" text-anchor=\"start\">s</text>\n",
       "        <text x=\"6.25\" y=\"-0.21\" dx=\"0.075\" dy=\"0.33\" text-anchor=\"start\">s</text>\n",
       "        <text x=\"6.97\" y=\"0.21\" dx=\"0.075\" dy=\"0.33\" text-anchor=\"start\">s</text>\n",
       "      </g>\n",
       "    </g>\n",
       "  </g>\n",
       "</svg>"
      ],
      "text/plain": [
       "<CGRtools.containers.reaction.ReactionContainer at 0x7f969ef2cb80>"
      ]
     },
     "execution_count": 13,
     "metadata": {},
     "output_type": "execute_result"
    }
   ],
   "source": [
    "reaction_rules_list[1]"
   ]
  },
  {
   "cell_type": "code",
   "execution_count": 14,
   "id": "a62c9f51-3253-4d9a-8cad-5d36d2e6db9c",
   "metadata": {},
   "outputs": [
    {
     "data": {
      "image/svg+xml": [
       "<svg width=\"11.10cm\" height=\"2.49cm\" viewBox=\"-0.62 -1.24 11.10 2.49\" xmlns=\"http://www.w3.org/2000/svg\" version=\"1.1\">\n",
       "  <defs>\n",
       "    <marker id=\"arrow\" markerWidth=\"10\" markerHeight=\"10\" refX=\"0\" refY=\"3\" orient=\"auto\">\n",
       "      <path d=\"M0,0 L0,6 L9,3\"/>\n",
       "    </marker>\n",
       "  </defs>\n",
       "  <line x1=\"3.14\" y1=\"0\" x2=\"5.14\" y2=\"0\" fill=\"none\" stroke=\"black\" stroke-width=\".04\" marker-end=\"url(#arrow)\"/>\n",
       "  <g fill=\"none\" stroke=\"black\" stroke-width=\".04\">\n",
       "    <line x1=\"7.52\" y1=\"0\" x2=\"7.82\" y2=\"0\"/>\n",
       "    <line x1=\"7.67\" y1=\"0.15\" x2=\"7.67\" y2=\"-0.15\"/>\n",
       "  </g>\n",
       "  <g>\n",
       "    <defs>\n",
       "      <mask id=\"mask-76f640f1-2dfc-451c-8c56-33a83eeaafa6\">\n",
       "        <rect x=\"-0.62\" y=\"-1.24\" width=\"11.10\" height=\"2.49\" fill=\"white\"/>\n",
       "        <g fill=\"black\">\n",
       "          <circle cx=\"0.71\" cy=\"0.62\" r=\"0.20\"/>\n",
       "        </g>\n",
       "        <g font-family=\"monospace\" stroke=\"black\">\n",
       "          <g font-family=\"sans-serif\" font-size=\"0.50\" stroke-width=\"0.05\">\n",
       "           <text x=\"0.71\" y=\"0.62\" dx=\"-0.20\" dy=\"0.20\">O</text>\n",
       "          </g>\n",
       "          <g font-family=\"monospace\" font-size=\"0.3\" stroke-width=\"0.03\">\n",
       "           <text x=\"0.00\" y=\"0.21\" dx=\"0.07\" dy=\"0.15\">3</text>\n",
       "           <text x=\"0.00\" y=\"0.21\" dx=\"0.07\" dy=\"0.33\">a</text>\n",
       "           <text x=\"0.71\" y=\"0.62\" dx=\"0.17\" dy=\"0.15\">2</text>\n",
       "           <text x=\"0.71\" y=\"0.62\" dx=\"0.17\" dy=\"0.33\">s</text>\n",
       "           <text x=\"1.43\" y=\"0.21\" dx=\"0.07\" dy=\"0.15\">3</text>\n",
       "           <text x=\"1.43\" y=\"0.21\" dx=\"0.07\" dy=\"0.33\">a</text>\n",
       "           <text x=\"1.43\" y=\"-0.62\" dx=\"0.07\" dy=\"0.15\">2</text>\n",
       "           <text x=\"1.43\" y=\"-0.62\" dx=\"0.07\" dy=\"0.33\">a</text>\n",
       "           <text x=\"2.14\" y=\"0.62\" dx=\"0.07\" dy=\"0.15\">3</text>\n",
       "           <text x=\"2.14\" y=\"0.62\" dx=\"0.07\" dy=\"0.33\">a</text>\n",
       "          </g>\n",
       "        </g>\n",
       "      </mask>\n",
       "    </defs>\n",
       "    <g fill=\"none\" stroke=\"black\" stroke-width=\"0.04\"  mask=\"url(#mask-76f640f1-2dfc-451c-8c56-33a83eeaafa6)\">\n",
       "      <line x1=\"0.00\" y1=\"0.21\" x2=\"0.71\" y2=\"0.62\"/>\n",
       "      <line x1=\"0.71\" y1=\"0.62\" x2=\"1.43\" y2=\"0.21\"/>\n",
       "      <line x1=\"1.37\" y1=\"0.21\" x2=\"1.37\" y2=\"-0.62\"/>\n",
       "      <line x1=\"1.49\" y1=\"0.21\" x2=\"1.49\" y2=\"-0.62\" stroke-dasharray=\"0.15 0.05\"/>\n",
       "      <line x1=\"1.46\" y1=\"0.15\" x2=\"2.17\" y2=\"0.57\"/>\n",
       "      <line x1=\"1.40\" y1=\"0.26\" x2=\"2.11\" y2=\"0.67\" stroke-dasharray=\"0.15 0.05\"/>\n",
       "    </g>\n",
       "    <g font-family=\"monospace\">\n",
       "      <g fill=\"#FF0D0D\" font-family=\"sans-serif\">\n",
       "        <text x=\"0.71\" y=\"0.62\" dx=\"-0.20\" dy=\"0.20\" font-size=\"0.50\">O</text>\n",
       "      </g>\n",
       "      <g fill=\"#5D8AA8\" font-family=\"monospace\" font-size=\"0.30\">\n",
       "        <text x=\"0.00\" y=\"0.21\" dx=\"0.075\" dy=\"0.15\" text-anchor=\"start\">3</text>\n",
       "        <text x=\"0.71\" y=\"0.62\" dx=\"0.175\" dy=\"0.15\" text-anchor=\"start\">2</text>\n",
       "        <text x=\"1.43\" y=\"0.21\" dx=\"0.075\" dy=\"0.15\" text-anchor=\"start\">3</text>\n",
       "        <text x=\"1.43\" y=\"-0.62\" dx=\"0.075\" dy=\"0.15\" text-anchor=\"start\">2</text>\n",
       "        <text x=\"2.14\" y=\"0.62\" dx=\"0.075\" dy=\"0.15\" text-anchor=\"start\">3</text>\n",
       "        <text x=\"0.00\" y=\"0.21\" dx=\"0.075\" dy=\"0.33\" text-anchor=\"start\">a</text>\n",
       "        <text x=\"0.71\" y=\"0.62\" dx=\"0.175\" dy=\"0.33\" text-anchor=\"start\">s</text>\n",
       "        <text x=\"1.43\" y=\"0.21\" dx=\"0.075\" dy=\"0.33\" text-anchor=\"start\">a</text>\n",
       "        <text x=\"1.43\" y=\"-0.62\" dx=\"0.075\" dy=\"0.33\" text-anchor=\"start\">a</text>\n",
       "        <text x=\"2.14\" y=\"0.62\" dx=\"0.075\" dy=\"0.33\" text-anchor=\"start\">a</text>\n",
       "      </g>\n",
       "    </g>\n",
       "  </g>\n",
       "  <g>\n",
       "    <defs>\n",
       "      <mask id=\"mask-8e715f64-7427-4130-874f-4ca69ce4d049\">\n",
       "        <rect x=\"-0.62\" y=\"-1.24\" width=\"11.10\" height=\"2.49\" fill=\"white\"/>\n",
       "        <g fill=\"black\">\n",
       "          <circle cx=\"6.14\" cy=\"-0.00\" r=\"0.20\"/>\n",
       "        </g>\n",
       "        <g font-family=\"monospace\" stroke=\"black\">\n",
       "          <g font-family=\"sans-serif\" font-size=\"0.50\" stroke-width=\"0.05\">\n",
       "           <text x=\"6.14\" y=\"-0.00\" dx=\"-0.20\" dy=\"0.20\">O</text>\n",
       "          </g>\n",
       "          <g font-family=\"monospace\" font-size=\"0.3\" stroke-width=\"0.03\">\n",
       "           <text x=\"6.97\" y=\"0.00\" dx=\"0.07\" dy=\"0.15\">3</text>\n",
       "           <text x=\"6.97\" y=\"0.00\" dx=\"0.07\" dy=\"0.33\">a</text>\n",
       "           <text x=\"6.14\" y=\"-0.00\" dx=\"0.17\" dy=\"0.15\">1</text>\n",
       "           <text x=\"6.14\" y=\"-0.00\" dx=\"0.17\" dy=\"0.33\">s</text>\n",
       "          </g>\n",
       "        </g>\n",
       "      </mask>\n",
       "    </defs>\n",
       "    <g fill=\"none\" stroke=\"black\" stroke-width=\"0.04\"  mask=\"url(#mask-8e715f64-7427-4130-874f-4ca69ce4d049)\">\n",
       "      <line x1=\"-0.62\" y1=\"-1.24\" x2=\"10.47\" y2=\"-1.24\" stroke=\"none\"/>\n",
       "      <line x1=\"6.97\" y1=\"0.00\" x2=\"6.14\" y2=\"-0.00\"/>\n",
       "    </g>\n",
       "    <g font-family=\"monospace\">\n",
       "      <g fill=\"#FF0D0D\" font-family=\"sans-serif\">\n",
       "        <text x=\"6.14\" y=\"-0.00\" dx=\"-0.20\" dy=\"0.20\" font-size=\"0.50\">O</text>\n",
       "      </g>\n",
       "      <g fill=\"#5D8AA8\" font-family=\"monospace\" font-size=\"0.30\">\n",
       "        <text x=\"6.97\" y=\"0.00\" dx=\"0.075\" dy=\"0.15\" text-anchor=\"start\">3</text>\n",
       "        <text x=\"6.14\" y=\"-0.00\" dx=\"0.175\" dy=\"0.15\" text-anchor=\"start\">1</text>\n",
       "        <text x=\"6.97\" y=\"0.00\" dx=\"0.075\" dy=\"0.33\" text-anchor=\"start\">a</text>\n",
       "        <text x=\"6.14\" y=\"-0.00\" dx=\"0.175\" dy=\"0.33\" text-anchor=\"start\">s</text>\n",
       "      </g>\n",
       "    </g>\n",
       "  </g>\n",
       "  <g>\n",
       "    <defs>\n",
       "      <mask id=\"mask-cca3722d-9b38-44b4-bce0-052fca541124\">\n",
       "        <rect x=\"-0.62\" y=\"-1.24\" width=\"11.10\" height=\"2.49\" fill=\"white\"/>\n",
       "        <g fill=\"black\">\n",
       "          <circle cx=\"8.17\" cy=\"-0.26\" r=\"0.20\"/>\n",
       "        </g>\n",
       "        <g font-family=\"monospace\" stroke=\"black\">\n",
       "          <g font-family=\"sans-serif\" font-size=\"0.50\" stroke-width=\"0.05\">\n",
       "           <text x=\"8.17\" y=\"-0.26\" dx=\"-0.20\" dy=\"0.20\">F</text>\n",
       "          </g>\n",
       "          <g font-family=\"monospace\" font-size=\"0.3\" stroke-width=\"0.03\">\n",
       "           <text x=\"9.30\" y=\"-0.56\" dx=\"0.07\" dy=\"0.15\">3</text>\n",
       "           <text x=\"9.30\" y=\"-0.56\" dx=\"0.07\" dy=\"0.33\">a</text>\n",
       "           <text x=\"8.88\" y=\"0.15\" dx=\"0.07\" dy=\"0.15\">3</text>\n",
       "           <text x=\"8.88\" y=\"0.15\" dx=\"0.07\" dy=\"0.33\">a</text>\n",
       "           <text x=\"9.60\" y=\"0.56\" dx=\"0.07\" dy=\"0.15\">2</text>\n",
       "           <text x=\"9.60\" y=\"0.56\" dx=\"0.07\" dy=\"0.33\">a</text>\n",
       "           <text x=\"8.17\" y=\"-0.26\" dx=\"0.17\" dy=\"0.15\">1</text>\n",
       "           <text x=\"8.17\" y=\"-0.26\" dx=\"0.17\" dy=\"0.33\">s</text>\n",
       "          </g>\n",
       "        </g>\n",
       "      </mask>\n",
       "    </defs>\n",
       "    <g fill=\"none\" stroke=\"black\" stroke-width=\"0.04\"  mask=\"url(#mask-cca3722d-9b38-44b4-bce0-052fca541124)\">\n",
       "      <line x1=\"9.35\" y1=\"-0.53\" x2=\"8.93\" y2=\"0.18\"/>\n",
       "      <line x1=\"9.24\" y1=\"-0.59\" x2=\"8.83\" y2=\"0.12\" stroke-dasharray=\"0.15 0.05\"/>\n",
       "      <line x1=\"8.91\" y1=\"0.10\" x2=\"9.63\" y2=\"0.51\"/>\n",
       "      <line x1=\"8.85\" y1=\"0.20\" x2=\"9.57\" y2=\"0.62\" stroke-dasharray=\"0.15 0.05\"/>\n",
       "      <line x1=\"8.88\" y1=\"0.15\" x2=\"8.17\" y2=\"-0.26\"/>\n",
       "    </g>\n",
       "    <g font-family=\"monospace\">\n",
       "      <g fill=\"#90E050\" font-family=\"sans-serif\">\n",
       "        <text x=\"8.17\" y=\"-0.26\" dx=\"-0.20\" dy=\"0.20\" font-size=\"0.50\">F</text>\n",
       "      </g>\n",
       "      <g fill=\"#5D8AA8\" font-family=\"monospace\" font-size=\"0.30\">\n",
       "        <text x=\"9.30\" y=\"-0.56\" dx=\"0.075\" dy=\"0.15\" text-anchor=\"start\">3</text>\n",
       "        <text x=\"8.88\" y=\"0.15\" dx=\"0.075\" dy=\"0.15\" text-anchor=\"start\">3</text>\n",
       "        <text x=\"9.60\" y=\"0.56\" dx=\"0.075\" dy=\"0.15\" text-anchor=\"start\">2</text>\n",
       "        <text x=\"8.17\" y=\"-0.26\" dx=\"0.175\" dy=\"0.15\" text-anchor=\"start\">1</text>\n",
       "        <text x=\"9.30\" y=\"-0.56\" dx=\"0.075\" dy=\"0.33\" text-anchor=\"start\">a</text>\n",
       "        <text x=\"8.88\" y=\"0.15\" dx=\"0.075\" dy=\"0.33\" text-anchor=\"start\">a</text>\n",
       "        <text x=\"9.60\" y=\"0.56\" dx=\"0.075\" dy=\"0.33\" text-anchor=\"start\">a</text>\n",
       "        <text x=\"8.17\" y=\"-0.26\" dx=\"0.175\" dy=\"0.33\" text-anchor=\"start\">s</text>\n",
       "      </g>\n",
       "    </g>\n",
       "  </g>\n",
       "</svg>"
      ],
      "text/plain": [
       "<CGRtools.containers.reaction.ReactionContainer at 0x7f969ef2f2e0>"
      ]
     },
     "execution_count": 14,
     "metadata": {},
     "output_type": "execute_result"
    }
   ],
   "source": [
    "reaction_rules_list[100]"
   ]
  },
  {
   "cell_type": "markdown",
   "id": "20e55911-23de-410e-b242-d0e95e36314e",
   "metadata": {},
   "source": [
    "## 5. Ranking policy training"
   ]
  },
  {
   "cell_type": "markdown",
   "id": "cc731c98-bfad-4689-a553-3678dfceddf9",
   "metadata": {},
   "source": [
    "After extracting the reaction rules, the next step in SynTool involves the training ranking policy network. \n",
    "\n",
    "The tree nodes in MCTS are expanded by an expansion function approximated by a policy graph neu-ral network. The policy network is composed of two parts: molecular representation and reaction rule prediction parts. In the representation part, the molecular graph is converted to a single vector by graph convolutional layers. The training set structure and the prediction part architecture depend on the type of policy network, particularly the ranking or filtering policy network.\n",
    "The training dataset for ranking policy network consists of pairs of reactions and corresponding reaction rules extracted from it. The products of the reaction are transformed to the CGR encoded as a molecular graph with the one-hot encoded label vector where the positive label corresponds to the reac-tion rule. The prediction part is terminated with the softmax function generating the “probability of suc-cessful application” of each reaction rule to a given input molecular graph, which can be used for the reaction rules “ranking”.\n",
    "All the reaction rules predicted by the ranking or policy neural network are sorted by predicted reaction rule probability and the first N (usually N = 50) of reaction rules are selected to be applied to the current precursor in the expansion step.\n",
    "\n",
    "Frst, we define the training configuration using the `PolicyNetworkConfig` class. This configuration includes various hyperparameters for the neural network:"
   ]
  },
  {
   "cell_type": "code",
   "execution_count": 15,
   "id": "a669dcd8-21e8-4c07-820c-78c1a46b0e06",
   "metadata": {},
   "outputs": [],
   "source": [
    "from SynTool.utils.config import PolicyNetworkConfig\n",
    "from SynTool.ml.training.supervised import create_policy_dataset, run_policy_training"
   ]
  },
  {
   "cell_type": "code",
   "execution_count": 16,
   "id": "ffdb63c6-7ef0-4b54-b769-45b0c3dac5ea",
   "metadata": {},
   "outputs": [],
   "source": [
    "training_config = PolicyNetworkConfig(policy_type='ranking', # the type of policy network\n",
    "                                      num_conv_layers=5,  # the number of graph convolutional layers in the network\n",
    "                                      vector_dim=256,  # the dimensionality of the final embedding vector\n",
    "                                      learning_rate=0.0008,  # the learning rate for the training process\n",
    "                                      dropout=0.4,  # the dropout rate\n",
    "                                      num_epoch=100,  # the number of epochs for training\n",
    "                                      batch_size=100)  # the size of training batch of input data"
   ]
  },
  {
   "cell_type": "markdown",
   "id": "f0c7e80f-0d1f-43f4-ba19-2f793a184913",
   "metadata": {},
   "source": [
    "#### Creating the training set\n",
    "\n",
    "Next, we create the policy dataset using the `create_policy_dataset` function. This involves specifying paths to the reaction rules and the reaction data:"
   ]
  },
  {
   "cell_type": "code",
   "execution_count": 17,
   "id": "73f0fbbe-14d2-4e89-a106-5c4fd1a46de6",
   "metadata": {},
   "outputs": [
    {
     "name": "stderr",
     "output_type": "stream",
     "text": [
      "Number of reactions processed: 994224 [2:31:35]\n"
     ]
    },
    {
     "name": "stdout",
     "output_type": "stream",
     "text": [
      "Training set size: 643359, validation set size: 160840\n"
     ]
    }
   ],
   "source": [
    "ranking_policy_network_folder = root_folder.joinpath(\"ranking_policy_network\")\n",
    "ranking_policy_dataset_path = os.path.join(ranking_policy_network_folder, 'ranking_policy_dataset.dt')\n",
    "\n",
    "datamodule = create_policy_dataset(dataset_type='ranking',\n",
    "                                   reaction_rules_path=reaction_rules_path,\n",
    "                                   molecules_or_reactions_path=filtered_data_path,\n",
    "                                   output_path=ranking_policy_dataset_path,\n",
    "                                   batch_size=training_config.batch_size,\n",
    "                                   num_cpus=4)"
   ]
  },
  {
   "cell_type": "markdown",
   "id": "a443ea52-884e-4586-a437-96f6fc473532",
   "metadata": {},
   "source": [
    "#### Run the policy network training\n",
    "\n",
    "Finally, we train the policy network using the `run_policy_training` function. This step involves feeding the dataset and the training configuration into the network:"
   ]
  },
  {
   "cell_type": "code",
   "execution_count": 18,
   "id": "a3203d41-1ac6-4bba-a6ce-420ec7444b2a",
   "metadata": {},
   "outputs": [
    {
     "name": "stderr",
     "output_type": "stream",
     "text": [
      "GPU available: True (cuda), used: True\n",
      "TPU available: False, using: 0 TPU cores\n",
      "IPU available: False, using: 0 IPUs\n",
      "HPU available: False, using: 0 HPUs\n",
      "LOCAL_RANK: 0 - CUDA_VISIBLE_DEVICES: [0]\n",
      "\n",
      "  | Name        | Type           | Params\n",
      "-----------------------------------------------\n",
      "0 | embedder    | GraphEmbedding | 332 K \n",
      "1 | y_predictor | Linear         | 6.2 M \n",
      "-----------------------------------------------\n",
      "6.5 M     Trainable params\n",
      "0         Non-trainable params\n",
      "6.5 M     Total params\n",
      "26.098    Total estimated model params size (MB)\n"
     ]
    },
    {
     "name": "stdout",
     "output_type": "stream",
     "text": [
      "Weight decoupling enabled in AdaBelief\n",
      "Rectification enabled in AdaBelief\n"
     ]
    },
    {
     "data": {
      "application/json": {
       "ascii": false,
       "bar_format": null,
       "colour": null,
       "elapsed": 0.005213260650634766,
       "initial": 0,
       "n": 0,
       "ncols": 91,
       "nrows": 24,
       "postfix": null,
       "prefix": "Sanity Checking",
       "rate": null,
       "total": null,
       "unit": "it",
       "unit_divisor": 1000,
       "unit_scale": false
      },
      "application/vnd.jupyter.widget-view+json": {
       "model_id": "",
       "version_major": 2,
       "version_minor": 0
      },
      "text/plain": [
       "Sanity Checking: 0it [00:00, ?it/s]"
      ]
     },
     "metadata": {},
     "output_type": "display_data"
    },
    {
     "data": {
      "application/json": {
       "ascii": false,
       "bar_format": null,
       "colour": null,
       "elapsed": 0.004910469055175781,
       "initial": 0,
       "n": 0,
       "ncols": 91,
       "nrows": 24,
       "postfix": null,
       "prefix": "Training",
       "rate": null,
       "total": null,
       "unit": "it",
       "unit_divisor": 1000,
       "unit_scale": false
      },
      "application/vnd.jupyter.widget-view+json": {
       "model_id": "df294a4bfe5f4b758b2e23ecc693c112",
       "version_major": 2,
       "version_minor": 0
      },
      "text/plain": [
       "Training: 0it [00:00, ?it/s]"
      ]
     },
     "metadata": {},
     "output_type": "display_data"
    },
    {
     "data": {
      "application/json": {
       "ascii": false,
       "bar_format": null,
       "colour": null,
       "elapsed": 0.005010128021240234,
       "initial": 0,
       "n": 0,
       "ncols": 91,
       "nrows": 24,
       "postfix": null,
       "prefix": "Validation",
       "rate": null,
       "total": null,
       "unit": "it",
       "unit_divisor": 1000,
       "unit_scale": false
      },
      "application/vnd.jupyter.widget-view+json": {
       "model_id": "",
       "version_major": 2,
       "version_minor": 0
      },
      "text/plain": [
       "Validation: 0it [00:00, ?it/s]"
      ]
     },
     "metadata": {},
     "output_type": "display_data"
    },
    {
     "data": {
      "application/json": {
       "ascii": false,
       "bar_format": null,
       "colour": null,
       "elapsed": 0.004824399948120117,
       "initial": 0,
       "n": 0,
       "ncols": 91,
       "nrows": 24,
       "postfix": null,
       "prefix": "Validation",
       "rate": null,
       "total": null,
       "unit": "it",
       "unit_divisor": 1000,
       "unit_scale": false
      },
      "application/vnd.jupyter.widget-view+json": {
       "model_id": "",
       "version_major": 2,
       "version_minor": 0
      },
      "text/plain": [
       "Validation: 0it [00:00, ?it/s]"
      ]
     },
     "metadata": {},
     "output_type": "display_data"
    },
    {
     "data": {
      "application/json": {
       "ascii": false,
       "bar_format": null,
       "colour": null,
       "elapsed": 0.004984378814697266,
       "initial": 0,
       "n": 0,
       "ncols": 91,
       "nrows": 24,
       "postfix": null,
       "prefix": "Validation",
       "rate": null,
       "total": null,
       "unit": "it",
       "unit_divisor": 1000,
       "unit_scale": false
      },
      "application/vnd.jupyter.widget-view+json": {
       "model_id": "",
       "version_major": 2,
       "version_minor": 0
      },
      "text/plain": [
       "Validation: 0it [00:00, ?it/s]"
      ]
     },
     "metadata": {},
     "output_type": "display_data"
    },
    {
     "data": {
      "application/json": {
       "ascii": false,
       "bar_format": null,
       "colour": null,
       "elapsed": 0.004889011383056641,
       "initial": 0,
       "n": 0,
       "ncols": 91,
       "nrows": 24,
       "postfix": null,
       "prefix": "Validation",
       "rate": null,
       "total": null,
       "unit": "it",
       "unit_divisor": 1000,
       "unit_scale": false
      },
      "application/vnd.jupyter.widget-view+json": {
       "model_id": "",
       "version_major": 2,
       "version_minor": 0
      },
      "text/plain": [
       "Validation: 0it [00:00, ?it/s]"
      ]
     },
     "metadata": {},
     "output_type": "display_data"
    },
    {
     "data": {
      "application/json": {
       "ascii": false,
       "bar_format": null,
       "colour": null,
       "elapsed": 0.00492405891418457,
       "initial": 0,
       "n": 0,
       "ncols": 91,
       "nrows": 24,
       "postfix": null,
       "prefix": "Validation",
       "rate": null,
       "total": null,
       "unit": "it",
       "unit_divisor": 1000,
       "unit_scale": false
      },
      "application/vnd.jupyter.widget-view+json": {
       "model_id": "",
       "version_major": 2,
       "version_minor": 0
      },
      "text/plain": [
       "Validation: 0it [00:00, ?it/s]"
      ]
     },
     "metadata": {},
     "output_type": "display_data"
    },
    {
     "data": {
      "application/json": {
       "ascii": false,
       "bar_format": null,
       "colour": null,
       "elapsed": 0.0049173831939697266,
       "initial": 0,
       "n": 0,
       "ncols": 91,
       "nrows": 24,
       "postfix": null,
       "prefix": "Validation",
       "rate": null,
       "total": null,
       "unit": "it",
       "unit_divisor": 1000,
       "unit_scale": false
      },
      "application/vnd.jupyter.widget-view+json": {
       "model_id": "",
       "version_major": 2,
       "version_minor": 0
      },
      "text/plain": [
       "Validation: 0it [00:00, ?it/s]"
      ]
     },
     "metadata": {},
     "output_type": "display_data"
    },
    {
     "data": {
      "application/json": {
       "ascii": false,
       "bar_format": null,
       "colour": null,
       "elapsed": 0.004969596862792969,
       "initial": 0,
       "n": 0,
       "ncols": 91,
       "nrows": 24,
       "postfix": null,
       "prefix": "Validation",
       "rate": null,
       "total": null,
       "unit": "it",
       "unit_divisor": 1000,
       "unit_scale": false
      },
      "application/vnd.jupyter.widget-view+json": {
       "model_id": "",
       "version_major": 2,
       "version_minor": 0
      },
      "text/plain": [
       "Validation: 0it [00:00, ?it/s]"
      ]
     },
     "metadata": {},
     "output_type": "display_data"
    },
    {
     "data": {
      "application/json": {
       "ascii": false,
       "bar_format": null,
       "colour": null,
       "elapsed": 0.004812002182006836,
       "initial": 0,
       "n": 0,
       "ncols": 91,
       "nrows": 24,
       "postfix": null,
       "prefix": "Validation",
       "rate": null,
       "total": null,
       "unit": "it",
       "unit_divisor": 1000,
       "unit_scale": false
      },
      "application/vnd.jupyter.widget-view+json": {
       "model_id": "",
       "version_major": 2,
       "version_minor": 0
      },
      "text/plain": [
       "Validation: 0it [00:00, ?it/s]"
      ]
     },
     "metadata": {},
     "output_type": "display_data"
    },
    {
     "data": {
      "application/json": {
       "ascii": false,
       "bar_format": null,
       "colour": null,
       "elapsed": 0.004851818084716797,
       "initial": 0,
       "n": 0,
       "ncols": 91,
       "nrows": 24,
       "postfix": null,
       "prefix": "Validation",
       "rate": null,
       "total": null,
       "unit": "it",
       "unit_divisor": 1000,
       "unit_scale": false
      },
      "application/vnd.jupyter.widget-view+json": {
       "model_id": "",
       "version_major": 2,
       "version_minor": 0
      },
      "text/plain": [
       "Validation: 0it [00:00, ?it/s]"
      ]
     },
     "metadata": {},
     "output_type": "display_data"
    },
    {
     "data": {
      "application/json": {
       "ascii": false,
       "bar_format": null,
       "colour": null,
       "elapsed": 0.004934787750244141,
       "initial": 0,
       "n": 0,
       "ncols": 91,
       "nrows": 24,
       "postfix": null,
       "prefix": "Validation",
       "rate": null,
       "total": null,
       "unit": "it",
       "unit_divisor": 1000,
       "unit_scale": false
      },
      "application/vnd.jupyter.widget-view+json": {
       "model_id": "",
       "version_major": 2,
       "version_minor": 0
      },
      "text/plain": [
       "Validation: 0it [00:00, ?it/s]"
      ]
     },
     "metadata": {},
     "output_type": "display_data"
    },
    {
     "data": {
      "application/json": {
       "ascii": false,
       "bar_format": null,
       "colour": null,
       "elapsed": 0.004986286163330078,
       "initial": 0,
       "n": 0,
       "ncols": 91,
       "nrows": 24,
       "postfix": null,
       "prefix": "Validation",
       "rate": null,
       "total": null,
       "unit": "it",
       "unit_divisor": 1000,
       "unit_scale": false
      },
      "application/vnd.jupyter.widget-view+json": {
       "model_id": "",
       "version_major": 2,
       "version_minor": 0
      },
      "text/plain": [
       "Validation: 0it [00:00, ?it/s]"
      ]
     },
     "metadata": {},
     "output_type": "display_data"
    },
    {
     "data": {
      "application/json": {
       "ascii": false,
       "bar_format": null,
       "colour": null,
       "elapsed": 0.0047969818115234375,
       "initial": 0,
       "n": 0,
       "ncols": 91,
       "nrows": 24,
       "postfix": null,
       "prefix": "Validation",
       "rate": null,
       "total": null,
       "unit": "it",
       "unit_divisor": 1000,
       "unit_scale": false
      },
      "application/vnd.jupyter.widget-view+json": {
       "model_id": "",
       "version_major": 2,
       "version_minor": 0
      },
      "text/plain": [
       "Validation: 0it [00:00, ?it/s]"
      ]
     },
     "metadata": {},
     "output_type": "display_data"
    },
    {
     "data": {
      "application/json": {
       "ascii": false,
       "bar_format": null,
       "colour": null,
       "elapsed": 0.004755258560180664,
       "initial": 0,
       "n": 0,
       "ncols": 91,
       "nrows": 24,
       "postfix": null,
       "prefix": "Validation",
       "rate": null,
       "total": null,
       "unit": "it",
       "unit_divisor": 1000,
       "unit_scale": false
      },
      "application/vnd.jupyter.widget-view+json": {
       "model_id": "",
       "version_major": 2,
       "version_minor": 0
      },
      "text/plain": [
       "Validation: 0it [00:00, ?it/s]"
      ]
     },
     "metadata": {},
     "output_type": "display_data"
    },
    {
     "data": {
      "application/json": {
       "ascii": false,
       "bar_format": null,
       "colour": null,
       "elapsed": 0.00476837158203125,
       "initial": 0,
       "n": 0,
       "ncols": 91,
       "nrows": 24,
       "postfix": null,
       "prefix": "Validation",
       "rate": null,
       "total": null,
       "unit": "it",
       "unit_divisor": 1000,
       "unit_scale": false
      },
      "application/vnd.jupyter.widget-view+json": {
       "model_id": "",
       "version_major": 2,
       "version_minor": 0
      },
      "text/plain": [
       "Validation: 0it [00:00, ?it/s]"
      ]
     },
     "metadata": {},
     "output_type": "display_data"
    },
    {
     "data": {
      "application/json": {
       "ascii": false,
       "bar_format": null,
       "colour": null,
       "elapsed": 0.004906654357910156,
       "initial": 0,
       "n": 0,
       "ncols": 91,
       "nrows": 24,
       "postfix": null,
       "prefix": "Validation",
       "rate": null,
       "total": null,
       "unit": "it",
       "unit_divisor": 1000,
       "unit_scale": false
      },
      "application/vnd.jupyter.widget-view+json": {
       "model_id": "",
       "version_major": 2,
       "version_minor": 0
      },
      "text/plain": [
       "Validation: 0it [00:00, ?it/s]"
      ]
     },
     "metadata": {},
     "output_type": "display_data"
    },
    {
     "data": {
      "application/json": {
       "ascii": false,
       "bar_format": null,
       "colour": null,
       "elapsed": 0.0049898624420166016,
       "initial": 0,
       "n": 0,
       "ncols": 91,
       "nrows": 24,
       "postfix": null,
       "prefix": "Validation",
       "rate": null,
       "total": null,
       "unit": "it",
       "unit_divisor": 1000,
       "unit_scale": false
      },
      "application/vnd.jupyter.widget-view+json": {
       "model_id": "",
       "version_major": 2,
       "version_minor": 0
      },
      "text/plain": [
       "Validation: 0it [00:00, ?it/s]"
      ]
     },
     "metadata": {},
     "output_type": "display_data"
    },
    {
     "data": {
      "application/json": {
       "ascii": false,
       "bar_format": null,
       "colour": null,
       "elapsed": 0.004882097244262695,
       "initial": 0,
       "n": 0,
       "ncols": 91,
       "nrows": 24,
       "postfix": null,
       "prefix": "Validation",
       "rate": null,
       "total": null,
       "unit": "it",
       "unit_divisor": 1000,
       "unit_scale": false
      },
      "application/vnd.jupyter.widget-view+json": {
       "model_id": "",
       "version_major": 2,
       "version_minor": 0
      },
      "text/plain": [
       "Validation: 0it [00:00, ?it/s]"
      ]
     },
     "metadata": {},
     "output_type": "display_data"
    },
    {
     "data": {
      "application/json": {
       "ascii": false,
       "bar_format": null,
       "colour": null,
       "elapsed": 0.004871368408203125,
       "initial": 0,
       "n": 0,
       "ncols": 91,
       "nrows": 24,
       "postfix": null,
       "prefix": "Validation",
       "rate": null,
       "total": null,
       "unit": "it",
       "unit_divisor": 1000,
       "unit_scale": false
      },
      "application/vnd.jupyter.widget-view+json": {
       "model_id": "",
       "version_major": 2,
       "version_minor": 0
      },
      "text/plain": [
       "Validation: 0it [00:00, ?it/s]"
      ]
     },
     "metadata": {},
     "output_type": "display_data"
    },
    {
     "data": {
      "application/json": {
       "ascii": false,
       "bar_format": null,
       "colour": null,
       "elapsed": 0.0048177242279052734,
       "initial": 0,
       "n": 0,
       "ncols": 91,
       "nrows": 24,
       "postfix": null,
       "prefix": "Validation",
       "rate": null,
       "total": null,
       "unit": "it",
       "unit_divisor": 1000,
       "unit_scale": false
      },
      "application/vnd.jupyter.widget-view+json": {
       "model_id": "",
       "version_major": 2,
       "version_minor": 0
      },
      "text/plain": [
       "Validation: 0it [00:00, ?it/s]"
      ]
     },
     "metadata": {},
     "output_type": "display_data"
    },
    {
     "data": {
      "application/json": {
       "ascii": false,
       "bar_format": null,
       "colour": null,
       "elapsed": 0.004782199859619141,
       "initial": 0,
       "n": 0,
       "ncols": 91,
       "nrows": 24,
       "postfix": null,
       "prefix": "Validation",
       "rate": null,
       "total": null,
       "unit": "it",
       "unit_divisor": 1000,
       "unit_scale": false
      },
      "application/vnd.jupyter.widget-view+json": {
       "model_id": "",
       "version_major": 2,
       "version_minor": 0
      },
      "text/plain": [
       "Validation: 0it [00:00, ?it/s]"
      ]
     },
     "metadata": {},
     "output_type": "display_data"
    },
    {
     "data": {
      "application/json": {
       "ascii": false,
       "bar_format": null,
       "colour": null,
       "elapsed": 0.0050182342529296875,
       "initial": 0,
       "n": 0,
       "ncols": 91,
       "nrows": 24,
       "postfix": null,
       "prefix": "Validation",
       "rate": null,
       "total": null,
       "unit": "it",
       "unit_divisor": 1000,
       "unit_scale": false
      },
      "application/vnd.jupyter.widget-view+json": {
       "model_id": "",
       "version_major": 2,
       "version_minor": 0
      },
      "text/plain": [
       "Validation: 0it [00:00, ?it/s]"
      ]
     },
     "metadata": {},
     "output_type": "display_data"
    },
    {
     "data": {
      "application/json": {
       "ascii": false,
       "bar_format": null,
       "colour": null,
       "elapsed": 0.004802227020263672,
       "initial": 0,
       "n": 0,
       "ncols": 91,
       "nrows": 24,
       "postfix": null,
       "prefix": "Validation",
       "rate": null,
       "total": null,
       "unit": "it",
       "unit_divisor": 1000,
       "unit_scale": false
      },
      "application/vnd.jupyter.widget-view+json": {
       "model_id": "",
       "version_major": 2,
       "version_minor": 0
      },
      "text/plain": [
       "Validation: 0it [00:00, ?it/s]"
      ]
     },
     "metadata": {},
     "output_type": "display_data"
    },
    {
     "data": {
      "application/json": {
       "ascii": false,
       "bar_format": null,
       "colour": null,
       "elapsed": 0.004784822463989258,
       "initial": 0,
       "n": 0,
       "ncols": 91,
       "nrows": 24,
       "postfix": null,
       "prefix": "Validation",
       "rate": null,
       "total": null,
       "unit": "it",
       "unit_divisor": 1000,
       "unit_scale": false
      },
      "application/vnd.jupyter.widget-view+json": {
       "model_id": "",
       "version_major": 2,
       "version_minor": 0
      },
      "text/plain": [
       "Validation: 0it [00:00, ?it/s]"
      ]
     },
     "metadata": {},
     "output_type": "display_data"
    },
    {
     "data": {
      "application/json": {
       "ascii": false,
       "bar_format": null,
       "colour": null,
       "elapsed": 0.004877805709838867,
       "initial": 0,
       "n": 0,
       "ncols": 91,
       "nrows": 24,
       "postfix": null,
       "prefix": "Validation",
       "rate": null,
       "total": null,
       "unit": "it",
       "unit_divisor": 1000,
       "unit_scale": false
      },
      "application/vnd.jupyter.widget-view+json": {
       "model_id": "",
       "version_major": 2,
       "version_minor": 0
      },
      "text/plain": [
       "Validation: 0it [00:00, ?it/s]"
      ]
     },
     "metadata": {},
     "output_type": "display_data"
    },
    {
     "name": "stdout",
     "output_type": "stream",
     "text": [
      "Epoch 00024: reducing learning rate of group 0 to 6.4000e-04.\n"
     ]
    },
    {
     "data": {
      "application/json": {
       "ascii": false,
       "bar_format": null,
       "colour": null,
       "elapsed": 0.004824399948120117,
       "initial": 0,
       "n": 0,
       "ncols": 91,
       "nrows": 24,
       "postfix": null,
       "prefix": "Validation",
       "rate": null,
       "total": null,
       "unit": "it",
       "unit_divisor": 1000,
       "unit_scale": false
      },
      "application/vnd.jupyter.widget-view+json": {
       "model_id": "",
       "version_major": 2,
       "version_minor": 0
      },
      "text/plain": [
       "Validation: 0it [00:00, ?it/s]"
      ]
     },
     "metadata": {},
     "output_type": "display_data"
    },
    {
     "data": {
      "application/json": {
       "ascii": false,
       "bar_format": null,
       "colour": null,
       "elapsed": 0.004698038101196289,
       "initial": 0,
       "n": 0,
       "ncols": 91,
       "nrows": 24,
       "postfix": null,
       "prefix": "Validation",
       "rate": null,
       "total": null,
       "unit": "it",
       "unit_divisor": 1000,
       "unit_scale": false
      },
      "application/vnd.jupyter.widget-view+json": {
       "model_id": "",
       "version_major": 2,
       "version_minor": 0
      },
      "text/plain": [
       "Validation: 0it [00:00, ?it/s]"
      ]
     },
     "metadata": {},
     "output_type": "display_data"
    },
    {
     "data": {
      "application/json": {
       "ascii": false,
       "bar_format": null,
       "colour": null,
       "elapsed": 0.004945993423461914,
       "initial": 0,
       "n": 0,
       "ncols": 91,
       "nrows": 24,
       "postfix": null,
       "prefix": "Validation",
       "rate": null,
       "total": null,
       "unit": "it",
       "unit_divisor": 1000,
       "unit_scale": false
      },
      "application/vnd.jupyter.widget-view+json": {
       "model_id": "",
       "version_major": 2,
       "version_minor": 0
      },
      "text/plain": [
       "Validation: 0it [00:00, ?it/s]"
      ]
     },
     "metadata": {},
     "output_type": "display_data"
    },
    {
     "data": {
      "application/json": {
       "ascii": false,
       "bar_format": null,
       "colour": null,
       "elapsed": 0.004933595657348633,
       "initial": 0,
       "n": 0,
       "ncols": 91,
       "nrows": 24,
       "postfix": null,
       "prefix": "Validation",
       "rate": null,
       "total": null,
       "unit": "it",
       "unit_divisor": 1000,
       "unit_scale": false
      },
      "application/vnd.jupyter.widget-view+json": {
       "model_id": "",
       "version_major": 2,
       "version_minor": 0
      },
      "text/plain": [
       "Validation: 0it [00:00, ?it/s]"
      ]
     },
     "metadata": {},
     "output_type": "display_data"
    },
    {
     "data": {
      "application/json": {
       "ascii": false,
       "bar_format": null,
       "colour": null,
       "elapsed": 0.0048046112060546875,
       "initial": 0,
       "n": 0,
       "ncols": 91,
       "nrows": 24,
       "postfix": null,
       "prefix": "Validation",
       "rate": null,
       "total": null,
       "unit": "it",
       "unit_divisor": 1000,
       "unit_scale": false
      },
      "application/vnd.jupyter.widget-view+json": {
       "model_id": "",
       "version_major": 2,
       "version_minor": 0
      },
      "text/plain": [
       "Validation: 0it [00:00, ?it/s]"
      ]
     },
     "metadata": {},
     "output_type": "display_data"
    },
    {
     "data": {
      "application/json": {
       "ascii": false,
       "bar_format": null,
       "colour": null,
       "elapsed": 0.004753589630126953,
       "initial": 0,
       "n": 0,
       "ncols": 91,
       "nrows": 24,
       "postfix": null,
       "prefix": "Validation",
       "rate": null,
       "total": null,
       "unit": "it",
       "unit_divisor": 1000,
       "unit_scale": false
      },
      "application/vnd.jupyter.widget-view+json": {
       "model_id": "",
       "version_major": 2,
       "version_minor": 0
      },
      "text/plain": [
       "Validation: 0it [00:00, ?it/s]"
      ]
     },
     "metadata": {},
     "output_type": "display_data"
    },
    {
     "data": {
      "application/json": {
       "ascii": false,
       "bar_format": null,
       "colour": null,
       "elapsed": 0.00479578971862793,
       "initial": 0,
       "n": 0,
       "ncols": 91,
       "nrows": 24,
       "postfix": null,
       "prefix": "Validation",
       "rate": null,
       "total": null,
       "unit": "it",
       "unit_divisor": 1000,
       "unit_scale": false
      },
      "application/vnd.jupyter.widget-view+json": {
       "model_id": "",
       "version_major": 2,
       "version_minor": 0
      },
      "text/plain": [
       "Validation: 0it [00:00, ?it/s]"
      ]
     },
     "metadata": {},
     "output_type": "display_data"
    },
    {
     "data": {
      "application/json": {
       "ascii": false,
       "bar_format": null,
       "colour": null,
       "elapsed": 0.004917621612548828,
       "initial": 0,
       "n": 0,
       "ncols": 91,
       "nrows": 24,
       "postfix": null,
       "prefix": "Validation",
       "rate": null,
       "total": null,
       "unit": "it",
       "unit_divisor": 1000,
       "unit_scale": false
      },
      "application/vnd.jupyter.widget-view+json": {
       "model_id": "",
       "version_major": 2,
       "version_minor": 0
      },
      "text/plain": [
       "Validation: 0it [00:00, ?it/s]"
      ]
     },
     "metadata": {},
     "output_type": "display_data"
    },
    {
     "data": {
      "application/json": {
       "ascii": false,
       "bar_format": null,
       "colour": null,
       "elapsed": 0.004817485809326172,
       "initial": 0,
       "n": 0,
       "ncols": 91,
       "nrows": 24,
       "postfix": null,
       "prefix": "Validation",
       "rate": null,
       "total": null,
       "unit": "it",
       "unit_divisor": 1000,
       "unit_scale": false
      },
      "application/vnd.jupyter.widget-view+json": {
       "model_id": "",
       "version_major": 2,
       "version_minor": 0
      },
      "text/plain": [
       "Validation: 0it [00:00, ?it/s]"
      ]
     },
     "metadata": {},
     "output_type": "display_data"
    },
    {
     "data": {
      "application/json": {
       "ascii": false,
       "bar_format": null,
       "colour": null,
       "elapsed": 0.004897117614746094,
       "initial": 0,
       "n": 0,
       "ncols": 91,
       "nrows": 24,
       "postfix": null,
       "prefix": "Validation",
       "rate": null,
       "total": null,
       "unit": "it",
       "unit_divisor": 1000,
       "unit_scale": false
      },
      "application/vnd.jupyter.widget-view+json": {
       "model_id": "",
       "version_major": 2,
       "version_minor": 0
      },
      "text/plain": [
       "Validation: 0it [00:00, ?it/s]"
      ]
     },
     "metadata": {},
     "output_type": "display_data"
    },
    {
     "data": {
      "application/json": {
       "ascii": false,
       "bar_format": null,
       "colour": null,
       "elapsed": 0.0049288272857666016,
       "initial": 0,
       "n": 0,
       "ncols": 91,
       "nrows": 24,
       "postfix": null,
       "prefix": "Validation",
       "rate": null,
       "total": null,
       "unit": "it",
       "unit_divisor": 1000,
       "unit_scale": false
      },
      "application/vnd.jupyter.widget-view+json": {
       "model_id": "",
       "version_major": 2,
       "version_minor": 0
      },
      "text/plain": [
       "Validation: 0it [00:00, ?it/s]"
      ]
     },
     "metadata": {},
     "output_type": "display_data"
    },
    {
     "data": {
      "application/json": {
       "ascii": false,
       "bar_format": null,
       "colour": null,
       "elapsed": 0.0049054622650146484,
       "initial": 0,
       "n": 0,
       "ncols": 91,
       "nrows": 24,
       "postfix": null,
       "prefix": "Validation",
       "rate": null,
       "total": null,
       "unit": "it",
       "unit_divisor": 1000,
       "unit_scale": false
      },
      "application/vnd.jupyter.widget-view+json": {
       "model_id": "",
       "version_major": 2,
       "version_minor": 0
      },
      "text/plain": [
       "Validation: 0it [00:00, ?it/s]"
      ]
     },
     "metadata": {},
     "output_type": "display_data"
    },
    {
     "data": {
      "application/json": {
       "ascii": false,
       "bar_format": null,
       "colour": null,
       "elapsed": 0.0047321319580078125,
       "initial": 0,
       "n": 0,
       "ncols": 91,
       "nrows": 24,
       "postfix": null,
       "prefix": "Validation",
       "rate": null,
       "total": null,
       "unit": "it",
       "unit_divisor": 1000,
       "unit_scale": false
      },
      "application/vnd.jupyter.widget-view+json": {
       "model_id": "",
       "version_major": 2,
       "version_minor": 0
      },
      "text/plain": [
       "Validation: 0it [00:00, ?it/s]"
      ]
     },
     "metadata": {},
     "output_type": "display_data"
    },
    {
     "data": {
      "application/json": {
       "ascii": false,
       "bar_format": null,
       "colour": null,
       "elapsed": 0.0048274993896484375,
       "initial": 0,
       "n": 0,
       "ncols": 91,
       "nrows": 24,
       "postfix": null,
       "prefix": "Validation",
       "rate": null,
       "total": null,
       "unit": "it",
       "unit_divisor": 1000,
       "unit_scale": false
      },
      "application/vnd.jupyter.widget-view+json": {
       "model_id": "",
       "version_major": 2,
       "version_minor": 0
      },
      "text/plain": [
       "Validation: 0it [00:00, ?it/s]"
      ]
     },
     "metadata": {},
     "output_type": "display_data"
    },
    {
     "data": {
      "application/json": {
       "ascii": false,
       "bar_format": null,
       "colour": null,
       "elapsed": 0.004746198654174805,
       "initial": 0,
       "n": 0,
       "ncols": 91,
       "nrows": 24,
       "postfix": null,
       "prefix": "Validation",
       "rate": null,
       "total": null,
       "unit": "it",
       "unit_divisor": 1000,
       "unit_scale": false
      },
      "application/vnd.jupyter.widget-view+json": {
       "model_id": "",
       "version_major": 2,
       "version_minor": 0
      },
      "text/plain": [
       "Validation: 0it [00:00, ?it/s]"
      ]
     },
     "metadata": {},
     "output_type": "display_data"
    },
    {
     "data": {
      "application/json": {
       "ascii": false,
       "bar_format": null,
       "colour": null,
       "elapsed": 0.0049283504486083984,
       "initial": 0,
       "n": 0,
       "ncols": 91,
       "nrows": 24,
       "postfix": null,
       "prefix": "Validation",
       "rate": null,
       "total": null,
       "unit": "it",
       "unit_divisor": 1000,
       "unit_scale": false
      },
      "application/vnd.jupyter.widget-view+json": {
       "model_id": "",
       "version_major": 2,
       "version_minor": 0
      },
      "text/plain": [
       "Validation: 0it [00:00, ?it/s]"
      ]
     },
     "metadata": {},
     "output_type": "display_data"
    },
    {
     "name": "stdout",
     "output_type": "stream",
     "text": [
      "Epoch 00040: reducing learning rate of group 0 to 5.1200e-04.\n"
     ]
    },
    {
     "data": {
      "application/json": {
       "ascii": false,
       "bar_format": null,
       "colour": null,
       "elapsed": 0.004878997802734375,
       "initial": 0,
       "n": 0,
       "ncols": 91,
       "nrows": 24,
       "postfix": null,
       "prefix": "Validation",
       "rate": null,
       "total": null,
       "unit": "it",
       "unit_divisor": 1000,
       "unit_scale": false
      },
      "application/vnd.jupyter.widget-view+json": {
       "model_id": "",
       "version_major": 2,
       "version_minor": 0
      },
      "text/plain": [
       "Validation: 0it [00:00, ?it/s]"
      ]
     },
     "metadata": {},
     "output_type": "display_data"
    },
    {
     "data": {
      "application/json": {
       "ascii": false,
       "bar_format": null,
       "colour": null,
       "elapsed": 0.00476384162902832,
       "initial": 0,
       "n": 0,
       "ncols": 91,
       "nrows": 24,
       "postfix": null,
       "prefix": "Validation",
       "rate": null,
       "total": null,
       "unit": "it",
       "unit_divisor": 1000,
       "unit_scale": false
      },
      "application/vnd.jupyter.widget-view+json": {
       "model_id": "",
       "version_major": 2,
       "version_minor": 0
      },
      "text/plain": [
       "Validation: 0it [00:00, ?it/s]"
      ]
     },
     "metadata": {},
     "output_type": "display_data"
    },
    {
     "data": {
      "application/json": {
       "ascii": false,
       "bar_format": null,
       "colour": null,
       "elapsed": 0.00473475456237793,
       "initial": 0,
       "n": 0,
       "ncols": 91,
       "nrows": 24,
       "postfix": null,
       "prefix": "Validation",
       "rate": null,
       "total": null,
       "unit": "it",
       "unit_divisor": 1000,
       "unit_scale": false
      },
      "application/vnd.jupyter.widget-view+json": {
       "model_id": "",
       "version_major": 2,
       "version_minor": 0
      },
      "text/plain": [
       "Validation: 0it [00:00, ?it/s]"
      ]
     },
     "metadata": {},
     "output_type": "display_data"
    },
    {
     "data": {
      "application/json": {
       "ascii": false,
       "bar_format": null,
       "colour": null,
       "elapsed": 0.004932880401611328,
       "initial": 0,
       "n": 0,
       "ncols": 91,
       "nrows": 24,
       "postfix": null,
       "prefix": "Validation",
       "rate": null,
       "total": null,
       "unit": "it",
       "unit_divisor": 1000,
       "unit_scale": false
      },
      "application/vnd.jupyter.widget-view+json": {
       "model_id": "",
       "version_major": 2,
       "version_minor": 0
      },
      "text/plain": [
       "Validation: 0it [00:00, ?it/s]"
      ]
     },
     "metadata": {},
     "output_type": "display_data"
    },
    {
     "data": {
      "application/json": {
       "ascii": false,
       "bar_format": null,
       "colour": null,
       "elapsed": 0.00475764274597168,
       "initial": 0,
       "n": 0,
       "ncols": 91,
       "nrows": 24,
       "postfix": null,
       "prefix": "Validation",
       "rate": null,
       "total": null,
       "unit": "it",
       "unit_divisor": 1000,
       "unit_scale": false
      },
      "application/vnd.jupyter.widget-view+json": {
       "model_id": "",
       "version_major": 2,
       "version_minor": 0
      },
      "text/plain": [
       "Validation: 0it [00:00, ?it/s]"
      ]
     },
     "metadata": {},
     "output_type": "display_data"
    },
    {
     "data": {
      "application/json": {
       "ascii": false,
       "bar_format": null,
       "colour": null,
       "elapsed": 0.004868268966674805,
       "initial": 0,
       "n": 0,
       "ncols": 91,
       "nrows": 24,
       "postfix": null,
       "prefix": "Validation",
       "rate": null,
       "total": null,
       "unit": "it",
       "unit_divisor": 1000,
       "unit_scale": false
      },
      "application/vnd.jupyter.widget-view+json": {
       "model_id": "",
       "version_major": 2,
       "version_minor": 0
      },
      "text/plain": [
       "Validation: 0it [00:00, ?it/s]"
      ]
     },
     "metadata": {},
     "output_type": "display_data"
    },
    {
     "data": {
      "application/json": {
       "ascii": false,
       "bar_format": null,
       "colour": null,
       "elapsed": 0.00483393669128418,
       "initial": 0,
       "n": 0,
       "ncols": 91,
       "nrows": 24,
       "postfix": null,
       "prefix": "Validation",
       "rate": null,
       "total": null,
       "unit": "it",
       "unit_divisor": 1000,
       "unit_scale": false
      },
      "application/vnd.jupyter.widget-view+json": {
       "model_id": "",
       "version_major": 2,
       "version_minor": 0
      },
      "text/plain": [
       "Validation: 0it [00:00, ?it/s]"
      ]
     },
     "metadata": {},
     "output_type": "display_data"
    },
    {
     "data": {
      "application/json": {
       "ascii": false,
       "bar_format": null,
       "colour": null,
       "elapsed": 0.004975318908691406,
       "initial": 0,
       "n": 0,
       "ncols": 91,
       "nrows": 24,
       "postfix": null,
       "prefix": "Validation",
       "rate": null,
       "total": null,
       "unit": "it",
       "unit_divisor": 1000,
       "unit_scale": false
      },
      "application/vnd.jupyter.widget-view+json": {
       "model_id": "",
       "version_major": 2,
       "version_minor": 0
      },
      "text/plain": [
       "Validation: 0it [00:00, ?it/s]"
      ]
     },
     "metadata": {},
     "output_type": "display_data"
    },
    {
     "data": {
      "application/json": {
       "ascii": false,
       "bar_format": null,
       "colour": null,
       "elapsed": 0.0047800540924072266,
       "initial": 0,
       "n": 0,
       "ncols": 91,
       "nrows": 24,
       "postfix": null,
       "prefix": "Validation",
       "rate": null,
       "total": null,
       "unit": "it",
       "unit_divisor": 1000,
       "unit_scale": false
      },
      "application/vnd.jupyter.widget-view+json": {
       "model_id": "",
       "version_major": 2,
       "version_minor": 0
      },
      "text/plain": [
       "Validation: 0it [00:00, ?it/s]"
      ]
     },
     "metadata": {},
     "output_type": "display_data"
    },
    {
     "name": "stdout",
     "output_type": "stream",
     "text": [
      "Epoch 00049: reducing learning rate of group 0 to 4.0960e-04.\n"
     ]
    },
    {
     "data": {
      "application/json": {
       "ascii": false,
       "bar_format": null,
       "colour": null,
       "elapsed": 0.0047855377197265625,
       "initial": 0,
       "n": 0,
       "ncols": 91,
       "nrows": 24,
       "postfix": null,
       "prefix": "Validation",
       "rate": null,
       "total": null,
       "unit": "it",
       "unit_divisor": 1000,
       "unit_scale": false
      },
      "application/vnd.jupyter.widget-view+json": {
       "model_id": "",
       "version_major": 2,
       "version_minor": 0
      },
      "text/plain": [
       "Validation: 0it [00:00, ?it/s]"
      ]
     },
     "metadata": {},
     "output_type": "display_data"
    },
    {
     "data": {
      "application/json": {
       "ascii": false,
       "bar_format": null,
       "colour": null,
       "elapsed": 0.004898786544799805,
       "initial": 0,
       "n": 0,
       "ncols": 91,
       "nrows": 24,
       "postfix": null,
       "prefix": "Validation",
       "rate": null,
       "total": null,
       "unit": "it",
       "unit_divisor": 1000,
       "unit_scale": false
      },
      "application/vnd.jupyter.widget-view+json": {
       "model_id": "",
       "version_major": 2,
       "version_minor": 0
      },
      "text/plain": [
       "Validation: 0it [00:00, ?it/s]"
      ]
     },
     "metadata": {},
     "output_type": "display_data"
    },
    {
     "data": {
      "application/json": {
       "ascii": false,
       "bar_format": null,
       "colour": null,
       "elapsed": 0.00493931770324707,
       "initial": 0,
       "n": 0,
       "ncols": 91,
       "nrows": 24,
       "postfix": null,
       "prefix": "Validation",
       "rate": null,
       "total": null,
       "unit": "it",
       "unit_divisor": 1000,
       "unit_scale": false
      },
      "application/vnd.jupyter.widget-view+json": {
       "model_id": "",
       "version_major": 2,
       "version_minor": 0
      },
      "text/plain": [
       "Validation: 0it [00:00, ?it/s]"
      ]
     },
     "metadata": {},
     "output_type": "display_data"
    },
    {
     "data": {
      "application/json": {
       "ascii": false,
       "bar_format": null,
       "colour": null,
       "elapsed": 0.004807949066162109,
       "initial": 0,
       "n": 0,
       "ncols": 91,
       "nrows": 24,
       "postfix": null,
       "prefix": "Validation",
       "rate": null,
       "total": null,
       "unit": "it",
       "unit_divisor": 1000,
       "unit_scale": false
      },
      "application/vnd.jupyter.widget-view+json": {
       "model_id": "",
       "version_major": 2,
       "version_minor": 0
      },
      "text/plain": [
       "Validation: 0it [00:00, ?it/s]"
      ]
     },
     "metadata": {},
     "output_type": "display_data"
    },
    {
     "data": {
      "application/json": {
       "ascii": false,
       "bar_format": null,
       "colour": null,
       "elapsed": 0.004781246185302734,
       "initial": 0,
       "n": 0,
       "ncols": 91,
       "nrows": 24,
       "postfix": null,
       "prefix": "Validation",
       "rate": null,
       "total": null,
       "unit": "it",
       "unit_divisor": 1000,
       "unit_scale": false
      },
      "application/vnd.jupyter.widget-view+json": {
       "model_id": "",
       "version_major": 2,
       "version_minor": 0
      },
      "text/plain": [
       "Validation: 0it [00:00, ?it/s]"
      ]
     },
     "metadata": {},
     "output_type": "display_data"
    },
    {
     "data": {
      "application/json": {
       "ascii": false,
       "bar_format": null,
       "colour": null,
       "elapsed": 0.0048754215240478516,
       "initial": 0,
       "n": 0,
       "ncols": 91,
       "nrows": 24,
       "postfix": null,
       "prefix": "Validation",
       "rate": null,
       "total": null,
       "unit": "it",
       "unit_divisor": 1000,
       "unit_scale": false
      },
      "application/vnd.jupyter.widget-view+json": {
       "model_id": "",
       "version_major": 2,
       "version_minor": 0
      },
      "text/plain": [
       "Validation: 0it [00:00, ?it/s]"
      ]
     },
     "metadata": {},
     "output_type": "display_data"
    },
    {
     "name": "stdout",
     "output_type": "stream",
     "text": [
      "Epoch 00055: reducing learning rate of group 0 to 3.2768e-04.\n"
     ]
    },
    {
     "data": {
      "application/json": {
       "ascii": false,
       "bar_format": null,
       "colour": null,
       "elapsed": 0.004797220230102539,
       "initial": 0,
       "n": 0,
       "ncols": 91,
       "nrows": 24,
       "postfix": null,
       "prefix": "Validation",
       "rate": null,
       "total": null,
       "unit": "it",
       "unit_divisor": 1000,
       "unit_scale": false
      },
      "application/vnd.jupyter.widget-view+json": {
       "model_id": "",
       "version_major": 2,
       "version_minor": 0
      },
      "text/plain": [
       "Validation: 0it [00:00, ?it/s]"
      ]
     },
     "metadata": {},
     "output_type": "display_data"
    },
    {
     "data": {
      "application/json": {
       "ascii": false,
       "bar_format": null,
       "colour": null,
       "elapsed": 0.004812002182006836,
       "initial": 0,
       "n": 0,
       "ncols": 91,
       "nrows": 24,
       "postfix": null,
       "prefix": "Validation",
       "rate": null,
       "total": null,
       "unit": "it",
       "unit_divisor": 1000,
       "unit_scale": false
      },
      "application/vnd.jupyter.widget-view+json": {
       "model_id": "",
       "version_major": 2,
       "version_minor": 0
      },
      "text/plain": [
       "Validation: 0it [00:00, ?it/s]"
      ]
     },
     "metadata": {},
     "output_type": "display_data"
    },
    {
     "data": {
      "application/json": {
       "ascii": false,
       "bar_format": null,
       "colour": null,
       "elapsed": 0.004801511764526367,
       "initial": 0,
       "n": 0,
       "ncols": 91,
       "nrows": 24,
       "postfix": null,
       "prefix": "Validation",
       "rate": null,
       "total": null,
       "unit": "it",
       "unit_divisor": 1000,
       "unit_scale": false
      },
      "application/vnd.jupyter.widget-view+json": {
       "model_id": "",
       "version_major": 2,
       "version_minor": 0
      },
      "text/plain": [
       "Validation: 0it [00:00, ?it/s]"
      ]
     },
     "metadata": {},
     "output_type": "display_data"
    },
    {
     "data": {
      "application/json": {
       "ascii": false,
       "bar_format": null,
       "colour": null,
       "elapsed": 0.004853963851928711,
       "initial": 0,
       "n": 0,
       "ncols": 91,
       "nrows": 24,
       "postfix": null,
       "prefix": "Validation",
       "rate": null,
       "total": null,
       "unit": "it",
       "unit_divisor": 1000,
       "unit_scale": false
      },
      "application/vnd.jupyter.widget-view+json": {
       "model_id": "",
       "version_major": 2,
       "version_minor": 0
      },
      "text/plain": [
       "Validation: 0it [00:00, ?it/s]"
      ]
     },
     "metadata": {},
     "output_type": "display_data"
    },
    {
     "data": {
      "application/json": {
       "ascii": false,
       "bar_format": null,
       "colour": null,
       "elapsed": 0.00482940673828125,
       "initial": 0,
       "n": 0,
       "ncols": 91,
       "nrows": 24,
       "postfix": null,
       "prefix": "Validation",
       "rate": null,
       "total": null,
       "unit": "it",
       "unit_divisor": 1000,
       "unit_scale": false
      },
      "application/vnd.jupyter.widget-view+json": {
       "model_id": "",
       "version_major": 2,
       "version_minor": 0
      },
      "text/plain": [
       "Validation: 0it [00:00, ?it/s]"
      ]
     },
     "metadata": {},
     "output_type": "display_data"
    },
    {
     "data": {
      "application/json": {
       "ascii": false,
       "bar_format": null,
       "colour": null,
       "elapsed": 0.004914522171020508,
       "initial": 0,
       "n": 0,
       "ncols": 91,
       "nrows": 24,
       "postfix": null,
       "prefix": "Validation",
       "rate": null,
       "total": null,
       "unit": "it",
       "unit_divisor": 1000,
       "unit_scale": false
      },
      "application/vnd.jupyter.widget-view+json": {
       "model_id": "",
       "version_major": 2,
       "version_minor": 0
      },
      "text/plain": [
       "Validation: 0it [00:00, ?it/s]"
      ]
     },
     "metadata": {},
     "output_type": "display_data"
    },
    {
     "data": {
      "application/json": {
       "ascii": false,
       "bar_format": null,
       "colour": null,
       "elapsed": 0.004761695861816406,
       "initial": 0,
       "n": 0,
       "ncols": 91,
       "nrows": 24,
       "postfix": null,
       "prefix": "Validation",
       "rate": null,
       "total": null,
       "unit": "it",
       "unit_divisor": 1000,
       "unit_scale": false
      },
      "application/vnd.jupyter.widget-view+json": {
       "model_id": "",
       "version_major": 2,
       "version_minor": 0
      },
      "text/plain": [
       "Validation: 0it [00:00, ?it/s]"
      ]
     },
     "metadata": {},
     "output_type": "display_data"
    },
    {
     "data": {
      "application/json": {
       "ascii": false,
       "bar_format": null,
       "colour": null,
       "elapsed": 0.004843950271606445,
       "initial": 0,
       "n": 0,
       "ncols": 91,
       "nrows": 24,
       "postfix": null,
       "prefix": "Validation",
       "rate": null,
       "total": null,
       "unit": "it",
       "unit_divisor": 1000,
       "unit_scale": false
      },
      "application/vnd.jupyter.widget-view+json": {
       "model_id": "",
       "version_major": 2,
       "version_minor": 0
      },
      "text/plain": [
       "Validation: 0it [00:00, ?it/s]"
      ]
     },
     "metadata": {},
     "output_type": "display_data"
    },
    {
     "data": {
      "application/json": {
       "ascii": false,
       "bar_format": null,
       "colour": null,
       "elapsed": 0.004729032516479492,
       "initial": 0,
       "n": 0,
       "ncols": 91,
       "nrows": 24,
       "postfix": null,
       "prefix": "Validation",
       "rate": null,
       "total": null,
       "unit": "it",
       "unit_divisor": 1000,
       "unit_scale": false
      },
      "application/vnd.jupyter.widget-view+json": {
       "model_id": "",
       "version_major": 2,
       "version_minor": 0
      },
      "text/plain": [
       "Validation: 0it [00:00, ?it/s]"
      ]
     },
     "metadata": {},
     "output_type": "display_data"
    },
    {
     "name": "stdout",
     "output_type": "stream",
     "text": [
      "Epoch 00064: reducing learning rate of group 0 to 2.6214e-04.\n"
     ]
    },
    {
     "data": {
      "application/json": {
       "ascii": false,
       "bar_format": null,
       "colour": null,
       "elapsed": 0.004811286926269531,
       "initial": 0,
       "n": 0,
       "ncols": 91,
       "nrows": 24,
       "postfix": null,
       "prefix": "Validation",
       "rate": null,
       "total": null,
       "unit": "it",
       "unit_divisor": 1000,
       "unit_scale": false
      },
      "application/vnd.jupyter.widget-view+json": {
       "model_id": "",
       "version_major": 2,
       "version_minor": 0
      },
      "text/plain": [
       "Validation: 0it [00:00, ?it/s]"
      ]
     },
     "metadata": {},
     "output_type": "display_data"
    },
    {
     "data": {
      "application/json": {
       "ascii": false,
       "bar_format": null,
       "colour": null,
       "elapsed": 0.0048639774322509766,
       "initial": 0,
       "n": 0,
       "ncols": 91,
       "nrows": 24,
       "postfix": null,
       "prefix": "Validation",
       "rate": null,
       "total": null,
       "unit": "it",
       "unit_divisor": 1000,
       "unit_scale": false
      },
      "application/vnd.jupyter.widget-view+json": {
       "model_id": "",
       "version_major": 2,
       "version_minor": 0
      },
      "text/plain": [
       "Validation: 0it [00:00, ?it/s]"
      ]
     },
     "metadata": {},
     "output_type": "display_data"
    },
    {
     "data": {
      "application/json": {
       "ascii": false,
       "bar_format": null,
       "colour": null,
       "elapsed": 0.004823923110961914,
       "initial": 0,
       "n": 0,
       "ncols": 91,
       "nrows": 24,
       "postfix": null,
       "prefix": "Validation",
       "rate": null,
       "total": null,
       "unit": "it",
       "unit_divisor": 1000,
       "unit_scale": false
      },
      "application/vnd.jupyter.widget-view+json": {
       "model_id": "",
       "version_major": 2,
       "version_minor": 0
      },
      "text/plain": [
       "Validation: 0it [00:00, ?it/s]"
      ]
     },
     "metadata": {},
     "output_type": "display_data"
    },
    {
     "data": {
      "application/json": {
       "ascii": false,
       "bar_format": null,
       "colour": null,
       "elapsed": 0.004734039306640625,
       "initial": 0,
       "n": 0,
       "ncols": 91,
       "nrows": 24,
       "postfix": null,
       "prefix": "Validation",
       "rate": null,
       "total": null,
       "unit": "it",
       "unit_divisor": 1000,
       "unit_scale": false
      },
      "application/vnd.jupyter.widget-view+json": {
       "model_id": "",
       "version_major": 2,
       "version_minor": 0
      },
      "text/plain": [
       "Validation: 0it [00:00, ?it/s]"
      ]
     },
     "metadata": {},
     "output_type": "display_data"
    },
    {
     "data": {
      "application/json": {
       "ascii": false,
       "bar_format": null,
       "colour": null,
       "elapsed": 0.0049092769622802734,
       "initial": 0,
       "n": 0,
       "ncols": 91,
       "nrows": 24,
       "postfix": null,
       "prefix": "Validation",
       "rate": null,
       "total": null,
       "unit": "it",
       "unit_divisor": 1000,
       "unit_scale": false
      },
      "application/vnd.jupyter.widget-view+json": {
       "model_id": "",
       "version_major": 2,
       "version_minor": 0
      },
      "text/plain": [
       "Validation: 0it [00:00, ?it/s]"
      ]
     },
     "metadata": {},
     "output_type": "display_data"
    },
    {
     "data": {
      "application/json": {
       "ascii": false,
       "bar_format": null,
       "colour": null,
       "elapsed": 0.004846811294555664,
       "initial": 0,
       "n": 0,
       "ncols": 91,
       "nrows": 24,
       "postfix": null,
       "prefix": "Validation",
       "rate": null,
       "total": null,
       "unit": "it",
       "unit_divisor": 1000,
       "unit_scale": false
      },
      "application/vnd.jupyter.widget-view+json": {
       "model_id": "",
       "version_major": 2,
       "version_minor": 0
      },
      "text/plain": [
       "Validation: 0it [00:00, ?it/s]"
      ]
     },
     "metadata": {},
     "output_type": "display_data"
    },
    {
     "data": {
      "application/json": {
       "ascii": false,
       "bar_format": null,
       "colour": null,
       "elapsed": 0.004809379577636719,
       "initial": 0,
       "n": 0,
       "ncols": 91,
       "nrows": 24,
       "postfix": null,
       "prefix": "Validation",
       "rate": null,
       "total": null,
       "unit": "it",
       "unit_divisor": 1000,
       "unit_scale": false
      },
      "application/vnd.jupyter.widget-view+json": {
       "model_id": "",
       "version_major": 2,
       "version_minor": 0
      },
      "text/plain": [
       "Validation: 0it [00:00, ?it/s]"
      ]
     },
     "metadata": {},
     "output_type": "display_data"
    },
    {
     "data": {
      "application/json": {
       "ascii": false,
       "bar_format": null,
       "colour": null,
       "elapsed": 0.004799604415893555,
       "initial": 0,
       "n": 0,
       "ncols": 91,
       "nrows": 24,
       "postfix": null,
       "prefix": "Validation",
       "rate": null,
       "total": null,
       "unit": "it",
       "unit_divisor": 1000,
       "unit_scale": false
      },
      "application/vnd.jupyter.widget-view+json": {
       "model_id": "",
       "version_major": 2,
       "version_minor": 0
      },
      "text/plain": [
       "Validation: 0it [00:00, ?it/s]"
      ]
     },
     "metadata": {},
     "output_type": "display_data"
    },
    {
     "data": {
      "application/json": {
       "ascii": false,
       "bar_format": null,
       "colour": null,
       "elapsed": 0.00471949577331543,
       "initial": 0,
       "n": 0,
       "ncols": 91,
       "nrows": 24,
       "postfix": null,
       "prefix": "Validation",
       "rate": null,
       "total": null,
       "unit": "it",
       "unit_divisor": 1000,
       "unit_scale": false
      },
      "application/vnd.jupyter.widget-view+json": {
       "model_id": "",
       "version_major": 2,
       "version_minor": 0
      },
      "text/plain": [
       "Validation: 0it [00:00, ?it/s]"
      ]
     },
     "metadata": {},
     "output_type": "display_data"
    },
    {
     "data": {
      "application/json": {
       "ascii": false,
       "bar_format": null,
       "colour": null,
       "elapsed": 0.00481104850769043,
       "initial": 0,
       "n": 0,
       "ncols": 91,
       "nrows": 24,
       "postfix": null,
       "prefix": "Validation",
       "rate": null,
       "total": null,
       "unit": "it",
       "unit_divisor": 1000,
       "unit_scale": false
      },
      "application/vnd.jupyter.widget-view+json": {
       "model_id": "",
       "version_major": 2,
       "version_minor": 0
      },
      "text/plain": [
       "Validation: 0it [00:00, ?it/s]"
      ]
     },
     "metadata": {},
     "output_type": "display_data"
    },
    {
     "name": "stdout",
     "output_type": "stream",
     "text": [
      "Epoch 00074: reducing learning rate of group 0 to 2.0972e-04.\n"
     ]
    },
    {
     "data": {
      "application/json": {
       "ascii": false,
       "bar_format": null,
       "colour": null,
       "elapsed": 0.004808902740478516,
       "initial": 0,
       "n": 0,
       "ncols": 91,
       "nrows": 24,
       "postfix": null,
       "prefix": "Validation",
       "rate": null,
       "total": null,
       "unit": "it",
       "unit_divisor": 1000,
       "unit_scale": false
      },
      "application/vnd.jupyter.widget-view+json": {
       "model_id": "",
       "version_major": 2,
       "version_minor": 0
      },
      "text/plain": [
       "Validation: 0it [00:00, ?it/s]"
      ]
     },
     "metadata": {},
     "output_type": "display_data"
    },
    {
     "data": {
      "application/json": {
       "ascii": false,
       "bar_format": null,
       "colour": null,
       "elapsed": 0.004776477813720703,
       "initial": 0,
       "n": 0,
       "ncols": 91,
       "nrows": 24,
       "postfix": null,
       "prefix": "Validation",
       "rate": null,
       "total": null,
       "unit": "it",
       "unit_divisor": 1000,
       "unit_scale": false
      },
      "application/vnd.jupyter.widget-view+json": {
       "model_id": "",
       "version_major": 2,
       "version_minor": 0
      },
      "text/plain": [
       "Validation: 0it [00:00, ?it/s]"
      ]
     },
     "metadata": {},
     "output_type": "display_data"
    },
    {
     "data": {
      "application/json": {
       "ascii": false,
       "bar_format": null,
       "colour": null,
       "elapsed": 0.004895448684692383,
       "initial": 0,
       "n": 0,
       "ncols": 91,
       "nrows": 24,
       "postfix": null,
       "prefix": "Validation",
       "rate": null,
       "total": null,
       "unit": "it",
       "unit_divisor": 1000,
       "unit_scale": false
      },
      "application/vnd.jupyter.widget-view+json": {
       "model_id": "",
       "version_major": 2,
       "version_minor": 0
      },
      "text/plain": [
       "Validation: 0it [00:00, ?it/s]"
      ]
     },
     "metadata": {},
     "output_type": "display_data"
    },
    {
     "data": {
      "application/json": {
       "ascii": false,
       "bar_format": null,
       "colour": null,
       "elapsed": 0.004851341247558594,
       "initial": 0,
       "n": 0,
       "ncols": 91,
       "nrows": 24,
       "postfix": null,
       "prefix": "Validation",
       "rate": null,
       "total": null,
       "unit": "it",
       "unit_divisor": 1000,
       "unit_scale": false
      },
      "application/vnd.jupyter.widget-view+json": {
       "model_id": "",
       "version_major": 2,
       "version_minor": 0
      },
      "text/plain": [
       "Validation: 0it [00:00, ?it/s]"
      ]
     },
     "metadata": {},
     "output_type": "display_data"
    },
    {
     "data": {
      "application/json": {
       "ascii": false,
       "bar_format": null,
       "colour": null,
       "elapsed": 0.004843235015869141,
       "initial": 0,
       "n": 0,
       "ncols": 91,
       "nrows": 24,
       "postfix": null,
       "prefix": "Validation",
       "rate": null,
       "total": null,
       "unit": "it",
       "unit_divisor": 1000,
       "unit_scale": false
      },
      "application/vnd.jupyter.widget-view+json": {
       "model_id": "",
       "version_major": 2,
       "version_minor": 0
      },
      "text/plain": [
       "Validation: 0it [00:00, ?it/s]"
      ]
     },
     "metadata": {},
     "output_type": "display_data"
    },
    {
     "name": "stdout",
     "output_type": "stream",
     "text": [
      "Epoch 00079: reducing learning rate of group 0 to 1.6777e-04.\n"
     ]
    },
    {
     "data": {
      "application/json": {
       "ascii": false,
       "bar_format": null,
       "colour": null,
       "elapsed": 0.004776716232299805,
       "initial": 0,
       "n": 0,
       "ncols": 91,
       "nrows": 24,
       "postfix": null,
       "prefix": "Validation",
       "rate": null,
       "total": null,
       "unit": "it",
       "unit_divisor": 1000,
       "unit_scale": false
      },
      "application/vnd.jupyter.widget-view+json": {
       "model_id": "",
       "version_major": 2,
       "version_minor": 0
      },
      "text/plain": [
       "Validation: 0it [00:00, ?it/s]"
      ]
     },
     "metadata": {},
     "output_type": "display_data"
    },
    {
     "data": {
      "application/json": {
       "ascii": false,
       "bar_format": null,
       "colour": null,
       "elapsed": 0.00484919548034668,
       "initial": 0,
       "n": 0,
       "ncols": 91,
       "nrows": 24,
       "postfix": null,
       "prefix": "Validation",
       "rate": null,
       "total": null,
       "unit": "it",
       "unit_divisor": 1000,
       "unit_scale": false
      },
      "application/vnd.jupyter.widget-view+json": {
       "model_id": "",
       "version_major": 2,
       "version_minor": 0
      },
      "text/plain": [
       "Validation: 0it [00:00, ?it/s]"
      ]
     },
     "metadata": {},
     "output_type": "display_data"
    },
    {
     "data": {
      "application/json": {
       "ascii": false,
       "bar_format": null,
       "colour": null,
       "elapsed": 0.004800558090209961,
       "initial": 0,
       "n": 0,
       "ncols": 91,
       "nrows": 24,
       "postfix": null,
       "prefix": "Validation",
       "rate": null,
       "total": null,
       "unit": "it",
       "unit_divisor": 1000,
       "unit_scale": false
      },
      "application/vnd.jupyter.widget-view+json": {
       "model_id": "",
       "version_major": 2,
       "version_minor": 0
      },
      "text/plain": [
       "Validation: 0it [00:00, ?it/s]"
      ]
     },
     "metadata": {},
     "output_type": "display_data"
    },
    {
     "data": {
      "application/json": {
       "ascii": false,
       "bar_format": null,
       "colour": null,
       "elapsed": 0.0048389434814453125,
       "initial": 0,
       "n": 0,
       "ncols": 91,
       "nrows": 24,
       "postfix": null,
       "prefix": "Validation",
       "rate": null,
       "total": null,
       "unit": "it",
       "unit_divisor": 1000,
       "unit_scale": false
      },
      "application/vnd.jupyter.widget-view+json": {
       "model_id": "",
       "version_major": 2,
       "version_minor": 0
      },
      "text/plain": [
       "Validation: 0it [00:00, ?it/s]"
      ]
     },
     "metadata": {},
     "output_type": "display_data"
    },
    {
     "data": {
      "application/json": {
       "ascii": false,
       "bar_format": null,
       "colour": null,
       "elapsed": 0.005941867828369141,
       "initial": 0,
       "n": 0,
       "ncols": 91,
       "nrows": 24,
       "postfix": null,
       "prefix": "Validation",
       "rate": null,
       "total": null,
       "unit": "it",
       "unit_divisor": 1000,
       "unit_scale": false
      },
      "application/vnd.jupyter.widget-view+json": {
       "model_id": "",
       "version_major": 2,
       "version_minor": 0
      },
      "text/plain": [
       "Validation: 0it [00:00, ?it/s]"
      ]
     },
     "metadata": {},
     "output_type": "display_data"
    },
    {
     "data": {
      "application/json": {
       "ascii": false,
       "bar_format": null,
       "colour": null,
       "elapsed": 0.00479435920715332,
       "initial": 0,
       "n": 0,
       "ncols": 91,
       "nrows": 24,
       "postfix": null,
       "prefix": "Validation",
       "rate": null,
       "total": null,
       "unit": "it",
       "unit_divisor": 1000,
       "unit_scale": false
      },
      "application/vnd.jupyter.widget-view+json": {
       "model_id": "",
       "version_major": 2,
       "version_minor": 0
      },
      "text/plain": [
       "Validation: 0it [00:00, ?it/s]"
      ]
     },
     "metadata": {},
     "output_type": "display_data"
    },
    {
     "data": {
      "application/json": {
       "ascii": false,
       "bar_format": null,
       "colour": null,
       "elapsed": 0.004778623580932617,
       "initial": 0,
       "n": 0,
       "ncols": 91,
       "nrows": 24,
       "postfix": null,
       "prefix": "Validation",
       "rate": null,
       "total": null,
       "unit": "it",
       "unit_divisor": 1000,
       "unit_scale": false
      },
      "application/vnd.jupyter.widget-view+json": {
       "model_id": "",
       "version_major": 2,
       "version_minor": 0
      },
      "text/plain": [
       "Validation: 0it [00:00, ?it/s]"
      ]
     },
     "metadata": {},
     "output_type": "display_data"
    },
    {
     "data": {
      "application/json": {
       "ascii": false,
       "bar_format": null,
       "colour": null,
       "elapsed": 0.004904031753540039,
       "initial": 0,
       "n": 0,
       "ncols": 91,
       "nrows": 24,
       "postfix": null,
       "prefix": "Validation",
       "rate": null,
       "total": null,
       "unit": "it",
       "unit_divisor": 1000,
       "unit_scale": false
      },
      "application/vnd.jupyter.widget-view+json": {
       "model_id": "",
       "version_major": 2,
       "version_minor": 0
      },
      "text/plain": [
       "Validation: 0it [00:00, ?it/s]"
      ]
     },
     "metadata": {},
     "output_type": "display_data"
    },
    {
     "name": "stdout",
     "output_type": "stream",
     "text": [
      "Epoch 00087: reducing learning rate of group 0 to 1.3422e-04.\n"
     ]
    },
    {
     "data": {
      "application/json": {
       "ascii": false,
       "bar_format": null,
       "colour": null,
       "elapsed": 0.0048716068267822266,
       "initial": 0,
       "n": 0,
       "ncols": 91,
       "nrows": 24,
       "postfix": null,
       "prefix": "Validation",
       "rate": null,
       "total": null,
       "unit": "it",
       "unit_divisor": 1000,
       "unit_scale": false
      },
      "application/vnd.jupyter.widget-view+json": {
       "model_id": "",
       "version_major": 2,
       "version_minor": 0
      },
      "text/plain": [
       "Validation: 0it [00:00, ?it/s]"
      ]
     },
     "metadata": {},
     "output_type": "display_data"
    },
    {
     "data": {
      "application/json": {
       "ascii": false,
       "bar_format": null,
       "colour": null,
       "elapsed": 0.0047643184661865234,
       "initial": 0,
       "n": 0,
       "ncols": 91,
       "nrows": 24,
       "postfix": null,
       "prefix": "Validation",
       "rate": null,
       "total": null,
       "unit": "it",
       "unit_divisor": 1000,
       "unit_scale": false
      },
      "application/vnd.jupyter.widget-view+json": {
       "model_id": "",
       "version_major": 2,
       "version_minor": 0
      },
      "text/plain": [
       "Validation: 0it [00:00, ?it/s]"
      ]
     },
     "metadata": {},
     "output_type": "display_data"
    },
    {
     "data": {
      "application/json": {
       "ascii": false,
       "bar_format": null,
       "colour": null,
       "elapsed": 0.004705905914306641,
       "initial": 0,
       "n": 0,
       "ncols": 91,
       "nrows": 24,
       "postfix": null,
       "prefix": "Validation",
       "rate": null,
       "total": null,
       "unit": "it",
       "unit_divisor": 1000,
       "unit_scale": false
      },
      "application/vnd.jupyter.widget-view+json": {
       "model_id": "",
       "version_major": 2,
       "version_minor": 0
      },
      "text/plain": [
       "Validation: 0it [00:00, ?it/s]"
      ]
     },
     "metadata": {},
     "output_type": "display_data"
    },
    {
     "data": {
      "application/json": {
       "ascii": false,
       "bar_format": null,
       "colour": null,
       "elapsed": 0.004715442657470703,
       "initial": 0,
       "n": 0,
       "ncols": 91,
       "nrows": 24,
       "postfix": null,
       "prefix": "Validation",
       "rate": null,
       "total": null,
       "unit": "it",
       "unit_divisor": 1000,
       "unit_scale": false
      },
      "application/vnd.jupyter.widget-view+json": {
       "model_id": "",
       "version_major": 2,
       "version_minor": 0
      },
      "text/plain": [
       "Validation: 0it [00:00, ?it/s]"
      ]
     },
     "metadata": {},
     "output_type": "display_data"
    },
    {
     "data": {
      "application/json": {
       "ascii": false,
       "bar_format": null,
       "colour": null,
       "elapsed": 0.004834890365600586,
       "initial": 0,
       "n": 0,
       "ncols": 91,
       "nrows": 24,
       "postfix": null,
       "prefix": "Validation",
       "rate": null,
       "total": null,
       "unit": "it",
       "unit_divisor": 1000,
       "unit_scale": false
      },
      "application/vnd.jupyter.widget-view+json": {
       "model_id": "",
       "version_major": 2,
       "version_minor": 0
      },
      "text/plain": [
       "Validation: 0it [00:00, ?it/s]"
      ]
     },
     "metadata": {},
     "output_type": "display_data"
    },
    {
     "data": {
      "application/json": {
       "ascii": false,
       "bar_format": null,
       "colour": null,
       "elapsed": 0.004705905914306641,
       "initial": 0,
       "n": 0,
       "ncols": 91,
       "nrows": 24,
       "postfix": null,
       "prefix": "Validation",
       "rate": null,
       "total": null,
       "unit": "it",
       "unit_divisor": 1000,
       "unit_scale": false
      },
      "application/vnd.jupyter.widget-view+json": {
       "model_id": "",
       "version_major": 2,
       "version_minor": 0
      },
      "text/plain": [
       "Validation: 0it [00:00, ?it/s]"
      ]
     },
     "metadata": {},
     "output_type": "display_data"
    },
    {
     "data": {
      "application/json": {
       "ascii": false,
       "bar_format": null,
       "colour": null,
       "elapsed": 0.0047664642333984375,
       "initial": 0,
       "n": 0,
       "ncols": 91,
       "nrows": 24,
       "postfix": null,
       "prefix": "Validation",
       "rate": null,
       "total": null,
       "unit": "it",
       "unit_divisor": 1000,
       "unit_scale": false
      },
      "application/vnd.jupyter.widget-view+json": {
       "model_id": "",
       "version_major": 2,
       "version_minor": 0
      },
      "text/plain": [
       "Validation: 0it [00:00, ?it/s]"
      ]
     },
     "metadata": {},
     "output_type": "display_data"
    },
    {
     "name": "stdout",
     "output_type": "stream",
     "text": [
      "Epoch 00094: reducing learning rate of group 0 to 1.0737e-04.\n"
     ]
    },
    {
     "data": {
      "application/json": {
       "ascii": false,
       "bar_format": null,
       "colour": null,
       "elapsed": 0.004821300506591797,
       "initial": 0,
       "n": 0,
       "ncols": 91,
       "nrows": 24,
       "postfix": null,
       "prefix": "Validation",
       "rate": null,
       "total": null,
       "unit": "it",
       "unit_divisor": 1000,
       "unit_scale": false
      },
      "application/vnd.jupyter.widget-view+json": {
       "model_id": "",
       "version_major": 2,
       "version_minor": 0
      },
      "text/plain": [
       "Validation: 0it [00:00, ?it/s]"
      ]
     },
     "metadata": {},
     "output_type": "display_data"
    },
    {
     "data": {
      "application/json": {
       "ascii": false,
       "bar_format": null,
       "colour": null,
       "elapsed": 0.00474858283996582,
       "initial": 0,
       "n": 0,
       "ncols": 91,
       "nrows": 24,
       "postfix": null,
       "prefix": "Validation",
       "rate": null,
       "total": null,
       "unit": "it",
       "unit_divisor": 1000,
       "unit_scale": false
      },
      "application/vnd.jupyter.widget-view+json": {
       "model_id": "",
       "version_major": 2,
       "version_minor": 0
      },
      "text/plain": [
       "Validation: 0it [00:00, ?it/s]"
      ]
     },
     "metadata": {},
     "output_type": "display_data"
    },
    {
     "data": {
      "application/json": {
       "ascii": false,
       "bar_format": null,
       "colour": null,
       "elapsed": 0.004827260971069336,
       "initial": 0,
       "n": 0,
       "ncols": 91,
       "nrows": 24,
       "postfix": null,
       "prefix": "Validation",
       "rate": null,
       "total": null,
       "unit": "it",
       "unit_divisor": 1000,
       "unit_scale": false
      },
      "application/vnd.jupyter.widget-view+json": {
       "model_id": "",
       "version_major": 2,
       "version_minor": 0
      },
      "text/plain": [
       "Validation: 0it [00:00, ?it/s]"
      ]
     },
     "metadata": {},
     "output_type": "display_data"
    },
    {
     "data": {
      "application/json": {
       "ascii": false,
       "bar_format": null,
       "colour": null,
       "elapsed": 0.004862070083618164,
       "initial": 0,
       "n": 0,
       "ncols": 91,
       "nrows": 24,
       "postfix": null,
       "prefix": "Validation",
       "rate": null,
       "total": null,
       "unit": "it",
       "unit_divisor": 1000,
       "unit_scale": false
      },
      "application/vnd.jupyter.widget-view+json": {
       "model_id": "",
       "version_major": 2,
       "version_minor": 0
      },
      "text/plain": [
       "Validation: 0it [00:00, ?it/s]"
      ]
     },
     "metadata": {},
     "output_type": "display_data"
    },
    {
     "data": {
      "application/json": {
       "ascii": false,
       "bar_format": null,
       "colour": null,
       "elapsed": 0.004776954650878906,
       "initial": 0,
       "n": 0,
       "ncols": 91,
       "nrows": 24,
       "postfix": null,
       "prefix": "Validation",
       "rate": null,
       "total": null,
       "unit": "it",
       "unit_divisor": 1000,
       "unit_scale": false
      },
      "application/vnd.jupyter.widget-view+json": {
       "model_id": "",
       "version_major": 2,
       "version_minor": 0
      },
      "text/plain": [
       "Validation: 0it [00:00, ?it/s]"
      ]
     },
     "metadata": {},
     "output_type": "display_data"
    },
    {
     "name": "stdout",
     "output_type": "stream",
     "text": [
      "Epoch 00099: reducing learning rate of group 0 to 8.5899e-05.\n"
     ]
    },
    {
     "data": {
      "application/json": {
       "ascii": false,
       "bar_format": null,
       "colour": null,
       "elapsed": 0.0047223567962646484,
       "initial": 0,
       "n": 0,
       "ncols": 91,
       "nrows": 24,
       "postfix": null,
       "prefix": "Validation",
       "rate": null,
       "total": null,
       "unit": "it",
       "unit_divisor": 1000,
       "unit_scale": false
      },
      "application/vnd.jupyter.widget-view+json": {
       "model_id": "",
       "version_major": 2,
       "version_minor": 0
      },
      "text/plain": [
       "Validation: 0it [00:00, ?it/s]"
      ]
     },
     "metadata": {},
     "output_type": "display_data"
    },
    {
     "name": "stderr",
     "output_type": "stream",
     "text": [
      "`Trainer.fit` stopped: `max_epochs=100` reached.\n"
     ]
    },
    {
     "name": "stdout",
     "output_type": "stream",
     "text": [
      "Policy network balanced accuracy: 0.8\n"
     ]
    }
   ],
   "source": [
    "run_policy_training(datamodule, # the prepared data module for training\n",
    "                    config=training_config, # the training configuration\n",
    "                    results_path=ranking_policy_network_folder) # path to save the training results"
   ]
  },
  {
   "cell_type": "markdown",
   "id": "2f7a35be-8fec-4542-be66-a539170b4e55",
   "metadata": {},
   "source": [
    "## 6. Tree search with the ranking policy network and rollout evaluation"
   ]
  },
  {
   "attachments": {},
   "cell_type": "markdown",
   "id": "41ac5f25-8ff4-4d72-a8f2-f44e81aed7fd",
   "metadata": {},
   "source": [
    "This section explained how to perform retrosynthesis planning with extracted reaction rules, trained ranking policy network, and MCTS algorithm with rollout node evaluation.\n",
    "\n",
    "### Configuring the tree search\n",
    "The tree search is configured using the `TreeConfig` class. Key parameters include:\n",
    "\n",
    "- **max_iterations**: Defines the total number of iterations the algorithm will perform, essentially setting a limit on how many times the tree search loop can run. Default is 100 iterations.\n",
    "- **max_tree_size**: Sets the upper limit on the total number of nodes that can exist in the search tree, controlling the size and complexity of the tree. Default value is 10,000 nodes.\n",
    "- **max_time**: Specifies a time limit for the algorithm's execution, measured in seconds. This prevents the search from running indefinitely. The default time limit is 600 seconds (10 minutes).\n",
    "- **max_depth**: Determines the maximum depth of the tree, effectively controlling how far the search can go from the root node. The default maximum depth is 6 levels.\n",
    "- **ucb_type**: Chooses the type of Upper Confidence Bound (UCB) algorithm used in the search. Options include \"puct\" (predictive UCB), \"uct\" (standard UCB), and \"value\". The default is \"uct\".\n",
    "- **c_ucb**: This is the exploration-exploitation balance coefficient in UCB, which influences how much the algorithm favors exploration of new paths versus exploitation of known paths. The default coefficient is 0.1.\n",
    "- **backprop_type**: Selects the backpropagation method used during the search. Options are \"muzero\" (model-based approach) and \"cumulative\" (cumulative reward approach). The default is \"muzero\".\n",
    "- **search_strategy**: Determines the strategy for navigating the tree. Options are \"expansion_first\" (prioritizing the expansion of new nodes) and \"evaluation_first\" (prioritizing the evaluation of existing nodes). The default strategy is \"expansion_first\".\n",
    "- **exclude_small**: A boolean setting that, when true, excludes small molecules from the search, typically to focus on more complex molecules. The default is set to True.\n",
    "- **evaluation_agg**: This setting determines how the evaluation scores are aggregated. Options are \"max\" (using the maximum score) and \"average\" (using the average score). The default method is \"max\".\n",
    "- **evaluation_mode**: Defines the method used for node evaluation. Options include \"random\" (random evaluations), \"rollout\" (using rollout simulations), and \"gcn\" (graph convolutional networks). The default is \"gcn\".\n",
    "- **init_node_value**: Sets the initial value for newly created nodes in the tree. This can impact how nodes are prioritized during the search. The default initial value is 0.0.\n",
    "- **epsilon**: This parameter is used in the epsilon-greedy strategy during node selection, representing the probability of choosing a random action for exploration. A higher value leads to more exploration. The default value is 0.0.\n",
    "- **min_mol_size**: Defines the minimum size of a molecule (in terms of the number of heavy atoms) to be considered in the search. Molecules smaller than this threshold are typically considered as readily available building blocks. The default is set to 6 heavy atoms.\n",
    "- **silent**: When set to True, this option suppresses the progress output of the tree search, keeping the output clean and focused. The default setting is False."
   ]
  },
  {
   "cell_type": "code",
   "execution_count": 19,
   "id": "5d8c97cd-0e70-47a8-9fc1-7f0dc8351c5f",
   "metadata": {},
   "outputs": [],
   "source": [
    "from CGRtools import smiles\n",
    "from IPython.display import SVG, display\n",
    "from SynTool.interfaces.visualisation import get_route_svg\n",
    "\n",
    "from SynTool.utils.config import TreeConfig\n",
    "from SynTool.mcts.tree import Tree\n",
    "from SynTool.mcts.expansion import PolicyFunction"
   ]
  },
  {
   "cell_type": "code",
   "execution_count": 20,
   "id": "17f18c3b-1889-4e7f-bbbf-fc8b51f5f469",
   "metadata": {},
   "outputs": [],
   "source": [
    "tree_config = TreeConfig(search_strategy=\"expansion_first\",\n",
    "                         evaluation_type=\"rollout\",\n",
    "                         min_mol_size=0,\n",
    "                         init_node_value=0.5,\n",
    "                         ucb_type=\"uct\",\n",
    "                         c_ucb=0.1,\n",
    "                         max_iterations=100,\n",
    "                         max_depth=9)"
   ]
  },
  {
   "cell_type": "markdown",
   "id": "9c6aab08-22ee-4bd8-88b3-310896dc66c5",
   "metadata": {},
   "source": [
    "### Choose the target molecule"
   ]
  },
  {
   "cell_type": "code",
   "execution_count": 35,
   "id": "070630a3-489d-48c1-933a-0b05881881c6",
   "metadata": {},
   "outputs": [
    {
     "data": {
      "image/svg+xml": [
       "<svg width=\"7.69cm\" height=\"5.37cm\" viewBox=\"-5.57 -1.56 7.69 5.37\" xmlns=\"http://www.w3.org/2000/svg\" version=\"1.1\">\n",
       "  <g>\n",
       "    <defs>\n",
       "      <mask id=\"mask-69209165-0e3e-40a6-9f41-def602d65911\">\n",
       "        <rect x=\"-5.57\" y=\"-1.56\" width=\"7.69\" height=\"5.37\" fill=\"white\"/>\n",
       "        <g fill=\"black\">\n",
       "          <ellipse cx=\"-1.36\" cy=\"0.71\" rx=\"0.3\" ry=\"0.2\"/>\n",
       "          <circle cx=\"-2.06\" cy=\"0.71\" r=\"0.20\"/>\n",
       "          <circle cx=\"-4.95\" cy=\"1.43\" r=\"0.20\"/>\n",
       "          <circle cx=\"-4.54\" cy=\"0.71\" r=\"0.20\"/>\n",
       "          <circle cx=\"-3.30\" cy=\"0.00\" r=\"0.20\"/>\n",
       "        </g>\n",
       "        <g font-family=\"monospace\" stroke=\"black\">\n",
       "          <g font-family=\"sans-serif\" font-size=\"0.50\" stroke-width=\"0.05\">\n",
       "            <text x=\"-1.24\" y=\"0.71\" dx=\"-0.35\" dy=\"0.20\">Si</text>\n",
       "            <text x=\"-2.06\" y=\"0.71\" dx=\"-0.20\" dy=\"0.20\">O</text>\n",
       "            <text x=\"-4.95\" y=\"1.43\" dx=\"-0.20\" dy=\"0.20\">N</text>\n",
       "            <text x=\"-4.54\" y=\"0.71\" dx=\"-0.20\" dy=\"0.20\">NH</text>\n",
       "            <text x=\"-3.30\" y=\"0.00\" dx=\"-0.20\" dy=\"0.20\">O</text>\n",
       "          </g>\n",
       "        </g>\n",
       "      </mask>\n",
       "    </defs>\n",
       "    <g fill=\"none\" stroke=\"black\" stroke-width=\"0.04\"  mask=\"url(#mask-69209165-0e3e-40a6-9f41-def602d65911)\">\n",
       "      <line x1=\"-2.06\" y1=\"-0.11\" x2=\"-1.24\" y2=\"-0.11\"/>\n",
       "      <line x1=\"-1.24\" y1=\"-0.11\" x2=\"-1.24\" y2=\"-0.94\"/>\n",
       "      <line x1=\"-1.24\" y1=\"-0.11\" x2=\"-0.46\" y2=\"-0.39\"/>\n",
       "      <line x1=\"-1.24\" y1=\"-0.11\" x2=\"-1.24\" y2=\"0.71\"/>\n",
       "      <line x1=\"-1.24\" y1=\"0.71\" x2=\"-2.06\" y2=\"0.71\"/>\n",
       "      <line x1=\"-1.24\" y1=\"0.71\" x2=\"-1.24\" y2=\"1.54\"/>\n",
       "      <line x1=\"-1.24\" y1=\"0.71\" x2=\"-0.41\" y2=\"0.71\"/>\n",
       "      <line x1=\"-2.06\" y1=\"0.71\" x2=\"-2.47\" y2=\"1.43\"/>\n",
       "      <line x1=\"-2.47\" y1=\"1.43\" x2=\"-3.30\" y2=\"1.43\"/>\n",
       "      <line x1=\"-3.25\" y1=\"1.46\" x2=\"-3.66\" y2=\"2.17\"/>\n",
       "      <line x1=\"-3.35\" y1=\"1.40\" x2=\"-3.76\" y2=\"2.11\"/>\n",
       "      <line x1=\"-3.30\" y1=\"1.43\" x2=\"-3.71\" y2=\"0.71\"/>\n",
       "      <line x1=\"-3.71\" y1=\"2.14\" x2=\"-4.54\" y2=\"2.14\"/>\n",
       "      <line x1=\"-4.59\" y1=\"2.17\" x2=\"-5.00\" y2=\"1.46\"/>\n",
       "      <line x1=\"-4.49\" y1=\"2.11\" x2=\"-4.90\" y2=\"1.40\"/>\n",
       "      <line x1=\"-4.95\" y1=\"1.43\" x2=\"-4.54\" y2=\"0.71\"/>\n",
       "      <line x1=\"-4.54\" y1=\"0.71\" x2=\"-3.71\" y2=\"0.71\"/>\n",
       "      <line x1=\"-3.76\" y1=\"0.68\" x2=\"-3.35\" y2=\"-0.03\"/>\n",
       "      <line x1=\"-3.66\" y1=\"0.74\" x2=\"-3.25\" y2=\"0.03\"/>\n",
       "      <line x1=\"-1.24\" y1=\"1.54\" x2=\"-1.95\" y2=\"1.95\"/>\n",
       "      <line x1=\"-1.24\" y1=\"1.54\" x2=\"-0.52\" y2=\"1.95\"/>\n",
       "      <line x1=\"-1.95\" y1=\"1.95\" x2=\"-1.95\" y2=\"2.78\"/>\n",
       "      <line x1=\"-1.95\" y1=\"2.78\" x2=\"-1.24\" y2=\"3.19\"/>\n",
       "      <line x1=\"-1.24\" y1=\"3.19\" x2=\"-0.52\" y2=\"2.78\"/>\n",
       "      <line x1=\"-0.52\" y1=\"2.78\" x2=\"-0.52\" y2=\"1.95\"/>\n",
       "      <line x1=\"-0.41\" y1=\"0.71\" x2=\"0.00\" y2=\"1.43\"/>\n",
       "      <line x1=\"-0.41\" y1=\"0.71\" x2=\"0.00\" y2=\"-0.00\"/>\n",
       "      <line x1=\"0.00\" y1=\"1.43\" x2=\"0.82\" y2=\"1.43\"/>\n",
       "      <line x1=\"0.82\" y1=\"1.43\" x2=\"1.24\" y2=\"0.71\"/>\n",
       "      <line x1=\"1.24\" y1=\"0.71\" x2=\"0.82\" y2=\"-0.00\"/>\n",
       "      <line x1=\"0.82\" y1=\"-0.00\" x2=\"0.00\" y2=\"-0.00\"/>\n",
       "      <line x1=\"-0.25\" y1=\"0.71\" x2=\"0.08\" y2=\"1.29\" stroke-dasharray=\"0.15 0.05\"/>\n",
       "      <line x1=\"0.08\" y1=\"1.29\" x2=\"0.74\" y2=\"1.29\" stroke-dasharray=\"0.15 0.05\"/>\n",
       "      <line x1=\"0.74\" y1=\"1.29\" x2=\"1.08\" y2=\"0.71\" stroke-dasharray=\"0.15 0.05\"/>\n",
       "      <line x1=\"1.08\" y1=\"0.71\" x2=\"0.74\" y2=\"0.14\" stroke-dasharray=\"0.15 0.05\"/>\n",
       "      <line x1=\"0.74\" y1=\"0.14\" x2=\"0.08\" y2=\"0.14\" stroke-dasharray=\"0.15 0.05\"/>\n",
       "      <line x1=\"0.08\" y1=\"0.14\" x2=\"-0.25\" y2=\"0.71\" stroke-dasharray=\"0.15 0.05\"/>\n",
       "      <line x1=\"-1.24\" y1=\"1.70\" x2=\"-1.81\" y2=\"2.03\" stroke-dasharray=\"0.15 0.05\"/>\n",
       "      <line x1=\"-1.81\" y1=\"2.03\" x2=\"-1.81\" y2=\"2.70\" stroke-dasharray=\"0.15 0.05\"/>\n",
       "      <line x1=\"-1.81\" y1=\"2.70\" x2=\"-1.24\" y2=\"3.03\" stroke-dasharray=\"0.15 0.05\"/>\n",
       "      <line x1=\"-1.24\" y1=\"3.03\" x2=\"-0.66\" y2=\"2.70\" stroke-dasharray=\"0.15 0.05\"/>\n",
       "      <line x1=\"-0.66\" y1=\"2.70\" x2=\"-0.66\" y2=\"2.03\" stroke-dasharray=\"0.15 0.05\"/>\n",
       "      <line x1=\"-0.66\" y1=\"2.03\" x2=\"-1.24\" y2=\"1.70\" stroke-dasharray=\"0.15 0.05\"/>\n",
       "    </g>\n",
       "    <g font-family=\"monospace\">\n",
       "      <g fill=\"#F0C8A0\" font-family=\"sans-serif\">\n",
       "        <text x=\"-1.24\" y=\"0.71\" dx=\"-0.35\" dy=\"0.20\" font-size=\"0.50\">Si</text>\n",
       "      </g>\n",
       "      <g fill=\"#FF0D0D\" font-family=\"sans-serif\">\n",
       "        <text x=\"-2.06\" y=\"0.71\" dx=\"-0.20\" dy=\"0.20\" font-size=\"0.50\">O</text>\n",
       "      </g>\n",
       "      <g fill=\"#3050F8\" font-family=\"sans-serif\">\n",
       "        <text x=\"-4.95\" y=\"1.43\" dx=\"-0.20\" dy=\"0.20\" font-size=\"0.50\">N</text>\n",
       "      </g>\n",
       "      <g fill=\"#3050F8\" font-family=\"sans-serif\">\n",
       "        <text x=\"-4.54\" y=\"0.71\" dx=\"-0.20\" dy=\"0.20\" font-size=\"0.50\">NH</text>\n",
       "      </g>\n",
       "      <g fill=\"#FF0D0D\" font-family=\"sans-serif\">\n",
       "        <text x=\"-3.30\" y=\"0.00\" dx=\"-0.20\" dy=\"0.20\" font-size=\"0.50\">O</text>\n",
       "      </g>\n",
       "    </g>\n",
       "  </g>\n",
       "</svg>"
      ],
      "text/plain": [
       "<CGRtools.containers.molecule.MoleculeContainer at 0x7f999be11440>"
      ]
     },
     "execution_count": 35,
     "metadata": {},
     "output_type": "execute_result"
    }
   ],
   "source": [
    "example_molecule = 'CC(C)(C)[Si](OCc1ccn[nH]c1=O)(c1ccccc1)c1ccccc1'\n",
    "\n",
    "target = smiles(example_molecule)\n",
    "target.canonicalize()\n",
    "target.clean2d()\n",
    "target"
   ]
  },
  {
   "cell_type": "markdown",
   "id": "35fe4682-4ba3-4bbe-9aa1-87f71c41fd44",
   "metadata": {},
   "source": [
    "### Initializing the tree and running search\n",
    "\n",
    "The `Tree` class is initialized with the target molecule, the path to reaction rules, building blocks, the tree configuration, and the policy function. The policy function, obtained from the trained ranking policy, guides the selection of retrosynthetic transformations."
   ]
  },
  {
   "cell_type": "code",
   "execution_count": 36,
   "id": "343ed059-a57b-470d-b33c-8bc8207b68dd",
   "metadata": {},
   "outputs": [],
   "source": [
    "# initialize the policy function\n",
    "ranking_policy_network = os.path.join(ranking_policy_network_folder, 'policy_network.ckpt')\n",
    "policy_config = PolicyNetworkConfig(weights_path=ranking_policy_network)\n",
    "policy_function = PolicyFunction(policy_config=policy_config)\n",
    "\n",
    "\n",
    "building_blocks_path = 'syntool_training_data/building_blocks.smi'"
   ]
  },
  {
   "cell_type": "code",
   "execution_count": 37,
   "id": "d5359d1a-06a0-4797-88f1-edafbbfe3b07",
   "metadata": {},
   "outputs": [],
   "source": [
    "tree = Tree(target=target,\n",
    "            config=tree_config,\n",
    "            reaction_rules_path=reaction_rules_path,\n",
    "            building_blocks_path=building_blocks_path,\n",
    "            policy_function=policy_function,\n",
    "            value_function=None)"
   ]
  },
  {
   "cell_type": "code",
   "execution_count": 38,
   "id": "f770fe0c-645c-49c6-9589-00f08fd6d515",
   "metadata": {},
   "outputs": [
    {
     "data": {
      "application/json": {
       "ascii": false,
       "bar_format": null,
       "colour": null,
       "elapsed": 0.009044408798217773,
       "initial": 0,
       "n": 0,
       "ncols": null,
       "nrows": 24,
       "postfix": null,
       "prefix": "",
       "rate": null,
       "total": 100,
       "unit": "it",
       "unit_divisor": 1000,
       "unit_scale": false
      },
      "application/vnd.jupyter.widget-view+json": {
       "model_id": "f9f66f1c8f7f4335bc7bb78164f58598",
       "version_major": 2,
       "version_minor": 0
      },
      "text/plain": [
       "  0%|          | 0/100 [00:00<?, ?it/s]"
      ]
     },
     "metadata": {},
     "output_type": "display_data"
    },
    {
     "data": {
      "text/plain": [
       "Tree for: c1ccccc1[Si](c2ccccc2)(OCC=3C(=O)NN=CC=3)C(C)(C)C\n",
       "Number of nodes: 486\n",
       "Number of visited nodes: 80\n",
       "Number of found routes: 46\n",
       "Number of iterations: 100\n",
       "Time: 8.7 seconds"
      ]
     },
     "execution_count": 38,
     "metadata": {},
     "output_type": "execute_result"
    }
   ],
   "source": [
    "tree_solved = False\n",
    "for solved, node_id in tree:\n",
    "    if solved:\n",
    "        tree_solved = True\n",
    "tree"
   ]
  },
  {
   "cell_type": "markdown",
   "id": "ebe6eef0-791f-456f-8d9d-5e7d7f80f910",
   "metadata": {},
   "source": [
    "### Retrosynthesis routes visualisation"
   ]
  },
  {
   "cell_type": "markdown",
   "id": "10842cce-74a2-44f4-89c1-676f9fbcd806",
   "metadata": {},
   "source": [
    "After the tree search is complete, we can visualize the found retrosynthesis paths. The visualization uses the `get_route_svg` function from SynTool visualization interface."
   ]
  },
  {
   "cell_type": "code",
   "execution_count": 39,
   "id": "b53f2832-a5ec-43ee-86d3-6fa3952fc784",
   "metadata": {},
   "outputs": [
    {
     "name": "stdout",
     "output_type": "stream",
     "text": [
      "-------- Path starts from node #7 with total path score 0.13847398732924654 --------\n"
     ]
    },
    {
     "data": {
      "image/svg+xml": [
       "<svg xmlns=\"http://www.w3.org/2000/svg\" width=\"15.37cm\" height=\"5.62cm\" viewBox=\"-0.62 -4.68 25.61 9.37\" version=\"1.1\">\n",
       "  <defs>\n",
       "    <marker id=\"arrow\" markerWidth=\"10\" markerHeight=\"10\" refX=\"0\" refY=\"3\" orient=\"auto\">\n",
       "      <path d=\"M0,0 L0,6 L9,3\"/>\n",
       "    </marker>\n",
       "  </defs>\n",
       "  <polyline points=\"13.42 -2.57, 14.76 -2.57, 14.76 0.00, 16.42 0.00\" fill=\"none\" stroke=\"black\" stroke-width=\".04\" marker-end=\"url(#arrow)\"/>  <circle cx=\"14.75833333333109\" cy=\"-2.571706992577021\" r=\"0.1\"/>\n",
       "  <polyline points=\"11.36 2.74, 14.76 2.74, 14.76 0.00, 16.42 0.00\" fill=\"none\" stroke=\"black\" stroke-width=\".04\" marker-end=\"url(#arrow)\"/>  <circle cx=\"14.75833333333109\" cy=\"2.737499999999501\" r=\"0.1\"/>\n",
       "  <polyline points=\"1.82 -2.21, 4.81 -2.21, 4.81 2.74, 6.47 2.74\" fill=\"none\" stroke=\"black\" stroke-width=\".04\" marker-end=\"url(#arrow)\"/>  <circle cx=\"4.808333333333084\" cy=\"-2.214471143253493\" r=\"0.1\"/>\n",
       "  <polyline points=\"3.47 1.50, 4.81 1.50, 4.81 2.74, 6.47 2.74\" fill=\"none\" stroke=\"black\" stroke-width=\".04\" marker-end=\"url(#arrow)\"/>  <circle cx=\"4.808333333333084\" cy=\"1.5000001851314038\" r=\"0.1\"/>\n",
       "  <g>\n",
       "<rect x=\"-0.6\" y=\"0.3355290418779108\" rx=\"0.23289422865069864\" ry=\"0.23289422865069864\" width=\"3.974999999999751\" height=\"2.328942286506986\" stroke=\"black\" stroke-width=\".0025\" fill=\"#9BFAB3\" fill-opacity=\"0.30\"/>\n",
       "    <defs>\n",
       "      <mask id=\"mask-03b85eda-8a09-4db3-8536-168272a0131c\">\n",
       "        <rect x=\"-0.62\" y=\"-4.68\" width=\"25.61\" height=\"9.37\" fill=\"white\"/>\n",
       "        <g fill=\"black\">\n",
       "          <circle cx=\"0.41\" cy=\"0.79\" r=\"0.20\"/>\n",
       "          <circle cx=\"1.24\" cy=\"0.79\" r=\"0.20\"/>\n",
       "          <circle cx=\"2.47\" cy=\"1.50\" r=\"0.20\"/>\n",
       "        </g>\n",
       "        <g font-family=\"monospace\" stroke=\"black\">\n",
       "          <g font-family=\"sans-serif\" font-size=\"0.50\" stroke-width=\"0.05\">\n",
       "            <text x=\"0.41\" y=\"0.79\" dx=\"-0.20\" dy=\"0.20\">N</text>\n",
       "            <text x=\"1.24\" y=\"0.79\" dx=\"-0.20\" dy=\"0.20\">NH</text>\n",
       "            <text x=\"2.47\" y=\"1.50\" dx=\"-0.20\" dy=\"0.20\">O</text>\n",
       "          </g>\n",
       "        </g>\n",
       "      </mask>\n",
       "    </defs>\n",
       "    <g fill=\"none\" stroke=\"black\" stroke-width=\"0.04\" mask=\"url(#mask-03b85eda-8a09-4db3-8536-168272a0131c)\">\n",
       "      <line x1=\"1.65\" y1=\"1.50\" x2=\"1.24\" y2=\"2.21\"/>\n",
       "      <line x1=\"1.65\" y1=\"1.50\" x2=\"1.24\" y2=\"0.79\"/>\n",
       "      <line x1=\"1.65\" y1=\"1.44\" x2=\"2.48\" y2=\"1.44\"/>\n",
       "      <line x1=\"1.65\" y1=\"1.56\" x2=\"2.47\" y2=\"1.56\"/>\n",
       "      <line x1=\"1.24\" y1=\"2.27\" x2=\"0.41\" y2=\"2.27\"/>\n",
       "      <line x1=\"1.24\" y1=\"2.15\" x2=\"0.41\" y2=\"2.15\"/>\n",
       "      <line x1=\"0.41\" y1=\"2.21\" x2=\"0.00\" y2=\"1.50\"/>\n",
       "      <line x1=\"-0.05\" y1=\"1.47\" x2=\"0.36\" y2=\"0.76\"/>\n",
       "      <line x1=\"0.05\" y1=\"1.53\" x2=\"0.46\" y2=\"0.82\"/>\n",
       "      <line x1=\"0.41\" y1=\"0.79\" x2=\"1.24\" y2=\"0.79\"/>\n",
       "    </g>\n",
       "    <g font-family=\"monospace\">\n",
       "      <g fill=\"#3050F8\" font-family=\"sans-serif\">\n",
       "        <text x=\"0.41\" y=\"0.79\" dx=\"-0.20\" dy=\"0.20\" font-size=\"0.50\">N</text>\n",
       "      </g>\n",
       "      <g fill=\"#3050F8\" font-family=\"sans-serif\">\n",
       "        <text x=\"1.24\" y=\"0.79\" dx=\"-0.20\" dy=\"0.20\" font-size=\"0.50\">NH</text>\n",
       "      </g>\n",
       "      <g fill=\"#FF0D0D\" font-family=\"sans-serif\">\n",
       "        <text x=\"2.47\" y=\"1.50\" dx=\"-0.20\" dy=\"0.20\" font-size=\"0.50\">O</text>\n",
       "      </g>\n",
       "    </g>\n",
       "  </g>\n",
       "  <g>\n",
       "<rect x=\"-0.6\" y=\"-2.664471328384897\" rx=\"0.09000003702628073\" ry=\"0.09000003702628073\" width=\"2.324999999999917\" height=\"0.9000003702628072\" stroke=\"black\" stroke-width=\".0025\" fill=\"#9BFAB3\" fill-opacity=\"0.30\"/>\n",
       "    <defs>\n",
       "      <mask id=\"mask-b1725f5c-d907-4efe-8e7c-d3305074d514\">\n",
       "        <rect x=\"-0.62\" y=\"-4.68\" width=\"25.61\" height=\"9.37\" fill=\"white\"/>\n",
       "        <g fill=\"black\">\n",
       "          <circle cx=\"0.00\" cy=\"-2.21\" r=\"0.20\"/>\n",
       "        </g>\n",
       "        <g font-family=\"monospace\" stroke=\"black\">\n",
       "          <g font-family=\"sans-serif\" font-size=\"0.50\" stroke-width=\"0.05\">\n",
       "            <text x=\"0.00\" y=\"-2.21\" dx=\"-0.20\" dy=\"0.20\">O</text>\n",
       "          </g>\n",
       "        </g>\n",
       "      </mask>\n",
       "    </defs>\n",
       "    <g fill=\"none\" stroke=\"black\" stroke-width=\"0.04\" mask=\"url(#mask-b1725f5c-d907-4efe-8e7c-d3305074d514)\">\n",
       "      <line x1=\"0.00\" y1=\"-2.27\" x2=\"0.83\" y2=\"-2.27\"/>\n",
       "      <line x1=\"-0.00\" y1=\"-2.15\" x2=\"0.82\" y2=\"-2.15\"/>\n",
       "    </g>\n",
       "    <g font-family=\"monospace\">\n",
       "      <g fill=\"#FF0D0D\" font-family=\"sans-serif\">\n",
       "        <text x=\"0.00\" y=\"-2.21\" dx=\"-0.20\" dy=\"0.20\" font-size=\"0.50\">O</text>\n",
       "      </g>\n",
       "    </g>\n",
       "  </g>\n",
       "  <g>\n",
       "<rect x=\"6.874999999999751\" y=\"1.2157930074224803\" rx=\"0.3043413985154042\" ry=\"0.3043413985154042\" width=\"4.3875006413128315\" height=\"3.043413985154042\" stroke=\"black\" stroke-width=\".0025\" fill=\"#F0AB90\" fill-opacity=\"0.30\"/>\n",
       "    <defs>\n",
       "      <mask id=\"mask-edf1b210-085a-463a-8519-5cf1b4def57f\">\n",
       "        <rect x=\"-0.62\" y=\"-4.68\" width=\"25.61\" height=\"9.37\" fill=\"white\"/>\n",
       "        <g fill=\"black\">\n",
       "          <circle cx=\"10.36\" cy=\"1.67\" r=\"0.20\"/>\n",
       "          <circle cx=\"7.47\" cy=\"2.38\" r=\"0.20\"/>\n",
       "          <circle cx=\"7.89\" cy=\"3.09\" r=\"0.20\"/>\n",
       "          <circle cx=\"9.12\" cy=\"3.81\" r=\"0.20\"/>\n",
       "        </g>\n",
       "        <g font-family=\"monospace\" stroke=\"black\">\n",
       "          <g font-family=\"sans-serif\" font-size=\"0.50\" stroke-width=\"0.05\">\n",
       "            <text x=\"10.36\" y=\"1.67\" dx=\"-0.20\" dy=\"0.20\">OH</text>\n",
       "            <text x=\"7.47\" y=\"2.38\" dx=\"-0.20\" dy=\"0.20\">N</text>\n",
       "            <text x=\"7.89\" y=\"3.09\" dx=\"-0.20\" dy=\"0.20\">NH</text>\n",
       "            <text x=\"9.12\" y=\"3.81\" dx=\"-0.20\" dy=\"0.20\">O</text>\n",
       "          </g>\n",
       "        </g>\n",
       "      </mask>\n",
       "    </defs>\n",
       "    <g fill=\"none\" stroke=\"black\" stroke-width=\"0.04\" mask=\"url(#mask-edf1b210-085a-463a-8519-5cf1b4def57f)\">\n",
       "      <line x1=\"9.95\" y1=\"2.38\" x2=\"10.36\" y2=\"1.67\"/>\n",
       "      <line x1=\"9.95\" y1=\"2.38\" x2=\"9.12\" y2=\"2.38\"/>\n",
       "      <line x1=\"9.07\" y1=\"2.41\" x2=\"8.66\" y2=\"1.70\"/>\n",
       "      <line x1=\"9.18\" y1=\"2.35\" x2=\"8.76\" y2=\"1.64\"/>\n",
       "      <line x1=\"9.12\" y1=\"2.38\" x2=\"8.71\" y2=\"3.09\"/>\n",
       "      <line x1=\"8.71\" y1=\"1.67\" x2=\"7.89\" y2=\"1.67\"/>\n",
       "      <line x1=\"7.94\" y1=\"1.70\" x2=\"7.53\" y2=\"2.41\"/>\n",
       "      <line x1=\"7.84\" y1=\"1.64\" x2=\"7.42\" y2=\"2.35\"/>\n",
       "      <line x1=\"7.47\" y1=\"2.38\" x2=\"7.89\" y2=\"3.09\"/>\n",
       "      <line x1=\"7.89\" y1=\"3.09\" x2=\"8.71\" y2=\"3.09\"/>\n",
       "      <line x1=\"8.76\" y1=\"3.06\" x2=\"9.18\" y2=\"3.78\"/>\n",
       "      <line x1=\"8.66\" y1=\"3.12\" x2=\"9.07\" y2=\"3.84\"/>\n",
       "    </g>\n",
       "    <g font-family=\"monospace\">\n",
       "      <g fill=\"#FF0D0D\" font-family=\"sans-serif\">\n",
       "        <text x=\"10.36\" y=\"1.67\" dx=\"-0.20\" dy=\"0.20\" font-size=\"0.50\">OH</text>\n",
       "      </g>\n",
       "      <g fill=\"#3050F8\" font-family=\"sans-serif\">\n",
       "        <text x=\"7.47\" y=\"2.38\" dx=\"-0.20\" dy=\"0.20\" font-size=\"0.50\">N</text>\n",
       "      </g>\n",
       "      <g fill=\"#3050F8\" font-family=\"sans-serif\">\n",
       "        <text x=\"7.89\" y=\"3.09\" dx=\"-0.20\" dy=\"0.20\" font-size=\"0.50\">NH</text>\n",
       "      </g>\n",
       "      <g fill=\"#FF0D0D\" font-family=\"sans-serif\">\n",
       "        <text x=\"9.12\" y=\"3.81\" dx=\"-0.20\" dy=\"0.20\" font-size=\"0.50\">O</text>\n",
       "      </g>\n",
       "    </g>\n",
       "  </g>\n",
       "  <g>\n",
       "<rect x=\"6.87499999999975\" y=\"-4.259206992576522\" rx=\"0.33749999999990027\" ry=\"0.33749999999990027\" width=\"6.449999999998005\" height=\"3.3749999999990026\" stroke=\"black\" stroke-width=\".0025\" fill=\"#9BFAB3\" fill-opacity=\"0.30\"/>\n",
       "    <defs>\n",
       "      <mask id=\"mask-c87ea926-b3dc-4887-be0a-4b7df0141571\">\n",
       "        <rect x=\"-0.62\" y=\"-4.68\" width=\"25.61\" height=\"9.37\" fill=\"white\"/>\n",
       "        <g fill=\"black\">\n",
       "          <ellipse cx=\"9.82\" cy=\"-2.98\" rx=\"0.3\" ry=\"0.2\"/>\n",
       "          <ellipse cx=\"9.83\" cy=\"-3.81\" rx=\"0.3\" ry=\"0.2\"/>\n",
       "        </g>\n",
       "        <g font-family=\"monospace\" stroke=\"black\">\n",
       "          <g font-family=\"sans-serif\" font-size=\"0.50\" stroke-width=\"0.05\">\n",
       "            <text x=\"9.95\" y=\"-2.98\" dx=\"-0.35\" dy=\"0.20\">Si</text>\n",
       "            <text x=\"9.95\" y=\"-3.81\" dx=\"-0.35\" dy=\"0.20\">Cl</text>\n",
       "          </g>\n",
       "        </g>\n",
       "      </mask>\n",
       "    </defs>\n",
       "    <g fill=\"none\" stroke=\"black\" stroke-width=\"0.04\" mask=\"url(#mask-c87ea926-b3dc-4887-be0a-4b7df0141571)\">\n",
       "      <line x1=\"9.12\" y1=\"-2.98\" x2=\"9.95\" y2=\"-2.98\"/>\n",
       "      <line x1=\"9.12\" y1=\"-2.98\" x2=\"8.71\" y2=\"-2.27\"/>\n",
       "      <line x1=\"9.12\" y1=\"-2.98\" x2=\"8.71\" y2=\"-3.70\"/>\n",
       "      <line x1=\"9.95\" y1=\"-2.98\" x2=\"10.77\" y2=\"-2.98\"/>\n",
       "      <line x1=\"9.95\" y1=\"-2.98\" x2=\"9.95\" y2=\"-3.81\"/>\n",
       "      <line x1=\"9.95\" y1=\"-2.98\" x2=\"9.95\" y2=\"-2.16\"/>\n",
       "      <line x1=\"10.77\" y1=\"-2.98\" x2=\"11.19\" y2=\"-2.27\"/>\n",
       "      <line x1=\"10.77\" y1=\"-2.98\" x2=\"11.19\" y2=\"-3.70\"/>\n",
       "      <line x1=\"9.95\" y1=\"-2.16\" x2=\"10.73\" y2=\"-1.88\"/>\n",
       "      <line x1=\"9.95\" y1=\"-2.16\" x2=\"9.17\" y2=\"-1.88\"/>\n",
       "      <line x1=\"9.95\" y1=\"-2.16\" x2=\"9.95\" y2=\"-1.33\"/>\n",
       "      <line x1=\"11.19\" y1=\"-2.27\" x2=\"12.01\" y2=\"-2.27\"/>\n",
       "      <line x1=\"12.01\" y1=\"-2.27\" x2=\"12.42\" y2=\"-2.98\"/>\n",
       "      <line x1=\"12.42\" y1=\"-2.98\" x2=\"12.01\" y2=\"-3.70\"/>\n",
       "      <line x1=\"12.01\" y1=\"-3.70\" x2=\"11.19\" y2=\"-3.70\"/>\n",
       "      <line x1=\"8.71\" y1=\"-2.27\" x2=\"7.89\" y2=\"-2.27\"/>\n",
       "      <line x1=\"7.89\" y1=\"-2.27\" x2=\"7.47\" y2=\"-2.98\"/>\n",
       "      <line x1=\"7.47\" y1=\"-2.98\" x2=\"7.89\" y2=\"-3.70\"/>\n",
       "      <line x1=\"7.89\" y1=\"-3.70\" x2=\"8.71\" y2=\"-3.70\"/>\n",
       "      <line x1=\"8.96\" y1=\"-2.98\" x2=\"8.63\" y2=\"-2.41\" stroke-dasharray=\"0.15 0.05\"/>\n",
       "      <line x1=\"8.63\" y1=\"-2.41\" x2=\"7.97\" y2=\"-2.41\" stroke-dasharray=\"0.15 0.05\"/>\n",
       "      <line x1=\"7.97\" y1=\"-2.41\" x2=\"7.64\" y2=\"-2.98\" stroke-dasharray=\"0.15 0.05\"/>\n",
       "      <line x1=\"7.64\" y1=\"-2.98\" x2=\"7.97\" y2=\"-3.56\" stroke-dasharray=\"0.15 0.05\"/>\n",
       "      <line x1=\"7.97\" y1=\"-3.56\" x2=\"8.63\" y2=\"-3.56\" stroke-dasharray=\"0.15 0.05\"/>\n",
       "      <line x1=\"8.63\" y1=\"-3.56\" x2=\"8.96\" y2=\"-2.98\" stroke-dasharray=\"0.15 0.05\"/>\n",
       "      <line x1=\"10.94\" y1=\"-2.98\" x2=\"11.27\" y2=\"-2.41\" stroke-dasharray=\"0.15 0.05\"/>\n",
       "      <line x1=\"11.27\" y1=\"-2.41\" x2=\"11.93\" y2=\"-2.41\" stroke-dasharray=\"0.15 0.05\"/>\n",
       "      <line x1=\"11.93\" y1=\"-2.41\" x2=\"12.26\" y2=\"-2.98\" stroke-dasharray=\"0.15 0.05\"/>\n",
       "      <line x1=\"12.26\" y1=\"-2.98\" x2=\"11.93\" y2=\"-3.56\" stroke-dasharray=\"0.15 0.05\"/>\n",
       "      <line x1=\"11.93\" y1=\"-3.56\" x2=\"11.27\" y2=\"-3.56\" stroke-dasharray=\"0.15 0.05\"/>\n",
       "      <line x1=\"11.27\" y1=\"-3.56\" x2=\"10.94\" y2=\"-2.98\" stroke-dasharray=\"0.15 0.05\"/>\n",
       "    </g>\n",
       "    <g font-family=\"monospace\">\n",
       "      <g fill=\"#F0C8A0\" font-family=\"sans-serif\">\n",
       "        <text x=\"9.95\" y=\"-2.98\" dx=\"-0.35\" dy=\"0.20\" font-size=\"0.50\">Si</text>\n",
       "      </g>\n",
       "      <g fill=\"#1FF01F\" font-family=\"sans-serif\">\n",
       "        <text x=\"9.95\" y=\"-3.81\" dx=\"-0.35\" dy=\"0.20\" font-size=\"0.50\">Cl</text>\n",
       "      </g>\n",
       "    </g>\n",
       "  </g>\n",
       "  <g>\n",
       "<rect x=\"16.824999999997754\" y=\"-2.5125\" rx=\"0.5025000000000001\" ry=\"0.5025000000000001\" width=\"7.6875\" height=\"5.025\" stroke=\"black\" stroke-width=\".0025\" fill=\"#98EEFF\" fill-opacity=\"0.30\"/>\n",
       "    <defs>\n",
       "      <mask id=\"mask-1fca435e-077a-4bd2-b609-14984c034901\">\n",
       "        <rect x=\"-0.62\" y=\"-4.68\" width=\"25.61\" height=\"9.37\" fill=\"white\"/>\n",
       "        <g fill=\"black\">\n",
       "          <ellipse cx=\"19.77\" cy=\"0.41\" rx=\"0.3\" ry=\"0.2\"/>\n",
       "          <circle cx=\"20.72\" cy=\"0.41\" r=\"0.20\"/>\n",
       "          <circle cx=\"23.61\" cy=\"-0.30\" r=\"0.20\"/>\n",
       "          <circle cx=\"23.20\" cy=\"0.41\" r=\"0.20\"/>\n",
       "          <circle cx=\"21.96\" cy=\"1.13\" r=\"0.20\"/>\n",
       "        </g>\n",
       "        <g font-family=\"monospace\" stroke=\"black\">\n",
       "          <g font-family=\"sans-serif\" font-size=\"0.50\" stroke-width=\"0.05\">\n",
       "            <text x=\"19.90\" y=\"0.41\" dx=\"-0.35\" dy=\"0.20\">Si</text>\n",
       "            <text x=\"20.72\" y=\"0.41\" dx=\"-0.20\" dy=\"0.20\">O</text>\n",
       "            <text x=\"23.61\" y=\"-0.30\" dx=\"-0.20\" dy=\"0.20\">N</text>\n",
       "            <text x=\"23.20\" y=\"0.41\" dx=\"-0.20\" dy=\"0.20\">NH</text>\n",
       "            <text x=\"21.96\" y=\"1.13\" dx=\"-0.20\" dy=\"0.20\">O</text>\n",
       "          </g>\n",
       "        </g>\n",
       "      </mask>\n",
       "    </defs>\n",
       "    <g fill=\"none\" stroke=\"black\" stroke-width=\"0.04\" mask=\"url(#mask-1fca435e-077a-4bd2-b609-14984c034901)\">\n",
       "      <line x1=\"19.90\" y1=\"2.06\" x2=\"19.90\" y2=\"1.24\"/>\n",
       "      <line x1=\"19.90\" y1=\"1.24\" x2=\"19.12\" y2=\"1.52\"/>\n",
       "      <line x1=\"19.90\" y1=\"1.24\" x2=\"20.72\" y2=\"1.24\"/>\n",
       "      <line x1=\"19.90\" y1=\"1.24\" x2=\"19.90\" y2=\"0.41\"/>\n",
       "      <line x1=\"19.90\" y1=\"0.41\" x2=\"20.72\" y2=\"0.41\"/>\n",
       "      <line x1=\"19.90\" y1=\"0.41\" x2=\"19.07\" y2=\"0.41\"/>\n",
       "      <line x1=\"19.90\" y1=\"0.41\" x2=\"19.90\" y2=\"-0.41\"/>\n",
       "      <line x1=\"20.72\" y1=\"0.41\" x2=\"21.14\" y2=\"-0.30\"/>\n",
       "      <line x1=\"21.14\" y1=\"-0.30\" x2=\"21.96\" y2=\"-0.30\"/>\n",
       "      <line x1=\"21.91\" y1=\"-0.33\" x2=\"22.32\" y2=\"-1.05\"/>\n",
       "      <line x1=\"22.01\" y1=\"-0.27\" x2=\"22.43\" y2=\"-0.99\"/>\n",
       "      <line x1=\"21.96\" y1=\"-0.30\" x2=\"22.37\" y2=\"0.41\"/>\n",
       "      <line x1=\"22.37\" y1=\"-1.02\" x2=\"23.20\" y2=\"-1.02\"/>\n",
       "      <line x1=\"23.25\" y1=\"-1.05\" x2=\"23.66\" y2=\"-0.33\"/>\n",
       "      <line x1=\"23.15\" y1=\"-0.99\" x2=\"23.56\" y2=\"-0.27\"/>\n",
       "      <line x1=\"23.61\" y1=\"-0.30\" x2=\"23.20\" y2=\"0.41\"/>\n",
       "      <line x1=\"23.20\" y1=\"0.41\" x2=\"22.37\" y2=\"0.41\"/>\n",
       "      <line x1=\"22.43\" y1=\"0.44\" x2=\"22.01\" y2=\"1.16\"/>\n",
       "      <line x1=\"22.32\" y1=\"0.38\" x2=\"21.91\" y2=\"1.10\"/>\n",
       "      <line x1=\"19.07\" y1=\"0.41\" x2=\"18.66\" y2=\"-0.30\"/>\n",
       "      <line x1=\"19.07\" y1=\"0.41\" x2=\"18.66\" y2=\"1.13\"/>\n",
       "      <line x1=\"18.66\" y1=\"-0.30\" x2=\"17.84\" y2=\"-0.30\"/>\n",
       "      <line x1=\"17.84\" y1=\"-0.30\" x2=\"17.42\" y2=\"0.41\"/>\n",
       "      <line x1=\"17.42\" y1=\"0.41\" x2=\"17.84\" y2=\"1.13\"/>\n",
       "      <line x1=\"17.84\" y1=\"1.13\" x2=\"18.66\" y2=\"1.13\"/>\n",
       "      <line x1=\"19.90\" y1=\"-0.41\" x2=\"20.61\" y2=\"-0.83\"/>\n",
       "      <line x1=\"19.90\" y1=\"-0.41\" x2=\"19.19\" y2=\"-0.82\"/>\n",
       "      <line x1=\"20.61\" y1=\"-0.83\" x2=\"20.61\" y2=\"-1.65\"/>\n",
       "      <line x1=\"20.61\" y1=\"-1.65\" x2=\"19.90\" y2=\"-2.06\"/>\n",
       "      <line x1=\"19.90\" y1=\"-2.06\" x2=\"19.19\" y2=\"-1.65\"/>\n",
       "      <line x1=\"19.19\" y1=\"-1.65\" x2=\"19.19\" y2=\"-0.82\"/>\n",
       "      <line x1=\"19.90\" y1=\"-0.57\" x2=\"20.47\" y2=\"-0.91\" stroke-dasharray=\"0.15 0.05\"/>\n",
       "      <line x1=\"20.47\" y1=\"-0.91\" x2=\"20.47\" y2=\"-1.57\" stroke-dasharray=\"0.15 0.05\"/>\n",
       "      <line x1=\"20.47\" y1=\"-1.57\" x2=\"19.90\" y2=\"-1.90\" stroke-dasharray=\"0.15 0.05\"/>\n",
       "      <line x1=\"19.90\" y1=\"-1.90\" x2=\"19.33\" y2=\"-1.57\" stroke-dasharray=\"0.15 0.05\"/>\n",
       "      <line x1=\"19.33\" y1=\"-1.57\" x2=\"19.33\" y2=\"-0.91\" stroke-dasharray=\"0.15 0.05\"/>\n",
       "      <line x1=\"19.33\" y1=\"-0.91\" x2=\"19.90\" y2=\"-0.57\" stroke-dasharray=\"0.15 0.05\"/>\n",
       "      <line x1=\"18.91\" y1=\"0.41\" x2=\"18.58\" y2=\"-0.16\" stroke-dasharray=\"0.15 0.05\"/>\n",
       "      <line x1=\"18.58\" y1=\"-0.16\" x2=\"17.92\" y2=\"-0.16\" stroke-dasharray=\"0.15 0.05\"/>\n",
       "      <line x1=\"17.92\" y1=\"-0.16\" x2=\"17.59\" y2=\"0.41\" stroke-dasharray=\"0.15 0.05\"/>\n",
       "      <line x1=\"17.59\" y1=\"0.41\" x2=\"17.92\" y2=\"0.99\" stroke-dasharray=\"0.15 0.05\"/>\n",
       "      <line x1=\"17.92\" y1=\"0.99\" x2=\"18.58\" y2=\"0.99\" stroke-dasharray=\"0.15 0.05\"/>\n",
       "      <line x1=\"18.58\" y1=\"0.99\" x2=\"18.91\" y2=\"0.41\" stroke-dasharray=\"0.15 0.05\"/>\n",
       "    </g>\n",
       "    <g font-family=\"monospace\">\n",
       "      <g fill=\"#F0C8A0\" font-family=\"sans-serif\">\n",
       "        <text x=\"19.90\" y=\"0.41\" dx=\"-0.35\" dy=\"0.20\" font-size=\"0.50\">Si</text>\n",
       "      </g>\n",
       "      <g fill=\"#FF0D0D\" font-family=\"sans-serif\">\n",
       "        <text x=\"20.72\" y=\"0.41\" dx=\"-0.20\" dy=\"0.20\" font-size=\"0.50\">O</text>\n",
       "      </g>\n",
       "      <g fill=\"#3050F8\" font-family=\"sans-serif\">\n",
       "        <text x=\"23.61\" y=\"-0.30\" dx=\"-0.20\" dy=\"0.20\" font-size=\"0.50\">N</text>\n",
       "      </g>\n",
       "      <g fill=\"#3050F8\" font-family=\"sans-serif\">\n",
       "        <text x=\"23.20\" y=\"0.41\" dx=\"-0.20\" dy=\"0.20\" font-size=\"0.50\">NH</text>\n",
       "      </g>\n",
       "      <g fill=\"#FF0D0D\" font-family=\"sans-serif\">\n",
       "        <text x=\"21.96\" y=\"1.13\" dx=\"-0.20\" dy=\"0.20\" font-size=\"0.50\">O</text>\n",
       "      </g>\n",
       "    </g>\n",
       "  </g>\n",
       "</svg>"
      ],
      "text/plain": [
       "<IPython.core.display.SVG object>"
      ]
     },
     "metadata": {},
     "output_type": "display_data"
    },
    {
     "name": "stdout",
     "output_type": "stream",
     "text": [
      "-------- Path starts from node #7 with total path score 0.13847398732924654 --------\n"
     ]
    },
    {
     "data": {
      "image/svg+xml": [
       "<svg xmlns=\"http://www.w3.org/2000/svg\" width=\"15.08cm\" height=\"5.62cm\" viewBox=\"-0.62 -4.68 25.14 9.37\" version=\"1.1\">\n",
       "  <defs>\n",
       "    <marker id=\"arrow\" markerWidth=\"10\" markerHeight=\"10\" refX=\"0\" refY=\"3\" orient=\"auto\">\n",
       "      <path d=\"M0,0 L0,6 L9,3\"/>\n",
       "    </marker>\n",
       "  </defs>\n",
       "  <polyline points=\"13.42 -2.57, 14.76 -2.57, 14.76 0.00, 16.42 0.00\" fill=\"none\" stroke=\"black\" stroke-width=\".04\" marker-end=\"url(#arrow)\"/>  <circle cx=\"14.758333333333331\" cy=\"-2.5717067148802393\" r=\"0.1\"/>\n",
       "  <polyline points=\"11.36 2.74, 14.76 2.74, 14.76 0.00, 16.42 0.00\" fill=\"none\" stroke=\"black\" stroke-width=\".04\" marker-end=\"url(#arrow)\"/>  <circle cx=\"14.758333333333331\" cy=\"2.7375\" r=\"0.1\"/>\n",
       "  <polyline points=\"1.82 -2.21, 4.81 -2.21, 4.81 2.74, 6.47 2.74\" fill=\"none\" stroke=\"black\" stroke-width=\".04\" marker-end=\"url(#arrow)\"/>  <circle cx=\"4.808333333333334\" cy=\"-2.214470958122162\" r=\"0.1\"/>\n",
       "  <polyline points=\"3.48 1.50, 4.81 1.50, 4.81 2.74, 6.47 2.74\" fill=\"none\" stroke=\"black\" stroke-width=\".04\" marker-end=\"url(#arrow)\"/>  <circle cx=\"4.808333333333334\" cy=\"1.5000001851314035\" r=\"0.1\"/>\n",
       "  <g>\n",
       "<rect x=\"-0.6\" y=\"0.33552922700924154\" rx=\"0.23289419162443245\" ry=\"0.23289419162443245\" width=\"3.975\" height=\"2.3289419162443243\" stroke=\"black\" stroke-width=\".0025\" fill=\"#9BFAB3\" fill-opacity=\"0.30\"/>\n",
       "    <defs>\n",
       "      <mask id=\"mask-bda0e8c6-8b0e-43c4-87b0-b5575f6cd1c1\">\n",
       "        <rect x=\"-0.62\" y=\"-4.68\" width=\"25.14\" height=\"9.37\" fill=\"white\"/>\n",
       "        <g fill=\"black\">\n",
       "          <circle cx=\"0.41\" cy=\"0.79\" r=\"0.20\"/>\n",
       "          <circle cx=\"1.24\" cy=\"0.79\" r=\"0.20\"/>\n",
       "          <circle cx=\"2.48\" cy=\"1.50\" r=\"0.20\"/>\n",
       "        </g>\n",
       "        <g font-family=\"monospace\" stroke=\"black\">\n",
       "          <g font-family=\"sans-serif\" font-size=\"0.50\" stroke-width=\"0.05\">\n",
       "            <text x=\"0.41\" y=\"0.79\" dx=\"-0.20\" dy=\"0.20\">N</text>\n",
       "            <text x=\"1.24\" y=\"0.79\" dx=\"-0.20\" dy=\"0.20\">NH</text>\n",
       "            <text x=\"2.48\" y=\"1.50\" dx=\"-0.20\" dy=\"0.20\">O</text>\n",
       "          </g>\n",
       "        </g>\n",
       "      </mask>\n",
       "    </defs>\n",
       "    <g fill=\"none\" stroke=\"black\" stroke-width=\"0.04\" mask=\"url(#mask-bda0e8c6-8b0e-43c4-87b0-b5575f6cd1c1)\">\n",
       "      <line x1=\"1.65\" y1=\"1.50\" x2=\"1.24\" y2=\"2.21\"/>\n",
       "      <line x1=\"1.65\" y1=\"1.50\" x2=\"1.24\" y2=\"0.79\"/>\n",
       "      <line x1=\"1.65\" y1=\"1.44\" x2=\"2.48\" y2=\"1.44\"/>\n",
       "      <line x1=\"1.65\" y1=\"1.56\" x2=\"2.48\" y2=\"1.56\"/>\n",
       "      <line x1=\"1.24\" y1=\"2.27\" x2=\"0.41\" y2=\"2.27\"/>\n",
       "      <line x1=\"1.24\" y1=\"2.15\" x2=\"0.41\" y2=\"2.15\"/>\n",
       "      <line x1=\"0.41\" y1=\"2.21\" x2=\"0.00\" y2=\"1.50\"/>\n",
       "      <line x1=\"-0.05\" y1=\"1.47\" x2=\"0.36\" y2=\"0.76\"/>\n",
       "      <line x1=\"0.05\" y1=\"1.53\" x2=\"0.46\" y2=\"0.82\"/>\n",
       "      <line x1=\"0.41\" y1=\"0.79\" x2=\"1.24\" y2=\"0.79\"/>\n",
       "    </g>\n",
       "    <g font-family=\"monospace\">\n",
       "      <g fill=\"#3050F8\" font-family=\"sans-serif\">\n",
       "        <text x=\"0.41\" y=\"0.79\" dx=\"-0.20\" dy=\"0.20\" font-size=\"0.50\">N</text>\n",
       "      </g>\n",
       "      <g fill=\"#3050F8\" font-family=\"sans-serif\">\n",
       "        <text x=\"1.24\" y=\"0.79\" dx=\"-0.20\" dy=\"0.20\" font-size=\"0.50\">NH</text>\n",
       "      </g>\n",
       "      <g fill=\"#FF0D0D\" font-family=\"sans-serif\">\n",
       "        <text x=\"2.48\" y=\"1.50\" dx=\"-0.20\" dy=\"0.20\" font-size=\"0.50\">O</text>\n",
       "      </g>\n",
       "    </g>\n",
       "  </g>\n",
       "  <g>\n",
       "<rect x=\"-0.6\" y=\"-2.6644711432535657\" rx=\"0.09000003702628073\" ry=\"0.09000003702628073\" width=\"2.324999999999917\" height=\"0.9000003702628072\" stroke=\"black\" stroke-width=\".0025\" fill=\"#9BFAB3\" fill-opacity=\"0.30\"/>\n",
       "    <defs>\n",
       "      <mask id=\"mask-8539e815-8044-44ab-854a-5b12435771ea\">\n",
       "        <rect x=\"-0.62\" y=\"-4.68\" width=\"25.14\" height=\"9.37\" fill=\"white\"/>\n",
       "        <g fill=\"black\">\n",
       "          <circle cx=\"0.82\" cy=\"-2.21\" r=\"0.20\"/>\n",
       "        </g>\n",
       "        <g font-family=\"monospace\" stroke=\"black\">\n",
       "          <g font-family=\"sans-serif\" font-size=\"0.50\" stroke-width=\"0.05\">\n",
       "            <text x=\"0.82\" y=\"-2.21\" dx=\"-0.20\" dy=\"0.20\">O</text>\n",
       "          </g>\n",
       "        </g>\n",
       "      </mask>\n",
       "    </defs>\n",
       "    <g fill=\"none\" stroke=\"black\" stroke-width=\"0.04\" mask=\"url(#mask-8539e815-8044-44ab-854a-5b12435771ea)\">\n",
       "      <line x1=\"0.82\" y1=\"-2.15\" x2=\"-0.00\" y2=\"-2.15\"/>\n",
       "      <line x1=\"0.83\" y1=\"-2.27\" x2=\"0.00\" y2=\"-2.27\"/>\n",
       "    </g>\n",
       "    <g font-family=\"monospace\">\n",
       "      <g fill=\"#FF0D0D\" font-family=\"sans-serif\">\n",
       "        <text x=\"0.82\" y=\"-2.21\" dx=\"-0.20\" dy=\"0.20\" font-size=\"0.50\">O</text>\n",
       "      </g>\n",
       "    </g>\n",
       "  </g>\n",
       "  <g>\n",
       "<rect x=\"6.875\" y=\"1.2157932851197606\" rx=\"0.3043413429760479\" ry=\"0.3043413429760479\" width=\"4.387499679342712\" height=\"3.043413429760479\" stroke=\"black\" stroke-width=\".0025\" fill=\"#F0AB90\" fill-opacity=\"0.30\"/>\n",
       "    <defs>\n",
       "      <mask id=\"mask-0e13f880-7099-475b-b437-472c9b1b4c24\">\n",
       "        <rect x=\"-0.62\" y=\"-4.68\" width=\"25.14\" height=\"9.37\" fill=\"white\"/>\n",
       "        <g fill=\"black\">\n",
       "          <circle cx=\"7.47\" cy=\"2.38\" r=\"0.20\"/>\n",
       "          <circle cx=\"10.36\" cy=\"3.09\" r=\"0.20\"/>\n",
       "          <circle cx=\"9.95\" cy=\"2.38\" r=\"0.20\"/>\n",
       "          <circle cx=\"8.71\" cy=\"1.67\" r=\"0.20\"/>\n",
       "        </g>\n",
       "        <g font-family=\"monospace\" stroke=\"black\">\n",
       "          <g font-family=\"sans-serif\" font-size=\"0.50\" stroke-width=\"0.05\">\n",
       "            <text x=\"7.47\" y=\"2.38\" dx=\"-0.20\" dy=\"0.20\">OH</text>\n",
       "            <text x=\"10.36\" y=\"3.09\" dx=\"-0.20\" dy=\"0.20\">N</text>\n",
       "            <text x=\"9.95\" y=\"2.38\" dx=\"-0.20\" dy=\"0.20\">NH</text>\n",
       "            <text x=\"8.71\" y=\"1.67\" dx=\"-0.20\" dy=\"0.20\">O</text>\n",
       "          </g>\n",
       "        </g>\n",
       "      </mask>\n",
       "    </defs>\n",
       "    <g fill=\"none\" stroke=\"black\" stroke-width=\"0.04\" mask=\"url(#mask-0e13f880-7099-475b-b437-472c9b1b4c24)\">\n",
       "      <line x1=\"7.89\" y1=\"3.09\" x2=\"7.47\" y2=\"2.38\"/>\n",
       "      <line x1=\"7.89\" y1=\"3.09\" x2=\"8.71\" y2=\"3.09\"/>\n",
       "      <line x1=\"8.76\" y1=\"3.06\" x2=\"9.18\" y2=\"3.78\"/>\n",
       "      <line x1=\"8.66\" y1=\"3.12\" x2=\"9.07\" y2=\"3.84\"/>\n",
       "      <line x1=\"8.71\" y1=\"3.09\" x2=\"9.12\" y2=\"2.38\"/>\n",
       "      <line x1=\"9.12\" y1=\"3.81\" x2=\"9.95\" y2=\"3.81\"/>\n",
       "      <line x1=\"9.90\" y1=\"3.78\" x2=\"10.31\" y2=\"3.06\"/>\n",
       "      <line x1=\"10.00\" y1=\"3.84\" x2=\"10.41\" y2=\"3.12\"/>\n",
       "      <line x1=\"10.36\" y1=\"3.09\" x2=\"9.95\" y2=\"2.38\"/>\n",
       "      <line x1=\"9.95\" y1=\"2.38\" x2=\"9.12\" y2=\"2.38\"/>\n",
       "      <line x1=\"9.07\" y1=\"2.41\" x2=\"8.66\" y2=\"1.70\"/>\n",
       "      <line x1=\"9.18\" y1=\"2.35\" x2=\"8.76\" y2=\"1.64\"/>\n",
       "    </g>\n",
       "    <g font-family=\"monospace\">\n",
       "      <g fill=\"#FF0D0D\" font-family=\"sans-serif\">\n",
       "        <text x=\"7.47\" y=\"2.38\" dx=\"-0.20\" dy=\"0.20\" font-size=\"0.50\">OH</text>\n",
       "      </g>\n",
       "      <g fill=\"#3050F8\" font-family=\"sans-serif\">\n",
       "        <text x=\"10.36\" y=\"3.09\" dx=\"-0.20\" dy=\"0.20\" font-size=\"0.50\">N</text>\n",
       "      </g>\n",
       "      <g fill=\"#3050F8\" font-family=\"sans-serif\">\n",
       "        <text x=\"9.95\" y=\"2.38\" dx=\"-0.20\" dy=\"0.20\" font-size=\"0.50\">NH</text>\n",
       "      </g>\n",
       "      <g fill=\"#FF0D0D\" font-family=\"sans-serif\">\n",
       "        <text x=\"8.71\" y=\"1.67\" dx=\"-0.20\" dy=\"0.20\" font-size=\"0.50\">O</text>\n",
       "      </g>\n",
       "    </g>\n",
       "  </g>\n",
       "  <g>\n",
       "<rect x=\"6.875\" y=\"-4.259206714880238\" rx=\"0.3374999999999999\" ry=\"0.3374999999999999\" width=\"6.4499999999999975\" height=\"3.374999999999999\" stroke=\"black\" stroke-width=\".0025\" fill=\"#9BFAB3\" fill-opacity=\"0.30\"/>\n",
       "    <defs>\n",
       "      <mask id=\"mask-3fb20f3f-2f9e-4e69-a84e-52eb61cbd1af\">\n",
       "        <rect x=\"-0.62\" y=\"-4.68\" width=\"25.14\" height=\"9.37\" fill=\"white\"/>\n",
       "        <g fill=\"black\">\n",
       "          <ellipse cx=\"9.82\" cy=\"-2.16\" rx=\"0.3\" ry=\"0.2\"/>\n",
       "          <ellipse cx=\"9.82\" cy=\"-1.33\" rx=\"0.3\" ry=\"0.2\"/>\n",
       "        </g>\n",
       "        <g font-family=\"monospace\" stroke=\"black\">\n",
       "          <g font-family=\"sans-serif\" font-size=\"0.50\" stroke-width=\"0.05\">\n",
       "            <text x=\"9.95\" y=\"-2.16\" dx=\"-0.35\" dy=\"0.20\">Si</text>\n",
       "            <text x=\"9.95\" y=\"-1.33\" dx=\"-0.35\" dy=\"0.20\">Cl</text>\n",
       "          </g>\n",
       "        </g>\n",
       "      </mask>\n",
       "    </defs>\n",
       "    <g fill=\"none\" stroke=\"black\" stroke-width=\"0.04\" mask=\"url(#mask-3fb20f3f-2f9e-4e69-a84e-52eb61cbd1af)\">\n",
       "      <line x1=\"10.77\" y1=\"-2.16\" x2=\"9.95\" y2=\"-2.16\"/>\n",
       "      <line x1=\"10.77\" y1=\"-2.16\" x2=\"11.19\" y2=\"-2.87\"/>\n",
       "      <line x1=\"10.77\" y1=\"-2.16\" x2=\"11.19\" y2=\"-1.44\"/>\n",
       "      <line x1=\"9.95\" y1=\"-2.16\" x2=\"9.12\" y2=\"-2.16\"/>\n",
       "      <line x1=\"9.95\" y1=\"-2.16\" x2=\"9.95\" y2=\"-1.33\"/>\n",
       "      <line x1=\"9.95\" y1=\"-2.16\" x2=\"9.95\" y2=\"-2.98\"/>\n",
       "      <line x1=\"9.12\" y1=\"-2.16\" x2=\"8.71\" y2=\"-2.87\"/>\n",
       "      <line x1=\"9.12\" y1=\"-2.16\" x2=\"8.71\" y2=\"-1.44\"/>\n",
       "      <line x1=\"9.95\" y1=\"-2.98\" x2=\"10.73\" y2=\"-3.27\"/>\n",
       "      <line x1=\"9.95\" y1=\"-2.98\" x2=\"9.17\" y2=\"-3.27\"/>\n",
       "      <line x1=\"9.95\" y1=\"-2.98\" x2=\"9.95\" y2=\"-3.81\"/>\n",
       "      <line x1=\"8.71\" y1=\"-2.87\" x2=\"7.89\" y2=\"-2.87\"/>\n",
       "      <line x1=\"7.89\" y1=\"-2.87\" x2=\"7.47\" y2=\"-2.16\"/>\n",
       "      <line x1=\"7.47\" y1=\"-2.16\" x2=\"7.89\" y2=\"-1.44\"/>\n",
       "      <line x1=\"7.89\" y1=\"-1.44\" x2=\"8.71\" y2=\"-1.44\"/>\n",
       "      <line x1=\"11.19\" y1=\"-2.87\" x2=\"12.01\" y2=\"-2.87\"/>\n",
       "      <line x1=\"12.01\" y1=\"-2.87\" x2=\"12.42\" y2=\"-2.16\"/>\n",
       "      <line x1=\"12.42\" y1=\"-2.16\" x2=\"12.01\" y2=\"-1.44\"/>\n",
       "      <line x1=\"12.01\" y1=\"-1.44\" x2=\"11.19\" y2=\"-1.44\"/>\n",
       "      <line x1=\"10.94\" y1=\"-2.16\" x2=\"11.27\" y2=\"-2.73\" stroke-dasharray=\"0.15 0.05\"/>\n",
       "      <line x1=\"11.27\" y1=\"-2.73\" x2=\"11.93\" y2=\"-2.73\" stroke-dasharray=\"0.15 0.05\"/>\n",
       "      <line x1=\"11.93\" y1=\"-2.73\" x2=\"12.26\" y2=\"-2.16\" stroke-dasharray=\"0.15 0.05\"/>\n",
       "      <line x1=\"12.26\" y1=\"-2.16\" x2=\"11.93\" y2=\"-1.58\" stroke-dasharray=\"0.15 0.05\"/>\n",
       "      <line x1=\"11.93\" y1=\"-1.58\" x2=\"11.27\" y2=\"-1.58\" stroke-dasharray=\"0.15 0.05\"/>\n",
       "      <line x1=\"11.27\" y1=\"-1.58\" x2=\"10.94\" y2=\"-2.16\" stroke-dasharray=\"0.15 0.05\"/>\n",
       "      <line x1=\"8.96\" y1=\"-2.16\" x2=\"8.63\" y2=\"-2.73\" stroke-dasharray=\"0.15 0.05\"/>\n",
       "      <line x1=\"8.63\" y1=\"-2.73\" x2=\"7.97\" y2=\"-2.73\" stroke-dasharray=\"0.15 0.05\"/>\n",
       "      <line x1=\"7.97\" y1=\"-2.73\" x2=\"7.64\" y2=\"-2.16\" stroke-dasharray=\"0.15 0.05\"/>\n",
       "      <line x1=\"7.64\" y1=\"-2.16\" x2=\"7.97\" y2=\"-1.58\" stroke-dasharray=\"0.15 0.05\"/>\n",
       "      <line x1=\"7.97\" y1=\"-1.58\" x2=\"8.63\" y2=\"-1.58\" stroke-dasharray=\"0.15 0.05\"/>\n",
       "      <line x1=\"8.63\" y1=\"-1.58\" x2=\"8.96\" y2=\"-2.16\" stroke-dasharray=\"0.15 0.05\"/>\n",
       "    </g>\n",
       "    <g font-family=\"monospace\">\n",
       "      <g fill=\"#F0C8A0\" font-family=\"sans-serif\">\n",
       "        <text x=\"9.95\" y=\"-2.16\" dx=\"-0.35\" dy=\"0.20\" font-size=\"0.50\">Si</text>\n",
       "      </g>\n",
       "      <g fill=\"#1FF01F\" font-family=\"sans-serif\">\n",
       "        <text x=\"9.95\" y=\"-1.33\" dx=\"-0.35\" dy=\"0.20\" font-size=\"0.50\">Cl</text>\n",
       "      </g>\n",
       "    </g>\n",
       "  </g>\n",
       "  <g>\n",
       "<rect x=\"16.824999999999996\" y=\"-2.346705540904526\" rx=\"0.46934110818090524\" ry=\"0.46934110818090524\" width=\"7.21576721023742\" height=\"4.693411081809052\" stroke=\"black\" stroke-width=\".0025\" fill=\"#98EEFF\" fill-opacity=\"0.30\"/>\n",
       "    <defs>\n",
       "      <mask id=\"mask-cbee8a38-5024-4d8c-8ad5-48b08a49bc52\">\n",
       "        <rect x=\"-0.62\" y=\"-4.68\" width=\"25.14\" height=\"9.37\" fill=\"white\"/>\n",
       "        <g fill=\"black\">\n",
       "          <ellipse cx=\"20.87\" cy=\"-0.25\" rx=\"0.3\" ry=\"0.2\"/>\n",
       "          <circle cx=\"20.28\" cy=\"-0.66\" r=\"0.20\"/>\n",
       "          <circle cx=\"17.42\" cy=\"-1.48\" r=\"0.20\"/>\n",
       "          <circle cx=\"18.14\" cy=\"-1.90\" r=\"0.20\"/>\n",
       "          <circle cx=\"19.57\" cy=\"-1.90\" r=\"0.20\"/>\n",
       "        </g>\n",
       "        <g font-family=\"monospace\" stroke=\"black\">\n",
       "          <g font-family=\"sans-serif\" font-size=\"0.50\" stroke-width=\"0.05\">\n",
       "            <text x=\"21.00\" y=\"-0.25\" dx=\"-0.35\" dy=\"0.20\">Si</text>\n",
       "            <text x=\"20.28\" y=\"-0.66\" dx=\"-0.20\" dy=\"0.20\">O</text>\n",
       "            <text x=\"17.42\" y=\"-1.48\" dx=\"-0.20\" dy=\"0.20\">N</text>\n",
       "            <text x=\"18.14\" y=\"-1.90\" dx=\"-0.20\" dy=\"0.20\">NH</text>\n",
       "            <text x=\"19.57\" y=\"-1.90\" dx=\"-0.20\" dy=\"0.20\">O</text>\n",
       "          </g>\n",
       "        </g>\n",
       "      </mask>\n",
       "    </defs>\n",
       "    <g fill=\"none\" stroke=\"black\" stroke-width=\"0.04\" mask=\"url(#mask-cbee8a38-5024-4d8c-8ad5-48b08a49bc52)\">\n",
       "      <line x1=\"22.22\" y1=\"-0.82\" x2=\"21.41\" y2=\"-0.96\"/>\n",
       "      <line x1=\"21.41\" y1=\"-0.96\" x2=\"21.82\" y2=\"-1.68\"/>\n",
       "      <line x1=\"21.41\" y1=\"-0.96\" x2=\"20.70\" y2=\"-1.37\"/>\n",
       "      <line x1=\"21.41\" y1=\"-0.96\" x2=\"21.00\" y2=\"-0.25\"/>\n",
       "      <line x1=\"21.00\" y1=\"-0.25\" x2=\"20.28\" y2=\"-0.66\"/>\n",
       "      <line x1=\"21.00\" y1=\"-0.25\" x2=\"21.71\" y2=\"0.17\"/>\n",
       "      <line x1=\"21.00\" y1=\"-0.25\" x2=\"20.58\" y2=\"0.47\"/>\n",
       "      <line x1=\"20.28\" y1=\"-0.66\" x2=\"19.57\" y2=\"-0.25\"/>\n",
       "      <line x1=\"19.57\" y1=\"-0.25\" x2=\"18.85\" y2=\"-0.66\"/>\n",
       "      <line x1=\"18.88\" y1=\"-0.61\" x2=\"18.17\" y2=\"-0.19\"/>\n",
       "      <line x1=\"18.82\" y1=\"-0.71\" x2=\"18.11\" y2=\"-0.30\"/>\n",
       "      <line x1=\"18.85\" y1=\"-0.66\" x2=\"18.85\" y2=\"-1.48\"/>\n",
       "      <line x1=\"18.14\" y1=\"-0.25\" x2=\"17.43\" y2=\"-0.66\"/>\n",
       "      <line x1=\"17.37\" y1=\"-0.66\" x2=\"17.36\" y2=\"-1.48\"/>\n",
       "      <line x1=\"17.49\" y1=\"-0.66\" x2=\"17.48\" y2=\"-1.48\"/>\n",
       "      <line x1=\"17.42\" y1=\"-1.48\" x2=\"18.14\" y2=\"-1.90\"/>\n",
       "      <line x1=\"18.14\" y1=\"-1.90\" x2=\"18.85\" y2=\"-1.48\"/>\n",
       "      <line x1=\"18.82\" y1=\"-1.54\" x2=\"19.54\" y2=\"-1.95\"/>\n",
       "      <line x1=\"18.88\" y1=\"-1.43\" x2=\"19.60\" y2=\"-1.84\"/>\n",
       "      <line x1=\"21.71\" y1=\"0.17\" x2=\"21.71\" y2=\"0.99\"/>\n",
       "      <line x1=\"21.71\" y1=\"0.17\" x2=\"22.43\" y2=\"-0.25\"/>\n",
       "      <line x1=\"21.71\" y1=\"0.99\" x2=\"22.43\" y2=\"1.40\"/>\n",
       "      <line x1=\"22.43\" y1=\"1.40\" x2=\"23.14\" y2=\"0.99\"/>\n",
       "      <line x1=\"23.14\" y1=\"0.99\" x2=\"23.14\" y2=\"0.17\"/>\n",
       "      <line x1=\"23.14\" y1=\"0.17\" x2=\"22.43\" y2=\"-0.25\"/>\n",
       "      <line x1=\"20.58\" y1=\"0.47\" x2=\"19.76\" y2=\"0.47\"/>\n",
       "      <line x1=\"20.58\" y1=\"0.47\" x2=\"21.00\" y2=\"1.18\"/>\n",
       "      <line x1=\"19.76\" y1=\"0.47\" x2=\"19.35\" y2=\"1.18\"/>\n",
       "      <line x1=\"19.35\" y1=\"1.18\" x2=\"19.76\" y2=\"1.90\"/>\n",
       "      <line x1=\"19.76\" y1=\"1.90\" x2=\"20.58\" y2=\"1.90\"/>\n",
       "      <line x1=\"20.58\" y1=\"1.90\" x2=\"21.00\" y2=\"1.18\"/>\n",
       "      <line x1=\"20.50\" y1=\"0.61\" x2=\"19.84\" y2=\"0.61\" stroke-dasharray=\"0.15 0.05\"/>\n",
       "      <line x1=\"19.84\" y1=\"0.61\" x2=\"19.51\" y2=\"1.18\" stroke-dasharray=\"0.15 0.05\"/>\n",
       "      <line x1=\"19.51\" y1=\"1.18\" x2=\"19.84\" y2=\"1.76\" stroke-dasharray=\"0.15 0.05\"/>\n",
       "      <line x1=\"19.84\" y1=\"1.76\" x2=\"20.50\" y2=\"1.76\" stroke-dasharray=\"0.15 0.05\"/>\n",
       "      <line x1=\"20.50\" y1=\"1.76\" x2=\"20.84\" y2=\"1.18\" stroke-dasharray=\"0.15 0.05\"/>\n",
       "      <line x1=\"20.84\" y1=\"1.18\" x2=\"20.50\" y2=\"0.61\" stroke-dasharray=\"0.15 0.05\"/>\n",
       "      <line x1=\"21.85\" y1=\"0.25\" x2=\"21.85\" y2=\"0.91\" stroke-dasharray=\"0.15 0.05\"/>\n",
       "      <line x1=\"21.85\" y1=\"0.91\" x2=\"22.43\" y2=\"1.24\" stroke-dasharray=\"0.15 0.05\"/>\n",
       "      <line x1=\"22.43\" y1=\"1.24\" x2=\"23.00\" y2=\"0.91\" stroke-dasharray=\"0.15 0.05\"/>\n",
       "      <line x1=\"23.00\" y1=\"0.91\" x2=\"23.00\" y2=\"0.25\" stroke-dasharray=\"0.15 0.05\"/>\n",
       "      <line x1=\"23.00\" y1=\"0.25\" x2=\"22.43\" y2=\"-0.09\" stroke-dasharray=\"0.15 0.05\"/>\n",
       "      <line x1=\"22.43\" y1=\"-0.09\" x2=\"21.85\" y2=\"0.25\" stroke-dasharray=\"0.15 0.05\"/>\n",
       "    </g>\n",
       "    <g font-family=\"monospace\">\n",
       "      <g fill=\"#F0C8A0\" font-family=\"sans-serif\">\n",
       "        <text x=\"21.00\" y=\"-0.25\" dx=\"-0.35\" dy=\"0.20\" font-size=\"0.50\">Si</text>\n",
       "      </g>\n",
       "      <g fill=\"#FF0D0D\" font-family=\"sans-serif\">\n",
       "        <text x=\"20.28\" y=\"-0.66\" dx=\"-0.20\" dy=\"0.20\" font-size=\"0.50\">O</text>\n",
       "      </g>\n",
       "      <g fill=\"#3050F8\" font-family=\"sans-serif\">\n",
       "        <text x=\"17.42\" y=\"-1.48\" dx=\"-0.20\" dy=\"0.20\" font-size=\"0.50\">N</text>\n",
       "      </g>\n",
       "      <g fill=\"#3050F8\" font-family=\"sans-serif\">\n",
       "        <text x=\"18.14\" y=\"-1.90\" dx=\"-0.20\" dy=\"0.20\" font-size=\"0.50\">NH</text>\n",
       "      </g>\n",
       "      <g fill=\"#FF0D0D\" font-family=\"sans-serif\">\n",
       "        <text x=\"19.57\" y=\"-1.90\" dx=\"-0.20\" dy=\"0.20\" font-size=\"0.50\">O</text>\n",
       "      </g>\n",
       "    </g>\n",
       "  </g>\n",
       "</svg>"
      ],
      "text/plain": [
       "<IPython.core.display.SVG object>"
      ]
     },
     "metadata": {},
     "output_type": "display_data"
    },
    {
     "name": "stdout",
     "output_type": "stream",
     "text": [
      "-------- Path starts from node #27 with total path score 0.015391617872701178 --------\n"
     ]
    },
    {
     "data": {
      "image/svg+xml": [
       "<svg xmlns=\"http://www.w3.org/2000/svg\" width=\"20.59cm\" height=\"5.62cm\" viewBox=\"-0.62 -4.68 34.32 9.37\" version=\"1.1\">\n",
       "  <defs>\n",
       "    <marker id=\"arrow\" markerWidth=\"10\" markerHeight=\"10\" refX=\"0\" refY=\"3\" orient=\"auto\">\n",
       "      <path d=\"M0,0 L0,6 L9,3\"/>\n",
       "    </marker>\n",
       "  </defs>\n",
       "  <polyline points=\"22.14 -2.57, 23.47 -2.57, 23.47 0.00, 25.14 0.00\" fill=\"none\" stroke=\"black\" stroke-width=\".04\" marker-end=\"url(#arrow)\"/>  <circle cx=\"23.470832225044592\" cy=\"-2.5717064371832437\" r=\"0.1\"/>\n",
       "  <polyline points=\"20.07 2.74, 23.47 2.74, 23.47 0.00, 25.14 0.00\" fill=\"none\" stroke=\"black\" stroke-width=\".04\" marker-end=\"url(#arrow)\"/>  <circle cx=\"23.470832225044592\" cy=\"2.7374999999995007\" r=\"0.1\"/>\n",
       "  <polyline points=\"12.19 0.00, 13.52 0.00, 13.52 2.74, 15.19 2.74\" fill=\"none\" stroke=\"black\" stroke-width=\".04\" marker-end=\"url(#arrow)\"/>  <circle cx=\"13.520832225046588\" cy=\"0.0\" r=\"0.1\"/>\n",
       "  <polyline points=\"2.43 -2.57, 5.63 -2.57, 5.63 0.00, 7.30 0.00\" fill=\"none\" stroke=\"black\" stroke-width=\".04\" marker-end=\"url(#arrow)\"/>  <circle cx=\"5.633333333333001\" cy=\"-2.571706344617432\" r=\"0.1\"/>\n",
       "  <polyline points=\"4.30 2.21, 5.63 2.21, 5.63 0.00, 7.30 0.00\" fill=\"none\" stroke=\"black\" stroke-width=\".04\" marker-end=\"url(#arrow)\"/>  <circle cx=\"5.633333333333001\" cy=\"2.214470958122162\" r=\"0.1\"/>\n",
       "  <g>\n",
       "<rect x=\"-0.6\" y=\"0.6927646135047294\" rx=\"0.30434126892348656\" ry=\"0.30434126892348656\" width=\"4.799999999999668\" height=\"3.0434126892348656\" stroke=\"black\" stroke-width=\".0025\" fill=\"#9BFAB3\" fill-opacity=\"0.30\"/>\n",
       "    <defs>\n",
       "      <mask id=\"mask-49e1bfeb-7dcc-4319-adac-0b914e500375\">\n",
       "        <rect x=\"-0.62\" y=\"-4.68\" width=\"34.32\" height=\"9.37\" fill=\"white\"/>\n",
       "        <g fill=\"black\">\n",
       "          <circle cx=\"0.00\" cy=\"2.57\" r=\"0.20\"/>\n",
       "          <circle cx=\"0.41\" cy=\"1.86\" r=\"0.20\"/>\n",
       "          <circle cx=\"1.65\" cy=\"1.14\" r=\"0.20\"/>\n",
       "          <circle cx=\"3.30\" cy=\"2.57\" r=\"0.20\"/>\n",
       "        </g>\n",
       "        <g font-family=\"monospace\" stroke=\"black\">\n",
       "          <g font-family=\"sans-serif\" font-size=\"0.50\" stroke-width=\"0.05\">\n",
       "            <text x=\"0.00\" y=\"2.57\" dx=\"-0.20\" dy=\"0.20\">N</text>\n",
       "            <text x=\"0.41\" y=\"1.86\" dx=\"-0.20\" dy=\"0.20\">NH</text>\n",
       "            <text x=\"1.65\" y=\"1.14\" dx=\"-0.20\" dy=\"0.20\">O</text>\n",
       "            <text x=\"3.30\" y=\"2.57\" dx=\"-0.20\" dy=\"0.20\">N</text>\n",
       "          </g>\n",
       "        </g>\n",
       "      </mask>\n",
       "    </defs>\n",
       "    <g fill=\"none\" stroke=\"black\" stroke-width=\"0.04\" mask=\"url(#mask-49e1bfeb-7dcc-4319-adac-0b914e500375)\">\n",
       "      <line x1=\"1.65\" y1=\"2.57\" x2=\"2.47\" y2=\"2.57\"/>\n",
       "      <line x1=\"1.70\" y1=\"2.60\" x2=\"1.29\" y2=\"3.32\"/>\n",
       "      <line x1=\"1.60\" y1=\"2.54\" x2=\"1.19\" y2=\"3.26\"/>\n",
       "      <line x1=\"1.65\" y1=\"2.57\" x2=\"1.24\" y2=\"1.86\"/>\n",
       "      <line x1=\"2.48\" y1=\"2.44\" x2=\"3.30\" y2=\"2.44\"/>\n",
       "      <line x1=\"2.47\" y1=\"2.57\" x2=\"3.30\" y2=\"2.57\"/>\n",
       "      <line x1=\"2.47\" y1=\"2.70\" x2=\"3.30\" y2=\"2.70\"/>\n",
       "      <line x1=\"1.24\" y1=\"3.29\" x2=\"0.41\" y2=\"3.29\"/>\n",
       "      <line x1=\"0.36\" y1=\"3.32\" x2=\"-0.05\" y2=\"2.60\"/>\n",
       "      <line x1=\"0.46\" y1=\"3.26\" x2=\"0.05\" y2=\"2.54\"/>\n",
       "      <line x1=\"0.00\" y1=\"2.57\" x2=\"0.41\" y2=\"1.86\"/>\n",
       "      <line x1=\"0.41\" y1=\"1.86\" x2=\"1.24\" y2=\"1.86\"/>\n",
       "      <line x1=\"1.19\" y1=\"1.83\" x2=\"1.60\" y2=\"1.11\"/>\n",
       "      <line x1=\"1.29\" y1=\"1.89\" x2=\"1.70\" y2=\"1.17\"/>\n",
       "    </g>\n",
       "    <g font-family=\"monospace\">\n",
       "      <g fill=\"#3050F8\" font-family=\"sans-serif\">\n",
       "        <text x=\"0.00\" y=\"2.57\" dx=\"-0.20\" dy=\"0.20\" font-size=\"0.50\">N</text>\n",
       "      </g>\n",
       "      <g fill=\"#3050F8\" font-family=\"sans-serif\">\n",
       "        <text x=\"0.41\" y=\"1.86\" dx=\"-0.20\" dy=\"0.20\" font-size=\"0.50\">NH</text>\n",
       "      </g>\n",
       "      <g fill=\"#FF0D0D\" font-family=\"sans-serif\">\n",
       "        <text x=\"1.65\" y=\"1.14\" dx=\"-0.20\" dy=\"0.20\" font-size=\"0.50\">O</text>\n",
       "      </g>\n",
       "      <g fill=\"#3050F8\" font-family=\"sans-serif\">\n",
       "        <text x=\"3.30\" y=\"2.57\" dx=\"-0.20\" dy=\"0.20\" font-size=\"0.50\">N</text>\n",
       "      </g>\n",
       "    </g>\n",
       "  </g>\n",
       "  <g>\n",
       "<rect x=\"-0.6\" y=\"-3.7361773027395944\" rx=\"0.23289419162443237\" ry=\"0.23289419162443237\" width=\"2.9289419162443235\" height=\"2.3289419162443235\" stroke=\"black\" stroke-width=\".0025\" fill=\"#9BFAB3\" fill-opacity=\"0.30\"/>\n",
       "    <defs>\n",
       "      <mask id=\"mask-f3de09c8-f476-454c-930d-9bd1b34af8e2\">\n",
       "        <rect x=\"-0.62\" y=\"-4.68\" width=\"34.32\" height=\"9.37\" fill=\"white\"/>\n",
       "        <g fill=\"black\">\n",
       "          <circle cx=\"0.00\" cy=\"-2.98\" r=\"0.20\"/>\n",
       "          <circle cx=\"0.30\" cy=\"-1.86\" r=\"0.20\"/>\n",
       "          <circle cx=\"1.43\" cy=\"-2.16\" r=\"0.20\"/>\n",
       "          <circle cx=\"0.71\" cy=\"-2.57\" r=\"0.20\"/>\n",
       "          <circle cx=\"1.13\" cy=\"-3.29\" r=\"0.20\"/>\n",
       "        </g>\n",
       "        <g font-family=\"monospace\" stroke=\"black\">\n",
       "          <g font-family=\"sans-serif\" font-size=\"0.50\" stroke-width=\"0.05\">\n",
       "            <text x=\"0.00\" y=\"-2.98\" dx=\"-0.20\" dy=\"0.20\">OH</text>\n",
       "            <text x=\"0.30\" y=\"-1.86\" dx=\"-0.20\" dy=\"0.20\">O</text>\n",
       "            <text x=\"1.43\" y=\"-2.16\" dx=\"-0.20\" dy=\"0.20\">OH</text>\n",
       "            <text x=\"0.71\" y=\"-2.57\" dx=\"-0.20\" dy=\"0.20\">S</text>\n",
       "            <text x=\"1.13\" y=\"-3.29\" dx=\"-0.20\" dy=\"0.20\">O</text>\n",
       "          </g>\n",
       "        </g>\n",
       "      </mask>\n",
       "    </defs>\n",
       "    <g fill=\"none\" stroke=\"black\" stroke-width=\"0.04\" mask=\"url(#mask-f3de09c8-f476-454c-930d-9bd1b34af8e2)\">\n",
       "      <line x1=\"1.43\" y1=\"-2.16\" x2=\"0.71\" y2=\"-2.57\"/>\n",
       "      <line x1=\"0.71\" y1=\"-2.57\" x2=\"0.00\" y2=\"-2.98\"/>\n",
       "      <line x1=\"0.77\" y1=\"-2.54\" x2=\"0.35\" y2=\"-1.83\"/>\n",
       "      <line x1=\"0.66\" y1=\"-2.60\" x2=\"0.25\" y2=\"-1.89\"/>\n",
       "      <line x1=\"0.66\" y1=\"-2.60\" x2=\"1.08\" y2=\"-3.32\"/>\n",
       "      <line x1=\"0.77\" y1=\"-2.54\" x2=\"1.18\" y2=\"-3.26\"/>\n",
       "    </g>\n",
       "    <g font-family=\"monospace\">\n",
       "      <g fill=\"#FF0D0D\" font-family=\"sans-serif\">\n",
       "        <text x=\"0.00\" y=\"-2.98\" dx=\"-0.20\" dy=\"0.20\" font-size=\"0.50\">OH</text>\n",
       "      </g>\n",
       "      <g fill=\"#FF0D0D\" font-family=\"sans-serif\">\n",
       "        <text x=\"0.30\" y=\"-1.86\" dx=\"-0.20\" dy=\"0.20\" font-size=\"0.50\">O</text>\n",
       "      </g>\n",
       "      <g fill=\"#FF0D0D\" font-family=\"sans-serif\">\n",
       "        <text x=\"1.43\" y=\"-2.16\" dx=\"-0.20\" dy=\"0.20\" font-size=\"0.50\">OH</text>\n",
       "      </g>\n",
       "      <g fill=\"#C6C600\" font-family=\"sans-serif\">\n",
       "        <text x=\"0.71\" y=\"-2.57\" dx=\"-0.20\" dy=\"0.20\" font-size=\"0.50\">S</text>\n",
       "      </g>\n",
       "      <g fill=\"#FF0D0D\" font-family=\"sans-serif\">\n",
       "        <text x=\"1.13\" y=\"-3.29\" dx=\"-0.20\" dy=\"0.20\" font-size=\"0.50\">O</text>\n",
       "      </g>\n",
       "    </g>\n",
       "  </g>\n",
       "  <g>\n",
       "<rect x=\"7.699999999999667\" y=\"-1.5217074976408664\" rx=\"0.3043414995281733\" ry=\"0.3043414995281733\" width=\"4.387498891713587\" height=\"3.043414995281733\" stroke=\"black\" stroke-width=\".0025\" fill=\"#F0AB90\" fill-opacity=\"0.30\"/>\n",
       "    <defs>\n",
       "      <mask id=\"mask-9a08e302-f2fa-485d-a005-e48d3e090883\">\n",
       "        <rect x=\"-0.62\" y=\"-4.68\" width=\"34.32\" height=\"9.37\" fill=\"white\"/>\n",
       "        <g fill=\"black\">\n",
       "          <circle cx=\"8.30\" cy=\"-1.07\" r=\"0.20\"/>\n",
       "          <circle cx=\"11.19\" cy=\"-0.36\" r=\"0.20\"/>\n",
       "          <circle cx=\"10.77\" cy=\"0.36\" r=\"0.20\"/>\n",
       "          <circle cx=\"9.54\" cy=\"1.07\" r=\"0.20\"/>\n",
       "          <circle cx=\"8.30\" cy=\"0.36\" r=\"0.20\"/>\n",
       "        </g>\n",
       "        <g font-family=\"monospace\" stroke=\"black\">\n",
       "          <g font-family=\"sans-serif\" font-size=\"0.50\" stroke-width=\"0.05\">\n",
       "            <text x=\"8.30\" y=\"-1.07\" dx=\"-0.20\" dy=\"0.20\">OH</text>\n",
       "            <text x=\"11.19\" y=\"-0.36\" dx=\"-0.20\" dy=\"0.20\">N</text>\n",
       "            <text x=\"10.77\" y=\"0.36\" dx=\"-0.20\" dy=\"0.20\">NH</text>\n",
       "            <text x=\"9.54\" y=\"1.07\" dx=\"-0.20\" dy=\"0.20\">O</text>\n",
       "            <text x=\"8.30\" y=\"0.36\" dx=\"-0.20\" dy=\"0.20\">O</text>\n",
       "          </g>\n",
       "        </g>\n",
       "      </mask>\n",
       "    </defs>\n",
       "    <g fill=\"none\" stroke=\"black\" stroke-width=\"0.04\" mask=\"url(#mask-9a08e302-f2fa-485d-a005-e48d3e090883)\">\n",
       "      <line x1=\"9.54\" y1=\"-0.36\" x2=\"8.71\" y2=\"-0.36\"/>\n",
       "      <line x1=\"9.49\" y1=\"-0.39\" x2=\"9.90\" y2=\"-1.10\"/>\n",
       "      <line x1=\"9.59\" y1=\"-0.33\" x2=\"10.00\" y2=\"-1.04\"/>\n",
       "      <line x1=\"9.54\" y1=\"-0.36\" x2=\"9.95\" y2=\"0.36\"/>\n",
       "      <line x1=\"8.76\" y1=\"-0.33\" x2=\"8.35\" y2=\"0.39\"/>\n",
       "      <line x1=\"8.66\" y1=\"-0.39\" x2=\"8.25\" y2=\"0.33\"/>\n",
       "      <line x1=\"8.71\" y1=\"-0.36\" x2=\"8.30\" y2=\"-1.07\"/>\n",
       "      <line x1=\"9.95\" y1=\"-1.07\" x2=\"10.77\" y2=\"-1.07\"/>\n",
       "      <line x1=\"10.83\" y1=\"-1.10\" x2=\"11.24\" y2=\"-0.39\"/>\n",
       "      <line x1=\"10.72\" y1=\"-1.04\" x2=\"11.14\" y2=\"-0.33\"/>\n",
       "      <line x1=\"11.19\" y1=\"-0.36\" x2=\"10.77\" y2=\"0.36\"/>\n",
       "      <line x1=\"10.77\" y1=\"0.36\" x2=\"9.95\" y2=\"0.36\"/>\n",
       "      <line x1=\"10.00\" y1=\"0.39\" x2=\"9.59\" y2=\"1.10\"/>\n",
       "      <line x1=\"9.90\" y1=\"0.33\" x2=\"9.49\" y2=\"1.04\"/>\n",
       "    </g>\n",
       "    <g font-family=\"monospace\">\n",
       "      <g fill=\"#FF0D0D\" font-family=\"sans-serif\">\n",
       "        <text x=\"8.30\" y=\"-1.07\" dx=\"-0.20\" dy=\"0.20\" font-size=\"0.50\">OH</text>\n",
       "      </g>\n",
       "      <g fill=\"#3050F8\" font-family=\"sans-serif\">\n",
       "        <text x=\"11.19\" y=\"-0.36\" dx=\"-0.20\" dy=\"0.20\" font-size=\"0.50\">N</text>\n",
       "      </g>\n",
       "      <g fill=\"#3050F8\" font-family=\"sans-serif\">\n",
       "        <text x=\"10.77\" y=\"0.36\" dx=\"-0.20\" dy=\"0.20\" font-size=\"0.50\">NH</text>\n",
       "      </g>\n",
       "      <g fill=\"#FF0D0D\" font-family=\"sans-serif\">\n",
       "        <text x=\"9.54\" y=\"1.07\" dx=\"-0.20\" dy=\"0.20\" font-size=\"0.50\">O</text>\n",
       "      </g>\n",
       "      <g fill=\"#FF0D0D\" font-family=\"sans-serif\">\n",
       "        <text x=\"8.30\" y=\"0.36\" dx=\"-0.20\" dy=\"0.20\" font-size=\"0.50\">O</text>\n",
       "      </g>\n",
       "    </g>\n",
       "  </g>\n",
       "  <g>\n",
       "<rect x=\"15.587498891713254\" y=\"1.215793562816258\" rx=\"0.3043412874366486\" ry=\"0.3043412874366486\" width=\"4.3874999999999975\" height=\"3.043412874366486\" stroke=\"black\" stroke-width=\".0025\" fill=\"#F0AB90\" fill-opacity=\"0.30\"/>\n",
       "    <defs>\n",
       "      <mask id=\"mask-2aedd378-bc3d-442e-bf75-3d121f2f2f7c\">\n",
       "        <rect x=\"-0.62\" y=\"-4.68\" width=\"34.32\" height=\"9.37\" fill=\"white\"/>\n",
       "        <g fill=\"black\">\n",
       "          <circle cx=\"16.19\" cy=\"3.09\" r=\"0.20\"/>\n",
       "          <circle cx=\"19.07\" cy=\"2.38\" r=\"0.20\"/>\n",
       "          <circle cx=\"18.66\" cy=\"3.09\" r=\"0.20\"/>\n",
       "          <circle cx=\"17.42\" cy=\"3.81\" r=\"0.20\"/>\n",
       "        </g>\n",
       "        <g font-family=\"monospace\" stroke=\"black\">\n",
       "          <g font-family=\"sans-serif\" font-size=\"0.50\" stroke-width=\"0.05\">\n",
       "            <text x=\"16.19\" y=\"3.09\" dx=\"-0.20\" dy=\"0.20\">OH</text>\n",
       "            <text x=\"19.07\" y=\"2.38\" dx=\"-0.20\" dy=\"0.20\">N</text>\n",
       "            <text x=\"18.66\" y=\"3.09\" dx=\"-0.20\" dy=\"0.20\">NH</text>\n",
       "            <text x=\"17.42\" y=\"3.81\" dx=\"-0.20\" dy=\"0.20\">O</text>\n",
       "          </g>\n",
       "        </g>\n",
       "      </mask>\n",
       "    </defs>\n",
       "    <g fill=\"none\" stroke=\"black\" stroke-width=\"0.04\" mask=\"url(#mask-2aedd378-bc3d-442e-bf75-3d121f2f2f7c)\">\n",
       "      <line x1=\"16.60\" y1=\"2.38\" x2=\"16.19\" y2=\"3.09\"/>\n",
       "      <line x1=\"16.60\" y1=\"2.38\" x2=\"17.42\" y2=\"2.38\"/>\n",
       "      <line x1=\"17.37\" y1=\"2.35\" x2=\"17.79\" y2=\"1.64\"/>\n",
       "      <line x1=\"17.48\" y1=\"2.41\" x2=\"17.89\" y2=\"1.70\"/>\n",
       "      <line x1=\"17.42\" y1=\"2.38\" x2=\"17.84\" y2=\"3.09\"/>\n",
       "      <line x1=\"17.84\" y1=\"1.67\" x2=\"18.66\" y2=\"1.67\"/>\n",
       "      <line x1=\"18.71\" y1=\"1.64\" x2=\"19.13\" y2=\"2.35\"/>\n",
       "      <line x1=\"18.61\" y1=\"1.70\" x2=\"19.02\" y2=\"2.41\"/>\n",
       "      <line x1=\"19.07\" y1=\"2.38\" x2=\"18.66\" y2=\"3.09\"/>\n",
       "      <line x1=\"18.66\" y1=\"3.09\" x2=\"17.84\" y2=\"3.09\"/>\n",
       "      <line x1=\"17.89\" y1=\"3.12\" x2=\"17.48\" y2=\"3.84\"/>\n",
       "      <line x1=\"17.79\" y1=\"3.06\" x2=\"17.37\" y2=\"3.78\"/>\n",
       "    </g>\n",
       "    <g font-family=\"monospace\">\n",
       "      <g fill=\"#FF0D0D\" font-family=\"sans-serif\">\n",
       "        <text x=\"16.19\" y=\"3.09\" dx=\"-0.20\" dy=\"0.20\" font-size=\"0.50\">OH</text>\n",
       "      </g>\n",
       "      <g fill=\"#3050F8\" font-family=\"sans-serif\">\n",
       "        <text x=\"19.07\" y=\"2.38\" dx=\"-0.20\" dy=\"0.20\" font-size=\"0.50\">N</text>\n",
       "      </g>\n",
       "      <g fill=\"#3050F8\" font-family=\"sans-serif\">\n",
       "        <text x=\"18.66\" y=\"3.09\" dx=\"-0.20\" dy=\"0.20\" font-size=\"0.50\">NH</text>\n",
       "      </g>\n",
       "      <g fill=\"#FF0D0D\" font-family=\"sans-serif\">\n",
       "        <text x=\"17.42\" y=\"3.81\" dx=\"-0.20\" dy=\"0.20\" font-size=\"0.50\">O</text>\n",
       "      </g>\n",
       "    </g>\n",
       "  </g>\n",
       "  <g>\n",
       "<rect x=\"15.587498891713254\" y=\"-4.259206437182745\" rx=\"0.33749999999990027\" ry=\"0.33749999999990027\" width=\"6.449999999998004\" height=\"3.3749999999990026\" stroke=\"black\" stroke-width=\".0025\" fill=\"#9BFAB3\" fill-opacity=\"0.30\"/>\n",
       "    <defs>\n",
       "      <mask id=\"mask-f254d47f-0fa0-478c-a964-ad0d71061304\">\n",
       "        <rect x=\"-0.62\" y=\"-4.68\" width=\"34.32\" height=\"9.37\" fill=\"white\"/>\n",
       "        <g fill=\"black\">\n",
       "          <ellipse cx=\"18.54\" cy=\"-2.16\" rx=\"0.3\" ry=\"0.2\"/>\n",
       "          <ellipse cx=\"18.54\" cy=\"-1.33\" rx=\"0.3\" ry=\"0.2\"/>\n",
       "        </g>\n",
       "        <g font-family=\"monospace\" stroke=\"black\">\n",
       "          <g font-family=\"sans-serif\" font-size=\"0.50\" stroke-width=\"0.05\">\n",
       "            <text x=\"18.66\" y=\"-2.16\" dx=\"-0.35\" dy=\"0.20\">Si</text>\n",
       "            <text x=\"18.66\" y=\"-1.33\" dx=\"-0.35\" dy=\"0.20\">Cl</text>\n",
       "          </g>\n",
       "        </g>\n",
       "      </mask>\n",
       "    </defs>\n",
       "    <g fill=\"none\" stroke=\"black\" stroke-width=\"0.04\" mask=\"url(#mask-f254d47f-0fa0-478c-a964-ad0d71061304)\">\n",
       "      <line x1=\"17.84\" y1=\"-2.16\" x2=\"18.66\" y2=\"-2.16\"/>\n",
       "      <line x1=\"17.84\" y1=\"-2.16\" x2=\"17.42\" y2=\"-1.44\"/>\n",
       "      <line x1=\"17.84\" y1=\"-2.16\" x2=\"17.42\" y2=\"-2.87\"/>\n",
       "      <line x1=\"18.66\" y1=\"-2.16\" x2=\"19.49\" y2=\"-2.16\"/>\n",
       "      <line x1=\"18.66\" y1=\"-2.16\" x2=\"18.66\" y2=\"-1.33\"/>\n",
       "      <line x1=\"18.66\" y1=\"-2.16\" x2=\"18.66\" y2=\"-2.98\"/>\n",
       "      <line x1=\"19.49\" y1=\"-2.16\" x2=\"19.90\" y2=\"-2.87\"/>\n",
       "      <line x1=\"19.49\" y1=\"-2.16\" x2=\"19.90\" y2=\"-1.44\"/>\n",
       "      <line x1=\"18.66\" y1=\"-2.98\" x2=\"19.44\" y2=\"-3.27\"/>\n",
       "      <line x1=\"18.66\" y1=\"-2.98\" x2=\"17.89\" y2=\"-3.27\"/>\n",
       "      <line x1=\"18.66\" y1=\"-2.98\" x2=\"18.66\" y2=\"-3.81\"/>\n",
       "      <line x1=\"19.90\" y1=\"-2.87\" x2=\"20.72\" y2=\"-2.87\"/>\n",
       "      <line x1=\"20.72\" y1=\"-2.87\" x2=\"21.14\" y2=\"-2.16\"/>\n",
       "      <line x1=\"21.14\" y1=\"-2.16\" x2=\"20.72\" y2=\"-1.44\"/>\n",
       "      <line x1=\"20.72\" y1=\"-1.44\" x2=\"19.90\" y2=\"-1.44\"/>\n",
       "      <line x1=\"17.42\" y1=\"-1.44\" x2=\"16.60\" y2=\"-1.44\"/>\n",
       "      <line x1=\"16.60\" y1=\"-1.44\" x2=\"16.19\" y2=\"-2.16\"/>\n",
       "      <line x1=\"16.19\" y1=\"-2.16\" x2=\"16.60\" y2=\"-2.87\"/>\n",
       "      <line x1=\"16.60\" y1=\"-2.87\" x2=\"17.42\" y2=\"-2.87\"/>\n",
       "      <line x1=\"17.68\" y1=\"-2.16\" x2=\"17.34\" y2=\"-1.58\" stroke-dasharray=\"0.15 0.05\"/>\n",
       "      <line x1=\"17.34\" y1=\"-1.58\" x2=\"16.68\" y2=\"-1.58\" stroke-dasharray=\"0.15 0.05\"/>\n",
       "      <line x1=\"16.68\" y1=\"-1.58\" x2=\"16.35\" y2=\"-2.16\" stroke-dasharray=\"0.15 0.05\"/>\n",
       "      <line x1=\"16.35\" y1=\"-2.16\" x2=\"16.68\" y2=\"-2.73\" stroke-dasharray=\"0.15 0.05\"/>\n",
       "      <line x1=\"16.68\" y1=\"-2.73\" x2=\"17.34\" y2=\"-2.73\" stroke-dasharray=\"0.15 0.05\"/>\n",
       "      <line x1=\"17.34\" y1=\"-2.73\" x2=\"17.68\" y2=\"-2.16\" stroke-dasharray=\"0.15 0.05\"/>\n",
       "      <line x1=\"19.65\" y1=\"-2.16\" x2=\"19.98\" y2=\"-2.73\" stroke-dasharray=\"0.15 0.05\"/>\n",
       "      <line x1=\"19.98\" y1=\"-2.73\" x2=\"20.64\" y2=\"-2.73\" stroke-dasharray=\"0.15 0.05\"/>\n",
       "      <line x1=\"20.64\" y1=\"-2.73\" x2=\"20.98\" y2=\"-2.16\" stroke-dasharray=\"0.15 0.05\"/>\n",
       "      <line x1=\"20.98\" y1=\"-2.16\" x2=\"20.64\" y2=\"-1.58\" stroke-dasharray=\"0.15 0.05\"/>\n",
       "      <line x1=\"20.64\" y1=\"-1.58\" x2=\"19.98\" y2=\"-1.58\" stroke-dasharray=\"0.15 0.05\"/>\n",
       "      <line x1=\"19.98\" y1=\"-1.58\" x2=\"19.65\" y2=\"-2.16\" stroke-dasharray=\"0.15 0.05\"/>\n",
       "    </g>\n",
       "    <g font-family=\"monospace\">\n",
       "      <g fill=\"#F0C8A0\" font-family=\"sans-serif\">\n",
       "        <text x=\"18.66\" y=\"-2.16\" dx=\"-0.35\" dy=\"0.20\" font-size=\"0.50\">Si</text>\n",
       "      </g>\n",
       "      <g fill=\"#1FF01F\" font-family=\"sans-serif\">\n",
       "        <text x=\"18.66\" y=\"-1.33\" dx=\"-0.35\" dy=\"0.20\" font-size=\"0.50\">Cl</text>\n",
       "      </g>\n",
       "    </g>\n",
       "  </g>\n",
       "  <g>\n",
       "<rect x=\"25.53749889171126\" y=\"-2.5125\" rx=\"0.5025000000000001\" ry=\"0.5025000000000001\" width=\"7.6875\" height=\"5.025\" stroke=\"black\" stroke-width=\".0025\" fill=\"#98EEFF\" fill-opacity=\"0.30\"/>\n",
       "    <defs>\n",
       "      <mask id=\"mask-dca2b4b0-7b74-4c24-81a6-c4ed8badcef8\">\n",
       "        <rect x=\"-0.62\" y=\"-4.68\" width=\"34.32\" height=\"9.37\" fill=\"white\"/>\n",
       "        <g fill=\"black\">\n",
       "          <ellipse cx=\"28.49\" cy=\"0.41\" rx=\"0.3\" ry=\"0.2\"/>\n",
       "          <circle cx=\"29.44\" cy=\"0.41\" r=\"0.20\"/>\n",
       "          <circle cx=\"32.32\" cy=\"-0.30\" r=\"0.20\"/>\n",
       "          <circle cx=\"31.91\" cy=\"0.41\" r=\"0.20\"/>\n",
       "          <circle cx=\"30.67\" cy=\"1.13\" r=\"0.20\"/>\n",
       "        </g>\n",
       "        <g font-family=\"monospace\" stroke=\"black\">\n",
       "          <g font-family=\"sans-serif\" font-size=\"0.50\" stroke-width=\"0.05\">\n",
       "            <text x=\"28.61\" y=\"0.41\" dx=\"-0.35\" dy=\"0.20\">Si</text>\n",
       "            <text x=\"29.44\" y=\"0.41\" dx=\"-0.20\" dy=\"0.20\">O</text>\n",
       "            <text x=\"32.32\" y=\"-0.30\" dx=\"-0.20\" dy=\"0.20\">N</text>\n",
       "            <text x=\"31.91\" y=\"0.41\" dx=\"-0.20\" dy=\"0.20\">NH</text>\n",
       "            <text x=\"30.67\" y=\"1.13\" dx=\"-0.20\" dy=\"0.20\">O</text>\n",
       "          </g>\n",
       "        </g>\n",
       "      </mask>\n",
       "    </defs>\n",
       "    <g fill=\"none\" stroke=\"black\" stroke-width=\"0.04\" mask=\"url(#mask-dca2b4b0-7b74-4c24-81a6-c4ed8badcef8)\">\n",
       "      <line x1=\"29.44\" y1=\"1.24\" x2=\"28.61\" y2=\"1.24\"/>\n",
       "      <line x1=\"28.61\" y1=\"1.24\" x2=\"28.61\" y2=\"2.06\"/>\n",
       "      <line x1=\"28.61\" y1=\"1.24\" x2=\"27.84\" y2=\"1.52\"/>\n",
       "      <line x1=\"28.61\" y1=\"1.24\" x2=\"28.61\" y2=\"0.41\"/>\n",
       "      <line x1=\"28.61\" y1=\"0.41\" x2=\"29.44\" y2=\"0.41\"/>\n",
       "      <line x1=\"28.61\" y1=\"0.41\" x2=\"27.79\" y2=\"0.41\"/>\n",
       "      <line x1=\"28.61\" y1=\"0.41\" x2=\"28.61\" y2=\"-0.41\"/>\n",
       "      <line x1=\"29.44\" y1=\"0.41\" x2=\"29.85\" y2=\"-0.30\"/>\n",
       "      <line x1=\"29.85\" y1=\"-0.30\" x2=\"30.67\" y2=\"-0.30\"/>\n",
       "      <line x1=\"30.62\" y1=\"-0.33\" x2=\"31.04\" y2=\"-1.05\"/>\n",
       "      <line x1=\"30.73\" y1=\"-0.27\" x2=\"31.14\" y2=\"-0.99\"/>\n",
       "      <line x1=\"30.67\" y1=\"-0.30\" x2=\"31.09\" y2=\"0.41\"/>\n",
       "      <line x1=\"31.09\" y1=\"-1.02\" x2=\"31.91\" y2=\"-1.02\"/>\n",
       "      <line x1=\"31.96\" y1=\"-1.05\" x2=\"32.38\" y2=\"-0.33\"/>\n",
       "      <line x1=\"31.86\" y1=\"-0.99\" x2=\"32.27\" y2=\"-0.27\"/>\n",
       "      <line x1=\"32.32\" y1=\"-0.30\" x2=\"31.91\" y2=\"0.41\"/>\n",
       "      <line x1=\"31.91\" y1=\"0.41\" x2=\"31.09\" y2=\"0.41\"/>\n",
       "      <line x1=\"31.14\" y1=\"0.44\" x2=\"30.73\" y2=\"1.16\"/>\n",
       "      <line x1=\"31.04\" y1=\"0.38\" x2=\"30.62\" y2=\"1.10\"/>\n",
       "      <line x1=\"27.79\" y1=\"0.41\" x2=\"27.37\" y2=\"1.13\"/>\n",
       "      <line x1=\"27.79\" y1=\"0.41\" x2=\"27.37\" y2=\"-0.30\"/>\n",
       "      <line x1=\"27.37\" y1=\"1.13\" x2=\"26.55\" y2=\"1.13\"/>\n",
       "      <line x1=\"26.55\" y1=\"1.13\" x2=\"26.14\" y2=\"0.41\"/>\n",
       "      <line x1=\"26.14\" y1=\"0.41\" x2=\"26.55\" y2=\"-0.30\"/>\n",
       "      <line x1=\"26.55\" y1=\"-0.30\" x2=\"27.37\" y2=\"-0.30\"/>\n",
       "      <line x1=\"28.61\" y1=\"-0.41\" x2=\"29.33\" y2=\"-0.83\"/>\n",
       "      <line x1=\"28.61\" y1=\"-0.41\" x2=\"27.90\" y2=\"-0.82\"/>\n",
       "      <line x1=\"29.33\" y1=\"-0.83\" x2=\"29.33\" y2=\"-1.65\"/>\n",
       "      <line x1=\"29.33\" y1=\"-1.65\" x2=\"28.61\" y2=\"-2.06\"/>\n",
       "      <line x1=\"28.61\" y1=\"-2.06\" x2=\"27.90\" y2=\"-1.65\"/>\n",
       "      <line x1=\"27.90\" y1=\"-1.65\" x2=\"27.90\" y2=\"-0.82\"/>\n",
       "      <line x1=\"28.61\" y1=\"-0.57\" x2=\"29.19\" y2=\"-0.91\" stroke-dasharray=\"0.15 0.05\"/>\n",
       "      <line x1=\"29.19\" y1=\"-0.91\" x2=\"29.19\" y2=\"-1.57\" stroke-dasharray=\"0.15 0.05\"/>\n",
       "      <line x1=\"29.19\" y1=\"-1.57\" x2=\"28.61\" y2=\"-1.90\" stroke-dasharray=\"0.15 0.05\"/>\n",
       "      <line x1=\"28.61\" y1=\"-1.90\" x2=\"28.04\" y2=\"-1.57\" stroke-dasharray=\"0.15 0.05\"/>\n",
       "      <line x1=\"28.04\" y1=\"-1.57\" x2=\"28.04\" y2=\"-0.91\" stroke-dasharray=\"0.15 0.05\"/>\n",
       "      <line x1=\"28.04\" y1=\"-0.91\" x2=\"28.61\" y2=\"-0.57\" stroke-dasharray=\"0.15 0.05\"/>\n",
       "      <line x1=\"27.63\" y1=\"0.41\" x2=\"27.29\" y2=\"0.99\" stroke-dasharray=\"0.15 0.05\"/>\n",
       "      <line x1=\"27.29\" y1=\"0.99\" x2=\"26.63\" y2=\"0.99\" stroke-dasharray=\"0.15 0.05\"/>\n",
       "      <line x1=\"26.63\" y1=\"0.99\" x2=\"26.30\" y2=\"0.41\" stroke-dasharray=\"0.15 0.05\"/>\n",
       "      <line x1=\"26.30\" y1=\"0.41\" x2=\"26.63\" y2=\"-0.16\" stroke-dasharray=\"0.15 0.05\"/>\n",
       "      <line x1=\"26.63\" y1=\"-0.16\" x2=\"27.29\" y2=\"-0.16\" stroke-dasharray=\"0.15 0.05\"/>\n",
       "      <line x1=\"27.29\" y1=\"-0.16\" x2=\"27.63\" y2=\"0.41\" stroke-dasharray=\"0.15 0.05\"/>\n",
       "    </g>\n",
       "    <g font-family=\"monospace\">\n",
       "      <g fill=\"#F0C8A0\" font-family=\"sans-serif\">\n",
       "        <text x=\"28.61\" y=\"0.41\" dx=\"-0.35\" dy=\"0.20\" font-size=\"0.50\">Si</text>\n",
       "      </g>\n",
       "      <g fill=\"#FF0D0D\" font-family=\"sans-serif\">\n",
       "        <text x=\"29.44\" y=\"0.41\" dx=\"-0.20\" dy=\"0.20\" font-size=\"0.50\">O</text>\n",
       "      </g>\n",
       "      <g fill=\"#3050F8\" font-family=\"sans-serif\">\n",
       "        <text x=\"32.32\" y=\"-0.30\" dx=\"-0.20\" dy=\"0.20\" font-size=\"0.50\">N</text>\n",
       "      </g>\n",
       "      <g fill=\"#3050F8\" font-family=\"sans-serif\">\n",
       "        <text x=\"31.91\" y=\"0.41\" dx=\"-0.20\" dy=\"0.20\" font-size=\"0.50\">NH</text>\n",
       "      </g>\n",
       "      <g fill=\"#FF0D0D\" font-family=\"sans-serif\">\n",
       "        <text x=\"30.67\" y=\"1.13\" dx=\"-0.20\" dy=\"0.20\" font-size=\"0.50\">O</text>\n",
       "      </g>\n",
       "    </g>\n",
       "  </g>\n",
       "</svg>"
      ],
      "text/plain": [
       "<IPython.core.display.SVG object>"
      ]
     },
     "metadata": {},
     "output_type": "display_data"
    },
    {
     "name": "stdout",
     "output_type": "stream",
     "text": [
      "-------- Path starts from node #28 with total path score 0.015391617872701178 --------\n"
     ]
    },
    {
     "data": {
      "image/svg+xml": [
       "<svg xmlns=\"http://www.w3.org/2000/svg\" width=\"20.08cm\" height=\"5.62cm\" viewBox=\"-0.62 -4.68 33.47 9.37\" version=\"1.1\">\n",
       "  <defs>\n",
       "    <marker id=\"arrow\" markerWidth=\"10\" markerHeight=\"10\" refX=\"0\" refY=\"3\" orient=\"auto\">\n",
       "      <path d=\"M0,0 L0,6 L9,3\"/>\n",
       "    </marker>\n",
       "  </defs>\n",
       "  <polyline points=\"21.28 -2.57, 22.62 -2.57, 22.62 0.00, 24.28 0.00\" fill=\"none\" stroke=\"black\" stroke-width=\".04\" marker-end=\"url(#arrow)\"/>  <circle cx=\"22.61621753608322\" cy=\"-2.571706344617433\" r=\"0.1\"/>\n",
       "  <polyline points=\"19.22 2.74, 22.62 2.74, 22.62 0.00, 24.28 0.00\" fill=\"none\" stroke=\"black\" stroke-width=\".04\" marker-end=\"url(#arrow)\"/>  <circle cx=\"22.61621753608322\" cy=\"2.737499999999875\" r=\"0.1\"/>\n",
       "  <polyline points=\"11.33 0.00, 12.67 0.00, 12.67 2.74, 14.33 2.74\" fill=\"none\" stroke=\"black\" stroke-width=\".04\" marker-end=\"url(#arrow)\"/>  <circle cx=\"12.66621753608372\" cy=\"0.0\" r=\"0.1\"/>\n",
       "  <polyline points=\"2.24 -2.53, 5.19 -2.53, 5.19 0.00, 6.86 0.00\" fill=\"none\" stroke=\"black\" stroke-width=\".04\" marker-end=\"url(#arrow)\"/>  <circle cx=\"5.191217536084715\" cy=\"-2.5312499198357257\" r=\"0.1\"/>\n",
       "  <polyline points=\"3.86 2.21, 5.19 2.21, 5.19 0.00, 6.86 0.00\" fill=\"none\" stroke=\"black\" stroke-width=\".04\" marker-end=\"url(#arrow)\"/>  <circle cx=\"5.191217536084715\" cy=\"2.2144709581221615\" r=\"0.1\"/>\n",
       "  <g>\n",
       "<rect x=\"-0.6\" y=\"0.7332210382864359\" rx=\"0.2962499839671452\" ry=\"0.2962499839671452\" width=\"4.357884202751382\" height=\"2.9624998396714517\" stroke=\"black\" stroke-width=\".0025\" fill=\"#9BFAB3\" fill-opacity=\"0.30\"/>\n",
       "    <defs>\n",
       "      <mask id=\"mask-ddf524ee-f55f-426f-a55d-ca64f945552d\">\n",
       "        <rect x=\"-0.62\" y=\"-4.68\" width=\"33.47\" height=\"9.37\" fill=\"white\"/>\n",
       "        <g fill=\"black\">\n",
       "          <circle cx=\"2.86\" cy=\"2.83\" r=\"0.20\"/>\n",
       "          <circle cx=\"2.14\" cy=\"3.25\" r=\"0.20\"/>\n",
       "          <circle cx=\"0.71\" cy=\"3.25\" r=\"0.20\"/>\n",
       "          <circle cx=\"0.00\" cy=\"1.18\" r=\"0.20\"/>\n",
       "        </g>\n",
       "        <g font-family=\"monospace\" stroke=\"black\">\n",
       "          <g font-family=\"sans-serif\" font-size=\"0.50\" stroke-width=\"0.05\">\n",
       "            <text x=\"2.86\" y=\"2.83\" dx=\"-0.20\" dy=\"0.20\">N</text>\n",
       "            <text x=\"2.14\" y=\"3.25\" dx=\"-0.20\" dy=\"0.20\">NH</text>\n",
       "            <text x=\"0.71\" y=\"3.25\" dx=\"-0.20\" dy=\"0.20\">O</text>\n",
       "            <text x=\"0.00\" y=\"1.18\" dx=\"-0.20\" dy=\"0.20\">N</text>\n",
       "          </g>\n",
       "        </g>\n",
       "      </mask>\n",
       "    </defs>\n",
       "    <g fill=\"none\" stroke=\"black\" stroke-width=\"0.04\" mask=\"url(#mask-ddf524ee-f55f-426f-a55d-ca64f945552d)\">\n",
       "      <line x1=\"1.43\" y1=\"2.01\" x2=\"0.71\" y2=\"1.60\"/>\n",
       "      <line x1=\"1.40\" y1=\"1.96\" x2=\"2.11\" y2=\"1.54\"/>\n",
       "      <line x1=\"1.46\" y1=\"2.06\" x2=\"2.17\" y2=\"1.65\"/>\n",
       "      <line x1=\"1.43\" y1=\"2.01\" x2=\"1.43\" y2=\"2.83\"/>\n",
       "      <line x1=\"0.65\" y1=\"1.71\" x2=\"-0.06\" y2=\"1.30\"/>\n",
       "      <line x1=\"0.71\" y1=\"1.60\" x2=\"0.00\" y2=\"1.18\"/>\n",
       "      <line x1=\"0.78\" y1=\"1.48\" x2=\"0.06\" y2=\"1.07\"/>\n",
       "      <line x1=\"2.14\" y1=\"1.60\" x2=\"2.86\" y2=\"2.01\"/>\n",
       "      <line x1=\"2.92\" y1=\"2.01\" x2=\"2.92\" y2=\"2.83\"/>\n",
       "      <line x1=\"2.80\" y1=\"2.01\" x2=\"2.80\" y2=\"2.83\"/>\n",
       "      <line x1=\"2.86\" y1=\"2.83\" x2=\"2.14\" y2=\"3.25\"/>\n",
       "      <line x1=\"2.14\" y1=\"3.25\" x2=\"1.43\" y2=\"2.83\"/>\n",
       "      <line x1=\"1.46\" y1=\"2.89\" x2=\"0.74\" y2=\"3.30\"/>\n",
       "      <line x1=\"1.40\" y1=\"2.78\" x2=\"0.68\" y2=\"3.19\"/>\n",
       "    </g>\n",
       "    <g font-family=\"monospace\">\n",
       "      <g fill=\"#3050F8\" font-family=\"sans-serif\">\n",
       "        <text x=\"2.86\" y=\"2.83\" dx=\"-0.20\" dy=\"0.20\" font-size=\"0.50\">N</text>\n",
       "      </g>\n",
       "      <g fill=\"#3050F8\" font-family=\"sans-serif\">\n",
       "        <text x=\"2.14\" y=\"3.25\" dx=\"-0.20\" dy=\"0.20\" font-size=\"0.50\">NH</text>\n",
       "      </g>\n",
       "      <g fill=\"#FF0D0D\" font-family=\"sans-serif\">\n",
       "        <text x=\"0.71\" y=\"3.25\" dx=\"-0.20\" dy=\"0.20\" font-size=\"0.50\">O</text>\n",
       "      </g>\n",
       "      <g fill=\"#3050F8\" font-family=\"sans-serif\">\n",
       "        <text x=\"0.00\" y=\"1.18\" dx=\"-0.20\" dy=\"0.20\" font-size=\"0.50\">N</text>\n",
       "      </g>\n",
       "    </g>\n",
       "  </g>\n",
       "  <g>\n",
       "<rect x=\"-0.6\" y=\"-3.6957208779578874\" rx=\"0.23289419162443237\" ry=\"0.23289419162443237\" width=\"2.7375000000000003\" height=\"2.3289419162443235\" stroke=\"black\" stroke-width=\".0025\" fill=\"#9BFAB3\" fill-opacity=\"0.30\"/>\n",
       "    <defs>\n",
       "      <mask id=\"mask-4d59d788-d581-4d0c-ad42-ecb2692ef749\">\n",
       "        <rect x=\"-0.62\" y=\"-4.68\" width=\"33.47\" height=\"9.37\" fill=\"white\"/>\n",
       "        <g fill=\"black\">\n",
       "          <circle cx=\"1.24\" cy=\"-1.82\" r=\"0.20\"/>\n",
       "          <circle cx=\"1.24\" cy=\"-3.25\" r=\"0.20\"/>\n",
       "        </g>\n",
       "        <g font-family=\"monospace\" stroke=\"black\">\n",
       "          <g font-family=\"sans-serif\" font-size=\"0.50\" stroke-width=\"0.05\">\n",
       "            <text x=\"1.24\" y=\"-1.82\" dx=\"-0.20\" dy=\"0.20\">OH</text>\n",
       "            <text x=\"1.24\" y=\"-3.25\" dx=\"-0.20\" dy=\"0.20\">O</text>\n",
       "          </g>\n",
       "        </g>\n",
       "      </mask>\n",
       "    </defs>\n",
       "    <g fill=\"none\" stroke=\"black\" stroke-width=\"0.04\" mask=\"url(#mask-4d59d788-d581-4d0c-ad42-ecb2692ef749)\">\n",
       "      <line x1=\"1.29\" y1=\"-3.22\" x2=\"0.88\" y2=\"-2.50\"/>\n",
       "      <line x1=\"1.19\" y1=\"-3.28\" x2=\"0.77\" y2=\"-2.56\"/>\n",
       "      <line x1=\"0.82\" y1=\"-2.53\" x2=\"1.24\" y2=\"-1.82\"/>\n",
       "      <line x1=\"0.82\" y1=\"-2.53\" x2=\"0.00\" y2=\"-2.53\"/>\n",
       "    </g>\n",
       "    <g font-family=\"monospace\">\n",
       "      <g fill=\"#FF0D0D\" font-family=\"sans-serif\">\n",
       "        <text x=\"1.24\" y=\"-1.82\" dx=\"-0.20\" dy=\"0.20\" font-size=\"0.50\">OH</text>\n",
       "      </g>\n",
       "      <g fill=\"#FF0D0D\" font-family=\"sans-serif\">\n",
       "        <text x=\"1.24\" y=\"-3.25\" dx=\"-0.20\" dy=\"0.20\" font-size=\"0.50\">O</text>\n",
       "      </g>\n",
       "    </g>\n",
       "  </g>\n",
       "  <g>\n",
       "<rect x=\"7.257884202751383\" y=\"-1.8789417814389966\" rx=\"0.37578835628779933\" ry=\"0.37578835628779933\" width=\"3.974999999999003\" height=\"3.757883562877993\" stroke=\"black\" stroke-width=\".0025\" fill=\"#F0AB90\" fill-opacity=\"0.30\"/>\n",
       "    <defs>\n",
       "      <mask id=\"mask-a7b71281-8c84-4645-b7e5-0760385785cf\">\n",
       "        <rect x=\"-0.62\" y=\"-4.68\" width=\"33.47\" height=\"9.37\" fill=\"white\"/>\n",
       "        <g fill=\"black\">\n",
       "          <circle cx=\"9.10\" cy=\"-1.43\" r=\"0.20\"/>\n",
       "          <circle cx=\"9.92\" cy=\"1.43\" r=\"0.20\"/>\n",
       "          <circle cx=\"9.10\" cy=\"1.43\" r=\"0.20\"/>\n",
       "          <circle cx=\"7.86\" cy=\"0.71\" r=\"0.20\"/>\n",
       "          <circle cx=\"7.86\" cy=\"-0.71\" r=\"0.20\"/>\n",
       "        </g>\n",
       "        <g font-family=\"monospace\" stroke=\"black\">\n",
       "          <g font-family=\"sans-serif\" font-size=\"0.50\" stroke-width=\"0.05\">\n",
       "            <text x=\"9.10\" y=\"-1.43\" dx=\"-0.20\" dy=\"0.20\">OH</text>\n",
       "            <text x=\"9.92\" y=\"1.43\" dx=\"-0.20\" dy=\"0.20\">N</text>\n",
       "            <text x=\"9.10\" y=\"1.43\" dx=\"-0.20\" dy=\"0.20\">NH</text>\n",
       "            <text x=\"7.86\" y=\"0.71\" dx=\"-0.20\" dy=\"0.20\">O</text>\n",
       "            <text x=\"7.86\" y=\"-0.71\" dx=\"-0.20\" dy=\"0.20\">O</text>\n",
       "          </g>\n",
       "        </g>\n",
       "      </mask>\n",
       "    </defs>\n",
       "    <g fill=\"none\" stroke=\"black\" stroke-width=\"0.04\" mask=\"url(#mask-a7b71281-8c84-4645-b7e5-0760385785cf)\">\n",
       "      <line x1=\"9.10\" y1=\"-0.00\" x2=\"8.68\" y2=\"-0.71\"/>\n",
       "      <line x1=\"9.10\" y1=\"-0.06\" x2=\"9.92\" y2=\"-0.06\"/>\n",
       "      <line x1=\"9.10\" y1=\"0.06\" x2=\"9.92\" y2=\"0.06\"/>\n",
       "      <line x1=\"9.10\" y1=\"-0.00\" x2=\"8.68\" y2=\"0.71\"/>\n",
       "      <line x1=\"8.68\" y1=\"-0.65\" x2=\"7.86\" y2=\"-0.65\"/>\n",
       "      <line x1=\"8.68\" y1=\"-0.77\" x2=\"7.86\" y2=\"-0.77\"/>\n",
       "      <line x1=\"8.68\" y1=\"-0.71\" x2=\"9.10\" y2=\"-1.43\"/>\n",
       "      <line x1=\"9.92\" y1=\"-0.00\" x2=\"10.33\" y2=\"0.71\"/>\n",
       "      <line x1=\"10.38\" y1=\"0.74\" x2=\"9.97\" y2=\"1.46\"/>\n",
       "      <line x1=\"10.28\" y1=\"0.68\" x2=\"9.87\" y2=\"1.40\"/>\n",
       "      <line x1=\"9.92\" y1=\"1.43\" x2=\"9.10\" y2=\"1.43\"/>\n",
       "      <line x1=\"9.10\" y1=\"1.43\" x2=\"8.68\" y2=\"0.71\"/>\n",
       "      <line x1=\"8.68\" y1=\"0.77\" x2=\"7.86\" y2=\"0.77\"/>\n",
       "      <line x1=\"8.68\" y1=\"0.65\" x2=\"7.86\" y2=\"0.65\"/>\n",
       "    </g>\n",
       "    <g font-family=\"monospace\">\n",
       "      <g fill=\"#FF0D0D\" font-family=\"sans-serif\">\n",
       "        <text x=\"9.10\" y=\"-1.43\" dx=\"-0.20\" dy=\"0.20\" font-size=\"0.50\">OH</text>\n",
       "      </g>\n",
       "      <g fill=\"#3050F8\" font-family=\"sans-serif\">\n",
       "        <text x=\"9.92\" y=\"1.43\" dx=\"-0.20\" dy=\"0.20\" font-size=\"0.50\">N</text>\n",
       "      </g>\n",
       "      <g fill=\"#3050F8\" font-family=\"sans-serif\">\n",
       "        <text x=\"9.10\" y=\"1.43\" dx=\"-0.20\" dy=\"0.20\" font-size=\"0.50\">NH</text>\n",
       "      </g>\n",
       "      <g fill=\"#FF0D0D\" font-family=\"sans-serif\">\n",
       "        <text x=\"7.86\" y=\"0.71\" dx=\"-0.20\" dy=\"0.20\" font-size=\"0.50\">O</text>\n",
       "      </g>\n",
       "      <g fill=\"#FF0D0D\" font-family=\"sans-serif\">\n",
       "        <text x=\"7.86\" y=\"-0.71\" dx=\"-0.20\" dy=\"0.20\" font-size=\"0.50\">O</text>\n",
       "      </g>\n",
       "    </g>\n",
       "  </g>\n",
       "  <g>\n",
       "<rect x=\"14.732884202750384\" y=\"1.2157936553824424\" rx=\"0.30434126892348656\" ry=\"0.30434126892348656\" width=\"4.387500320656702\" height=\"3.0434126892348656\" stroke=\"black\" stroke-width=\".0025\" fill=\"#F0AB90\" fill-opacity=\"0.30\"/>\n",
       "    <defs>\n",
       "      <mask id=\"mask-b1be6b24-07a4-41e6-9630-c6eb2f58d1e1\">\n",
       "        <rect x=\"-0.62\" y=\"-4.68\" width=\"33.47\" height=\"9.37\" fill=\"white\"/>\n",
       "        <g fill=\"black\">\n",
       "          <circle cx=\"18.22\" cy=\"2.38\" r=\"0.20\"/>\n",
       "          <circle cx=\"15.33\" cy=\"3.09\" r=\"0.20\"/>\n",
       "          <circle cx=\"15.75\" cy=\"2.38\" r=\"0.20\"/>\n",
       "          <circle cx=\"16.98\" cy=\"1.67\" r=\"0.20\"/>\n",
       "        </g>\n",
       "        <g font-family=\"monospace\" stroke=\"black\">\n",
       "          <g font-family=\"sans-serif\" font-size=\"0.50\" stroke-width=\"0.05\">\n",
       "            <text x=\"18.22\" y=\"2.38\" dx=\"-0.20\" dy=\"0.20\">OH</text>\n",
       "            <text x=\"15.33\" y=\"3.09\" dx=\"-0.20\" dy=\"0.20\">N</text>\n",
       "            <text x=\"15.75\" y=\"2.38\" dx=\"-0.20\" dy=\"0.20\">NH</text>\n",
       "            <text x=\"16.98\" y=\"1.67\" dx=\"-0.20\" dy=\"0.20\">O</text>\n",
       "          </g>\n",
       "        </g>\n",
       "      </mask>\n",
       "    </defs>\n",
       "    <g fill=\"none\" stroke=\"black\" stroke-width=\"0.04\" mask=\"url(#mask-b1be6b24-07a4-41e6-9630-c6eb2f58d1e1)\">\n",
       "      <line x1=\"17.81\" y1=\"3.09\" x2=\"18.22\" y2=\"2.38\"/>\n",
       "      <line x1=\"17.81\" y1=\"3.09\" x2=\"16.98\" y2=\"3.09\"/>\n",
       "      <line x1=\"17.03\" y1=\"3.12\" x2=\"16.62\" y2=\"3.84\"/>\n",
       "      <line x1=\"16.93\" y1=\"3.06\" x2=\"16.52\" y2=\"3.78\"/>\n",
       "      <line x1=\"16.98\" y1=\"3.09\" x2=\"16.57\" y2=\"2.38\"/>\n",
       "      <line x1=\"16.57\" y1=\"3.81\" x2=\"15.75\" y2=\"3.81\"/>\n",
       "      <line x1=\"15.69\" y1=\"3.84\" x2=\"15.28\" y2=\"3.12\"/>\n",
       "      <line x1=\"15.80\" y1=\"3.78\" x2=\"15.38\" y2=\"3.06\"/>\n",
       "      <line x1=\"15.33\" y1=\"3.09\" x2=\"15.75\" y2=\"2.38\"/>\n",
       "      <line x1=\"15.75\" y1=\"2.38\" x2=\"16.57\" y2=\"2.38\"/>\n",
       "      <line x1=\"16.52\" y1=\"2.35\" x2=\"16.93\" y2=\"1.64\"/>\n",
       "      <line x1=\"16.62\" y1=\"2.41\" x2=\"17.03\" y2=\"1.70\"/>\n",
       "    </g>\n",
       "    <g font-family=\"monospace\">\n",
       "      <g fill=\"#FF0D0D\" font-family=\"sans-serif\">\n",
       "        <text x=\"18.22\" y=\"2.38\" dx=\"-0.20\" dy=\"0.20\" font-size=\"0.50\">OH</text>\n",
       "      </g>\n",
       "      <g fill=\"#3050F8\" font-family=\"sans-serif\">\n",
       "        <text x=\"15.33\" y=\"3.09\" dx=\"-0.20\" dy=\"0.20\" font-size=\"0.50\">N</text>\n",
       "      </g>\n",
       "      <g fill=\"#3050F8\" font-family=\"sans-serif\">\n",
       "        <text x=\"15.75\" y=\"2.38\" dx=\"-0.20\" dy=\"0.20\" font-size=\"0.50\">NH</text>\n",
       "      </g>\n",
       "      <g fill=\"#FF0D0D\" font-family=\"sans-serif\">\n",
       "        <text x=\"16.98\" y=\"1.67\" dx=\"-0.20\" dy=\"0.20\" font-size=\"0.50\">O</text>\n",
       "      </g>\n",
       "    </g>\n",
       "  </g>\n",
       "  <g>\n",
       "<rect x=\"14.732884202750386\" y=\"-4.259206344617308\" rx=\"0.33749999999997504\" ry=\"0.33749999999997504\" width=\"6.4499999999995\" height=\"3.3749999999997504\" stroke=\"black\" stroke-width=\".0025\" fill=\"#9BFAB3\" fill-opacity=\"0.30\"/>\n",
       "    <defs>\n",
       "      <mask id=\"mask-454eb794-c099-4362-ae90-b63d75ea00a1\">\n",
       "        <rect x=\"-0.62\" y=\"-4.68\" width=\"33.47\" height=\"9.37\" fill=\"white\"/>\n",
       "        <g fill=\"black\">\n",
       "          <ellipse cx=\"17.68\" cy=\"-2.16\" rx=\"0.3\" ry=\"0.2\"/>\n",
       "          <ellipse cx=\"17.68\" cy=\"-1.33\" rx=\"0.3\" ry=\"0.2\"/>\n",
       "        </g>\n",
       "        <g font-family=\"monospace\" stroke=\"black\">\n",
       "          <g font-family=\"sans-serif\" font-size=\"0.50\" stroke-width=\"0.05\">\n",
       "            <text x=\"17.81\" y=\"-2.16\" dx=\"-0.35\" dy=\"0.20\">Si</text>\n",
       "            <text x=\"17.81\" y=\"-1.33\" dx=\"-0.35\" dy=\"0.20\">Cl</text>\n",
       "          </g>\n",
       "        </g>\n",
       "      </mask>\n",
       "    </defs>\n",
       "    <g fill=\"none\" stroke=\"black\" stroke-width=\"0.04\" mask=\"url(#mask-454eb794-c099-4362-ae90-b63d75ea00a1)\">\n",
       "      <line x1=\"18.63\" y1=\"-2.16\" x2=\"17.81\" y2=\"-2.16\"/>\n",
       "      <line x1=\"18.63\" y1=\"-2.16\" x2=\"19.05\" y2=\"-2.87\"/>\n",
       "      <line x1=\"18.63\" y1=\"-2.16\" x2=\"19.05\" y2=\"-1.44\"/>\n",
       "      <line x1=\"17.81\" y1=\"-2.16\" x2=\"16.98\" y2=\"-2.16\"/>\n",
       "      <line x1=\"17.81\" y1=\"-2.16\" x2=\"17.81\" y2=\"-1.33\"/>\n",
       "      <line x1=\"17.81\" y1=\"-2.16\" x2=\"17.81\" y2=\"-2.98\"/>\n",
       "      <line x1=\"16.98\" y1=\"-2.16\" x2=\"16.57\" y2=\"-2.87\"/>\n",
       "      <line x1=\"16.98\" y1=\"-2.16\" x2=\"16.57\" y2=\"-1.44\"/>\n",
       "      <line x1=\"17.81\" y1=\"-2.98\" x2=\"18.58\" y2=\"-3.27\"/>\n",
       "      <line x1=\"17.81\" y1=\"-2.98\" x2=\"17.03\" y2=\"-3.27\"/>\n",
       "      <line x1=\"17.81\" y1=\"-2.98\" x2=\"17.81\" y2=\"-3.81\"/>\n",
       "      <line x1=\"16.57\" y1=\"-2.87\" x2=\"15.75\" y2=\"-2.87\"/>\n",
       "      <line x1=\"15.75\" y1=\"-2.87\" x2=\"15.33\" y2=\"-2.16\"/>\n",
       "      <line x1=\"15.33\" y1=\"-2.16\" x2=\"15.75\" y2=\"-1.44\"/>\n",
       "      <line x1=\"15.75\" y1=\"-1.44\" x2=\"16.57\" y2=\"-1.44\"/>\n",
       "      <line x1=\"19.05\" y1=\"-2.87\" x2=\"19.87\" y2=\"-2.87\"/>\n",
       "      <line x1=\"19.87\" y1=\"-2.87\" x2=\"20.28\" y2=\"-2.16\"/>\n",
       "      <line x1=\"20.28\" y1=\"-2.16\" x2=\"19.87\" y2=\"-1.44\"/>\n",
       "      <line x1=\"19.87\" y1=\"-1.44\" x2=\"19.05\" y2=\"-1.44\"/>\n",
       "      <line x1=\"18.79\" y1=\"-2.16\" x2=\"19.13\" y2=\"-2.73\" stroke-dasharray=\"0.15 0.05\"/>\n",
       "      <line x1=\"19.13\" y1=\"-2.73\" x2=\"19.79\" y2=\"-2.73\" stroke-dasharray=\"0.15 0.05\"/>\n",
       "      <line x1=\"19.79\" y1=\"-2.73\" x2=\"20.12\" y2=\"-2.16\" stroke-dasharray=\"0.15 0.05\"/>\n",
       "      <line x1=\"20.12\" y1=\"-2.16\" x2=\"19.79\" y2=\"-1.58\" stroke-dasharray=\"0.15 0.05\"/>\n",
       "      <line x1=\"19.79\" y1=\"-1.58\" x2=\"19.13\" y2=\"-1.58\" stroke-dasharray=\"0.15 0.05\"/>\n",
       "      <line x1=\"19.13\" y1=\"-1.58\" x2=\"18.79\" y2=\"-2.16\" stroke-dasharray=\"0.15 0.05\"/>\n",
       "      <line x1=\"16.82\" y1=\"-2.16\" x2=\"16.49\" y2=\"-2.73\" stroke-dasharray=\"0.15 0.05\"/>\n",
       "      <line x1=\"16.49\" y1=\"-2.73\" x2=\"15.83\" y2=\"-2.73\" stroke-dasharray=\"0.15 0.05\"/>\n",
       "      <line x1=\"15.83\" y1=\"-2.73\" x2=\"15.49\" y2=\"-2.16\" stroke-dasharray=\"0.15 0.05\"/>\n",
       "      <line x1=\"15.49\" y1=\"-2.16\" x2=\"15.83\" y2=\"-1.58\" stroke-dasharray=\"0.15 0.05\"/>\n",
       "      <line x1=\"15.83\" y1=\"-1.58\" x2=\"16.49\" y2=\"-1.58\" stroke-dasharray=\"0.15 0.05\"/>\n",
       "      <line x1=\"16.49\" y1=\"-1.58\" x2=\"16.82\" y2=\"-2.16\" stroke-dasharray=\"0.15 0.05\"/>\n",
       "    </g>\n",
       "    <g font-family=\"monospace\">\n",
       "      <g fill=\"#F0C8A0\" font-family=\"sans-serif\">\n",
       "        <text x=\"17.81\" y=\"-2.16\" dx=\"-0.35\" dy=\"0.20\" font-size=\"0.50\">Si</text>\n",
       "      </g>\n",
       "      <g fill=\"#1FF01F\" font-family=\"sans-serif\">\n",
       "        <text x=\"17.81\" y=\"-1.33\" dx=\"-0.35\" dy=\"0.20\" font-size=\"0.50\">Cl</text>\n",
       "      </g>\n",
       "    </g>\n",
       "  </g>\n",
       "  <g>\n",
       "<rect x=\"24.68288420274989\" y=\"-2.5124999999997923\" rx=\"0.5024999999999585\" ry=\"0.5024999999999585\" width=\"7.687500320656369\" height=\"5.024999999999585\" stroke=\"black\" stroke-width=\".0025\" fill=\"#98EEFF\" fill-opacity=\"0.30\"/>\n",
       "    <defs>\n",
       "      <mask id=\"mask-3990d42b-4711-4d9c-a7b4-4af521b65717\">\n",
       "        <rect x=\"-0.62\" y=\"-4.68\" width=\"33.47\" height=\"9.37\" fill=\"white\"/>\n",
       "        <g fill=\"black\">\n",
       "          <ellipse cx=\"28.87\" cy=\"-0.41\" rx=\"0.3\" ry=\"0.2\"/>\n",
       "          <circle cx=\"28.17\" cy=\"-0.41\" r=\"0.20\"/>\n",
       "          <circle cx=\"25.28\" cy=\"0.30\" r=\"0.20\"/>\n",
       "          <circle cx=\"25.70\" cy=\"1.02\" r=\"0.20\"/>\n",
       "          <circle cx=\"26.93\" cy=\"1.73\" r=\"0.20\"/>\n",
       "        </g>\n",
       "        <g font-family=\"monospace\" stroke=\"black\">\n",
       "          <g font-family=\"sans-serif\" font-size=\"0.50\" stroke-width=\"0.05\">\n",
       "            <text x=\"29.00\" y=\"-0.41\" dx=\"-0.35\" dy=\"0.20\">Si</text>\n",
       "            <text x=\"28.17\" y=\"-0.41\" dx=\"-0.20\" dy=\"0.20\">O</text>\n",
       "            <text x=\"25.28\" y=\"0.30\" dx=\"-0.20\" dy=\"0.20\">N</text>\n",
       "            <text x=\"25.70\" y=\"1.02\" dx=\"-0.20\" dy=\"0.20\">NH</text>\n",
       "            <text x=\"26.93\" y=\"1.73\" dx=\"-0.20\" dy=\"0.20\">O</text>\n",
       "          </g>\n",
       "        </g>\n",
       "      </mask>\n",
       "    </defs>\n",
       "    <g fill=\"none\" stroke=\"black\" stroke-width=\"0.04\" mask=\"url(#mask-3990d42b-4711-4d9c-a7b4-4af521b65717)\">\n",
       "      <line x1=\"29.00\" y1=\"-2.06\" x2=\"29.00\" y2=\"-1.24\"/>\n",
       "      <line x1=\"29.00\" y1=\"-1.24\" x2=\"28.17\" y2=\"-1.24\"/>\n",
       "      <line x1=\"29.00\" y1=\"-1.24\" x2=\"29.77\" y2=\"-1.52\"/>\n",
       "      <line x1=\"29.00\" y1=\"-1.24\" x2=\"29.00\" y2=\"-0.41\"/>\n",
       "      <line x1=\"29.00\" y1=\"-0.41\" x2=\"28.17\" y2=\"-0.41\"/>\n",
       "      <line x1=\"29.00\" y1=\"-0.41\" x2=\"29.82\" y2=\"-0.41\"/>\n",
       "      <line x1=\"29.00\" y1=\"-0.41\" x2=\"29.00\" y2=\"0.41\"/>\n",
       "      <line x1=\"28.17\" y1=\"-0.41\" x2=\"27.76\" y2=\"0.30\"/>\n",
       "      <line x1=\"27.76\" y1=\"0.30\" x2=\"26.93\" y2=\"0.30\"/>\n",
       "      <line x1=\"26.88\" y1=\"0.33\" x2=\"26.47\" y2=\"-0.38\"/>\n",
       "      <line x1=\"26.98\" y1=\"0.27\" x2=\"26.57\" y2=\"-0.44\"/>\n",
       "      <line x1=\"26.93\" y1=\"0.30\" x2=\"26.52\" y2=\"1.02\"/>\n",
       "      <line x1=\"26.52\" y1=\"-0.41\" x2=\"25.70\" y2=\"-0.41\"/>\n",
       "      <line x1=\"25.75\" y1=\"-0.38\" x2=\"25.33\" y2=\"0.33\"/>\n",
       "      <line x1=\"25.64\" y1=\"-0.44\" x2=\"25.23\" y2=\"0.27\"/>\n",
       "      <line x1=\"25.28\" y1=\"0.30\" x2=\"25.70\" y2=\"1.02\"/>\n",
       "      <line x1=\"25.70\" y1=\"1.02\" x2=\"26.52\" y2=\"1.02\"/>\n",
       "      <line x1=\"26.57\" y1=\"0.99\" x2=\"26.98\" y2=\"1.70\"/>\n",
       "      <line x1=\"26.47\" y1=\"1.05\" x2=\"26.88\" y2=\"1.76\"/>\n",
       "      <line x1=\"29.82\" y1=\"-0.41\" x2=\"30.23\" y2=\"-1.13\"/>\n",
       "      <line x1=\"29.82\" y1=\"-0.41\" x2=\"30.23\" y2=\"0.30\"/>\n",
       "      <line x1=\"30.23\" y1=\"-1.13\" x2=\"31.06\" y2=\"-1.13\"/>\n",
       "      <line x1=\"31.06\" y1=\"-1.13\" x2=\"31.47\" y2=\"-0.41\"/>\n",
       "      <line x1=\"31.47\" y1=\"-0.41\" x2=\"31.06\" y2=\"0.30\"/>\n",
       "      <line x1=\"31.06\" y1=\"0.30\" x2=\"30.23\" y2=\"0.30\"/>\n",
       "      <line x1=\"29.00\" y1=\"0.41\" x2=\"28.28\" y2=\"0.82\"/>\n",
       "      <line x1=\"29.00\" y1=\"0.41\" x2=\"29.71\" y2=\"0.83\"/>\n",
       "      <line x1=\"28.28\" y1=\"0.82\" x2=\"28.28\" y2=\"1.65\"/>\n",
       "      <line x1=\"28.28\" y1=\"1.65\" x2=\"29.00\" y2=\"2.06\"/>\n",
       "      <line x1=\"29.00\" y1=\"2.06\" x2=\"29.71\" y2=\"1.65\"/>\n",
       "      <line x1=\"29.71\" y1=\"1.65\" x2=\"29.71\" y2=\"0.83\"/>\n",
       "      <line x1=\"29.00\" y1=\"0.57\" x2=\"28.42\" y2=\"0.91\" stroke-dasharray=\"0.15 0.05\"/>\n",
       "      <line x1=\"28.42\" y1=\"0.91\" x2=\"28.42\" y2=\"1.57\" stroke-dasharray=\"0.15 0.05\"/>\n",
       "      <line x1=\"28.42\" y1=\"1.57\" x2=\"29.00\" y2=\"1.90\" stroke-dasharray=\"0.15 0.05\"/>\n",
       "      <line x1=\"29.00\" y1=\"1.90\" x2=\"29.57\" y2=\"1.57\" stroke-dasharray=\"0.15 0.05\"/>\n",
       "      <line x1=\"29.57\" y1=\"1.57\" x2=\"29.57\" y2=\"0.91\" stroke-dasharray=\"0.15 0.05\"/>\n",
       "      <line x1=\"29.57\" y1=\"0.91\" x2=\"29.00\" y2=\"0.57\" stroke-dasharray=\"0.15 0.05\"/>\n",
       "      <line x1=\"29.98\" y1=\"-0.41\" x2=\"30.31\" y2=\"-0.99\" stroke-dasharray=\"0.15 0.05\"/>\n",
       "      <line x1=\"30.31\" y1=\"-0.99\" x2=\"30.98\" y2=\"-0.99\" stroke-dasharray=\"0.15 0.05\"/>\n",
       "      <line x1=\"30.98\" y1=\"-0.99\" x2=\"31.31\" y2=\"-0.41\" stroke-dasharray=\"0.15 0.05\"/>\n",
       "      <line x1=\"31.31\" y1=\"-0.41\" x2=\"30.98\" y2=\"0.16\" stroke-dasharray=\"0.15 0.05\"/>\n",
       "      <line x1=\"30.98\" y1=\"0.16\" x2=\"30.31\" y2=\"0.16\" stroke-dasharray=\"0.15 0.05\"/>\n",
       "      <line x1=\"30.31\" y1=\"0.16\" x2=\"29.98\" y2=\"-0.41\" stroke-dasharray=\"0.15 0.05\"/>\n",
       "    </g>\n",
       "    <g font-family=\"monospace\">\n",
       "      <g fill=\"#F0C8A0\" font-family=\"sans-serif\">\n",
       "        <text x=\"29.00\" y=\"-0.41\" dx=\"-0.35\" dy=\"0.20\" font-size=\"0.50\">Si</text>\n",
       "      </g>\n",
       "      <g fill=\"#FF0D0D\" font-family=\"sans-serif\">\n",
       "        <text x=\"28.17\" y=\"-0.41\" dx=\"-0.20\" dy=\"0.20\" font-size=\"0.50\">O</text>\n",
       "      </g>\n",
       "      <g fill=\"#3050F8\" font-family=\"sans-serif\">\n",
       "        <text x=\"25.28\" y=\"0.30\" dx=\"-0.20\" dy=\"0.20\" font-size=\"0.50\">N</text>\n",
       "      </g>\n",
       "      <g fill=\"#3050F8\" font-family=\"sans-serif\">\n",
       "        <text x=\"25.70\" y=\"1.02\" dx=\"-0.20\" dy=\"0.20\" font-size=\"0.50\">NH</text>\n",
       "      </g>\n",
       "      <g fill=\"#FF0D0D\" font-family=\"sans-serif\">\n",
       "        <text x=\"26.93\" y=\"1.73\" dx=\"-0.20\" dy=\"0.20\" font-size=\"0.50\">O</text>\n",
       "      </g>\n",
       "    </g>\n",
       "  </g>\n",
       "</svg>"
      ],
      "text/plain": [
       "<IPython.core.display.SVG object>"
      ]
     },
     "metadata": {},
     "output_type": "display_data"
    }
   ],
   "source": [
    "for n, node_id in enumerate(tree.winning_nodes):\n",
    "    print(f'-------- Path starts from node #{node_id} with total path score {tree.path_score(node_id)} --------')\n",
    "    display(SVG(get_route_svg(tree, node_id)))\n",
    "    if n == 3:\n",
    "        break"
   ]
  }
 ],
 "metadata": {
  "kernelspec": {
   "display_name": "gsl",
   "language": "python",
   "name": "gsl"
  },
  "language_info": {
   "codemirror_mode": {
    "name": "ipython",
    "version": 3
   },
   "file_extension": ".py",
   "mimetype": "text/x-python",
   "name": "python",
   "nbconvert_exporter": "python",
   "pygments_lexer": "ipython3",
   "version": "3.10.13"
  }
 },
 "nbformat": 4,
 "nbformat_minor": 5
}
