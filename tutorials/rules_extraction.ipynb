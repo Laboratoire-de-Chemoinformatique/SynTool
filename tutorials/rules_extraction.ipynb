{
 "cells": [
  {
   "cell_type": "code",
   "execution_count": 1,
   "id": "69f03f58-fac5-44f4-827c-bf59a18da81b",
   "metadata": {},
   "outputs": [],
   "source": [
    "from Synto.chem.data.filtering import ReactionCheckConfig, filter_reactions\n",
    "from Synto.chem.reaction_rules.extraction import ExtractRuleConfig, extract_rules_from_reactions "
   ]
  },
  {
   "cell_type": "code",
   "execution_count": 2,
   "id": "cb2da387-ef90-4025-b9a6-a239a787cab7",
   "metadata": {},
   "outputs": [],
   "source": [
    "uspto_path = \"uspto.rdf\""
   ]
  },
  {
   "cell_type": "code",
   "execution_count": 3,
   "id": "0cba2e46-7b07-43e5-b449-824b73b540db",
   "metadata": {},
   "outputs": [],
   "source": [
    "config = ReactionCheckConfig()"
   ]
  },
  {
   "cell_type": "code",
   "execution_count": 4,
   "id": "87e2bab0-6742-4392-9342-c722b75e6372",
   "metadata": {},
   "outputs": [
    {
     "data": {
      "text/plain": [
       "{'reaction_database_file_name': 'uspto.rdf',\n",
       " 'result_directory_name': 'filtered_data/',\n",
       " 'output_files_format': 'rdf',\n",
       " 'result_reactions_file_name': 'clean_reactions',\n",
       " 'filtered_reactions_file_name': 'removed_reactions',\n",
       " 'append_results': False,\n",
       " 'num_cpus': 6,\n",
       " 'batch_size': 100,\n",
       " 'min_popularity': 3,\n",
       " 'remove_small_molecules': {'enabled': False,\n",
       "  'number_of_atoms': 6,\n",
       "  'small_molecules_to_meta': True},\n",
       " 'remove_reagents': {'enabled': True,\n",
       "  'keep_reagents': True,\n",
       "  'reagents_max_size': 7},\n",
       " 'rebalance_reaction': {'enabled': False},\n",
       " 'checkers': {'CheckNoReaction': {},\n",
       "  'CheckSmallMolecules': {'limit': 6},\n",
       "  'CheckDynamicBondsNumber': {'min_bonds_number': 1, 'max_bonds_number': 6},\n",
       "  'CheckMultiCenterReaction': {},\n",
       "  'CheckWrongCHBreaking': {},\n",
       "  'CheckCCsp3Breaking': {},\n",
       "  'CheckCCRingBreaking': {}}}"
      ]
     },
     "execution_count": 4,
     "metadata": {},
     "output_type": "execute_result"
    }
   ],
   "source": [
    "config.config[\"reaction_database_path\"] = uspto_path\n",
    "config.config[\"result_directory_name\"] = \"filtered_data/\"\n",
    "config.config['result_reactions_file_name'] = 'clean_reactions'\n",
    "config.config['filtered_reactions_file_name'] = 'removed_reactions'\n",
    "config.config['output_files_format'] = \"rdf\"\n",
    "config.config['num_cpus'] = 6\n",
    "config.config['batch_size'] = 100\n",
    "\n",
    "config.config['checkers'] = {\n",
    "    'CheckNoReaction': {},\n",
    "    'CheckSmallMolecules': {\n",
    "        'limit': 6\n",
    "    },\n",
    "    'CheckDynamicBondsNumber': {\n",
    "        'min_bonds_number': 1,\n",
    "        'max_bonds_number': 6\n",
    "    },\n",
    "    'CheckMultiCenterReaction': {},\n",
    "    'CheckWrongCHBreaking': {},\n",
    "    'CheckCCsp3Breaking': {},\n",
    "    'CheckCCRingBreaking': {}\n",
    "}\n",
    "config.config"
   ]
  },
  {
   "cell_type": "code",
   "execution_count": 5,
   "id": "6d882bd4-1ca0-4a01-b64f-0c0d193c02d7",
   "metadata": {},
   "outputs": [
    {
     "name": "stderr",
     "output_type": "stream",
     "text": [
      "2023-12-10 20:23:29,779\tINFO worker.py:1673 -- Started a local Ray instance.\n",
      "1316600it [1:18:49, 278.35it/s]                                                 \n"
     ]
    }
   ],
   "source": [
    "filter_reactions(config)"
   ]
  },
  {
   "cell_type": "code",
   "execution_count": 6,
   "id": "91dc535a-193f-4045-bf50-11e40f27bfa5",
   "metadata": {},
   "outputs": [
    {
     "data": {
      "text/plain": [
       "<Synto.chem.reaction_rules.extraction.ExtractRuleConfig at 0x7ffa08f5f390>"
      ]
     },
     "execution_count": 6,
     "metadata": {},
     "output_type": "execute_result"
    }
   ],
   "source": [
    "config = ExtractRuleConfig(\n",
    "    reaction_database_path=\"filtered_data/clean_reactions.rdf\",\n",
    "    result_directory_name=\"rules/\",\n",
    "    rules_file_name=\"uspto_rules\",\n",
    "    num_cpus=6,\n",
    "    batch_size=100,\n",
    "    reactor_validation=True,\n",
    "    keep_reagents=False,\n",
    "    keep_metadata=False,\n",
    "    atom_info_retention=\"none\",\n",
    ")\n",
    "config"
   ]
  },
  {
   "cell_type": "code",
   "execution_count": 8,
   "id": "b1c6cfbb-8da5-4c8f-85a0-602b8c8c3f8e",
   "metadata": {},
   "outputs": [
    {
     "name": "stderr",
     "output_type": "stream",
     "text": [
      "2023-12-10 21:42:24,767\tINFO worker.py:1673 -- Started a local Ray instance.\n",
      "1022600it [52:42, 323.33it/s]                                                   \n"
     ]
    }
   ],
   "source": [
    "extract_rules_from_reactions(config)"
   ]
  },
  {
   "cell_type": "code",
   "execution_count": null,
   "id": "b73142db-eb91-4dad-99d6-9d2102b6a270",
   "metadata": {},
   "outputs": [],
   "source": []
  }
 ],
 "metadata": {
  "kernelspec": {
   "display_name": "syntool_env",
   "language": "python",
   "name": "syntool_env"
  },
  "language_info": {
   "codemirror_mode": {
    "name": "ipython",
    "version": 3
   },
   "file_extension": ".py",
   "mimetype": "text/x-python",
   "name": "python",
   "nbconvert_exporter": "python",
   "pygments_lexer": "ipython3",
   "version": "3.11.6"
  }
 },
 "nbformat": 4,
 "nbformat_minor": 5
}
