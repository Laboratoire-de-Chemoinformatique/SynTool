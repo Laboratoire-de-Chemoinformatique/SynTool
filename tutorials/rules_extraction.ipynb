{
 "cells": [
  {
   "cell_type": "code",
   "execution_count": 1,
   "id": "a87dd95f-af3b-4e26-9dbc-a3dc9a304b16",
   "metadata": {},
   "outputs": [],
   "source": [
    "from Synto.chem.reaction_rules.extraction import ExtractRuleConfig, extract_rules_from_reactions"
   ]
  },
  {
   "cell_type": "code",
   "execution_count": 2,
   "id": "91dc535a-193f-4045-bf50-11e40f27bfa5",
   "metadata": {},
   "outputs": [],
   "source": [
    "config = ExtractRuleConfig(\n",
    "    keep_leaving_groups=True,\n",
    "    atom_info_retention={\n",
    "        \"reaction_center\": {\n",
    "            \"neighbors\": True,\n",
    "            \"hybridization\": True,\n",
    "            \"implicit_hydrogens\": False,\n",
    "            \"ring_sizes\": False,\n",
    "        },\n",
    "        \"environment\": {\n",
    "            \"neighbors\": True,\n",
    "            \"hybridization\": False,\n",
    "            \"implicit_hydrogens\": False,\n",
    "            \"ring_sizes\": False,\n",
    "        },\n",
    "    }\n",
    ")"
   ]
  },
  {
   "cell_type": "code",
   "execution_count": 3,
   "id": "76f975f7-a701-4b6d-9f09-0760767aae67",
   "metadata": {},
   "outputs": [
    {
     "data": {
      "text/plain": [
       "ExtractRuleConfig(multicenter_rules=True, as_query_container=True, reverse_rule=True, reactor_validation=True, include_func_groups=False, func_groups_list=[], include_rings=False, keep_leaving_groups=True, keep_incoming_groups=False, keep_reagents=False, environment_atom_count=1, min_popularity=3, keep_metadata=False, single_reactant_only=True, atom_info_retention={'reaction_center': {'neighbors': True, 'hybridization': True, 'implicit_hydrogens': False, 'ring_sizes': False}, 'environment': {'neighbors': True, 'hybridization': False, 'implicit_hydrogens': False, 'ring_sizes': False}})"
      ]
     },
     "execution_count": 3,
     "metadata": {},
     "output_type": "execute_result"
    }
   ],
   "source": [
    "config"
   ]
  },
  {
   "cell_type": "code",
   "execution_count": null,
   "id": "b1c6cfbb-8da5-4c8f-85a0-602b8c8c3f8e",
   "metadata": {},
   "outputs": [],
   "source": [
    "extract_rules_from_reactions(\n",
    "    config=config,\n",
    "    reaction_file=\"filtered_data/clean_reactions_thesis.rdf\",\n",
    "    results_root=\"rules/\",\n",
    "    rules_file_name=\"rules_extended_new\",\n",
    "    num_cpus=6,\n",
    "    batch_size=100,\n",
    ")"
   ]
  }
 ],
 "metadata": {
  "kernelspec": {
   "display_name": "syntool_env",
   "language": "python",
   "name": "syntool_env"
  },
  "language_info": {
   "codemirror_mode": {
    "name": "ipython",
    "version": 3
   },
   "file_extension": ".py",
   "mimetype": "text/x-python",
   "name": "python",
   "nbconvert_exporter": "python",
   "pygments_lexer": "ipython3",
   "version": "3.11.6"
  }
 },
 "nbformat": 4,
 "nbformat_minor": 5
}
